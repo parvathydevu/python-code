{
 "cells": [
  {
   "cell_type": "code",
   "execution_count": 8,
   "id": "3a27d4d2-90bd-4bdf-983e-d21ca3658ef7",
   "metadata": {},
   "outputs": [],
   "source": [
    "#check a pattern in string-used re.match()\n",
    "import re\n",
    "string='misssipp'\n",
    "re.match(r'ss',string)"
   ]
  },
  {
   "cell_type": "code",
   "execution_count": null,
   "id": "50c98b1b-ee73-43ac-928d-56f8a61e8122",
   "metadata": {},
   "outputs": [],
   "source": [
    "# inorder to search\n",
    "search(pattern,string,flags=0)"
   ]
  },
  {
   "cell_type": "code",
   "execution_count": null,
   "id": "51c2e876-3304-4fc7-bfb2-4068890bdfc1",
   "metadata": {},
   "outputs": [],
   "source": [
    "#re.findall()\n",
    "re.findall()  ->findall(pattern,string[,flags])  #check all occurence of pattern in string, find index of that particular pattern\n",
    "#[strat index to end index]"
   ]
  },
  {
   "cell_type": "code",
   "execution_count": 9,
   "id": "324768a0-c4ce-444e-ba71-ceffa4ce8c4e",
   "metadata": {},
   "outputs": [],
   "source": [
    "import re"
   ]
  },
  {
   "cell_type": "code",
   "execution_count": 10,
   "id": "526badb4-9840-4f96-bf46-7282c4b9e0d7",
   "metadata": {},
   "outputs": [],
   "source": [
    "t=r'\\d+\\.?\\d*'  #Regular exp for identifying floating point numbers--  \\d means start number  , \\d ->end number  ,\\.?-floating point number, d* means more numbers after decimal"
   ]
  },
  {
   "cell_type": "code",
   "execution_count": 13,
   "id": "017923ba-0d50-4f3c-b019-b16f1bf4db7c",
   "metadata": {},
   "outputs": [
    {
     "data": {
      "text/plain": [
       "<re.Match object; span=(0, 2), match='12'>"
      ]
     },
     "execution_count": 13,
     "metadata": {},
     "output_type": "execute_result"
    }
   ],
   "source": [
    "re.match(t,\"12\")  #match first character or word in a string"
   ]
  },
  {
   "cell_type": "code",
   "execution_count": 14,
   "id": "08f971ce-39c7-45b0-a2de-f5372d3dc8b2",
   "metadata": {},
   "outputs": [],
   "source": [
    "text= \"12 Temperatures in TRV 32.5 and in BLR 32.0 degrees\""
   ]
  },
  {
   "cell_type": "code",
   "execution_count": 15,
   "id": "219a3ede-fc41-4e75-bcd0-2d9275c3d37a",
   "metadata": {},
   "outputs": [
    {
     "data": {
      "text/plain": [
       "<re.Match object; span=(0, 2), match='12'>"
      ]
     },
     "execution_count": 15,
     "metadata": {},
     "output_type": "execute_result"
    }
   ],
   "source": [
    "re.match(t,text)"
   ]
  },
  {
   "cell_type": "code",
   "execution_count": 16,
   "id": "6a6db039-2ba8-4ebd-ba09-d06acf98df0d",
   "metadata": {},
   "outputs": [
    {
     "data": {
      "text/plain": [
       "<re.Match object; span=(0, 2), match='12'>"
      ]
     },
     "execution_count": 16,
     "metadata": {},
     "output_type": "execute_result"
    }
   ],
   "source": [
    "re.search(t,text)  #search all words in that string"
   ]
  },
  {
   "cell_type": "code",
   "execution_count": 18,
   "id": "20cd53d3-088e-4d21-88fb-1f7d2d73e964",
   "metadata": {},
   "outputs": [
    {
     "data": {
      "text/plain": [
       "' 32'"
      ]
     },
     "execution_count": 18,
     "metadata": {},
     "output_type": "execute_result"
    }
   ],
   "source": [
    "text[22:25]"
   ]
  },
  {
   "cell_type": "code",
   "execution_count": 19,
   "id": "0c9135d1-ae24-4c08-a93f-093a975449ac",
   "metadata": {},
   "outputs": [
    {
     "data": {
      "text/plain": [
       "['12', '32.5', '32.0']"
      ]
     },
     "execution_count": 19,
     "metadata": {},
     "output_type": "execute_result"
    }
   ],
   "source": [
    "re.findall(t,text)  #find all integers, float numbers "
   ]
  },
  {
   "cell_type": "code",
   "execution_count": 20,
   "id": "dbbcf6ac-fcf9-40d4-a4c7-9863d41b0e5b",
   "metadata": {},
   "outputs": [
    {
     "data": {
      "text/plain": [
       "<callable_iterator at 0x21457ad07f0>"
      ]
     },
     "execution_count": 20,
     "metadata": {},
     "output_type": "execute_result"
    }
   ],
   "source": [
    "re.finditer(t,text)"
   ]
  },
  {
   "cell_type": "code",
   "execution_count": 21,
   "id": "f2f23ed4-ce51-4d59-8075-85c8018caae8",
   "metadata": {},
   "outputs": [
    {
     "name": "stdout",
     "output_type": "stream",
     "text": [
      "12  -> (0, 2)\n",
      "32.5  -> (23, 27)\n",
      "32.0  -> (39, 43)\n"
     ]
    }
   ],
   "source": [
    "for m in re.finditer(t,text):\n",
    "    print(m.group(),' ->', m.span())  #group->print values in string , span->print index of that values"
   ]
  },
  {
   "cell_type": "markdown",
   "id": "c8633fb5-a004-439d-be94-d807648f830d",
   "metadata": {},
   "source": [
    "# Substitution"
   ]
  },
  {
   "cell_type": "code",
   "execution_count": 24,
   "id": "0ea40ac2-1a00-4a6a-ae58-0654905c328b",
   "metadata": {},
   "outputs": [
    {
     "data": {
      "text/plain": [
       "'<floating point number> Temperatures in TRV <floating point number> and in BLR <floating point number> degrees'"
      ]
     },
     "execution_count": 24,
     "metadata": {},
     "output_type": "execute_result"
    }
   ],
   "source": [
    "re.sub(t, '<floating point number>',text)  #check whether that string contains floatin and replace those values into floating point number"
   ]
  },
  {
   "cell_type": "code",
   "execution_count": 25,
   "id": "26522103-3c4e-42a8-bcfe-49f7f85c7214",
   "metadata": {},
   "outputs": [
    {
     "data": {
      "text/plain": [
       "('<floating point number> Temperatures in TRV <floating point number> and in BLR <floating point number> degrees',\n",
       " 3)"
      ]
     },
     "execution_count": 25,
     "metadata": {},
     "output_type": "execute_result"
    }
   ],
   "source": [
    "re.subn(t, '<floating point number>',text)"
   ]
  },
  {
   "cell_type": "code",
   "execution_count": 26,
   "id": "11f0f063-d111-452a-bfc4-b313173a1680",
   "metadata": {},
   "outputs": [
    {
     "data": {
      "text/plain": [
       "['', ' Temperatures in TRV ', ' and in BLR ', ' degrees']"
      ]
     },
     "execution_count": 26,
     "metadata": {},
     "output_type": "execute_result"
    }
   ],
   "source": [
    "re.split(t,text)"
   ]
  },
  {
   "cell_type": "markdown",
   "id": "bc35d998-ad49-4c01-ab0a-d38759743f35",
   "metadata": {},
   "source": [
    "# Groups"
   ]
  },
  {
   "cell_type": "code",
   "execution_count": 28,
   "id": "3a9ad3eb-de9c-432c-ab20-91e04e46d017",
   "metadata": {},
   "outputs": [],
   "source": [
    "text= \"This line  ahs a 3.14567 floating point number \""
   ]
  },
  {
   "cell_type": "code",
   "execution_count": 48,
   "id": "d95c3d77-2f50-4997-93ad-2477291ef5d8",
   "metadata": {},
   "outputs": [],
   "source": [
    "t=r'(\\d+\\.?\\d*)'"
   ]
  },
  {
   "cell_type": "code",
   "execution_count": 49,
   "id": "d8c11731-cd28-476a-a8c6-333a50b29ed8",
   "metadata": {},
   "outputs": [],
   "source": [
    "m=re.search(t,text)"
   ]
  },
  {
   "cell_type": "code",
   "execution_count": 50,
   "id": "78a5fbf6-34e1-409b-b33e-bd7d2315e3c9",
   "metadata": {},
   "outputs": [
    {
     "data": {
      "text/plain": [
       "<re.Match object; span=(17, 24), match='3.14567'>"
      ]
     },
     "execution_count": 50,
     "metadata": {},
     "output_type": "execute_result"
    }
   ],
   "source": [
    "m"
   ]
  },
  {
   "cell_type": "code",
   "execution_count": 51,
   "id": "f58d07c5-d592-426f-9129-5d50a53bf791",
   "metadata": {},
   "outputs": [
    {
     "data": {
      "text/plain": [
       "'3.14567'"
      ]
     },
     "execution_count": 51,
     "metadata": {},
     "output_type": "execute_result"
    }
   ],
   "source": [
    "m.group()"
   ]
  },
  {
   "cell_type": "code",
   "execution_count": 52,
   "id": "f199b797-10a8-4d63-a339-fcb053a6fff4",
   "metadata": {},
   "outputs": [
    {
     "data": {
      "text/plain": [
       "(17, 24)"
      ]
     },
     "execution_count": 52,
     "metadata": {},
     "output_type": "execute_result"
    }
   ],
   "source": [
    "m.span()  #index number where that 3.14 567 mentioned"
   ]
  },
  {
   "cell_type": "code",
   "execution_count": 53,
   "id": "e574d71e-7118-48d3-95c3-94e85d5affb7",
   "metadata": {},
   "outputs": [
    {
     "data": {
      "text/plain": [
       "'3.14567'"
      ]
     },
     "execution_count": 53,
     "metadata": {},
     "output_type": "execute_result"
    }
   ],
   "source": [
    "m.group()"
   ]
  },
  {
   "cell_type": "code",
   "execution_count": 54,
   "id": "530bf5dc-d081-4a28-9717-9443d4f6c237",
   "metadata": {},
   "outputs": [
    {
     "data": {
      "text/plain": [
       "('3.14567',)"
      ]
     },
     "execution_count": 54,
     "metadata": {},
     "output_type": "execute_result"
    }
   ],
   "source": [
    "m.groups()"
   ]
  },
  {
   "cell_type": "code",
   "execution_count": 56,
   "id": "b70bd759-ee2f-4dbd-a77c-fb0bc31dad94",
   "metadata": {},
   "outputs": [
    {
     "data": {
      "text/plain": [
       "{}"
      ]
     },
     "execution_count": 56,
     "metadata": {},
     "output_type": "execute_result"
    }
   ],
   "source": [
    "m.groupdict()"
   ]
  },
  {
   "cell_type": "code",
   "execution_count": 1,
   "id": "58a0dae0-d728-48fc-abe2-4a0a9d716c01",
   "metadata": {},
   "outputs": [
    {
     "name": "stdin",
     "output_type": "stream",
     "text": [
      "Enter a positive integer:  6\n"
     ]
    },
    {
     "name": "stdout",
     "output_type": "stream",
     "text": [
      "Weird\n"
     ]
    }
   ],
   "source": [
    "def check_weird(n):\n",
    "    if n % 2 != 0:\n",
    "        print(\"Weird\")\n",
    "    elif n % 2 == 0 and 2 <= n <= 5:\n",
    "        print(\"Not Weird\")\n",
    "    elif n % 2 == 0 and 6 <= n <= 20:\n",
    "        print(\"Weird\")\n",
    "    elif n % 2 == 0 and n > 20:\n",
    "        print(\"Not Weird\")\n",
    "\n",
    "# Input\n",
    "n = int(input(\"Enter a positive integer: \"))\n",
    "check_weird(n)"
   ]
  },
  {
   "cell_type": "code",
   "execution_count": null,
   "id": "7af59449-7af5-4d5c-82ec-10a04924f078",
   "metadata": {},
   "outputs": [],
   "source": [
    "GROUP:group () , groups() and groupddict()\n",
    "1. group() -Returns the string matched by the regex.\n",
    "2. groups() - Returns a tuple containing all the subgroups of the match.\n",
    "3. groupdict()- Returns a dictionary containing all the named subgroups of the match."
   ]
  },
  {
   "cell_type": "code",
   "execution_count": null,
   "id": "53d04d99-c31c-41ef-b171-7aace8f89684",
   "metadata": {},
   "outputs": [],
   "source": []
  }
 ],
 "metadata": {
  "kernelspec": {
   "display_name": "Python 3 (ipykernel)",
   "language": "python",
   "name": "python3"
  },
  "language_info": {
   "codemirror_mode": {
    "name": "ipython",
    "version": 3
   },
   "file_extension": ".py",
   "mimetype": "text/x-python",
   "name": "python",
   "nbconvert_exporter": "python",
   "pygments_lexer": "ipython3",
   "version": "3.12.4"
  }
 },
 "nbformat": 4,
 "nbformat_minor": 5
}
