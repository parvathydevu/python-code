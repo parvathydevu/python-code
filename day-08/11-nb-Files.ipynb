{
 "cells": [
  {
   "cell_type": "markdown",
   "id": "42614986-98f8-4a5f-b5e5-7b38394ab7de",
   "metadata": {},
   "source": [
    "# Files"
   ]
  },
  {
   "cell_type": "code",
   "execution_count": 2,
   "id": "9eb1d1db-06d6-4b9e-8a92-2eae14b19ebd",
   "metadata": {},
   "outputs": [],
   "source": [
    "#File is basic commands and data"
   ]
  },
  {
   "cell_type": "code",
   "execution_count": 3,
   "id": "572ce49c-666b-4efe-b09c-9f8a1ed4bf90",
   "metadata": {},
   "outputs": [
    {
     "data": {
      "text/plain": [
       "'opening and closing a file using ->open() close()\\nModes= r,w,a,(b,..)\\nreading -> read(),readline(),readlines()\\nwriting -> write() ,writelines()\\nother functions-> seek(), tell()\\nattributes ->f.mode, f.name,f.closed, f.encoding, f.newlines'"
      ]
     },
     "execution_count": 3,
     "metadata": {},
     "output_type": "execute_result"
    }
   ],
   "source": [
    "'''opening and closing a file using ->open() close()\n",
    "Modes= r,w,a,(b,..)\n",
    "reading -> read(),readline(),readlines()\n",
    "writing -> write() ,writelines()\n",
    "other functions-> seek(), tell()\n",
    "attributes ->f.mode, f.name,f.closed, f.encoding, f.newlines'''\n"
   ]
  },
  {
   "cell_type": "markdown",
   "id": "057f3bc8-dcb0-44ee-8112-d57008ddc8f6",
   "metadata": {},
   "source": [
    "# Reading from a file"
   ]
  },
  {
   "cell_type": "code",
   "execution_count": 4,
   "id": "1f9e2ca7-098d-4762-9089-ad5fa97a55d1",
   "metadata": {},
   "outputs": [],
   "source": [
    "path =r\"C:\\Users\\237237\\Desktop\\anacondacode\\day-08\\sample.txt\""
   ]
  },
  {
   "cell_type": "code",
   "execution_count": 5,
   "id": "367f70da-51a7-43a4-bba7-3ca69ceee913",
   "metadata": {},
   "outputs": [],
   "source": [
    "f=open(path,'r')"
   ]
  },
  {
   "cell_type": "code",
   "execution_count": 6,
   "id": "4cd09633-c62f-4d22-90fb-d0803d33a053",
   "metadata": {},
   "outputs": [
    {
     "data": {
      "text/plain": [
       "'r'"
      ]
     },
     "execution_count": 6,
     "metadata": {},
     "output_type": "execute_result"
    }
   ],
   "source": [
    "f.mode"
   ]
  },
  {
   "cell_type": "code",
   "execution_count": 7,
   "id": "45ff4e62-6b26-4c7e-91f2-083108f85959",
   "metadata": {},
   "outputs": [
    {
     "data": {
      "text/plain": [
       "'cp1252'"
      ]
     },
     "execution_count": 7,
     "metadata": {},
     "output_type": "execute_result"
    }
   ],
   "source": [
    "f.encoding# Ascci ENCODING-- EVERY CHARACTER WILL HAVE CERTAIN CODE, binary code ,we can decode"
   ]
  },
  {
   "cell_type": "code",
   "execution_count": 8,
   "id": "7c8a8512-b447-4d21-9884-5c2105152598",
   "metadata": {},
   "outputs": [
    {
     "data": {
      "text/plain": [
       "'C:\\\\Users\\\\237237\\\\Desktop\\\\anacondacode\\\\day-08\\\\sample.txt'"
      ]
     },
     "execution_count": 8,
     "metadata": {},
     "output_type": "execute_result"
    }
   ],
   "source": [
    "f.name"
   ]
  },
  {
   "cell_type": "code",
   "execution_count": 9,
   "id": "1571b02d-4ad4-49d9-9fdc-5bb7b37f199d",
   "metadata": {},
   "outputs": [],
   "source": [
    "data=f.read()"
   ]
  },
  {
   "cell_type": "code",
   "execution_count": 10,
   "id": "994ac64b-ee68-40db-850e-f19d1b512f55",
   "metadata": {},
   "outputs": [
    {
     "name": "stdout",
     "output_type": "stream",
     "text": [
      "Song:     Believer \n",
      "Artist:    Kavya \n",
      "--: kkkk Python programming. This article will guide you through the process of printing Unicode \n",
      "\n"
     ]
    }
   ],
   "source": [
    "print(data)"
   ]
  },
  {
   "cell_type": "code",
   "execution_count": 11,
   "id": "971dd9a4-ea4c-4d37-8080-03a69799dd7d",
   "metadata": {},
   "outputs": [
    {
     "data": {
      "text/plain": [
       "''"
      ]
     },
     "execution_count": 11,
     "metadata": {},
     "output_type": "execute_result"
    }
   ],
   "source": [
    "d= f.readline()  #since we have already read it so it ended.read new line \n",
    "d"
   ]
  },
  {
   "cell_type": "code",
   "execution_count": 12,
   "id": "e5bc6f71-4a42-49fe-8fb1-9f1570850033",
   "metadata": {},
   "outputs": [
    {
     "data": {
      "text/plain": [
       "139"
      ]
     },
     "execution_count": 12,
     "metadata": {},
     "output_type": "execute_result"
    }
   ],
   "source": [
    "f.tell()  #length of peticular data in sample.txt.tell ->provide current poistion of pointer"
   ]
  },
  {
   "cell_type": "code",
   "execution_count": 12,
   "id": "3028d4a6-e697-4193-9c90-bdd7ee9c0831",
   "metadata": {},
   "outputs": [
    {
     "data": {
      "text/plain": [
       "136"
      ]
     },
     "execution_count": 12,
     "metadata": {},
     "output_type": "execute_result"
    }
   ],
   "source": [
    "len(data)"
   ]
  },
  {
   "cell_type": "code",
   "execution_count": 13,
   "id": "445fc6dc-24a9-43fe-9c32-00040afd8dbf",
   "metadata": {},
   "outputs": [
    {
     "data": {
      "text/plain": [
       "0"
      ]
     },
     "execution_count": 13,
     "metadata": {},
     "output_type": "execute_result"
    }
   ],
   "source": [
    "f.seek(0)  #go to beggining of data "
   ]
  },
  {
   "cell_type": "code",
   "execution_count": 14,
   "id": "d94c911a-bd9b-4113-8778-a28222351abc",
   "metadata": {},
   "outputs": [
    {
     "data": {
      "text/plain": [
       "'Song:     Believer \\n'"
      ]
     },
     "execution_count": 14,
     "metadata": {},
     "output_type": "execute_result"
    }
   ],
   "source": [
    "f.readline()"
   ]
  },
  {
   "cell_type": "code",
   "execution_count": 15,
   "id": "48193d31-8e7d-49d4-93a1-b2968f3274bc",
   "metadata": {},
   "outputs": [
    {
     "data": {
      "text/plain": [
       "'Artist:    Kavya \\n--: kkkk Python programming. This article will guide'"
      ]
     },
     "execution_count": 15,
     "metadata": {},
     "output_type": "execute_result"
    }
   ],
   "source": [
    "f.read(70)  #The number of bytes to read from a file sample.txt."
   ]
  },
  {
   "cell_type": "code",
   "execution_count": 16,
   "id": "359841e0-6274-42e7-a7bf-86ff71c77ebe",
   "metadata": {},
   "outputs": [
    {
     "data": {
      "text/plain": [
       "0"
      ]
     },
     "execution_count": 16,
     "metadata": {},
     "output_type": "execute_result"
    }
   ],
   "source": [
    "f.seek(0)"
   ]
  },
  {
   "cell_type": "code",
   "execution_count": 17,
   "id": "85abce33-3621-4ac2-9adf-1a95fa4cf064",
   "metadata": {},
   "outputs": [
    {
     "data": {
      "text/plain": [
       "'Song:     Believer \\n'"
      ]
     },
     "execution_count": 17,
     "metadata": {},
     "output_type": "execute_result"
    }
   ],
   "source": [
    "content= f.readline()  #all type of list operator\n",
    "content"
   ]
  },
  {
   "cell_type": "code",
   "execution_count": 18,
   "id": "8453887f-7c9c-4c5a-b652-5dea2bb3ab08",
   "metadata": {},
   "outputs": [
    {
     "data": {
      "text/plain": [
       "':     '"
      ]
     },
     "execution_count": 18,
     "metadata": {},
     "output_type": "execute_result"
    }
   ],
   "source": [
    "content[4:10]"
   ]
  },
  {
   "cell_type": "code",
   "execution_count": 19,
   "id": "aa872892-1fbf-4a15-9fd3-c0936a465f72",
   "metadata": {},
   "outputs": [],
   "source": [
    "f.close()"
   ]
  },
  {
   "cell_type": "markdown",
   "id": "6e1d1c09-fb8c-4cf0-9088-bbc152996962",
   "metadata": {},
   "source": [
    "# Write into a file"
   ]
  },
  {
   "cell_type": "code",
   "execution_count": 20,
   "id": "bb2aa434-f988-47da-a35b-39c6af320ce2",
   "metadata": {},
   "outputs": [],
   "source": [
    "path =r\"C:\\Users\\237237\\Desktop\\anacondacode\\day-08\\sample2.txt\""
   ]
  },
  {
   "cell_type": "code",
   "execution_count": 21,
   "id": "b919d8b9-c48f-483f-b8c2-83c9544879e0",
   "metadata": {},
   "outputs": [],
   "source": [
    "f= open(path,'w')#write into a file"
   ]
  },
  {
   "cell_type": "code",
   "execution_count": 22,
   "id": "0f5f63ab-acc4-431f-a397-eb3d3ed59fae",
   "metadata": {},
   "outputs": [
    {
     "data": {
      "text/plain": [
       "8"
      ]
     },
     "execution_count": 22,
     "metadata": {},
     "output_type": "execute_result"
    }
   ],
   "source": [
    "f.write(\"Song:     Believer \\n\")\n",
    "f.write(\"Artist:    Kavya \\n\")\n",
    "f.write (\"--: kkkk\")"
   ]
  },
  {
   "cell_type": "code",
   "execution_count": 23,
   "id": "a4483002-cfca-4598-a3fc-10067b917f5a",
   "metadata": {},
   "outputs": [],
   "source": [
    "f.close()"
   ]
  },
  {
   "cell_type": "code",
   "execution_count": 24,
   "id": "8545c062-978e-487f-a4d9-172ff7a82f71",
   "metadata": {},
   "outputs": [],
   "source": [
    "f=open (path,'a')  #append"
   ]
  },
  {
   "cell_type": "code",
   "execution_count": 25,
   "id": "f8974673-e85e-44da-985b-4f49071b9ec2",
   "metadata": {},
   "outputs": [],
   "source": [
    "f.writelines(content)"
   ]
  },
  {
   "cell_type": "code",
   "execution_count": 26,
   "id": "73b8a194-e404-4d36-8e0a-d8542dd8eeba",
   "metadata": {},
   "outputs": [],
   "source": [
    "f.close()"
   ]
  },
  {
   "cell_type": "markdown",
   "id": "5895b782-5c39-49c3-bfea-474b6d6820b4",
   "metadata": {},
   "source": [
    "# Exercise"
   ]
  },
  {
   "cell_type": "code",
   "execution_count": 27,
   "id": "3b211af4-1fae-4131-9519-c7ea2374b8b6",
   "metadata": {},
   "outputs": [],
   "source": [
    "#count how many times the word 'believer' occurs in text."
   ]
  },
  {
   "cell_type": "code",
   "execution_count": 28,
   "id": "3423c810-3236-4463-a463-aaa320404795",
   "metadata": {},
   "outputs": [
    {
     "data": {
      "text/plain": [
       "0"
      ]
     },
     "execution_count": 28,
     "metadata": {},
     "output_type": "execute_result"
    }
   ],
   "source": [
    "data.count('believer')"
   ]
  },
  {
   "cell_type": "code",
   "execution_count": 29,
   "id": "0bb7cd84-237a-4c1d-b1d9-fceec3fd3551",
   "metadata": {},
   "outputs": [],
   "source": [
    "path= r\"C:\\Users\\237237\\Desktop\\anacondacode\\day-08\\sample3.txt\"\n",
    "f=open(path)"
   ]
  },
  {
   "cell_type": "code",
   "execution_count": 30,
   "id": "29dcca20-8a14-4d76-ac22-57c5dc39d0f5",
   "metadata": {},
   "outputs": [
    {
     "data": {
      "text/plain": [
       "3"
      ]
     },
     "execution_count": 30,
     "metadata": {},
     "output_type": "execute_result"
    }
   ],
   "source": [
    "count=0\n",
    "while True:\n",
    "    d = f.readline()\n",
    "\n",
    "    if d == '':  #empty char\n",
    "        break\n",
    "    else:\n",
    "        count += d.count('believer')\n",
    "count"
   ]
  },
  {
   "cell_type": "code",
   "execution_count": 32,
   "id": "9d315755-56ee-4c20-822e-03a99d3ee9ed",
   "metadata": {},
   "outputs": [],
   "source": [
    "f.close()"
   ]
  },
  {
   "cell_type": "code",
   "execution_count": 33,
   "id": "ca43f52e-9ecf-44ac-bd8d-328ac1c89be1",
   "metadata": {},
   "outputs": [],
   "source": [
    "path =r\"C:\\Users\\237237\\Desktop\\anacondacode\\day-08\\sample3.txt\"\n",
    "f = open(path, 'a')\n",
    "f.write(\"\\n\\n\" + \"-\" * 80 + '\\n')\n",
    "f.write(f\"believer    : {count} \\n\")\n",
    "f.close()"
   ]
  },
  {
   "cell_type": "code",
   "execution_count": 34,
   "id": "785d3f91-1e40-4697-88fe-9b34109894b7",
   "metadata": {},
   "outputs": [
    {
     "data": {
      "text/plain": [
       "'--------------------------------------------------------------------------------'"
      ]
     },
     "execution_count": 34,
     "metadata": {},
     "output_type": "execute_result"
    }
   ],
   "source": [
    "\"-\" * 80"
   ]
  },
  {
   "cell_type": "code",
   "execution_count": null,
   "id": "98d18c8b-10e9-4015-8217-4aaa798f7d77",
   "metadata": {},
   "outputs": [],
   "source": []
  }
 ],
 "metadata": {
  "kernelspec": {
   "display_name": "Python 3 (ipykernel)",
   "language": "python",
   "name": "python3"
  },
  "language_info": {
   "codemirror_mode": {
    "name": "ipython",
    "version": 3
   },
   "file_extension": ".py",
   "mimetype": "text/x-python",
   "name": "python",
   "nbconvert_exporter": "python",
   "pygments_lexer": "ipython3",
   "version": "3.12.4"
  }
 },
 "nbformat": 4,
 "nbformat_minor": 5
}
