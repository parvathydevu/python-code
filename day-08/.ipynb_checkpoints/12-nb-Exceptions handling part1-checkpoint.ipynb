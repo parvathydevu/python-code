{
 "cells": [
  {
   "cell_type": "markdown",
   "id": "f404a984-27a9-474d-a3f1-8e30398d9116",
   "metadata": {},
   "source": [
    "# 12.1 Exception Handling\n"
   ]
  },
  {
   "cell_type": "code",
   "execution_count": 1,
   "id": "7c0e9b05-8aed-46bb-beda-037e9f45b1e8",
   "metadata": {},
   "outputs": [
    {
     "ename": "ZeroDivisionError",
     "evalue": "division by zero",
     "output_type": "error",
     "traceback": [
      "\u001b[1;31m---------------------------------------------------------------------------\u001b[0m",
      "\u001b[1;31mZeroDivisionError\u001b[0m                         Traceback (most recent call last)",
      "Cell \u001b[1;32mIn[1], line 1\u001b[0m\n\u001b[1;32m----> 1\u001b[0m \u001b[38;5;241m12\u001b[39m\u001b[38;5;241m/\u001b[39m\u001b[38;5;241m0\u001b[39m\n",
      "\u001b[1;31mZeroDivisionError\u001b[0m: division by zero"
     ]
    }
   ],
   "source": [
    "12/0"
   ]
  },
  {
   "cell_type": "code",
   "execution_count": null,
   "id": "ac7e53f6-59a5-4e81-bc14-7ec74866995d",
   "metadata": {},
   "outputs": [],
   "source": [
    "#this is zerodivision error"
   ]
  },
  {
   "cell_type": "code",
   "execution_count": 2,
   "id": "dc9c068d-a6c6-4360-9cbd-2f6ee0616d1f",
   "metadata": {},
   "outputs": [
    {
     "ename": "FileNotFoundError",
     "evalue": "[Errno 2] No such file or directory: 'xyz'",
     "output_type": "error",
     "traceback": [
      "\u001b[1;31m---------------------------------------------------------------------------\u001b[0m",
      "\u001b[1;31mFileNotFoundError\u001b[0m                         Traceback (most recent call last)",
      "Cell \u001b[1;32mIn[2], line 1\u001b[0m\n\u001b[1;32m----> 1\u001b[0m \u001b[38;5;28mopen\u001b[39m(\u001b[38;5;124m\"\u001b[39m\u001b[38;5;124mxyz\u001b[39m\u001b[38;5;124m\"\u001b[39m)\n",
      "File \u001b[1;32mC:\\ProgramData\\anaconda3\\Lib\\site-packages\\IPython\\core\\interactiveshell.py:324\u001b[0m, in \u001b[0;36m_modified_open\u001b[1;34m(file, *args, **kwargs)\u001b[0m\n\u001b[0;32m    317\u001b[0m \u001b[38;5;28;01mif\u001b[39;00m file \u001b[38;5;129;01min\u001b[39;00m {\u001b[38;5;241m0\u001b[39m, \u001b[38;5;241m1\u001b[39m, \u001b[38;5;241m2\u001b[39m}:\n\u001b[0;32m    318\u001b[0m     \u001b[38;5;28;01mraise\u001b[39;00m \u001b[38;5;167;01mValueError\u001b[39;00m(\n\u001b[0;32m    319\u001b[0m         \u001b[38;5;124mf\u001b[39m\u001b[38;5;124m\"\u001b[39m\u001b[38;5;124mIPython won\u001b[39m\u001b[38;5;124m'\u001b[39m\u001b[38;5;124mt let you open fd=\u001b[39m\u001b[38;5;132;01m{\u001b[39;00mfile\u001b[38;5;132;01m}\u001b[39;00m\u001b[38;5;124m by default \u001b[39m\u001b[38;5;124m\"\u001b[39m\n\u001b[0;32m    320\u001b[0m         \u001b[38;5;124m\"\u001b[39m\u001b[38;5;124mas it is likely to crash IPython. If you know what you are doing, \u001b[39m\u001b[38;5;124m\"\u001b[39m\n\u001b[0;32m    321\u001b[0m         \u001b[38;5;124m\"\u001b[39m\u001b[38;5;124myou can use builtins\u001b[39m\u001b[38;5;124m'\u001b[39m\u001b[38;5;124m open.\u001b[39m\u001b[38;5;124m\"\u001b[39m\n\u001b[0;32m    322\u001b[0m     )\n\u001b[1;32m--> 324\u001b[0m \u001b[38;5;28;01mreturn\u001b[39;00m io_open(file, \u001b[38;5;241m*\u001b[39margs, \u001b[38;5;241m*\u001b[39m\u001b[38;5;241m*\u001b[39mkwargs)\n",
      "\u001b[1;31mFileNotFoundError\u001b[0m: [Errno 2] No such file or directory: 'xyz'"
     ]
    }
   ],
   "source": [
    "open(\"xyz\")"
   ]
  },
  {
   "cell_type": "code",
   "execution_count": 3,
   "id": "84564245-fdcf-4573-8a79-c50303d0c567",
   "metadata": {},
   "outputs": [],
   "source": [
    "#this is filenotfounderror"
   ]
  },
  {
   "cell_type": "code",
   "execution_count": 4,
   "id": "6e5a3641-9330-4feb-b72f-ec283c877643",
   "metadata": {},
   "outputs": [
    {
     "ename": "KeyError",
     "evalue": "'name'",
     "output_type": "error",
     "traceback": [
      "\u001b[1;31m---------------------------------------------------------------------------\u001b[0m",
      "\u001b[1;31mKeyError\u001b[0m                                  Traceback (most recent call last)",
      "Cell \u001b[1;32mIn[4], line 2\u001b[0m\n\u001b[0;32m      1\u001b[0m D\u001b[38;5;241m=\u001b[39m{}\n\u001b[1;32m----> 2\u001b[0m D[\u001b[38;5;124m'\u001b[39m\u001b[38;5;124mname\u001b[39m\u001b[38;5;124m'\u001b[39m]\n",
      "\u001b[1;31mKeyError\u001b[0m: 'name'"
     ]
    }
   ],
   "source": [
    "D={}\n",
    "D['name']"
   ]
  },
  {
   "cell_type": "markdown",
   "id": "0763315c-cc16-4af7-80bb-5e58353744d4",
   "metadata": {},
   "source": [
    "# 14.2 Handling Execpetions"
   ]
  },
  {
   "cell_type": "code",
   "execution_count": null,
   "id": "21eaf46c-ac51-435d-9140-167e46c0a400",
   "metadata": {},
   "outputs": [],
   "source": [
    "#use try except block "
   ]
  },
  {
   "cell_type": "code",
   "execution_count": 12,
   "id": "6a3f9573-e1fd-4ae4-af5b-e76cf8077937",
   "metadata": {},
   "outputs": [
    {
     "name": "stdout",
     "output_type": "stream",
     "text": [
      "Exception occured!\n"
     ]
    }
   ],
   "source": [
    "try:\n",
    "    a=10\n",
    "    b=40\n",
    "    print(a/0)  #it will try to execute... if some error occures, it should break it and except block will execute later.\n",
    "except:   #exception is build in class \n",
    "    print(\"Exception occured!\")"
   ]
  },
  {
   "cell_type": "code",
   "execution_count": 11,
   "id": "94276de7-9888-4063-bbfc-959a6ce3fd5a",
   "metadata": {},
   "outputs": [
    {
     "name": "stdout",
     "output_type": "stream",
     "text": [
      "Exception occured!division by zero\n"
     ]
    }
   ],
   "source": [
    "try:\n",
    "    a=10\n",
    "    b=40\n",
    "    print(a/0)  #it will try to execute... if some error occures, it should break it and except block will execute later.\n",
    "except Exception as e:\n",
    "    print(f\"Exception occured!{e}\")  #it will not breaking or cannot see 'error message' in outcome(as same as like above), thats y we use try exceptblock"
   ]
  },
  {
   "cell_type": "code",
   "execution_count": 14,
   "id": "3b8d90bf-0160-4320-b84c-011a112d21de",
   "metadata": {},
   "outputs": [
    {
     "name": "stdout",
     "output_type": "stream",
     "text": [
      "Exception occured!division by zero\n",
      "Thanku\n"
     ]
    }
   ],
   "source": [
    "#with exception\n",
    "try:\n",
    "    a=10\n",
    "    b=40\n",
    "    print(a/0)  #it will try to execute... if some error occures, it should break it and except block will execute later.\n",
    "except Exception as e:\n",
    "    print(f\"Exception occured!{e}\")\n",
    "else:\n",
    "    print(\"completed opeations\")\n",
    "finally:  #this will execute whatever be the case\n",
    "    print(\"Thanku\")"
   ]
  },
  {
   "cell_type": "code",
   "execution_count": 28,
   "id": "f3f9054d-9edc-40b3-927c-e8f3a6da880a",
   "metadata": {},
   "outputs": [
    {
     "name": "stdout",
     "output_type": "stream",
     "text": [
      "0.25\n",
      "completed opeations\n",
      "Thanku\n"
     ]
    }
   ],
   "source": [
    "#without exception\n",
    "try:\n",
    "    a=10\n",
    "    b=40\n",
    "    print(a/b)  #it will try to execute.a/b\n",
    "except Exception as e:\n",
    "    print(f\"Exception occured!{e}\")\n",
    "else:\n",
    "    print(\"completed opeations\")\n",
    "finally:#this will execute whatever be the case\n",
    "    print(\"Thanku\")"
   ]
  },
  {
   "cell_type": "code",
   "execution_count": null,
   "id": "849e7e39-8db6-402f-9f6d-fa1c48a35f6f",
   "metadata": {},
   "outputs": [],
   "source": [
    "#above 2 code- 1)with exception-execute only finally not else statement..-> if error occures or except condition happens."
   ]
  },
  {
   "cell_type": "code",
   "execution_count": 22,
   "id": "20a7a697-7059-46da-8f8b-3f2e746084e8",
   "metadata": {},
   "outputs": [
    {
     "name": "stdout",
     "output_type": "stream",
     "text": [
      "0.25\n",
      "completed opeations\n",
      "Thanku\n"
     ]
    }
   ],
   "source": [
    "#without exception\n",
    "try:  #it will try to execute.a/b\n",
    "    a=10\n",
    "    b=40\n",
    "    print(a/b) \n",
    "    #open('x')\n",
    "   # D={}\n",
    "   # D['name'] \n",
    "except ZeroDivisonError:\n",
    "    print(\"Zero division Exception occured!\")  #specific handling when zerodivision error \n",
    "except ValueError:\n",
    "    print(\"value Error occured!\")\n",
    "except FileNotFoundError:\n",
    "    print(\"file does not exist\")\n",
    "except Exception as e:\n",
    "    print(f\"Exception occured!{e}\")\n",
    "else:\n",
    "    print(\"completed opeations\")\n",
    "finally:#this will execute whatever be the case\n",
    "    print(\"Thanku\")"
   ]
  },
  {
   "cell_type": "code",
   "execution_count": 27,
   "id": "a676ef6c-f3ec-4d8a-b5f1-63b5bba06716",
   "metadata": {},
   "outputs": [
    {
     "name": "stdout",
     "output_type": "stream",
     "text": [
      "0.25\n",
      "Thanku\n"
     ]
    },
    {
     "ename": "NameError",
     "evalue": "name 'ZeroDivisonError' is not defined",
     "output_type": "error",
     "traceback": [
      "\u001b[1;31m---------------------------------------------------------------------------\u001b[0m",
      "\u001b[1;31mFileNotFoundError\u001b[0m                         Traceback (most recent call last)",
      "Cell \u001b[1;32mIn[27], line 6\u001b[0m\n\u001b[0;32m      5\u001b[0m \u001b[38;5;28mprint\u001b[39m(a\u001b[38;5;241m/\u001b[39mb)  \u001b[38;5;66;03m#no error \u001b[39;00m\n\u001b[1;32m----> 6\u001b[0m \u001b[38;5;28mopen\u001b[39m(\u001b[38;5;124m'\u001b[39m\u001b[38;5;124mx\u001b[39m\u001b[38;5;124m'\u001b[39m)  \u001b[38;5;66;03m#error occures \u001b[39;00m\n\u001b[0;32m      7\u001b[0m D\u001b[38;5;241m=\u001b[39m{}\n",
      "File \u001b[1;32mC:\\ProgramData\\anaconda3\\Lib\\site-packages\\IPython\\core\\interactiveshell.py:324\u001b[0m, in \u001b[0;36m_modified_open\u001b[1;34m(file, *args, **kwargs)\u001b[0m\n\u001b[0;32m    318\u001b[0m     \u001b[38;5;28;01mraise\u001b[39;00m \u001b[38;5;167;01mValueError\u001b[39;00m(\n\u001b[0;32m    319\u001b[0m         \u001b[38;5;124mf\u001b[39m\u001b[38;5;124m\"\u001b[39m\u001b[38;5;124mIPython won\u001b[39m\u001b[38;5;124m'\u001b[39m\u001b[38;5;124mt let you open fd=\u001b[39m\u001b[38;5;132;01m{\u001b[39;00mfile\u001b[38;5;132;01m}\u001b[39;00m\u001b[38;5;124m by default \u001b[39m\u001b[38;5;124m\"\u001b[39m\n\u001b[0;32m    320\u001b[0m         \u001b[38;5;124m\"\u001b[39m\u001b[38;5;124mas it is likely to crash IPython. If you know what you are doing, \u001b[39m\u001b[38;5;124m\"\u001b[39m\n\u001b[0;32m    321\u001b[0m         \u001b[38;5;124m\"\u001b[39m\u001b[38;5;124myou can use builtins\u001b[39m\u001b[38;5;124m'\u001b[39m\u001b[38;5;124m open.\u001b[39m\u001b[38;5;124m\"\u001b[39m\n\u001b[0;32m    322\u001b[0m     )\n\u001b[1;32m--> 324\u001b[0m \u001b[38;5;28;01mreturn\u001b[39;00m io_open(file, \u001b[38;5;241m*\u001b[39margs, \u001b[38;5;241m*\u001b[39m\u001b[38;5;241m*\u001b[39mkwargs)\n",
      "\u001b[1;31mFileNotFoundError\u001b[0m: [Errno 2] No such file or directory: 'x'",
      "\nDuring handling of the above exception, another exception occurred:\n",
      "\u001b[1;31mNameError\u001b[0m                                 Traceback (most recent call last)",
      "Cell \u001b[1;32mIn[27], line 9\u001b[0m\n\u001b[0;32m      7\u001b[0m     D\u001b[38;5;241m=\u001b[39m{}\n\u001b[0;32m      8\u001b[0m     \u001b[38;5;28mprint\u001b[39m(D[\u001b[38;5;124m'\u001b[39m\u001b[38;5;124mname\u001b[39m\u001b[38;5;124m'\u001b[39m])  \u001b[38;5;66;03m#error occures\u001b[39;00m\n\u001b[1;32m----> 9\u001b[0m \u001b[38;5;28;01mexcept\u001b[39;00m ZeroDivisonError:\n\u001b[0;32m     10\u001b[0m     \u001b[38;5;28mprint\u001b[39m(\u001b[38;5;124m\"\u001b[39m\u001b[38;5;124mdo not divide by zero\u001b[39m\u001b[38;5;124m\"\u001b[39m)  \u001b[38;5;66;03m#specific handling when zerodivision error \u001b[39;00m\n\u001b[0;32m     11\u001b[0m \u001b[38;5;28;01mexcept\u001b[39;00m \u001b[38;5;167;01mValueError\u001b[39;00m:\n",
      "\u001b[1;31mNameError\u001b[0m: name 'ZeroDivisonError' is not defined"
     ]
    }
   ],
   "source": [
    "#with exception\n",
    "try:  #it will try to execute.a/b\n",
    "    a=10\n",
    "    b=40\n",
    "    print(a/b)  #no error \n",
    "    open('x')  #error occures \n",
    "    D={}\n",
    "    print(D['name'])  #error occures\n",
    "except ZeroDivisonError:\n",
    "    print(\"do not divide by zero\")  #specific handling when zerodivision error \n",
    "except ValueError:\n",
    "    print(\"value Error occured!\")\n",
    "except FileNotFoundError:\n",
    "    print(\"file does not exist\")\n",
    "except Exception as e:  #if we cannot get these error, it will print thise block\n",
    "    print(f\"Exception occured!{e}\")\n",
    "else:\n",
    "    print(\"completed opeations\")\n",
    "finally:#this will execute whatever be the case\n",
    "    print(\"Thanku\")"
   ]
  },
  {
   "cell_type": "markdown",
   "id": "0da0df76-30f1-4f67-a10d-d6c74ac117ed",
   "metadata": {},
   "source": [
    "# Assertion "
   ]
  },
  {
   "cell_type": "code",
   "execution_count": 57,
   "id": "8be2388d-5b58-4ef5-b3b2-31298cffa3b5",
   "metadata": {},
   "outputs": [
    {
     "name": "stdout",
     "output_type": "stream",
     "text": [
      "some other exception occured \n",
      "Thanku\n"
     ]
    }
   ],
   "source": [
    "try:\n",
    "    a=10\n",
    "    b=40\n",
    "    assert(a+b<30)  #it will try to execute.except\n",
    "except Exception as e:\n",
    "    print(\"some other exception occured\",e)\n",
    "else:\n",
    "    print(\"completed opeations\")\n",
    "finally:#this will execute whatever be the case\n",
    "    print(\"Thanku\")"
   ]
  },
  {
   "cell_type": "markdown",
   "id": "43970a9b-c10a-49b5-9054-6443b86b0688",
   "metadata": {},
   "source": [
    "# Practical usage example"
   ]
  },
  {
   "cell_type": "code",
   "execution_count": 31,
   "id": "8517d600-e91c-4be1-bc54-221ffa08ed8d",
   "metadata": {},
   "outputs": [],
   "source": [
    "#raise an exception"
   ]
  },
  {
   "cell_type": "code",
   "execution_count": 33,
   "id": "61832875-0297-43e9-b05e-03e6f3f6ab37",
   "metadata": {},
   "outputs": [],
   "source": [
    "def div(a,b):\n",
    "    if (b==0):\n",
    "        raise ZeroDivisionError\n",
    "    else:\n",
    "        return a/b"
   ]
  },
  {
   "cell_type": "code",
   "execution_count": 34,
   "id": "3a69ad27-13a0-4df4-8c87-0fafd293e46f",
   "metadata": {},
   "outputs": [
    {
     "name": "stdout",
     "output_type": "stream",
     "text": [
      "1.6666666666666667\n"
     ]
    }
   ],
   "source": [
    "try:\n",
    "    print(div(5,3))\n",
    "except:\n",
    "    print('error')"
   ]
  },
  {
   "cell_type": "code",
   "execution_count": 35,
   "id": "66ae59e4-3d65-4f6a-be3f-2c24ccec7896",
   "metadata": {},
   "outputs": [
    {
     "name": "stdout",
     "output_type": "stream",
     "text": [
      "0.0\n"
     ]
    }
   ],
   "source": [
    "try:\n",
    "    print(div(0,3))\n",
    "except:\n",
    "    print('error')"
   ]
  },
  {
   "cell_type": "code",
   "execution_count": 36,
   "id": "66f60e8e-5a44-4462-852b-878e86642599",
   "metadata": {},
   "outputs": [
    {
     "name": "stdout",
     "output_type": "stream",
     "text": [
      "error\n"
     ]
    }
   ],
   "source": [
    "try:\n",
    "    print(div(3,0))\n",
    "except:\n",
    "    print('error')"
   ]
  },
  {
   "cell_type": "code",
   "execution_count": 37,
   "id": "c9103008-309d-4437-bc9f-e7818fb78b15",
   "metadata": {},
   "outputs": [
    {
     "name": "stdout",
     "output_type": "stream",
     "text": [
      "error\n"
     ]
    }
   ],
   "source": [
    "try:\n",
    "    print(div(3,0))\n",
    "except Exception as e:  #to protect your function y used\n",
    "    print(f'error{e}')"
   ]
  },
  {
   "cell_type": "markdown",
   "id": "60472764-4f32-414e-bcc3-2cd2b2027822",
   "metadata": {},
   "source": [
    "# Create nfactorial(n) which raises an exception if the input value is less than 0, test it."
   ]
  },
  {
   "cell_type": "code",
   "execution_count": 54,
   "id": "72d3b218-7897-4786-bd5e-31cf053c211d",
   "metadata": {},
   "outputs": [
    {
     "name": "stdin",
     "output_type": "stream",
     "text": [
      "Enter a number:  -2\n"
     ]
    },
    {
     "ename": "ValueError",
     "evalue": "Input value must greater tha 0",
     "output_type": "error",
     "traceback": [
      "\u001b[1;31m---------------------------------------------------------------------------\u001b[0m",
      "\u001b[1;31mValueError\u001b[0m                                Traceback (most recent call last)",
      "Cell \u001b[1;32mIn[54], line 11\u001b[0m\n\u001b[0;32m      8\u001b[0m         \u001b[38;5;28;01mreturn\u001b[39;00m n\u001b[38;5;241m*\u001b[39mfact(n\u001b[38;5;241m-\u001b[39m\u001b[38;5;241m1\u001b[39m)\n\u001b[0;32m     10\u001b[0m n\u001b[38;5;241m=\u001b[39m\u001b[38;5;28mint\u001b[39m(\u001b[38;5;28minput\u001b[39m(\u001b[38;5;124m\"\u001b[39m\u001b[38;5;124mEnter a number: \u001b[39m\u001b[38;5;124m\"\u001b[39m))\n\u001b[1;32m---> 11\u001b[0m \u001b[38;5;28mprint\u001b[39m(fact(n))\n",
      "Cell \u001b[1;32mIn[54], line 4\u001b[0m, in \u001b[0;36mfact\u001b[1;34m(n)\u001b[0m\n\u001b[0;32m      2\u001b[0m \u001b[38;5;28;01mdef\u001b[39;00m \u001b[38;5;21mfact\u001b[39m(n):\n\u001b[0;32m      3\u001b[0m     \u001b[38;5;28;01mif\u001b[39;00m n\u001b[38;5;241m<\u001b[39m\u001b[38;5;241m0\u001b[39m:\n\u001b[1;32m----> 4\u001b[0m         \u001b[38;5;28;01mraise\u001b[39;00m \u001b[38;5;167;01mValueError\u001b[39;00m (\u001b[38;5;124m\"\u001b[39m\u001b[38;5;124mInput value must greater tha 0\u001b[39m\u001b[38;5;124m\"\u001b[39m)\n\u001b[0;32m      5\u001b[0m     \u001b[38;5;28;01melif\u001b[39;00m n\u001b[38;5;241m==\u001b[39m\u001b[38;5;241m0\u001b[39m \u001b[38;5;129;01mor\u001b[39;00m n\u001b[38;5;241m==\u001b[39m\u001b[38;5;241m1\u001b[39m:\n\u001b[0;32m      6\u001b[0m         \u001b[38;5;28;01mreturn\u001b[39;00m \u001b[38;5;241m1\u001b[39m\n",
      "\u001b[1;31mValueError\u001b[0m: Input value must greater tha 0"
     ]
    }
   ],
   "source": [
    "# 2!=2*1, 5!=5*4*3*2*1 ->factorial\n",
    "def fact(n):\n",
    "    if n<0:\n",
    "        raise ValueError (\"Input value must greater tha 0\")\n",
    "    elif n==0 or n==1:\n",
    "        return 1\n",
    "    else:\n",
    "        return n*fact(n-1)\n",
    "\n",
    "n=int(input(\"Enter a number: \"))\n",
    "print(fact(n))                    "
   ]
  },
  {
   "cell_type": "code",
   "execution_count": 56,
   "id": "339c77eb-e467-4241-a5eb-d8483e5a9d83",
   "metadata": {},
   "outputs": [
    {
     "name": "stdin",
     "output_type": "stream",
     "text": [
      "Enter a number:  5\n"
     ]
    },
    {
     "name": "stdout",
     "output_type": "stream",
     "text": [
      "120\n"
     ]
    }
   ],
   "source": [
    "def fact(n):\n",
    "    if n<0:\n",
    "        raise ValueError(\"Input value must greater tha 0\")\n",
    "    elif n==0 or n==1:\n",
    "        return 1\n",
    "    else:\n",
    "        return n*fact(n-1)\n",
    "\n",
    "n=int(input(\"Enter a number: \"))\n",
    "print(fact(n)) "
   ]
  },
  {
   "cell_type": "markdown",
   "id": "6a7a3c7e-b92c-40c5-a89e-ebd1a75e1e11",
   "metadata": {},
   "source": [
    "# Upgrade the getSpan(s, ss) function to raise an exception if ss = '' or s = '', test it'''"
   ]
  },
  {
   "cell_type": "code",
   "execution_count": 53,
   "id": "272fa44d-fe6d-4b94-81bb-8a44e0ae7b64",
   "metadata": {},
   "outputs": [
    {
     "ename": "ValueError",
     "evalue": "Input strings must not be empty",
     "output_type": "error",
     "traceback": [
      "\u001b[1;31m---------------------------------------------------------------------------\u001b[0m",
      "\u001b[1;31mValueError\u001b[0m                                Traceback (most recent call last)",
      "Cell \u001b[1;32mIn[53], line 23\u001b[0m\n\u001b[0;32m     20\u001b[0m r \u001b[38;5;241m=\u001b[39m \u001b[38;5;124m'\u001b[39m\u001b[38;5;124m'\u001b[39m \u001b[38;5;66;03m#not given the sub string \u001b[39;00m\n\u001b[0;32m     22\u001b[0m \u001b[38;5;66;03m# Output\u001b[39;00m\n\u001b[1;32m---> 23\u001b[0m count, spans \u001b[38;5;241m=\u001b[39m getspan(s, r)\n\u001b[0;32m     24\u001b[0m \u001b[38;5;28mprint\u001b[39m(\u001b[38;5;124mf\u001b[39m\u001b[38;5;124m\"\u001b[39m\u001b[38;5;124mNumber of occurrences of \u001b[39m\u001b[38;5;124m'\u001b[39m\u001b[38;5;132;01m{\u001b[39;00mr\u001b[38;5;132;01m}\u001b[39;00m\u001b[38;5;124m'\u001b[39m\u001b[38;5;124m in \u001b[39m\u001b[38;5;124m'\u001b[39m\u001b[38;5;132;01m{\u001b[39;00ms\u001b[38;5;132;01m}\u001b[39;00m\u001b[38;5;124m'\u001b[39m\u001b[38;5;124m: \u001b[39m\u001b[38;5;132;01m{\u001b[39;00mcount\u001b[38;5;132;01m}\u001b[39;00m\u001b[38;5;124m\"\u001b[39m)\n\u001b[0;32m     25\u001b[0m \u001b[38;5;28mprint\u001b[39m(\u001b[38;5;124mf\u001b[39m\u001b[38;5;124m\"\u001b[39m\u001b[38;5;124mSpans of \u001b[39m\u001b[38;5;124m'\u001b[39m\u001b[38;5;132;01m{\u001b[39;00mr\u001b[38;5;132;01m}\u001b[39;00m\u001b[38;5;124m'\u001b[39m\u001b[38;5;124m in \u001b[39m\u001b[38;5;124m'\u001b[39m\u001b[38;5;132;01m{\u001b[39;00ms\u001b[38;5;132;01m}\u001b[39;00m\u001b[38;5;124m'\u001b[39m\u001b[38;5;124m: \u001b[39m\u001b[38;5;132;01m{\u001b[39;00mspans\u001b[38;5;132;01m}\u001b[39;00m\u001b[38;5;124m\"\u001b[39m)\n",
      "Cell \u001b[1;32mIn[53], line 3\u001b[0m, in \u001b[0;36mgetspan\u001b[1;34m(s, r)\u001b[0m\n\u001b[0;32m      1\u001b[0m \u001b[38;5;28;01mdef\u001b[39;00m \u001b[38;5;21mgetspan\u001b[39m(s, r):\n\u001b[0;32m      2\u001b[0m     \u001b[38;5;28;01mif\u001b[39;00m s\u001b[38;5;241m==\u001b[39m\u001b[38;5;124m'\u001b[39m\u001b[38;5;124m'\u001b[39m\u001b[38;5;129;01mor\u001b[39;00m r\u001b[38;5;241m==\u001b[39m\u001b[38;5;124m'\u001b[39m\u001b[38;5;124m'\u001b[39m:\n\u001b[1;32m----> 3\u001b[0m         \u001b[38;5;28;01mraise\u001b[39;00m \u001b[38;5;167;01mValueError\u001b[39;00m(\u001b[38;5;124m\"\u001b[39m\u001b[38;5;124mInput strings must not be empty\u001b[39m\u001b[38;5;124m\"\u001b[39m) \n\u001b[0;32m      5\u001b[0m     count \u001b[38;5;241m=\u001b[39m \u001b[38;5;241m0\u001b[39m\n\u001b[0;32m      6\u001b[0m     spans \u001b[38;5;241m=\u001b[39m []\n",
      "\u001b[1;31mValueError\u001b[0m: Input strings must not be empty"
     ]
    }
   ],
   "source": [
    "def getspan(s, r):\n",
    "    if s==''or r=='':\n",
    "        raise ValueError(\"Input strings must not be empty\") \n",
    "    \n",
    "    count = 0\n",
    "    spans = []\n",
    "    start = 0\n",
    "    while True:\n",
    "        start = s.find(r, start)\n",
    "        if start == -1:\n",
    "            break\n",
    "        end = start + len(r)\n",
    "        spans.append((start, end))\n",
    "        count += 1\n",
    "        start += 1  # Move to the next character to find subsequent occurrences\n",
    "    return count, spans\n",
    "\n",
    "# Input\n",
    "s = 'mississippi'\n",
    "r = '' #not given the sub string \n",
    "\n",
    "# Output\n",
    "count, spans = getspan(s, r)\n",
    "print(f\"Number of occurrences of '{r}' in '{s}': {count}\")\n",
    "print(f\"Spans of '{r}' in '{s}': {spans}\")\n",
    "print(f\"({count},{spans})\")"
   ]
  },
  {
   "cell_type": "code",
   "execution_count": null,
   "id": "a6734819-dc09-4939-a95d-5e592eb82bd4",
   "metadata": {},
   "outputs": [],
   "source": []
  }
 ],
 "metadata": {
  "kernelspec": {
   "display_name": "Python 3 (ipykernel)",
   "language": "python",
   "name": "python3"
  },
  "language_info": {
   "codemirror_mode": {
    "name": "ipython",
    "version": 3
   },
   "file_extension": ".py",
   "mimetype": "text/x-python",
   "name": "python",
   "nbconvert_exporter": "python",
   "pygments_lexer": "ipython3",
   "version": "3.12.4"
  }
 },
 "nbformat": 4,
 "nbformat_minor": 5
}
