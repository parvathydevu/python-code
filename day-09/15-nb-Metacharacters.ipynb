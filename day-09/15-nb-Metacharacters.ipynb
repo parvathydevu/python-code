{
 "cells": [
  {
   "cell_type": "markdown",
   "id": "f6444bd8-2fa7-4a50-8716-fa75f976d022",
   "metadata": {},
   "source": [
    "# Metacharacters"
   ]
  },
  {
   "cell_type": "code",
   "execution_count": 9,
   "id": "3d31d318-6f3a-471f-983f-0c335a5f38dd",
   "metadata": {},
   "outputs": [
    {
     "name": "stdout",
     "output_type": "stream",
     "text": [
      "abc matched in 'abc'\n",
      "abc matched in 'abc ab'\n"
     ]
    }
   ],
   "source": [
    "# regex_experiments.py\n",
    "import re\n",
    "data = ['ab', 'abc', 'a5e', 'a6f', '123 a6c', 'a5b', 'a55b', 'a555b', 'a5555b',\n",
    "\n",
    "        'a55555b', 'a555555b', 'a5xb', '1/4', '3+2=5', 'def ghi', 'abc ab']\n",
    "\n",
    "for item in data: #item -ab  #a.b -dot means any character, Re is  a text pattern-we dont have programating var, so 'r.a.c' put raw string in all Re code\n",
    "    m = re.match(r'a.c', item)  #('a.c' means three character pattern start with 'a' and end with 'c' between any character).r-raw string\n",
    "    if m:\n",
    "        print (m.group() + ' matched in ' + '\\'' + item + '\\'')  #It take m= 'abc', '123 a6c'->a6c, abc ab-- choose or group it"
   ]
  },
  {
   "cell_type": "code",
   "execution_count": 11,
   "id": "8d2bf263-1250-40f4-a336-b000f8f48dd6",
   "metadata": {},
   "outputs": [
    {
     "name": "stdout",
     "output_type": "stream",
     "text": [
      "abc matched in 'abc'\n",
      "a5e matched in 'a5e'\n",
      "a6f matched in 'a6f'\n",
      "a6c matched in '123 a6c'\n",
      "a5b matched in 'a5b'\n",
      "a55 matched in 'a55b'\n",
      "a55 matched in 'a555b'\n",
      "a55 matched in 'a5555b'\n",
      "a55 matched in 'a55555b'\n",
      "a55 matched in 'a555555b'\n",
      "a5x matched in 'a5xb'\n",
      "abc matched in 'abc ab'\n"
     ]
    }
   ],
   "source": [
    "#any three char start with a \n",
    "for item in data: #item -ab  #a.b -dot means any character, Re is  a text pattern-we dont have programating var, so 'r.a.c' put raw string in all Re code\n",
    "    m = re.search(r'a..', item)  #('a..' means three character pattern start with 'a'..dot means any 2 characters in end).r-raw string\n",
    "    if m:\n",
    "        print (m.group() + ' matched in ' + '\\'' + item + '\\'')  #It take m= 'abc', '123 a6c'->a6c, abc ab-- choose or group it"
   ]
  },
  {
   "cell_type": "code",
   "execution_count": 16,
   "id": "00f3798c-40d4-4ac9-a8c3-e71359b8bbfb",
   "metadata": {},
   "outputs": [
    {
     "name": "stdout",
     "output_type": "stream",
     "text": [
      "abc matched in 'abc'\n",
      "a6f matched in 'a6f'\n",
      "a6c matched in '123 a6c'\n",
      "a5b matched in 'a5b'\n",
      "abc matched in 'abc ab'\n"
     ]
    }
   ],
   "source": [
    "#any three char start with a b followed by any charcater  folowed by on  of b,c or f\n",
    "for item in data: #item -ab  #a.b -dot means any character, Re is  a text pattern-we dont have programating var, so 'r.a.c' put raw string in all Re code\n",
    "    m = re.search(r'a.[bcf]',item) #item [] any one of the character prvide-b/c/f\n",
    "    if m:\n",
    "        print (m.group() + ' matched in ' + '\\'' + item + '\\'')  #It take m= 'abc', '123 a6c'->a6c, abc ab-- choose or group it"
   ]
  },
  {
   "cell_type": "code",
   "execution_count": 20,
   "id": "2b24157d-aa4e-4f59-9612-9cfe2f636226",
   "metadata": {},
   "outputs": [
    {
     "name": "stdout",
     "output_type": "stream",
     "text": [
      "a5e matched in 'a5e'\n",
      "a6f matched in 'a6f'\n",
      "a5b matched in 'a5b'\n",
      "a5x matched in 'a5xb'\n"
     ]
    }
   ],
   "source": [
    "#[abd-z]except c match all small characters d-z--> d to z\n",
    "for item in data:\n",
    "    m = re.search(r'a.[abd-z]',item) #abd-z-> start a between a,b,d, (dto z) check and 0 to 9 (default check)\n",
    "    if m:\n",
    "        print (m.group() + ' matched in ' + '\\'' + item + '\\'') "
   ]
  },
  {
   "cell_type": "code",
   "execution_count": 23,
   "id": "11c8cfd0-ba1f-4aca-941c-ce44edde5350",
   "metadata": {},
   "outputs": [
    {
     "name": "stdout",
     "output_type": "stream",
     "text": [
      "a5e matched in 'a5e'\n",
      "a5b matched in 'a5b'\n",
      "a55 matched in 'a55b'\n",
      "a55 matched in 'a555b'\n",
      "a55 matched in 'a5555b'\n",
      "a55 matched in 'a55555b'\n",
      "a55 matched in 'a555555b'\n",
      "a5x matched in 'a5xb'\n"
     ]
    }
   ],
   "source": [
    "for item in data:\n",
    "    m = re.search(r'a[0-9][^cf]', item) #abd-z-> start a and 0 to 9-three char except 'cf' not acf;;\n",
    "    if m:\n",
    "        print (m.group() + ' matched in ' + '\\'' + item + '\\'') "
   ]
  },
  {
   "cell_type": "code",
   "execution_count": 27,
   "id": "48ddc625-7792-4bd2-b16c-1fffa9557f0e",
   "metadata": {},
   "outputs": [],
   "source": [
    "#exctract data='3+2'\n",
    "for item in data:\n",
    "    m=re.search(r'3+2',item)  #\n",
    "    if m:\n",
    "        print (m.group() + ' matched in ' + '\\'' + item + '\\'')"
   ]
  },
  {
   "cell_type": "code",
   "execution_count": null,
   "id": "d1d69918-5030-40fb-90de-175430b03b8a",
   "metadata": {},
   "outputs": [],
   "source": [
    "#no ouput-- _has a special menaing in re"
   ]
  },
  {
   "cell_type": "code",
   "execution_count": 29,
   "id": "b2f94f63-4a43-42c8-ac00-807035afe623",
   "metadata": {},
   "outputs": [
    {
     "name": "stdout",
     "output_type": "stream",
     "text": [
      "3+2 matched in '3+2=5'\n"
     ]
    }
   ],
   "source": [
    "#exctract data='3+2'\n",
    "for item in data:\n",
    "    m=re.search(r'3\\+2',item)  #\n",
    "    if m:\n",
    "        print (m.group() + ' matched in ' + '\\'' + item + '\\'')"
   ]
  },
  {
   "cell_type": "code",
   "execution_count": null,
   "id": "0cb5d938-c36a-48ba-b84c-22287e9a8580",
   "metadata": {},
   "outputs": [],
   "source": [
    "#we need to add \\ in  INFRONT OF SPECIAL CHAR  ---\\+  ,\\- ,\\* "
   ]
  },
  {
   "cell_type": "code",
   "execution_count": 30,
   "id": "dc569949-bafc-4a2f-b40e-f0daf4673035",
   "metadata": {},
   "outputs": [
    {
     "name": "stdout",
     "output_type": "stream",
     "text": [
      "3+2 matched in '3+2=5'\n"
     ]
    }
   ],
   "source": [
    "for item in data:\n",
    "    m=re.search(r'[0-9]\\+[0-9]',item)  #\n",
    "    if m:\n",
    "        print (m.group() + ' matched in ' + '\\'' + item + '\\'')"
   ]
  },
  {
   "cell_type": "code",
   "execution_count": 33,
   "id": "b94dd582-5dca-48f8-bd7c-55f55de943e1",
   "metadata": {},
   "outputs": [
    {
     "name": "stdout",
     "output_type": "stream",
     "text": [
      "abc matched in 'abc'\n",
      "a6c matched in '123 a6c'\n",
      "3+2 matched in '3+2=5'\n",
      "abc matched in 'abc ab'\n"
     ]
    }
   ],
   "source": [
    "#use pipe symbol | considering  two or more regular expression->  multiple pattern to be matched alternatively.\n",
    "for item in data:\n",
    "    m=re.search(r'[0-9]\\+[0-9]|a.c',item)  #3 character match ,group two conditions, multiple pattern to be matched alternatively.\n",
    "    if m:\n",
    "        print (m.group() + ' matched in ' + '\\'' + item + '\\'')"
   ]
  },
  {
   "cell_type": "code",
   "execution_count": null,
   "id": "79498e79-ae30-4650-bd7c-90c7f0247288",
   "metadata": {},
   "outputs": [],
   "source": []
  }
 ],
 "metadata": {
  "kernelspec": {
   "display_name": "Python 3 (ipykernel)",
   "language": "python",
   "name": "python3"
  },
  "language_info": {
   "codemirror_mode": {
    "name": "ipython",
    "version": 3
   },
   "file_extension": ".py",
   "mimetype": "text/x-python",
   "name": "python",
   "nbconvert_exporter": "python",
   "pygments_lexer": "ipython3",
   "version": "3.12.4"
  }
 },
 "nbformat": 4,
 "nbformat_minor": 5
}
