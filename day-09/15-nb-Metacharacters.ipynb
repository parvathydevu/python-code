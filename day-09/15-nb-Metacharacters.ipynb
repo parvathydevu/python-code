{
 "cells": [
  {
   "cell_type": "markdown",
   "id": "f6444bd8-2fa7-4a50-8716-fa75f976d022",
   "metadata": {},
   "source": [
    "# Metacharacters"
   ]
  },
  {
   "cell_type": "code",
   "execution_count": 1,
   "id": "3d31d318-6f3a-471f-983f-0c335a5f38dd",
   "metadata": {},
   "outputs": [
    {
     "name": "stdout",
     "output_type": "stream",
     "text": [
      "abc matched in 'abc'\n",
      "abc matched in 'abc ab'\n"
     ]
    }
   ],
   "source": [
    "# regex_experiments.py\n",
    "import re\n",
    "data = ['ab', 'abc', 'a5e', 'a6f', '123 a6c', 'a5b', 'a55b', 'a555b', 'a5555b',\n",
    "\n",
    "        'a55555b', 'a555555b', 'a5xb', '1/4', '3+2=5', 'def ghi', 'abc ab']\n",
    "\n",
    "for item in data: #item -ab  #a.b -dot means any character, Re is  a text pattern-we dont have programating var, so 'r.a.c' put raw string in all Re code\n",
    "    m = re.match(r'a.c', item)  #('a.c' means three character pattern start with 'a' and end with 'c' between any character).r-raw string\n",
    "    if m:\n",
    "        print (m.group() + ' matched in ' + '\\'' + item + '\\'')  #It take m= 'abc', '123 a6c'->a6c, abc ab-- choose or group it"
   ]
  },
  {
   "cell_type": "code",
   "execution_count": 2,
   "id": "8d2bf263-1250-40f4-a336-b000f8f48dd6",
   "metadata": {},
   "outputs": [
    {
     "name": "stdout",
     "output_type": "stream",
     "text": [
      "abc matched in 'abc'\n",
      "a5e matched in 'a5e'\n",
      "a6f matched in 'a6f'\n",
      "a6c matched in '123 a6c'\n",
      "a5b matched in 'a5b'\n",
      "a55 matched in 'a55b'\n",
      "a55 matched in 'a555b'\n",
      "a55 matched in 'a5555b'\n",
      "a55 matched in 'a55555b'\n",
      "a55 matched in 'a555555b'\n",
      "a5x matched in 'a5xb'\n",
      "abc matched in 'abc ab'\n"
     ]
    }
   ],
   "source": [
    "#any three char start with a \n",
    "for item in data: #item -ab  #a.b -dot means any character, Re is  a text pattern-we dont have programating var, so 'r.a.c' put raw string in all Re code\n",
    "    m = re.search(r'a..', item)  #('a..' means three character pattern start with 'a'..dot means any 2 characters in end).r-raw string\n",
    "    if m:\n",
    "        print (m.group() + ' matched in ' + '\\'' + item + '\\'')  #It take m= 'abc', '123 a6c'->a6c, abc ab-- choose or group it"
   ]
  },
  {
   "cell_type": "code",
   "execution_count": 3,
   "id": "00f3798c-40d4-4ac9-a8c3-e71359b8bbfb",
   "metadata": {},
   "outputs": [
    {
     "name": "stdout",
     "output_type": "stream",
     "text": [
      "abc matched in 'abc'\n",
      "a6f matched in 'a6f'\n",
      "a6c matched in '123 a6c'\n",
      "a5b matched in 'a5b'\n",
      "abc matched in 'abc ab'\n"
     ]
    }
   ],
   "source": [
    "#any three char start with a b followed by any charcater  folowed by on  of b,c or f\n",
    "for item in data: #item -ab  #a.b -dot means any character, Re is  a text pattern-we dont have programating var, so 'r.a.c' put raw string in all Re code\n",
    "    m = re.search(r'a.[bcf]',item) #item [] any one of the character prvide-b/c/f\n",
    "    if m:\n",
    "        print (m.group() + ' matched in ' + '\\'' + item + '\\'')  #It take m= 'abc', '123 a6c'->a6c, abc ab-- choose or group it"
   ]
  },
  {
   "cell_type": "code",
   "execution_count": 4,
   "id": "2b24157d-aa4e-4f59-9612-9cfe2f636226",
   "metadata": {},
   "outputs": [
    {
     "name": "stdout",
     "output_type": "stream",
     "text": [
      "a5e matched in 'a5e'\n",
      "a6f matched in 'a6f'\n",
      "a5b matched in 'a5b'\n",
      "a5x matched in 'a5xb'\n"
     ]
    }
   ],
   "source": [
    "#[abd-z]except c match all small characters d-z--> d to z\n",
    "for item in data:\n",
    "    m = re.search(r'a.[abd-z]',item) #abd-z-> start a between a,b,d, (dto z) check and 0 to 9 (default check)\n",
    "    if m:\n",
    "        print (m.group() + ' matched in ' + '\\'' + item + '\\'') "
   ]
  },
  {
   "cell_type": "code",
   "execution_count": 5,
   "id": "11c8cfd0-ba1f-4aca-941c-ce44edde5350",
   "metadata": {},
   "outputs": [
    {
     "name": "stdout",
     "output_type": "stream",
     "text": [
      "a5e matched in 'a5e'\n",
      "a5b matched in 'a5b'\n",
      "a55 matched in 'a55b'\n",
      "a55 matched in 'a555b'\n",
      "a55 matched in 'a5555b'\n",
      "a55 matched in 'a55555b'\n",
      "a55 matched in 'a555555b'\n",
      "a5x matched in 'a5xb'\n"
     ]
    }
   ],
   "source": [
    "for item in data:\n",
    "    m = re.search(r'a[0-9][^cf]', item) #abd-z-> start a and 0 to 9-three char except end with'cf' not acf;;\n",
    "    if m:\n",
    "        print (m.group() + ' matched in ' + '\\'' + item + '\\'') "
   ]
  },
  {
   "cell_type": "code",
   "execution_count": 6,
   "id": "48ddc625-7792-4bd2-b16c-1fffa9557f0e",
   "metadata": {},
   "outputs": [],
   "source": [
    "#exctract data='3+2'\n",
    "for item in data:\n",
    "    m=re.search(r'3+2',item)  #\n",
    "    if m:\n",
    "        print (m.group() + ' matched in ' + '\\'' + item + '\\'')"
   ]
  },
  {
   "cell_type": "code",
   "execution_count": 7,
   "id": "d1d69918-5030-40fb-90de-175430b03b8a",
   "metadata": {},
   "outputs": [],
   "source": [
    "#no ouput-- _has a special menaing in re"
   ]
  },
  {
   "cell_type": "code",
   "execution_count": 8,
   "id": "b2f94f63-4a43-42c8-ac00-807035afe623",
   "metadata": {},
   "outputs": [
    {
     "name": "stdout",
     "output_type": "stream",
     "text": [
      "3+2 matched in '3+2=5'\n"
     ]
    }
   ],
   "source": [
    "#exctract data='3+2'\n",
    "for item in data:\n",
    "    m=re.search(r'3\\+2',item)  #\n",
    "    if m:\n",
    "        print (m.group() + ' matched in ' + '\\'' + item + '\\'')"
   ]
  },
  {
   "cell_type": "code",
   "execution_count": 9,
   "id": "0cb5d938-c36a-48ba-b84c-22287e9a8580",
   "metadata": {},
   "outputs": [],
   "source": [
    "#we need to add \\ in  INFRONT OF SPECIAL CHAR  ---\\+  ,\\- ,\\* "
   ]
  },
  {
   "cell_type": "code",
   "execution_count": 10,
   "id": "dc569949-bafc-4a2f-b40e-f0daf4673035",
   "metadata": {},
   "outputs": [
    {
     "name": "stdout",
     "output_type": "stream",
     "text": [
      "3+2 matched in '3+2=5'\n"
     ]
    }
   ],
   "source": [
    "for item in data:\n",
    "    m=re.search(r'[0-9]\\+[0-9]',item)  #\n",
    "    if m:\n",
    "        print (m.group() + ' matched in ' + '\\'' + item + '\\'')  #provide matched items."
   ]
  },
  {
   "cell_type": "code",
   "execution_count": 11,
   "id": "b94dd582-5dca-48f8-bd7c-55f55de943e1",
   "metadata": {},
   "outputs": [
    {
     "name": "stdout",
     "output_type": "stream",
     "text": [
      "abc matched in 'abc'\n",
      "a6c matched in '123 a6c'\n",
      "3+2 matched in '3+2=5'\n",
      "abc matched in 'abc ab'\n"
     ]
    }
   ],
   "source": [
    "#use pipe symbol | considering  two or more regular expression->  multiple pattern to be matched alternatively.\n",
    "for item in data:\n",
    "    m=re.search(r'[0-9]\\+[0-9]|a.c',item)  #3 character match ,group two conditions, multiple pattern to be matched alternatively.\n",
    "    if m:\n",
    "        print (m.group() + ' matched in ' + '\\'' + item + '\\'')"
   ]
  },
  {
   "cell_type": "markdown",
   "id": "66484070-30fb-4408-a2bb-ef7ac90e923b",
   "metadata": {},
   "source": [
    "# Default characters"
   ]
  },
  {
   "cell_type": "code",
   "execution_count": 12,
   "id": "877aad22-b655-4d08-abfc-c1f5838b7ec1",
   "metadata": {},
   "outputs": [
    {
     "name": "stdout",
     "output_type": "stream",
     "text": [
      "3+2 matched in '3+2=5'\n"
     ]
    }
   ],
   "source": [
    "for item in data:\n",
    "    m=re.search(r'\\d\\+\\d',item)   #number +number matched\n",
    "    if m:\n",
    "        print (m.group() + ' matched in ' + '\\'' + item + '\\'')"
   ]
  },
  {
   "cell_type": "code",
   "execution_count": 13,
   "id": "b2556e6e-4427-437f-9712-e50c9aff9665",
   "metadata": {},
   "outputs": [
    {
     "name": "stdout",
     "output_type": "stream",
     "text": [
      "3 a matched in '123 a6c'\n",
      "f g matched in 'def ghi'\n",
      "c a matched in 'abc ab'\n"
     ]
    }
   ],
   "source": [
    "for item in data:\n",
    "    m=re.search(r'\\w\\s\\w',item)  #'string/number whitespace string/number'\n",
    "    if m:\n",
    "        print (m.group() + ' matched in ' + '\\'' + item + '\\'')"
   ]
  },
  {
   "cell_type": "markdown",
   "id": "ea13bd42-5a5d-4c1b-9865-826b2a4c2930",
   "metadata": {},
   "source": [
    "# Anchors"
   ]
  },
  {
   "cell_type": "code",
   "execution_count": 14,
   "id": "4c08880f-9651-4cf9-920b-4daa6726dc15",
   "metadata": {},
   "outputs": [
    {
     "ename": "SyntaxError",
     "evalue": "unterminated string literal (detected at line 2) (2115621262.py, line 2)",
     "output_type": "error",
     "traceback": [
      "\u001b[1;36m  Cell \u001b[1;32mIn[14], line 2\u001b[1;36m\u001b[0m\n\u001b[1;33m    $ - re should be applied on end of line'\u001b[0m\n\u001b[1;37m                                           ^\u001b[0m\n\u001b[1;31mSyntaxError\u001b[0m\u001b[1;31m:\u001b[0m unterminated string literal (detected at line 2)\n"
     ]
    }
   ],
   "source": [
    "^- beginning of line\n",
    "$ - re should be applied on end of line'\n",
    "\\b - somethinmg is a word boundary, if words ends with . then it check and provide full stop there.\n",
    "\\B- opposite of \\b the word does not end at this point."
   ]
  },
  {
   "cell_type": "code",
   "execution_count": null,
   "id": "2a75203e-1b12-4811-88df-0e8770e92be9",
   "metadata": {},
   "outputs": [],
   "source": [
    "for item in data:\n",
    "    m=re.search(r'a6',item)  #any 3 char starting item beggining with a6\n",
    "    if m:\n",
    "        print (m.group() + ' matched in ' + '\\'' + item + '\\'')"
   ]
  },
  {
   "cell_type": "code",
   "execution_count": null,
   "id": "a0edbf8e-befd-45fd-b9cb-cfa89cad64c4",
   "metadata": {},
   "outputs": [],
   "source": [
    "for item in data:\n",
    "    m=re.search(r'^a6',item)  #any 3 char ending beggining with a6\n",
    "    if m:\n",
    "        print (m.group() + ' matched in ' + '\\'' + item + '\\'')"
   ]
  },
  {
   "cell_type": "code",
   "execution_count": null,
   "id": "67222240-fece-434e-b9f7-b85e383bb7b6",
   "metadata": {},
   "outputs": [],
   "source": [
    "#check c last in an item but ' abc ab' it also print\n",
    "for item in data:\n",
    "    m=re.search(r'..c',item)  #any 3 char ending ending with c\n",
    "    if m:\n",
    "        print (m.group() + ' matched in ' + '\\'' + item + '\\'')"
   ]
  },
  {
   "cell_type": "code",
   "execution_count": null,
   "id": "d54c4ae1-fffe-4240-bdd4-9e5c245ffb95",
   "metadata": {},
   "outputs": [],
   "source": [
    "#only check c in last in a item --$\n",
    "for item in data:\n",
    "    m=re.search(r'..c$',item)  #any 3 char ending ending with c\n",
    "    if m:\n",
    "        print (m.group() + ' matched in ' + '\\'' + item + '\\'')  "
   ]
  },
  {
   "cell_type": "code",
   "execution_count": null,
   "id": "19953286-4c5a-49c2-bab5-b15d40d1719e",
   "metadata": {},
   "outputs": [],
   "source": [
    "for item in data:\n",
    "  m = re.search(r'ab\\b', item)  #end with ab printed\n",
    "  if m:\n",
    "      print (m.group() + ' matched in ' + '\\'' + item + '\\'')"
   ]
  },
  {
   "cell_type": "code",
   "execution_count": null,
   "id": "f07c8b5d-0826-4c29-8732-337b43387b48",
   "metadata": {},
   "outputs": [],
   "source": [
    "for item in data:\n",
    "  m = re.search(r'ab\\B', item)  #\\B is word does not end with ab... for abc ab - it check two times abc -end with c so  print it\n",
    "  if m:\n",
    "      print (m.group() + ' matched in ' + '\\'' + item + '\\'')"
   ]
  },
  {
   "cell_type": "markdown",
   "id": "4d1d8a49-3459-4bc4-86e8-0c939405f68f",
   "metadata": {},
   "source": [
    "# Quantifiers"
   ]
  },
  {
   "cell_type": "markdown",
   "id": "54fbd4c7-89a8-483b-85c1-42d1abec443f",
   "metadata": {},
   "source": [
    "# \n",
    "*- repeated zero or more times\n",
    "+- repeated one or more times\n",
    "? -zero or one time\n",
    "{n} -n times \n",
    "{m,n} -appears m to n times\n",
    "{m,} {,n}  -appears m or more times\n"
   ]
  },
  {
   "cell_type": "code",
   "execution_count": null,
   "id": "18aa2b7c-aba4-4b04-aa76-f96d8dfe8454",
   "metadata": {},
   "outputs": [],
   "source": [
    "for item in data:\n",
    "  m = re.search(r'a5*b', item)  #start a end b , inbetween zero 5 or more time\n",
    "  if m:\n",
    "      print (m.group() + ' matched in ' + '\\'' + item + '\\'')"
   ]
  },
  {
   "cell_type": "code",
   "execution_count": null,
   "id": "6125d7c2-064f-4daf-9a8b-1abc1d1eaed0",
   "metadata": {},
   "outputs": [],
   "source": [
    "for item in data:\n",
    "  m = re.search(r'a55*b', item)  #start a5 end b , inbetween zero 5 or more time\n",
    "  if m:\n",
    "      print (m.group() + ' matched in ' + '\\'' + item + '\\'')"
   ]
  },
  {
   "cell_type": "code",
   "execution_count": null,
   "id": "b6b61fbe-7f15-4db0-b00a-cf8ffe77a063",
   "metadata": {},
   "outputs": [],
   "source": [
    "for item in data:\n",
    "  m = re.search(r'a55+b', item)  #start a5 end b , inbetween one 5 or more time\n",
    "  if m:\n",
    "      print (m.group() + ' matched in ' + '\\'' + item + '\\'')\n"
   ]
  },
  {
   "cell_type": "code",
   "execution_count": null,
   "id": "00d45441-cdca-4646-9510-9c21f74fff92",
   "metadata": {},
   "outputs": [],
   "source": [
    "for item in data:\n",
    "  m = re.search(r'a55?b', item)  #start a5 end b ,zERO OR ONE TIME PRVIDE\n",
    "  if m:\n",
    "      print (m.group() + ' matched in ' + '\\'' + item + '\\'')"
   ]
  },
  {
   "cell_type": "code",
   "execution_count": null,
   "id": "36af47f2-5d1b-439d-b48c-1b6e2630ddbd",
   "metadata": {},
   "outputs": [],
   "source": [
    "for item in data:\n",
    "  m = re.search(r'a55{2,4}b', item)  #start a5 end-b --(length 2 to 4 --second 5 2 times(55), second 5 3 times(555), second 5 4 times..5555)\n",
    "  if m:\n",
    "      print (m.group() + ' matched in ' + '\\'' + item + '\\'')"
   ]
  },
  {
   "cell_type": "code",
   "execution_count": null,
   "id": "68fab764-cd9c-4138-bf72-d3b8612365b9",
   "metadata": {},
   "outputs": [],
   "source": [
    "for item in data:\n",
    "  m = re.search(r'a(55){2}b', item)  #start a end-b --between length (2)times 55 -four 5 provides\n",
    "  if m:\n",
    "      print (m.group() + ' matched in ' + '\\'' + item + '\\'')"
   ]
  },
  {
   "cell_type": "markdown",
   "id": "f2239417-c399-49b6-8d03-49f95b4020dc",
   "metadata": {},
   "source": [
    "# Exercise "
   ]
  },
  {
   "cell_type": "code",
   "execution_count": null,
   "id": "d3351ffe-7f38-4498-acfa-b3214a61af41",
   "metadata": {},
   "outputs": [],
   "source": [
    "text= \"this statement 3.12.45 contains 66.563 floating point 45645 numbers\""
   ]
  },
  {
   "cell_type": "code",
   "execution_count": null,
   "id": "fc8c1ce8-f04b-4450-b961-bac74ed180f6",
   "metadata": {},
   "outputs": [],
   "source": [
    "p=r\"\\d+\\.\\d+\"  #floating point numbers"
   ]
  },
  {
   "cell_type": "code",
   "execution_count": null,
   "id": "0ae0db46-3349-4658-81e6-3208d391c754",
   "metadata": {},
   "outputs": [],
   "source": [
    "re.findall(p,text)"
   ]
  },
  {
   "cell_type": "code",
   "execution_count": null,
   "id": "deaaff67-d8eb-425c-9020-67ac2b3c2876",
   "metadata": {},
   "outputs": [],
   "source": [
    "t= \"These are 9566666666 , 7888888888 and 67777777778 phone numbers\""
   ]
  },
  {
   "cell_type": "code",
   "execution_count": null,
   "id": "5b494dfe-ef31-4f90-a418-2943f891ddec",
   "metadata": {},
   "outputs": [],
   "source": [
    "pp=r\"\\d{10}\""
   ]
  },
  {
   "cell_type": "code",
   "execution_count": null,
   "id": "59cf6da1-ea33-4f7b-a336-2927911ba14b",
   "metadata": {},
   "outputs": [],
   "source": [
    "re.findall(pp,t)"
   ]
  },
  {
   "cell_type": "code",
   "execution_count": null,
   "id": "e606351a-865e-4c8c-aa51-360252fce522",
   "metadata": {},
   "outputs": [],
   "source": [
    "pu=\"[(\\+91)(0)]?\\d{10}\"     #?optional check either one condition-->? means "
   ]
  },
  {
   "cell_type": "code",
   "execution_count": null,
   "id": "db89ea56-79ad-4d43-9851-5d9186b8c389",
   "metadata": {},
   "outputs": [],
   "source": [
    "re.findall(pu,t)"
   ]
  },
  {
   "cell_type": "code",
   "execution_count": null,
   "id": "f7e16e87-4864-46b8-b200-445ce85165d3",
   "metadata": {},
   "outputs": [],
   "source": [
    "te= \"These are +919566666666 , another +917888888888 and yet  another 67777777778 phone numbers\""
   ]
  },
  {
   "cell_type": "code",
   "execution_count": null,
   "id": "730dfcd1-e501-4028-90cd-4e6ce208d915",
   "metadata": {},
   "outputs": [],
   "source": [
    "p1=r\"[0?(\\+91)(0)]?\\d{10}\"  # Infront of ?  means optional"
   ]
  },
  {
   "cell_type": "code",
   "execution_count": null,
   "id": "551e9f5c-746b-4a53-930e-067e31526cbc",
   "metadata": {},
   "outputs": [],
   "source": [
    "re.findall(p1,te)"
   ]
  },
  {
   "cell_type": "markdown",
   "id": "8d1be44a-cf4a-4036-ac02-dd2233828e9e",
   "metadata": {},
   "source": [
    "# Assignments"
   ]
  },
  {
   "cell_type": "markdown",
   "id": "93829d3c-ef6f-42d4-9529-e3198646d7fc",
   "metadata": {},
   "source": [
    "''' Extract Floating Point Numbers\n",
    "Text: \"This statement contains +1.234 floating -67.87 point 1.234 number\"\n",
    "Task: Write a regex to extract the floating-point number from the text including sign'''"
   ]
  },
  {
   "cell_type": "code",
   "execution_count": null,
   "id": "6393f0c0-e80f-4f56-b427-18691d23f2a0",
   "metadata": {},
   "outputs": [],
   "source": [
    "import re\n",
    "text=\"This statement contains +1.234 floating -67.87 point 1.234 number\" \n",
    "p1=r'\\+?\\-?\\d+\\.\\d+'  # + dot .kazhijj etra alues edukkam"
   ]
  },
  {
   "cell_type": "code",
   "execution_count": null,
   "id": "d630fdba-a72b-4b8d-8a20-d11ed07b4bcb",
   "metadata": {},
   "outputs": [],
   "source": [
    "re.findall(p1,text)"
   ]
  },
  {
   "cell_type": "code",
   "execution_count": null,
   "id": "d2a2550e-a063-4de5-bfcb-3ae5dc9d0440",
   "metadata": {},
   "outputs": [],
   "source": [
    "''' Find Email Addresses\n",
    "Text: \"Contact us at support@example.com for more details\"\n",
    "Task: Write a regex to extract the email address from the text.'''"
   ]
  },
  {
   "cell_type": "code",
   "execution_count": null,
   "id": "ce35bac8-d2b6-4ee8-a4e4-d97ebc22eb02",
   "metadata": {},
   "outputs": [],
   "source": [
    "import re\n",
    "te=\"Contact us at support@example.com for more details\" \n",
    "p1=r'\\w+\\@\\w+\\.\\w+'"
   ]
  },
  {
   "cell_type": "code",
   "execution_count": null,
   "id": "c202093e-8010-4e33-9b61-05f3d7b1601d",
   "metadata": {},
   "outputs": [],
   "source": [
    "re.findall(p1,te)"
   ]
  },
  {
   "cell_type": "code",
   "execution_count": null,
   "id": "24eb51fa-b073-4274-aafa-f123374edb8a",
   "metadata": {},
   "outputs": [],
   "source": [
    "''' Extract Dates\n",
    "Text: \"Today's date is 2025-03-27\"\n",
    "Task: Write a regex to extract the date in YYYY-MM-DD format.'''"
   ]
  },
  {
   "cell_type": "code",
   "execution_count": null,
   "id": "c64d73d6-ff7f-4534-9d66-32baacfcd6b8",
   "metadata": {},
   "outputs": [],
   "source": [
    "import re\n",
    "te=\"Today's date is 2025-03-27\"\n",
    "p1=r'\\d+\\-\\d+\\-\\d+'"
   ]
  },
  {
   "cell_type": "code",
   "execution_count": null,
   "id": "c83dea2f-e310-46ae-9140-53feee180cb2",
   "metadata": {},
   "outputs": [],
   "source": [
    "re.findall(p1,te)"
   ]
  },
  {
   "cell_type": "code",
   "execution_count": null,
   "id": "0be95866-2db4-42ae-aff4-3373d000650d",
   "metadata": {},
   "outputs": [],
   "source": [
    "''' Find Words with Double Letters\n",
    "Text: \"I saw a little kitten running across the street\"\n",
    "Task: Write a regex to extract words containing consecutive duplicate letters (e.g., little, kitten).'''"
   ]
  },
  {
   "cell_type": "code",
   "execution_count": 17,
   "id": "45f930ca-ed1d-49d9-875f-11e235e4b213",
   "metadata": {},
   "outputs": [
    {
     "data": {
      "text/plain": [
       "['a',\n",
       " 'i',\n",
       " 't',\n",
       " 'e',\n",
       " 'i',\n",
       " 't',\n",
       " 'n',\n",
       " 'u',\n",
       " 'n',\n",
       " 'n',\n",
       " 'c',\n",
       " 'o',\n",
       " 's',\n",
       " 'h',\n",
       " 't',\n",
       " 'e',\n",
       " 't']"
      ]
     },
     "execution_count": 17,
     "metadata": {},
     "output_type": "execute_result"
    }
   ],
   "source": [
    "import re\n",
    "te=\"I saw a little kitten running across the street\"\n",
    "p1=r'(\\w){2}'\n",
    "re.findall(p1,te)"
   ]
  },
  {
   "cell_type": "code",
   "execution_count": 18,
   "id": "8813326c-928c-4bd4-97f0-e39077755e39",
   "metadata": {},
   "outputs": [
    {
     "data": {
      "text/plain": [
       "[('n', 'n', 'i')]"
      ]
     },
     "execution_count": 18,
     "metadata": {},
     "output_type": "execute_result"
    }
   ],
   "source": [
    "import re\n",
    "te=\"I saw a little kitten running across the street\"\n",
    "p1=r'(\\w)(\\w)(\\w)\\1'  #what was match exactly previously\n",
    "re.findall(p1,te)"
   ]
  },
  {
   "cell_type": "code",
   "execution_count": null,
   "id": "80b0a104-2ff7-4369-8912-be9e2327b8a4",
   "metadata": {},
   "outputs": [],
   "source": [
    "import re\n",
    "te=\"I saw a little kitten running across the street\"\n",
    "p1=r'(\\w)\\1'\n",
    "re.findall(p1,te)"
   ]
  },
  {
   "cell_type": "code",
   "execution_count": 19,
   "id": "7c94cfe7-122f-4690-97a9-1d726a62cc95",
   "metadata": {},
   "outputs": [
    {
     "data": {
      "text/plain": [
       "['little', 'kitten']"
      ]
     },
     "execution_count": 19,
     "metadata": {},
     "output_type": "execute_result"
    }
   ],
   "source": [
    "import re\n",
    "te=\"I saw a little kitten running across the street\"\n",
    "p1=r'\\w+[tt]{2}\\w*'\n",
    "re.findall(p1,te)"
   ]
  },
  {
   "cell_type": "code",
   "execution_count": null,
   "id": "bc989e12-26ab-45e1-a190-4179d8ef85ce",
   "metadata": {},
   "outputs": [],
   "source": [
    "#word boundary \\b\n",
    "#p='\\b\\w*(\\w)\\1\\w*\\b'\n",
    "import re\n",
    "te=\"I saw a little kitten running across the street\"\n",
    "p1=r'\\w*(\\w)\\1\\w*'\n",
    "re.findall(p1,te)"
   ]
  },
  {
   "cell_type": "code",
   "execution_count": null,
   "id": "e67002c1-1caf-4f5e-bc49-d576050d6c8c",
   "metadata": {},
   "outputs": [],
   "source": [
    "import re\n",
    "te=\"abbcbbccd\"\n",
    "p2=r'(bb)(cc){1}'\n",
    "re.findall(p2,te)"
   ]
  },
  {
   "cell_type": "code",
   "execution_count": null,
   "id": "a071bd0b-d943-40a5-a8d1-517c844f2722",
   "metadata": {},
   "outputs": [],
   "source": [
    "import re\n",
    "te=\"abbcbbccd\"\n",
    "p2=r'(bb)(cc){1}'\n",
    "re.findall(p2,te)"
   ]
  },
  {
   "cell_type": "code",
   "execution_count": null,
   "id": "0c18528e-e4e0-4f94-a3dd-ad155f930e13",
   "metadata": {},
   "outputs": [],
   "source": [
    "import re\n",
    "text = \"I saw a little kitten running across the street\"\n",
    "pattern = r'\\b\\w*(\\w)\\1\\w*\\b'\n",
    "re.findall(pattern,text)"
   ]
  },
  {
   "cell_type": "code",
   "execution_count": null,
   "id": "e83de747-59e4-437f-b9f3-df88cdd82da8",
   "metadata": {},
   "outputs": [],
   "source": [
    "''' Extract Phone Numbers\n",
    "Text: \"My phone numbers are (123) 456-7890 and 987-654-3210\"\n",
    "Task: Write a regex to extract both phone numbers.'''"
   ]
  },
  {
   "cell_type": "code",
   "execution_count": null,
   "id": "8c06d5a6-a372-4812-a881-6ed8e98a8105",
   "metadata": {},
   "outputs": [],
   "source": [
    "import re\n",
    "text =  \"My phone numbers are (123) 456-7890 and 987-654-3210\"\n",
    "pattern = r'\\(?\\d{3}\\)?[-.\\s]?\\d{3}[-.\\s]?\\d{4}'\n",
    "re.findall(pattern,text)"
   ]
  },
  {
   "cell_type": "code",
   "execution_count": null,
   "id": "a4f4e0b0-9298-4696-96f6-7f26d6c6e9fc",
   "metadata": {},
   "outputs": [],
   "source": [
    "''' Find Hashtags in a Tweet\n",
    "Text: \"Loving the #Python and #AI vibes today!\"\n",
    "Task: Write a regex to extract all hashtags from the text.''' "
   ]
  },
  {
   "cell_type": "code",
   "execution_count": null,
   "id": "6d05b0fb-a0fb-4bf6-a85f-313fa7a905f3",
   "metadata": {},
   "outputs": [],
   "source": [
    "import re\n",
    "text = \"Loving the #Python and #AI vibes today!\"\n",
    "pattern = r'\\#\\w+'\n",
    "re.findall(pattern,text)"
   ]
  },
  {
   "cell_type": "code",
   "execution_count": null,
   "id": "7e3f99dc-e6f4-47af-8fe3-0ebb76e793fa",
   "metadata": {},
   "outputs": [],
   "source": [
    "''' Extract Digits from a String\n",
    "Text: \"Order number: 98765, Confirmation code: 54321\"\n",
    "Task: Write a regex to extract all numerical values.'''"
   ]
  },
  {
   "cell_type": "code",
   "execution_count": null,
   "id": "48a463c5-8bee-4b4e-bdd0-26d2a3e22b79",
   "metadata": {},
   "outputs": [],
   "source": [
    "import re\n",
    "text = \"Order number: 98765, Confirmation code: 54321\"\n",
    "pattern = r'\\d+'\n",
    "re.findall(pattern,text)"
   ]
  },
  {
   "cell_type": "code",
   "execution_count": null,
   "id": "bb372854-7230-4799-b555-5a8dac0a80e4",
   "metadata": {},
   "outputs": [],
   "source": [
    "''' Find Words Starting with a Capital Letter\n",
    "Text: \"Alice and Bob went to New York for a Conference\"\n",
    "Task: Write a regex to extract words that start with a capital letter.'''"
   ]
  },
  {
   "cell_type": "code",
   "execution_count": null,
   "id": "e8ddd036-7fe2-4fe1-99d7-3776d3f21ed3",
   "metadata": {},
   "outputs": [],
   "source": [
    "import re\n",
    "text = \"Alice and Bob went to New York for a Conference\"\n",
    "pattern = r'[A-Z]\\w+'\n",
    "re.findall(pattern,text)"
   ]
  },
  {
   "cell_type": "code",
   "execution_count": null,
   "id": "107af604-36a1-4baf-aabf-563183699c80",
   "metadata": {},
   "outputs": [],
   "source": [
    "''' Extract Domain from URLs\n",
    "Text: \"Visit https://www.example.com or http://test.org for info\"\n",
    "Task: Write a regex to extract domain names from the URLs.''' "
   ]
  },
  {
   "cell_type": "code",
   "execution_count": null,
   "id": "358f6a8b-85af-4294-a31a-16e20fe1771d",
   "metadata": {},
   "outputs": [],
   "source": [
    "import re\n",
    "text = \"Visit https://www.example.com or http://test.org for info\"\n",
    "p1= r'\\w+\\:\\/\\/\\w+\\.\\w+'\n",
    "re.findall(p1,text)"
   ]
  },
  {
   "cell_type": "code",
   "execution_count": null,
   "id": "d3c837cd-9afd-4de5-9fcf-b41293fd6b2a",
   "metadata": {},
   "outputs": [],
   "source": [
    "# r\"http[s]?://(www)?\\.?\\w+\\.(com|org|in)\"\n",
    "import re\n",
    "text = \"Visit https://www.example.com or http://test.org for info\"\n",
    "p1= r'http[s]?://\\w+\\.\\w+[\\.]?\\w+'\n",
    "re.findall(p1,text)"
   ]
  },
  {
   "cell_type": "code",
   "execution_count": null,
   "id": "bee91c45-0e08-482a-91e0-abeb201e8102",
   "metadata": {},
   "outputs": [],
   "source": [
    "''' Find Repeated Words\n",
    "Text: \"This is is a test test to find repeated repeated words\"\n",
    "Task: Write a regex to find repeated words appearing consecutively.'''"
   ]
  },
  {
   "cell_type": "code",
   "execution_count": null,
   "id": "3a711e5c-2840-413c-bd5a-7e3939a1c4af",
   "metadata": {},
   "outputs": [],
   "source": [
    "import re\n",
    "text = \"This is is a test test to find repeated repeated words\"\n",
    "p1= r'\\b(\\w*)\\w{5}\\b'\n",
    "re.findall(p1,text)"
   ]
  },
  {
   "cell_type": "code",
   "execution_count": null,
   "id": "a270aa53-4fbe-4876-b8c8-7e9e20490c10",
   "metadata": {},
   "outputs": [],
   "source": [
    "import re\n",
    "text = \"This is is a test test to find repeated repeated words\"\n",
    "p1= r'(\\w+)\\s?\\1'  #repated words \n",
    "re.findall(p1,text)"
   ]
  },
  {
   "cell_type": "code",
   "execution_count": null,
   "id": "b4b25446-2b0a-438a-8d21-0e8304015edc",
   "metadata": {},
   "outputs": [],
   "source": [
    "import re\n",
    "text = \"This is is a test test to find repeated repeated words\"\n",
    "p1= r'\\b(\\w+)\\s?\\1\\b'  #repated words \\1 match and indexed each char, and find repeated item, \n",
    "re.findall(p1,text)"
   ]
  },
  {
   "cell_type": "code",
   "execution_count": null,
   "id": "aa360e26-ae68-4f65-8536-2b8e29ecd678",
   "metadata": {},
   "outputs": [],
   "source": [
    "''' Extract Currency Values\n",
    "Text: \"The product costs $59.99 and the discount is €10.50\"\n",
    "Task: Write a regex to extract all currency values.'''"
   ]
  },
  {
   "cell_type": "code",
   "execution_count": null,
   "id": "77bcd0b9-e5ab-40d5-975f-e14a0946270d",
   "metadata": {},
   "outputs": [],
   "source": [
    "import re\n",
    "text =  \"The product costs $59.99 and the discount is €10.50\"\n",
    "p1= r\"\\d+\\.\\d+\"\n",
    "re.findall(p1,text)"
   ]
  },
  {
   "cell_type": "code",
   "execution_count": null,
   "id": "edd94073-f64d-4e3a-8746-a4225fae764e",
   "metadata": {},
   "outputs": [],
   "source": [
    "import re\n",
    "text =  \"The product costs $59.99 and the discount is €10.50\"\n",
    "p1= r\"[\\$\\€]\\d+\\.\\d{2}\"\n",
    "re.findall(p1,text)"
   ]
  },
  {
   "cell_type": "code",
   "execution_count": null,
   "id": "85583666-4b86-4e24-b60e-18c12684b720",
   "metadata": {},
   "outputs": [],
   "source": [
    "A dollar sign ($) or euro sign (€)\n",
    "Followed by one or more digits (\\d+)\n",
    "Followed by a period (\\.)\n",
    "Followed by exactly two digits (\\d{2})"
   ]
  },
  {
   "cell_type": "code",
   "execution_count": null,
   "id": "b89fa387-566e-43b0-b36f-ae08984f866b",
   "metadata": {},
   "outputs": [],
   "source": [
    "import re\n",
    "text =  \"The product costs $59.99 and the discount is €10.50\"\n",
    "p1= r\"[\\$\\€]\\d+\\.\\d+\"\n",
    "re.findall(p1,text) "
   ]
  },
  {
   "cell_type": "code",
   "execution_count": null,
   "id": "86b41203-476c-4923-bae4-9004b5934475",
   "metadata": {},
   "outputs": [],
   "source": [
    "import re\n",
    "text =  \"The product costs $59.99 and the discount is €10.50\"\n",
    "p1= r\"[^/w]\\d+\\.\\d+\"  #negate strings in that text only print symbols an floating point numbers\n",
    "re.findall(p1,text) "
   ]
  },
  {
   "cell_type": "code",
   "execution_count": null,
   "id": "8fbb0a30-6145-4b19-92c9-60bb53dcc8cc",
   "metadata": {},
   "outputs": [],
   "source": [
    "''' Find HTML Tags\n",
    "Text: \"<div>Welcome</div> <p>This is a paragraph.</p>\"\n",
    "Task: Write a regex to extract all HTML tags.'''"
   ]
  },
  {
   "cell_type": "code",
   "execution_count": null,
   "id": "2a4a2d37-48c7-4121-9d2d-62d29d9b21e5",
   "metadata": {},
   "outputs": [],
   "source": [
    "import re\n",
    "text = \"<div>Welcome</div> <p>This is a paragraph.</p>\"\n",
    "p1= r\"\\<\\/\\w+\\>\"\n",
    "re.findall(p1,text) "
   ]
  },
  {
   "cell_type": "code",
   "execution_count": null,
   "id": "b8549137-be89-4128-8988-1374468b6775",
   "metadata": {},
   "outputs": [],
   "source": [
    "import re\n",
    "text = \"<div>Welcome</div> <p>This is a paragraph.</p>\"\n",
    "p1= r\"<[^>]+>\"\n",
    "re.findall(p1,text) "
   ]
  },
  {
   "cell_type": "code",
   "execution_count": null,
   "id": "1ba425e4-e17b-462e-829e-efc7c5d7fe9b",
   "metadata": {},
   "outputs": [],
   "source": [
    "import re\n",
    "text = \"<div>Welcome</div> <p>This is a paragraph.</p>\"\n",
    "p1= r\"\\<\\W?\\w*\\>\"\n",
    "re.findall(p1,text) \n"
   ]
  },
  {
   "cell_type": "markdown",
   "id": "7e877454-2e9d-4991-a9cc-a0178fb4a824",
   "metadata": {},
   "source": [
    "#  Validate IPv4 Addresses\n",
    "Text: \"Valid IP: 192.168.1.1, Invalid IP: 999.999.999.999\"\n",
    "Task: Write a regex to validate IPv4 addresses.'''"
   ]
  },
  {
   "cell_type": "code",
   "execution_count": null,
   "id": "1aaa412c-4eef-4390-a377-f3e1d948b3bc",
   "metadata": {},
   "outputs": [],
   "source": [
    "#0 --->1---2 ---100\n",
    "100 to 200 -101, 102 ----\n",
    "100 200=check all range\n",
    "200-255 -max=255 ..check all "
   ]
  },
  {
   "cell_type": "code",
   "execution_count": null,
   "id": "4367a841-3a75-4329-a1e3-bf2e23bcc07e",
   "metadata": {},
   "outputs": [],
   "source": [
    "import re  #0-255 validate \n",
    "text = \"Valid IP: 192.168.1.1, Invalid IP: 999.999.999.999\"\n",
    "p1= r\"\\b((25[0-5]|2[0-4][0-9]|1[0-9][0-9]|[1-9]?[0-9])\\.){3}(25[0-5]|2[0-4][0-9]|1[0-9][0-9]|[1-9]?[0-9])\\b\"\n",
    "re.findall(p1,text) "
   ]
  },
  {
   "cell_type": "code",
   "execution_count": null,
   "id": "da1bc6c0-0ceb-4926-a40b-0e3dd5901abe",
   "metadata": {},
   "outputs": [],
   "source": [
    "''' Extract Words Ending with ‘ing’\n",
    "Text: \"Running, swimming, and playing are fun activities\"\n",
    "Task: Write a regex to extract words ending with ‘ing’.'''\n"
   ]
  },
  {
   "cell_type": "code",
   "execution_count": null,
   "id": "5251c62c-2f50-4a6c-93dd-9bb57c0f4758",
   "metadata": {},
   "outputs": [],
   "source": [
    "import re   \n",
    "text = \"Running, swimming, and playing are fun activities\"\n",
    "p1= r\"\\b\\w+ing\\b\"\n",
    "re.findall(p1,text) "
   ]
  },
  {
   "cell_type": "code",
   "execution_count": null,
   "id": "82a18f2a-9f90-49e5-92b5-cd3f58296669",
   "metadata": {},
   "outputs": [],
   "source": [
    "''' Find Sentences Ending with a Question Mark\n",
    "Text: \"Do you know the answer? Let's find out. Are you sure?\"\n",
    "Task: Write a regex to extract all sentences ending with ?.'''"
   ]
  },
  {
   "cell_type": "code",
   "execution_count": null,
   "id": "9d704df1-084d-41e7-b824-77de4cac644c",
   "metadata": {},
   "outputs": [],
   "source": [
    "import re   \n",
    "text =\"Do you know the answer? Let's find out. Are you sure?\"\n",
    "p1= r\"[\\w+\\s]+\\?\"\n",
    "re.findall(p1,text) "
   ]
  },
  {
   "cell_type": "code",
   "execution_count": null,
   "id": "6da7e0ea-99e3-4197-956c-35aaa9fc0e6d",
   "metadata": {},
   "outputs": [],
   "source": [
    "''' Extract Hex Color Codes\n",
    "Text: \"Background color is #FF5733 and text color is #00FF00\"\n",
    "Task: Write a regex to extract hex color codes.'''"
   ]
  },
  {
   "cell_type": "code",
   "execution_count": null,
   "id": "16ef9e9a-32ca-429d-af28-c672a3ca0169",
   "metadata": {},
   "outputs": [],
   "source": [
    "import re   \n",
    "text =\"Background color is #FF5733 and text color is #00FF00\"\n",
    "p1= r\"#[\\w*\\d*]+\\b\"\n",
    "re.findall(p1,text) "
   ]
  },
  {
   "cell_type": "code",
   "execution_count": 15,
   "id": "255b0cd9-52e7-4207-84bc-dd49c260f403",
   "metadata": {},
   "outputs": [
    {
     "data": {
      "text/plain": [
       "['FF5733', '00FF00']"
      ]
     },
     "execution_count": 15,
     "metadata": {},
     "output_type": "execute_result"
    }
   ],
   "source": [
    "#Six hexadecimal digits ([A-Fa-f0-9]{6}), or\n",
    "#Three hexadecimal digits ([A-Fa-f0-9]{3})\n",
    "import re   \n",
    "text =\"Background color is #FF5733 and text color is #00FF00\"\n",
    "#p1= r\"#([A-Fa-f0-9]{6}|[A-Fa-f0-9]{3})\"\n",
    "p1= r\"#([A-Fa-f0-9]{6})\\b\"\n",
    "re.findall(p1,text) "
   ]
  },
  {
   "cell_type": "code",
   "execution_count": null,
   "id": "e5d584c6-68ea-4a36-bd6c-741333f4aa6d",
   "metadata": {},
   "outputs": [],
   "source": [
    "''' Extract Usernames from Twitter Handles\n",
    "Text: \"Follow us @ChatGPT and @OpenAI\"\n",
    "Task: Write a regex to extract usernames after @.'''"
   ]
  },
  {
   "cell_type": "code",
   "execution_count": null,
   "id": "2c7db924-1fcb-4990-b3a9-a2493436970b",
   "metadata": {},
   "outputs": [],
   "source": [
    "import re   \n",
    "text = \"Follow us @ChatGPT and @OpenAI\"\n",
    "p1= r\"(?<=@)\\w*\"\n",
    "re.findall(p1,text) "
   ]
  },
  {
   "cell_type": "code",
   "execution_count": null,
   "id": "c55541ee-f8b5-4576-92f9-cf0737cbd4f0",
   "metadata": {},
   "outputs": [],
   "source": [
    "''' Validate Strong Passwords\n",
    "Text: \"My password is Str0ngP@ss!\"\n",
    "Task: Write a regex to check if the password has at least 8 characters, including uppercase, lowercase, numbers, and special characters.'''"
   ]
  },
  {
   "cell_type": "code",
   "execution_count": null,
   "id": "b6c841aa-d69f-40e8-986a-79499b0e54c4",
   "metadata": {},
   "outputs": [],
   "source": [
    "^: Start of the string\n",
    "(?=.*[A-Z]): At least one uppercase letter\n",
    "(?=.*[a-z]): At least one lowercase letter\n",
    "(?=.*\\d): At least one digit\n",
    "(?=.*[@$!%*?&]): At least one special character from the set @$!%*?&\n",
    "[A-Za-z\\d@$!%*?&]{8,}: At least 8 characters long, consisting of uppercase letters, lowercase letters, digits, and special characters\n",
    "$: End of the string"
   ]
  },
  {
   "cell_type": "code",
   "execution_count": null,
   "id": "2614d59a-ab8f-47fb-9c13-98772c4faa1f",
   "metadata": {},
   "outputs": [],
   "source": [
    "''' Extract File Names from a Path\n",
    "Text: \"/home/user/documents/report.pdf and C:\\\\Users\\\\Admin\\\\file.txt\"\n",
    "Task: Write a regex to extract file names from paths.''' "
   ]
  },
  {
   "cell_type": "code",
   "execution_count": 16,
   "id": "019d3465-20ac-4fbf-8bc5-ba7c46320f8b",
   "metadata": {},
   "outputs": [
    {
     "data": {
      "text/plain": [
       "['report.pdf', 'file.txt']"
      ]
     },
     "execution_count": 16,
     "metadata": {},
     "output_type": "execute_result"
    }
   ],
   "source": [
    "import re   \n",
    "text = \"/home/user/documents/report.pdf and C:\\\\Users\\\\Admin\\\\file.txt\"\n",
    "p1= r\"[\\|]?\\w+\\.\\w+\"  #pipe-or if / contains print word+.\n",
    "re.findall(p1,text) "
   ]
  },
  {
   "cell_type": "code",
   "execution_count": null,
   "id": "d93f25c7-422f-45b7-9ab4-faee21e2dd0d",
   "metadata": {},
   "outputs": [],
   "source": [
    "import re   \n",
    "text = \"/home/user/documents/report.pdf and C:\\\\Users\\\\Admin\\\\file.txt\"\n",
    "p1= r\"\\w+\\.\\w+\"  \n",
    "re.findall(p1,text) "
   ]
  },
  {
   "cell_type": "code",
   "execution_count": null,
   "id": "90e5cfaa-58fd-486a-9ab9-a944ae2b624d",
   "metadata": {},
   "outputs": [],
   "source": [
    "''' Find Three Consecutive Vowels\n",
    "Text: \"Beautiful ocean scenery is amazing\"\n",
    "Task: Write a regex to find words containing three consecutive vowels.'''\n",
    "import re   \n",
    "text = \"Beautiful ocean scenery is amazing\"\n",
    "p1= r\"\\b\\w*[aeiou]{3}\\w*\"  #pipe-or if / contains print word+.\n",
    "re.findall(p1,text) \n"
   ]
  },
  {
   "cell_type": "code",
   "execution_count": null,
   "id": "78756236-a5ba-4d2e-96e4-fb5553b05c9e",
   "metadata": {},
   "outputs": [],
   "source": [
    "''' Find Three Consecutive Vowels\n",
    "Text: \"Beautiful ocean scenery is amazing\"\n",
    "Task: Write a regex to find words containing two consecutive vowels.'''\n",
    "import re   \n",
    "text = \"Beautiful ocean scenery is amazing\"\n",
    "p1= r\"\\b\\w*[aeiou]{2}\\w*\"  #pipe-or if / contains print word+.\n",
    "re.findall(p1,text) "
   ]
  },
  {
   "cell_type": "code",
   "execution_count": null,
   "id": "41091a5f-92cc-4d3d-8af5-8a361b379dcb",
   "metadata": {},
   "outputs": [],
   "source": [
    "''' Find Three Consecutive Vowels\n",
    "Text: \"Beautiful ocean scenery is amazing\"\n",
    "Task: Write a regex to find words containing 3 consecutive vowels.'''\n",
    "import re   \n",
    "text = \"Beautiful ocean scenery is amazing\"\n",
    "p1= r\"\\w+[aeiou]{3}\\w+\\b\"\n",
    "re.findall(p1,text)"
   ]
  },
  {
   "cell_type": "markdown",
   "id": "1d1a3191-2935-4ca5-a23a-8745dbd3a37c",
   "metadata": {},
   "source": [
    "# Validate Strong Passwords"
   ]
  },
  {
   "cell_type": "code",
   "execution_count": null,
   "id": "ab3cfa94-eef2-4c99-8666-f7f4e61e3bf6",
   "metadata": {},
   "outputs": [],
   "source": [
    "Text: \"My password is Str0ngP@ss!\"\n",
    "Task: Write a regex to check if the password has at least 8 characters, including uppercase, lowercase, numbers, and special characters"
   ]
  },
  {
   "cell_type": "code",
   "execution_count": null,
   "id": "7e5aeef9-7fa3-4571-976d-a677fba2c1b9",
   "metadata": {},
   "outputs": [],
   "source": [
    "lookforward -allow you to see particular pattern somewhere in string.\n",
    "(?=...)  *look*ahead*assertion-> not a apart of actual regex and does not xonsuem any character.\n",
    "\n",
    "(.*) - match any number of characters\n",
    "    1.create a character set ^[A-Za-z0-9~!@#$%^&*?]{8, }, (^ beginning of thing){n times}"
   ]
  },
  {
   "cell_type": "code",
   "execution_count": null,
   "id": "27877e3d-b681-4997-a832-2d1d6c36f970",
   "metadata": {},
   "outputs": [],
   "source": [
    "^[A-Za-z0-9~!@#$%^&*?]{8,}$  #^begining of password must start with letters digits ,special characters"
   ]
  },
  {
   "cell_type": "code",
   "execution_count": 20,
   "id": "e0cb31d2-022c-4d87-ad36-ad1ce444ee30",
   "metadata": {},
   "outputs": [
    {
     "data": {
      "text/plain": [
       "[]"
      ]
     },
     "execution_count": 20,
     "metadata": {},
     "output_type": "execute_result"
    }
   ],
   "source": [
    "import re   \n",
    "text = \"My password is Str0ngP@ss!\"\n",
    "p1= r\"^[A-Za-z0-9~!@#$%^&*?]{8,}$\"   # ^beggining of password , $: End of the string\n",
    "re.findall(p1,text)"
   ]
  },
  {
   "cell_type": "code",
   "execution_count": null,
   "id": "49df6726-1f31-4ba6-8ce6-a914c6a1fdc2",
   "metadata": {},
   "outputs": [],
   "source": [
    "?=.*  .* means check inside the string based on given inputs"
   ]
  },
  {
   "cell_type": "code",
   "execution_count": null,
   "id": "93ab2343-ed62-4742-b28c-dcb93e009f33",
   "metadata": {},
   "outputs": [],
   "source": []
  },
  {
   "cell_type": "code",
   "execution_count": 22,
   "id": "1defda35-a329-4a0a-8394-0d1ac28ef25c",
   "metadata": {},
   "outputs": [
    {
     "ename": "error",
     "evalue": "unbalanced parenthesis at position 75",
     "output_type": "error",
     "traceback": [
      "\u001b[1;31m---------------------------------------------------------------------------\u001b[0m",
      "\u001b[1;31merror\u001b[0m                                     Traceback (most recent call last)",
      "Cell \u001b[1;32mIn[22], line 4\u001b[0m\n\u001b[0;32m      2\u001b[0m text \u001b[38;5;241m=\u001b[39m \u001b[38;5;124m\"\u001b[39m\u001b[38;5;124mMy password is Str0ngP@ss!\u001b[39m\u001b[38;5;124m\"\u001b[39m\n\u001b[0;32m      3\u001b[0m p1\u001b[38;5;241m=\u001b[39m \u001b[38;5;124mr\u001b[39m\u001b[38;5;124m\"\u001b[39m\u001b[38;5;124m^(?=.*[A-Z] ?=.*=[a-z] ?=.*[0-9] ?=.*[~!#$\u001b[39m\u001b[38;5;124m%\u001b[39m\u001b[38;5;124m^&*?])[A-Aa-z0-9~!@#$\u001b[39m\u001b[38;5;124m%\u001b[39m\u001b[38;5;124m^&*?]\u001b[39m\u001b[38;5;124m{\u001b[39m\u001b[38;5;124m8,}$)\u001b[39m\u001b[38;5;124m\"\u001b[39m  \u001b[38;5;66;03m# ^beggining of password , $: End of the string\u001b[39;00m\n\u001b[1;32m----> 4\u001b[0m re\u001b[38;5;241m.\u001b[39mfindall(p1,text)\n",
      "File \u001b[1;32mC:\\ProgramData\\anaconda3\\Lib\\re\\__init__.py:217\u001b[0m, in \u001b[0;36mfindall\u001b[1;34m(pattern, string, flags)\u001b[0m\n\u001b[0;32m    209\u001b[0m \u001b[38;5;28;01mdef\u001b[39;00m \u001b[38;5;21mfindall\u001b[39m(pattern, string, flags\u001b[38;5;241m=\u001b[39m\u001b[38;5;241m0\u001b[39m):\n\u001b[0;32m    210\u001b[0m \u001b[38;5;250m    \u001b[39m\u001b[38;5;124;03m\"\"\"Return a list of all non-overlapping matches in the string.\u001b[39;00m\n\u001b[0;32m    211\u001b[0m \n\u001b[0;32m    212\u001b[0m \u001b[38;5;124;03m    If one or more capturing groups are present in the pattern, return\u001b[39;00m\n\u001b[1;32m   (...)\u001b[0m\n\u001b[0;32m    215\u001b[0m \n\u001b[0;32m    216\u001b[0m \u001b[38;5;124;03m    Empty matches are included in the result.\"\"\"\u001b[39;00m\n\u001b[1;32m--> 217\u001b[0m     \u001b[38;5;28;01mreturn\u001b[39;00m _compile(pattern, flags)\u001b[38;5;241m.\u001b[39mfindall(string)\n",
      "File \u001b[1;32mC:\\ProgramData\\anaconda3\\Lib\\re\\__init__.py:307\u001b[0m, in \u001b[0;36m_compile\u001b[1;34m(pattern, flags)\u001b[0m\n\u001b[0;32m    301\u001b[0m     \u001b[38;5;28;01mimport\u001b[39;00m \u001b[38;5;21;01mwarnings\u001b[39;00m\n\u001b[0;32m    302\u001b[0m     warnings\u001b[38;5;241m.\u001b[39mwarn(\u001b[38;5;124m\"\u001b[39m\u001b[38;5;124mThe re.TEMPLATE/re.T flag is deprecated \u001b[39m\u001b[38;5;124m\"\u001b[39m\n\u001b[0;32m    303\u001b[0m             \u001b[38;5;124m\"\u001b[39m\u001b[38;5;124mas it is an undocumented flag \u001b[39m\u001b[38;5;124m\"\u001b[39m\n\u001b[0;32m    304\u001b[0m             \u001b[38;5;124m\"\u001b[39m\u001b[38;5;124mwithout an obvious purpose. \u001b[39m\u001b[38;5;124m\"\u001b[39m\n\u001b[0;32m    305\u001b[0m             \u001b[38;5;124m\"\u001b[39m\u001b[38;5;124mDon\u001b[39m\u001b[38;5;124m'\u001b[39m\u001b[38;5;124mt use it.\u001b[39m\u001b[38;5;124m\"\u001b[39m,\n\u001b[0;32m    306\u001b[0m             \u001b[38;5;167;01mDeprecationWarning\u001b[39;00m)\n\u001b[1;32m--> 307\u001b[0m p \u001b[38;5;241m=\u001b[39m _compiler\u001b[38;5;241m.\u001b[39mcompile(pattern, flags)\n\u001b[0;32m    308\u001b[0m \u001b[38;5;28;01mif\u001b[39;00m flags \u001b[38;5;241m&\u001b[39m DEBUG:\n\u001b[0;32m    309\u001b[0m     \u001b[38;5;28;01mreturn\u001b[39;00m p\n",
      "File \u001b[1;32mC:\\ProgramData\\anaconda3\\Lib\\re\\_compiler.py:745\u001b[0m, in \u001b[0;36mcompile\u001b[1;34m(p, flags)\u001b[0m\n\u001b[0;32m    743\u001b[0m \u001b[38;5;28;01mif\u001b[39;00m isstring(p):\n\u001b[0;32m    744\u001b[0m     pattern \u001b[38;5;241m=\u001b[39m p\n\u001b[1;32m--> 745\u001b[0m     p \u001b[38;5;241m=\u001b[39m _parser\u001b[38;5;241m.\u001b[39mparse(p, flags)\n\u001b[0;32m    746\u001b[0m \u001b[38;5;28;01melse\u001b[39;00m:\n\u001b[0;32m    747\u001b[0m     pattern \u001b[38;5;241m=\u001b[39m \u001b[38;5;28;01mNone\u001b[39;00m\n",
      "File \u001b[1;32mC:\\ProgramData\\anaconda3\\Lib\\re\\_parser.py:984\u001b[0m, in \u001b[0;36mparse\u001b[1;34m(str, flags, state)\u001b[0m\n\u001b[0;32m    982\u001b[0m \u001b[38;5;28;01mif\u001b[39;00m source\u001b[38;5;241m.\u001b[39mnext \u001b[38;5;129;01mis\u001b[39;00m \u001b[38;5;129;01mnot\u001b[39;00m \u001b[38;5;28;01mNone\u001b[39;00m:\n\u001b[0;32m    983\u001b[0m     \u001b[38;5;28;01massert\u001b[39;00m source\u001b[38;5;241m.\u001b[39mnext \u001b[38;5;241m==\u001b[39m \u001b[38;5;124m\"\u001b[39m\u001b[38;5;124m)\u001b[39m\u001b[38;5;124m\"\u001b[39m\n\u001b[1;32m--> 984\u001b[0m     \u001b[38;5;28;01mraise\u001b[39;00m source\u001b[38;5;241m.\u001b[39merror(\u001b[38;5;124m\"\u001b[39m\u001b[38;5;124munbalanced parenthesis\u001b[39m\u001b[38;5;124m\"\u001b[39m)\n\u001b[0;32m    986\u001b[0m \u001b[38;5;28;01mfor\u001b[39;00m g \u001b[38;5;129;01min\u001b[39;00m p\u001b[38;5;241m.\u001b[39mstate\u001b[38;5;241m.\u001b[39mgrouprefpos:\n\u001b[0;32m    987\u001b[0m     \u001b[38;5;28;01mif\u001b[39;00m g \u001b[38;5;241m>\u001b[39m\u001b[38;5;241m=\u001b[39m p\u001b[38;5;241m.\u001b[39mstate\u001b[38;5;241m.\u001b[39mgroups:\n",
      "\u001b[1;31merror\u001b[0m: unbalanced parenthesis at position 75"
     ]
    }
   ],
   "source": [
    "import re   \n",
    "text = \"My password is Str0ngP@ss!\"\n",
    "p1= r\"^(?=.*[A-Z] ?=.*=[a-z] ?=.*[0-9] ?=.*[~!#$%^&*?])[A-Aa-z0-9~!@#$%^&*?]{8,}$)\"  # ^beggining of password , $: End of the string\n",
    "re.findall(p1,text)"
   ]
  },
  {
   "cell_type": "code",
   "execution_count": null,
   "id": "101f1d83-b92d-4eb7-ba0b-aabd0ad4e09d",
   "metadata": {},
   "outputs": [],
   "source": [
    "def transform(string):\n",
    "    word = str.maketrans({'0':'zero', '1':'one', '2':'two', '3':'three', '4':'four', '5':'five', '6':'six', '7':'seven', '8':'eight', '9':'nine'})\n",
    "    new_sentence = string.translate(word)\n",
    "    print(\"Translated/transformed sentence is:- \")\n",
    "    print(new_sentence)\n",
    " \n",
    "transform(\"I have 7 apples, 2 pineapples and 9 oranges!!\")"
   ]
  },
  {
   "cell_type": "code",
   "execution_count": null,
   "id": "714ef4ad-9d98-49b5-8a88-8e0436012063",
   "metadata": {},
   "outputs": [],
   "source": [
    "def solve (N, ch):\n",
    "    # Write your code here\n",
    "    if 1<=N<=10:\n",
    "        return ' '.join(ch)\n",
    "\n",
    "N = int(input(\"Enter the number of characters: \"))\n",
    "ch = input(\"Enter the characters separated by space: \").split()\n",
    "\n",
    "out_ = solve(N, ch)\n",
    "print (f\"print the characters in signle line without space{N} ch={ch},{out_}\")"
   ]
  },
  {
   "cell_type": "code",
   "execution_count": null,
   "id": "e4631850-f19d-4137-9a01-344bca029433",
   "metadata": {},
   "outputs": [],
   "source": [
    "def solve(N, ch):\n",
    "    if 1 <= N <= 10:\n",
    "        \n",
    "        return ''.join(ch)\n",
    "    else:\n",
    "        return \"Invalid input: N must be between 2 and 9.\"\n",
    "\n",
    "N = int(input(\"Enter the number of characters: \"))\n",
    "ch = input(\"Enter the characters separated by space: \").split()\n",
    "\n",
    "out_ = solve(N, ch)\n",
    "print(f\"Characters in a single line without spaces: {out_}\")"
   ]
  },
  {
   "cell_type": "code",
   "execution_count": null,
   "id": "56dc1251-a05c-4852-95a6-95f7c29afbb5",
   "metadata": {},
   "outputs": [],
   "source": []
  }
 ],
 "metadata": {
  "kernelspec": {
   "display_name": "Python 3 (ipykernel)",
   "language": "python",
   "name": "python3"
  },
  "language_info": {
   "codemirror_mode": {
    "name": "ipython",
    "version": 3
   },
   "file_extension": ".py",
   "mimetype": "text/x-python",
   "name": "python",
   "nbconvert_exporter": "python",
   "pygments_lexer": "ipython3",
   "version": "3.12.4"
  }
 },
 "nbformat": 4,
 "nbformat_minor": 5
}
