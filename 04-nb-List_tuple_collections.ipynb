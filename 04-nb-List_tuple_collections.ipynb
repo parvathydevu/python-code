{
 "cells": [
  {
   "cell_type": "markdown",
   "id": "21ad7576-41c4-4a69-92b1-0bb4d0f3ed62",
   "metadata": {},
   "source": [
    "# List and Tuples"
   ]
  },
  {
   "cell_type": "markdown",
   "id": "c95ae839-f495-4653-97fd-7937274c09e8",
   "metadata": {},
   "source": [
    "#4.1 List Definition"
   ]
  },
  {
   "cell_type": "code",
   "execution_count": 1,
   "id": "8e587775-e09d-4bdb-9dc3-99d3cd2a5602",
   "metadata": {},
   "outputs": [
    {
     "data": {
      "text/plain": [
       "[1, 2, 3, 4, 'Apple', 'Python']"
      ]
     },
     "execution_count": 1,
     "metadata": {},
     "output_type": "execute_result"
    }
   ],
   "source": [
    "l=[1,2,3,4,'Apple',\"Python\"]\n",
    "l"
   ]
  },
  {
   "cell_type": "code",
   "execution_count": 2,
   "id": "bd7b9968-5c26-49c1-83a2-83605434adf4",
   "metadata": {},
   "outputs": [
    {
     "data": {
      "text/plain": [
       "list"
      ]
     },
     "execution_count": 2,
     "metadata": {},
     "output_type": "execute_result"
    }
   ],
   "source": [
    "type(l)"
   ]
  },
  {
   "cell_type": "markdown",
   "id": "f2e50b5e-4a46-457f-9397-486b4776bbfb",
   "metadata": {},
   "source": [
    "#list can be change-modify the elements in a list"
   ]
  },
  {
   "cell_type": "markdown",
   "id": "c5ac1dc5-b3cd-4a70-a9ba-e28528c7989d",
   "metadata": {},
   "source": [
    "#4.2 List mutability    "
   ]
  },
  {
   "cell_type": "code",
   "execution_count": 3,
   "id": "cac08f76-cc0f-4fca-b4e8-9c64728f60ad",
   "metadata": {},
   "outputs": [
    {
     "data": {
      "text/plain": [
       "[1, 2, 3, 8, 'Apple', 'Python']"
      ]
     },
     "execution_count": 3,
     "metadata": {},
     "output_type": "execute_result"
    }
   ],
   "source": [
    "l[3]=8\n",
    "l"
   ]
  },
  {
   "cell_type": "code",
   "execution_count": 4,
   "id": "32eb8a6c-80af-4bc9-8269-e93736843db4",
   "metadata": {},
   "outputs": [
    {
     "ename": "TypeError",
     "evalue": "'str' object does not support item assignment",
     "output_type": "error",
     "traceback": [
      "\u001b[1;31m---------------------------------------------------------------------------\u001b[0m",
      "\u001b[1;31mTypeError\u001b[0m                                 Traceback (most recent call last)",
      "Cell \u001b[1;32mIn[4], line 2\u001b[0m\n\u001b[0;32m      1\u001b[0m li\u001b[38;5;241m=\u001b[39m[\u001b[38;5;241m1\u001b[39m,\u001b[38;5;241m2\u001b[39m,\u001b[38;5;241m3\u001b[39m,\u001b[38;5;124m'\u001b[39m\u001b[38;5;124mGr\u001b[39m\u001b[38;5;124m'\u001b[39m,\u001b[38;5;124m'\u001b[39m\u001b[38;5;124mGreen\u001b[39m\u001b[38;5;124m'\u001b[39m]\n\u001b[1;32m----> 2\u001b[0m li[\u001b[38;5;241m4\u001b[39m][\u001b[38;5;241m2\u001b[39m]\u001b[38;5;241m=\u001b[39m\u001b[38;5;124m'\u001b[39m\u001b[38;5;124mE\u001b[39m\u001b[38;5;124m'\u001b[39m\n",
      "\u001b[1;31mTypeError\u001b[0m: 'str' object does not support item assignment"
     ]
    }
   ],
   "source": [
    "li=[1,2,3,'Gr','Green']\n",
    "li[4][2]='E' #str is immutable not changeable green index 2-e-notchanges 'E'"
   ]
  },
  {
   "cell_type": "code",
   "execution_count": 5,
   "id": "8fe50c49-606f-4d4f-9e21-a6913f5cd888",
   "metadata": {},
   "outputs": [
    {
     "data": {
      "text/plain": [
       "[1, 2, 3, 'Gr', 'Apple']"
      ]
     },
     "execution_count": 5,
     "metadata": {},
     "output_type": "execute_result"
    }
   ],
   "source": [
    "li[4]='Apple'#individual str we can change-mutable list\n",
    "li"
   ]
  },
  {
   "cell_type": "markdown",
   "id": "861cc577-73c6-4816-b827-7c76318377c1",
   "metadata": {},
   "source": [
    "#4.3 Subscripting"
   ]
  },
  {
   "cell_type": "code",
   "execution_count": 6,
   "id": "7f9265bd-0bde-4b06-b8a4-8ec9f5c89716",
   "metadata": {},
   "outputs": [
    {
     "data": {
      "text/plain": [
       "2"
      ]
     },
     "execution_count": 6,
     "metadata": {},
     "output_type": "execute_result"
    }
   ],
   "source": [
    "l[1]"
   ]
  },
  {
   "cell_type": "code",
   "execution_count": 7,
   "id": "e7add472-2f03-4252-b7d7-c9e11472136e",
   "metadata": {},
   "outputs": [
    {
     "data": {
      "text/plain": [
       "'Gr'"
      ]
     },
     "execution_count": 7,
     "metadata": {},
     "output_type": "execute_result"
    }
   ],
   "source": [
    "li[3]"
   ]
  },
  {
   "cell_type": "code",
   "execution_count": 8,
   "id": "544a2cc4-0df2-4b8c-b831-9566b673b7f6",
   "metadata": {},
   "outputs": [
    {
     "data": {
      "text/plain": [
       "['Python', 'Apple', 8, 3, 2, 1]"
      ]
     },
     "execution_count": 8,
     "metadata": {},
     "output_type": "execute_result"
    }
   ],
   "source": [
    "l[::-1]  #reverse the string"
   ]
  },
  {
   "cell_type": "code",
   "execution_count": 9,
   "id": "6a904ac0-4e8a-49db-8058-b4ba25ea7f52",
   "metadata": {},
   "outputs": [
    {
     "data": {
      "text/plain": [
       "[1, 3, 'Apple']"
      ]
     },
     "execution_count": 9,
     "metadata": {},
     "output_type": "execute_result"
    }
   ],
   "source": [
    "li[::2]  #from begginning to end interval is 2"
   ]
  },
  {
   "cell_type": "markdown",
   "id": "983f319b-20b6-43e2-95c7-622c4280b3f1",
   "metadata": {},
   "source": [
    "###4.4 Operator"
   ]
  },
  {
   "cell_type": "code",
   "execution_count": 10,
   "id": "c3be4bb5-b7f9-4723-9528-c3fbc99707e6",
   "metadata": {},
   "outputs": [
    {
     "data": {
      "text/plain": [
       "[1, 2, 3, 4, 5, 6]"
      ]
     },
     "execution_count": 10,
     "metadata": {},
     "output_type": "execute_result"
    }
   ],
   "source": [
    "#concatentae \n",
    "[1,2,3]+[4,5,6]"
   ]
  },
  {
   "cell_type": "markdown",
   "id": "c9438c50-8f2e-4bdc-9b4c-3a27b64a5088",
   "metadata": {},
   "source": [
    "#replicate "
   ]
  },
  {
   "cell_type": "code",
   "execution_count": 12,
   "id": "979feb89-fb27-40ec-9ea8-52a595d9971e",
   "metadata": {},
   "outputs": [
    {
     "data": {
      "text/plain": [
       "[1, 2, 3, 1, 2, 3, 1, 2, 3, 1, 2, 3, 1, 2, 3]"
      ]
     },
     "execution_count": 12,
     "metadata": {},
     "output_type": "execute_result"
    }
   ],
   "source": [
    "[1,2,3]*5"
   ]
  },
  {
   "cell_type": "markdown",
   "id": "84ed03b7-76bb-4d35-b993-d098d20a98a7",
   "metadata": {},
   "source": [
    "###4.5 Built in function"
   ]
  },
  {
   "cell_type": "code",
   "execution_count": 13,
   "id": "bf8aee2b-e4b3-4f4f-ae05-1bd136e63f4f",
   "metadata": {},
   "outputs": [
    {
     "data": {
      "text/plain": [
       "True"
      ]
     },
     "execution_count": 13,
     "metadata": {},
     "output_type": "execute_result"
    }
   ],
   "source": [
    "type(l)==list"
   ]
  },
  {
   "cell_type": "code",
   "execution_count": 14,
   "id": "76f90fcf-c72f-4230-97b1-de46b69eaf06",
   "metadata": {},
   "outputs": [
    {
     "data": {
      "text/plain": [
       "True"
      ]
     },
     "execution_count": 14,
     "metadata": {},
     "output_type": "execute_result"
    }
   ],
   "source": [
    "isinstance(l,list)"
   ]
  },
  {
   "cell_type": "code",
   "execution_count": 15,
   "id": "d2ce305a-73e7-48bc-bdec-c4d00a4cadcc",
   "metadata": {},
   "outputs": [],
   "source": [
    "del l"
   ]
  },
  {
   "cell_type": "code",
   "execution_count": 16,
   "id": "4c29846d-b65a-4fb2-88d8-86d61d4eb844",
   "metadata": {},
   "outputs": [
    {
     "ename": "NameError",
     "evalue": "name 'l' is not defined",
     "output_type": "error",
     "traceback": [
      "\u001b[1;31m---------------------------------------------------------------------------\u001b[0m",
      "\u001b[1;31mNameError\u001b[0m                                 Traceback (most recent call last)",
      "Cell \u001b[1;32mIn[16], line 1\u001b[0m\n\u001b[1;32m----> 1\u001b[0m l\n",
      "\u001b[1;31mNameError\u001b[0m: name 'l' is not defined"
     ]
    }
   ],
   "source": [
    "l"
   ]
  },
  {
   "cell_type": "code",
   "execution_count": 20,
   "id": "72c74302-a80c-4615-8d98-22687ec110ff",
   "metadata": {},
   "outputs": [
    {
     "data": {
      "text/plain": [
       "True"
      ]
     },
     "execution_count": 20,
     "metadata": {},
     "output_type": "execute_result"
    }
   ],
   "source": [
    "'Apple' in li"
   ]
  },
  {
   "cell_type": "code",
   "execution_count": 19,
   "id": "8dc4d15c-1713-441a-b596-56bd0f61fc3a",
   "metadata": {},
   "outputs": [
    {
     "data": {
      "text/plain": [
       "False"
      ]
     },
     "execution_count": 19,
     "metadata": {},
     "output_type": "execute_result"
    }
   ],
   "source": [
    "'1' in li"
   ]
  },
  {
   "cell_type": "code",
   "execution_count": 21,
   "id": "d10962f7-17a8-48f7-bafb-58353498c224",
   "metadata": {},
   "outputs": [],
   "source": [
    "del li"
   ]
  },
  {
   "cell_type": "code",
   "execution_count": 22,
   "id": "cfc9547d-0ba0-402e-9793-bfd2a6a205de",
   "metadata": {},
   "outputs": [
    {
     "ename": "NameError",
     "evalue": "name 'li' is not defined",
     "output_type": "error",
     "traceback": [
      "\u001b[1;31m---------------------------------------------------------------------------\u001b[0m",
      "\u001b[1;31mNameError\u001b[0m                                 Traceback (most recent call last)",
      "Cell \u001b[1;32mIn[22], line 1\u001b[0m\n\u001b[1;32m----> 1\u001b[0m li\n",
      "\u001b[1;31mNameError\u001b[0m: name 'li' is not defined"
     ]
    }
   ],
   "source": [
    "li"
   ]
  },
  {
   "cell_type": "markdown",
   "id": "cdcc6124-7795-4bac-886d-0180b0e1b0f2",
   "metadata": {},
   "source": [
    "###4.6 ADDING ELEMENTS TO A LIST"
   ]
  },
  {
   "cell_type": "code",
   "execution_count": 23,
   "id": "63fee597-3f4a-4784-9d5f-34b6e34cf935",
   "metadata": {},
   "outputs": [],
   "source": [
    "L=[\"red\",\"green\",\"blue\"]  #add end of list-append used for add element to end of list"
   ]
  },
  {
   "cell_type": "code",
   "execution_count": 25,
   "id": "68feb522-2d2c-4282-a9d7-90139cac0807",
   "metadata": {},
   "outputs": [],
   "source": [
    "L.append(\"Yellow\")"
   ]
  },
  {
   "cell_type": "code",
   "execution_count": 26,
   "id": "2d17faa5-39ae-421d-9dd1-b30d8b46bfc7",
   "metadata": {},
   "outputs": [
    {
     "data": {
      "text/plain": [
       "['red', 'green', 'blue', 'Yellow']"
      ]
     },
     "execution_count": 26,
     "metadata": {},
     "output_type": "execute_result"
    }
   ],
   "source": [
    "L"
   ]
  },
  {
   "cell_type": "code",
   "execution_count": 27,
   "id": "b99a7cf7-acdf-45f4-a396-9e08c5f0c2d8",
   "metadata": {},
   "outputs": [],
   "source": [
    "L.append(\"Violet\")"
   ]
  },
  {
   "cell_type": "code",
   "execution_count": 28,
   "id": "fa791f4b-6012-4cdb-9953-f9ac25eee74b",
   "metadata": {},
   "outputs": [
    {
     "data": {
      "text/plain": [
       "['red', 'green', 'blue', 'Yellow', 'Violet']"
      ]
     },
     "execution_count": 28,
     "metadata": {},
     "output_type": "execute_result"
    }
   ],
   "source": [
    "L"
   ]
  },
  {
   "cell_type": "markdown",
   "id": "a321e7ac-b603-47b3-b21b-b683ed18457f",
   "metadata": {},
   "source": [
    "#add element in front"
   ]
  },
  {
   "cell_type": "code",
   "execution_count": 30,
   "id": "60c59f0d-67f0-44fc-8274-c331278487ca",
   "metadata": {},
   "outputs": [],
   "source": [
    "L.insert(1,\"White\")"
   ]
  },
  {
   "cell_type": "code",
   "execution_count": 31,
   "id": "24303aaa-a8c2-401f-ae4e-1115246d0ef2",
   "metadata": {},
   "outputs": [
    {
     "data": {
      "text/plain": [
       "['red', 'White', 'green', 'blue', 'Yellow', 'Violet']"
      ]
     },
     "execution_count": 31,
     "metadata": {},
     "output_type": "execute_result"
    }
   ],
   "source": [
    "L"
   ]
  },
  {
   "cell_type": "code",
   "execution_count": 36,
   "id": "6ffad533-59ec-407b-b7ef-90a9a85b4dbe",
   "metadata": {},
   "outputs": [
    {
     "ename": "SyntaxError",
     "evalue": "unterminated string literal (detected at line 1) (936884740.py, line 1)",
     "output_type": "error",
     "traceback": [
      "\u001b[1;36m  Cell \u001b[1;32mIn[36], line 1\u001b[1;36m\u001b[0m\n\u001b[1;33m    L1=['White', 'grey', 'black]\u001b[0m\n\u001b[1;37m                         ^\u001b[0m\n\u001b[1;31mSyntaxError\u001b[0m\u001b[1;31m:\u001b[0m unterminated string literal (detected at line 1)\n"
     ]
    }
   ],
   "source": [
    "L1=['White', 'grey', 'black]"
   ]
  },
  {
   "cell_type": "code",
   "execution_count": 37,
   "id": "0b57ad5c-0d75-464f-b6f9-71ccae23aee1",
   "metadata": {},
   "outputs": [
    {
     "data": {
      "text/plain": [
       "['White', 'grey', 'black']"
      ]
     },
     "execution_count": 37,
     "metadata": {},
     "output_type": "execute_result"
    }
   ],
   "source": [
    "L1"
   ]
  },
  {
   "cell_type": "code",
   "execution_count": 33,
   "id": "166b1a1e-a4c5-45bc-a4be-d77130b052d9",
   "metadata": {},
   "outputs": [],
   "source": [
    "L.extend(L1)"
   ]
  },
  {
   "cell_type": "code",
   "execution_count": 38,
   "id": "396667cb-b259-4e17-8cce-8c046d89be48",
   "metadata": {},
   "outputs": [
    {
     "data": {
      "text/plain": [
       "['red', 'White', 'green', 'blue', 'Yellow', 'Violet', 'White', 'grey', 'black']"
      ]
     },
     "execution_count": 38,
     "metadata": {},
     "output_type": "execute_result"
    }
   ],
   "source": [
    "L"
   ]
  },
  {
   "cell_type": "code",
   "execution_count": 39,
   "id": "0993983d-baa9-4142-a73a-bbc19825869b",
   "metadata": {},
   "outputs": [],
   "source": [
    "L1.insert(0,\"brown\")"
   ]
  },
  {
   "cell_type": "code",
   "execution_count": 40,
   "id": "20e8164b-8c10-453c-bc63-f2675ee3325a",
   "metadata": {},
   "outputs": [
    {
     "data": {
      "text/plain": [
       "['brown', 'White', 'grey', 'black']"
      ]
     },
     "execution_count": 40,
     "metadata": {},
     "output_type": "execute_result"
    }
   ],
   "source": [
    "L1"
   ]
  },
  {
   "cell_type": "code",
   "execution_count": 41,
   "id": "7c7a0f77-f98f-4210-ac98-83a98323be3b",
   "metadata": {},
   "outputs": [],
   "source": [
    "L1.insert(10,\"PINK\")   #length of L1 is 4 but here 10 so it will add to the last in list"
   ]
  },
  {
   "cell_type": "code",
   "execution_count": 42,
   "id": "85893e70-9df7-454d-bba5-2d24241088e6",
   "metadata": {},
   "outputs": [
    {
     "data": {
      "text/plain": [
       "['brown', 'White', 'grey', 'black', 'PINK']"
      ]
     },
     "execution_count": 42,
     "metadata": {},
     "output_type": "execute_result"
    }
   ],
   "source": [
    "L1"
   ]
  },
  {
   "cell_type": "markdown",
   "id": "ef9f535e-fcbd-42ea-95e5-932cb0c73432",
   "metadata": {},
   "source": [
    "#4.7 modifying elements in list"
   ]
  },
  {
   "cell_type": "code",
   "execution_count": 43,
   "id": "2a983d45-0f9c-4574-80ab-6dc2c0f871f4",
   "metadata": {},
   "outputs": [
    {
     "data": {
      "text/plain": [
       "['brown', 'White', 'grey', 'black', 'PINK']"
      ]
     },
     "execution_count": 43,
     "metadata": {},
     "output_type": "execute_result"
    }
   ],
   "source": [
    "L1"
   ]
  },
  {
   "cell_type": "code",
   "execution_count": 44,
   "id": "e1be7e07-76e9-4797-bba0-721c4d9a76be",
   "metadata": {},
   "outputs": [],
   "source": [
    "L1[3]=\"aQUA\"  #rEPLACE THE ELEMNT WRT POSITION INDEX"
   ]
  },
  {
   "cell_type": "code",
   "execution_count": 45,
   "id": "9f92b349-b6b5-4868-9f17-e0da419c4912",
   "metadata": {},
   "outputs": [
    {
     "data": {
      "text/plain": [
       "['brown', 'White', 'grey', 'aQUA', 'PINK']"
      ]
     },
     "execution_count": 45,
     "metadata": {},
     "output_type": "execute_result"
    }
   ],
   "source": [
    "L1"
   ]
  },
  {
   "cell_type": "code",
   "execution_count": 50,
   "id": "45ac9d1b-cf98-42bd-a949-a610d89105f7",
   "metadata": {},
   "outputs": [],
   "source": [
    "L2=[\"WHITE\",\"GREY\",\"BLACK\"]"
   ]
  },
  {
   "cell_type": "code",
   "execution_count": 51,
   "id": "fbd8658c-0637-45a9-b23f-4b57cef696ee",
   "metadata": {},
   "outputs": [],
   "source": [
    "L1[3]=L2"
   ]
  },
  {
   "cell_type": "code",
   "execution_count": 52,
   "id": "c0564dec-c407-457c-b4b6-e280ad235ac5",
   "metadata": {},
   "outputs": [
    {
     "data": {
      "text/plain": [
       "['brown', 'White', 'grey', ['WHITE', 'GREY', 'BLACK'], 'PINK']"
      ]
     },
     "execution_count": 52,
     "metadata": {},
     "output_type": "execute_result"
    }
   ],
   "source": [
    "L1"
   ]
  },
  {
   "cell_type": "code",
   "execution_count": 53,
   "id": "ad04f43c-ae97-4f0d-9827-15fd14e594d8",
   "metadata": {},
   "outputs": [
    {
     "data": {
      "text/plain": [
       "['brown', 'White', 'grey', ['WHITE', 'GREY', 'BLACK'], 'PINK']"
      ]
     },
     "execution_count": 53,
     "metadata": {},
     "output_type": "execute_result"
    }
   ],
   "source": [
    "L1"
   ]
  },
  {
   "cell_type": "code",
   "execution_count": 55,
   "id": "6aee698b-bf24-4a4e-8b38-39faf4e27158",
   "metadata": {},
   "outputs": [
    {
     "data": {
      "text/plain": [
       "'BLACK'"
      ]
     },
     "execution_count": 55,
     "metadata": {},
     "output_type": "execute_result"
    }
   ],
   "source": [
    "L1[3][2]  #ACCESS ANOTHER LIST AND TAKE BLACK INDEX 2 IN THAT LIST"
   ]
  },
  {
   "cell_type": "code",
   "execution_count": 56,
   "id": "ded34f2b-eaa2-41e1-a516-4ce9ace3c19c",
   "metadata": {},
   "outputs": [],
   "source": [
    "#SLICING"
   ]
  },
  {
   "cell_type": "code",
   "execution_count": 57,
   "id": "48d16b27-76ef-4661-8a3e-ca6eb926bbbd",
   "metadata": {},
   "outputs": [
    {
     "data": {
      "text/plain": [
       "['White']"
      ]
     },
     "execution_count": 57,
     "metadata": {},
     "output_type": "execute_result"
    }
   ],
   "source": [
    "L1[1:2]"
   ]
  },
  {
   "cell_type": "code",
   "execution_count": 58,
   "id": "37a2edda-d485-45c5-80c2-a4790aafea71",
   "metadata": {},
   "outputs": [
    {
     "data": {
      "text/plain": [
       "['brown', 'White', 'grey', ['WHITE', 'GREY', 'BLACK'], 'PINK']"
      ]
     },
     "execution_count": 58,
     "metadata": {},
     "output_type": "execute_result"
    }
   ],
   "source": [
    "L1"
   ]
  },
  {
   "cell_type": "code",
   "execution_count": 59,
   "id": "063009b2-ac65-47f7-b32e-8efb895f5a2f",
   "metadata": {},
   "outputs": [],
   "source": [
    "L1[0:3]=['WHITE', 'GREY', 'BLACK']   #CHANGE THE ELEMENT brown white and grey"
   ]
  },
  {
   "cell_type": "code",
   "execution_count": 60,
   "id": "d0a1b39e-fe00-42fa-97da-819f4d2dfcd1",
   "metadata": {},
   "outputs": [
    {
     "data": {
      "text/plain": [
       "['WHITE', 'GREY', 'BLACK', ['WHITE', 'GREY', 'BLACK'], 'PINK']"
      ]
     },
     "execution_count": 60,
     "metadata": {},
     "output_type": "execute_result"
    }
   ],
   "source": [
    "L1"
   ]
  },
  {
   "cell_type": "code",
   "execution_count": 61,
   "id": "6b79713d-129a-4cb4-a837-442af19340d9",
   "metadata": {},
   "outputs": [
    {
     "data": {
      "text/plain": [
       "['W', 'h', 'i', 't', 'e']"
      ]
     },
     "execution_count": 61,
     "metadata": {},
     "output_type": "execute_result"
    }
   ],
   "source": [
    "list(\"White\")"
   ]
  },
  {
   "cell_type": "code",
   "execution_count": 68,
   "id": "cbd582f6-56b8-4cf4-9f70-ef8e79ea320c",
   "metadata": {},
   "outputs": [],
   "source": [
    "L1[1:2]=\"golden\"  #WITHOUT []"
   ]
  },
  {
   "cell_type": "code",
   "execution_count": 69,
   "id": "29dc69e1-5ebd-4f7a-9253-37539eda1cc2",
   "metadata": {},
   "outputs": [
    {
     "data": {
      "text/plain": [
       "['WHITE',\n",
       " 'g',\n",
       " 'o',\n",
       " 'l',\n",
       " 'd',\n",
       " 'e',\n",
       " 'n',\n",
       " 'o',\n",
       " 'l',\n",
       " 'd',\n",
       " 'e',\n",
       " 'n',\n",
       " 'BLACK',\n",
       " ['WHITE', 'GREY', 'BLACK'],\n",
       " 'PINK']"
      ]
     },
     "execution_count": 69,
     "metadata": {},
     "output_type": "execute_result"
    }
   ],
   "source": [
    "L1"
   ]
  },
  {
   "cell_type": "code",
   "execution_count": 62,
   "id": "28575b9f-7d8e-4370-8152-4473e8866087",
   "metadata": {},
   "outputs": [],
   "source": [
    "L1[1:2]=[\"golden\"]  #WE NEED TO USE []SQR BRACKET EVEN IF ONE ELEMENT"
   ]
  },
  {
   "cell_type": "code",
   "execution_count": 63,
   "id": "7a715921-d028-4afb-9063-8194d42b09bf",
   "metadata": {},
   "outputs": [
    {
     "data": {
      "text/plain": [
       "['WHITE', 'golden', 'BLACK', ['WHITE', 'GREY', 'BLACK'], 'PINK']"
      ]
     },
     "execution_count": 63,
     "metadata": {},
     "output_type": "execute_result"
    }
   ],
   "source": [
    "L1"
   ]
  },
  {
   "cell_type": "code",
   "execution_count": 66,
   "id": "5b84c0a3-1b73-4723-80c4-1b025b41cba6",
   "metadata": {},
   "outputs": [],
   "source": [
    "L1[1:2]=[\"golden\"]"
   ]
  },
  {
   "cell_type": "markdown",
   "id": "fa7dfa52-3b7e-4fa9-b083-609e98291e3c",
   "metadata": {},
   "source": [
    "#Removing element form a list"
   ]
  },
  {
   "cell_type": "code",
   "execution_count": 70,
   "id": "ce14abab-786d-437d-b486-3393cba17b63",
   "metadata": {},
   "outputs": [
    {
     "data": {
      "text/plain": [
       "['red', 'White', 'green', 'blue', 'Yellow', 'Violet', 'White', 'grey', 'black']"
      ]
     },
     "execution_count": 70,
     "metadata": {},
     "output_type": "execute_result"
    }
   ],
   "source": [
    "L"
   ]
  },
  {
   "cell_type": "code",
   "execution_count": 71,
   "id": "6dda8d0e-0d6a-44ea-bcba-13b411109f18",
   "metadata": {},
   "outputs": [
    {
     "data": {
      "text/plain": [
       "'black'"
      ]
     },
     "execution_count": 71,
     "metadata": {},
     "output_type": "execute_result"
    }
   ],
   "source": [
    "L.pop()  #remove from last -BLACK REMOVED"
   ]
  },
  {
   "cell_type": "code",
   "execution_count": 72,
   "id": "bbc1f65d-7e91-4191-b1d4-89d53cad2f7a",
   "metadata": {},
   "outputs": [
    {
     "data": {
      "text/plain": [
       "['red', 'White', 'green', 'blue', 'Yellow', 'Violet', 'White', 'grey']"
      ]
     },
     "execution_count": 72,
     "metadata": {},
     "output_type": "execute_result"
    }
   ],
   "source": [
    "L"
   ]
  },
  {
   "cell_type": "code",
   "execution_count": 73,
   "id": "654df28e-d73e-4fdd-908e-0146ff093875",
   "metadata": {},
   "outputs": [
    {
     "data": {
      "text/plain": [
       "'White'"
      ]
     },
     "execution_count": 73,
     "metadata": {},
     "output_type": "execute_result"
    }
   ],
   "source": [
    "L.pop(1)  #INDEX 1 ELEMENT REMOVED-remove element by index"
   ]
  },
  {
   "cell_type": "code",
   "execution_count": 74,
   "id": "5120ea07-9020-4780-b5b1-2079329fab3a",
   "metadata": {},
   "outputs": [
    {
     "data": {
      "text/plain": [
       "['red', 'green', 'blue', 'Yellow', 'Violet', 'White', 'grey']"
      ]
     },
     "execution_count": 74,
     "metadata": {},
     "output_type": "execute_result"
    }
   ],
   "source": [
    "L"
   ]
  },
  {
   "cell_type": "code",
   "execution_count": 75,
   "id": "aae63872-2f4e-4f14-b23b-98b3d322e4a9",
   "metadata": {},
   "outputs": [],
   "source": [
    "L.remove(\"green\")  #remove  a particular element -user wants-remove element by name."
   ]
  },
  {
   "cell_type": "code",
   "execution_count": 76,
   "id": "b196a584-87f8-438f-acb5-bb0e18a19f0d",
   "metadata": {},
   "outputs": [
    {
     "data": {
      "text/plain": [
       "['red', 'blue', 'Yellow', 'Violet', 'White', 'grey']"
      ]
     },
     "execution_count": 76,
     "metadata": {},
     "output_type": "execute_result"
    }
   ],
   "source": [
    "L"
   ]
  },
  {
   "cell_type": "markdown",
   "id": "ce844b0b-e3d6-4a1a-9f3b-a1754e28df11",
   "metadata": {},
   "source": [
    "#4.8  Finding elements with in a list"
   ]
  },
  {
   "cell_type": "code",
   "execution_count": 77,
   "id": "d579c5af-0d42-4bda-8702-16857bdbb267",
   "metadata": {},
   "outputs": [],
   "source": [
    "L=[1,2,3,4,5,6,7]"
   ]
  },
  {
   "cell_type": "code",
   "execution_count": 78,
   "id": "fd162265-9edf-443a-a278-7e7379f85685",
   "metadata": {},
   "outputs": [
    {
     "data": {
      "text/plain": [
       "[1, 2, 3, 4, 5, 6, 7]"
      ]
     },
     "execution_count": 78,
     "metadata": {},
     "output_type": "execute_result"
    }
   ],
   "source": [
    "L"
   ]
  },
  {
   "cell_type": "code",
   "execution_count": 79,
   "id": "c3b224b2-f70d-46a4-9aaf-c3c552a58b6a",
   "metadata": {},
   "outputs": [
    {
     "data": {
      "text/plain": [
       "True"
      ]
     },
     "execution_count": 79,
     "metadata": {},
     "output_type": "execute_result"
    }
   ],
   "source": [
    "1 in L"
   ]
  },
  {
   "cell_type": "code",
   "execution_count": 80,
   "id": "98457df8-9087-4958-ab6c-17115898a40a",
   "metadata": {},
   "outputs": [
    {
     "data": {
      "text/plain": [
       "1"
      ]
     },
     "execution_count": 80,
     "metadata": {},
     "output_type": "execute_result"
    }
   ],
   "source": [
    "L.index(2)   #index is used for finding index number of particular element in a list"
   ]
  },
  {
   "cell_type": "code",
   "execution_count": 81,
   "id": "9bbc2ff5-0b3b-497e-99d6-af4fcdbbcdae",
   "metadata": {},
   "outputs": [
    {
     "data": {
      "text/plain": [
       "6"
      ]
     },
     "execution_count": 81,
     "metadata": {},
     "output_type": "execute_result"
    }
   ],
   "source": [
    "L.index(7)"
   ]
  },
  {
   "cell_type": "code",
   "execution_count": 83,
   "id": "43fae49f-ab42-492c-99e7-fe983ad744ab",
   "metadata": {},
   "outputs": [
    {
     "data": {
      "text/plain": [
       "0"
      ]
     },
     "execution_count": 83,
     "metadata": {},
     "output_type": "execute_result"
    }
   ],
   "source": [
    "L1.count(\"White\")  #index number l1"
   ]
  },
  {
   "cell_type": "markdown",
   "id": "5e1f6797-b210-429b-adc6-21196a2bf5c9",
   "metadata": {},
   "source": [
    "#find() IS FOR STRING, index is used for list -finding index, substring"
   ]
  },
  {
   "cell_type": "markdown",
   "id": "ee928900-0ddf-43ce-ae42-f2e0c0b3c031",
   "metadata": {},
   "source": [
    "###4.9 Re arranging elements in  a list"
   ]
  },
  {
   "cell_type": "code",
   "execution_count": 84,
   "id": "82454106-82d0-477b-b42b-43dc3a6c2e49",
   "metadata": {},
   "outputs": [
    {
     "data": {
      "text/plain": [
       "['WHITE',\n",
       " 'g',\n",
       " 'o',\n",
       " 'l',\n",
       " 'd',\n",
       " 'e',\n",
       " 'n',\n",
       " 'o',\n",
       " 'l',\n",
       " 'd',\n",
       " 'e',\n",
       " 'n',\n",
       " 'BLACK',\n",
       " ['WHITE', 'GREY', 'BLACK'],\n",
       " 'PINK']"
      ]
     },
     "execution_count": 84,
     "metadata": {},
     "output_type": "execute_result"
    }
   ],
   "source": [
    "L1"
   ]
  },
  {
   "cell_type": "code",
   "execution_count": 88,
   "id": "d794bdf0-5cc2-478b-bfe4-d432ff15b836",
   "metadata": {},
   "outputs": [],
   "source": [
    "L3=['White', 'grey', 'black']"
   ]
  },
  {
   "cell_type": "code",
   "execution_count": 89,
   "id": "6fa2581b-9e3b-44fd-bad2-c986ca60ca89",
   "metadata": {},
   "outputs": [
    {
     "data": {
      "text/plain": [
       "['White', 'grey', 'black']"
      ]
     },
     "execution_count": 89,
     "metadata": {},
     "output_type": "execute_result"
    }
   ],
   "source": [
    "L3"
   ]
  },
  {
   "cell_type": "code",
   "execution_count": 91,
   "id": "a0998e38-f0e4-40d0-af6c-5c417ce10367",
   "metadata": {},
   "outputs": [
    {
     "data": {
      "text/plain": [
       "['black', 'grey', 'White']"
      ]
     },
     "execution_count": 91,
     "metadata": {},
     "output_type": "execute_result"
    }
   ],
   "source": [
    "list(reversed(L3))  #reverse is package"
   ]
  },
  {
   "cell_type": "code",
   "execution_count": 93,
   "id": "6e87fa01-6160-49c2-a4c5-0da534acba59",
   "metadata": {},
   "outputs": [
    {
     "data": {
      "text/plain": [
       "['White', 'black', 'grey']"
      ]
     },
     "execution_count": 93,
     "metadata": {},
     "output_type": "execute_result"
    }
   ],
   "source": [
    "sorted(L3)"
   ]
  },
  {
   "cell_type": "code",
   "execution_count": 94,
   "id": "91aaf8fa-8487-45b6-a238-716f0e26a338",
   "metadata": {},
   "outputs": [
    {
     "data": {
      "text/plain": [
       "['grey', 'black', 'White']"
      ]
     },
     "execution_count": 94,
     "metadata": {},
     "output_type": "execute_result"
    }
   ],
   "source": [
    "sorted(L3, reverse= True)"
   ]
  },
  {
   "cell_type": "code",
   "execution_count": null,
   "id": "edcfea2b-93bf-4a22-9c6e-fd95cb741c5a",
   "metadata": {},
   "outputs": [],
   "source": [
    "#using sorted(L) and reversed(L) will not change the original list"
   ]
  },
  {
   "cell_type": "code",
   "execution_count": 95,
   "id": "3a1a393e-5931-4c86-b9c6-23913442072e",
   "metadata": {},
   "outputs": [],
   "source": [
    "L3.sort()   #object oriented syntax -back to original list"
   ]
  },
  {
   "cell_type": "code",
   "execution_count": 96,
   "id": "8627e6c1-a87d-4aa7-bded-b8d728650db7",
   "metadata": {},
   "outputs": [
    {
     "data": {
      "text/plain": [
       "['White', 'black', 'grey']"
      ]
     },
     "execution_count": 96,
     "metadata": {},
     "output_type": "execute_result"
    }
   ],
   "source": [
    "L3"
   ]
  },
  {
   "cell_type": "code",
   "execution_count": 97,
   "id": "0da749f9-ddc1-49c4-b2e3-387667b7a321",
   "metadata": {},
   "outputs": [],
   "source": [
    "L3.reverse()  #modify teh actual list"
   ]
  },
  {
   "cell_type": "code",
   "execution_count": 98,
   "id": "6cd2840f-c935-4844-abe2-9bd0a3446bfd",
   "metadata": {},
   "outputs": [
    {
     "data": {
      "text/plain": [
       "['grey', 'black', 'White']"
      ]
     },
     "execution_count": 98,
     "metadata": {},
     "output_type": "execute_result"
    }
   ],
   "source": [
    "L3"
   ]
  },
  {
   "cell_type": "code",
   "execution_count": null,
   "id": "29966479-1c49-4483-ad79-7821ce9ea796",
   "metadata": {},
   "outputs": [],
   "source": [
    "#using l.sort() and l.reverse() DOES INPLACE CHANGES ON L"
   ]
  },
  {
   "cell_type": "markdown",
   "id": "85795181-4e01-4780-aba7-208cfc90449c",
   "metadata": {},
   "source": [
    "### 4.10 Iterate On a list"
   ]
  },
  {
   "cell_type": "code",
   "execution_count": 100,
   "id": "9ab78f92-b0dd-4e91-8e82-c55ef0b1c040",
   "metadata": {},
   "outputs": [
    {
     "name": "stdout",
     "output_type": "stream",
     "text": [
      "grey black White "
     ]
    }
   ],
   "source": [
    "for item in L3:\n",
    "    print(item, end=\" \")"
   ]
  },
  {
   "cell_type": "markdown",
   "id": "1e099f20-ec60-43fd-ba7b-ddec57b4acfd",
   "metadata": {},
   "source": [
    " #swapcase is used for lower to upper, uppwer to lower case"
   ]
  },
  {
   "cell_type": "code",
   "execution_count": 102,
   "id": "d4548594-6c97-47ba-84b7-09ff3a20c028",
   "metadata": {},
   "outputs": [
    {
     "name": "stdout",
     "output_type": "stream",
     "text": [
      "GREY\n",
      "BLACK\n",
      "wHITE\n"
     ]
    }
   ],
   "source": [
    "for item in L3:\n",
    "    print(item.swapcase()) "
   ]
  },
  {
   "cell_type": "code",
   "execution_count": 103,
   "id": "8fb8bc3b-507b-4f23-ad9c-1791a90dbd6a",
   "metadata": {},
   "outputs": [
    {
     "name": "stdout",
     "output_type": "stream",
     "text": [
      "GREY BLACK wHITE "
     ]
    }
   ],
   "source": [
    "for item in L3:\n",
    "    print(item.swapcase(),end=\" \")"
   ]
  },
  {
   "cell_type": "markdown",
   "id": "28edaf64-379b-45ba-bbfc-dfcdd4c5f797",
   "metadata": {},
   "source": [
    "### Tuples"
   ]
  },
  {
   "cell_type": "markdown",
   "id": "78e2612e-aa5a-4a2b-8ec0-bca975dddb24",
   "metadata": {},
   "source": [
    "### 4.11 Immutable Tuples"
   ]
  },
  {
   "cell_type": "code",
   "execution_count": 104,
   "id": "9035297c-08cd-41cf-a177-66e3a5dc1e72",
   "metadata": {},
   "outputs": [],
   "source": [
    "T=('E','W','U')"
   ]
  },
  {
   "cell_type": "code",
   "execution_count": 105,
   "id": "cf7753a0-62f9-4e77-a9c8-cdf7cd55b4d2",
   "metadata": {},
   "outputs": [
    {
     "data": {
      "text/plain": [
       "('E', 'W', 'U')"
      ]
     },
     "execution_count": 105,
     "metadata": {},
     "output_type": "execute_result"
    }
   ],
   "source": [
    "T"
   ]
  },
  {
   "cell_type": "code",
   "execution_count": 106,
   "id": "a1ebb323-5a55-4ef9-9103-8af6a45e1279",
   "metadata": {},
   "outputs": [
    {
     "data": {
      "text/plain": [
       "tuple"
      ]
     },
     "execution_count": 106,
     "metadata": {},
     "output_type": "execute_result"
    }
   ],
   "source": [
    "type(T)"
   ]
  },
  {
   "cell_type": "markdown",
   "id": "4a5856b5-82d6-4a12-8292-200bbe7c800d",
   "metadata": {},
   "source": [
    "#All operators that wrk of lisr will work"
   ]
  },
  {
   "cell_type": "markdown",
   "id": "73acf7a6-5ebe-4215-a9d3-4d5c3be8aa64",
   "metadata": {},
   "source": [
    "#cannot do inplace chnages -add, modify or remove"
   ]
  },
  {
   "cell_type": "code",
   "execution_count": 107,
   "id": "2f586795-a18c-43c4-afa8-778eaeab4cdf",
   "metadata": {},
   "outputs": [
    {
     "data": {
      "text/plain": [
       "'W'"
      ]
     },
     "execution_count": 107,
     "metadata": {},
     "output_type": "execute_result"
    }
   ],
   "source": [
    "T[1]"
   ]
  },
  {
   "cell_type": "code",
   "execution_count": 108,
   "id": "620a6b41-ae40-458e-9cdd-5d6e6f10e2d9",
   "metadata": {},
   "outputs": [
    {
     "ename": "TypeError",
     "evalue": "'tuple' object does not support item assignment",
     "output_type": "error",
     "traceback": [
      "\u001b[1;31m---------------------------------------------------------------------------\u001b[0m",
      "\u001b[1;31mTypeError\u001b[0m                                 Traceback (most recent call last)",
      "Cell \u001b[1;32mIn[108], line 1\u001b[0m\n\u001b[1;32m----> 1\u001b[0m T[\u001b[38;5;241m1\u001b[39m]\u001b[38;5;241m=\u001b[39m\u001b[38;5;124m'\u001b[39m\u001b[38;5;124mI\u001b[39m\u001b[38;5;124m'\u001b[39m\n",
      "\u001b[1;31mTypeError\u001b[0m: 'tuple' object does not support item assignment"
     ]
    }
   ],
   "source": [
    "T[1]='I'"
   ]
  },
  {
   "cell_type": "code",
   "execution_count": null,
   "id": "f9ef0ebf-bf4f-424c-b23f-213fdb4072cf",
   "metadata": {},
   "outputs": [],
   "source": [
    "#Cannot inplace sorting and reversing - L.sort() and L.reverse() "
   ]
  },
  {
   "cell_type": "code",
   "execution_count": 110,
   "id": "10bf9513-8eb2-4fb1-9d48-89c3fd30d67b",
   "metadata": {},
   "outputs": [
    {
     "data": {
      "text/plain": [
       "('U', 'W', 'E')"
      ]
     },
     "execution_count": 110,
     "metadata": {},
     "output_type": "execute_result"
    }
   ],
   "source": [
    "tuple(reversed(T))"
   ]
  },
  {
   "cell_type": "code",
   "execution_count": 111,
   "id": "8945cecf-9475-4764-b0d6-03c66c106195",
   "metadata": {},
   "outputs": [
    {
     "data": {
      "text/plain": [
       "['E', 'U', 'W']"
      ]
     },
     "execution_count": 111,
     "metadata": {},
     "output_type": "execute_result"
    }
   ],
   "source": [
    "sorted(T)"
   ]
  },
  {
   "cell_type": "code",
   "execution_count": 112,
   "id": "9fb2e4b6-44d2-4ca5-85b8-a64468e73d5d",
   "metadata": {},
   "outputs": [
    {
     "data": {
      "text/plain": [
       "('E', 'W', 'U')"
      ]
     },
     "execution_count": 112,
     "metadata": {},
     "output_type": "execute_result"
    }
   ],
   "source": [
    "T"
   ]
  },
  {
   "cell_type": "markdown",
   "id": "01af5aee-4ed2-4952-a5a9-369433c20ecf",
   "metadata": {},
   "source": [
    "# How to change the tuple"
   ]
  },
  {
   "cell_type": "code",
   "execution_count": 113,
   "id": "88d11fad-cf73-49d3-8fe8-e9fa091c1263",
   "metadata": {},
   "outputs": [
    {
     "data": {
      "text/plain": [
       "('E', 'W', 'U')"
      ]
     },
     "execution_count": 113,
     "metadata": {},
     "output_type": "execute_result"
    }
   ],
   "source": [
    "T"
   ]
  },
  {
   "cell_type": "code",
   "execution_count": 114,
   "id": "477b9f39-a558-42ba-8457-f4a81d77e4c6",
   "metadata": {},
   "outputs": [
    {
     "ename": "AttributeError",
     "evalue": "'tuple' object has no attribute 'append'",
     "output_type": "error",
     "traceback": [
      "\u001b[1;31m---------------------------------------------------------------------------\u001b[0m",
      "\u001b[1;31mAttributeError\u001b[0m                            Traceback (most recent call last)",
      "Cell \u001b[1;32mIn[114], line 1\u001b[0m\n\u001b[1;32m----> 1\u001b[0m T\u001b[38;5;241m.\u001b[39mappend(\u001b[38;5;124m'\u001b[39m\u001b[38;5;124mY\u001b[39m\u001b[38;5;124m'\u001b[39m)\n",
      "\u001b[1;31mAttributeError\u001b[0m: 'tuple' object has no attribute 'append'"
     ]
    }
   ],
   "source": [
    "T.append('Y')"
   ]
  },
  {
   "cell_type": "code",
   "execution_count": 118,
   "id": "96c3303f-a25e-4883-a681-3a6675407170",
   "metadata": {},
   "outputs": [],
   "source": [
    "T1=('red','yellow','orange')  "
   ]
  },
  {
   "cell_type": "code",
   "execution_count": 119,
   "id": "bd59b850-327f-456c-9f30-498138967686",
   "metadata": {},
   "outputs": [
    {
     "data": {
      "text/plain": [
       "['red', 'yellow', 'orange']"
      ]
     },
     "execution_count": 119,
     "metadata": {},
     "output_type": "execute_result"
    }
   ],
   "source": [
    "temp=list(T1)\n",
    "temp"
   ]
  },
  {
   "cell_type": "code",
   "execution_count": 120,
   "id": "2a5a1b07-af32-443d-a642-a010ac17b78b",
   "metadata": {},
   "outputs": [],
   "source": [
    "T1=tuple(temp)"
   ]
  },
  {
   "cell_type": "code",
   "execution_count": 121,
   "id": "3ce3f779-2ec1-4d52-a385-3310ad4474e9",
   "metadata": {},
   "outputs": [
    {
     "data": {
      "text/plain": [
       "('red', 'yellow', 'orange')"
      ]
     },
     "execution_count": 121,
     "metadata": {},
     "output_type": "execute_result"
    }
   ],
   "source": [
    "T1"
   ]
  },
  {
   "cell_type": "markdown",
   "id": "cef48290-f698-4490-bdc8-365daae459f2",
   "metadata": {},
   "source": [
    "# 4.12 Packing and Unpacking"
   ]
  },
  {
   "cell_type": "markdown",
   "id": "7f047394-3658-4e95-9519-a663050f71c6",
   "metadata": {},
   "source": [
    "#packing"
   ]
  },
  {
   "cell_type": "code",
   "execution_count": 122,
   "id": "d3a55547-9fb6-4843-8719-71e89dfb7b1c",
   "metadata": {},
   "outputs": [],
   "source": [
    "T=(\"red\",\"green\",\"blue\")"
   ]
  },
  {
   "cell_type": "code",
   "execution_count": 123,
   "id": "6e0673d9-1d83-43f3-bb3d-c56f90cef602",
   "metadata": {},
   "outputs": [
    {
     "data": {
      "text/plain": [
       "('red', 'green', 'blue')"
      ]
     },
     "execution_count": 123,
     "metadata": {},
     "output_type": "execute_result"
    }
   ],
   "source": [
    "T"
   ]
  },
  {
   "cell_type": "markdown",
   "id": "97946e6c-047b-4f5c-8de3-817ea5ea4e07",
   "metadata": {},
   "source": [
    "#unpacked"
   ]
  },
  {
   "cell_type": "code",
   "execution_count": 124,
   "id": "10fc1cdf-2818-48c4-a90b-4b738ac4dd52",
   "metadata": {},
   "outputs": [
    {
     "name": "stdout",
     "output_type": "stream",
     "text": [
      "red green blue\n"
     ]
    }
   ],
   "source": [
    "r,t,y=T\n",
    "print(r,t,y)"
   ]
  },
  {
   "cell_type": "markdown",
   "id": "54d97e43-9bd9-4507-8a49-aafd983ef382",
   "metadata": {},
   "source": [
    "#too many values unpacked with few variables- error"
   ]
  },
  {
   "cell_type": "code",
   "execution_count": 126,
   "id": "998aed95-6ec8-41c2-a8a9-0f5707416d5e",
   "metadata": {},
   "outputs": [],
   "source": [
    "T=(\"red\",\"green\",\"blue\",\"Violet\",\"white\")"
   ]
  },
  {
   "cell_type": "code",
   "execution_count": 127,
   "id": "86c68fa1-c0ec-45e0-8437-80c08c32ce6d",
   "metadata": {},
   "outputs": [
    {
     "ename": "ValueError",
     "evalue": "too many values to unpack (expected 3)",
     "output_type": "error",
     "traceback": [
      "\u001b[1;31m---------------------------------------------------------------------------\u001b[0m",
      "\u001b[1;31mValueError\u001b[0m                                Traceback (most recent call last)",
      "Cell \u001b[1;32mIn[127], line 1\u001b[0m\n\u001b[1;32m----> 1\u001b[0m r,t,y\u001b[38;5;241m=\u001b[39mT\n\u001b[0;32m      2\u001b[0m \u001b[38;5;28mprint\u001b[39m(r,t,y)\n",
      "\u001b[1;31mValueError\u001b[0m: too many values to unpack (expected 3)"
     ]
    }
   ],
   "source": [
    "r,t,y=T\n",
    "print(r,t,y)"
   ]
  },
  {
   "cell_type": "code",
   "execution_count": 128,
   "id": "7da0ea6a-798c-422b-8843-66150e59f5e0",
   "metadata": {},
   "outputs": [
    {
     "name": "stdout",
     "output_type": "stream",
     "text": [
      "red green blue Violet white\n"
     ]
    }
   ],
   "source": [
    "r,t,*y=T\n",
    "print(r,t,*y)"
   ]
  },
  {
   "cell_type": "markdown",
   "id": "92a78e20-034b-43c7-bcbc-6f8823739fc6",
   "metadata": {},
   "source": [
    "#* is used for printing last many elements(if few elements were used for acessing each item in tuples."
   ]
  },
  {
   "cell_type": "markdown",
   "id": "936c599f-c0b3-48ab-a40c-4bd335f2e8a9",
   "metadata": {},
   "source": [
    "### 4.13 Built in functions on list and tuples"
   ]
  },
  {
   "cell_type": "code",
   "execution_count": 135,
   "id": "392f4e48-8ca0-49cc-8423-436a5753973b",
   "metadata": {},
   "outputs": [],
   "source": [
    "l=[1,2,3,4,5,-1,-2]"
   ]
  },
  {
   "cell_type": "code",
   "execution_count": 136,
   "id": "5780dd4b-a387-43c3-b7de-decbd581248a",
   "metadata": {},
   "outputs": [
    {
     "data": {
      "text/plain": [
       "12"
      ]
     },
     "execution_count": 136,
     "metadata": {},
     "output_type": "execute_result"
    }
   ],
   "source": [
    "sum(l)"
   ]
  },
  {
   "cell_type": "code",
   "execution_count": 137,
   "id": "82e87db9-7669-4185-bcc8-4f50132909f3",
   "metadata": {},
   "outputs": [
    {
     "data": {
      "text/plain": [
       "5"
      ]
     },
     "execution_count": 137,
     "metadata": {},
     "output_type": "execute_result"
    }
   ],
   "source": [
    "max(l)"
   ]
  },
  {
   "cell_type": "code",
   "execution_count": 138,
   "id": "f5c0e311-fa10-4881-9dfc-dc1d732c0ee0",
   "metadata": {},
   "outputs": [
    {
     "data": {
      "text/plain": [
       "-2"
      ]
     },
     "execution_count": 138,
     "metadata": {},
     "output_type": "execute_result"
    }
   ],
   "source": [
    "min(l)"
   ]
  },
  {
   "cell_type": "code",
   "execution_count": 139,
   "id": "678f505d-49b2-4d96-a8f6-59a6f9760eaf",
   "metadata": {},
   "outputs": [
    {
     "data": {
      "text/plain": [
       "True"
      ]
     },
     "execution_count": 139,
     "metadata": {},
     "output_type": "execute_result"
    }
   ],
   "source": [
    "any(l)   #means chekc for atleast has one non zero value in the list."
   ]
  },
  {
   "cell_type": "code",
   "execution_count": 141,
   "id": "0ac63fd7-8e5b-4d40-8163-34b15932b7e3",
   "metadata": {},
   "outputs": [
    {
     "data": {
      "text/plain": [
       "True"
      ]
     },
     "execution_count": 141,
     "metadata": {},
     "output_type": "execute_result"
    }
   ],
   "source": [
    "all(l)  # check if all of them are non zero values"
   ]
  },
  {
   "cell_type": "code",
   "execution_count": 142,
   "id": "adf647e7-eba8-4ce4-bd30-a6b8c5359746",
   "metadata": {},
   "outputs": [
    {
     "data": {
      "text/plain": [
       "<enumerate at 0x235993b4e50>"
      ]
     },
     "execution_count": 142,
     "metadata": {},
     "output_type": "execute_result"
    }
   ],
   "source": [
    "enumerate(l)  #"
   ]
  },
  {
   "cell_type": "code",
   "execution_count": 143,
   "id": "b0aa8899-f43a-430e-9337-67d6a7e7745d",
   "metadata": {},
   "outputs": [
    {
     "data": {
      "text/plain": [
       "[(0, 1), (1, 2), (2, 3), (3, 4), (4, 5), (5, -1), (6, -2)]"
      ]
     },
     "execution_count": 143,
     "metadata": {},
     "output_type": "execute_result"
    }
   ],
   "source": [
    "list(enumerate(l))"
   ]
  },
  {
   "cell_type": "code",
   "execution_count": 145,
   "id": "cf7814b3-2854-4983-92d4-685c77e9b013",
   "metadata": {},
   "outputs": [
    {
     "data": {
      "text/plain": [
       "{0: 1, 1: 2, 2: 3, 3: 4, 4: 5, 5: -1, 6: -2}"
      ]
     },
     "execution_count": 145,
     "metadata": {},
     "output_type": "execute_result"
    }
   ],
   "source": [
    "dict(enumerate(l))  #The enumerate() function in Python adds a counter to an iterable and returns it as an enumerate object. \n",
    "#This can be particularly useful when you need both the index and the value of items in a list during a loop"
   ]
  },
  {
   "cell_type": "code",
   "execution_count": null,
   "id": "e28d7fcb-59e3-42f2-b275-8c11229e2238",
   "metadata": {},
   "outputs": [],
   "source": []
  }
 ],
 "metadata": {
  "kernelspec": {
   "display_name": "Python 3 (ipykernel)",
   "language": "python",
   "name": "python3"
  },
  "language_info": {
   "codemirror_mode": {
    "name": "ipython",
    "version": 3
   },
   "file_extension": ".py",
   "mimetype": "text/x-python",
   "name": "python",
   "nbconvert_exporter": "python",
   "pygments_lexer": "ipython3",
   "version": "3.12.4"
  }
 },
 "nbformat": 4,
 "nbformat_minor": 5
}
