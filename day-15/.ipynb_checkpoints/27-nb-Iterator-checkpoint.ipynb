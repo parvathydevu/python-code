{
 "cells": [
  {
   "cell_type": "markdown",
   "id": "21261f1c-a0af-4b21-b6ff-6ee73bd82a71",
   "metadata": {},
   "source": [
    "# Iterator"
   ]
  },
  {
   "cell_type": "code",
   "execution_count": null,
   "id": "1db7f4a3-a458-4627-a971-2a8f951de543",
   "metadata": {},
   "outputs": [],
   "source": [
    "Definition:\n",
    "Any iterable object is called as an Iterator."
   ]
  },
  {
   "cell_type": "code",
   "execution_count": null,
   "id": "77d93035-2f65-4553-9c89-18b10a555575",
   "metadata": {},
   "outputs": [],
   "source": [
    "using for loop we can iterate.\n",
    "define a custom string rep for our class like wise, "
   ]
  },
  {
   "cell_type": "code",
   "execution_count": null,
   "id": "9b26be1a-4d72-4c43-902b-80bfab3f12ce",
   "metadata": {},
   "outputs": [],
   "source": [
    "Important :2 functions\n",
    "functions: __iter__ and __next__"
   ]
  },
  {
   "cell_type": "markdown",
   "id": "1832bed3-346b-487d-b7f0-b26146e20d1a",
   "metadata": {},
   "source": [
    "# Creating an iterator"
   ]
  },
  {
   "cell_type": "markdown",
   "id": "0ba8ef6b-5e4c-4f94-9d9c-02c42d0b44d8",
   "metadata": {},
   "source": [
    "\"create an iterator print some natural numbers.\""
   ]
  },
  {
   "cell_type": "code",
   "execution_count": null,
   "id": "e5d4a62c-ae36-42d6-ac7e-3cfef349d57d",
   "metadata": {},
   "outputs": [],
   "source": [
    "The __iter__ function is used in a class to make an object iterable. This means you can use the object in a loop, such as a for loop, to iterate over its elements. When you define the __iter__ method in a class, \n",
    "you are essentially telling Python how to iterate over the objects of that class."
   ]
  },
  {
   "cell_type": "code",
   "execution_count": 6,
   "id": "0ffed16c-8837-4e40-978d-96279b09cb85",
   "metadata": {},
   "outputs": [
    {
     "name": "stdout",
     "output_type": "stream",
     "text": [
      "1\n",
      "2\n",
      "3\n",
      "4\n",
      "5\n",
      "6\n",
      "7\n",
      "8\n",
      "9\n",
      "10\n"
     ]
    }
   ],
   "source": [
    "class Number:\n",
    " \n",
    "    # constructor\n",
    "    def __init__(self,minimum,maximum):\n",
    "        self.maxlimit=maximum\n",
    "        self.start=minimum\n",
    "        self.a=0\n",
    " \n",
    "    \n",
    "    # neede for print\n",
    "    def __str__(self):\n",
    "        return f\"My numbers {self.start} {self.maxlimit}\"\n",
    "\n",
    "    # custom representation of the objects\n",
    "    def __repr__(self):\n",
    "        return f\"My class\\nCreated iterable object\"\n",
    "        \n",
    "    # iter(), it is returning an object ,not value after doing some internal changes\n",
    "    def __iter__(self):\n",
    "        self.a=self.start\n",
    "        return self\n",
    " \n",
    "    \n",
    "    # for loop -> Next\n",
    "    def __next__(self):\n",
    "        if self.a<=self.maxlimit:\n",
    "            x=self.a\n",
    "            self.a+=1\n",
    "            return x\n",
    "        else:\n",
    "            raise StopIteration # when all element are completely exhausted ,then system raises stop iteration exepmtion to stop iteration.\n",
    "my_data=Number(1,10)\n",
    "for item in my_data:\n",
    "    print(item)\n",
    "\n",
    " "
   ]
  },
  {
   "cell_type": "code",
   "execution_count": 3,
   "id": "c2a7f452-e25f-4c9b-a719-760399e2dd77",
   "metadata": {},
   "outputs": [],
   "source": [
    "class WeeklyAttendance:\n",
    " \n",
    "    def __init__(self,attendence_data):\n",
    "        self.attendence=attendence_data\n",
    "        self.index=0\n",
    " \n",
    "    def __iter__(self): # It takes elements in object\n",
    "        return self\n",
    " \n",
    "    def __next__(self):\n",
    "        if(self.index<self.attendence[self.index]):\n",
    "            week=self.attendence_data[self.index]\n",
    "            self.index += 1\n",
    "            return week\n",
    "        else:\n",
    "            raise StopIteration"
   ]
  },
  {
   "cell_type": "code",
   "execution_count": 5,
   "id": "1c62ca60-5e70-478c-b634-16d04e915735",
   "metadata": {},
   "outputs": [
    {
     "name": "stdout",
     "output_type": "stream",
     "text": [
      "1\n",
      "2\n",
      "3\n",
      "4\n",
      "5\n"
     ]
    }
   ],
   "source": [
    "class MyIterator:\n",
    "    def __init__(self, data):\n",
    "        self.data = data\n",
    "        self.index = 0\n",
    "\n",
    "    def __iter__(self):\n",
    "        return self\n",
    "\n",
    "    def __next__(self):\n",
    "        if self.index < len(self.data):\n",
    "            result = self.data[self.index]\n",
    "            self.index += 1\n",
    "            return result\n",
    "        else:\n",
    "            raise StopIteration\n",
    "\n",
    "# Creating an instance of MyIterator\n",
    "my_iter = MyIterator([1, 2, 3, 4, 5])\n",
    "\n",
    "# Using the instance in a for loop\n",
    "for item in my_iter:\n",
    "    print(item)\n"
   ]
  },
  {
   "cell_type": "code",
   "execution_count": null,
   "id": "29766b6c-0bb6-4516-8ade-bdcf0c567dea",
   "metadata": {},
   "outputs": [],
   "source": [
    "#Function Termination: return terminates the function, while yield pauses the function and can resume later.\n",
    "Use Case: return is used in regular functions to return a single value or a set of values. \n",
    "yield is used in generator functions to produce a sequence of values over time.\n",
    "State Preservation: \n",
    "yield preserves the functions state between calls, allowing it to continue from where it left off."
   ]
  },
  {
   "cell_type": "code",
   "execution_count": 7,
   "id": "321bf727-7869-4f6d-b9c3-eb1212ab84a9",
   "metadata": {},
   "outputs": [
    {
     "name": "stdout",
     "output_type": "stream",
     "text": [
      "42\n"
     ]
    }
   ],
   "source": [
    "def simple_function():\n",
    "    return 42\n",
    "\n",
    "result = simple_function()\n",
    "print(result)  # Output: 42\n"
   ]
  },
  {
   "cell_type": "code",
   "execution_count": 8,
   "id": "ba49416d-38e7-4329-bf93-b4b08e1d34be",
   "metadata": {},
   "outputs": [
    {
     "name": "stdout",
     "output_type": "stream",
     "text": [
      "1\n",
      "2\n",
      "3\n"
     ]
    }
   ],
   "source": [
    "def simple_generator():\n",
    "    yield 1\n",
    "    yield 2\n",
    "    yield 3\n",
    "\n",
    "gen = simple_generator()\n",
    "for value in gen:\n",
    "    print(value)"
   ]
  },
  {
   "cell_type": "code",
   "execution_count": null,
   "id": "a5622ba8-3090-4b0f-8723-d39e8c1e47cf",
   "metadata": {},
   "outputs": [],
   "source": [
    "#contecxt manager 0-with as--managing memory, likewise generator also managing memory space."
   ]
  }
 ],
 "metadata": {
  "kernelspec": {
   "display_name": "Python 3 (ipykernel)",
   "language": "python",
   "name": "python3"
  },
  "language_info": {
   "codemirror_mode": {
    "name": "ipython",
    "version": 3
   },
   "file_extension": ".py",
   "mimetype": "text/x-python",
   "name": "python",
   "nbconvert_exporter": "python",
   "pygments_lexer": "ipython3",
   "version": "3.12.4"
  }
 },
 "nbformat": 4,
 "nbformat_minor": 5
}
