{
 "cells": [
  {
   "cell_type": "markdown",
   "id": "d38e3a0d-5b3c-4fb1-a2e7-649d8d5d64b2",
   "metadata": {},
   "source": [
    "### Abstract classes are blueprints for deriving other classes. it is the class of  a class "
   ]
  },
  {
   "cell_type": "code",
   "execution_count": null,
   "id": "cc1de69d-3882-4987-80b5-07542937c11f",
   "metadata": {},
   "outputs": [],
   "source": [
    "The abc module - https://docs.python.org/3/library/abc.html "
   ]
  },
  {
   "cell_type": "code",
   "execution_count": null,
   "id": "bf6a6135-f26e-4df2-9510-7e2b7e2758cd",
   "metadata": {},
   "outputs": [],
   "source": [
    "class need another class- It is called abstract class"
   ]
  },
  {
   "cell_type": "code",
   "execution_count": null,
   "id": "86ee0874-1634-4198-a1e5-68a84f5eaba6",
   "metadata": {},
   "outputs": [],
   "source": [
    "They cannot be instantiated directly\n",
    "have abstract method (methods with  no implementation)\n",
    "- will enforce the implementation of the function in the derived class"
   ]
  },
  {
   "cell_type": "markdown",
   "id": "78036ac1-138b-4b2b-866a-5781639b7038",
   "metadata": {},
   "source": [
    "python built in module- abc() Abstract Base Class-perform below methods in to the class \n",
    "-@abstractmethod  --decorator\n",
    "-Abstractproperty -@property +@abstractmethod \n",
    "                  -@classmethod +@abstractmethod\n",
    "                  -@staticmethod +@abstractmethod"
   ]
  },
  {
   "cell_type": "markdown",
   "id": "e99680a0-b78b-4f70-9169-89f3e93c22ef",
   "metadata": {},
   "source": [
    "# Example"
   ]
  },
  {
   "cell_type": "code",
   "execution_count": 25,
   "id": "2b636c65-1ad6-4d96-8738-6a35949e820e",
   "metadata": {},
   "outputs": [],
   "source": [
    "from abc import ABC, abstractmethod\n",
    "import math"
   ]
  },
  {
   "cell_type": "code",
   "execution_count": 10,
   "id": "f4332022-bd28-4681-8704-ad8c770262e7",
   "metadata": {},
   "outputs": [],
   "source": [
    "class Shape(ABC):\n",
    "    @abstractmethod\n",
    "    def area(self):\n",
    "        pass\n",
    "        #first child class \n",
    "class Circle(Shape):\n",
    "    def __init__(self,radius):\n",
    "        self.radius=radius\n",
    "    def area(self):\n",
    "        return math.pi*(self.radius)**2\n",
    "        "
   ]
  },
  {
   "cell_type": "code",
   "execution_count": 4,
   "id": "aee111a0-b0ba-4696-8017-60ad18634b23",
   "metadata": {},
   "outputs": [],
   "source": [
    "c=Circle(5)"
   ]
  },
  {
   "cell_type": "code",
   "execution_count": 7,
   "id": "2575ab3a-3848-4a14-a6b0-e9c3118b3c6d",
   "metadata": {},
   "outputs": [
    {
     "data": {
      "text/plain": [
       "78.53981633974483"
      ]
     },
     "execution_count": 7,
     "metadata": {},
     "output_type": "execute_result"
    }
   ],
   "source": [
    "c.area()"
   ]
  },
  {
   "cell_type": "code",
   "execution_count": 9,
   "id": "56c76983-3430-4b1e-a002-480c569afba1",
   "metadata": {},
   "outputs": [
    {
     "data": {
      "text/plain": [
       "<bound method Circle.area of <__main__.Circle object at 0x000002B4416F0290>>"
      ]
     },
     "execution_count": 9,
     "metadata": {},
     "output_type": "execute_result"
    }
   ],
   "source": [
    "c.area  #not a property so we need to call property"
   ]
  },
  {
   "cell_type": "code",
   "execution_count": 30,
   "id": "f5ede714-38b8-4147-ab16-d74ee8152ef1",
   "metadata": {},
   "outputs": [],
   "source": [
    "#second child class\n",
    "class Triangle(Shape):\n",
    "    def __init__(self,a,b,c):\n",
    "        self.a=a\n",
    "        self.b=b\n",
    "        self.c=c\n",
    "    def circum(self):\n",
    "        return self.a+self.b+self.c"
   ]
  },
  {
   "cell_type": "code",
   "execution_count": 31,
   "id": "4ce13d55-b9c9-4a2f-8b9c-e3a15476030a",
   "metadata": {},
   "outputs": [
    {
     "ename": "TypeError",
     "evalue": "Can't instantiate abstract class Triangle without an implementation for abstract method 'area'",
     "output_type": "error",
     "traceback": [
      "\u001b[1;31m---------------------------------------------------------------------------\u001b[0m",
      "\u001b[1;31mTypeError\u001b[0m                                 Traceback (most recent call last)",
      "Cell \u001b[1;32mIn[31], line 1\u001b[0m\n\u001b[1;32m----> 1\u001b[0m t\u001b[38;5;241m=\u001b[39mTriangle(\u001b[38;5;241m1\u001b[39m,\u001b[38;5;241m2\u001b[39m,\u001b[38;5;241m3\u001b[39m)\n\u001b[0;32m      2\u001b[0m t\u001b[38;5;241m.\u001b[39mcircum()\n",
      "\u001b[1;31mTypeError\u001b[0m: Can't instantiate abstract class Triangle without an implementation for abstract method 'area'"
     ]
    }
   ],
   "source": [
    "t=Triangle(1,2,3)\n",
    "t.circum()"
   ]
  },
  {
   "cell_type": "code",
   "execution_count": null,
   "id": "cf1b6edd-0022-410c-b944-c972fa3f5d6a",
   "metadata": {},
   "outputs": [],
   "source": [
    "#can't instantiate abstratc class. only area () is there in abstract method"
   ]
  },
  {
   "cell_type": "code",
   "execution_count": 18,
   "id": "f0143858-52c5-47a4-9e43-eb1d52000ebc",
   "metadata": {},
   "outputs": [],
   "source": [
    "class Shape(ABC):\n",
    "    @property\n",
    "    @abstractmethod\n",
    "    def area(self):\n",
    "        pass\n",
    "        #first child class \n",
    "class Circle(Shape):\n",
    "    def __init__(self,radius):\n",
    "        self.radius=radius\n",
    "    @property\n",
    "    def area(self):\n",
    "        return math.pi*(self.radius)**2"
   ]
  },
  {
   "cell_type": "code",
   "execution_count": 32,
   "id": "f8d1170e-264e-4fbf-974e-bf9866f6985a",
   "metadata": {},
   "outputs": [
    {
     "data": {
      "text/plain": [
       "28.274333882308138"
      ]
     },
     "execution_count": 32,
     "metadata": {},
     "output_type": "execute_result"
    }
   ],
   "source": [
    "c1=Circle(3)\n",
    "c1.area  #use @property to print the area."
   ]
  },
  {
   "cell_type": "code",
   "execution_count": null,
   "id": "2108f82c-3d38-48dd-947f-db538086722e",
   "metadata": {},
   "outputs": [],
   "source": []
  }
 ],
 "metadata": {
  "kernelspec": {
   "display_name": "Python 3 (ipykernel)",
   "language": "python",
   "name": "python3"
  },
  "language_info": {
   "codemirror_mode": {
    "name": "ipython",
    "version": 3
   },
   "file_extension": ".py",
   "mimetype": "text/x-python",
   "name": "python",
   "nbconvert_exporter": "python",
   "pygments_lexer": "ipython3",
   "version": "3.12.4"
  }
 },
 "nbformat": 4,
 "nbformat_minor": 5
}
