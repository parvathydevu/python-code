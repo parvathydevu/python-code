{
 "cells": [
  {
   "cell_type": "code",
   "execution_count": null,
   "id": "dffea416-0fcf-49fb-bdec-53ca708b3de8",
   "metadata": {},
   "outputs": [],
   "source": [
    "''' Task 1: Chunking data with generators\n",
    "--------------------------------------------------------\n",
    "\n",
    "You have a large list of items (e.g., 10,000 user IDs), and you want to process \n",
    "them in chunks of fixed size (say 100) — maybe for batching in an API call.\n",
    "\n",
    "Example:\n",
    "\n",
    "for chunk in chunk_data(user_ids, 100):\n",
    "    print(f\"Processing chunk: {chunk[:3]}...{chunk[-3:]}\")  # show partial chunk\n",
    "\n",
    "Processing chunk: [1, 2, 3]...[98, 99, 100]\n",
    "Processing chunk: [101, 102, 103]...[198, 199, 200]'''"
   ]
  },
  {
   "cell_type": "code",
   "execution_count": 27,
   "id": "e5336c3c-73b1-40f1-bf04-283dfddfa7af",
   "metadata": {},
   "outputs": [],
   "source": [
    "def chunk_data(data, chunk_size, include_index=True):  # data-The list of items to be chunked-user-ids.,chunk_size: The size of each chunk.\n",
    "\n",
    "    # yield the chunks\n",
    "    for i in range(0, len(data), chunk_size): \n",
    "        yield data[i:i + chunk_size]"
   ]
  },
  {
   "cell_type": "code",
   "execution_count": 28,
   "id": "b56fe899-dc28-4cfd-a068-c3b2c0e9cc8c",
   "metadata": {},
   "outputs": [
    {
     "name": "stdout",
     "output_type": "stream",
     "text": [
      "Processing chunk: [1, 2, 3]...[98, 99, 100]\n"
     ]
    }
   ],
   "source": [
    "data = list(range(1, 101)) \n",
    "chunk_size=100\n",
    "\n",
    "for chunk in chunk_data(data, chunk_size):\n",
    "    print(f\"Processing chunk: {chunk[:3]}...{chunk[-3:]}\")"
   ]
  },
  {
   "cell_type": "code",
   "execution_count": 21,
   "id": "e286e079-181d-4d20-97bd-94d56e166d29",
   "metadata": {},
   "outputs": [
    {
     "name": "stdout",
     "output_type": "stream",
     "text": [
      "Processing chunk: [101, 102, 103]...[198, 199, 200]\n"
     ]
    }
   ],
   "source": [
    "user_ids = list(range(101, 201))  \n",
    "\n",
    "for chunk in chunk_data(user_ids, 100):  #data is user_ids\n",
    "    print(f\"Processing chunk: {chunk[:3]}...{chunk[-3:]}\")"
   ]
  },
  {
   "cell_type": "code",
   "execution_count": 22,
   "id": "d2bd26dc-0566-4c76-86fc-77436a3f5b53",
   "metadata": {},
   "outputs": [
    {
     "name": "stdout",
     "output_type": "stream",
     "text": [
      "Processing chunk: [1, 2, 3]...[8, 9, 10]\n",
      "Processing chunk: [11, 12, 13]...[18, 19, 20]\n",
      "Processing chunk: [21, 22, 23]...[28, 29, 30]\n",
      "Processing chunk: [31, 32, 33]...[38, 39, 40]\n",
      "Processing chunk: [41, 42, 43]...[48, 49, 50]\n",
      "Processing chunk: [51, 52, 53]...[58, 59, 60]\n",
      "Processing chunk: [61, 62, 63]...[68, 69, 70]\n",
      "Processing chunk: [71, 72, 73]...[78, 79, 80]\n",
      "Processing chunk: [81, 82, 83]...[88, 89, 90]\n",
      "Processing chunk: [91, 92, 93]...[98, 99, 100]\n"
     ]
    }
   ],
   "source": [
    "user_ids = list(range(1, 101))  \n",
    "\n",
    "for chunk in chunk_data(user_ids, 10):  #the data-user_id,if 10 is size \n",
    "    print(f\"Processing chunk: {chunk[:3]}...{chunk[-3:]}\")"
   ]
  },
  {
   "cell_type": "code",
   "execution_count": null,
   "id": "10aaf2bd-b266-4a05-acd4-56639d6ba048",
   "metadata": {},
   "outputs": [],
   "source": [
    "'''  Stream-Based Line Filtering (Simulating Log Monitor)\n",
    "--------------------------------------------------------\n",
    "\n",
    "You’re processing live logs and want to filter lines that contain a keyword, say \"ERROR\".\n",
    "Write a generator: filter_log_lines\n",
    "\n",
    "\n",
    "Example:\n",
    "\n",
    "# Simulated log lines (could also be read line-by-line from a real file)\n",
    "log_lines = [\n",
    "    \"2025-04-07 INFO User logged in\",\n",
    "    \"2025-04-07 ERROR Failed to load resource\",\n",
    "    \"2025-04-07 DEBUG Memory usage stable\",\n",
    "    \"2025-04-07 ERROR Timeout occurred\",\n",
    "]\n",
    "\n",
    "# Filter for error lines\n",
    "for error in filter_log_lines(log_lines, keyword=\"ERROR\"):\n",
    "    print(\">>\", error)\n",
    "\n",
    "Output:\n",
    ">> 2025-04-07 ERROR Failed to load resource\n",
    ">> 2025-04-07 ERROR Timeout occurred'''"
   ]
  },
  {
   "cell_type": "code",
   "execution_count": 25,
   "id": "d12951aa-8ff0-4693-a41a-428a262d10f0",
   "metadata": {},
   "outputs": [
    {
     "name": "stdout",
     "output_type": "stream",
     "text": [
      ">> 2025-04-07 ERROR Failed to load resource\n",
      ">> 2025-04-07 ERROR Timeout occurred\n"
     ]
    }
   ],
   "source": [
    "def filter_log_lines(log_lines, keyword):\n",
    "    \"\"\"Yield log lines that contain the specified keyword.\"\"\"\n",
    "    for line in log_lines:\n",
    "        if keyword in line:\n",
    "            yield line\n",
    "\n",
    "# Example usage\n",
    "log_lines = [\n",
    "    \"2025-04-07 INFO User logged in\",\n",
    "    \"2025-04-07 ERROR Failed to load resource\",\n",
    "    \"2025-04-07 DEBUG Memory usage stable\",\n",
    "    \"2025-04-07 ERROR Timeout occurred\",\n",
    "]\n",
    "\n",
    "# Filter for error lines\n",
    "for error in filter_log_lines(log_lines, keyword=\"ERROR\"):\n",
    "    print(\">>\", error)\n"
   ]
  },
  {
   "cell_type": "code",
   "execution_count": null,
   "id": "fa73a6bd-a665-4e24-a608-3181ec87ff08",
   "metadata": {},
   "outputs": [],
   "source": [
    " Function Definition: filter_log_lines takes two parameters:\n",
    "log_lines: A list of log lines.\n",
    "keyword: The keyword to filter the log lines by.\n",
    "For Loop: Iterates over each line in log_lines.\n",
    "Keyword Check: Checks if the keyword is in the current line.\n",
    "Yield Statement: If the keyword is found, the line is yielded.(yield-used for better memory usage ,instead of return statement)"
   ]
  },
  {
   "cell_type": "code",
   "execution_count": 65,
   "id": "417b3025-65fe-4754-ae4e-2f56826c39a0",
   "metadata": {},
   "outputs": [
    {
     "name": "stdout",
     "output_type": "stream",
     "text": [
      ">> 2025-04-07 ERROR Failed to load resource\n",
      ">> 2025-04-07 ERROR Timeout occurred\n"
     ]
    }
   ],
   "source": [
    "def filter_log_lines(log_lines, keyword):\n",
    "    for line in log_lines:\n",
    "        if keyword in line:\n",
    "            yield line\n",
    "log_lines = [\n",
    "    \"2025-04-07 INFO User logged in\",\n",
    "    \"2025-04-07 ERROR Failed to load resource\",\n",
    "    \"2025-04-07 DEBUG Memory usage stable\",\n",
    "    \"2025-04-07 ERROR Timeout occurred\",\n",
    "]\n",
    "for error in filter_log_lines(log_lines, keyword=\"ERROR\"):\n",
    "    print(\">>\", error)"
   ]
  },
  {
   "cell_type": "code",
   "execution_count": null,
   "id": "57536cf2-b3a9-4572-897d-fca56d424136",
   "metadata": {},
   "outputs": [],
   "source": [
    "''' Task 3 Progress Tracker\n",
    "--------------------------------------------------------\n",
    "\n",
    "Simulate a progress bar using a generator called progress_tracker(total_steps). \n",
    "At each step, yield the progress percentage as a string like \"Progress: 20%\".\n",
    "\n",
    "# Example:\n",
    "for p in progress_tracker(5):\n",
    "    print(p)\n",
    "\n",
    "Progress: 20%\n",
    "Progress: 40%\n",
    "Progress: 60%\n",
    "Progress: 80%\n",
    "Progress: 100%\n",
    "\n",
    "Use a loop and yield formatted strings based on (step / total_steps) * 100.'''"
   ]
  },
  {
   "cell_type": "code",
   "execution_count": 64,
   "id": "efbd9541-6dec-4542-9e12-de593d78be9b",
   "metadata": {},
   "outputs": [
    {
     "name": "stdout",
     "output_type": "stream",
     "text": [
      "progress: 20 %\n",
      "progress: 40 %\n",
      "progress: 60 %\n",
      "progress: 80 %\n",
      "progress: 100 %\n"
     ]
    }
   ],
   "source": [
    "def progress_tracker(total_steps):\n",
    "    for step in range(1,total_steps+1): # (1,6)--range ->1 to 5 \n",
    "        progress=(step/total_steps)*100  \n",
    "        yield f\"{progress:.0f} %\"\n",
    "for p in progress_tracker(5):\n",
    "    print(\"progress:\",p)"
   ]
  },
  {
   "cell_type": "code",
   "execution_count": null,
   "id": "50463448-80d1-497c-89b7-7aca84b52aac",
   "metadata": {},
   "outputs": [],
   "source": [
    "1. This line defines a function named progress_tracker that takes one argument,\n",
    "total_steps, which represents the total number of steps in the progress tracker.\n",
    "2. This line initiates a loop that iterates from 1 to total_steps. The range(1, total_steps + 1) generates\n",
    "a sequence of numbers starting from 1 up to and including total_steps. \n",
    "For example, if total_steps is 5, the loop will iterate over the values 1, 2, 3, 4, and 5.\n",
    "3. Within the loop, this line calculates the progress percentage for the current step. It divides the current step number by the total number \n",
    "of steps and multiplies by 100 to get the percentage. For example, if step is 1 and total_steps is 5, the progress will be (1 / 5) * 100 = 20%.\n",
    "4. This line yields the progress percentage as a formatted string. The f\"{progress:.0f} %\" \n",
    "expression formats the progress value to zero decimal places and appends a percentage sign. For example, if progress is 20, it yields \"20 %\"\n",
    "5. This loop calls the progress_tracker function with total_steps set to 5 and iterates over the values yielded by the generator.\n",
    "For each value yielded, it prints the progress percentage."
   ]
  },
  {
   "cell_type": "code",
   "execution_count": null,
   "id": "f19d780d-2281-4b72-90db-c8e273b0e1ec",
   "metadata": {},
   "outputs": [],
   "source": [
    "''' Task #1\n",
    "--------------------------------------------------------\n",
    "Create a text-processing tool that reads a paragraph and returns each word \n",
    "one at a time when iterated over. You want to build a custom iterator \n",
    "class called WordIterator that takes a string of text and lets users \n",
    "iterate through its words using a for loop or next().\n",
    "\n",
    "# Sample paragraph\n",
    "paragraph = \"Python is a powerful and versatile programming language.\"\n",
    "\n",
    "# Create the iterator\n",
    "word_iter = WordIterator(paragraph)\n",
    "\n",
    "# Iterate through the words\n",
    "for word in word_iter:\n",
    "    print(word)\n",
    "\n",
    "# Output\n",
    "Python\n",
    "is\n",
    "a\n",
    "powerful\n",
    "and\n",
    "versatile\n",
    "programming\n",
    "language.'''"
   ]
  },
  {
   "cell_type": "code",
   "execution_count": 41,
   "id": "4c344eaf-cfca-4188-b43f-2420a1e8096c",
   "metadata": {},
   "outputs": [],
   "source": [
    "class MyNumbers:\n",
    "\n",
    "    # constructor\n",
    "    def __init__(self, minimum, maximum):\n",
    "        self.maximum = maximum\n",
    "        self.minimum = minimum\n",
    "        self.a = minimum\n",
    "\n",
    "    # print()\n",
    "    def __str__(self):\n",
    "        return f\"MyNumbers {self.minimum} {self.maximum}\"\n",
    "\n",
    "    # custom representation of the objects\n",
    "    def __repr__(self):\n",
    "        return f\"MyClass\"\n",
    "\n",
    "    # obj <- iter(obj)\n",
    "    def __iter__(self):\n",
    "        self.a = self.minimum\n",
    "        return self\n",
    "        \n",
    "    # for loop -> next()\n",
    "    def __next__(self):\n",
    "        if self.a <= self.maximum:\n",
    "            x = self.a\n",
    "            self.a += 1\n",
    "            return x\n",
    "        else:\n",
    "            raise StopIteration\n",
    "            "
   ]
  },
  {
   "cell_type": "code",
   "execution_count": 43,
   "id": "5b810c35-b17c-423e-8471-8da2cc4bf5aa",
   "metadata": {},
   "outputs": [],
   "source": [
    "m = MyNumbers(1, 10)"
   ]
  },
  {
   "cell_type": "code",
   "execution_count": 47,
   "id": "09c7dea9-a91e-4e71-bdda-648ec290016d",
   "metadata": {},
   "outputs": [
    {
     "data": {
      "text/plain": [
       "MyClass"
      ]
     },
     "execution_count": 47,
     "metadata": {},
     "output_type": "execute_result"
    }
   ],
   "source": [
    "m"
   ]
  },
  {
   "cell_type": "code",
   "execution_count": 48,
   "id": "e70b94cd-e0a5-43ac-8b9f-188ef54ff875",
   "metadata": {},
   "outputs": [
    {
     "name": "stdout",
     "output_type": "stream",
     "text": [
      "MyNumbers 1 10\n"
     ]
    }
   ],
   "source": [
    "print(m)"
   ]
  },
  {
   "cell_type": "code",
   "execution_count": null,
   "id": "da7ad5f4-c4b3-44a6-8eba-e87af05cb9eb",
   "metadata": {},
   "outputs": [],
   "source": [
    "''' Task #1\n",
    "--------------------------------------------------------\n",
    "Create a text-processing tool that reads a paragraph and returns each word \n",
    "one at a time when iterated over. You want to build a custom iterator \n",
    "class called WordIterator that takes a string of text and lets users \n",
    "iterate through its words using a for loop or next().\n",
    "\n",
    "# Sample paragraph\n",
    "paragraph = \"Python is a powerful and versatile programming language.\"\n",
    "\n",
    "# Create the iterator\n",
    "word_iter = WordIterator(paragraph)\n",
    "\n",
    "# Iterate through the words\n",
    "for word in word_iter:\n",
    "    print(word)'''"
   ]
  },
  {
   "cell_type": "code",
   "execution_count": 59,
   "id": "38acb04d-f9e4-4418-a184-7003aaa95c97",
   "metadata": {},
   "outputs": [],
   "source": [
    "#CUSTOM ITERATOR\n",
    "class WordIterator:\n",
    "    #constructor\n",
    "    def __init__(self,para):\n",
    "        self.para=para\n",
    "        self.index=0\n",
    "        self.word=\" \"\n",
    "    def __iter__(self):  #turns input to iterable, object turns to iterable\n",
    "        return self\n",
    "    def __next__(self):\n",
    "        self.word = self.para.split()\n",
    "        if(self.index < len(self.word)):\n",
    "            word = self.word[self.index]\n",
    "            self.index += 1\n",
    "            return word\n",
    "        else:\n",
    "            raise StopIteration"
   ]
  },
  {
   "cell_type": "code",
   "execution_count": 62,
   "id": "40f46b9f-1ec4-4e46-84e5-1d9f3fae1b0f",
   "metadata": {},
   "outputs": [
    {
     "name": "stdout",
     "output_type": "stream",
     "text": [
      "Python\n",
      "is\n",
      "a\n",
      "powerful\n",
      "and\n",
      "versatile\n",
      "programming\n",
      "language.\n"
     ]
    }
   ],
   "source": [
    "# Sample paragraph\n",
    "paragraph = \"Python is a powerful and versatile programming language.\"\n",
    "# Create the iterator\n",
    "word_iter = WordIterator(paragraph)  #pass paragraph to class wordIterator\n",
    "for word in word_iter:\n",
    "    print(word)"
   ]
  },
  {
   "cell_type": "markdown",
   "id": "2c16ea73-f6fe-4008-8bca-349fb0bdee02",
   "metadata": {},
   "source": [
    "#Method Definition: def __iter__(self): defines the __iter__ method. This method is part of Python's iterator protocol.\n",
    "Returning self: return self returns the instance of the class itself. This indicates that the object is its own iterator"
   ]
  },
  {
   "cell_type": "code",
   "execution_count": null,
   "id": "02825b1b-a5e8-454f-af4d-3f2d5aee1293",
   "metadata": {},
   "outputs": [],
   "source": [
    "For an object to be an iterator, it must implement two methods: __iter__() and __next__(). \n",
    "The __iter__ method should return the iterator object itself, and the __next__ method should return the next item in the sequence."
   ]
  },
  {
   "cell_type": "markdown",
   "id": "9be0219d-9e5a-44f0-beb8-cd5cf868ba95",
   "metadata": {},
   "source": [
    "# metaclass"
   ]
  },
  {
   "cell_type": "code",
   "execution_count": null,
   "id": "131ee8ef-76e8-4ba4-8a19-ff3399aa13db",
   "metadata": {},
   "outputs": [],
   "source": [
    "''' Task 1: Checking method existance\n",
    "--------------------------------------------------\n",
    "\n",
    "Create a metaclass called RequireToString that ensures any class using it must define a \n",
    "__str__ method. If a class does not define __str__, raise a TypeError during class creation.'''"
   ]
  },
  {
   "cell_type": "code",
   "execution_count": 66,
   "id": "1f61b59d-9320-40ad-872f-139ea058d271",
   "metadata": {},
   "outputs": [
    {
     "name": "stdout",
     "output_type": "stream",
     "text": [
      "This is MyClass\n",
      "Class AnotherClass must define a __str__ method\n"
     ]
    }
   ],
   "source": [
    "#metaclass\n",
    "class RequireToString(type):\n",
    "    def __new__(cls, name, bases, dct):\n",
    "        if '__str__' not in dct:\n",
    "            raise TypeError(f\"Class {name} must define a __str__ method\")\n",
    "        return super().__new__(cls, name, bases, dct)\n",
    "\n",
    "# Example\n",
    "class MyClass(metaclass=RequireToString):\n",
    "    def __str__(self):\n",
    "        return \"This is MyClass\"\n",
    "\n",
    "# This will work fine\n",
    "print(MyClass())\n",
    "\n",
    "# Example of a class that will raise TypeError\n",
    "try:\n",
    "    class AnotherClass(metaclass=RequireToString):\n",
    "        pass\n",
    "except TypeError as e:\n",
    "    print(e)  # Output: Class AnotherClass must define a __str__ method"
   ]
  },
  {
   "cell_type": "code",
   "execution_count": 78,
   "id": "be5717fa-595d-4cf7-b903-64e9d5982532",
   "metadata": {},
   "outputs": [],
   "source": [
    "#metaclass-answer\n",
    "class RequireToString(type):\n",
    "    def __new__(cls, name, bases, dct):\n",
    "        #Validate the field_types\n",
    "        if '__str__' not in dct:\n",
    "            raise TypeError(f\"Class {name} must define a __str__ method\")\n",
    "        return super().__new__(cls, name, bases, dct)"
   ]
  },
  {
   "cell_type": "code",
   "execution_count": 76,
   "id": "a5fb1aa6-8e85-48c0-9dc6-2fd06fd9e60e",
   "metadata": {},
   "outputs": [],
   "source": [
    "class Sample(metaclass = RequireToString):  #WITH STR\n",
    "    def __init__(self):\n",
    "        print(\"Class created\")\n",
    "    def __str__(self):\n",
    "        print(\"String method\")"
   ]
  },
  {
   "cell_type": "code",
   "execution_count": 77,
   "id": "dca2699e-34fe-42f6-93ad-bef7e5af3f72",
   "metadata": {},
   "outputs": [
    {
     "ename": "TypeError",
     "evalue": "Class Sample must define a __str__ method",
     "output_type": "error",
     "traceback": [
      "\u001b[1;31m---------------------------------------------------------------------------\u001b[0m",
      "\u001b[1;31mTypeError\u001b[0m                                 Traceback (most recent call last)",
      "Cell \u001b[1;32mIn[77], line 1\u001b[0m\n\u001b[1;32m----> 1\u001b[0m \u001b[38;5;28;01mclass\u001b[39;00m \u001b[38;5;21;01mSample\u001b[39;00m(metaclass \u001b[38;5;241m=\u001b[39m RequireToString): \u001b[38;5;66;03m#WITHOUT STR-ERROR.\u001b[39;00m\n\u001b[0;32m      2\u001b[0m     \u001b[38;5;28;01mdef\u001b[39;00m \u001b[38;5;21m__init__\u001b[39m(\u001b[38;5;28mself\u001b[39m):\n\u001b[0;32m      3\u001b[0m         \u001b[38;5;28mprint\u001b[39m(\u001b[38;5;124m\"\u001b[39m\u001b[38;5;124mClass created\u001b[39m\u001b[38;5;124m\"\u001b[39m)\n",
      "Cell \u001b[1;32mIn[71], line 6\u001b[0m, in \u001b[0;36mRequireToString.__new__\u001b[1;34m(cls, name, bases, dct)\u001b[0m\n\u001b[0;32m      3\u001b[0m \u001b[38;5;28;01mdef\u001b[39;00m \u001b[38;5;21m__new__\u001b[39m(\u001b[38;5;28mcls\u001b[39m, name, bases, dct):\n\u001b[0;32m      4\u001b[0m     \u001b[38;5;66;03m#Validate the field_types\u001b[39;00m\n\u001b[0;32m      5\u001b[0m     \u001b[38;5;28;01mif\u001b[39;00m \u001b[38;5;124m'\u001b[39m\u001b[38;5;124m__str__\u001b[39m\u001b[38;5;124m'\u001b[39m \u001b[38;5;129;01mnot\u001b[39;00m \u001b[38;5;129;01min\u001b[39;00m dct:\n\u001b[1;32m----> 6\u001b[0m         \u001b[38;5;28;01mraise\u001b[39;00m \u001b[38;5;167;01mTypeError\u001b[39;00m(\u001b[38;5;124mf\u001b[39m\u001b[38;5;124m\"\u001b[39m\u001b[38;5;124mClass \u001b[39m\u001b[38;5;132;01m{\u001b[39;00mname\u001b[38;5;132;01m}\u001b[39;00m\u001b[38;5;124m must define a __str__ method\u001b[39m\u001b[38;5;124m\"\u001b[39m)\n\u001b[0;32m      7\u001b[0m     \u001b[38;5;28;01mreturn\u001b[39;00m \u001b[38;5;28msuper\u001b[39m()\u001b[38;5;241m.\u001b[39m\u001b[38;5;21m__new__\u001b[39m(\u001b[38;5;28mcls\u001b[39m, name, bases, dct)\n",
      "\u001b[1;31mTypeError\u001b[0m: Class Sample must define a __str__ method"
     ]
    }
   ],
   "source": [
    "class Sample(metaclass = RequireToString): #WITHOUT STR-ERROR.\n",
    "    def __init__(self):\n",
    "        print(\"Class created\")"
   ]
  },
  {
   "cell_type": "code",
   "execution_count": null,
   "id": "3bbe13c1-d2ff-4f3e-8883-17622c2616c5",
   "metadata": {},
   "outputs": [],
   "source": [
    "# Custom Exception"
   ]
  },
  {
   "cell_type": "code",
   "execution_count": null,
   "id": "6168ab51-16f8-4a8c-9409-788760a75200",
   "metadata": {},
   "outputs": [],
   "source": [
    "''' Task 3: Creating custom exception\n",
    "--------------------------------------------------\n",
    "\n",
    "Create a NegativeNumberException\n",
    "\n",
    "Define a nfactorial(n) function in which the above exception is raised\n",
    "\n",
    "Use an exception handler to capture the exception when factorial() is\n",
    "called with negative numbers''''"
   ]
  },
  {
   "cell_type": "code",
   "execution_count": 88,
   "id": "8534b7d1-1af9-478c-8518-04ba4a763532",
   "metadata": {},
   "outputs": [],
   "source": [
    "class NegativeNumberException(Exception):\n",
    "    def __init__(self, number, msg=\"Negative numbers are not allowed\"):\n",
    "        self.number = number\n",
    "        self.msg = msg\n",
    "        super().__init__(self.msg)\n",
    "\n",
    "    def __str__(self):\n",
    "        return f\"{self.msg} -> Given {self.number}\"\n",
    "\n",
    "class Factorial:\n",
    "    def __init__(self, number):\n",
    "        if number < 0:\n",
    "            raise NegativeNumberException(number)\n",
    "        self.number = number\n",
    "\n",
    "    def calculate(self):\n",
    "        if self.number == 0 or self.number == 1:\n",
    "            return 1\n",
    "        else:\n",
    "            result = 1\n",
    "            for i in range(2, self.number + 1):\n",
    "                result *= i\n",
    "            return result\n",
    "\n",
    "    def get_details(self):\n",
    "        return self.number\n"
   ]
  },
  {
   "cell_type": "code",
   "execution_count": 94,
   "id": "0459f55f-999a-4c33-9d66-901df64eb13a",
   "metadata": {},
   "outputs": [],
   "source": [
    "try:\n",
    "    c = Factorial(5)\n",
    "    c.get_details()\n",
    "except Exception as e:\n",
    "    print(e)"
   ]
  },
  {
   "cell_type": "code",
   "execution_count": 95,
   "id": "3c770f30-718e-40af-a628-9239863859fa",
   "metadata": {},
   "outputs": [
    {
     "name": "stdout",
     "output_type": "stream",
     "text": [
      "Negative numbers are not allowed -> Given -5\n"
     ]
    }
   ],
   "source": [
    "try:\n",
    "    c = Factorial(-5)\n",
    "    c.get_details()\n",
    "except Exception as e:\n",
    "    print(e)"
   ]
  },
  {
   "cell_type": "code",
   "execution_count": null,
   "id": "ccec73b4-079f-4a59-bb11-9c761f252043",
   "metadata": {},
   "outputs": [],
   "source": [
    "class NegativeNumberException(Exception):\n",
    "    def __init__(self, number, msg=\"Negative numbers are not allowed\"):\n",
    "        self.number = number\n",
    "        self.msg = msg\n",
    "        super().__init__(self.msg)\n",
    "\n",
    "    def __str__(self):\n",
    "        return f\"{self.msg} -> Given {self.number}\"\n",
    "\n",
    "class Factorial:\n",
    "    def __init__(self, number):\n",
    "        if number < 0:\n",
    "            raise NegativeNumberException(number)\n",
    "        self.number = number\n",
    "    def get_details(self):\n",
    "        if self.number == 0 or self.number == 1:\n",
    "            return 1\n",
    "        else:\n",
    "            result = 1\n",
    "            for i in range(2, self.number + 1):\n",
    "                result *= i\n",
    "            return result"
   ]
  }
 ],
 "metadata": {
  "kernelspec": {
   "display_name": "Python 3 (ipykernel)",
   "language": "python",
   "name": "python3"
  },
  "language_info": {
   "codemirror_mode": {
    "name": "ipython",
    "version": 3
   },
   "file_extension": ".py",
   "mimetype": "text/x-python",
   "name": "python",
   "nbconvert_exporter": "python",
   "pygments_lexer": "ipython3",
   "version": "3.12.4"
  }
 },
 "nbformat": 4,
 "nbformat_minor": 5
}
