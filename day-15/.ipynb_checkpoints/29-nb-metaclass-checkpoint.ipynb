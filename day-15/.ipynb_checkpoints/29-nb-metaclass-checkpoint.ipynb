{
 "cells": [
  {
   "cell_type": "markdown",
   "id": "1d06e2c6-caad-4430-9cac-b5a92fc6b8a2",
   "metadata": {},
   "source": [
    "# Metaclass "
   ]
  },
  {
   "cell_type": "code",
   "execution_count": null,
   "id": "2e85e5e0-b946-4acd-a016-5a9501dee785",
   "metadata": {},
   "outputs": [],
   "source": [
    "Create a class itself."
   ]
  },
  {
   "cell_type": "code",
   "execution_count": null,
   "id": "b7147736-4977-498a-a5c7-89638fd06301",
   "metadata": {},
   "outputs": [],
   "source": [
    "metaclass- A metaclass is a class of a class\n",
    "Allows you to customize class creation and behavior\n",
    "what are the uses of metaclasses?\n",
    "-automatically register a class\n",
    "-validating class attributes and methods-compulsory\n",
    "-new level of customizing class \n",
    "-Adv: modify the class even before it is created\n",
    "-enforcing coding standards\n",
    "-software coding- class derive from meta class\n"
   ]
  },
  {
   "cell_type": "code",
   "execution_count": null,
   "id": "d06d2a76-00f4-4a8b-a5c4-4f85eb88c038",
   "metadata": {},
   "outputs": [],
   "source": [
    "__init__-initiates the class"
   ]
  },
  {
   "cell_type": "markdown",
   "id": "76fca924-8e9f-4f0f-add5-200b99aa69c0",
   "metadata": {},
   "source": [
    "# Example"
   ]
  },
  {
   "cell_type": "code",
   "execution_count": null,
   "id": "4be4272f-dee4-4e28-8a7e-e035642eb88d",
   "metadata": {},
   "outputs": [],
   "source": [
    "Creating a metaclass :first __new__ function after write __init__function..->rule.\n",
    "1.__new__ function-it creates a class itself\n",
    "2.__init__ fucntion -it initiates the class itself."
   ]
  },
  {
   "cell_type": "code",
   "execution_count": 6,
   "id": "5d91ec9a-2342-4fa7-8476-1a132f69831e",
   "metadata": {},
   "outputs": [],
   "source": [
    "class Mymeta(type): #class name mymeta\n",
    "    #python type function,before __init__ need to execute __new__(create it)\n",
    "    def __new__(cls,name,bases,dct):#dct is dictionary cls is Mymeta.\n",
    "        dct['class_id']=name.upper()  #key is class_id,its value is name in upper().variabled called class_id..\n",
    "        print('creating a class:',cls,name,bases,dct)\n",
    "        return super().__new__(cls,name,bases,dct)  #super(). call parent method with same attributes."
   ]
  },
  {
   "cell_type": "markdown",
   "id": "1a9071e5-f514-4b5b-b670-cf88466b8b49",
   "metadata": {},
   "source": [
    "# using  meta class"
   ]
  },
  {
   "cell_type": "code",
   "execution_count": 9,
   "id": "f25a24ed-c232-47f0-9b86-4a9e26ae6e10",
   "metadata": {},
   "outputs": [
    {
     "name": "stdout",
     "output_type": "stream",
     "text": [
      "creating a class: <class '__main__.Mymeta'> MyClass () {'__module__': '__main__', '__qualname__': 'MyClass', 'greet': <function MyClass.greet at 0x000001A297D5B9C0>, 'class_id': 'MYCLASS'}\n"
     ]
    }
   ],
   "source": [
    "class MyClass(metaclass=Mymeta):#Myclass is atrribute,metaclass is Mymeta.\n",
    "    def greet(self):\n",
    "        return f\"{self.class_id}\"\n",
    "        "
   ]
  },
  {
   "cell_type": "code",
   "execution_count": 10,
   "id": "9e370979-5257-4cfb-be8d-bcaa6a6087f3",
   "metadata": {},
   "outputs": [
    {
     "data": {
      "text/plain": [
       "'MYCLASS'"
      ]
     },
     "execution_count": 10,
     "metadata": {},
     "output_type": "execute_result"
    }
   ],
   "source": [
    "obj=MyClass()\n",
    "obj.greet()"
   ]
  },
  {
   "cell_type": "markdown",
   "id": "f7de79ca-1ba3-4a89-8d8e-379d32b8f84d",
   "metadata": {},
   "source": [
    "# using a meta class use a class as foundation, to create new classes."
   ]
  },
  {
   "cell_type": "markdown",
   "id": "527cb9c2-3b6a-4c39-84b8-f64ef62799c6",
   "metadata": {},
   "source": [
    "what is __new__?\n",
    "special method/ static method\n",
    "creates a new instance of a class\n",
    "gets called before __int__\n",
    "hence it can be used to customize teh class creation itself\n",
    "usually used when you want to contrl how classes are created\n",
    "sometimes you may want to inject some attributes, methods and "
   ]
  },
  {
   "cell_type": "code",
   "execution_count": null,
   "id": "384f439a-271f-489c-96c6-3833c4852dcc",
   "metadata": {},
   "outputs": [],
   "source": [
    "Let's try to use __new__ in a normal class"
   ]
  },
  {
   "cell_type": "code",
   "execution_count": 15,
   "id": "46947055-ded2-4a87-9ce9-d5bdd4f64a01",
   "metadata": {},
   "outputs": [
    {
     "name": "stdout",
     "output_type": "stream",
     "text": [
      "Creating the class..\n",
      "Initialization starts..\n"
     ]
    }
   ],
   "source": [
    "class MyClass:\n",
    "\n",
    "    def __new__(cls):\n",
    "        print(\"Creating the class..\")\n",
    "        instance=super().__new__(cls)\n",
    "        return instance\n",
    "    \n",
    "    def __init__(self):\n",
    "        print(\"Initialization starts..\")\n",
    "\n",
    "obj1=MyClass()"
   ]
  },
  {
   "cell_type": "code",
   "execution_count": 17,
   "id": "2bb9ac8f-b2e9-4405-af6d-6e1de38bbb82",
   "metadata": {},
   "outputs": [
    {
     "data": {
      "text/plain": [
       "<__main__.MyClass at 0x1a298049640>"
      ]
     },
     "execution_count": 17,
     "metadata": {},
     "output_type": "execute_result"
    }
   ],
   "source": [
    "obj1"
   ]
  },
  {
   "cell_type": "markdown",
   "id": "f66b3e6c-0cef-40e8-9774-683284f1c329",
   "metadata": {},
   "source": [
    "# Validating attributes using metaclasses "
   ]
  },
  {
   "cell_type": "code",
   "execution_count": null,
   "id": "22716229-d542-4c3c-8ff3-3fc8e18598f9",
   "metadata": {},
   "outputs": [],
   "source": [
    "Let's say we want to make sure that the classes implement the required _attrs.and in the form of  a list, we can\n",
    "create a meta class that make sure of this."
   ]
  },
  {
   "cell_type": "code",
   "execution_count": 27,
   "id": "96012f57-fef8-487d-8c15-27f3bef9ef83",
   "metadata": {},
   "outputs": [],
   "source": [
    "class ValidateAttrs(type):\n",
    "    def __new__(cls,name,bases,dct):\n",
    "        if 'required_attrs' not in dct: #not in class dictionary, print type error\n",
    "            raise TypeError(f\"class {name} should implement required_attrs\")\n",
    "        if not isinstance(dct['required_attrs'],list):  #if thisrequired_attrs is not a list then print type error \n",
    "            raise TypeError(f\"required_attrs in class {name} shoudl be type list\")\n",
    "            \n",
    "        return super().__new__(cls,name,bases,dct)"
   ]
  },
  {
   "cell_type": "code",
   "execution_count": 44,
   "id": "b8c7e55e-ce9d-4271-81d0-af0928dc498c",
   "metadata": {},
   "outputs": [
    {
     "ename": "TypeError",
     "evalue": "class A should implement required_attrs",
     "output_type": "error",
     "traceback": [
      "\u001b[1;31m---------------------------------------------------------------------------\u001b[0m",
      "\u001b[1;31mTypeError\u001b[0m                                 Traceback (most recent call last)",
      "Cell \u001b[1;32mIn[44], line 1\u001b[0m\n\u001b[1;32m----> 1\u001b[0m \u001b[38;5;28;01mclass\u001b[39;00m \u001b[38;5;21;01mA\u001b[39;00m(metaclass\u001b[38;5;241m=\u001b[39mValidateAttrs):  \u001b[38;5;66;03m#not even creating a  class,-> without required_attrs\u001b[39;00m\n\u001b[0;32m      3\u001b[0m     \u001b[38;5;28;01mdef\u001b[39;00m \u001b[38;5;21m__init__\u001b[39m(\u001b[38;5;28mself\u001b[39m):\n\u001b[0;32m      4\u001b[0m         \u001b[38;5;28mprint\u001b[39m(\u001b[38;5;124m\"\u001b[39m\u001b[38;5;124mclass created\u001b[39m\u001b[38;5;124m\"\u001b[39m)\n",
      "Cell \u001b[1;32mIn[27], line 4\u001b[0m, in \u001b[0;36mValidateAttrs.__new__\u001b[1;34m(cls, name, bases, dct)\u001b[0m\n\u001b[0;32m      2\u001b[0m \u001b[38;5;28;01mdef\u001b[39;00m \u001b[38;5;21m__new__\u001b[39m(\u001b[38;5;28mcls\u001b[39m,name,bases,dct):\n\u001b[0;32m      3\u001b[0m     \u001b[38;5;28;01mif\u001b[39;00m \u001b[38;5;124m'\u001b[39m\u001b[38;5;124mrequired_attrs\u001b[39m\u001b[38;5;124m'\u001b[39m \u001b[38;5;129;01mnot\u001b[39;00m \u001b[38;5;129;01min\u001b[39;00m dct: \u001b[38;5;66;03m#not in class dictionary, print type error\u001b[39;00m\n\u001b[1;32m----> 4\u001b[0m         \u001b[38;5;28;01mraise\u001b[39;00m \u001b[38;5;167;01mTypeError\u001b[39;00m(\u001b[38;5;124mf\u001b[39m\u001b[38;5;124m\"\u001b[39m\u001b[38;5;124mclass \u001b[39m\u001b[38;5;132;01m{\u001b[39;00mname\u001b[38;5;132;01m}\u001b[39;00m\u001b[38;5;124m should implement required_attrs\u001b[39m\u001b[38;5;124m\"\u001b[39m)\n\u001b[0;32m      5\u001b[0m     \u001b[38;5;28;01mif\u001b[39;00m \u001b[38;5;129;01mnot\u001b[39;00m \u001b[38;5;28misinstance\u001b[39m(dct[\u001b[38;5;124m'\u001b[39m\u001b[38;5;124mrequired_attrs\u001b[39m\u001b[38;5;124m'\u001b[39m],\u001b[38;5;28mlist\u001b[39m):  \u001b[38;5;66;03m#if thisrequired_attrs is not a list then print type error \u001b[39;00m\n\u001b[0;32m      6\u001b[0m         \u001b[38;5;28;01mraise\u001b[39;00m \u001b[38;5;167;01mTypeError\u001b[39;00m(\u001b[38;5;124mf\u001b[39m\u001b[38;5;124m\"\u001b[39m\u001b[38;5;124mrequired_attrs in class \u001b[39m\u001b[38;5;132;01m{\u001b[39;00mname\u001b[38;5;132;01m}\u001b[39;00m\u001b[38;5;124m shoudl be type list\u001b[39m\u001b[38;5;124m\"\u001b[39m)\n",
      "\u001b[1;31mTypeError\u001b[0m: class A should implement required_attrs"
     ]
    }
   ],
   "source": [
    "class A(metaclass=ValidateAttrs):  #not even creating a  class,-> without required_attrs\n",
    "    \n",
    "    def __init__(self):\n",
    "        print(\"class created\")"
   ]
  },
  {
   "cell_type": "code",
   "execution_count": 34,
   "id": "03725009-aae7-4de8-b766-b35a2e9802c7",
   "metadata": {},
   "outputs": [],
   "source": [
    "#with required_attrs\n",
    "class A(metaclass=ValidateAttrs):\n",
    "    required_attrs=[\"name\",\"Anitha\"]\n",
    "    \n",
    "    def __init__(self):\n",
    "        print(\"class created\")"
   ]
  },
  {
   "cell_type": "markdown",
   "id": "ea813002-46e1-4ac8-b27c-7db8a74fba58",
   "metadata": {},
   "source": [
    "# A much better class implementation with a purpose"
   ]
  },
  {
   "cell_type": "code",
   "execution_count": 64,
   "id": "0ef9409d-0d47-4806-bc91-9ef2bd24ae90",
   "metadata": {},
   "outputs": [],
   "source": [
    "class Person(metaclass=ValidateAttrs):\n",
    "\n",
    "    required_attrs = ['name', 'email']\n",
    "\n",
    "    def __init__(self, **kargs):\n",
    "\n",
    "        missing = [attr for attr in Person.required_attrs if attr not in kargs]\n",
    "        if missing:\n",
    "            raise ValueError(f\"Missing attributes: {missing}\")\n",
    "\n",
    "        for attr in Person.required_attrs:\n",
    "            setattr(self, attr, kargs[attr])  #giving some attributes,pass any variables u want"
   ]
  },
  {
   "cell_type": "code",
   "execution_count": 67,
   "id": "cbf19fd7-7b52-4c2d-b27b-0890917c7f18",
   "metadata": {},
   "outputs": [
    {
     "ename": "ValueError",
     "evalue": "Missing attributes: ['email']",
     "output_type": "error",
     "traceback": [
      "\u001b[1;31m---------------------------------------------------------------------------\u001b[0m",
      "\u001b[1;31mValueError\u001b[0m                                Traceback (most recent call last)",
      "Cell \u001b[1;32mIn[67], line 1\u001b[0m\n\u001b[1;32m----> 1\u001b[0m p \u001b[38;5;241m=\u001b[39m Person(name\u001b[38;5;241m=\u001b[39m\u001b[38;5;124m\"\u001b[39m\u001b[38;5;124mAnil\u001b[39m\u001b[38;5;124m\"\u001b[39m)\n",
      "Cell \u001b[1;32mIn[64], line 9\u001b[0m, in \u001b[0;36mPerson.__init__\u001b[1;34m(self, **kargs)\u001b[0m\n\u001b[0;32m      7\u001b[0m missing \u001b[38;5;241m=\u001b[39m [attr \u001b[38;5;28;01mfor\u001b[39;00m attr \u001b[38;5;129;01min\u001b[39;00m Person\u001b[38;5;241m.\u001b[39mrequired_attrs \u001b[38;5;28;01mif\u001b[39;00m attr \u001b[38;5;129;01mnot\u001b[39;00m \u001b[38;5;129;01min\u001b[39;00m kargs]\n\u001b[0;32m      8\u001b[0m \u001b[38;5;28;01mif\u001b[39;00m missing:\n\u001b[1;32m----> 9\u001b[0m     \u001b[38;5;28;01mraise\u001b[39;00m \u001b[38;5;167;01mValueError\u001b[39;00m(\u001b[38;5;124mf\u001b[39m\u001b[38;5;124m\"\u001b[39m\u001b[38;5;124mMissing attributes: \u001b[39m\u001b[38;5;132;01m{\u001b[39;00mmissing\u001b[38;5;132;01m}\u001b[39;00m\u001b[38;5;124m\"\u001b[39m)\n\u001b[0;32m     11\u001b[0m \u001b[38;5;28;01mfor\u001b[39;00m attr \u001b[38;5;129;01min\u001b[39;00m Person\u001b[38;5;241m.\u001b[39mrequired_attrs:\n\u001b[0;32m     12\u001b[0m     \u001b[38;5;28msetattr\u001b[39m(\u001b[38;5;28mself\u001b[39m, attr, kargs[attr])\n",
      "\u001b[1;31mValueError\u001b[0m: Missing attributes: ['email']"
     ]
    }
   ],
   "source": [
    "p = Person(name=\"Anil\")"
   ]
  },
  {
   "cell_type": "code",
   "execution_count": 68,
   "id": "74f19f21-017c-4626-9b17-a90cbdd7121c",
   "metadata": {},
   "outputs": [
    {
     "data": {
      "text/plain": [
       "<__main__.Person at 0x1a297db83e0>"
      ]
     },
     "execution_count": 68,
     "metadata": {},
     "output_type": "execute_result"
    }
   ],
   "source": [
    "p=Person(name='Anil',email='anu@uu.com')\n",
    "p"
   ]
  },
  {
   "cell_type": "code",
   "execution_count": null,
   "id": "8fea0ac8-9d40-4abd-9ef1-009491fe019d",
   "metadata": {},
   "outputs": [],
   "source": [
    "inject attributes, add some attributes, set attributes -- meta classes used."
   ]
  },
  {
   "cell_type": "code",
   "execution_count": 66,
   "id": "6d67b548-2a1d-4619-8bbf-da35337ae20e",
   "metadata": {},
   "outputs": [
    {
     "name": "stdout",
     "output_type": "stream",
     "text": [
      "<__main__.Person object at 0x000001A297D927E0>\n"
     ]
    }
   ],
   "source": [
    "p = Person(name='Anil', email='anil@example.com')\n",
    "print(p)"
   ]
  },
  {
   "cell_type": "code",
   "execution_count": 70,
   "id": "0fea8928-5f60-4d70-92a5-588bbd6696a4",
   "metadata": {},
   "outputs": [
    {
     "name": "stdout",
     "output_type": "stream",
     "text": [
      "<__main__.Person object at 0x000001A298040740>\n"
     ]
    }
   ],
   "source": [
    "class Person(metaclass=ValidateAttrs):\n",
    "    required_attrs = ['name', 'email']\n",
    "\n",
    "    def __init__(self, **kwargs): #self ->current object\n",
    "        missing = [attr for attr in self.required_attrs if attr not in kwargs]\n",
    "        if missing:\n",
    "            raise ValueError(f\"Missing attributes: {missing}\")\n",
    "        for attr in self.required_attrs:\n",
    "            setattr(self, attr, kwargs[attr])\n",
    "\n",
    "p = Person(name='Anil', email='anil@example.com')\n",
    "print(p)"
   ]
  },
  {
   "cell_type": "markdown",
   "id": "47a06ed4-09c6-401e-aba0-8137e36a4814",
   "metadata": {},
   "source": [
    "# GETTING ATTRIBUTES OF AN OBJECT"
   ]
  },
  {
   "cell_type": "code",
   "execution_count": 71,
   "id": "ba2f0eb6-ca77-4c97-906e-2eba33bddfaa",
   "metadata": {},
   "outputs": [
    {
     "data": {
      "text/plain": [
       "['__class__',\n",
       " '__delattr__',\n",
       " '__dict__',\n",
       " '__dir__',\n",
       " '__doc__',\n",
       " '__eq__',\n",
       " '__format__',\n",
       " '__ge__',\n",
       " '__getattribute__',\n",
       " '__getstate__',\n",
       " '__gt__',\n",
       " '__hash__',\n",
       " '__init__',\n",
       " '__init_subclass__',\n",
       " '__le__',\n",
       " '__lt__',\n",
       " '__module__',\n",
       " '__ne__',\n",
       " '__new__',\n",
       " '__reduce__',\n",
       " '__reduce_ex__',\n",
       " '__repr__',\n",
       " '__setattr__',\n",
       " '__sizeof__',\n",
       " '__str__',\n",
       " '__subclasshook__',\n",
       " '__weakref__',\n",
       " 'email',\n",
       " 'name',\n",
       " 'required_attrs']"
      ]
     },
     "execution_count": 71,
     "metadata": {},
     "output_type": "execute_result"
    }
   ],
   "source": [
    "dir(p)"
   ]
  },
  {
   "cell_type": "code",
   "execution_count": 73,
   "id": "c33de030-c7ef-4bf6-a1ee-06d88f853514",
   "metadata": {},
   "outputs": [
    {
     "data": {
      "text/plain": [
       "{'name': 'Anil', 'email': 'anil@example.com'}"
      ]
     },
     "execution_count": 73,
     "metadata": {},
     "output_type": "execute_result"
    }
   ],
   "source": [
    "p.__dict__  #all the attributes or dictionary"
   ]
  },
  {
   "cell_type": "code",
   "execution_count": 76,
   "id": "17bd3537-5645-4e84-8a0b-f2a90c5832a9",
   "metadata": {},
   "outputs": [],
   "source": [
    "p1=Person(name='Sunitha', email='sunitha@example.com')  #another attributes,we can pass arbitrary number of arguments"
   ]
  },
  {
   "cell_type": "code",
   "execution_count": 75,
   "id": "3fcdeb8c-c346-4311-a1f3-301c31fe021f",
   "metadata": {},
   "outputs": [
    {
     "data": {
      "text/plain": [
       "<__main__.Person at 0x1a298050770>"
      ]
     },
     "execution_count": 75,
     "metadata": {},
     "output_type": "execute_result"
    }
   ],
   "source": [
    "p1"
   ]
  },
  {
   "cell_type": "code",
   "execution_count": 77,
   "id": "5220e271-e135-48ae-9047-2c72877f5f9d",
   "metadata": {},
   "outputs": [
    {
     "data": {
      "text/plain": [
       "{'name': 'Sunitha', 'email': 'sunitha@example.com'}"
      ]
     },
     "execution_count": 77,
     "metadata": {},
     "output_type": "execute_result"
    }
   ],
   "source": [
    "p1.__dict__"
   ]
  },
  {
   "cell_type": "code",
   "execution_count": 80,
   "id": "59c87357-725f-4f26-ae89-77a52fcdb4a3",
   "metadata": {},
   "outputs": [
    {
     "data": {
      "text/plain": [
       "__main__.Person"
      ]
     },
     "execution_count": 80,
     "metadata": {},
     "output_type": "execute_result"
    }
   ],
   "source": [
    "p1.__class__"
   ]
  },
  {
   "cell_type": "code",
   "execution_count": 81,
   "id": "25f21770-64b4-4295-a465-ba82fdc30d26",
   "metadata": {},
   "outputs": [
    {
     "data": {
      "text/plain": [
       "<function object.__new__(*args, **kwargs)>"
      ]
     },
     "execution_count": 81,
     "metadata": {},
     "output_type": "execute_result"
    }
   ],
   "source": [
    "p1.__new__"
   ]
  },
  {
   "cell_type": "code",
   "execution_count": null,
   "id": "14c8d07f-b37d-407c-96ab-3b1abdea540f",
   "metadata": {},
   "outputs": [],
   "source": [
    "obj.__dict__  ->provide dictionary attributes."
   ]
  }
 ],
 "metadata": {
  "kernelspec": {
   "display_name": "Python 3 (ipykernel)",
   "language": "python",
   "name": "python3"
  },
  "language_info": {
   "codemirror_mode": {
    "name": "ipython",
    "version": 3
   },
   "file_extension": ".py",
   "mimetype": "text/x-python",
   "name": "python",
   "nbconvert_exporter": "python",
   "pygments_lexer": "ipython3",
   "version": "3.12.4"
  }
 },
 "nbformat": 4,
 "nbformat_minor": 5
}
