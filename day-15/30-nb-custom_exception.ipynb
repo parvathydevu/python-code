{
 "cells": [
  {
   "cell_type": "markdown",
   "id": "59800421-07a4-4f18-b20a-60052a1f7ac8",
   "metadata": {},
   "source": [
    "# Custom Exception"
   ]
  },
  {
   "cell_type": "code",
   "execution_count": null,
   "id": "860dc334-e007-4cb8-97d0-cd2c31469d5d",
   "metadata": {},
   "outputs": [],
   "source": [
    "Definition:\n",
    "user defined exception that can be process in the exception handler--try..except block"
   ]
  },
  {
   "cell_type": "code",
   "execution_count": 30,
   "id": "e8be7760-941f-4fbd-8de5-87b50878c013",
   "metadata": {},
   "outputs": [],
   "source": [
    "class InvalidSalaryException(Exception):  #Exception is  a built in class -this is parent class \n",
    "    def __init__(self,salary,msg=\"salary should be greater than 0\"):\n",
    "        self.salary=salary\n",
    "        self.msg=msg\n",
    "        super().__init__(self.msg)  #pass msg to super().  #parent class , exception is parent class.call init method of parent\n",
    "    def __str__(self):  #if str is there not raise exception\n",
    "        return f\"{self.msg}->given {self.salary}\"\n"
   ]
  },
  {
   "cell_type": "code",
   "execution_count": 31,
   "id": "e8ba9e5d-fbc6-46b4-9763-ce5adb3561f2",
   "metadata": {},
   "outputs": [],
   "source": [
    "class Employee:\n",
    "\n",
    "    def __init__(self, name, company, salary):\n",
    "        if(salary <= 0):\n",
    "            raise InvalidSalaryException(salary)\n",
    "        self.salary = salary\n",
    "        self.name = name\n",
    "        self.company = company\n",
    "\n",
    "    def get_details(self):\n",
    "        return self.name, self.company, self.salary\n",
    "    "
   ]
  },
  {
   "cell_type": "code",
   "execution_count": 32,
   "id": "2f82ce65-a952-4555-9805-b09b9427137f",
   "metadata": {},
   "outputs": [
    {
     "data": {
      "text/plain": [
       "('Anil', 'Wipro', 1000000)"
      ]
     },
     "execution_count": 32,
     "metadata": {},
     "output_type": "execute_result"
    }
   ],
   "source": [
    "e1 = Employee(\"Anil\", \"Wipro\", 1000000)\n",
    "e1.get_details()"
   ]
  },
  {
   "cell_type": "code",
   "execution_count": 33,
   "id": "02174e03-4f59-416b-bd98-ea6eae7c17a0",
   "metadata": {},
   "outputs": [
    {
     "name": "stdout",
     "output_type": "stream",
     "text": [
      "salary should be greater than 0->given 0\n"
     ]
    }
   ],
   "source": [
    "try:\n",
    "    c=Employee(\"Anil\",\"wipro\",0)\n",
    "    c.get_details()\n",
    "except Exception as e:\n",
    "    print(e)"
   ]
  },
  {
   "cell_type": "code",
   "execution_count": 34,
   "id": "bbb80cd1-da82-4037-8b16-fea5da385cf6",
   "metadata": {},
   "outputs": [
    {
     "name": "stdout",
     "output_type": "stream",
     "text": [
      "Salary should be greater than 0 -> Given 0\n"
     ]
    }
   ],
   "source": [
    "class InvalidSalaryException(Exception):  # Exception is a built-in class - this is the parent class\n",
    "    def __init__(self, salary, msg=\"Salary should be greater than 0\"):\n",
    "        self.salary = salary\n",
    "        self.msg = msg\n",
    "        super().__init__(self.msg)  # Pass msg to super(). Call init method of parent class\n",
    "\n",
    "    def __str__(self):  # If __str__ is there, not raise exception\n",
    "        return f\"{self.msg} -> Given {self.salary}\"\n",
    "\n",
    "class Employee:\n",
    "    def __init__(self, name, company, salary):\n",
    "        if salary <= 0:\n",
    "            raise InvalidSalaryException(salary)\n",
    "        self.salary = salary\n",
    "        self.name = name\n",
    "        self.company = company\n",
    "\n",
    "    def get_details(self):\n",
    "        return self.name, self.company, self.salary\n",
    "\n",
    "try:\n",
    "    c = Employee(\"Anil\", \"Wipro\", 0)\n",
    "    c.get_details()\n",
    "except Exception as e:\n",
    "    print(e)"
   ]
  },
  {
   "cell_type": "code",
   "execution_count": null,
   "id": "ea8f2350-665c-43e9-8262-d39308a2447c",
   "metadata": {},
   "outputs": [],
   "source": []
  }
 ],
 "metadata": {
  "kernelspec": {
   "display_name": "Python 3 (ipykernel)",
   "language": "python",
   "name": "python3"
  },
  "language_info": {
   "codemirror_mode": {
    "name": "ipython",
    "version": 3
   },
   "file_extension": ".py",
   "mimetype": "text/x-python",
   "name": "python",
   "nbconvert_exporter": "python",
   "pygments_lexer": "ipython3",
   "version": "3.12.4"
  }
 },
 "nbformat": 4,
 "nbformat_minor": 5
}
