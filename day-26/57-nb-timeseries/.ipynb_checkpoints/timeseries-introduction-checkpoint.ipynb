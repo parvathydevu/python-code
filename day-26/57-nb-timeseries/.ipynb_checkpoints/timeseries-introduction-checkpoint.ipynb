{
 "cells": [
  {
   "cell_type": "code",
   "execution_count": 1,
   "id": "f902b5d5",
   "metadata": {},
   "outputs": [],
   "source": [
    "### Simple Dataset"
   ]
  },
  {
   "cell_type": "code",
   "execution_count": 5,
   "id": "38f39b75",
   "metadata": {},
   "outputs": [],
   "source": [
    "import pandas as pd\n",
    "import numpy as np\n",
    "import matplotlib.pyplot as plt"
   ]
  },
  {
   "cell_type": "code",
   "execution_count": 7,
   "id": "4dade0d6",
   "metadata": {},
   "outputs": [],
   "source": [
    "# Create a simple datetime index\n",
    "dates = pd.date_range(start='2022-01-01', periods=100, freq='D')"
   ]
  },
  {
   "cell_type": "code",
   "execution_count": 9,
   "id": "a6dd45fc",
   "metadata": {},
   "outputs": [],
   "source": [
    "# Generate some synthetic daily sales data\n",
    "np.random.seed(0)\n",
    "sales = np.random.normal(loc=200, scale=25, size=100).cumsum()"
   ]
  },
  {
   "cell_type": "markdown",
   "id": "d199e2bd-761a-4d06-a5d2-d7a2944f0721",
   "metadata": {},
   "source": [
    "Random number generators use algorithms to produce sequences of numbers that appear random. These algorithms start with an initial value called the \"seed.\"\n",
    "Fixed Seed: By setting the seed to a fixed value (in this case, 0), you ensure that the random number generator produces the same sequence of numbers each time the code is executed."
   ]
  },
  {
   "cell_type": "code",
   "execution_count": 8,
   "id": "73302450",
   "metadata": {},
   "outputs": [
    {
     "name": "stdout",
     "output_type": "stream",
     "text": [
      "                  Sales\n",
      "Date                   \n",
      "2022-01-01   244.101309\n",
      "2022-01-02   454.105239\n",
      "2022-01-03   678.573688\n",
      "2022-01-04   934.596018\n",
      "2022-01-05  1181.284968\n"
     ]
    }
   ],
   "source": [
    "# Create DataFrame\n",
    "df = pd.DataFrame({'Date': dates, 'Sales': sales})\n",
    "df.set_index('Date', inplace=True)  #inplace --permanetly changed\n",
    "\n",
    "print(df.head())"
   ]
  },
  {
   "cell_type": "code",
   "execution_count": 3,
   "id": "2080de17",
   "metadata": {},
   "outputs": [],
   "source": [
    "### Plot the original time series"
   ]
  },
  {
   "cell_type": "code",
   "execution_count": null,
   "id": "d0dc2667",
   "metadata": {},
   "outputs": [],
   "source": [
    "df['Sales'].plot(figsize=(10, 5), title='Daily Sales Over Time')\n",
    "plt.ylabel('Sales')\n",
    "plt.xlabel('Date')\n",
    "plt.grid(True)\n",
    "plt.show()"
   ]
  },
  {
   "cell_type": "code",
   "execution_count": 4,
   "id": "2993d168",
   "metadata": {},
   "outputs": [],
   "source": [
    "### Resample Data Monthly (Mean)"
   ]
  },
  {
   "cell_type": "code",
   "execution_count": null,
   "id": "47faafee",
   "metadata": {},
   "outputs": [],
   "source": [
    "monthly_avg = df['Sales'].resample('M').mean()\n",
    "\n",
    "monthly_avg.plot(marker='o', linestyle='--', color='green', title='Monthly Average Sales')\n",
    "plt.ylabel('Sales')\n",
    "plt.grid(True)\n",
    "plt.show()\n"
   ]
  },
  {
   "cell_type": "code",
   "execution_count": 5,
   "id": "e37c00ce",
   "metadata": {},
   "outputs": [],
   "source": [
    "### Rolling Average (7-day)"
   ]
  },
  {
   "cell_type": "code",
   "execution_count": null,
   "id": "00eba88f",
   "metadata": {},
   "outputs": [],
   "source": [
    "df['7-Day Rolling'] = df['Sales'].rolling(window=7).mean()\n",
    "\n",
    "df[['Sales', '7-Day Rolling']].plot(figsize=(10, 5), title='Sales with 7-Day Rolling Average')\n",
    "plt.ylabel('Sales')\n",
    "plt.grid(True)\n",
    "plt.show()\n"
   ]
  },
  {
   "cell_type": "code",
   "execution_count": null,
   "id": "446ea2f1",
   "metadata": {},
   "outputs": [],
   "source": [
    "### Detect change in trend"
   ]
  },
  {
   "cell_type": "code",
   "execution_count": null,
   "id": "3c6c4ee3",
   "metadata": {},
   "outputs": [],
   "source": [
    "# Simple differencing to detect change in trend\n",
    "df['Sales_Diff'] = df['Sales'].diff()\n",
    "\n",
    "df['Sales_Diff'].plot(figsize=(10, 4), title='Daily Sales Change')\n",
    "plt.axhline(0, color='black', linestyle='--')\n",
    "plt.grid(True)\n",
    "plt.show()\n"
   ]
  },
  {
   "cell_type": "code",
   "execution_count": null,
   "id": "1abc4909",
   "metadata": {},
   "outputs": [],
   "source": []
  },
  {
   "cell_type": "code",
   "execution_count": null,
   "id": "941e1b63",
   "metadata": {},
   "outputs": [],
   "source": []
  },
  {
   "cell_type": "code",
   "execution_count": null,
   "id": "096d1cb5",
   "metadata": {},
   "outputs": [],
   "source": []
  }
 ],
 "metadata": {
  "kernelspec": {
   "display_name": "Python 3 (ipykernel)",
   "language": "python",
   "name": "python3"
  },
  "language_info": {
   "codemirror_mode": {
    "name": "ipython",
    "version": 3
   },
   "file_extension": ".py",
   "mimetype": "text/x-python",
   "name": "python",
   "nbconvert_exporter": "python",
   "pygments_lexer": "ipython3",
   "version": "3.12.4"
  }
 },
 "nbformat": 4,
 "nbformat_minor": 5
}
