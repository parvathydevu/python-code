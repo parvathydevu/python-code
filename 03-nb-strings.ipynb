{
 "cells": [
  {
   "cell_type": "code",
   "execution_count": 1,
   "id": "f17fd6c7-6a22-476e-87f1-429303bfd470",
   "metadata": {},
   "outputs": [],
   "source": [
    "s='computer'  #using single or double or triple codes(triple code is used in multiline string)"
   ]
  },
  {
   "cell_type": "code",
   "execution_count": 2,
   "id": "193c8dea-b9b3-47bc-be02-488cec65d4af",
   "metadata": {},
   "outputs": [
    {
     "data": {
      "text/plain": [
       "str"
      ]
     },
     "execution_count": 2,
     "metadata": {},
     "output_type": "execute_result"
    }
   ],
   "source": [
    "type(s)"
   ]
  },
  {
   "cell_type": "markdown",
   "id": "8a180b88-2376-4145-b530-e5c5f72ca1f5",
   "metadata": {},
   "source": [
    "### 3.1 Immutability"
   ]
  },
  {
   "cell_type": "code",
   "execution_count": 3,
   "id": "4ab06c0e-e83b-47f1-bc3d-223ceb39189d",
   "metadata": {},
   "outputs": [
    {
     "data": {
      "text/plain": [
       "'c'"
      ]
     },
     "execution_count": 3,
     "metadata": {},
     "output_type": "execute_result"
    }
   ],
   "source": [
    "s[0]"
   ]
  },
  {
   "cell_type": "code",
   "execution_count": 4,
   "id": "d21d8c5f-2262-4fc4-b488-e669988b79e4",
   "metadata": {},
   "outputs": [
    {
     "ename": "TypeError",
     "evalue": "'str' object does not support item assignment",
     "output_type": "error",
     "traceback": [
      "\u001b[1;31m---------------------------------------------------------------------------\u001b[0m",
      "\u001b[1;31mTypeError\u001b[0m                                 Traceback (most recent call last)",
      "Cell \u001b[1;32mIn[4], line 1\u001b[0m\n\u001b[1;32m----> 1\u001b[0m s[\u001b[38;5;241m0\u001b[39m]\u001b[38;5;241m=\u001b[39m\u001b[38;5;124m'\u001b[39m\u001b[38;5;124m3\u001b[39m\u001b[38;5;124m'\u001b[39m\n",
      "\u001b[1;31mTypeError\u001b[0m: 'str' object does not support item assignment"
     ]
    }
   ],
   "source": [
    "s[0]='3'"
   ]
  },
  {
   "cell_type": "code",
   "execution_count": 5,
   "id": "71bf82e9-c71e-450d-9fd9-b07127ce7f71",
   "metadata": {},
   "outputs": [
    {
     "data": {
      "text/plain": [
       "'computer'"
      ]
     },
     "execution_count": 5,
     "metadata": {},
     "output_type": "execute_result"
    }
   ],
   "source": [
    "s"
   ]
  },
  {
   "cell_type": "code",
   "execution_count": 6,
   "id": "36d3d896-b071-4ffe-a5ea-ddcf89f129ea",
   "metadata": {},
   "outputs": [],
   "source": [
    "s='''Computer'''"
   ]
  },
  {
   "cell_type": "code",
   "execution_count": 7,
   "id": "e2aed18f-9931-4504-88db-deb650c40815",
   "metadata": {},
   "outputs": [
    {
     "data": {
      "text/plain": [
       "'Computer'"
      ]
     },
     "execution_count": 7,
     "metadata": {},
     "output_type": "execute_result"
    }
   ],
   "source": [
    "s"
   ]
  },
  {
   "cell_type": "markdown",
   "id": "9fc1b4bc-8048-48f7-8bc8-8a9a90131f08",
   "metadata": {},
   "source": [
    "### Subscripting"
   ]
  },
  {
   "cell_type": "markdown",
   "id": "15c157dc-237f-4095-a0c9-e53d00672cfd",
   "metadata": {},
   "source": [
    "[start:end:interval]"
   ]
  },
  {
   "cell_type": "code",
   "execution_count": 8,
   "id": "a8c0a170-ee99-4812-b15d-4aabee2c9e9c",
   "metadata": {},
   "outputs": [
    {
     "data": {
      "text/plain": [
       "'Computer'"
      ]
     },
     "execution_count": 8,
     "metadata": {},
     "output_type": "execute_result"
    }
   ],
   "source": [
    "s[0:]"
   ]
  },
  {
   "cell_type": "code",
   "execution_count": 9,
   "id": "3bb0d20f-950c-4b63-b036-6b567fa824ab",
   "metadata": {},
   "outputs": [
    {
     "data": {
      "text/plain": [
       "'t'"
      ]
     },
     "execution_count": 9,
     "metadata": {},
     "output_type": "execute_result"
    }
   ],
   "source": [
    "s[5]"
   ]
  },
  {
   "cell_type": "code",
   "execution_count": 10,
   "id": "088c3ea5-85e7-4efd-b68f-926f9df7c5c7",
   "metadata": {},
   "outputs": [
    {
     "data": {
      "text/plain": [
       "'uter'"
      ]
     },
     "execution_count": 10,
     "metadata": {},
     "output_type": "execute_result"
    }
   ],
   "source": [
    "s[4:]"
   ]
  },
  {
   "cell_type": "code",
   "execution_count": 11,
   "id": "6a9121b0-c047-401e-a622-648567001b08",
   "metadata": {},
   "outputs": [
    {
     "data": {
      "text/plain": [
       "'r'"
      ]
     },
     "execution_count": 11,
     "metadata": {},
     "output_type": "execute_result"
    }
   ],
   "source": [
    "s[-1]"
   ]
  },
  {
   "cell_type": "code",
   "execution_count": 12,
   "id": "703205a5-35b7-4f60-bfb9-35caf699cb74",
   "metadata": {},
   "outputs": [
    {
     "data": {
      "text/plain": [
       "'e'"
      ]
     },
     "execution_count": 12,
     "metadata": {},
     "output_type": "execute_result"
    }
   ],
   "source": [
    "s[-2]"
   ]
  },
  {
   "cell_type": "markdown",
   "id": "2ec38c04-990d-4ad2-b519-53f32be278c8",
   "metadata": {},
   "source": [
    "s[2:7]  #print chara index 2nd,3rd 4th 5th and 6th characters s[0:] from beggining to end, s[:]-- means beggining to end"
   ]
  },
  {
   "cell_type": "code",
   "execution_count": 14,
   "id": "08e9a9e9-bf84-42d0-b345-7491b93a5221",
   "metadata": {},
   "outputs": [
    {
     "data": {
      "text/plain": [
       "'mpute'"
      ]
     },
     "execution_count": 14,
     "metadata": {},
     "output_type": "execute_result"
    }
   ],
   "source": [
    "s[2:7]"
   ]
  },
  {
   "cell_type": "code",
   "execution_count": 15,
   "id": "154516da-cc41-49d1-a367-61efdd78fbf9",
   "metadata": {},
   "outputs": [
    {
     "data": {
      "text/plain": [
       "'Compu'"
      ]
     },
     "execution_count": 15,
     "metadata": {},
     "output_type": "execute_result"
    }
   ],
   "source": [
    "s[0:5]"
   ]
  },
  {
   "cell_type": "code",
   "execution_count": 16,
   "id": "b92ec90c-cabf-4e9f-9136-7e5fede1942b",
   "metadata": {},
   "outputs": [
    {
     "data": {
      "text/plain": [
       "'ter'"
      ]
     },
     "execution_count": 16,
     "metadata": {},
     "output_type": "execute_result"
    }
   ],
   "source": [
    "s[5:]"
   ]
  },
  {
   "cell_type": "code",
   "execution_count": 17,
   "id": "e014be61-5103-44e8-84ce-a3ed269affc3",
   "metadata": {},
   "outputs": [
    {
     "data": {
      "text/plain": [
       "'Computer'"
      ]
     },
     "execution_count": 17,
     "metadata": {},
     "output_type": "execute_result"
    }
   ],
   "source": [
    "s[:]"
   ]
  },
  {
   "cell_type": "code",
   "execution_count": 18,
   "id": "64267c1e-e630-4c60-9f15-58b96a081217",
   "metadata": {},
   "outputs": [
    {
     "data": {
      "text/plain": [
       "'Cmue'"
      ]
     },
     "execution_count": 18,
     "metadata": {},
     "output_type": "execute_result"
    }
   ],
   "source": [
    "s[0:8:2]"
   ]
  },
  {
   "cell_type": "code",
   "execution_count": 19,
   "id": "6bea273b-e7c1-4be8-9365-36c21b528009",
   "metadata": {},
   "outputs": [
    {
     "data": {
      "text/plain": [
       "'Cpe'"
      ]
     },
     "execution_count": 19,
     "metadata": {},
     "output_type": "execute_result"
    }
   ],
   "source": [
    "s[::3]"
   ]
  },
  {
   "cell_type": "code",
   "execution_count": 20,
   "id": "fd345e9a-a5ce-466a-a79a-3206679bf293",
   "metadata": {},
   "outputs": [
    {
     "data": {
      "text/plain": [
       "'retupmoC'"
      ]
     },
     "execution_count": 20,
     "metadata": {},
     "output_type": "execute_result"
    }
   ],
   "source": [
    "s[::-1]"
   ]
  },
  {
   "cell_type": "markdown",
   "id": "692583d0-9093-45d7-af71-531d3387edf7",
   "metadata": {},
   "source": [
    "### Operators on string"
   ]
  },
  {
   "cell_type": "markdown",
   "id": "289a34b0-0287-4119-a449-728b14c2fe63",
   "metadata": {},
   "source": [
    "1. Concatenate operator  - 'app'+'les'"
   ]
  },
  {
   "cell_type": "code",
   "execution_count": 21,
   "id": "7a286fd2-9ab3-44eb-a858-42d920f7ed40",
   "metadata": {},
   "outputs": [
    {
     "data": {
      "text/plain": [
       "'absabsabs'"
      ]
     },
     "execution_count": 21,
     "metadata": {},
     "output_type": "execute_result"
    }
   ],
   "source": [
    "'abs'*3"
   ]
  },
  {
   "cell_type": "markdown",
   "id": "4cfbc92a-8968-456d-8173-7e635c62e932",
   "metadata": {},
   "source": [
    " 2. 'in' is  a global operator"
   ]
  },
  {
   "cell_type": "code",
   "execution_count": 61,
   "id": "31854c3a-ffce-4052-8f33-da109a7e8786",
   "metadata": {},
   "outputs": [
    {
     "data": {
      "text/plain": [
       "False"
      ]
     },
     "execution_count": 61,
     "metadata": {},
     "output_type": "execute_result"
    }
   ],
   "source": [
    "'put' in s"
   ]
  },
  {
   "cell_type": "code",
   "execution_count": 62,
   "id": "6d8b8738-8d8d-4d4c-8eea-4957dfc62376",
   "metadata": {},
   "outputs": [
    {
     "data": {
      "text/plain": [
       "'stringgg'"
      ]
     },
     "execution_count": 62,
     "metadata": {},
     "output_type": "execute_result"
    }
   ],
   "source": [
    "s"
   ]
  },
  {
   "cell_type": "code",
   "execution_count": 60,
   "id": "c8fae0bd-1c74-4bad-85d4-a22ff0b751b7",
   "metadata": {},
   "outputs": [
    {
     "data": {
      "text/plain": [
       "8"
      ]
     },
     "execution_count": 60,
     "metadata": {},
     "output_type": "execute_result"
    }
   ],
   "source": [
    "len(s)"
   ]
  },
  {
   "cell_type": "code",
   "execution_count": 23,
   "id": "77e38e5d-1233-4081-8519-be6f18d23e53",
   "metadata": {},
   "outputs": [
    {
     "data": {
      "text/plain": [
       "str"
      ]
     },
     "execution_count": 23,
     "metadata": {},
     "output_type": "execute_result"
    }
   ],
   "source": [
    "type(s)"
   ]
  },
  {
   "cell_type": "code",
   "execution_count": 24,
   "id": "2d4aee8e-2c63-4f48-90a3-74d0336e342b",
   "metadata": {},
   "outputs": [
    {
     "data": {
      "text/plain": [
       "True"
      ]
     },
     "execution_count": 24,
     "metadata": {},
     "output_type": "execute_result"
    }
   ],
   "source": [
    "type(s)==str"
   ]
  },
  {
   "cell_type": "markdown",
   "id": "fda2588d-25ad-460e-86fd-a07cd1aa86df",
   "metadata": {},
   "source": [
    "3. isinstance operator- you to check if an object belongs to a particular data type or class. "
   ]
  },
  {
   "cell_type": "code",
   "execution_count": 25,
   "id": "0f266085-0555-4931-9357-2e39ff121539",
   "metadata": {},
   "outputs": [
    {
     "data": {
      "text/plain": [
       "True"
      ]
     },
     "execution_count": 25,
     "metadata": {},
     "output_type": "execute_result"
    }
   ],
   "source": [
    "isinstance(s,str)"
   ]
  },
  {
   "cell_type": "code",
   "execution_count": 26,
   "id": "7cb99b5e-a818-4944-9a76-73774ffa9249",
   "metadata": {},
   "outputs": [
    {
     "data": {
      "text/plain": [
       "False"
      ]
     },
     "execution_count": 26,
     "metadata": {},
     "output_type": "execute_result"
    }
   ],
   "source": [
    "isinstance(s,int)"
   ]
  },
  {
   "cell_type": "code",
   "execution_count": 27,
   "id": "dbbd700d-aba7-4091-afee-79d7fbcd7731",
   "metadata": {},
   "outputs": [],
   "source": [
    "del s"
   ]
  },
  {
   "cell_type": "code",
   "execution_count": 63,
   "id": "f52baaa3-2820-40ef-82d9-95b5ae071208",
   "metadata": {},
   "outputs": [
    {
     "data": {
      "text/plain": [
       "'stringgg'"
      ]
     },
     "execution_count": 63,
     "metadata": {},
     "output_type": "execute_result"
    }
   ],
   "source": [
    "s"
   ]
  },
  {
   "cell_type": "code",
   "execution_count": 64,
   "id": "b27ee638-7601-404a-9a7d-916bb7f66b67",
   "metadata": {},
   "outputs": [],
   "source": [
    "b='python'"
   ]
  },
  {
   "cell_type": "code",
   "execution_count": 65,
   "id": "f183ce06-0763-4a79-b280-d2f0a03003ee",
   "metadata": {},
   "outputs": [
    {
     "data": {
      "text/plain": [
       "'python'"
      ]
     },
     "execution_count": 65,
     "metadata": {},
     "output_type": "execute_result"
    }
   ],
   "source": [
    "b.strip()"
   ]
  },
  {
   "cell_type": "code",
   "execution_count": 67,
   "id": "eb492a6d-87b7-481f-ad4b-5bf7ff35377c",
   "metadata": {},
   "outputs": [
    {
     "data": {
      "text/plain": [
       "'python'"
      ]
     },
     "execution_count": 67,
     "metadata": {},
     "output_type": "execute_result"
    }
   ],
   "source": [
    "b.lstrip()"
   ]
  },
  {
   "cell_type": "code",
   "execution_count": 68,
   "id": "aa7778f1-5b88-49db-95c9-6208a57e919e",
   "metadata": {},
   "outputs": [
    {
     "data": {
      "text/plain": [
       "'python'"
      ]
     },
     "execution_count": 68,
     "metadata": {},
     "output_type": "execute_result"
    }
   ],
   "source": [
    "b.rstrip()"
   ]
  },
  {
   "cell_type": "code",
   "execution_count": 70,
   "id": "9a648ec6-7101-4ffd-b91c-8fc74885514a",
   "metadata": {},
   "outputs": [
    {
     "data": {
      "text/plain": [
       "'python    '"
      ]
     },
     "execution_count": 70,
     "metadata": {},
     "output_type": "execute_result"
    }
   ],
   "source": [
    "b.ljust(10)"
   ]
  },
  {
   "cell_type": "code",
   "execution_count": 71,
   "id": "3bd4f7a8-b61f-44eb-8784-e7e6b0a7d356",
   "metadata": {},
   "outputs": [
    {
     "data": {
      "text/plain": [
       "' python'"
      ]
     },
     "execution_count": 71,
     "metadata": {},
     "output_type": "execute_result"
    }
   ],
   "source": [
    "b.rjust(7)"
   ]
  },
  {
   "cell_type": "code",
   "execution_count": 74,
   "id": "4c9d5f06-3c04-4e3f-af5b-fe5c4b14dbc1",
   "metadata": {},
   "outputs": [
    {
     "data": {
      "text/plain": [
       "'0000python'"
      ]
     },
     "execution_count": 74,
     "metadata": {},
     "output_type": "execute_result"
    }
   ],
   "source": [
    "b.zfill(10)  #fill first char, total print 10 characters "
   ]
  },
  {
   "cell_type": "markdown",
   "id": "a1b546c5-b8e8-4101-a470-3792c4a1f901",
   "metadata": {},
   "source": [
    "### Modifications on the string"
   ]
  },
  {
   "cell_type": "code",
   "execution_count": 75,
   "id": "d78e164b-6284-4425-a375-c763a78a19f7",
   "metadata": {},
   "outputs": [],
   "source": [
    "id='paru#ust@.com'"
   ]
  },
  {
   "cell_type": "code",
   "execution_count": 77,
   "id": "b781585c-38e5-41b9-857a-3a8702225add",
   "metadata": {},
   "outputs": [
    {
     "data": {
      "text/plain": [
       "'paru@ust.com'"
      ]
     },
     "execution_count": 77,
     "metadata": {},
     "output_type": "execute_result"
    }
   ],
   "source": [
    "newid=id.replace('#','@')\n",
    "newid"
   ]
  },
  {
   "cell_type": "code",
   "execution_count": 79,
   "id": "69eecf36-a70c-4ec7-91ab-84fff27e796d",
   "metadata": {},
   "outputs": [
    {
     "data": {
      "text/plain": [
       "['mary', 'had', 'a', 'little', 'lamp']"
      ]
     },
     "execution_count": 79,
     "metadata": {},
     "output_type": "execute_result"
    }
   ],
   "source": [
    "text='mary had a little lamp'\n",
    "text.split()"
   ]
  },
  {
   "cell_type": "code",
   "execution_count": 80,
   "id": "5d2f83d5-7f29-4f09-835c-58c359055ed0",
   "metadata": {},
   "outputs": [
    {
     "data": {
      "text/plain": [
       "['m', 'ry h', 'd ', ' little l', 'mp']"
      ]
     },
     "execution_count": 80,
     "metadata": {},
     "output_type": "execute_result"
    }
   ],
   "source": [
    "text.split('a')"
   ]
  },
  {
   "cell_type": "code",
   "execution_count": 85,
   "id": "75d9de38-9a65-4090-963d-340ea4b74d21",
   "metadata": {},
   "outputs": [
    {
     "data": {
      "text/plain": [
       "'sky -is- blue'"
      ]
     },
     "execution_count": 85,
     "metadata": {},
     "output_type": "execute_result"
    }
   ],
   "source": [
    "l=[\"sky \", \"is\",\" blue\"]\n",
    "'-'.join(l)"
   ]
  },
  {
   "cell_type": "code",
   "execution_count": 86,
   "id": "9553cc1f-516e-4509-8c81-e1dfe51747fb",
   "metadata": {},
   "outputs": [
    {
     "data": {
      "text/plain": [
       "bytes"
      ]
     },
     "execution_count": 86,
     "metadata": {},
     "output_type": "execute_result"
    }
   ],
   "source": [
    "enc=a.encode('utf-8')  #encoding a text- transmit a communication channel.\n",
    "type(enc)"
   ]
  },
  {
   "cell_type": "code",
   "execution_count": 88,
   "id": "f70995ce-9a2c-4486-878a-9245b0e83a66",
   "metadata": {},
   "outputs": [
    {
     "data": {
      "text/plain": [
       "'mississippi'"
      ]
     },
     "execution_count": 88,
     "metadata": {},
     "output_type": "execute_result"
    }
   ],
   "source": [
    "dec=enc.decode()  #decode that encode communications\n",
    "dec"
   ]
  },
  {
   "cell_type": "code",
   "execution_count": 89,
   "id": "237e9e23-77c4-4b65-9c1c-4d7a76b7d829",
   "metadata": {},
   "outputs": [
    {
     "data": {
      "text/plain": [
       "str"
      ]
     },
     "execution_count": 89,
     "metadata": {},
     "output_type": "execute_result"
    }
   ],
   "source": [
    "type(dec)"
   ]
  },
  {
   "cell_type": "code",
   "execution_count": 90,
   "id": "722cca2c-97d3-49f0-b643-5104fd7f36af",
   "metadata": {},
   "outputs": [
    {
     "data": {
      "text/plain": [
       "97"
      ]
     },
     "execution_count": 90,
     "metadata": {},
     "output_type": "execute_result"
    }
   ],
   "source": [
    "ord('a')  #asccii value of particular value"
   ]
  },
  {
   "cell_type": "code",
   "execution_count": 91,
   "id": "a903b116-048a-4357-b653-0704f1dff07f",
   "metadata": {},
   "outputs": [
    {
     "data": {
      "text/plain": [
       "'a'"
      ]
     },
     "execution_count": 91,
     "metadata": {},
     "output_type": "execute_result"
    }
   ],
   "source": [
    "chr(97)  #varibale name charcter"
   ]
  },
  {
   "cell_type": "markdown",
   "id": "b8387d2e-dd69-4f23-ab61-ba313466b766",
   "metadata": {},
   "source": [
    "### Working with case of the string"
   ]
  },
  {
   "cell_type": "code",
   "execution_count": 29,
   "id": "ee3bdbb4-8c14-47f0-abe5-50789dcde465",
   "metadata": {},
   "outputs": [],
   "source": [
    "s=\"Computer\""
   ]
  },
  {
   "cell_type": "code",
   "execution_count": 30,
   "id": "3685f0e2-4990-400b-815a-269e669a8d2d",
   "metadata": {},
   "outputs": [
    {
     "data": {
      "text/plain": [
       "'computer'"
      ]
     },
     "execution_count": 30,
     "metadata": {},
     "output_type": "execute_result"
    }
   ],
   "source": [
    "s.lower()"
   ]
  },
  {
   "cell_type": "code",
   "execution_count": 31,
   "id": "76d24cb0-6684-4904-8074-50e334ada2ac",
   "metadata": {},
   "outputs": [
    {
     "data": {
      "text/plain": [
       "'COMPUTER'"
      ]
     },
     "execution_count": 31,
     "metadata": {},
     "output_type": "execute_result"
    }
   ],
   "source": [
    "s.upper()"
   ]
  },
  {
   "cell_type": "code",
   "execution_count": 32,
   "id": "dfd35b6b-627d-4ee0-9fb2-c8b56e16246c",
   "metadata": {},
   "outputs": [
    {
     "data": {
      "text/plain": [
       "'Computer'"
      ]
     },
     "execution_count": 32,
     "metadata": {},
     "output_type": "execute_result"
    }
   ],
   "source": [
    "s.capitalize()  #first char print capital "
   ]
  },
  {
   "cell_type": "code",
   "execution_count": 72,
   "id": "e9b95508-b1c3-45a2-ba74-4ca6c26a428e",
   "metadata": {},
   "outputs": [],
   "source": [
    "s='Computer'"
   ]
  },
  {
   "cell_type": "code",
   "execution_count": 73,
   "id": "3af3b876-57d2-45af-ba99-f1fd848c2688",
   "metadata": {},
   "outputs": [
    {
     "data": {
      "text/plain": [
       "'cOMPUTER'"
      ]
     },
     "execution_count": 73,
     "metadata": {},
     "output_type": "execute_result"
    }
   ],
   "source": [
    "s.swapcase()  #upper to lower, lower to upper"
   ]
  },
  {
   "cell_type": "markdown",
   "id": "01e515e9-e473-4b17-a5f6-2d07874e90f0",
   "metadata": {},
   "source": [
    "### string checking functions"
   ]
  },
  {
   "cell_type": "code",
   "execution_count": 34,
   "id": "38918191-388d-44aa-a66f-b25c0f961ed7",
   "metadata": {},
   "outputs": [
    {
     "data": {
      "text/plain": [
       "True"
      ]
     },
     "execution_count": 34,
     "metadata": {},
     "output_type": "execute_result"
    }
   ],
   "source": [
    "'213'.isdigit()"
   ]
  },
  {
   "cell_type": "code",
   "execution_count": 36,
   "id": "974c0551-b878-4d37-9369-4fd4b7162387",
   "metadata": {},
   "outputs": [
    {
     "data": {
      "text/plain": [
       "False"
      ]
     },
     "execution_count": 36,
     "metadata": {},
     "output_type": "execute_result"
    }
   ],
   "source": [
    "'asd123'.isalpha()"
   ]
  },
  {
   "cell_type": "code",
   "execution_count": 37,
   "id": "6db75693-8ad1-423f-bb35-3defb4a96f1c",
   "metadata": {},
   "outputs": [
    {
     "data": {
      "text/plain": [
       "True"
      ]
     },
     "execution_count": 37,
     "metadata": {},
     "output_type": "execute_result"
    }
   ],
   "source": [
    "'asd'.isalpha()"
   ]
  },
  {
   "cell_type": "code",
   "execution_count": 41,
   "id": "dddae2ae-5a5b-4938-9f35-3d5b662e193a",
   "metadata": {},
   "outputs": [
    {
     "data": {
      "text/plain": [
       "True"
      ]
     },
     "execution_count": 41,
     "metadata": {},
     "output_type": "execute_result"
    }
   ],
   "source": [
    "s='stringgg'\n",
    "s.islower()"
   ]
  },
  {
   "cell_type": "code",
   "execution_count": 40,
   "id": "e14e13c7-dae0-40b4-a91d-d3159f6e6ed5",
   "metadata": {},
   "outputs": [
    {
     "data": {
      "text/plain": [
       "False"
      ]
     },
     "execution_count": 40,
     "metadata": {},
     "output_type": "execute_result"
    }
   ],
   "source": [
    "s.isupper()"
   ]
  },
  {
   "cell_type": "code",
   "execution_count": 42,
   "id": "c46ac4d7-038f-4ecd-b802-5bee0e5c1a8e",
   "metadata": {},
   "outputs": [
    {
     "data": {
      "text/plain": [
       "True"
      ]
     },
     "execution_count": 42,
     "metadata": {},
     "output_type": "execute_result"
    }
   ],
   "source": [
    "' '.isspace()"
   ]
  },
  {
   "cell_type": "markdown",
   "id": "e8262ad8-6376-4733-b22c-805d06a33362",
   "metadata": {},
   "source": [
    "'This is python code'.istitle()"
   ]
  },
  {
   "cell_type": "code",
   "execution_count": 1,
   "id": "5a1b7f29-05c4-41ed-94ad-832bec9e2d1c",
   "metadata": {},
   "outputs": [
    {
     "data": {
      "text/plain": [
       "False"
      ]
     },
     "execution_count": 1,
     "metadata": {},
     "output_type": "execute_result"
    }
   ],
   "source": [
    "'This is python code'.istitle()"
   ]
  },
  {
   "cell_type": "code",
   "execution_count": 44,
   "id": "d4b8acb1-3751-4c0e-a470-cd924d2a1c76",
   "metadata": {},
   "outputs": [],
   "source": [
    "url='www google.com'"
   ]
  },
  {
   "cell_type": "code",
   "execution_count": 45,
   "id": "5198ed09-059d-476c-ac65-722670027f99",
   "metadata": {},
   "outputs": [
    {
     "data": {
      "text/plain": [
       "True"
      ]
     },
     "execution_count": 45,
     "metadata": {},
     "output_type": "execute_result"
    }
   ],
   "source": [
    "url.startswith('www')"
   ]
  },
  {
   "cell_type": "code",
   "execution_count": 46,
   "id": "8e090b39-bd87-4583-9236-d524b3e323b6",
   "metadata": {},
   "outputs": [
    {
     "data": {
      "text/plain": [
       "False"
      ]
     },
     "execution_count": 46,
     "metadata": {},
     "output_type": "execute_result"
    }
   ],
   "source": [
    "url.endswith('org')"
   ]
  },
  {
   "cell_type": "code",
   "execution_count": 49,
   "id": "06e0dc53-725e-45a2-8c39-019bef01c524",
   "metadata": {},
   "outputs": [
    {
     "data": {
      "text/plain": [
       "False"
      ]
     },
     "execution_count": 49,
     "metadata": {},
     "output_type": "execute_result"
    }
   ],
   "source": [
    "url.endswith('com')"
   ]
  },
  {
   "cell_type": "markdown",
   "id": "a9bc841c-a949-4e1a-be71-60b026df9316",
   "metadata": {},
   "source": [
    "### Finding in a string"
   ]
  },
  {
   "cell_type": "code",
   "execution_count": 50,
   "id": "61574921-a305-43ce-b5c9-b232d0f4af64",
   "metadata": {},
   "outputs": [],
   "source": [
    "a= 'mississippi'"
   ]
  },
  {
   "cell_type": "markdown",
   "id": "9ba267b4-a118-4a0c-9408-ba5e63ab9806",
   "metadata": {},
   "source": [
    "#count 's' numbers"
   ]
  },
  {
   "cell_type": "code",
   "execution_count": 52,
   "id": "f77badcb-e038-46cc-ade8-5bfafb7c8d23",
   "metadata": {},
   "outputs": [
    {
     "data": {
      "text/plain": [
       "4"
      ]
     },
     "execution_count": 52,
     "metadata": {},
     "output_type": "execute_result"
    }
   ],
   "source": [
    "a.count('s')"
   ]
  },
  {
   "cell_type": "code",
   "execution_count": 53,
   "id": "dc605bb3-8360-40a7-a71d-2a29c76e91ad",
   "metadata": {},
   "outputs": [
    {
     "data": {
      "text/plain": [
       "2"
      ]
     },
     "execution_count": 53,
     "metadata": {},
     "output_type": "execute_result"
    }
   ],
   "source": [
    "a.count('ss')"
   ]
  },
  {
   "cell_type": "code",
   "execution_count": 54,
   "id": "701f60a0-a1e7-4ed9-9637-bcff0a0c24fc",
   "metadata": {},
   "outputs": [
    {
     "data": {
      "text/plain": [
       "1"
      ]
     },
     "execution_count": 54,
     "metadata": {},
     "output_type": "execute_result"
    }
   ],
   "source": [
    "a.find('iss')  #find iss from left"
   ]
  },
  {
   "cell_type": "code",
   "execution_count": 55,
   "id": "520f020a-69b7-4cc4-9b2a-5b82fa78787b",
   "metadata": {},
   "outputs": [
    {
     "data": {
      "text/plain": [
       "'f'"
      ]
     },
     "execution_count": 55,
     "metadata": {},
     "output_type": "execute_result"
    }
   ],
   "source": [
    "a.join('f')"
   ]
  },
  {
   "cell_type": "code",
   "execution_count": 56,
   "id": "11fc97db-44d7-4a5a-be3e-027ddfd8f197",
   "metadata": {},
   "outputs": [
    {
     "data": {
      "text/plain": [
       "'mississippi'"
      ]
     },
     "execution_count": 56,
     "metadata": {},
     "output_type": "execute_result"
    }
   ],
   "source": [
    "a"
   ]
  },
  {
   "cell_type": "code",
   "execution_count": 58,
   "id": "4bd203fc-7d7b-44a0-b319-e0653d389972",
   "metadata": {},
   "outputs": [
    {
     "data": {
      "text/plain": [
       "4"
      ]
     },
     "execution_count": 58,
     "metadata": {},
     "output_type": "execute_result"
    }
   ],
   "source": [
    "a.rfind('iss')  #right side- find iss "
   ]
  },
  {
   "cell_type": "code",
   "execution_count": 59,
   "id": "744c0874-4289-46c7-b3d1-1216239481f3",
   "metadata": {},
   "outputs": [
    {
     "data": {
      "text/plain": [
       "1"
      ]
     },
     "execution_count": 59,
     "metadata": {},
     "output_type": "execute_result"
    }
   ],
   "source": [
    "a.index('iss')"
   ]
  },
  {
   "cell_type": "markdown",
   "id": "cf0773d8-4fe2-4c80-bc27-027f23f1493f",
   "metadata": {},
   "source": [
    "### Translations and format"
   ]
  },
  {
   "cell_type": "code",
   "execution_count": null,
   "id": "aff0d4e9-24d6-486d-90a9-e1569767e2e2",
   "metadata": {},
   "outputs": [],
   "source": [
    "s='computer' #p->PPP  t->TT  r-> R"
   ]
  },
  {
   "cell_type": "code",
   "execution_count": 94,
   "id": "19e14796-b9d2-494b-88c0-aee01085f7b8",
   "metadata": {},
   "outputs": [
    {
     "data": {
      "text/plain": [
       "{112: 'PPP', 116: 'TT', 114: 'R'}"
      ]
     },
     "execution_count": 94,
     "metadata": {},
     "output_type": "execute_result"
    }
   ],
   "source": [
    "tt= s.maketrans({'p':'PPP','t':'TT', 'r':'R'})\n",
    "tt"
   ]
  },
  {
   "cell_type": "code",
   "execution_count": 96,
   "id": "0f202b0e-4079-4b7a-a12e-a2a43259fc85",
   "metadata": {},
   "outputs": [
    {
     "data": {
      "text/plain": [
       "'ComPPPuTTeR'"
      ]
     },
     "execution_count": 96,
     "metadata": {},
     "output_type": "execute_result"
    }
   ],
   "source": [
    "s.translate(tt)"
   ]
  },
  {
   "cell_type": "code",
   "execution_count": 97,
   "id": "245e5070-8256-4309-8960-a9501fab93b6",
   "metadata": {},
   "outputs": [
    {
     "data": {
      "text/plain": [
       "'The name is  ANIL and the age is 78             '"
      ]
     },
     "execution_count": 97,
     "metadata": {},
     "output_type": "execute_result"
    }
   ],
   "source": [
    "\"The name is {0:>5} and the age is {1:<15}\" .format(\"ANIL\",78)"
   ]
  },
  {
   "cell_type": "code",
   "execution_count": 2,
   "id": "29a54417-c343-41b2-a252-f1a16e402cc6",
   "metadata": {},
   "outputs": [
    {
     "name": "stdout",
     "output_type": "stream",
     "text": [
      "Current date 20 | o2    19 | n2    19 | h2    19\n",
      "Current date 20 | o2    97 | n2    97 | h2    97\n",
      "Current date 20 | o2    80 | n2    80 | h2    80\n",
      "Current date 20 | o2    89 | n2    89 | h2    89\n",
      "Current date 20 | o2    36 | n2    36 | h2    36\n",
      "Current date 20 | o2    72 | n2    72 | h2    72\n",
      "Current date 20 | o2    26 | n2    26 | h2    26\n",
      "Current date 20 | o2    47 | n2    47 | h2    47\n",
      "Current date 20 | o2    53 | n2    53 | h2    53\n",
      "Current date 20 | o2    65 | n2    65 | h2    65\n"
     ]
    }
   ],
   "source": [
    "template = \"Current date {0:20} | o2 {1:5} | n2 {1:5} | h2 {1:5}\"\n",
    "from datetime import datetime\n",
    "import random\n",
    "template.format(datetime.now(), 32, 44, 53)\n",
    "'Current date 20 | o2    32 | n2    32 | h2    32'\n",
    "for i in range(10):\n",
    "    print(template.format(datetime.now(), random.randint(1, 100), random.randint(1, 100), random.randint(1, 100)))"
   ]
  },
  {
   "cell_type": "markdown",
   "id": "26014de3-a3c8-4c44-b7b9-2074a171297d",
   "metadata": {},
   "source": [
    "### Exercises "
   ]
  },
  {
   "cell_type": "code",
   "execution_count": 124,
   "id": "6e117d49-48cd-4091-9bdd-e89fc5c6b523",
   "metadata": {},
   "outputs": [
    {
     "data": {
      "text/plain": [
       "'192.168.1.1'"
      ]
     },
     "execution_count": 124,
     "metadata": {},
     "output_type": "execute_result"
    }
   ],
   "source": [
    "#Given an IP address string \"192-168-1-1\" correct it\n",
    "ip ='192-168-1-1'\n",
    "ip.replace('-', '.')"
   ]
  },
  {
   "cell_type": "code",
   "execution_count": 101,
   "id": "e97b2a05-a168-4528-bc1a-ed919d946c8a",
   "metadata": {},
   "outputs": [
    {
     "data": {
      "text/plain": [
       "'HELLO WORLD'"
      ]
     },
     "execution_count": 101,
     "metadata": {},
     "output_type": "execute_result"
    }
   ],
   "source": [
    "#Convert \"hello world\" to uppercase\n",
    "t=\"hello world\"\n",
    "t.upper()"
   ]
  },
  {
   "cell_type": "code",
   "execution_count": 102,
   "id": "3fd4d0e0-ec0f-404d-bffc-dca5da25043d",
   "metadata": {},
   "outputs": [
    {
     "data": {
      "text/plain": [
       "'pYtHoN sTrInGs'"
      ]
     },
     "execution_count": 102,
     "metadata": {},
     "output_type": "execute_result"
    }
   ],
   "source": [
    "#Swap the case of \"PyThOn StRiNgS\"- swapcase() --converts all uppercase letters to lowercase and all lowercase letters to uppercase.\n",
    "n=\"PyThOn StRiNgS\"\n",
    "n.swapcase()"
   ]
  },
  {
   "cell_type": "code",
   "execution_count": 103,
   "id": "a215c377-e2ba-4390-8a2b-f6a0811e0b5c",
   "metadata": {},
   "outputs": [
    {
     "data": {
      "text/plain": [
       "14"
      ]
     },
     "execution_count": 103,
     "metadata": {},
     "output_type": "execute_result"
    }
   ],
   "source": [
    "#Find the length of \"Hello, Python!\"\n",
    "h=\"Hello, Python!\"\n",
    "len(h)"
   ]
  },
  {
   "cell_type": "code",
   "execution_count": 104,
   "id": "3af94611-f54b-4965-a76b-73c2cf3ca791",
   "metadata": {},
   "outputs": [
    {
     "data": {
      "text/plain": [
       "4"
      ]
     },
     "execution_count": 104,
     "metadata": {},
     "output_type": "execute_result"
    }
   ],
   "source": [
    "#Count how many times \"e\" appears in \"experience\"\n",
    "a=\"experience\"\n",
    "a.count('e')"
   ]
  },
  {
   "cell_type": "code",
   "execution_count": 105,
   "id": "75160b7a-62fc-45d7-ab87-23b4414282ae",
   "metadata": {},
   "outputs": [
    {
     "data": {
      "text/plain": [
       "True"
      ]
     },
     "execution_count": 105,
     "metadata": {},
     "output_type": "execute_result"
    }
   ],
   "source": [
    "#Check if \"Python programming\" starts with \"Py\"\n",
    "r=\"Python programming\" \n",
    "r.startswith(\"Py\")"
   ]
  },
  {
   "cell_type": "code",
   "execution_count": 106,
   "id": "efb6271e-4896-44c7-a472-4672954e96d7",
   "metadata": {},
   "outputs": [
    {
     "data": {
      "text/plain": [
       "True"
      ]
     },
     "execution_count": 106,
     "metadata": {},
     "output_type": "execute_result"
    }
   ],
   "source": [
    "#Check if \"hello.txt\" ends with \".txt\"\n",
    "u=\"hello.txt\"\n",
    "u.endswith(\".txt\")"
   ]
  },
  {
   "cell_type": "code",
   "execution_count": 115,
   "id": "33b72175-718d-46da-87a6-61ae17380b20",
   "metadata": {},
   "outputs": [
    {
     "data": {
      "text/plain": [
       "6"
      ]
     },
     "execution_count": 115,
     "metadata": {},
     "output_type": "execute_result"
    }
   ],
   "source": [
    "#Find the index of \"world\" in \"hello world\" -index and find method \n",
    "r=\"hello world\"\n",
    "r.index(\"world\")"
   ]
  },
  {
   "cell_type": "code",
   "execution_count": 110,
   "id": "4e231e51-29cc-4250-ba0f-d0e6534d1e10",
   "metadata": {},
   "outputs": [
    {
     "data": {
      "text/plain": [
       "'I love Java'"
      ]
     },
     "execution_count": 110,
     "metadata": {},
     "output_type": "execute_result"
    }
   ],
   "source": [
    "#Replace \"Python\" with \"Java\" in \"I love Python\"\n",
    "n=\"I love Python\"\n",
    "n.replace(\"Python\",\"Java\")"
   ]
  },
  {
   "cell_type": "code",
   "execution_count": 111,
   "id": "6adb90f9-d4e1-4a90-8355-ad0c31f7a21f",
   "metadata": {},
   "outputs": [
    {
     "data": {
      "text/plain": [
       "'Python'"
      ]
     },
     "execution_count": 111,
     "metadata": {},
     "output_type": "execute_result"
    }
   ],
   "source": [
    "#Remove leading and trailing spaces from \" Python \"-strip() method removes any leading (left)and trailing (right) whitespace from the string.\n",
    "i=\" Python \"\n",
    "i.strip()"
   ]
  },
  {
   "cell_type": "code",
   "execution_count": 112,
   "id": "8864d79c-e1cd-4087-83bc-3cf3f9f37934",
   "metadata": {},
   "outputs": [
    {
     "data": {
      "text/plain": [
       "['Learn', 'Python', 'Programming']"
      ]
     },
     "execution_count": 112,
     "metadata": {},
     "output_type": "execute_result"
    }
   ],
   "source": [
    "#Split \"Learn Python Programming\" into words\n",
    "u=\"Learn Python Programming\"\n",
    "u.split()"
   ]
  },
  {
   "cell_type": "code",
   "execution_count": 114,
   "id": "16489f2e-a757-4740-ab7e-8bd317b25812",
   "metadata": {},
   "outputs": [
    {
     "data": {
      "text/plain": [
       "'apple,banana,cherry'"
      ]
     },
     "execution_count": 114,
     "metadata": {},
     "output_type": "execute_result"
    }
   ],
   "source": [
    "#Join ['apple', 'banana', 'cherry'] with commas\n",
    "l=['apple', 'banana', 'cherry']\n",
    "','.join(l)"
   ]
  },
  {
   "cell_type": "code",
   "execution_count": 118,
   "id": "2719501f-708a-4bc7-8d77-219e6290c93c",
   "metadata": {},
   "outputs": [
    {
     "data": {
      "text/plain": [
       "True"
      ]
     },
     "execution_count": 118,
     "metadata": {},
     "output_type": "execute_result"
    }
   ],
   "source": [
    "#Check if \"Python3\" is alphanumeric\n",
    "s=\"Python3\"\n",
    "s.isalnum()"
   ]
  },
  {
   "cell_type": "code",
   "execution_count": 121,
   "id": "7e45a8a3-68a3-4381-83ac-7acba513f3c8",
   "metadata": {},
   "outputs": [
    {
     "data": {
      "text/plain": [
       "'005'"
      ]
     },
     "execution_count": 121,
     "metadata": {},
     "output_type": "execute_result"
    }
   ],
   "source": [
    "#Convert \"5\" to a 3-digit string (\"005\")\n",
    "n=\"5\"\n",
    "n.zfill(3)"
   ]
  },
  {
   "cell_type": "code",
   "execution_count": 122,
   "id": "1f31aa91-72c6-438b-be46-5c5890757470",
   "metadata": {},
   "outputs": [
    {
     "data": {
      "text/plain": [
       "'Alice is 25 years old.'"
      ]
     },
     "execution_count": 122,
     "metadata": {},
     "output_type": "execute_result"
    }
   ],
   "source": [
    "#Given name = \"Alice\" and age = 25, format \"Alice is 25 years old.\"\n",
    "name = \"Alice\"\n",
    "age = 25\n",
    "format= \"%s is %d years old.\" % (name, age)\n",
    "format"
   ]
  },
  {
   "cell_type": "code",
   "execution_count": 123,
   "id": "6b38c91e-d639-4d4a-89c1-257dc927177d",
   "metadata": {},
   "outputs": [
    {
     "data": {
      "text/plain": [
       "True"
      ]
     },
     "execution_count": 123,
     "metadata": {},
     "output_type": "execute_result"
    }
   ],
   "source": [
    "text = \"malayalam\"\n",
    "text == text[::-1]"
   ]
  },
  {
   "cell_type": "code",
   "execution_count": 126,
   "id": "62d63c56-51ab-4792-8529-2ac999d34df3",
   "metadata": {},
   "outputs": [
    {
     "name": "stdout",
     "output_type": "stream",
     "text": [
      "Alice is 25 years old.\n"
     ]
    }
   ],
   "source": [
    "#Given name = \"Alice\" and age = 25, format \"Alice is 25 years old.\"\n",
    "name = \"Alice\"\n",
    "age = 25\n",
    "print(\"%s is %d years old.\" % (name, age))"
   ]
  },
  {
   "cell_type": "code",
   "execution_count": 127,
   "id": "6a4e9510-9bea-448e-a137-5b733c988c89",
   "metadata": {},
   "outputs": [
    {
     "name": "stdout",
     "output_type": "stream",
     "text": [
      "Alice is 25 years old\n"
     ]
    }
   ],
   "source": [
    "#Given name = \"Alice\" and age = 25, format \"Alice is 25 years old.\"\n",
    "name = \"Alice\"\n",
    "age = 25\n",
    "print(f\"{name} is {age} years old\")"
   ]
  },
  {
   "cell_type": "markdown",
   "id": "3475c4e9-faf3-4b17-b91b-c5338e84e34d",
   "metadata": {},
   "source": [
    "# Raw string"
   ]
  },
  {
   "cell_type": "code",
   "execution_count": 132,
   "id": "39b552d9-2f78-4b49-a32f-f3c879c4f86c",
   "metadata": {},
   "outputs": [
    {
     "name": "stdout",
     "output_type": "stream",
     "text": [
      "c:\n",
      "ew\text\\document\\matta.dt\n"
     ]
    },
    {
     "name": "stderr",
     "output_type": "stream",
     "text": [
      "<>:1: SyntaxWarning: invalid escape sequence '\\d'\n",
      "<>:1: SyntaxWarning: invalid escape sequence '\\d'\n",
      "C:\\Users\\237237\\AppData\\Local\\Temp\\ipykernel_12080\\1669117080.py:1: SyntaxWarning: invalid escape sequence '\\d'\n",
      "  path= \"c:\\new\\text\\document\\matta.dt\"\n"
     ]
    }
   ],
   "source": [
    "path= \"c:\\new\\text\\document\\matta.dt\"\n",
    "print(path)"
   ]
  },
  {
   "cell_type": "code",
   "execution_count": 133,
   "id": "2b3353cc-9f33-4e64-942d-629fea9af559",
   "metadata": {},
   "outputs": [
    {
     "name": "stdout",
     "output_type": "stream",
     "text": [
      "c:\\new\\text\\document\\matta.dt\n"
     ]
    }
   ],
   "source": [
    "path= r\"c:\\new\\text\\document\\matta.dt\"\n",
    "print(path)"
   ]
  },
  {
   "cell_type": "code",
   "execution_count": 137,
   "id": "4d1fa2a8-5853-4cc3-bf98-38314f4b9313",
   "metadata": {},
   "outputs": [
    {
     "name": "stdin",
     "output_type": "stream",
     "text": [
      "Enter some text: wonderfull idea\n"
     ]
    },
    {
     "name": "stdout",
     "output_type": "stream",
     "text": [
      "The number of vowels in the text is 6\n"
     ]
    }
   ],
   "source": [
    "#create a program to accept text from the user and count the number of vowels in the text\n",
    "\n",
    "#input\n",
    "text=input(\"Enter some text:\")\n",
    "\n",
    "#process\n",
    "text=text.lower()\n",
    "vcount=text.count('a') + text.count('e') + text.count('i') + text.count('o') + text.count('u')\n",
    "\n",
    "#output\n",
    "print(f\"The number of vowels in the text is {vcount}\")"
   ]
  },
  {
   "cell_type": "code",
   "execution_count": 139,
   "id": "720ecb23-6173-44a9-be64-0f4ce10095ea",
   "metadata": {},
   "outputs": [
    {
     "name": "stdin",
     "output_type": "stream",
     "text": [
      "Enter some text: ppython programing\n"
     ]
    },
    {
     "name": "stdout",
     "output_type": "stream",
     "text": [
      "The number of vowels in the text is 4\n"
     ]
    }
   ],
   "source": [
    "#create a program to accept text from the user and count the number of vowels in the text\n",
    "\n",
    "#input\n",
    "text=input(\"Enter some text:\")\n",
    "\n",
    "#process\n",
    "text=text.lower()\n",
    "vcount=0\n",
    "#vcount=text.count('a') + text.count('e') + text.count('i') + text.count('o') + text.count('u')\n",
    "for v in 'aeiou':\n",
    "    vcount+=text.count(v)\n",
    "\n",
    "#output\n",
    "print(f\"The number of vowels in the text is {vcount}\")"
   ]
  },
  {
   "cell_type": "code",
   "execution_count": null,
   "id": "00fb9429-80e9-432f-b22e-9f01eccdd9b2",
   "metadata": {},
   "outputs": [],
   "source": []
  }
 ],
 "metadata": {
  "kernelspec": {
   "display_name": "Python 3 (ipykernel)",
   "language": "python",
   "name": "python3"
  },
  "language_info": {
   "codemirror_mode": {
    "name": "ipython",
    "version": 3
   },
   "file_extension": ".py",
   "mimetype": "text/x-python",
   "name": "python",
   "nbconvert_exporter": "python",
   "pygments_lexer": "ipython3",
   "version": "3.12.4"
  }
 },
 "nbformat": 4,
 "nbformat_minor": 5
}
