{
 "cells": [
  {
   "cell_type": "code",
   "execution_count": null,
   "id": "988657be-7aa2-4faa-a158-1cc5d145b736",
   "metadata": {},
   "outputs": [],
   "source": [
    "'''Write a function to return the sum of individual digits \n",
    "Example: sum_individual(123) -> 6'''"
   ]
  },
  {
   "cell_type": "code",
   "execution_count": 7,
   "id": "89a17c34-b27b-4a28-b1af-6601b6c32ad4",
   "metadata": {},
   "outputs": [
    {
     "name": "stdout",
     "output_type": "stream",
     "text": [
      "6\n"
     ]
    }
   ],
   "source": [
    "#solution1\n",
    "def Sum_Individual(n):\n",
    "    total = 0\n",
    "    while n > 0:\n",
    "        t=n % 10\n",
    "        total=total+t\n",
    "        n //= 10\n",
    "    return total\n",
    "\n",
    "# Test the function with function call\n",
    "print(Sum_Individual(123))"
   ]
  },
  {
   "cell_type": "code",
   "execution_count": null,
   "id": "5dca34f1-965a-4a2f-9ca3-61b18bd04677",
   "metadata": {},
   "outputs": [],
   "source": [
    "''' Create a list of squares of numbers between 1 and 10\n",
    "Use map()'''"
   ]
  },
  {
   "cell_type": "code",
   "execution_count": 12,
   "id": "124d1264-ec83-4c79-9733-25341580853f",
   "metadata": {},
   "outputs": [
    {
     "name": "stdout",
     "output_type": "stream",
     "text": [
      "[1, 4, 9, 16, 25, 36, 49, 64, 81]\n"
     ]
    }
   ],
   "source": [
    "def Square_Numbers(n):\n",
    "    # Use map() to create a list of squares of the numbers\n",
    "    squares = list(map(lambda x: x**2, n))\n",
    "    print(squares)\n",
    "\n",
    "num=list(range(1,10))\n",
    "Square_Numbers(num) "
   ]
  },
  {
   "cell_type": "code",
   "execution_count": null,
   "id": "5704c9e4-df26-40fc-9f94-10c6552441a9",
   "metadata": {},
   "outputs": [],
   "source": [
    "''' List all three digit numbers between 100 and 1000 whose sum of individual digits \n",
    "equate to 11. Use filter()'''"
   ]
  },
  {
   "cell_type": "code",
   "execution_count": 32,
   "id": "f13a2603-c4d9-43cd-a076-02cd6666a576",
   "metadata": {},
   "outputs": [
    {
     "name": "stdout",
     "output_type": "stream",
     "text": [
      "[119, 128, 137, 146, 155, 164, 173, 182, 191, 209, 218, 227, 236, 245, 254, 263, 272, 281, 290, 308, 317, 326, 335, 344, 353, 362, 371, 380, 407, 416, 425, 434, 443, 452, 461, 470, 506, 515, 524, 533, 542, 551, 560, 605, 614, 623, 632, 641, 650, 704, 713, 722, 731, 740, 803, 812, 821, 830, 902, 911, 920]\n"
     ]
    }
   ],
   "source": [
    "def Sum_Individual(n):\n",
    "    total = 0\n",
    "    temp = n  # Store original number\n",
    "    while n > 0:\n",
    "        t=n % 10 #extract remaining number\n",
    "        total=total+t  #store the remaining number 101-1+0+1= 2. not 11 so not print it,119-1+1+9=11 ->yes,printed\n",
    "        n //= 10 #Remove last digit\n",
    "    return total\n",
    "    if total==11:\n",
    "        return n \n",
    "x = filter(sum_individual,range(100,1000))  #\n",
    "print(result)"
   ]
  },
  {
   "cell_type": "code",
   "execution_count": null,
   "id": "9c5a6dc9-6d30-4be2-a259-68809079bcb5",
   "metadata": {},
   "outputs": [],
   "source": [
    "''' Given L = [\"red\", \"green\", \"blue\", \"yellow\"]\n",
    "Sort the list in descending order with respect to the last charecter of the element\n",
    "output -> ['yellow', 'green', 'blue', 'red'].."
   ]
  },
  {
   "cell_type": "code",
   "execution_count": 25,
   "id": "a916379e-3880-45dc-ac88-7a8dc048ac24",
   "metadata": {},
   "outputs": [
    {
     "data": {
      "text/plain": [
       "['yellow', 'green', 'blue', 'red']"
      ]
     },
     "execution_count": 25,
     "metadata": {},
     "output_type": "execute_result"
    }
   ],
   "source": [
    "L = [\"red\", \"green\", \"blue\", \"yellow\"]\n",
    "L.sort(key=lambda x: x[-1])  # ['red', 'blue', 'green', 'yellow']\n",
    "L=L[::-1]  #reversed\n",
    "L"
   ]
  },
  {
   "cell_type": "code",
   "execution_count": 35,
   "id": "d595d18a-21c4-42c0-9cb4-1333e54dd9f1",
   "metadata": {},
   "outputs": [
    {
     "data": {
      "text/plain": [
       "['yellow', 'green', 'blue', 'red']"
      ]
     },
     "execution_count": 35,
     "metadata": {},
     "output_type": "execute_result"
    }
   ],
   "source": [
    "L = [\"red\", \"green\", \"blue\", \"yellow\"]\n",
    "L.sort(key=lambda x: x[-1])  # ['red', 'blue', 'green', 'yellow']\n",
    "L.reverse()  #reversed\n",
    "L"
   ]
  },
  {
   "cell_type": "code",
   "execution_count": 40,
   "id": "3caf51f3-9825-4eaa-b75f-cd3873343485",
   "metadata": {},
   "outputs": [
    {
     "data": {
      "text/plain": [
       "['yellow', 'green', 'blue', 'red']"
      ]
     },
     "execution_count": 40,
     "metadata": {},
     "output_type": "execute_result"
    }
   ],
   "source": [
    "L = [\"red\", \"green\", \"blue\", \"yellow\"]\n",
    "L.sort(key=lambda x: x[-1],reverse=True)\n",
    "L"
   ]
  },
  {
   "cell_type": "code",
   "execution_count": null,
   "id": "92ce43af-0483-4938-a3d3-b5b268064868",
   "metadata": {},
   "outputs": [],
   "source": []
  }
 ],
 "metadata": {
  "kernelspec": {
   "display_name": "Python 3 (ipykernel)",
   "language": "python",
   "name": "python3"
  },
  "language_info": {
   "codemirror_mode": {
    "name": "ipython",
    "version": 3
   },
   "file_extension": ".py",
   "mimetype": "text/x-python",
   "name": "python",
   "nbconvert_exporter": "python",
   "pygments_lexer": "ipython3",
   "version": "3.12.4"
  }
 },
 "nbformat": 4,
 "nbformat_minor": 5
}
