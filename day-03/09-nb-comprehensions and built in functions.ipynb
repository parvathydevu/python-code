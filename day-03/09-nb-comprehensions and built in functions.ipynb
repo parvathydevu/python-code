{
 "cells": [
  {
   "cell_type": "code",
   "execution_count": 7,
   "id": "391088c1-b24d-43f5-9ca5-d70ce88b26db",
   "metadata": {},
   "outputs": [
    {
     "data": {
      "text/plain": [
       "[4, 16, 36, 64, 100]"
      ]
     },
     "execution_count": 7,
     "metadata": {},
     "output_type": "execute_result"
    }
   ],
   "source": [
    "#Given a list of numbers, create a new list containing the squares of only the even numbers.\n",
    "N= [1, 2, 3, 4, 5, 6, 7, 8, 9, 10]\n",
    "[n**2 for n in N if n % 2 == 0]"
   ]
  },
  {
   "cell_type": "code",
   "execution_count": 8,
   "id": "75e015ad-b76b-428f-8c0b-192995248faa",
   "metadata": {},
   "outputs": [
    {
     "data": {
      "text/plain": [
       "{'apple': 5, 'banana': 6, 'cherry': 6, 'date': 4, 'elderberry': 10}"
      ]
     },
     "execution_count": 8,
     "metadata": {},
     "output_type": "execute_result"
    }
   ],
   "source": [
    "# Given a list of words, create a dictionary where the keys are words and the values are their lengths.\n",
    "# words = [\"apple\", \"banana\", \"cherry\", \"date\", \"elderberry\"]\n",
    "words = [\"apple\", \"banana\", \"cherry\", \"date\", \"elderberry\"]\n",
    "{s:len(s) for s in words}"
   ]
  },
  {
   "cell_type": "code",
   "execution_count": 9,
   "id": "024adc5e-b5e6-4383-8618-6c378a6fc08d",
   "metadata": {},
   "outputs": [
    {
     "data": {
      "text/plain": [
       "{'Alice': 25, 'Charlie': 19}"
      ]
     },
     "execution_count": 9,
     "metadata": {},
     "output_type": "execute_result"
    }
   ],
   "source": [
    "# Given a list of tuples with names and ages, create a dictionary of names with ages only if age is greater than 18.\n",
    "#[(\"Alice\", 25), (\"Bob\", 17), (\"Charlie\", 19), (\"David\", 16)]\n",
    "l=[(\"Alice\", 25), (\"Bob\", 17), (\"Charlie\", 19), (\"David\", 16)]\n",
    "{name: age for name, age in l if age > 18}"
   ]
  },
  {
   "cell_type": "code",
   "execution_count": 33,
   "id": "71999599-d4ad-4615-859c-42ab2dcf3d53",
   "metadata": {},
   "outputs": [
    {
     "data": {
      "text/plain": [
       "[1, 2, 3, 4, 5, 6, 7, 8, 9]"
      ]
     },
     "execution_count": 33,
     "metadata": {},
     "output_type": "execute_result"
    }
   ],
   "source": [
    "#Flatten a 2D list into a 1D list using a list comprehension.\n",
    "#matrix = [[1, 2, 3], [4, 5, 6], [7, 8, 9]]\n",
    "matrix = [[1, 2, 3], [4, 5, 6], [7, 8, 9]]\n",
    "[x for y in matrix for x in y]  #item is a var, first store each list in sublist(y), then store each element in x(flattened)"
   ]
  },
  {
   "cell_type": "code",
   "execution_count": 17,
   "id": "3d1a7ae3-9845-4bf4-bea3-504f1d279087",
   "metadata": {},
   "outputs": [
    {
     "data": {
      "text/plain": [
       "[1, 2, 3, 4, 5, 6, 7, 8, 9]"
      ]
     },
     "execution_count": 17,
     "metadata": {},
     "output_type": "execute_result"
    }
   ],
   "source": [
    "t= sum([sublist for sublist in matrix], [])\n",
    "t"
   ]
  },
  {
   "cell_type": "code",
   "execution_count": 38,
   "id": "bf8b17a4-6ceb-4a7e-9113-e6bb472a7bed",
   "metadata": {},
   "outputs": [
    {
     "data": {
      "text/plain": [
       "{'c': 1,\n",
       " 'o': 2,\n",
       " 'm': 1,\n",
       " 'p': 1,\n",
       " 'r': 1,\n",
       " 'e': 2,\n",
       " 'h': 1,\n",
       " 'n': 2,\n",
       " 's': 1,\n",
       " 'i': 1}"
      ]
     },
     "execution_count": 38,
     "metadata": {},
     "output_type": "execute_result"
    }
   ],
   "source": [
    "#Given a string, create a dictionary where the keys are characters and values are their frequencies.\n",
    "#text = \"comprehension\"\n",
    "text=\"comprehension\"\n",
    "dict= {char: text.count(char) for char in text}  #key is characters, value is its count(frequencies)\n",
    "dict"
   ]
  },
  {
   "cell_type": "code",
   "execution_count": null,
   "id": "284e1383-bb4c-4856-9fd7-6b858254a05e",
   "metadata": {},
   "outputs": [],
   "source": [
    "#Algorithm\n",
    "1. Create an empty list to store the flattened elements.\n",
    "2. Iterate through each element in the input list.\n",
    "3. If the element is a list, recursively flatten it and extend the flattened list with the result.\n",
    "4. If the element is not a list, append it to the flattened list.\n",
    "5. Return the flattened list."
   ]
  },
  {
   "cell_type": "code",
   "execution_count": 32,
   "id": "9cc4d090-d315-40a1-8495-425ed5315b2e",
   "metadata": {},
   "outputs": [
    {
     "data": {
      "text/plain": [
       "[1, 2, 3, 4, 5, 6, 7, 8]"
      ]
     },
     "execution_count": 32,
     "metadata": {},
     "output_type": "execute_result"
    }
   ],
   "source": [
    "#Come up with an algorithm to flatten a list and implement it in python:\n",
    "#Example: [1, 2, 3, [4, 5, [6, 7]], 8]\n",
    "#Output: [1, 2, 3, 4, 5, 6, 7, 8]\n",
    "def flatten_li(nested):\n",
    "    flat_list=[]\n",
    "    for x in nested:\n",
    "        if isinstance(x,list):\n",
    "            flat_list.extend(flatten_li(x))\n",
    "            \n",
    "        else:\n",
    "            flat_list.append(x)\n",
    "    return flat_list\n",
    "nested=[1, 2, 3, [4, 5, [6, 7]], 8]\n",
    "flatten_li(nested)        "
   ]
  },
  {
   "cell_type": "code",
   "execution_count": 21,
   "id": "7ddd7665-9102-4dff-9e8a-0eedb6ba93ed",
   "metadata": {},
   "outputs": [
    {
     "name": "stdout",
     "output_type": "stream",
     "text": [
      "[1, 2, 3, 4, 5, 6]\n"
     ]
    }
   ],
   "source": [
    "list1 = [1, 2, 3]\n",
    "list2 = [4, 5, 6]\n",
    "\n",
    "list1.extend(list2)\n",
    "print(list1)  # Output: [1, 2, 3, 4, 5, 6]"
   ]
  },
  {
   "cell_type": "code",
   "execution_count": 36,
   "id": "823fcf3e-60af-4de5-874e-6c45616ce6fb",
   "metadata": {},
   "outputs": [
    {
     "data": {
      "text/plain": [
       "[1, 2, 3, 4, 5, 6, 7, 8]"
      ]
     },
     "execution_count": 36,
     "metadata": {},
     "output_type": "execute_result"
    }
   ],
   "source": [
    "def flattened_list(nested):\n",
    "    li=[]\n",
    "    for x in nested:\n",
    "        li.extend(flattened_list(nested)) #The extend method is useful when you want to concatenate lists without creating a new list.\n",
    "    return li\n",
    "nested=[1, 2, 3, [4, 5, [6, 7]], 8]\n",
    "flatten_li(nested)   "
   ]
  },
  {
   "cell_type": "code",
   "execution_count": null,
   "id": "e9f4b2e5-11f4-4e99-b177-03f6c1647819",
   "metadata": {},
   "outputs": [],
   "source": [
    "1. Initialize an empty list to store the flattened elements.\n",
    "2. Create a s variable  and initialized with the input list.\n",
    "3. While the ' s' is not empty:\n",
    "4. Pop the first element from the s.\n",
    "5. If the element is a list, prepend its elements to the s variable\n",
    "6. If the element is not a list, append it to the flattened list.\n",
    "7. Return the flattened list."
   ]
  },
  {
   "cell_type": "code",
   "execution_count": 43,
   "id": "d01e02e3-ca89-471e-aa9c-d0b9bde815f6",
   "metadata": {},
   "outputs": [
    {
     "name": "stdout",
     "output_type": "stream",
     "text": [
      "[1, 2, 3, 4, 5, 6, 7, 8]\n"
     ]
    }
   ],
   "source": [
    "#Come up with an algorithm to flatten a list and implement it in python:\n",
    "#Example: [1, 2, 3, [4, 5, [6, 7]], 8]\n",
    "#Output: [1, 2, 3, 4, 5, 6, 7, 8]\n",
    "def flatten_list(nested):\n",
    "    flat_list = []\n",
    "    s = nested.copy()\n",
    "    \n",
    "    while s:\n",
    "        item = s.pop(0)\n",
    "        if isinstance(item, list):\n",
    "            s = item + s\n",
    "        else:\n",
    "            flat_list.append(item)\n",
    "    \n",
    "    return flat_list\n",
    "\n",
    "# input the nested lists\n",
    "nested = [1, 2, 3, [4, 5, [6, 7]], 8]\n",
    "#call the function -arguments passed\n",
    "flattened = flatten_list(nested)\n",
    "print(flattened)"
   ]
  },
  {
   "cell_type": "code",
   "execution_count": null,
   "id": "2e390b0b-ada3-4cf5-91b2-37e9ae5fb00d",
   "metadata": {},
   "outputs": [],
   "source": [
    "''' "
   ]
  }
 ],
 "metadata": {
  "kernelspec": {
   "display_name": "Python 3 (ipykernel)",
   "language": "python",
   "name": "python3"
  },
  "language_info": {
   "codemirror_mode": {
    "name": "ipython",
    "version": 3
   },
   "file_extension": ".py",
   "mimetype": "text/x-python",
   "name": "python",
   "nbconvert_exporter": "python",
   "pygments_lexer": "ipython3",
   "version": "3.12.4"
  }
 },
 "nbformat": 4,
 "nbformat_minor": 5
}
