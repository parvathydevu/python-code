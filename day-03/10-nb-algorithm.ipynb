{
 "cells": [
  {
   "cell_type": "markdown",
   "id": "40dd66d4-5c33-4511-a282-23dde1c4c7fe",
   "metadata": {},
   "source": [
    "''' Come up with an algorithm to flatten a list and implement it in python:\n",
    "   Example: [1, 2, 3, [4, 5, [6, 7]], 8]\n",
    "            Output: [1, 2, 3, 4, 5, 6, 7, 8]'''"
   ]
  },
  {
   "cell_type": "code",
   "execution_count": null,
   "id": "4e896d86-32f8-4c8b-90c3-f300f9b55dce",
   "metadata": {},
   "outputs": [],
   "source": [
    "'''What is the time required to find all the prime numbers between a given range\n",
    "   Example: a -> 3\n",
    "            b -> 10\n",
    "            Output: 3, 5, 7\n",
    "            Time: 0.0002 seconds'''"
   ]
  },
  {
   "cell_type": "code",
   "execution_count": 34,
   "id": "305d03ad-67d5-4790-971a-e7c08da8f017",
   "metadata": {},
   "outputs": [
    {
     "name": "stdout",
     "output_type": "stream",
     "text": [
      "False\n",
      "Time taken: 0:00:00\n"
     ]
    }
   ],
   "source": [
    "from datetime import datetime\n",
    "# Getting the current date and time\n",
    "t = datetime.now()\n",
    "def checkPrime(n):\n",
    "    prime =True\n",
    "    for i in range(2,n):\n",
    "        if( n%i == 0):\n",
    "            prime =False\n",
    "            break\n",
    "    return prime\n",
    "print(checkPrime(10000))\n",
    "t1= datetime.now()\n",
    "t2=t1-t\n",
    "print(\"Time taken:\", t2)"
   ]
  },
  {
   "cell_type": "code",
   "execution_count": 35,
   "id": "4e928d49-dca8-481f-98fb-f768b86e5ad9",
   "metadata": {},
   "outputs": [
    {
     "name": "stdout",
     "output_type": "stream",
     "text": [
      "False\n",
      "Time taken: 0:00:00\n"
     ]
    }
   ],
   "source": [
    "from datetime import datetime\n",
    "# Getting the current date and time\n",
    "\n",
    "def checkPrime(n):\n",
    "    prime =True\n",
    "    for i in range(2,n):\n",
    "        if( n%i == 0):\n",
    "            prime =False\n",
    "            break\n",
    "    return prime\n",
    "t = datetime.now()\n",
    "print(checkPrime(10000))\n",
    "t1= datetime.now()\n",
    "t2=t1-t\n",
    "print(\"Time taken:\", t2)"
   ]
  },
  {
   "cell_type": "code",
   "execution_count": null,
   "id": "cf56a04d-0ec8-458d-ba0d-11464f3336ed",
   "metadata": {},
   "outputs": [],
   "source": []
  }
 ],
 "metadata": {
  "kernelspec": {
   "display_name": "Python 3 (ipykernel)",
   "language": "python",
   "name": "python3"
  },
  "language_info": {
   "codemirror_mode": {
    "name": "ipython",
    "version": 3
   },
   "file_extension": ".py",
   "mimetype": "text/x-python",
   "name": "python",
   "nbconvert_exporter": "python",
   "pygments_lexer": "ipython3",
   "version": "3.12.4"
  }
 },
 "nbformat": 4,
 "nbformat_minor": 5
}
