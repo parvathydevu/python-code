{
 "cells": [
  {
   "cell_type": "code",
   "execution_count": null,
   "id": "505ce648-7a53-4ded-bf3d-971b7b825b17",
   "metadata": {},
   "outputs": [],
   "source": [
    "''' You are designing a system to rank products based on their ratings (on a scale of 0 to 5). \n",
    "Two products are considered equal if their ratings are equal. A product with a lower rating \n",
    "is considered less than one with a higher rating.\n",
    "\n",
    "Requirements:\n",
    "\n",
    "Implement a class Product with the following:\n",
    "\n",
    "    Attributes: name (str), rating (float)\n",
    "    Define appropriate comparison methods to allow sorting and comparison based on rating.\n",
    "    such as __le__, __gt__\n",
    "    Use @total_ordering to minimize method definitions.\n",
    "\n",
    "You are to:\n",
    "\n",
    "        Implement the class with proper ordering using @total_ordering.\n",
    "        Create a list of products and sort them.\n",
    "        Demonstrate comparisons (==, <, >=, etc.) between different products.'''"
   ]
  },
  {
   "cell_type": "code",
   "execution_count": 24,
   "id": "1e2f7051-a01e-4bbe-81de-2ef1757dfc68",
   "metadata": {},
   "outputs": [],
   "source": [
    "from functools import total_ordering\n",
    "\n",
    "@total_ordering\n",
    "class Product:\n",
    "    def __init__(self, name, rating):\n",
    "        self.name=name\n",
    "        self.rating=rating\n",
    "    def __eq__(self, other):\n",
    "        if not isinstance(other, Product):\n",
    "            return NotImplemented\n",
    "        return self.rating == other.rating\n",
    "    def __le__(self, other):\n",
    "        if not isinstance(other, Product):\n",
    "            return NotImplemented\n",
    "        return self.rating <= other.rating\n",
    "    def __repr__(self):\n",
    "        return f\"{self.name}({self.rating})\""
   ]
  },
  {
   "cell_type": "code",
   "execution_count": 27,
   "id": "bdd6490c-e51f-418b-bbc4-439e7b15add1",
   "metadata": {},
   "outputs": [
    {
     "name": "stdout",
     "output_type": "stream",
     "text": [
      "Sorted Products: [Tablet(3), Laptop(4), Phone(4), Monitor(9)]\n",
      "p1 == p3: True\n",
      "p1 <= p2: False\n",
      "p2 >= p4: False\n"
     ]
    }
   ],
   "source": [
    "if __name__ == \"__main__\":\n",
    "    p1 = Product(\"Laptop\", 4)\n",
    "    p2 = Product(\"Tablet\", 3)\n",
    "    p3 = Product(\"Phone\", 4)\n",
    "    p4 = Product(\"Monitor\", 9)\n",
    "\n",
    "    print(\"Sorted Products:\", sorted([p1, p2, p3, p4]))\n",
    "    print(\"p1 == p3:\", p1 == p3)\n",
    "    print(\"p1 <= p2:\", p1 <= p2)\n",
    "    print(\"p2 >= p4:\", p2 >= p4)"
   ]
  },
  {
   "cell_type": "code",
   "execution_count": 28,
   "id": "861b08c4-7953-4a58-92d2-e0dc27133679",
   "metadata": {},
   "outputs": [],
   "source": [
    "from functools import total_ordering\n",
    "\n",
    "@total_ordering\n",
    "class Product:\n",
    "    def __init__(self, name, rating):\n",
    "        self.name = name\n",
    "        self.rating = rating\n",
    "\n",
    "    def __eq__(self, other):  #Equality check\n",
    "        if not isinstance(other, Product):\n",
    "            return NotImplemented\n",
    "        return self.rating == other.rating\n",
    "\n",
    "    def __le__(self, other): #less than or equal to \n",
    "        if not isinstance(other, Product):\n",
    "            return NotImplemented\n",
    "        return self.rating <= other.rating\n",
    "\n",
    "    def __repr__(self):\n",
    "        return f\"{self.name}({self.rating})\""
   ]
  },
  {
   "cell_type": "code",
   "execution_count": 29,
   "id": "53f9363d-c539-4965-b825-fc4d0a66124d",
   "metadata": {},
   "outputs": [
    {
     "name": "stdout",
     "output_type": "stream",
     "text": [
      "Sorted Products: [Monitor(4.2), Laptop(4.5), Phone(4.5), Tablet(4.7)]\n",
      "p1 == p3: True\n",
      "p1 <= p2: True\n",
      "p2 >= p4: True\n"
     ]
    }
   ],
   "source": [
    "# === SAMPLE TEST CASE ===\n",
    "if __name__ == \"__main__\":\n",
    "    p1 = Product(\"Laptop\", 4.5)\n",
    "    p2 = Product(\"Tablet\", 4.7)\n",
    "    p3 = Product(\"Phone\", 4.5)\n",
    "    p4 = Product(\"Monitor\", 4.2)\n",
    "\n",
    "    print(\"Sorted Products:\", sorted([p1, p2, p3, p4]))\n",
    "    print(\"p1 == p3:\", p1 == p3)\n",
    "    print(\"p1 <= p2:\", p1 <= p2)\n",
    "    print(\"p2 >= p4:\", p2 >= p4)"
   ]
  },
  {
   "cell_type": "code",
   "execution_count": null,
   "id": "68ad91c5-43a9-4707-a8f8-beb293960057",
   "metadata": {},
   "outputs": [],
   "source": [
    "#self: Refers to the current instance of the class.\n",
    "#other: Refers to the instance of the class that you are comparing self to."
   ]
  }
 ],
 "metadata": {
  "kernelspec": {
   "display_name": "Python 3 (ipykernel)",
   "language": "python",
   "name": "python3"
  },
  "language_info": {
   "codemirror_mode": {
    "name": "ipython",
    "version": 3
   },
   "file_extension": ".py",
   "mimetype": "text/x-python",
   "name": "python",
   "nbconvert_exporter": "python",
   "pygments_lexer": "ipython3",
   "version": "3.12.4"
  }
 },
 "nbformat": 4,
 "nbformat_minor": 5
}
