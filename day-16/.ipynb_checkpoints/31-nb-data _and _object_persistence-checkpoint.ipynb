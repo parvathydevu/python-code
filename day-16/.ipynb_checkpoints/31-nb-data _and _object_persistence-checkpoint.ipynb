{
 "cells": [
  {
   "cell_type": "markdown",
   "id": "41183a17-5760-4045-8983-7f204fb2746a",
   "metadata": {},
   "source": [
    "# The Sqlite3 Module- Built in module"
   ]
  },
  {
   "cell_type": "code",
   "execution_count": null,
   "id": "35453666-eefc-4ad4-856d-4a2fc7b83105",
   "metadata": {},
   "outputs": [],
   "source": [
    "simulate a student data base with:\n",
    "-Table creation\n",
    "-Insert\n",
    "-Select\n",
    "-Update\n",
    "-Delete\n",
    "Parameterized "
   ]
  },
  {
   "cell_type": "code",
   "execution_count": null,
   "id": "3edd5f17-a1c6-4b46-b25b-0feac0be5d80",
   "metadata": {},
   "outputs": [],
   "source": [
    "# The sqlite3 Module\n",
    "We'll perform the following operations for employee data:\n",
    "\n",
    "Create database and table\n",
    "Insert multiple employee records\n",
    "Fetch all employees\n",
    "Fetch by condition (e.g., salary > X)\n",
    "Update employee data\n",
    "Delete an employee\n",
    "Count records\n",
    "Use parameterized queries for security\n",
    "Commit and close"
   ]
  },
  {
   "cell_type": "code",
   "execution_count": null,
   "id": "59bb1748-6c8f-4594-84e2-23410e041827",
   "metadata": {},
   "outputs": [],
   "source": [
    "Structured Query Language is a standard Database language that is used to create, maintain,\n",
    "and retrieve the relational database. "
   ]
  },
  {
   "cell_type": "code",
   "execution_count": 1,
   "id": "34c0e8a8-3a81-48e5-b8b9-b316ba5d097b",
   "metadata": {},
   "outputs": [],
   "source": [
    "import sqlite3"
   ]
  },
  {
   "cell_type": "code",
   "execution_count": 2,
   "id": "7b9c9cbd-8cc6-432c-9864-6d1a27a34275",
   "metadata": {},
   "outputs": [],
   "source": [
    "#connect to the database--all the database into a file\n",
    "#use--Connection object-->connect /conn\n",
    "conn=sqlite3.connect('employee.db')  #this file create table format\n",
    "#cursor is pointer execute ur commands\n",
    "cursor=conn.cursor()"
   ]
  },
  {
   "cell_type": "code",
   "execution_count": 5,
   "id": "61f443ec-43e8-43a5-afaf-756fd8552dda",
   "metadata": {},
   "outputs": [
    {
     "data": {
      "text/plain": [
       "<sqlite3.Cursor at 0x235a0fa5ac0>"
      ]
     },
     "execution_count": 5,
     "metadata": {},
     "output_type": "execute_result"
    }
   ],
   "source": [
    "#create an emplyee table\n",
    "cursor.execute('''\n",
    "    CREATE TABLE IF NOT EXISTS employees(\n",
    "        id INTEGER PRIMARY KEY AUTOINCREMENT,\n",
    "        name TEXT NOT NULL,\n",
    "        department TEXT NOT NULL,\n",
    "        salary  REAL NOT NULL,\n",
    "        join_date TEXT)\n",
    "\n",
    "''')"
   ]
  },
  {
   "cell_type": "code",
   "execution_count": 15,
   "id": "0d771238-fafc-4b40-a250-1797b20dcdf8",
   "metadata": {},
   "outputs": [
    {
     "data": {
      "text/plain": [
       "<sqlite3.Cursor at 0x235a0fa5ac0>"
      ]
     },
     "execution_count": 15,
     "metadata": {},
     "output_type": "execute_result"
    }
   ],
   "source": [
    "#UPDATE THE ATTRIBUTES\n",
    "cursor.execute('''\n",
    "    INSERT INTO employees (name, department, salary, join_date)  VALUES (\"alice\",\"HR\",6000,\"2023-01-17\")\n",
    "''')"
   ]
  },
  {
   "cell_type": "code",
   "execution_count": 9,
   "id": "87717957-acf4-47bc-bd7f-a8268f1ee540",
   "metadata": {},
   "outputs": [
    {
     "data": {
      "text/plain": [
       "[(1, 'alice', 'HR', 6000.0, '2023-01-17')]"
      ]
     },
     "execution_count": 9,
     "metadata": {},
     "output_type": "execute_result"
    }
   ],
   "source": [
    "# selecting the data from table, *- all attributes in employees\n",
    "cursor.execute(''' \n",
    "    SELECT * FROM employees\n",
    "''')\n",
    "cursor.fetchall()"
   ]
  },
  {
   "cell_type": "code",
   "execution_count": 16,
   "id": "38b6d329-494d-4360-a8d4-7395550d7294",
   "metadata": {},
   "outputs": [
    {
     "data": {
      "text/plain": [
       "<sqlite3.Cursor at 0x235a0fa5ac0>"
      ]
     },
     "execution_count": 16,
     "metadata": {},
     "output_type": "execute_result"
    }
   ],
   "source": [
    "# Inserting more data rows\n",
    "employee_data = [\n",
    "    (\"Bob\", \"Engineering\", 85000, \"2022-09-10\"),\n",
    "    (\"Charlie\", \"Marketing\", 55000, \"2024-03-01\"),\n",
    "    (\"David\", \"Engineering\", 90000, \"2021-11-20\"),\n",
    "]\n",
    "\n",
    "# executing multiple inserts\n",
    "cursor.executemany('''\n",
    "    INSERT INTO employees (name, department, salary, join_date) VALUES (?, ?, ?, ?)\n",
    "''', employee_data)"
   ]
  },
  {
   "cell_type": "code",
   "execution_count": 17,
   "id": "ac9f342a-fc41-4c48-98ca-c0bbcff8e392",
   "metadata": {},
   "outputs": [
    {
     "data": {
      "text/plain": [
       "[(1, 'alice', 'HR', 6000.0, '2023-01-17'),\n",
       " (2, 'Bob', 'Marketing', 6777.0, '2022-02-23'),\n",
       " (3, 'alice', 'HR', 6000.0, '2023-01-17'),\n",
       " (4, 'Bob', 'Engineering', 85000.0, '2022-09-10'),\n",
       " (5, 'Charlie', 'Marketing', 55000.0, '2024-03-01'),\n",
       " (6, 'David', 'Engineering', 90000.0, '2021-11-20')]"
      ]
     },
     "execution_count": 17,
     "metadata": {},
     "output_type": "execute_result"
    }
   ],
   "source": [
    "# Selecting the data from the table\n",
    "cursor.execute('''\n",
    "    SELECT * FROM employees\n",
    "''')\n",
    "cursor.fetchall()"
   ]
  },
  {
   "cell_type": "code",
   "execution_count": 18,
   "id": "c0667e3d-6b1b-420b-833d-f3c10eed9e04",
   "metadata": {},
   "outputs": [
    {
     "data": {
      "text/plain": [
       "<sqlite3.Cursor at 0x235a0fa5ac0>"
      ]
     },
     "execution_count": 18,
     "metadata": {},
     "output_type": "execute_result"
    }
   ],
   "source": [
    "# Update salary of an employee\n",
    "cursor.execute(\"UPDATE employees SET salary = ? WHERE name = ?\", (95000, \"David\"))"
   ]
  },
  {
   "cell_type": "code",
   "execution_count": 19,
   "id": "93c44b6e-f931-435a-a1c1-e3f25ea23ac3",
   "metadata": {},
   "outputs": [
    {
     "data": {
      "text/plain": [
       "[(1, 'alice', 'HR', 6000.0, '2023-01-17'),\n",
       " (2, 'Bob', 'Marketing', 6777.0, '2022-02-23'),\n",
       " (3, 'alice', 'HR', 6000.0, '2023-01-17'),\n",
       " (4, 'Bob', 'Engineering', 85000.0, '2022-09-10'),\n",
       " (5, 'Charlie', 'Marketing', 55000.0, '2024-03-01'),\n",
       " (6, 'David', 'Engineering', 95000.0, '2021-11-20')]"
      ]
     },
     "execution_count": 19,
     "metadata": {},
     "output_type": "execute_result"
    }
   ],
   "source": [
    "# Selecting the data from the table\n",
    "cursor.execute('''\n",
    "    SELECT * FROM employees\n",
    "''')\n",
    "cursor.fetchall()"
   ]
  },
  {
   "cell_type": "code",
   "execution_count": 21,
   "id": "a55d9be6-29e5-400a-8479-8793a9c10d4a",
   "metadata": {},
   "outputs": [
    {
     "data": {
      "text/plain": [
       "<sqlite3.Cursor at 0x235a0fa5ac0>"
      ]
     },
     "execution_count": 21,
     "metadata": {},
     "output_type": "execute_result"
    }
   ],
   "source": [
    "# Delete an employee by name\n",
    "cursor.execute(\"DELETE FROM employees WHERE name = ?\", (\"Charlie\",))"
   ]
  },
  {
   "cell_type": "code",
   "execution_count": 22,
   "id": "e78dc3c7-5143-4e94-8e82-feea576a8817",
   "metadata": {},
   "outputs": [
    {
     "data": {
      "text/plain": [
       "[(1, 'alice', 'HR', 6000.0, '2023-01-17'),\n",
       " (2, 'Bob', 'Marketing', 6777.0, '2022-02-23'),\n",
       " (3, 'alice', 'HR', 6000.0, '2023-01-17'),\n",
       " (4, 'Bob', 'Engineering', 85000.0, '2022-09-10'),\n",
       " (6, 'David', 'Engineering', 95000.0, '2021-11-20')]"
      ]
     },
     "execution_count": 22,
     "metadata": {},
     "output_type": "execute_result"
    }
   ],
   "source": [
    "# Selecting the data from the table\n",
    "cursor.execute('''\n",
    "    SELECT * FROM employees\n",
    "''')\n",
    "cursor.fetchall()"
   ]
  },
  {
   "cell_type": "code",
   "execution_count": 23,
   "id": "74ed3997-fc08-4b73-9f4e-cb0afe7b659b",
   "metadata": {},
   "outputs": [
    {
     "data": {
      "text/plain": [
       "5"
      ]
     },
     "execution_count": 23,
     "metadata": {},
     "output_type": "execute_result"
    }
   ],
   "source": [
    "# Count the number of employees\n",
    "cursor.execute(\"SELECT COUNT(*) FROM employees\")\n",
    "cursor.fetchone()[0]"
   ]
  },
  {
   "cell_type": "code",
   "execution_count": 24,
   "id": "f3b6460d-ddcd-452f-a13f-467a27c037f6",
   "metadata": {},
   "outputs": [
    {
     "name": "stdout",
     "output_type": "stream",
     "text": [
      "Total number of employees: 5\n",
      "\n"
     ]
    }
   ],
   "source": [
    "# Count the number of employees\n",
    "cursor.execute(\"SELECT COUNT(*) FROM employees\")\n",
    "count = cursor.fetchone()[0] \n",
    "print(f\"Total number of employees: {count}\\n\")"
   ]
  },
  {
   "cell_type": "code",
   "execution_count": 25,
   "id": "12ea1aa7-ee39-4eb3-b9db-037aac5cb5d0",
   "metadata": {},
   "outputs": [],
   "source": [
    "# Close the connection\n",
    "conn.commit()"
   ]
  },
  {
   "cell_type": "code",
   "execution_count": 26,
   "id": "db27fdfe-6bca-44d9-bd95-4e8d0ac28789",
   "metadata": {},
   "outputs": [],
   "source": [
    "conn.close()"
   ]
  },
  {
   "cell_type": "code",
   "execution_count": null,
   "id": "07803671-de64-498b-ab95-8eede8d5f355",
   "metadata": {},
   "outputs": [],
   "source": [
    "# reopen the data base"
   ]
  },
  {
   "cell_type": "code",
   "execution_count": 27,
   "id": "9398ea6e-30f1-4cf0-b09b-c28b3882f1a4",
   "metadata": {},
   "outputs": [],
   "source": [
    "# Connect to the database\n",
    "conn = sqlite3.connect('employee.db')\n",
    "cursor = conn.cursor()"
   ]
  },
  {
   "cell_type": "code",
   "execution_count": 28,
   "id": "569eaf4b-c497-4d10-ac59-067c2bc14c9c",
   "metadata": {},
   "outputs": [
    {
     "data": {
      "text/plain": [
       "[(1, 'alice', 'HR', 6000.0, '2023-01-17'),\n",
       " (2, 'Bob', 'Marketing', 6777.0, '2022-02-23'),\n",
       " (3, 'alice', 'HR', 6000.0, '2023-01-17'),\n",
       " (4, 'Bob', 'Engineering', 85000.0, '2022-09-10'),\n",
       " (6, 'David', 'Engineering', 95000.0, '2021-11-20')]"
      ]
     },
     "execution_count": 28,
     "metadata": {},
     "output_type": "execute_result"
    }
   ],
   "source": [
    "# Selecting the data from the table\n",
    "cursor.execute('''\n",
    "    SELECT * FROM employees\n",
    "''')\n",
    "cursor.fetchall()"
   ]
  },
  {
   "cell_type": "markdown",
   "id": "692786aa-bfb2-4422-8dad-3dfeb00b635e",
   "metadata": {},
   "source": [
    "# insert more data rows"
   ]
  },
  {
   "cell_type": "code",
   "execution_count": 12,
   "id": "2a499b5b-960f-48ee-b7b3-4b5c1d8bd926",
   "metadata": {},
   "outputs": [
    {
     "data": {
      "text/plain": [
       "<sqlite3.Cursor at 0x235a0fa5ac0>"
      ]
     },
     "execution_count": 12,
     "metadata": {},
     "output_type": "execute_result"
    }
   ],
   "source": [
    "#Inserting more data rows\n",
    "emp_data=[(\"Bob\",\"Marketing\",6777,\"2022-02-23\")]\n",
    "\n",
    "cursor.executemany('''\n",
    "    INSERT INTO employees (name, department, salary, join_date) VALUES (?,?,?,?)\n",
    "\n",
    "''',emp_data)"
   ]
  },
  {
   "cell_type": "code",
   "execution_count": 14,
   "id": "aa26c6f5-1786-4a0e-9f35-4262b44b3533",
   "metadata": {},
   "outputs": [
    {
     "data": {
      "text/plain": [
       "[(1, 'alice', 'HR', 6000.0, '2023-01-17'),\n",
       " (2, 'Bob', 'Marketing', 6777.0, '2022-02-23')]"
      ]
     },
     "execution_count": 14,
     "metadata": {},
     "output_type": "execute_result"
    }
   ],
   "source": [
    "cursor.execute(''' \n",
    "    SELECT * FROM employees\n",
    "''')\n",
    "cursor.fetchall()"
   ]
  },
  {
   "cell_type": "code",
   "execution_count": null,
   "id": "f52b9d96-61ef-4b05-8182-b67a6aa0dd6f",
   "metadata": {},
   "outputs": [],
   "source": [
    "#?--> EQUALENT TO WE NEED TO INPUT THE VALUES TO CODE"
   ]
  },
  {
   "cell_type": "markdown",
   "id": "36cd84e0-fb26-48d6-a4bb-4f43cf085f7b",
   "metadata": {},
   "source": [
    "# The pickle module"
   ]
  },
  {
   "cell_type": "code",
   "execution_count": null,
   "id": "11ac6e46-2ba7-4d8d-aca5-6a27fcb6fd1d",
   "metadata": {},
   "outputs": [],
   "source": [
    "Implements binary protocol for serializing and de-serializing (serialize-a kind of convert it into binary format) a python object structure \"pickling\""
   ]
  },
  {
   "cell_type": "markdown",
   "id": "05c6f1cf-de1c-42a7-a010-5e5c90387c81",
   "metadata": {},
   "source": [
    "#convert obj to binary format(byte)"
   ]
  },
  {
   "cell_type": "code",
   "execution_count": null,
   "id": "aa1c9e6c-2da0-4b8e-8eaf-8a04f670c16b",
   "metadata": {},
   "outputs": [],
   "source": [
    "Reference: https://docs.python.org/3/library/pickle.html#module-pickle"
   ]
  },
  {
   "cell_type": "code",
   "execution_count": null,
   "id": "e314ef6c-c26f-4878-a8a0-715e09199b9c",
   "metadata": {},
   "outputs": [],
   "source": [
    "Reference: https://docs.python.org/3/library/pickle.html#module-pickle\n",
    "\n",
    "You are building a Python application that needs to save user session data to disk and retrieve it later using the pickle module.\n",
    "\n",
    "Requirements:\n",
    "\n",
    "Define a UserSession class with the following attributes:\n",
    "\n",
    "username (string)\n",
    "last_login_time (datetime)\n",
    "preferences (dictionary of user settings, like theme, language, etc.)\n",
    "Create at least two instances of the UserSession class with dummy data.\n",
    "Serialize (save) the list of session objects to a file called sessions.pkl.\n",
    "Later, deserialize (load) the list of sessions from the file.\n",
    "Print out each user’s data in a readable format.\n",
    "Deliverables:\n",
    "\n",
    "Python code demonstrating creation, pickling, and unpickling.\n",
    "Output showing the loaded data from the pickle file.\n",
    "Use of proper error handling (e.g., FileNotFoundError or EOFError).\n",
    "Challenge:\n",
    "\n",
    "Add a feature that updates a user’s preferences and re-pickles the modified session list."
   ]
  },
  {
   "cell_type": "code",
   "execution_count": 29,
   "id": "e0c6d452-0c8e-4a95-bb30-27f0f77fba66",
   "metadata": {},
   "outputs": [],
   "source": [
    "import pickle\n",
    "from datetime import datetime "
   ]
  },
  {
   "cell_type": "code",
   "execution_count": 30,
   "id": "83bb8f95-1a76-46f8-8c78-9d039cc580c1",
   "metadata": {},
   "outputs": [],
   "source": [
    "# Define the user session class\n",
    "class UserSession:\n",
    "\n",
    "    def __init__(self, username, last_login_time, preferences):\n",
    "        self.username = username\n",
    "        self.last_login_time = last_login_time\n",
    "        self.preferences = preferences\n",
    "\n",
    "    def __repr__(self):\n",
    "        return( f\"UserSession(username='{self.username}', last_login_time={self.last_login_time}, self.preferences={self.preferences})\")"
   ]
  },
  {
   "cell_type": "code",
   "execution_count": 31,
   "id": "a36899c0-a57e-4c77-8bdf-f3a8fefc0c64",
   "metadata": {},
   "outputs": [],
   "source": [
    "s1 = UserSession('Anil', datetime.now(), {'theme': \"dark\", \"language\":\"English\"})\n",
    "s2 = UserSession('Sunil', datetime.now(), {'theme': \"light\", \"language\":\"French\"})"
   ]
  },
  {
   "cell_type": "code",
   "execution_count": 32,
   "id": "065c4e9a-31df-497b-a526-3db80b6e7ba5",
   "metadata": {},
   "outputs": [
    {
     "data": {
      "text/plain": [
       "UserSession(username='Anil', last_login_time=2025-04-09 14:31:47.792337, self.preferences={'theme': 'dark', 'language': 'English'})"
      ]
     },
     "execution_count": 32,
     "metadata": {},
     "output_type": "execute_result"
    }
   ],
   "source": [
    "s1"
   ]
  },
  {
   "cell_type": "code",
   "execution_count": 33,
   "id": "daa5b680-5959-4917-a57c-5075b88885c2",
   "metadata": {},
   "outputs": [
    {
     "data": {
      "text/plain": [
       "UserSession(username='Sunil', last_login_time=2025-04-09 14:31:47.792337, self.preferences={'theme': 'light', 'language': 'French'})"
      ]
     },
     "execution_count": 33,
     "metadata": {},
     "output_type": "execute_result"
    }
   ],
   "source": [
    "s2"
   ]
  },
  {
   "cell_type": "code",
   "execution_count": 36,
   "id": "cc30f179-0d0d-42e6-81cd-10bd6e6041e7",
   "metadata": {},
   "outputs": [],
   "source": [
    "sessions= [s1,s2]"
   ]
  },
  {
   "cell_type": "code",
   "execution_count": 37,
   "id": "90cee530-a590-415e-bc59-0895d2753110",
   "metadata": {},
   "outputs": [],
   "source": [
    "# Serialize the session list\n",
    "with open(\"sessions.pkl\", \"wb\") as f:\n",
    "    pickle.dump(sessions, f)"
   ]
  },
  {
   "cell_type": "markdown",
   "id": "8f2c7baa-b54d-4160-829c-4c11b3100076",
   "metadata": {},
   "source": [
    "# How to re-store the objects from a pickle file"
   ]
  },
  {
   "cell_type": "code",
   "execution_count": 38,
   "id": "82c5ce65-49bf-468b-8989-85897be23bf5",
   "metadata": {},
   "outputs": [
    {
     "name": "stdout",
     "output_type": "stream",
     "text": [
      "UserSession(username='Anil', last_login_time=2025-04-09 14:31:47.792337, self.preferences={'theme': 'dark', 'language': 'English'})\n",
      "UserSession(username='Sunil', last_login_time=2025-04-09 14:31:47.792337, self.preferences={'theme': 'light', 'language': 'French'})\n"
     ]
    }
   ],
   "source": [
    "try:\n",
    "    with open(\"sessions.pkl\", \"rb\") as f:\n",
    "        loaded_sessions = pickle.load(f)\n",
    "    for session in loaded_sessions:\n",
    "        print(session)\n",
    "except Exception as e:\n",
    "    print(f\"Exception {e}\")"
   ]
  },
  {
   "cell_type": "code",
   "execution_count": 39,
   "id": "9edb6ab7-efdf-4747-a6c2-d84fd9ff9326",
   "metadata": {},
   "outputs": [],
   "source": [
    "# Just to make sure they are objects that are retrieved\n",
    "loaded_sessions[0].preferences[\"theme\"] = \"light\"\n",
    "loaded_sessions[0].preferences[\"language\"] = \"Spanish\""
   ]
  },
  {
   "cell_type": "code",
   "execution_count": 40,
   "id": "fa826d7c-21f3-4148-9ea9-cdc4ae018d1b",
   "metadata": {},
   "outputs": [
    {
     "name": "stdout",
     "output_type": "stream",
     "text": [
      "UserSession(username='Anil', last_login_time=2025-04-09 14:31:47.792337, self.preferences={'theme': 'light', 'language': 'Spanish'})\n",
      "UserSession(username='Sunil', last_login_time=2025-04-09 14:31:47.792337, self.preferences={'theme': 'light', 'language': 'French'})\n"
     ]
    }
   ],
   "source": [
    "for session in loaded_sessions:\n",
    "    print(session)"
   ]
  },
  {
   "cell_type": "code",
   "execution_count": 41,
   "id": "8c63e114-91c9-4543-aa0a-3f18aff047b0",
   "metadata": {},
   "outputs": [],
   "source": [
    "# Re-Serialize the session list\n",
    "with open(\"sessions.pkl\", \"wb\") as f:\n",
    "    pickle.dump(sessions, f)"
   ]
  },
  {
   "cell_type": "markdown",
   "id": "f3ddbba4-dbae-4f50-87fe-3774e577bfc6",
   "metadata": {},
   "source": [
    "The sessions.pkl will have the updated session information"
   ]
  },
  {
   "cell_type": "markdown",
   "id": "397d973b-7e24-4ac4-827c-ca8f893d0aff",
   "metadata": {},
   "source": [
    "# Shelve -python object persistence"
   ]
  },
  {
   "cell_type": "markdown",
   "id": "a02ee57d-906b-4aa6-a0b6-60072633a751",
   "metadata": {},
   "source": [
    "Shelve module- way to persistently store Python objects. It offers a dictionary-like interface, allowing you to store and retrieve objects using keys. The objects are serialized using the pickle module and stored in a file."
   ]
  },
  {
   "cell_type": "code",
   "execution_count": null,
   "id": "d6d04957-dad3-4582-bff0-15d8636fe0f4",
   "metadata": {},
   "outputs": [],
   "source": [
    "shelve- entire it is  a dictionary, but backgorund it saved as a  file."
   ]
  },
  {
   "cell_type": "code",
   "execution_count": null,
   "id": "511cf66d-1631-41cf-8a70-ab4f2a5d3bad",
   "metadata": {},
   "outputs": [],
   "source": [
    "Do not rely on the shelf being closed automatically; always call close() explicitly when you don’t need it any more, \n",
    "or use shelve.open() as a context manager:\n",
    "with shelve.open('spam') as db:\n",
    "    db['eggs'] = 'eggs'"
   ]
  },
  {
   "cell_type": "code",
   "execution_count": null,
   "id": "c48b6bcc-fae1-4387-8c8c-8dc023f713a3",
   "metadata": {},
   "outputs": [],
   "source": [
    "import shelve"
   ]
  },
  {
   "cell_type": "code",
   "execution_count": 44,
   "id": "d4ec6b3e-1978-4f51-b055-2cc277283252",
   "metadata": {},
   "outputs": [
    {
     "name": "stdout",
     "output_type": "stream",
     "text": [
      "Student 1: {'name': 'Alice', 'age': 30, 'marks': {'Math': 85, 'Science': 90}}\n",
      "Student 2: {'name': 'Bob', 'age': 25, 'marks': {'Math': 78, 'Science': 88}}\n",
      "\n",
      "Updated Student 1: {'name': 'Alice', 'age': 30, 'marks': {'Math': 95, 'Science': 90}}\n",
      "Updated Student 2: {'name': 'Bob', 'age': 25, 'marks': {'Math': 78, 'Science': 92}}\n"
     ]
    }
   ],
   "source": [
    "import shelve\n",
    "\n",
    "# Open a shelve file\n",
    "with shelve.open('my_shelve.db') as db:\n",
    "    # Store data\n",
    "    db['student1'] = {'name': 'Alice', 'age': 30, 'marks': {'Math': 85, 'Science': 90}}\n",
    "    db['student2'] = {'name': 'Bob', 'age': 25, 'marks': {'Math': 78, 'Science': 88}}\n",
    "\n",
    "# Retrieve and display data\n",
    "with shelve.open('my_shelve.db') as db:\n",
    "    student1 = db['student1']\n",
    "    student2 = db['student2']\n",
    "    print(\"Student 1:\", student1)\n",
    "    print(\"Student 2:\", student2)\n",
    "\n",
    "# Update data\n",
    "with shelve.open('my_shelve.db', writeback=True) as db:\n",
    "    db['student1']['marks']['Math'] = 95  # Update Alice's Math marks\n",
    "    db['student2']['marks']['Science'] = 92  # Update Bob's Science marks\n",
    "\n",
    "# Retrieve and display updated data\n",
    "with shelve.open('my_shelve.db') as db:\n",
    "    student1 = db['student1']\n",
    "    student2 = db['student2']\n",
    "    print(\"\\nUpdated Student 1:\", student1)\n",
    "    print(\"Updated Student 2:\", student2)"
   ]
  },
  {
   "cell_type": "markdown",
   "id": "ea6bc1f7-e2a0-44ac-8312-d0968184104e",
   "metadata": {},
   "source": [
    " # The shelve Module"
   ]
  },
  {
   "cell_type": "code",
   "execution_count": null,
   "id": "6a690e6a-3c85-49dd-90c1-f3cfa60ac5b7",
   "metadata": {},
   "outputs": [],
   "source": [
    "The shelve module in Python is a powerful tool for persistent storage of Python objects. \n",
    "It allows you to store Python objects in a file using a dictionary-like API."
   ]
  },
  {
   "cell_type": "code",
   "execution_count": null,
   "id": "65788ce6-b5dc-4d6f-b7cf-b465863eba2f",
   "metadata": {},
   "outputs": [],
   "source": [
    "Reference: https://docs.python.org/3/library/shelve.html#module-shelve"
   ]
  },
  {
   "cell_type": "code",
   "execution_count": 4,
   "id": "f4917a5e-8ec1-4182-9503-5d628ccb5cba",
   "metadata": {},
   "outputs": [
    {
     "ename": "NameError",
     "evalue": "name 'data' is not defined",
     "output_type": "error",
     "traceback": [
      "\u001b[1;31m---------------------------------------------------------------------------\u001b[0m",
      "\u001b[1;31mNameError\u001b[0m                                 Traceback (most recent call last)",
      "Cell \u001b[1;32mIn[4], line 4\u001b[0m\n\u001b[0;32m      2\u001b[0m d \u001b[38;5;241m=\u001b[39m shelve\u001b[38;5;241m.\u001b[39mopen(\u001b[38;5;124m\"\u001b[39m\u001b[38;5;124mdata.shelve\u001b[39m\u001b[38;5;124m\"\u001b[39m)  \u001b[38;5;66;03m# open -- file may get suffix added by low-level\u001b[39;00m\n\u001b[0;32m      3\u001b[0m                            \u001b[38;5;66;03m# library\u001b[39;00m\n\u001b[1;32m----> 4\u001b[0m d[key] \u001b[38;5;241m=\u001b[39m data              \u001b[38;5;66;03m# store data at key (overwrites old data if\u001b[39;00m\n\u001b[0;32m      5\u001b[0m                            \u001b[38;5;66;03m# using an existing key)\u001b[39;00m\n\u001b[0;32m      6\u001b[0m data \u001b[38;5;241m=\u001b[39m d[key]              \u001b[38;5;66;03m# retrieve a COPY of data at key (raise KeyError\u001b[39;00m\n",
      "\u001b[1;31mNameError\u001b[0m: name 'data' is not defined"
     ]
    }
   ],
   "source": [
    "import shelve\n",
    "d = shelve.open(\"data.shelve\")  # open -- file may get suffix added by low-level\n",
    "                           # library\n",
    "d[key] = data              # store data at key (overwrites old data if\n",
    "                           # using an existing key)\n",
    "data = d[key]              # retrieve a COPY of data at key (raise KeyError\n",
    "                           # if no such key)\n",
    "del d[key]                 # delete data stored at key (raises KeyError\n",
    "                           # if no such key)"
   ]
  },
  {
   "cell_type": "code",
   "execution_count": null,
   "id": "fec1b4d2-8f03-4768-a214-d98990d0f380",
   "metadata": {},
   "outputs": [],
   "source": [
    "flag = key in d            # true if the key exists\n",
    "klist = list(d.keys())     # a list of all existing keys (slow!)\n",
    "\n",
    "# as d was opened WITHOUT writeback=True, beware:\n",
    "d['xx'] = [0, 1, 2]        # this works as expected, but...\n",
    "d['xx'].append(3)          # *this doesn't!* -- d['xx'] is STILL [0, 1, 2]!\n",
    "\n",
    "# having opened d without writeback=True, you need to code carefully:\n",
    "temp = d['xx']             # extracts the copy\n",
    "temp.append(5)             # mutates the copy\n",
    "d['xx'] = temp             # stores the copy right back, to persist it\n",
    "\n",
    "# or, d=shelve.open(filename,writeback=True) would let you just code\n",
    "# d['xx'].append(5) and have it work as expected, BUT it would also\n",
    "# consume more memory and make the d.close() operation slower.\n",
    "\n",
    "d.close()                  # close it"
   ]
  },
  {
   "cell_type": "code",
   "execution_count": null,
   "id": "535e33f9-3b80-48ba-81a0-8d0f9dfa4c84",
   "metadata": {},
   "outputs": [],
   "source": [
    "s1, s2"
   ]
  },
  {
   "cell_type": "code",
   "execution_count": null,
   "id": "eb7da891-a548-4503-a194-a1990fe1efa1",
   "metadata": {},
   "outputs": [],
   "source": [
    "import shelve\n",
    "d = shelve.open(\"data.shelve\")"
   ]
  },
  {
   "cell_type": "code",
   "execution_count": null,
   "id": "d5d78491-9828-4618-9634-f7452d05ce7b",
   "metadata": {},
   "outputs": [],
   "source": [
    "d"
   ]
  },
  {
   "cell_type": "code",
   "execution_count": null,
   "id": "9cfc73fb-4580-49cf-87b6-978b76c070d9",
   "metadata": {},
   "outputs": [],
   "source": [
    "You treat the shelve object as a dictionary"
   ]
  },
  {
   "cell_type": "code",
   "execution_count": null,
   "id": "aa421f65-b57c-47b3-987a-8ab533880b66",
   "metadata": {},
   "outputs": [],
   "source": [
    "# Adding objects into shelve\n",
    "\n",
    "d['Anil'] = s1\n",
    "d['Sunil'] = s2"
   ]
  },
  {
   "cell_type": "code",
   "execution_count": null,
   "id": "be782c2d-7b22-40f4-b2a9-50887c4f94e3",
   "metadata": {},
   "outputs": [],
   "source": [
    "d"
   ]
  },
  {
   "cell_type": "code",
   "execution_count": null,
   "id": "bf2af545-a49f-4c17-a04b-3c611cda0ecf",
   "metadata": {},
   "outputs": [],
   "source": [
    "d.close()"
   ]
  },
  {
   "cell_type": "code",
   "execution_count": null,
   "id": "31f6e86e-39d4-4ade-aec6-14f1fb6ecfb4",
   "metadata": {},
   "outputs": [],
   "source": [
    "d['Anil']"
   ]
  },
  {
   "cell_type": "code",
   "execution_count": null,
   "id": "90b5020c-a2d8-49c9-be00-75f91222d454",
   "metadata": {},
   "outputs": [],
   "source": []
  },
  {
   "cell_type": "code",
   "execution_count": null,
   "id": "ab72f3cf-98d2-4028-ad98-e5a3a21e0943",
   "metadata": {},
   "outputs": [],
   "source": [
    "list(d.keys())"
   ]
  },
  {
   "cell_type": "code",
   "execution_count": null,
   "id": "7836bc8a-54f8-4a73-8f2e-ad9cc774f739",
   "metadata": {},
   "outputs": [],
   "source": [
    "d.close()"
   ]
  }
 ],
 "metadata": {
  "kernelspec": {
   "display_name": "Python 3 (ipykernel)",
   "language": "python",
   "name": "python3"
  },
  "language_info": {
   "codemirror_mode": {
    "name": "ipython",
    "version": 3
   },
   "file_extension": ".py",
   "mimetype": "text/x-python",
   "name": "python",
   "nbconvert_exporter": "python",
   "pygments_lexer": "ipython3",
   "version": "3.12.4"
  }
 },
 "nbformat": 4,
 "nbformat_minor": 5
}
