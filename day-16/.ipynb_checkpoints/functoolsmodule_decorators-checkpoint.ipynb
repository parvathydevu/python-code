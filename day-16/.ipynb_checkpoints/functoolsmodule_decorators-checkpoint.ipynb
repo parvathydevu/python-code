{
 "cells": [
  {
   "cell_type": "markdown",
   "id": "dd4c6c66-086b-4377-b19f-c2a6895266a7",
   "metadata": {},
   "source": [
    "# The @cache decorator"
   ]
  },
  {
   "cell_type": "markdown",
   "id": "f894e116-8c3d-474b-8031-582720165882",
   "metadata": {},
   "source": [
    "tracemalloc-trace memory location\n",
    "tracemalloc.clear_\n",
    "compute fibanocci numbers recursively\n",
    "comoare execution with and without caching"
   ]
  },
  {
   "cell_type": "code",
   "execution_count": null,
   "id": "f127ecd1-039d-497e-adce-8659798f3bb8",
   "metadata": {},
   "outputs": [],
   "source": [
    "tracemalloc is a module in Python that helps you trace memory allocations. \n",
    "It is useful for identifying memory leaks and understanding memory usage in your application.\n",
    "Track memory allocations.\n",
    "Identify memory leaks.\n",
    "Analyze memory usage patterns."
   ]
  },
  {
   "cell_type": "code",
   "execution_count": null,
   "id": "71601003-c8e2-44d1-bd71-78b74d205527",
   "metadata": {},
   "outputs": [],
   "source": [
    "@cache Decorator\n",
    "The @cache decorator is used to cache the results of function calls. This can improve performance by \n",
    "avoiding repeated calculations for the same inputs. In Python 3.9 and later, you can use functools.cache for this purpose.\n",
    "\n",
    "Purpose:\n",
    "\n",
    "Cache function results.\n",
    "Improve performance by avoiding redundant calculations."
   ]
  },
  {
   "cell_type": "code",
   "execution_count": null,
   "id": "4b5b16d3-072b-42c1-addf-2a8441361030",
   "metadata": {},
   "outputs": [],
   "source": [
    "import time \n",
    "import tracemalloc\n",
    "from functools import cache #also use lru_cache->adv you can sepcify max_size"
   ]
  },
  {
   "cell_type": "code",
   "execution_count": null,
   "id": "04dcb46a-f31a-437f-b0d4-4e2755a42c67",
   "metadata": {},
   "outputs": [],
   "source": [
    "#without cache\n",
    "def fibogen(n):\n",
    "    if n<2:\n",
    "        return n\n",
    "    return fibogen(n-1)+fibogen(n-2)"
   ]
  },
  {
   "cell_type": "code",
   "execution_count": null,
   "id": "5764eddd-b287-41ff-bb07-559bb3958267",
   "metadata": {},
   "outputs": [],
   "source": [
    "#with cache\n",
    "@cache\n",
    "def fibogen(n):\n",
    "    if n<2:\n",
    "        return n\n",
    "    return fibogen(n-1)+fibogen(n-2)"
   ]
  },
  {
   "cell_type": "code",
   "execution_count": 6,
   "id": "3807d252-2e9b-4137-b54d-e0976f067942",
   "metadata": {},
   "outputs": [],
   "source": [
    "import time \n",
    "import tracemalloc\n",
    "from functools import cache\n",
    "\n",
    "def execution(func, n):\n",
    "    tracemalloc.start()  # missing parentheses to call the function\n",
    "    starttime = time.time()\n",
    "    result = func(n)\n",
    "    endtime = time.time()\n",
    "    current, peak = tracemalloc.get_traced_memory()  #  correct function name\n",
    "    tracemalloc.stop()\n",
    "    print(f\"Function: {func.__name__}\")  # use __name__ instead of name\n",
    "    print(f\"Time taken: {endtime - starttime:.6f} seconds\")\n",
    "    print(f\"Memory used: {current} Bytes, Peak: {peak} Bytes\\n\")\n",
    "   # return result  # Optional: return the result of the function\n",
    " \n"
   ]
  },
  {
   "cell_type": "code",
   "execution_count": 7,
   "id": "086f6b03-f59d-48d5-a0e0-1c2dde3e01a0",
   "metadata": {},
   "outputs": [
    {
     "name": "stdout",
     "output_type": "stream",
     "text": [
      "Function: fib_cach\n",
      "Time taken: 0.000000 seconds\n",
      "Memory used: 1880 Bytes, Peak: 2000 Bytes\n",
      "\n"
     ]
    }
   ],
   "source": [
    "@cache\n",
    "def fib_cach(n):\n",
    "    if n <= 1:\n",
    "        return n\n",
    "    return fib_cach(n-1) + fib_cach(n-2)\n",
    " \n",
    "N = 35\n",
    "execution(fib_cach, N)"
   ]
  },
  {
   "cell_type": "code",
   "execution_count": 8,
   "id": "27b830de-d7b4-43bf-b3a4-7a3ad2311c42",
   "metadata": {},
   "outputs": [
    {
     "name": "stdout",
     "output_type": "stream",
     "text": [
      "Function: fib_cach\n",
      "Time taken: 3.060599 seconds\n",
      "Memory used: 603 Bytes, Peak: 955 Bytes\n",
      "\n"
     ]
    }
   ],
   "source": [
    "def fib_cach(n):\n",
    "    if n <= 1:\n",
    "        return n\n",
    "    return fib_cach(n-1) + fib_cach(n-2)\n",
    " \n",
    "N = 35\n",
    "execution(fib_cach, N)"
   ]
  },
  {
   "cell_type": "code",
   "execution_count": null,
   "id": "edc44ce0-20e3-4d6f-b6a9-b042b2f242c0",
   "metadata": {},
   "outputs": [],
   "source": [
    "#\"peak\" refers to the highest amount of memory that was allocated at any point during the tracing session. \n",
    "This helps you understand the maximum memory usage of your program,"
   ]
  }
 ],
 "metadata": {
  "kernelspec": {
   "display_name": "Python 3 (ipykernel)",
   "language": "python",
   "name": "python3"
  },
  "language_info": {
   "codemirror_mode": {
    "name": "ipython",
    "version": 3
   },
   "file_extension": ".py",
   "mimetype": "text/x-python",
   "name": "python",
   "nbconvert_exporter": "python",
   "pygments_lexer": "ipython3",
   "version": "3.12.4"
  }
 },
 "nbformat": 4,
 "nbformat_minor": 5
}
