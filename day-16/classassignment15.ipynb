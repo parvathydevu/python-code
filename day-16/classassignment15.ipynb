{
 "cells": [
  {
   "cell_type": "code",
   "execution_count": 1,
   "id": "505ce648-7a53-4ded-bf3d-971b7b825b17",
   "metadata": {},
   "outputs": [
    {
     "data": {
      "text/plain": [
       "' You are designing a system to rank products based on their ratings (on a scale of 0 to 5). \\nTwo products are considered equal if their ratings are equal. A product with a lower rating \\nis considered less than one with a higher rating.\\n\\nRequirements:\\n\\nImplement a class Product with the following:\\n\\n    Attributes: name (str), rating (float)\\n    Define appropriate comparison methods to allow sorting and comparison based on rating.\\n    such as __le__, __gt__\\n    Use @total_ordering to minimize method definitions.\\n\\nYou are to:\\n\\n        Implement the class with proper ordering using @total_ordering.\\n        Create a list of products and sort them.\\n        Demonstrate comparisons (==, <, >=, etc.) between different products.'"
      ]
     },
     "execution_count": 1,
     "metadata": {},
     "output_type": "execute_result"
    }
   ],
   "source": [
    "''' You are designing a system to rank products based on their ratings (on a scale of 0 to 5). \n",
    "Two products are considered equal if their ratings are equal. A product with a lower rating \n",
    "is considered less than one with a higher rating.\n",
    "\n",
    "Requirements:\n",
    "\n",
    "Implement a class Product with the following:\n",
    "\n",
    "    Attributes: name (str), rating (float)\n",
    "    Define appropriate comparison methods to allow sorting and comparison based on rating.\n",
    "    such as __le__, __gt__\n",
    "    Use @total_ordering to minimize method definitions.\n",
    "\n",
    "You are to:\n",
    "\n",
    "        Implement the class with proper ordering using @total_ordering.\n",
    "        Create a list of products and sort them.\n",
    "        Demonstrate comparisons (==, <, >=, etc.) between different products.'''"
   ]
  },
  {
   "cell_type": "code",
   "execution_count": 2,
   "id": "1e2f7051-a01e-4bbe-81de-2ef1757dfc68",
   "metadata": {},
   "outputs": [],
   "source": [
    "from functools import total_ordering\n",
    "\n",
    "@total_ordering\n",
    "class Product:\n",
    "    def __init__(self, name, rating):\n",
    "        self.name=name\n",
    "        self.rating=rating\n",
    "    def __eq__(self, other):\n",
    "        if not isinstance(other, Product):\n",
    "            return NotImplemented\n",
    "        return self.rating == other.rating\n",
    "    def __le__(self, other):\n",
    "        if not isinstance(other, Product):\n",
    "            return NotImplemented\n",
    "        return self.rating <= other.rating\n",
    "    def __repr__(self):\n",
    "        return f\"{self.name}({self.rating})\""
   ]
  },
  {
   "cell_type": "code",
   "execution_count": 3,
   "id": "bdd6490c-e51f-418b-bbc4-439e7b15add1",
   "metadata": {},
   "outputs": [
    {
     "name": "stdout",
     "output_type": "stream",
     "text": [
      "Sorted Products: [Tablet(3), Laptop(4), Phone(4), Monitor(9)]\n",
      "p1 == p3: True\n",
      "p1 <= p2: False\n",
      "p2 >= p4: False\n"
     ]
    }
   ],
   "source": [
    "if __name__ == \"__main__\":\n",
    "    p1 = Product(\"Laptop\", 4)\n",
    "    p2 = Product(\"Tablet\", 3)\n",
    "    p3 = Product(\"Phone\", 4)\n",
    "    p4 = Product(\"Monitor\", 9)\n",
    "\n",
    "    print(\"Sorted Products:\", sorted([p1, p2, p3, p4]))\n",
    "    print(\"p1 == p3:\", p1 == p3)\n",
    "    print(\"p1 <= p2:\", p1 <= p2)\n",
    "    print(\"p2 >= p4:\", p2 >= p4)"
   ]
  },
  {
   "cell_type": "code",
   "execution_count": 4,
   "id": "861b08c4-7953-4a58-92d2-e0dc27133679",
   "metadata": {},
   "outputs": [],
   "source": [
    "from functools import total_ordering\n",
    "\n",
    "@total_ordering\n",
    "class Product:\n",
    "    def __init__(self, name, rating):\n",
    "        self.name = name\n",
    "        self.rating = rating\n",
    "\n",
    "    def __eq__(self, other):  #Equality check\n",
    "        if not isinstance(other, Product):\n",
    "            return NotImplemented\n",
    "        return self.rating == other.rating\n",
    "\n",
    "    def __le__(self, other): #less than or equal to \n",
    "        if not isinstance(other, Product):\n",
    "            return NotImplemented\n",
    "        return self.rating <= other.rating\n",
    "\n",
    "    def __repr__(self):\n",
    "        return f\"{self.name}({self.rating})\""
   ]
  },
  {
   "cell_type": "code",
   "execution_count": 5,
   "id": "53f9363d-c539-4965-b825-fc4d0a66124d",
   "metadata": {},
   "outputs": [
    {
     "name": "stdout",
     "output_type": "stream",
     "text": [
      "Sorted Products: [Monitor(4.2), Laptop(4.5), Phone(4.5), Tablet(4.7)]\n",
      "p1 == p3: True\n",
      "p1 <= p2: True\n",
      "p2 >= p4: True\n"
     ]
    }
   ],
   "source": [
    "# === SAMPLE TEST CASE ===\n",
    "if __name__ == \"__main__\":\n",
    "    p1 = Product(\"Laptop\", 4.5)\n",
    "    p2 = Product(\"Tablet\", 4.7)\n",
    "    p3 = Product(\"Phone\", 4.5)\n",
    "    p4 = Product(\"Monitor\", 4.2)\n",
    "\n",
    "    print(\"Sorted Products:\", sorted([p1, p2, p3, p4]))\n",
    "    print(\"p1 == p3:\", p1 == p3)\n",
    "    print(\"p1 <= p2:\", p1 <= p2)\n",
    "    print(\"p2 >= p4:\", p2 >= p4)"
   ]
  },
  {
   "cell_type": "code",
   "execution_count": 6,
   "id": "68ad91c5-43a9-4707-a8f8-beb293960057",
   "metadata": {},
   "outputs": [],
   "source": [
    "#self: Refers to the current instance of the class.\n",
    "#other: Refers to the instance of the class that you are comparing self to."
   ]
  },
  {
   "cell_type": "code",
   "execution_count": 7,
   "id": "33a2d97d-4f09-4ca2-b954-3c763c17e6ae",
   "metadata": {},
   "outputs": [],
   "source": [
    "from functools import total_ordering\n",
    "\n",
    "@total_ordering\n",
    "class Product:\n",
    "    def __init__(self, name, rating):\n",
    "        if not isinstance(rating,float):\n",
    "            return ValueError(\"number must be float number\")\n",
    "        self.name = name\n",
    "        self.rating = rating\n",
    "\n",
    "    def __eq__(self, other):  #Equality check\n",
    "        if not isinstance(other, Product):\n",
    "            return NotImplemented\n",
    "        return self.rating == other.rating\n",
    "\n",
    "    def __le__(self, other): #less than or equal to \n",
    "        if not isinstance(other, Product):\n",
    "            return NotImplemented\n",
    "        return self.rating <= other.rating\n",
    "\n",
    "    def __repr__(self):\n",
    "        return f\"{self.name}({self.rating})\""
   ]
  },
  {
   "cell_type": "code",
   "execution_count": 8,
   "id": "a5387bda-fa3d-475e-bb39-df7463f5b548",
   "metadata": {},
   "outputs": [
    {
     "name": "stdout",
     "output_type": "stream",
     "text": [
      "Sorted Products: [Laptop(4.2), Monitor(4.2), Phone(4.5), Tablet(4.7)]\n",
      "p1 == p3: False\n",
      "p1 <= p2: True\n",
      "p2 >= p4: True\n"
     ]
    }
   ],
   "source": [
    "# === SAMPLE TEST CASE ===\n",
    "if __name__ == \"__main__\":\n",
    "    p1 = Product(\"Laptop\", 4.2)\n",
    "    p2 = Product(\"Tablet\", 4.7)\n",
    "    p3 = Product(\"Phone\", 4.5)\n",
    "    p4 = Product(\"Monitor\", 4.2)\n",
    "\n",
    "    print(\"Sorted Products:\", sorted([p1, p2, p3, p4]))\n",
    "    print(\"p1 == p3:\", p1 == p3)\n",
    "    print(\"p1 <= p2:\", p1 <= p2)\n",
    "    print(\"p2 >= p4:\", p2 >= p4)"
   ]
  },
  {
   "cell_type": "markdown",
   "id": "52c6b849-75ad-438a-8d52-cc1b6e41018c",
   "metadata": {},
   "source": [
    "# Problem 1---Sqlite3"
   ]
  },
  {
   "cell_type": "markdown",
   "id": "f7ac73e7-e801-4b89-b6df-600781804b21",
   "metadata": {},
   "source": [
    "''' Problem Statement: 1\n",
    "--------------------------------------\n",
    "\n",
    "You are tasked with developing a simple student record management system using SQLite3 in Python. The system should perform the following operations:\n",
    "\n",
    "Requirements:\n",
    "\n",
    "Create a SQLite database named school.db with a table students having fields:\n",
    "\n",
    "    id (INTEGER, Primary Key, Auto-increment)\n",
    "    name (TEXT)\n",
    "    age (INTEGER)\n",
    "    grade (TEXT)\n",
    "\n",
    "- Insert at least three student records into the table using parameterized queries.\n",
    "- Fetch and print all student records.\n",
    "- Update the grade of a specific student based on their name.\n",
    "- Delete a student record based on the id.\n",
    "- Display the remaining students and the total number of students.\n",
    "- Finalize and close the connection\n",
    "\n",
    "Deliverables:\n",
    "\n",
    "- Python code with all the required database operations.\n",
    "- Clear output showing the operations performed.\n",
    "- Use of best practices: parameterized queries, commit(), and close().''''"
   ]
  },
  {
   "cell_type": "code",
   "execution_count": 34,
   "id": "2df51895-bd7c-4bef-84bf-4000c670557c",
   "metadata": {},
   "outputs": [],
   "source": [
    "import sqlite3"
   ]
  },
  {
   "cell_type": "code",
   "execution_count": 35,
   "id": "8519749a-823f-49ac-a145-cd4777fc0ece",
   "metadata": {},
   "outputs": [],
   "source": [
    "conn=sqlite3.connect('school1.db')  #this file create table format\n",
    "#cursor is pointer execute ur commands\n",
    "cursor=conn.cursor()"
   ]
  },
  {
   "cell_type": "code",
   "execution_count": 36,
   "id": "0f2af73c-edfc-4529-a769-ee13b0aea269",
   "metadata": {},
   "outputs": [
    {
     "data": {
      "text/plain": [
       "<sqlite3.Cursor at 0x21e233b05c0>"
      ]
     },
     "execution_count": 36,
     "metadata": {},
     "output_type": "execute_result"
    }
   ],
   "source": [
    "#create a student table\n",
    "cursor.execute('''\n",
    "    CREATE TABLE IF NOT EXISTS students(\n",
    "        id INTEGER PRIMARY KEY AUTOINCREMENT,\n",
    "        name TEXT NOT NULL,\n",
    "        age INTEGER,\n",
    "        grade TEXT)\n",
    "\n",
    "''')"
   ]
  },
  {
   "cell_type": "code",
   "execution_count": 37,
   "id": "7f28548d-e64f-4006-ad53-fc2a5f346b8e",
   "metadata": {},
   "outputs": [
    {
     "data": {
      "text/plain": [
       "<sqlite3.Cursor at 0x21e233b05c0>"
      ]
     },
     "execution_count": 37,
     "metadata": {},
     "output_type": "execute_result"
    }
   ],
   "source": [
    "# Inserting more data rows\n",
    "student_data = [\n",
    "    (\"Bob\", 34, \"First\"),\n",
    "    (\"Charlie\", 35,\"Third\"),\n",
    "    (\"David\", 44,\"Second\"),\n",
    "]\n",
    "\n",
    "# executing multiple inserts\n",
    "cursor.executemany('''\n",
    "    INSERT INTO students (name, age, grade) VALUES (?, ?, ?)\n",
    "''', student_data)"
   ]
  },
  {
   "cell_type": "code",
   "execution_count": 38,
   "id": "3b19a46d-9f94-44cf-a642-a5a1ae4be905",
   "metadata": {},
   "outputs": [
    {
     "data": {
      "text/plain": [
       "[(1, 'Bob', 34, 'First'),\n",
       " (2, 'Charlie', 35, 'Third'),\n",
       " (3, 'David', 44, 'Second')]"
      ]
     },
     "execution_count": 38,
     "metadata": {},
     "output_type": "execute_result"
    }
   ],
   "source": [
    "cursor.execute(''' \n",
    "    SELECT * FROM students\n",
    "''')\n",
    "cursor.fetchall()"
   ]
  },
  {
   "cell_type": "code",
   "execution_count": 39,
   "id": "eb7a66dd-4c4f-492d-aca0-ee03cadb42b6",
   "metadata": {},
   "outputs": [
    {
     "data": {
      "text/plain": [
       "<sqlite3.Cursor at 0x21e233b05c0>"
      ]
     },
     "execution_count": 39,
     "metadata": {},
     "output_type": "execute_result"
    }
   ],
   "source": [
    "# Update the grade of a specific student based on their name\n",
    "# Update grade\n",
    "cursor.execute(\"UPDATE students SET grade = ? WHERE name = ?\", (\"Fifth\", \"David\"))"
   ]
  },
  {
   "cell_type": "code",
   "execution_count": 40,
   "id": "ef05802f-8d79-40b4-b255-abe7de871fff",
   "metadata": {},
   "outputs": [
    {
     "data": {
      "text/plain": [
       "[(1, 'Bob', 34, 'First'),\n",
       " (2, 'Charlie', 35, 'Third'),\n",
       " (3, 'David', 44, 'Fifth')]"
      ]
     },
     "execution_count": 40,
     "metadata": {},
     "output_type": "execute_result"
    }
   ],
   "source": [
    "# Selecting the data from the table\n",
    "cursor.execute('''\n",
    "    SELECT * FROM students\n",
    "''')\n",
    "cursor.fetchall()"
   ]
  },
  {
   "cell_type": "code",
   "execution_count": 47,
   "id": "ab17ce21-3d3f-48fb-92a9-def6643045b0",
   "metadata": {},
   "outputs": [
    {
     "data": {
      "text/plain": [
       "<sqlite3.Cursor at 0x21e233b05c0>"
      ]
     },
     "execution_count": 47,
     "metadata": {},
     "output_type": "execute_result"
    }
   ],
   "source": [
    "# Delete a student record based on the id\n",
    "# Delete an employee by first id \n",
    "cursor.execute(\"DELETE FROM students WHERE id= ?\", (1,))"
   ]
  },
  {
   "cell_type": "code",
   "execution_count": 48,
   "id": "a3d7f2b0-d6eb-47d9-8949-90be7656b9b9",
   "metadata": {},
   "outputs": [
    {
     "data": {
      "text/plain": [
       "[(2, 'Charlie', 35, 'Third'), (3, 'David', 44, 'Fifth')]"
      ]
     },
     "execution_count": 48,
     "metadata": {},
     "output_type": "execute_result"
    }
   ],
   "source": [
    "cursor.execute('''\n",
    "    SELECT * FROM students\n",
    "''')\n",
    "cursor.fetchall()"
   ]
  },
  {
   "cell_type": "code",
   "execution_count": 54,
   "id": "4579412e-113f-42e2-823b-3ebe2cdcbddc",
   "metadata": {},
   "outputs": [
    {
     "name": "stdout",
     "output_type": "stream",
     "text": [
      "Total number of remaining students: 2\n",
      "\n"
     ]
    }
   ],
   "source": [
    "# Count the number of employees\n",
    "cursor.execute(\"SELECT COUNT(*) FROM students\")\n",
    "count = cursor.fetchone()[0] \n",
    "print(f\"Total number of remaining students: {count}\\n\")"
   ]
  },
  {
   "cell_type": "code",
   "execution_count": 50,
   "id": "6f51cdcc-18a3-4406-ba80-66dd6b1bb029",
   "metadata": {},
   "outputs": [],
   "source": [
    "# Close the connection\n",
    "conn.commit()"
   ]
  },
  {
   "cell_type": "code",
   "execution_count": 51,
   "id": "daeaba98-d834-490f-ae3d-b5195d45bdcd",
   "metadata": {},
   "outputs": [],
   "source": [
    "conn.close()"
   ]
  },
  {
   "cell_type": "code",
   "execution_count": 53,
   "id": "0917394a-f44e-42f6-8fe4-4f642b607d5b",
   "metadata": {},
   "outputs": [],
   "source": [
    "'''# Connect to the database-reopen school1\n",
    "conn = sqlite3.connect('school1.db')\n",
    "cursor = conn.cursor()'''"
   ]
  },
  {
   "cell_type": "markdown",
   "id": "8e83f9e0-42a2-4404-bc11-393d2ea3c35a",
   "metadata": {},
   "source": [
    "# Problem 2 -pickle"
   ]
  },
  {
   "cell_type": "code",
   "execution_count": null,
   "id": "c35eca78-c727-4bff-8084-d530f8b7596b",
   "metadata": {},
   "outputs": [],
   "source": [
    "# Problem Statement: 2\n",
    "--------------------------------------\n",
    "\n",
    "Tasks:\n",
    "\n",
    "Create a Student class with the following attributes:\n",
    "\n",
    "- name (string)\n",
    "- roll_number (integer)\n",
    "- marks (dictionary of subject-wise marks, e.g., {\"Math\": 85, \"Science\": 90})\n",
    "\n",
    "Create a list of at least two Student objects with sample data.\n",
    "Use the pickle module to serialize and save this list into a file named students.pkl.\n",
    "Write code to load the student data from students.pkl and display each student’s details.\n",
    "\n",
    "Challenge: Allow updating a student's marks and re-saving the modified list."
   ]
  },
  {
   "cell_type": "code",
   "execution_count": 55,
   "id": "b274b26e-1751-4a64-87f2-ed913ca38548",
   "metadata": {},
   "outputs": [],
   "source": [
    "import pickle"
   ]
  },
  {
   "cell_type": "code",
   "execution_count": 78,
   "id": "7affb655-d2ba-4c0b-b088-54164b934a7d",
   "metadata": {},
   "outputs": [],
   "source": [
    "class Student:\n",
    "    def __init__(self, name, roll_number, marks):\n",
    "        self.name = name\n",
    "        self.roll_number = roll_number\n",
    "        self.marks = marks\n",
    "    def __repr__(self):\n",
    "        return f\"Student(name={self.name}, roll_number={self.roll_number}, marks={self.marks})\""
   ]
  },
  {
   "cell_type": "code",
   "execution_count": 80,
   "id": "47e5cb73-2429-437a-89ba-68d42d2562f5",
   "metadata": {},
   "outputs": [],
   "source": [
    "s1 = Student(\"Alice\", 1, {\"Math\": 85, \"Science\": 90})\n",
    "s2 = Student(\"Bob\", 2, {\"Math\": 78, \"Science\": 88})"
   ]
  },
  {
   "cell_type": "code",
   "execution_count": 83,
   "id": "9f89a3b1-cdec-4f4f-a46b-79f30e27f49f",
   "metadata": {},
   "outputs": [
    {
     "data": {
      "text/plain": [
       "Student(name=Alice, roll_number=1, marks={'Math': 85, 'Science': 90})"
      ]
     },
     "execution_count": 83,
     "metadata": {},
     "output_type": "execute_result"
    }
   ],
   "source": [
    "s1"
   ]
  },
  {
   "cell_type": "code",
   "execution_count": 85,
   "id": "ab4a377c-eec2-43ef-a271-57b91ff07ec3",
   "metadata": {},
   "outputs": [
    {
     "data": {
      "text/plain": [
       "Student(name=Bob, roll_number=2, marks={'Math': 78, 'Science': 88})"
      ]
     },
     "execution_count": 85,
     "metadata": {},
     "output_type": "execute_result"
    }
   ],
   "source": [
    "s2"
   ]
  },
  {
   "cell_type": "code",
   "execution_count": 87,
   "id": "3e953304-d7d1-4c03-adc9-e2ad2f2396a2",
   "metadata": {},
   "outputs": [],
   "source": [
    "sessions=[s1,s2]"
   ]
  },
  {
   "cell_type": "markdown",
   "id": "b67ac370-63f3-4f6a-a9ef-d59b11f3e853",
   "metadata": {},
   "source": [
    "Use the pickle module to serialize and save this list into a file named students.pkl."
   ]
  },
  {
   "cell_type": "code",
   "execution_count": 88,
   "id": "c5dfa228-649a-490f-b86b-0f95a6d6b1b9",
   "metadata": {},
   "outputs": [],
   "source": [
    "# Serialize the session list\n",
    "with open(\"students.pkl\", \"wb\") as f:\n",
    "    pickle.dump(sessions, f)"
   ]
  },
  {
   "cell_type": "code",
   "execution_count": null,
   "id": "1417e48c-62a3-4f11-8d9f-f727e307fda3",
   "metadata": {},
   "outputs": [],
   "source": [
    "# re store and display each student's details"
   ]
  },
  {
   "cell_type": "code",
   "execution_count": 98,
   "id": "f722e1dc-e7a5-4991-b9f5-4e0ffed7c11a",
   "metadata": {},
   "outputs": [
    {
     "name": "stdout",
     "output_type": "stream",
     "text": [
      "Student(name=Alice, roll_number=1, marks={'Math': 85, 'Science': 90})\n",
      "Student(name=Bob, roll_number=2, marks={'Math': 78, 'Science': 88})\n"
     ]
    }
   ],
   "source": [
    "try:\n",
    "    with open(\"students.pkl\", \"rb\") as f:\n",
    "        loaded_sessions = pickle.load(f)\n",
    "        for session in loaded_sessions:\n",
    "            print(session)\n",
    "except Exception as e:\n",
    "    print(f\"Exception {e}\")"
   ]
  },
  {
   "cell_type": "code",
   "execution_count": null,
   "id": "d050858d-be22-43f5-a5fe-08d38e7adebf",
   "metadata": {},
   "outputs": [],
   "source": [
    "pickle.dump --write-wb -implemneted name.pkl file.\n",
    "pickle.load --read-rb  - read and display each items in pkl file."
   ]
  },
  {
   "cell_type": "markdown",
   "id": "1271ff01-8901-4004-a7f6-e1c628fc396d",
   "metadata": {},
   "source": [
    "# Challenge: Allow updating a student's marks and re-saving the modified list."
   ]
  },
  {
   "cell_type": "code",
   "execution_count": 100,
   "id": "82438f40-1924-42c6-acb3-e8e159839f76",
   "metadata": {},
   "outputs": [],
   "source": [
    "# Example: Update Alice's Math marks to 95\n",
    "\n",
    "loaded_sessions[0].marks[\"Math\"] = 95"
   ]
  },
  {
   "cell_type": "code",
   "execution_count": 101,
   "id": "38c38ce1-27e8-4bdf-8b6e-c68b6fe1d9a7",
   "metadata": {},
   "outputs": [
    {
     "name": "stdout",
     "output_type": "stream",
     "text": [
      "Student(name=Alice, roll_number=1, marks={'Math': 95, 'Science': 90})\n",
      "Student(name=Bob, roll_number=2, marks={'Math': 78, 'Science': 88})\n"
     ]
    }
   ],
   "source": [
    "for session in loaded_sessions:\n",
    "    print(session)"
   ]
  },
  {
   "cell_type": "code",
   "execution_count": 103,
   "id": "6e070cae-c5f3-4591-9a5f-095dbc42ed48",
   "metadata": {},
   "outputs": [],
   "source": [
    "# resaving the modified list \n",
    "# Re-Serialize the session list\n",
    "with open(\"students.pkl\", \"wb\") as f:\n",
    "    pickle.dump(sessions, f)"
   ]
  },
  {
   "cell_type": "code",
   "execution_count": null,
   "id": "71b04952-8d9b-4d8c-bd27-30f8373018c4",
   "metadata": {},
   "outputs": [],
   "source": []
  }
 ],
 "metadata": {
  "kernelspec": {
   "display_name": "Python 3 (ipykernel)",
   "language": "python",
   "name": "python3"
  },
  "language_info": {
   "codemirror_mode": {
    "name": "ipython",
    "version": 3
   },
   "file_extension": ".py",
   "mimetype": "text/x-python",
   "name": "python",
   "nbconvert_exporter": "python",
   "pygments_lexer": "ipython3",
   "version": "3.12.4"
  }
 },
 "nbformat": 4,
 "nbformat_minor": 5
}
