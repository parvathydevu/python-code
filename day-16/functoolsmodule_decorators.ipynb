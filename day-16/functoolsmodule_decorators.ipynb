{
 "cells": [
  {
   "cell_type": "markdown",
   "id": "0f957062-8346-462f-b127-fd3e885e64f4",
   "metadata": {},
   "source": [
    "# Functools -module"
   ]
  },
  {
   "cell_type": "markdown",
   "id": "dd4c6c66-086b-4377-b19f-c2a6895266a7",
   "metadata": {},
   "source": [
    "# The @cache decorator"
   ]
  },
  {
   "cell_type": "markdown",
   "id": "f894e116-8c3d-474b-8031-582720165882",
   "metadata": {},
   "source": [
    "tracemalloc-trace memory location\n",
    "tracemalloc.clear_\n",
    "compute fibanocci numbers recursively\n",
    "comoare execution with and without caching"
   ]
  },
  {
   "cell_type": "code",
   "execution_count": null,
   "id": "f127ecd1-039d-497e-adce-8659798f3bb8",
   "metadata": {},
   "outputs": [],
   "source": [
    "tracemalloc is a module in Python that helps you trace memory allocations. \n",
    "It is useful for identifying memory leaks and understanding memory usage in your application.\n",
    "Track memory allocations.\n",
    "Identify memory leaks.\n",
    "Analyze memory usage patterns."
   ]
  },
  {
   "cell_type": "code",
   "execution_count": null,
   "id": "71601003-c8e2-44d1-bd71-78b74d205527",
   "metadata": {},
   "outputs": [],
   "source": [
    "@cache Decorator\n",
    "The @cache decorator is used to cache the results of function calls. This can improve performance by \n",
    "avoiding repeated calculations for the same inputs. In Python 3.9 and later, you can use functools.cache for this purpose.\n",
    "\n",
    "Purpose:\n",
    "\n",
    "Cache function results.\n",
    "Improve performance by avoiding redundant calculations."
   ]
  },
  {
   "cell_type": "code",
   "execution_count": null,
   "id": "4b5b16d3-072b-42c1-addf-2a8441361030",
   "metadata": {},
   "outputs": [],
   "source": [
    "import time \n",
    "import tracemalloc\n",
    "from functools import cache #also use lru_cache->adv you can sepcify max_size"
   ]
  },
  {
   "cell_type": "code",
   "execution_count": null,
   "id": "04dcb46a-f31a-437f-b0d4-4e2755a42c67",
   "metadata": {},
   "outputs": [],
   "source": [
    "#without cache\n",
    "def fibogen(n):\n",
    "    if n<2:\n",
    "        return n\n",
    "    return fibogen(n-1)+fibogen(n-2)"
   ]
  },
  {
   "cell_type": "code",
   "execution_count": null,
   "id": "5764eddd-b287-41ff-bb07-559bb3958267",
   "metadata": {},
   "outputs": [],
   "source": [
    "#with cache\n",
    "@cache\n",
    "def fibogen(n):\n",
    "    if n<2:\n",
    "        return n\n",
    "    return fibogen(n-1)+fibogen(n-2)"
   ]
  },
  {
   "cell_type": "code",
   "execution_count": 9,
   "id": "3807d252-2e9b-4137-b54d-e0976f067942",
   "metadata": {},
   "outputs": [],
   "source": [
    "import time \n",
    "import tracemalloc\n",
    "from functools import cache\n",
    "\n",
    "def execution(func, n):  #two arguments func, n\n",
    "    tracemalloc.start()  # start tracing memory location\n",
    "    starttime = time.time()#Record the start time\n",
    "    result = func(n)\n",
    "    endtime = time.time()# Record the end time\n",
    "    current, peak = tracemalloc.get_traced_memory()  #  correct function name\n",
    "    tracemalloc.stop()# stop tracing memory location\n",
    "    print(f\"Function: {func.__name__}\")  # print function name ->fib_cache\n",
    "    print(f\"Time taken: {endtime - starttime:.6f} seconds\")\n",
    "    print(f\"Memory used: {current} Bytes, Peak: {peak} Bytes\\n\")\n",
    "   # return result  # Optional: return the result of the function\n"
   ]
  },
  {
   "cell_type": "code",
   "execution_count": 10,
   "id": "086f6b03-f59d-48d5-a0e0-1c2dde3e01a0",
   "metadata": {},
   "outputs": [
    {
     "name": "stdout",
     "output_type": "stream",
     "text": [
      "Function: fib_cach\n",
      "Time taken: 0.000000 seconds\n",
      "Memory used: 1880 Bytes, Peak: 2000 Bytes\n",
      "\n"
     ]
    }
   ],
   "source": [
    "@cache\n",
    "def fib_cach(n):\n",
    "    if n <= 1:\n",
    "        return n\n",
    "    return fib_cach(n-1) + fib_cach(n-2)\n",
    " \n",
    "N = 35\n",
    "execution(fib_cach, N)"
   ]
  },
  {
   "cell_type": "code",
   "execution_count": 11,
   "id": "27b830de-d7b4-43bf-b3a4-7a3ad2311c42",
   "metadata": {},
   "outputs": [
    {
     "name": "stdout",
     "output_type": "stream",
     "text": [
      "Function: fib_cach\n",
      "Time taken: 2.773782 seconds\n",
      "Memory used: 1307 Bytes, Peak: 1763 Bytes\n",
      "\n"
     ]
    }
   ],
   "source": [
    "def fib_cach(n):\n",
    "    if n <= 1:\n",
    "        return n\n",
    "    return fib_cach(n-1) + fib_cach(n-2)\n",
    " \n",
    "N = 35\n",
    "execution(fib_cach, N)"
   ]
  },
  {
   "cell_type": "code",
   "execution_count": null,
   "id": "edc44ce0-20e3-4d6f-b6a9-b042b2f242c0",
   "metadata": {},
   "outputs": [],
   "source": [
    "#\"peak\" refers to the highest amount of memory that was allocated at any point during the tracing session. \n",
    "This helps you understand the maximum memory usage of your program,"
   ]
  },
  {
   "cell_type": "markdown",
   "id": "6cda6198-442f-43a3-aa21-f481adac2d0c",
   "metadata": {},
   "source": [
    "# The @total_ordering Decorator"
   ]
  },
  {
   "cell_type": "markdown",
   "id": "69869281-525f-4954-9ef4-549e065e06f0",
   "metadata": {},
   "source": [
    "#comparison ordering methods s1<s2"
   ]
  },
  {
   "cell_type": "code",
   "execution_count": 42,
   "id": "ac43027b-6f45-4060-a2c7-974ece3b14ef",
   "metadata": {},
   "outputs": [],
   "source": [
    "from functools import total_ordering\n",
    "\n",
    "@total_ordering\n",
    "class Student:\n",
    "    def __init__(self, name, marks):\n",
    "        self.name = name\n",
    "        self.marks = marks\n",
    "\n",
    "    def __eq__(self, other):\n",
    "        if not isinstance(other, Student):\n",
    "            return NotImplemented\n",
    "        return self.marks == other.marks\n",
    "\n",
    "    def __lt__(self, other):  #lt -lessthan dunder\n",
    "        if not isinstance(other, Student):\n",
    "            return NotImplemented\n",
    "        return self.marks < other.marks\n",
    "\n",
    "    def __repr__(self):\n",
    "        return f\"NAME:{self.name}, MARK:{self.marks}\""
   ]
  },
  {
   "cell_type": "code",
   "execution_count": 29,
   "id": "734ce825-2682-4dd4-8142-7119b36132b7",
   "metadata": {},
   "outputs": [
    {
     "name": "stdout",
     "output_type": "stream",
     "text": [
      "NAME:Alice, MARK:85\n",
      "NAME:Bob, MARK:90\n",
      "True\n",
      "False\n"
     ]
    }
   ],
   "source": [
    "# Example usage\n",
    "student1 = Student(\"Alice\", 85)\n",
    "student2 = Student(\"Bob\", 90)\n",
    "\n",
    "print(student1)  # Output: Alice 85\n",
    "print(student2)  # Output: Bob 90\n",
    "print(student1 < student2)  # Output: True\n",
    "print(student1 == student2)  # Output: False "
   ]
  },
  {
   "cell_type": "code",
   "execution_count": 34,
   "id": "1b1dcd16-fa94-40b7-b75f-ab53b7d2048c",
   "metadata": {},
   "outputs": [
    {
     "name": "stdout",
     "output_type": "stream",
     "text": [
      "False\n"
     ]
    }
   ],
   "source": [
    "print(student1 >= student2)  #WITH total ordering ,you only nedd __eq__ + one of the other ,techincally this will not work, \n",
    "#beacuse it is not implemented in the decorator."
   ]
  },
  {
   "cell_type": "code",
   "execution_count": 33,
   "id": "b6ac4345-1f9a-4aee-8722-7b25551b4ac2",
   "metadata": {},
   "outputs": [
    {
     "name": "stdout",
     "output_type": "stream",
     "text": [
      "True\n"
     ]
    }
   ],
   "source": [
    "print(student1 <= student2)"
   ]
  },
  {
   "cell_type": "code",
   "execution_count": null,
   "id": "d67de486-3d86-4f1f-ba95-94a2b9d0cc1d",
   "metadata": {},
   "outputs": [],
   "source": [
    "why use @total_ordering?"
   ]
  },
  {
   "cell_type": "markdown",
   "id": "0d79d2be-95a1-4743-88a1-240c96ddbbf5",
   "metadata": {},
   "source": [
    "# reduce function from functools"
   ]
  },
  {
   "cell_type": "markdown",
   "id": "1309c1f0-846e-4c48-855c-db1ca92a2d39",
   "metadata": {},
   "source": [
    "### The reduce function"
   ]
  },
  {
   "cell_type": "code",
   "execution_count": 35,
   "id": "c5ca5fc5-ba75-4aca-9bdf-7ba415cf899e",
   "metadata": {},
   "outputs": [],
   "source": [
    "L=[1,2,3,4,5]"
   ]
  },
  {
   "cell_type": "code",
   "execution_count": 39,
   "id": "2d9f9bf4-2fd1-4d16-b227-6fa773259d9f",
   "metadata": {},
   "outputs": [
    {
     "data": {
      "text/plain": [
       "15"
      ]
     },
     "execution_count": 39,
     "metadata": {},
     "output_type": "execute_result"
    }
   ],
   "source": [
    "from functools import reduce\n",
    "reduce(lambda a,b: a+b,L)  #comprehension"
   ]
  },
  {
   "cell_type": "code",
   "execution_count": 40,
   "id": "a1a9c70f-35ed-42dd-90ba-89aed80c1f18",
   "metadata": {},
   "outputs": [
    {
     "data": {
      "text/plain": [
       "120"
      ]
     },
     "execution_count": 40,
     "metadata": {},
     "output_type": "execute_result"
    }
   ],
   "source": [
    "from functools import reduce\n",
    "reduce(lambda a,b: a*b,L)  #comprehension "
   ]
  },
  {
   "cell_type": "code",
   "execution_count": 41,
   "id": "7288d766-73d1-46d7-8af4-bae34d46ef6b",
   "metadata": {},
   "outputs": [
    {
     "data": {
      "text/plain": [
       "-13"
      ]
     },
     "execution_count": 41,
     "metadata": {},
     "output_type": "execute_result"
    }
   ],
   "source": [
    "from functools import reduce\n",
    "reduce(lambda a,b: a-b,L)"
   ]
  },
  {
   "cell_type": "code",
   "execution_count": null,
   "id": "8489d2ed-61cf-4de2-ad2f-d7880d411576",
   "metadata": {},
   "outputs": [],
   "source": [
    "# @total_ordering: This decorator fills in the missing comparison methods based on the ones you define \n",
    "__eq__: Checks if two Student objects have the same marks."
   ]
  },
  {
   "cell_type": "code",
   "execution_count": null,
   "id": "b738a6bb-f87f-4633-b977-da42aa7d0965",
   "metadata": {},
   "outputs": [],
   "source": [
    "When you use @total_ordering, you only need to define the __eq__ method and one other comparison method \n",
    "(__lt__, __le__, __gt__, or __ge__). The decorator will automatically generate the rest of the comparison methods for you."
   ]
  }
 ],
 "metadata": {
  "kernelspec": {
   "display_name": "Python 3 (ipykernel)",
   "language": "python",
   "name": "python3"
  },
  "language_info": {
   "codemirror_mode": {
    "name": "ipython",
    "version": 3
   },
   "file_extension": ".py",
   "mimetype": "text/x-python",
   "name": "python",
   "nbconvert_exporter": "python",
   "pygments_lexer": "ipython3",
   "version": "3.12.4"
  }
 },
 "nbformat": 4,
 "nbformat_minor": 5
}
