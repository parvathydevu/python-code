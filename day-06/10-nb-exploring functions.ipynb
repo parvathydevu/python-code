{
 "cells": [
  {
   "cell_type": "markdown",
   "id": "aced422b-071d-4a56-ba31-32d8eb211c0b",
   "metadata": {},
   "source": [
    "# 10.1 Function definition"
   ]
  },
  {
   "cell_type": "code",
   "execution_count": 24,
   "id": "2b980828-a4b3-48a0-865a-f4145f1288ac",
   "metadata": {},
   "outputs": [],
   "source": [
    "def checkprime(n):\n",
    "    prime = True \n",
    "    for i in range(2,n):\n",
    "        if n%i==0:  #if  this condition passed return False, not a prime number\n",
    "            return False\n",
    "    return True  #if for loop completes return true.else statement"
   ]
  },
  {
   "cell_type": "code",
   "execution_count": 25,
   "id": "8bb6fb8e-3783-4fb1-89e2-85453d229318",
   "metadata": {},
   "outputs": [
    {
     "data": {
      "text/plain": [
       "False"
      ]
     },
     "execution_count": 25,
     "metadata": {},
     "output_type": "execute_result"
    }
   ],
   "source": [
    "checkprime(10)"
   ]
  },
  {
   "cell_type": "code",
   "execution_count": 26,
   "id": "5e85a5a9-1822-4bb6-9ea5-28585e260c49",
   "metadata": {},
   "outputs": [
    {
     "data": {
      "text/plain": [
       "False"
      ]
     },
     "execution_count": 26,
     "metadata": {},
     "output_type": "execute_result"
    }
   ],
   "source": [
    "checkprime(15)"
   ]
  },
  {
   "cell_type": "code",
   "execution_count": 27,
   "id": "fe430935-5760-47d0-8dfc-b42cea812503",
   "metadata": {},
   "outputs": [
    {
     "data": {
      "text/plain": [
       "True"
      ]
     },
     "execution_count": 27,
     "metadata": {},
     "output_type": "execute_result"
    }
   ],
   "source": [
    "checkprime(7)"
   ]
  },
  {
   "cell_type": "code",
   "execution_count": 28,
   "id": "6d6e99a6-f125-4110-84ee-c3068ff2b251",
   "metadata": {},
   "outputs": [],
   "source": [
    "#function to get the highest prime number in a given range\n",
    "def get_highestprime(p,q):\n",
    "    for n in range(q,p-1,-1):  #descending order check, then find greatest prime value\n",
    "        if (checkprime(n)):\n",
    "            return n\n",
    "    return -1"
   ]
  },
  {
   "cell_type": "code",
   "execution_count": 29,
   "id": "7c2927f0-63df-42a5-9f1b-e7d72c6de2e8",
   "metadata": {},
   "outputs": [
    {
     "data": {
      "text/plain": [
       "19"
      ]
     },
     "execution_count": 29,
     "metadata": {},
     "output_type": "execute_result"
    }
   ],
   "source": [
    "get_highestprime(1,20)"
   ]
  },
  {
   "cell_type": "code",
   "execution_count": 30,
   "id": "379a0441-51b7-4529-b1a2-db0747b57672",
   "metadata": {},
   "outputs": [
    {
     "data": {
      "text/plain": [
       "97"
      ]
     },
     "execution_count": 30,
     "metadata": {},
     "output_type": "execute_result"
    }
   ],
   "source": [
    "get_highestprime(1,100)"
   ]
  },
  {
   "cell_type": "code",
   "execution_count": 31,
   "id": "8ef0fcbc-f971-4ddc-a388-8a227ba0994d",
   "metadata": {},
   "outputs": [
    {
     "data": {
      "text/plain": [
       "53"
      ]
     },
     "execution_count": 31,
     "metadata": {},
     "output_type": "execute_result"
    }
   ],
   "source": [
    "get_highestprime(50,55)"
   ]
  },
  {
   "cell_type": "code",
   "execution_count": 32,
   "id": "263ee934-01eb-4be1-bc88-bcbb17b5f95b",
   "metadata": {},
   "outputs": [
    {
     "data": {
      "text/plain": [
       "-1"
      ]
     },
     "execution_count": 32,
     "metadata": {},
     "output_type": "execute_result"
    }
   ],
   "source": [
    "get_highestprime(200,204)"
   ]
  },
  {
   "cell_type": "markdown",
   "id": "5fb994e9-3a59-4fc6-9746-27c49923fa73",
   "metadata": {},
   "source": [
    "# 10.2 scope of variable"
   ]
  },
  {
   "cell_type": "code",
   "execution_count": 35,
   "id": "065c568d-7f62-4af1-9c20-2dda67f744d2",
   "metadata": {},
   "outputs": [],
   "source": [
    "# Global variables\n",
    "N=10\n",
    "\n",
    "def showvalues():  #access global var\n",
    "    print(N)"
   ]
  },
  {
   "cell_type": "code",
   "execution_count": 36,
   "id": "681184fd-6aa5-480f-8b32-671422134933",
   "metadata": {},
   "outputs": [
    {
     "name": "stdout",
     "output_type": "stream",
     "text": [
      "10\n"
     ]
    }
   ],
   "source": [
    "showvalues()"
   ]
  },
  {
   "cell_type": "code",
   "execution_count": 38,
   "id": "a8c08034-56ac-4c2c-9433-0fdc3c49b91b",
   "metadata": {},
   "outputs": [],
   "source": [
    "# Global variables and  local vaiables\n",
    "N=10\n",
    "\n",
    "def showvalues():  #access local var, local will get the highest priority\n",
    "    N=5 #local\n",
    "    print(N)"
   ]
  },
  {
   "cell_type": "code",
   "execution_count": 39,
   "id": "47275317-7b23-4ed5-968a-708519618ae2",
   "metadata": {},
   "outputs": [
    {
     "name": "stdout",
     "output_type": "stream",
     "text": [
      "5\n"
     ]
    }
   ],
   "source": [
    "showvalues()"
   ]
  },
  {
   "cell_type": "code",
   "execution_count": 41,
   "id": "07af632a-632f-4f06-8056-016f92c9f9a2",
   "metadata": {},
   "outputs": [],
   "source": [
    "# Global variables and  local vaiables\n",
    "N=10 #global\n",
    "\n",
    "def showvalues():  # local will get the highest priority, within this function definition\n",
    "    N=5 #local\n",
    "    print(N)\n",
    "def showvalues2():  #local will get the highest priority\n",
    "    N=7 #local\n",
    "    print(N)"
   ]
  },
  {
   "cell_type": "code",
   "execution_count": 42,
   "id": "7282c3f8-48bc-4b25-83f7-1ad7962e95c4",
   "metadata": {},
   "outputs": [
    {
     "name": "stdout",
     "output_type": "stream",
     "text": [
      "5\n",
      "7\n"
     ]
    },
    {
     "data": {
      "text/plain": [
       "(None, None)"
      ]
     },
     "execution_count": 42,
     "metadata": {},
     "output_type": "execute_result"
    }
   ],
   "source": [
    "showvalues(), showvalues2()"
   ]
  },
  {
   "cell_type": "code",
   "execution_count": 43,
   "id": "d6ab18b8-e4fd-4380-a4f9-5aa7d367245d",
   "metadata": {},
   "outputs": [],
   "source": [
    "# Global variables and local vaiables\n",
    "N=10\n",
    "\n",
    "def showvalues():  # local will get the highest priority, within this function definition\n",
    "    N=5 #local\n",
    "    print(N)\n",
    "def showvalues2():  #local will get the highest priority, but if local is not there global will print.\n",
    "      print(N)"
   ]
  },
  {
   "cell_type": "code",
   "execution_count": 44,
   "id": "491ba4f8-5db8-443e-9e4f-796039069654",
   "metadata": {},
   "outputs": [
    {
     "name": "stdout",
     "output_type": "stream",
     "text": [
      "5\n",
      "10\n"
     ]
    },
    {
     "data": {
      "text/plain": [
       "(None, None)"
      ]
     },
     "execution_count": 44,
     "metadata": {},
     "output_type": "execute_result"
    }
   ],
   "source": [
    "showvalues(), showvalues2()"
   ]
  },
  {
   "cell_type": "code",
   "execution_count": 45,
   "id": "46c65af4-35d4-4926-a2b3-14c3a66cd967",
   "metadata": {},
   "outputs": [],
   "source": [
    "# Global variables and local vaiables\n",
    "\n",
    "def showvalues():  # local will get the highest priority, within this function definition\n",
    "    M=5 #local\n",
    "    print(M)\n",
    "def showvalues2():  #M is not defined in this function, M is local in first function def.\n",
    "      print(M)"
   ]
  },
  {
   "cell_type": "code",
   "execution_count": 46,
   "id": "cd6336a7-4248-4133-911a-5bbcfc584e7e",
   "metadata": {},
   "outputs": [
    {
     "name": "stdout",
     "output_type": "stream",
     "text": [
      "5\n"
     ]
    },
    {
     "ename": "NameError",
     "evalue": "name 'M' is not defined",
     "output_type": "error",
     "traceback": [
      "\u001b[1;31m---------------------------------------------------------------------------\u001b[0m",
      "\u001b[1;31mNameError\u001b[0m                                 Traceback (most recent call last)",
      "Cell \u001b[1;32mIn[46], line 1\u001b[0m\n\u001b[1;32m----> 1\u001b[0m showvalues(), showvalues2()\n",
      "Cell \u001b[1;32mIn[45], line 7\u001b[0m, in \u001b[0;36mshowvalues2\u001b[1;34m()\u001b[0m\n\u001b[0;32m      6\u001b[0m \u001b[38;5;28;01mdef\u001b[39;00m \u001b[38;5;21mshowvalues2\u001b[39m():  \u001b[38;5;66;03m#M is not defined in this function, M is local but if local is not there global will print.\u001b[39;00m\n\u001b[1;32m----> 7\u001b[0m       \u001b[38;5;28mprint\u001b[39m(M)\n",
      "\u001b[1;31mNameError\u001b[0m: name 'M' is not defined"
     ]
    }
   ],
   "source": [
    "showvalues(), showvalues2()"
   ]
  },
  {
   "cell_type": "code",
   "execution_count": 53,
   "id": "5212c2d2-afdb-474a-9977-dfaf75344eb2",
   "metadata": {},
   "outputs": [],
   "source": [
    "# understanding non-local scope\n",
    "P=10\n",
    "\n",
    "def getFunction(choice):\n",
    "    def funcAdd(a,b):\n",
    "        return (a+b) * P\n",
    "    def funcSub(a,b):\n",
    "        return (a-b)*P\n",
    "    return funcAdd if choice ==1 else funcSub#ternary operator -> ?: statement"
   ]
  },
  {
   "cell_type": "code",
   "execution_count": 54,
   "id": "c7f82be3-4902-454a-9d67-d4e82ed77125",
   "metadata": {},
   "outputs": [
    {
     "data": {
      "text/plain": [
       "300"
      ]
     },
     "execution_count": 54,
     "metadata": {},
     "output_type": "execute_result"
    }
   ],
   "source": [
    "f= getFunction(1)  #uses funAdd and P=10\n",
    "f(10,20)#a,b"
   ]
  },
  {
   "cell_type": "code",
   "execution_count": 60,
   "id": "0baaa56c-ea91-4b81-9879-8d1837154d76",
   "metadata": {},
   "outputs": [],
   "source": [
    "# understanding non-local scope\n",
    "P=10\n",
    "\n",
    "def getFunction(choice):\n",
    "    def funcAdd(a,b):\n",
    "        P=5\n",
    "        return (a+b) * P\n",
    "    def funcSub(a,b):\n",
    "        P=5\n",
    "        return (a-b)*P\n",
    "    return funcAdd if choice ==1 else funcSub#ternary operator -> ?: statement"
   ]
  },
  {
   "cell_type": "code",
   "execution_count": 61,
   "id": "dc2c35c3-b196-42aa-985b-26ccd7a10c05",
   "metadata": {},
   "outputs": [
    {
     "data": {
      "text/plain": [
       "150"
      ]
     },
     "execution_count": 61,
     "metadata": {},
     "output_type": "execute_result"
    }
   ],
   "source": [
    "f= getFunction(1)  #uses funAdd and P=5 local var will access here,local ti funcAdd\n",
    "f(10,20)#a,b"
   ]
  },
  {
   "cell_type": "code",
   "execution_count": null,
   "id": "c35ae552-589c-4a9e-93e0-82fb0a3bc3bf",
   "metadata": {},
   "outputs": [],
   "source": [
    "# understanding non-local scope\n",
    "P=10  # global\n",
    "\n",
    "def getFunction(choice):\n",
    "    P=2 #local to getFunction ->this is called non local variable\n",
    "    def funcAdd(a,b):\n",
    "        P=5\n",
    "        return (a+b) * P\n",
    "    def funcSub(a,b):\n",
    "        P=5\n",
    "        return (a-b)*P\n",
    "    return funcAdd if choice ==1 else funcSub#ternary operator -> ?: statement"
   ]
  },
  {
   "cell_type": "code",
   "execution_count": 62,
   "id": "f49ea6d3-427f-4e7b-b4fd-16d4c44c64bd",
   "metadata": {},
   "outputs": [
    {
     "data": {
      "text/plain": [
       "150"
      ]
     },
     "execution_count": 62,
     "metadata": {},
     "output_type": "execute_result"
    }
   ],
   "source": [
    "f= getFunction(1)  #uses funAdd and P=5 local var will access here,local to funcAdd\n",
    "f(10,20)#a,b"
   ]
  },
  {
   "cell_type": "code",
   "execution_count": 64,
   "id": "26bf5f87-121f-43ef-999a-a02fde7c86b6",
   "metadata": {},
   "outputs": [],
   "source": [
    "# understanding non-local scope\n",
    "P=10  # global\n",
    "\n",
    "def getFunction(choice):\n",
    "    P=2 #local to getFunction ->this is called non local variable\n",
    "    def funcAdd(a,b):#remove local var P=5\n",
    "        return (a+b) * P\n",
    "    def funcSub(a,b):\n",
    "        P=5\n",
    "        return (a-b)*P\n",
    "    return funcAdd if choice ==1 else funcSub#ternary operator -> ?: statement"
   ]
  },
  {
   "cell_type": "code",
   "execution_count": 65,
   "id": "c6c1f8dd-456f-4f73-bf27-7f1d46ef8e25",
   "metadata": {},
   "outputs": [
    {
     "data": {
      "text/plain": [
       "60"
      ]
     },
     "execution_count": 65,
     "metadata": {},
     "output_type": "execute_result"
    }
   ],
   "source": [
    "f= getFunction(1)  #uses funAdd and P=2 Non local var will access here  ..non-local to funcAdd.\n",
    "f(10,20)#a,b"
   ]
  },
  {
   "cell_type": "code",
   "execution_count": 69,
   "id": "36e515ce-8a6e-4f1c-8d51-4f328b560b6e",
   "metadata": {},
   "outputs": [],
   "source": [
    "# understanding non-local scope\n",
    "P=10  # global\n",
    "\n",
    "def getFunction(choice):\n",
    "    P=2  #non local variable\n",
    "    def funcAdd(a,b):#remove local var P=5\n",
    "        global P  #access P=10 ->outside func Var ->called global P.\n",
    "        return (a+b) * P\n",
    "    def funcSub(a,b):\n",
    "        nonlocal P   #access P=2 ->inside the getFunction var ->called non local var\n",
    "        return (a-b)*P\n",
    "    return funcAdd if choice ==1 else funcSub#ternary operator -> ?: statement"
   ]
  },
  {
   "cell_type": "code",
   "execution_count": 70,
   "id": "35bae574-07fc-49d1-8b15-96e536f623d9",
   "metadata": {},
   "outputs": [
    {
     "data": {
      "text/plain": [
       "300"
      ]
     },
     "execution_count": 70,
     "metadata": {},
     "output_type": "execute_result"
    }
   ],
   "source": [
    "f= getFunction(1)  #uses funAdd and P=10 global to funAdd.\n",
    "f(10,20)   #a,b"
   ]
  },
  {
   "cell_type": "markdown",
   "id": "fe61033f-673b-4389-8e1d-9251595bc3c9",
   "metadata": {},
   "source": [
    "#guidline: Reduce the global variables"
   ]
  },
  {
   "cell_type": "markdown",
   "id": "9d34e971-2002-42c6-86b9-106dbfdc8458",
   "metadata": {},
   "source": [
    "# 10.3 Required Arguments"
   ]
  },
  {
   "cell_type": "code",
   "execution_count": 76,
   "id": "8deab4e0-32aa-43e2-9246-b1043c758e6e",
   "metadata": {},
   "outputs": [],
   "source": [
    "# fucntion definition\n",
    "def avg(n1,n2,n3):\n",
    "    return (n1+n2+n3)/3"
   ]
  },
  {
   "cell_type": "code",
   "execution_count": 77,
   "id": "eee6a8df-c3d8-4bd9-ad41-0fff8039b425",
   "metadata": {},
   "outputs": [
    {
     "ename": "TypeError",
     "evalue": "avg() missing 1 required positional argument: 'n3'",
     "output_type": "error",
     "traceback": [
      "\u001b[1;31m---------------------------------------------------------------------------\u001b[0m",
      "\u001b[1;31mTypeError\u001b[0m                                 Traceback (most recent call last)",
      "Cell \u001b[1;32mIn[77], line 2\u001b[0m\n\u001b[0;32m      1\u001b[0m \u001b[38;5;66;03m#funcyioon call\u001b[39;00m\n\u001b[1;32m----> 2\u001b[0m avg(\u001b[38;5;241m1\u001b[39m,\u001b[38;5;241m2\u001b[39m)\n",
      "\u001b[1;31mTypeError\u001b[0m: avg() missing 1 required positional argument: 'n3'"
     ]
    }
   ],
   "source": [
    "#funcyioon call\n",
    "avg(1,2)"
   ]
  },
  {
   "cell_type": "markdown",
   "id": "05fa473a-9637-4514-93a7-2419eb10f0eb",
   "metadata": {},
   "source": [
    "#During the function call match the number of arguments to the number of arguments in function definition"
   ]
  },
  {
   "cell_type": "code",
   "execution_count": 78,
   "id": "25d4faa2-e888-4ce0-b231-a0b966786916",
   "metadata": {},
   "outputs": [],
   "source": [
    "def msg(n1,n2,n3):\n",
    "    print(n1)\n",
    "    print(n2)\n",
    "    print(n3)"
   ]
  },
  {
   "cell_type": "code",
   "execution_count": 79,
   "id": "838f02ee-d50f-4a87-89c3-85fdaa21c9fd",
   "metadata": {},
   "outputs": [
    {
     "name": "stdout",
     "output_type": "stream",
     "text": [
      "Anil\n",
      "Haseena\n",
      "Sunil\n"
     ]
    }
   ],
   "source": [
    "msg(\"Anil\",\"Haseena\",\"Sunil\")"
   ]
  },
  {
   "cell_type": "code",
   "execution_count": 81,
   "id": "db664b82-5a3f-42ea-aed3-7312a46cc435",
   "metadata": {},
   "outputs": [
    {
     "name": "stdout",
     "output_type": "stream",
     "text": [
      "Anil\n",
      "Sunil\n",
      "Haseena\n"
     ]
    }
   ],
   "source": [
    "msg(\"Anil\",\"Sunil\",\"Haseena\")  #order can changeable"
   ]
  },
  {
   "cell_type": "markdown",
   "id": "9ce4b69b-c13b-41a0-beca-55ca3d867079",
   "metadata": {},
   "source": [
    "#during the function call the order should maintained exactly as in the function definition."
   ]
  },
  {
   "cell_type": "markdown",
   "id": "2f8e397c-acfe-445d-a789-b860ef37492b",
   "metadata": {},
   "source": [
    "# 10.4 Arbitrary Arguments"
   ]
  },
  {
   "cell_type": "markdown",
   "id": "f493e588-058d-4ac4-98ec-67ced342394a",
   "metadata": {},
   "source": [
    "any number/diffrenet numbers we can able to pass it-using *. is called arbitray arguments"
   ]
  },
  {
   "cell_type": "markdown",
   "id": "5fb204fb-6922-4dbd-b19f-df0efddc22f1",
   "metadata": {},
   "source": [
    "#you cannot write avg () for different number of arguments, can a single avg() handle arbitrary(* var) number of arguments"
   ]
  },
  {
   "cell_type": "code",
   "execution_count": 82,
   "id": "b3d22edf-a50f-49d7-95e1-3d8a5f99af0e",
   "metadata": {},
   "outputs": [],
   "source": [
    "def avg(*n):  #unzipping the var * means.-so the whole bench of arguments has tuple \n",
    "    print(n)\n",
    "    return sum(n)/len(n)"
   ]
  },
  {
   "cell_type": "code",
   "execution_count": 83,
   "id": "74a6c631-8955-46c3-9eb8-015f1e21de4b",
   "metadata": {},
   "outputs": [
    {
     "name": "stdout",
     "output_type": "stream",
     "text": [
      "(1,)\n"
     ]
    },
    {
     "data": {
      "text/plain": [
       "1.0"
      ]
     },
     "execution_count": 83,
     "metadata": {},
     "output_type": "execute_result"
    }
   ],
   "source": [
    "avg(1)"
   ]
  },
  {
   "cell_type": "code",
   "execution_count": null,
   "id": "ce55dc73-ce95-458a-868e-9e5502804dfb",
   "metadata": {},
   "outputs": [],
   "source": [
    "#in the form of tuple-outcome"
   ]
  },
  {
   "cell_type": "code",
   "execution_count": 84,
   "id": "d0ada566-a956-4521-95ba-056c33e66861",
   "metadata": {},
   "outputs": [
    {
     "name": "stdout",
     "output_type": "stream",
     "text": [
      "(1, 2)\n"
     ]
    },
    {
     "data": {
      "text/plain": [
       "1.5"
      ]
     },
     "execution_count": 84,
     "metadata": {},
     "output_type": "execute_result"
    }
   ],
   "source": [
    "avg(1,2)"
   ]
  },
  {
   "cell_type": "code",
   "execution_count": 85,
   "id": "27122f67-9e35-4eb2-a68e-6f28e8a11eca",
   "metadata": {},
   "outputs": [
    {
     "name": "stdout",
     "output_type": "stream",
     "text": [
      "(1, 2, 3, 4)\n"
     ]
    },
    {
     "data": {
      "text/plain": [
       "2.5"
      ]
     },
     "execution_count": 85,
     "metadata": {},
     "output_type": "execute_result"
    }
   ],
   "source": [
    "avg(1,2,3,4)"
   ]
  },
  {
   "cell_type": "code",
   "execution_count": 86,
   "id": "73212fcf-1916-4f2f-afe4-ad6cf8e059d3",
   "metadata": {},
   "outputs": [],
   "source": [
    "p=[34, 56, 67, 43]"
   ]
  },
  {
   "cell_type": "code",
   "execution_count": 91,
   "id": "a7c0bdc6-193d-4399-afd9-b6b6508eb47e",
   "metadata": {},
   "outputs": [],
   "source": [
    "p.sort()"
   ]
  },
  {
   "cell_type": "code",
   "execution_count": 92,
   "id": "0425960a-1846-4cdc-bc74-86772f95eb06",
   "metadata": {},
   "outputs": [
    {
     "data": {
      "text/plain": [
       "[34, 43, 56, 67]"
      ]
     },
     "execution_count": 92,
     "metadata": {},
     "output_type": "execute_result"
    }
   ],
   "source": [
    "p"
   ]
  },
  {
   "cell_type": "code",
   "execution_count": 93,
   "id": "892c9a2b-b332-4fd3-b61b-32e98c858919",
   "metadata": {},
   "outputs": [
    {
     "data": {
      "text/plain": [
       "56"
      ]
     },
     "execution_count": 93,
     "metadata": {},
     "output_type": "execute_result"
    }
   ],
   "source": [
    "p[-2]"
   ]
  },
  {
   "cell_type": "markdown",
   "id": "7994bbe0-83c7-4c37-895a-ba6579ce6c2d",
   "metadata": {},
   "source": [
    "# Assignment"
   ]
  },
  {
   "cell_type": "code",
   "execution_count": null,
   "id": "17d7ec6c-c5f5-4b0d-83c9-4e684ce8ed51",
   "metadata": {},
   "outputs": [],
   "source": [
    "''' Write a function to return the time required to double the invested amount and given rate of \n",
    "   interest'''"
   ]
  },
  {
   "cell_type": "code",
   "execution_count": 118,
   "id": "c36d95b0-3c6e-4b60-8d0a-d98919ea2c84",
   "metadata": {},
   "outputs": [
    {
     "name": "stdin",
     "output_type": "stream",
     "text": [
      "Enter the rate of interest: 6\n"
     ]
    },
    {
     "name": "stdout",
     "output_type": "stream",
     "text": [
      "Time required: 12.0\n"
     ]
    }
   ],
   "source": [
    "def  timeRequired(interest):\n",
    "    return 72/interest\n",
    "\n",
    "r=float(input(\"Enter the rate of interest:\"))\n",
    "print(\"Time required:\",timeRequired(r))"
   ]
  },
  {
   "cell_type": "code",
   "execution_count": 128,
   "id": "a3d43243-987f-472a-b293-2f9cf6219936",
   "metadata": {},
   "outputs": [
    {
     "data": {
      "text/plain": [
       "12"
      ]
     },
     "execution_count": 128,
     "metadata": {},
     "output_type": "execute_result"
    }
   ],
   "source": [
    "def getTime2Double(principal,rate): #interest should be equal to principal\n",
    "    amount=principal\n",
    "    years=0\n",
    "    while amount<principal *2:\n",
    "        interestAmount =amount *(rate/100)\n",
    "        amount=amount+interestAmount\n",
    "        years+=1\n",
    "    return years\n",
    "getTime2Double(100000,6.5) "
   ]
  },
  {
   "cell_type": "code",
   "execution_count": null,
   "id": "c13ed3bc-b5f5-4ae2-af9f-b9bc45d78ded",
   "metadata": {},
   "outputs": [],
   "source": [
    "''' Write a function to find the second largest number in the list\n",
    "   Example: Input <- [34, 56, 67, 43]\n",
    "            Outupt -> 56'''"
   ]
  },
  {
   "cell_type": "code",
   "execution_count": 141,
   "id": "6b0c4021-2623-415e-9f1f-c1362735d657",
   "metadata": {},
   "outputs": [
    {
     "name": "stdout",
     "output_type": "stream",
     "text": [
      "The second largest number is: 56\n"
     ]
    }
   ],
   "source": [
    "def find_second_largest(n):\n",
    "    unique_numbers = list(set(n))\n",
    "    unique_numbers.sort()\n",
    "    return unique_numbers[-2]\n",
    "\n",
    "list1 = [34, 56, 67, 43]\n",
    "output = find_second_largest(list1)\n",
    "print(\"The second largest number is:\", output)"
   ]
  },
  {
   "cell_type": "code",
   "execution_count": null,
   "id": "6f5159fd-368e-4f1c-8c77-476bd3a8efd9",
   "metadata": {},
   "outputs": [],
   "source": [
    "'''Write a function to print character pyramid\n",
    "   Example: genPyramic(3, '*')\n",
    "                 *\n",
    "                ***\n",
    "               *****   '''"
   ]
  },
  {
   "cell_type": "code",
   "execution_count": 142,
   "id": "2821b408-f2cd-43c6-822c-207c0e0db1f7",
   "metadata": {},
   "outputs": [
    {
     "name": "stdout",
     "output_type": "stream",
     "text": [
      "  *\n",
      " ***\n",
      "*****\n"
     ]
    }
   ],
   "source": [
    "def pyramid(n):\n",
    "    for i in range(1, n + 1):\n",
    "        for j in range(n - i):\n",
    "            print(\" \", end=\"\")\n",
    "        for x in range(1, 2*i):\n",
    "            print(\"*\", end=\"\")\n",
    "        print()\n",
    "pyramid(3)"
   ]
  },
  {
   "cell_type": "code",
   "execution_count": 113,
   "id": "f3941f60-e2b6-408e-97b6-f98e301ba218",
   "metadata": {},
   "outputs": [
    {
     "name": "stdout",
     "output_type": "stream",
     "text": [
      "  *\n",
      " ***\n",
      "*****\n"
     ]
    }
   ],
   "source": [
    "#solution 1\n",
    "def genPyramid(n, char):\n",
    "    for i in range(n):\n",
    "        for j in range(n - i - 1):\n",
    "            print(' ', end='')\n",
    "        for k in range(2 * i + 1):\n",
    "            print(char, end='')\n",
    "        print()\n",
    "\n",
    "genPyramid(3, '*')"
   ]
  },
  {
   "cell_type": "code",
   "execution_count": 111,
   "id": "1709c22f-3253-4779-bbb3-761742c61d9c",
   "metadata": {},
   "outputs": [
    {
     "name": "stdout",
     "output_type": "stream",
     "text": [
      "0\n",
      "1\n",
      "2\n"
     ]
    }
   ],
   "source": [
    "for i in range(3):\n",
    "    print(i)"
   ]
  },
  {
   "cell_type": "code",
   "execution_count": null,
   "id": "eb2bedd5-eb48-454e-bf68-7c8cabc41074",
   "metadata": {},
   "outputs": [],
   "source": [
    "''' '''Write a function to print character pyramid\n",
    "   Example: genPyramic(3, '*')\n",
    "                 *\n",
    "                ***\n",
    "               *****   '''"
   ]
  },
  {
   "cell_type": "code",
   "execution_count": 143,
   "id": "a5b5f479-b553-4102-ad16-24fe4bbf1fec",
   "metadata": {},
   "outputs": [
    {
     "name": "stdout",
     "output_type": "stream",
     "text": [
      "  *\n",
      " ***\n",
      "*****\n"
     ]
    }
   ],
   "source": [
    "def genPyramid(n, char):\n",
    "    for i in range(n):  # i=0,1,2 The variable i will take values from 0 to n-1, representing the current row number\n",
    "        for j in range(n - i - 1):  #j=2,1,0 This nested loop prints the leading spaces for each row. The number of spaces decreases as i increases. n - i - 1 calculates the number of spaces needed for the current row. print(' ', end='')\n",
    "            print(' ', end='')\n",
    "        for k in range(2 * i + 1):  #i=0 ->k=1,i=1 ->k=3, i=2->k=5\n",
    "            print(char, end='')\n",
    "        print()\n",
    "\n",
    "genPyramid(3, '*')"
   ]
  },
  {
   "cell_type": "code",
   "execution_count": 144,
   "id": "c42d34fb-f15c-4a32-93ab-fca6fb8ccf4c",
   "metadata": {},
   "outputs": [
    {
     "name": "stdout",
     "output_type": "stream",
     "text": [
      "  *\n",
      " ***\n",
      "*****\n"
     ]
    }
   ],
   "source": [
    "def genPyramid(n, char):\n",
    "    for i in range(n):\n",
    "        print(\" \" * (n - i - 1) + char * (2 * i + 1))\n",
    " \n",
    "genPyramid(3, '*')"
   ]
  },
  {
   "cell_type": "markdown",
   "id": "4bd82fee-8265-49d9-8845-1445dd19fa45",
   "metadata": {},
   "source": [
    "# Reference "
   ]
  },
  {
   "cell_type": "code",
   "execution_count": 145,
   "id": "3e7c61aa-cb3f-4b11-ab63-de475e9fa60e",
   "metadata": {},
   "outputs": [],
   "source": [
    "def change(L):\n",
    "    L=list('python')\n",
    "    return L"
   ]
  },
  {
   "cell_type": "code",
   "execution_count": 126,
   "id": "6a04b078-d28b-40db-bc48-c90efb1e799b",
   "metadata": {},
   "outputs": [
    {
     "data": {
      "text/plain": [
       "['p', 'e', 'r', 'l']"
      ]
     },
     "execution_count": 126,
     "metadata": {},
     "output_type": "execute_result"
    }
   ],
   "source": [
    "s=list('perl')\n",
    "s"
   ]
  },
  {
   "cell_type": "code",
   "execution_count": 146,
   "id": "e9596f47-1524-48cf-8169-e598f8947934",
   "metadata": {},
   "outputs": [
    {
     "data": {
      "text/plain": [
       "['p', 'y', 't', 'h', 'o', 'n']"
      ]
     },
     "execution_count": 146,
     "metadata": {},
     "output_type": "execute_result"
    }
   ],
   "source": [
    "change(s)  #global l, reference go to that value "
   ]
  },
  {
   "cell_type": "code",
   "execution_count": 133,
   "id": "2dd2a830-17dc-49d4-af1a-a923e8ccbe30",
   "metadata": {},
   "outputs": [],
   "source": [
    "def change(L):\n",
    "    return list(L)"
   ]
  },
  {
   "cell_type": "code",
   "execution_count": 134,
   "id": "df33e4b7-04f7-44fb-80bd-6d12c9e139f6",
   "metadata": {},
   "outputs": [
    {
     "data": {
      "text/plain": [
       "['p', 'e', 'r', 'l']"
      ]
     },
     "execution_count": 134,
     "metadata": {},
     "output_type": "execute_result"
    }
   ],
   "source": [
    "change('perl')"
   ]
  },
  {
   "cell_type": "code",
   "execution_count": null,
   "id": "f3112dc7-6b1b-42de-9672-9e57d85dd492",
   "metadata": {},
   "outputs": [],
   "source": [
    "#The reference of the variable is passed into the function as the argument, not the value"
   ]
  },
  {
   "cell_type": "code",
   "execution_count": 149,
   "id": "6d5023f9-4e40-4e96-a6a1-b77172c8f084",
   "metadata": {},
   "outputs": [],
   "source": [
    "def change(l):  #reference of s is coming here.'perl'\n",
    "    l.append(list('python'))\n",
    "    return l"
   ]
  },
  {
   "cell_type": "code",
   "execution_count": 150,
   "id": "1e2932ad-436a-4653-a570-2693a73ed1d5",
   "metadata": {},
   "outputs": [
    {
     "data": {
      "text/plain": [
       "['p', 'e', 'r', 'l']"
      ]
     },
     "execution_count": 150,
     "metadata": {},
     "output_type": "execute_result"
    }
   ],
   "source": [
    "s=list('perl')\n",
    "s"
   ]
  },
  {
   "cell_type": "code",
   "execution_count": 151,
   "id": "9711ace5-0e22-451d-962d-b01dce204950",
   "metadata": {},
   "outputs": [
    {
     "data": {
      "text/plain": [
       "['p', 'e', 'r', 'l', ['p', 'y', 't', 'h', 'o', 'n']]"
      ]
     },
     "execution_count": 151,
     "metadata": {},
     "output_type": "execute_result"
    }
   ],
   "source": [
    "change(s)   #python- if we append a sublist in to  a list-> overriding the sublist into that list."
   ]
  },
  {
   "cell_type": "code",
   "execution_count": 147,
   "id": "ccc384bc-ef45-4c97-8107-7f94b0bc27f6",
   "metadata": {},
   "outputs": [],
   "source": [
    "#reassigning a new var to list()"
   ]
  },
  {
   "cell_type": "code",
   "execution_count": 152,
   "id": "f6deb71a-ebe6-40e3-8d6f-6bc53d6d5033",
   "metadata": {},
   "outputs": [],
   "source": [
    "def swaptwo(a,b):\n",
    "    temp=a\n",
    "    a=b\n",
    "    b=temp\n",
    "    return a,b"
   ]
  },
  {
   "cell_type": "code",
   "execution_count": 153,
   "id": "6cdf0ac6-0cc0-4f9f-8d37-8ba9f8dccf44",
   "metadata": {},
   "outputs": [
    {
     "data": {
      "text/plain": [
       "(20, 10)"
      ]
     },
     "execution_count": 153,
     "metadata": {},
     "output_type": "execute_result"
    }
   ],
   "source": [
    "swaptwo(10,20)"
   ]
  },
  {
   "cell_type": "code",
   "execution_count": 162,
   "id": "1f67ed73-3208-484a-9a1f-965250746167",
   "metadata": {},
   "outputs": [],
   "source": [
    "def swaptwo(a,b):  \n",
    "    print(\"In function\",a,b)\n",
    "    temp=a\n",
    "    a=b\n",
    "    b=temp\n",
    "    print(\"In function\",a,b)\n",
    "    return #automatically it will execute and swapped."
   ]
  },
  {
   "cell_type": "code",
   "execution_count": 160,
   "id": "0e05a5ba-4893-4d8f-87d6-1a8cdf406fc4",
   "metadata": {},
   "outputs": [
    {
     "name": "stdout",
     "output_type": "stream",
     "text": [
      "In function 10 20\n",
      "In function 20 10\n"
     ]
    }
   ],
   "source": [
    "a=10\n",
    "b=20\n",
    "swaptwo(a,b)"
   ]
  },
  {
   "cell_type": "code",
   "execution_count": 163,
   "id": "1bbe5538-b53d-4288-bc7e-17563bc93d52",
   "metadata": {},
   "outputs": [],
   "source": [
    "def swaptwo(a,b): \n",
    "    temp=a\n",
    "    a=b\n",
    "    b=temp\n",
    "    return"
   ]
  },
  {
   "cell_type": "code",
   "execution_count": 170,
   "id": "342e2896-7d4d-4e7f-988e-7c7de05e67e0",
   "metadata": {},
   "outputs": [],
   "source": [
    "d=swaptwo(10,20)  #we cannot get outcome no return. inside function only we need to return those values ,then we can get or see the result in putput.\n",
    "d"
   ]
  },
  {
   "cell_type": "markdown",
   "id": "6fbb6869-2335-4417-865f-dcaf19dbba9f",
   "metadata": {},
   "source": [
    "# Default arguments"
   ]
  },
  {
   "cell_type": "code",
   "execution_count": 166,
   "id": "1331f82e-071c-4496-bb98-874e680b3e7b",
   "metadata": {},
   "outputs": [],
   "source": [
    "def printinfo(name,age):\n",
    "    print(f\"the name is{name} and age is {age}\") "
   ]
  },
  {
   "cell_type": "code",
   "execution_count": 177,
   "id": "59bd333e-3e6e-472f-bc7e-7c6950f25d98",
   "metadata": {},
   "outputs": [
    {
     "name": "stdout",
     "output_type": "stream",
     "text": [
      "the name is Anil and age is 43\n"
     ]
    }
   ],
   "source": [
    "printinfo(\" Anil\",43)"
   ]
  },
  {
   "cell_type": "code",
   "execution_count": 176,
   "id": "44dd12a6-6ea9-4f75-9499-57d607e9a93a",
   "metadata": {},
   "outputs": [
    {
     "name": "stdout",
     "output_type": "stream",
     "text": [
      "the name is Anil and age is 0\n"
     ]
    }
   ],
   "source": [
    "printinfo(\" Anil\")"
   ]
  },
  {
   "cell_type": "code",
   "execution_count": 173,
   "id": "26581c31-e20d-4067-9a01-fa2cf2897d95",
   "metadata": {},
   "outputs": [],
   "source": [
    "def printinfo(name,age=0):\n",
    "    print(f\"the name is{name} and age is {age}\") "
   ]
  },
  {
   "cell_type": "code",
   "execution_count": 175,
   "id": "01172bc0-3a58-4c8c-bbed-723dbba514eb",
   "metadata": {},
   "outputs": [
    {
     "name": "stdout",
     "output_type": "stream",
     "text": [
      "the name is Anil and age is 0\n"
     ]
    }
   ],
   "source": [
    "printinfo(\" Anil\")"
   ]
  },
  {
   "cell_type": "markdown",
   "id": "e11bbcfe-6c9b-40a5-b84c-595a223e70ec",
   "metadata": {},
   "source": [
    "# KEYWORD ARGUMENTS"
   ]
  },
  {
   "cell_type": "code",
   "execution_count": 180,
   "id": "1a767cb7-dabf-4ba8-9eb9-909e6237b3c3",
   "metadata": {},
   "outputs": [
    {
     "name": "stdout",
     "output_type": "stream",
     "text": [
      "the name is34 and age is  Anil\n"
     ]
    }
   ],
   "source": [
    "printinfo(34,\" Anil\")  #wrongly print it ."
   ]
  },
  {
   "cell_type": "code",
   "execution_count": 179,
   "id": "a45dfc59-ecd6-42e5-b6fb-6356ca80453d",
   "metadata": {},
   "outputs": [
    {
     "name": "stdout",
     "output_type": "stream",
     "text": [
      "the name is Anil and age is 34\n"
     ]
    }
   ],
   "source": [
    "printinfo(age= 34,name= \" Anil\")  #provide correct key value to argument name. "
   ]
  },
  {
   "cell_type": "markdown",
   "id": "ce2272b1-6472-4ca3-8753-fb768470f91d",
   "metadata": {},
   "source": [
    "# The above will work even when there is a change in the order of the arguments."
   ]
  },
  {
   "cell_type": "code",
   "execution_count": null,
   "id": "176fb461-7921-4dcc-8a4a-a7f694bdb1f9",
   "metadata": {},
   "outputs": [],
   "source": [
    "GUIDELINE:Always use key-word arguments while calling a function"
   ]
  },
  {
   "cell_type": "markdown",
   "id": "3bdd5765-565f-4b08-9336-53a6e19fe19e",
   "metadata": {},
   "source": [
    "# Variable length arguments"
   ]
  },
  {
   "cell_type": "code",
   "execution_count": 188,
   "id": "b0c1ea20-1f35-4e0d-979f-4ef5e14aebfc",
   "metadata": {},
   "outputs": [],
   "source": [
    "def fun(a,b,c,*targs,**kargs):\n",
    "    print(a,b,c) # required arguments, regular arguments\n",
    "    print(targs)  #single * -> tuple arguments( ,, )\n",
    "    print(kargs)  #keyword arguments ->key value pair in { ,}."
   ]
  },
  {
   "cell_type": "code",
   "execution_count": 186,
   "id": "4fda9ef5-f648-42fb-9c7a-c0b8e6522c02",
   "metadata": {},
   "outputs": [
    {
     "name": "stdout",
     "output_type": "stream",
     "text": [
      "10 20 30\n",
      "(40, 50)\n",
      "{'name': 'Anil', 'age': 34}\n"
     ]
    }
   ],
   "source": [
    "fun(10,20,30,40,50,name='Anil',age=34)"
   ]
  },
  {
   "cell_type": "code",
   "execution_count": 187,
   "id": "0487bb20-aa6e-48bc-9b9f-e41c0ed2b39a",
   "metadata": {},
   "outputs": [
    {
     "name": "stdout",
     "output_type": "stream",
     "text": [
      "10 20 30\n",
      "()\n",
      "{}\n"
     ]
    }
   ],
   "source": [
    "fun(10,20,30)"
   ]
  },
  {
   "cell_type": "code",
   "execution_count": null,
   "id": "d275b4e6-636e-4210-bddc-30381ddfae1a",
   "metadata": {},
   "outputs": [],
   "source": [
    "# not specify how many argumemnts going to pass. "
   ]
  },
  {
   "cell_type": "code",
   "execution_count": null,
   "id": "3442a937-3e12-4c39-bcdc-466f6057c1e7",
   "metadata": {},
   "outputs": [],
   "source": [
    "#the order in which you write the arguments should be required , targs and then kargs\n",
    "#first only we can print 1)regular, 2)targs, then 3) kargs.... into a fucntion definition and call."
   ]
  },
  {
   "cell_type": "code",
   "execution_count": 189,
   "id": "c2cf2a45-ad64-4fbd-aa41-c930914aba4e",
   "metadata": {},
   "outputs": [],
   "source": [
    "def fun(a,b,c=5,*targs,**kargs):\n",
    "    print(a,b,c) # required arguments, regular arguments\n",
    "    print(targs)  #single * -> tuple arguments( ,, )\n",
    "    print(kargs)  #keyword arguments ->key value pair in { ,}."
   ]
  },
  {
   "cell_type": "code",
   "execution_count": 190,
   "id": "3dbf93f7-765f-48fa-a7a4-b2f221b7a3d3",
   "metadata": {},
   "outputs": [
    {
     "name": "stdout",
     "output_type": "stream",
     "text": [
      "10 20 30\n",
      "(40, 50)\n",
      "{'name': 'Anil', 'age': 34}\n"
     ]
    }
   ],
   "source": [
    "fun(10,20,30,40,50,name='Anil',age=34)"
   ]
  },
  {
   "cell_type": "markdown",
   "id": "c023129a-d7e4-46a5-90f9-b5647fc1847e",
   "metadata": {},
   "source": [
    "# Nested functions "
   ]
  },
  {
   "cell_type": "code",
   "execution_count": 195,
   "id": "1640fbce-5e87-4cf0-a352-575e146c2aed",
   "metadata": {},
   "outputs": [],
   "source": [
    "# understanding non-local scope\n",
    "P=10  # global\n",
    "\n",
    "def getFunction(choice):\n",
    "    P=2  #non local variable\n",
    "    def funcAdd(a,b):#remove local var P=5\n",
    "        global P  #access P=10 ->outside func Var ->called global P.\n",
    "        return (a+b) * P\n",
    "    def funcSub(a,b):\n",
    "        nonlocal P   #access P=2 ->inside the getFunction var ->called non local var\n",
    "        return (a-b)*P\n",
    "    return funcAdd if choice ==1 else funcSub#ternary operator -> ?: statement"
   ]
  },
  {
   "cell_type": "code",
   "execution_count": 198,
   "id": "de36952d-a168-4709-9fc0-9874a2ad5dff",
   "metadata": {},
   "outputs": [
    {
     "data": {
      "text/plain": [
       "300"
      ]
     },
     "execution_count": 198,
     "metadata": {},
     "output_type": "execute_result"
    }
   ],
   "source": [
    "f= getFunction(1)  #uses funAdd and P=10 global to funAdd.\n",
    "f(10,20)"
   ]
  },
  {
   "cell_type": "code",
   "execution_count": null,
   "id": "009789f3-d273-4edf-a5ef-baa32888ffff",
   "metadata": {},
   "outputs": [],
   "source": [
    "# Returning multiple values from the argu"
   ]
  },
  {
   "cell_type": "code",
   "execution_count": null,
   "id": "141dbc1f-bb72-4b19-8e71-88cb3600aa11",
   "metadata": {},
   "outputs": [],
   "source": [
    "''' Create a function authenticator(username, password) that returns another function, \n",
    "   which can be called to access a secure message only if the username and password match'''"
   ]
  },
  {
   "cell_type": "code",
   "execution_count": 269,
   "id": "0e2e6169-f056-49c6-9e99-5aa8dd3ab7e1",
   "metadata": {},
   "outputs": [],
   "source": [
    "def authenticator(username,password):\n",
    "    correct_name='Admin'\n",
    "    correct_password ='secure123'\n",
    "    def secure_access_message():\n",
    "        if (username==correct_name) and (password==correct_password):\n",
    "            return \"Access granted, welcome to Secured systemm \\U00002705\"\n",
    "        else:\n",
    "            return \"Access Denied \\U0000274E\"\n",
    "\n",
    "    return secure_access_message"
   ]
  },
  {
   "cell_type": "code",
   "execution_count": 270,
   "id": "be308af5-8bb7-412e-becc-933ea098ebc2",
   "metadata": {},
   "outputs": [],
   "source": [
    "m=authenticator('Anil','1234')"
   ]
  },
  {
   "cell_type": "code",
   "execution_count": 271,
   "id": "a8e3c47d-d381-45ce-bc01-5420be32688c",
   "metadata": {},
   "outputs": [
    {
     "data": {
      "text/plain": [
       "'Access Denied ❎'"
      ]
     },
     "execution_count": 271,
     "metadata": {},
     "output_type": "execute_result"
    }
   ],
   "source": [
    "m()"
   ]
  },
  {
   "cell_type": "markdown",
   "id": "d7e128f4-7e42-4638-b4db-fb0a6c40b323",
   "metadata": {},
   "source": [
    "# Assignment"
   ]
  },
  {
   "cell_type": "code",
   "execution_count": null,
   "id": "307ac6dd-c7ca-4af6-9a0d-f3addea7f285",
   "metadata": {},
   "outputs": [],
   "source": [
    "''' Write a functions that returns the jumbled version of the words with spaces and capital letters\n",
    "   Example: Input <- jumble(\"apples\")\n",
    "            Output -> P P L A E S '''"
   ]
  },
  {
   "cell_type": "code",
   "execution_count": 205,
   "id": "020b16be-62cb-488f-8433-cac0941a7de7",
   "metadata": {},
   "outputs": [
    {
     "name": "stdout",
     "output_type": "stream",
     "text": [
      "S A L E P P\n"
     ]
    }
   ],
   "source": [
    "import random\n",
    "def jumble(word):\n",
    "    word = word.upper()\n",
    "    char_list = list(word)\n",
    "    random.shuffle(char_list)\n",
    "    \n",
    "    jumbled = ' '.join(char_list)\n",
    "    \n",
    "    return jumbled\n",
    "    \n",
    "print(jumble(\"apples\"))  "
   ]
  },
  {
   "cell_type": "code",
   "execution_count": null,
   "id": "dceac3ad-83c5-421f-a95f-8b21bbf8d7ac",
   "metadata": {},
   "outputs": [],
   "source": [
    "''' Write a function to determine if a number is a fibonacci number\n",
    "   Example: Input <- 8\n",
    "            OUtput -> 8 is in the fibonacci range'''"
   ]
  },
  {
   "cell_type": "code",
   "execution_count": 213,
   "id": "508a3625-6346-41aa-ab1d-ab8796cb089b",
   "metadata": {},
   "outputs": [
    {
     "name": "stdout",
     "output_type": "stream",
     "text": [
      "8 is in the Fibonacci series\n"
     ]
    }
   ],
   "source": [
    "def fibonacci(num):\n",
    "    def is_perfectsq(x):\n",
    "        s=int(x**0.5)\n",
    "        return s*s==x\n",
    "    if is_perfectsq(5*num*num+ 4) or is_perfectsq(5*num*num - 4):\n",
    "            return f\"{num} is in the Fibonacci series\"\n",
    "    else:\n",
    "            return f\"{num} is not in the Fibonacci series\"\n",
    "print(fibonacci(8))\n",
    "\n",
    "    "
   ]
  },
  {
   "cell_type": "code",
   "execution_count": 212,
   "id": "3e5f6c8b-6e35-477f-b03b-4c0069346ecd",
   "metadata": {},
   "outputs": [
    {
     "name": "stdout",
     "output_type": "stream",
     "text": [
      "8 is in the Fibonacci series\n"
     ]
    }
   ],
   "source": [
    "def fibonacci(n):\n",
    "    a, b = 0, 1\n",
    "    while b < n:\n",
    "        a, b = b, a + b\n",
    "\n",
    "    if b == n or n == 0:\n",
    "        return f\"{n} is in the Fibonacci series\"\n",
    "    else:\n",
    "        return f\"{n} is not in the Fibonacci series\"\n",
    "\n",
    "print(fibonacci(8))  "
   ]
  },
  {
   "cell_type": "code",
   "execution_count": null,
   "id": "b91f5f98-3f95-4c29-98ee-2b2738af8f62",
   "metadata": {},
   "outputs": [],
   "source": [
    "''' Write a python function to merge two dictionaries\n",
    "   Example: d1 = { 'a': 20, 'b': 30 }\n",
    "            d2 = { 'b': 40, 'c': 50 }\n",
    "            Output -> { 'a' : 20, 'b':70, 'c' : 50 }\n",
    "    Merge rules: Numbers -> add\n",
    "                 Strings -> concatenate'''"
   ]
  },
  {
   "cell_type": "code",
   "execution_count": 221,
   "id": "a6bee9ac-899d-46a1-83c1-bcffff7dbdd0",
   "metadata": {},
   "outputs": [
    {
     "name": "stdout",
     "output_type": "stream",
     "text": [
      "{'c': 50, 'b': 70, 'a': 20}\n"
     ]
    }
   ],
   "source": [
    "def merge_dicts(d1, d2):\n",
    "    merged_dict = {}\n",
    "    \n",
    "    # Get all unique keys from both dictionaries\n",
    "    all_keys = set(d1.keys()).union(set(d2.keys()))\n",
    "    for key in all_keys:\n",
    "        if key in d1 and key in d2:\n",
    "            # If the key exists in both dictionaries, merge according to the rules\n",
    "            if isinstance(d1[key], int) and isinstance(d2[key], int):\n",
    "                merged_dict[key] = d1[key] + d2[key]\n",
    "            elif isinstance(d1[key], str) and isinstance(d2[key], str):\n",
    "                merged_dict[key] = d1[key] + d2[key]\n",
    "            else:\n",
    "                # If the values are of different types, raise an error\n",
    "                raise ValueError(f\"Cannot merge values of different types for key '{key}'\")\n",
    "        elif key in d1:\n",
    "            # If the key exists only in d1\n",
    "            merged_dict[key] = d1[key]\n",
    "        elif key in d2:\n",
    "            # If the key exists only in d2\n",
    "            merged_dict[key] = d2[key]\n",
    "    \n",
    "    return merged_dict\n",
    "    \n",
    "d1 = { 'a': 20, 'b': 30 }\n",
    "d2 = { 'b': 40, 'c': 50 }\n",
    "print(merge_dicts(d1, d2))"
   ]
  },
  {
   "cell_type": "code",
   "execution_count": 216,
   "id": "42084951-4cbc-40e8-ab31-18e885281744",
   "metadata": {},
   "outputs": [
    {
     "name": "stdout",
     "output_type": "stream",
     "text": [
      "{'c', 'b', 'a'}\n"
     ]
    }
   ],
   "source": [
    "def merge_dicts(d1, d2):\n",
    "    merged_dict = {}\n",
    "    \n",
    "    # Get all unique keys from both dictionaries\n",
    "    all_keys = set(d1.keys()).union(set(d2.keys()))\n",
    "    return all_keys\n",
    "    \n",
    "d1 = { 'a': 20, 'b': 30 }\n",
    "d2 = { 'b': 40, 'c': 50 }\n",
    "print(merge_dicts(d1, d2))"
   ]
  },
  {
   "cell_type": "code",
   "execution_count": 222,
   "id": "423957aa-8cf2-47c5-8fa4-50db889e9852",
   "metadata": {},
   "outputs": [
    {
     "name": "stdout",
     "output_type": "stream",
     "text": [
      "{'a': 20, 'b': 70, 'c': 'Hello World', 'd': 50}\n"
     ]
    }
   ],
   "source": [
    "def merge(dict1, dict2):\n",
    "    d = dict1.copy()  # Make a copy of dict1 to avoid modifying it\n",
    "    for k, v in dict2.items():\n",
    "        if k in d:  # If key already exists in dict1\n",
    "            if isinstance(d[k], (int, float)) and isinstance(v, (int, float)):  # Add numbers\n",
    "                d[k] += v\n",
    "            elif isinstance(d[k], str) and isinstance(v, str):  # Concatenate strings\n",
    "                d[k] += v\n",
    "            else:  \n",
    "                d[k] = [d[k], v]  # Store as a list if types don't match\n",
    "        else:\n",
    "            d[k] = v  # Add new key-value pair\n",
    "    return d\n",
    " \n",
    "# Example Usage\n",
    "d1 = {'a': 20, 'b': 30, 'c': \"Hello\"}\n",
    "d2 = {'b': 40, 'c': \" World\", 'd': 50}\n",
    " \n",
    "print(merge(d1, d2))"
   ]
  },
  {
   "cell_type": "code",
   "execution_count": 223,
   "id": "0f40f2ca-ed28-4542-b222-0b9c1440d6b1",
   "metadata": {},
   "outputs": [
    {
     "name": "stdout",
     "output_type": "stream",
     "text": [
      "{'c': 50, 'b': 70, 'a': 20}\n"
     ]
    }
   ],
   "source": [
    "def merge_dicts(d1, d2):\n",
    "    merged_dict = {}\n",
    "    \n",
    "    for key in set(d1.keys()).union(d2.keys()):\n",
    "        if key in d1 and key in d2:\n",
    "            if isinstance(d1[key], int) and isinstance(d2[key], int):\n",
    "                merged_dict[key] = d1[key] + d2[key]\n",
    "            elif isinstance(d1[key], str) and isinstance(d2[key], str):\n",
    "                merged_dict[key] = d1[key] + d2[key]\n",
    "            else:\n",
    "                raise ValueError(f\"Cannot merge values of different types for key '{key}'\")\n",
    "        else:\n",
    "            merged_dict[key] = d1.get(key, d2.get(key))\n",
    "    \n",
    "    return merged_dict\n",
    "d1 = { 'a': 20, 'b': 30 }\n",
    "d2 = { 'b': 40, 'c': 50 }\n",
    "print(merge_dicts(d1, d2))"
   ]
  },
  {
   "cell_type": "code",
   "execution_count": 228,
   "id": "4fc74656-8344-4833-a53a-d48abda81c25",
   "metadata": {},
   "outputs": [
    {
     "name": "stdout",
     "output_type": "stream",
     "text": [
      "{'c': 50, 'd': 'hello python', 'b': 70, 'a': 60}\n"
     ]
    }
   ],
   "source": [
    "def merged_dict(d1,d2):\n",
    "    return {k: (d1.get(k, 0) + d2.get(k, 0) if isinstance(d1.get(k), int) else str(d1.get(k, '') + d2.get(k, '')))\n",
    "            for k in set(d1) | set(d2)}\n",
    " \n",
    "d1 = { 'a': 10, 'b': 30, 'd':'hello' }\n",
    "d2 = { 'b': 40, 'c': 50,'a':50,'d':' python' }\n",
    " \n",
    "print(merge_dicts(d1, d2))"
   ]
  },
  {
   "cell_type": "code",
   "execution_count": null,
   "id": "f66640b5-7e4e-4611-9668-e9ba565b545a",
   "metadata": {},
   "outputs": [],
   "source": [
    "''' set(d1.keys()): This creates a set of all the keys in dictionary d1.\n",
    "set(d2.keys()): This creates a set of all the keys in dictionary d2.\n",
    ".union(set(d2.keys())): This combines the two sets of keys from d1 and d2 into a single set containing all unique keys from both dictionaries.'''"
   ]
  },
  {
   "cell_type": "code",
   "execution_count": 235,
   "id": "9ac8291f-4aa4-41dc-bec6-dd69b5203282",
   "metadata": {},
   "outputs": [],
   "source": [
    "def mergedict(d1,d2):\n",
    "    for key,value in d1.items():\n",
    "        for key2,value2 in d2.items():\n",
    "            if key2 == key:\n",
    "                if (type(value2) == str):\n",
    "                    value = value + value2\n",
    "                elif (type(value2) == int):\n",
    "                    value = int(value) + int(value2)\n",
    "        else:\n",
    "            d1.update({key: value})"
   ]
  },
  {
   "cell_type": "code",
   "execution_count": 233,
   "id": "40e8a35a-f9cb-4a7f-b572-141a78769540",
   "metadata": {},
   "outputs": [
    {
     "ename": "AttributeError",
     "evalue": "'int' object has no attribute 'update'",
     "output_type": "error",
     "traceback": [
      "\u001b[1;31m---------------------------------------------------------------------------\u001b[0m",
      "\u001b[1;31mAttributeError\u001b[0m                            Traceback (most recent call last)",
      "Cell \u001b[1;32mIn[233], line 3\u001b[0m\n\u001b[0;32m      1\u001b[0m d1 \u001b[38;5;241m=\u001b[39m { \u001b[38;5;124m'\u001b[39m\u001b[38;5;124ma\u001b[39m\u001b[38;5;124m'\u001b[39m: \u001b[38;5;241m10\u001b[39m, \u001b[38;5;124m'\u001b[39m\u001b[38;5;124mb\u001b[39m\u001b[38;5;124m'\u001b[39m: \u001b[38;5;241m30\u001b[39m, \u001b[38;5;124m'\u001b[39m\u001b[38;5;124md\u001b[39m\u001b[38;5;124m'\u001b[39m:\u001b[38;5;124m'\u001b[39m\u001b[38;5;124mhello\u001b[39m\u001b[38;5;124m'\u001b[39m }\n\u001b[0;32m      2\u001b[0m d2 \u001b[38;5;241m=\u001b[39m { \u001b[38;5;124m'\u001b[39m\u001b[38;5;124mb\u001b[39m\u001b[38;5;124m'\u001b[39m: \u001b[38;5;241m40\u001b[39m, \u001b[38;5;124m'\u001b[39m\u001b[38;5;124mc\u001b[39m\u001b[38;5;124m'\u001b[39m: \u001b[38;5;241m50\u001b[39m,\u001b[38;5;124m'\u001b[39m\u001b[38;5;124ma\u001b[39m\u001b[38;5;124m'\u001b[39m:\u001b[38;5;241m50\u001b[39m,\u001b[38;5;124m'\u001b[39m\u001b[38;5;124md\u001b[39m\u001b[38;5;124m'\u001b[39m:\u001b[38;5;124m'\u001b[39m\u001b[38;5;124m python\u001b[39m\u001b[38;5;124m'\u001b[39m }\n\u001b[1;32m----> 3\u001b[0m \u001b[38;5;28mprint\u001b[39m(mergedict(d1,d2))\n",
      "Cell \u001b[1;32mIn[232], line 10\u001b[0m, in \u001b[0;36mmergedict\u001b[1;34m(d1, d2)\u001b[0m\n\u001b[0;32m      8\u001b[0m         value \u001b[38;5;241m=\u001b[39m \u001b[38;5;28mint\u001b[39m(value) \u001b[38;5;241m+\u001b[39m \u001b[38;5;28mint\u001b[39m(value2)\n\u001b[0;32m      9\u001b[0m \u001b[38;5;28;01melse\u001b[39;00m:\n\u001b[1;32m---> 10\u001b[0m     a\u001b[38;5;241m.\u001b[39mupdate({key: value})\n",
      "\u001b[1;31mAttributeError\u001b[0m: 'int' object has no attribute 'update'"
     ]
    }
   ],
   "source": [
    "d1 = { 'a': 10, 'b': 30, 'd':'hello' }\n",
    "d2 = { 'b': 40, 'c': 50,'a':50,'d':' python' }\n",
    "print(mergedict(d1,d2))"
   ]
  },
  {
   "cell_type": "markdown",
   "id": "07ec0056-589e-4c83-ad6d-1182e6433a1f",
   "metadata": {},
   "source": [
    "# Returning multiple values from the function"
   ]
  },
  {
   "cell_type": "code",
   "execution_count": null,
   "id": "3336dcdc-1e1e-4c36-bb03-0f36fb99697d",
   "metadata": {},
   "outputs": [],
   "source": [
    "'''  Write a function that takes a mix of numbers and categorizes them into positives, negatives, and zeros. \n",
    "   It should return the count of each category and their respective sums.'''"
   ]
  },
  {
   "cell_type": "code",
   "execution_count": null,
   "id": "99ad068f-2783-4ae3-ab66-dbcee13bce24",
   "metadata": {},
   "outputs": [],
   "source": [
    "L=[1,2,0,-1,-2]"
   ]
  },
  {
   "cell_type": "code",
   "execution_count": null,
   "id": "32c722e6-73e8-4d0b-980e-3ff709fde938",
   "metadata": {},
   "outputs": [],
   "source": [
    "{\"positive\":(2 positive values in the list ,its sum=3), \"negative\": (2 values, -3), zeros:(1,0)}"
   ]
  },
  {
   "cell_type": "code",
   "execution_count": 237,
   "id": "593836b8-7c08-4c15-8066-e50310d7b387",
   "metadata": {},
   "outputs": [],
   "source": [
    "N=[1,2]"
   ]
  },
  {
   "cell_type": "code",
   "execution_count": 238,
   "id": "b47f104d-c7cb-4bd5-ae0e-39dbe3e30da9",
   "metadata": {},
   "outputs": [
    {
     "data": {
      "text/plain": [
       "[1, 2]"
      ]
     },
     "execution_count": 238,
     "metadata": {},
     "output_type": "execute_result"
    }
   ],
   "source": [
    "[n for n in N if n>0]"
   ]
  },
  {
   "cell_type": "code",
   "execution_count": 251,
   "id": "ff35e5e5-da1c-4a65-8a86-2aad40c6f022",
   "metadata": {},
   "outputs": [],
   "source": [
    "def getCat(t):\n",
    "    positives =[n for n in N if n>0]\n",
    "    negatives= [n for n in N if n<0]\n",
    "    zeros= [n for n in N if n==0]\n",
    "    return {\"positives\": (len(positives),sum(positives)), \"negatives\":(len(negatives),sum(negatives)),\"zeros\":(len(zeros),sum(zeros))\n",
    "           }"
   ]
  },
  {
   "cell_type": "code",
   "execution_count": 253,
   "id": "aa330b1e-b8df-4626-a31c-f74cc0263c80",
   "metadata": {},
   "outputs": [
    {
     "data": {
      "text/plain": [
       "{'positives': (2, 3), 'negatives': (0, 0), 'zeros': (0, 0)}"
      ]
     },
     "execution_count": 253,
     "metadata": {},
     "output_type": "execute_result"
    }
   ],
   "source": [
    "L= list(range(-10,30))\n",
    "getCat(L)"
   ]
  },
  {
   "cell_type": "code",
   "execution_count": null,
   "id": "b5df7d21-29b3-43e7-973d-14e3aaf5a004",
   "metadata": {},
   "outputs": [],
   "source": []
  },
  {
   "cell_type": "markdown",
   "id": "205671df-fca5-4b7e-a996-6b5ed47cff19",
   "metadata": {},
   "source": [
    "# 10.5 Recursive function"
   ]
  },
  {
   "cell_type": "code",
   "execution_count": 274,
   "id": "48934771-9446-45e9-bde1-d1c051de55cc",
   "metadata": {},
   "outputs": [
    {
     "name": "stdout",
     "output_type": "stream",
     "text": [
      "5\n",
      "4\n",
      "3\n",
      "2\n",
      "1\n",
      "None\n"
     ]
    }
   ],
   "source": [
    "def rec(n):   #must have a if function  and return \n",
    "    if n==0:\n",
    "        return\n",
    "    else:\n",
    "        print(n)\n",
    "        rec(n-1)  #call the function itself\n",
    "\n",
    "n=5\n",
    "print(rec(n))"
   ]
  },
  {
   "cell_type": "code",
   "execution_count": 275,
   "id": "a77c5ae1-8c68-4a1d-a3de-8fc0c7cadf40",
   "metadata": {},
   "outputs": [],
   "source": [
    "#another\n",
    "def rec2(L):\n",
    "    if L==[]:\n",
    "        return\n",
    "    else:\n",
    "        t=L.pop()\n",
    "        print(t)\n",
    "        rec2(L)"
   ]
  },
  {
   "cell_type": "code",
   "execution_count": 277,
   "id": "6da9624b-f36a-4d82-861a-e9f6aacc299d",
   "metadata": {},
   "outputs": [
    {
     "name": "stdout",
     "output_type": "stream",
     "text": [
      "blue\n",
      "green\n",
      "Red\n"
     ]
    }
   ],
   "source": [
    "rec2([\"Red\",\"green\",\"blue\"])  #LIFO-- pop is used reverse it."
   ]
  },
  {
   "cell_type": "code",
   "execution_count": 284,
   "id": "b65db660-a461-49f5-b0a9-ed657e17e3d4",
   "metadata": {},
   "outputs": [],
   "source": [
    "# String reversal using recursion\n",
    "def revString(s):\n",
    "    if len(s)==0:\n",
    "        return s\n",
    "    else:\n",
    "        print(f\"{s[-1]},{s[:-1]}\")\n",
    "        return s[-1]+revString(s[:-1])  #-1index  + 0 to last char[0:-1] call itself"
   ]
  },
  {
   "cell_type": "code",
   "execution_count": 285,
   "id": "9f780dff-2faf-4da8-a314-49fc8d35c731",
   "metadata": {},
   "outputs": [
    {
     "name": "stdout",
     "output_type": "stream",
     "text": [
      "n,Pytho\n",
      "o,Pyth\n",
      "h,Pyt\n",
      "t,Py\n",
      "y,P\n",
      "P,\n"
     ]
    },
    {
     "data": {
      "text/plain": [
       "'nohtyP'"
      ]
     },
     "execution_count": 285,
     "metadata": {},
     "output_type": "execute_result"
    }
   ],
   "source": [
    "s=\"Python\"\n",
    "revString(s)"
   ]
  },
  {
   "cell_type": "code",
   "execution_count": null,
   "id": "e02e57f7-d704-466d-8267-d1d40d0d27ab",
   "metadata": {},
   "outputs": [],
   "source": [
    "#expanse and evaluate -used recursion\n"
   ]
  },
  {
   "cell_type": "code",
   "execution_count": 288,
   "id": "30b4f5cb-2782-4c5f-b524-38edc6bf641e",
   "metadata": {},
   "outputs": [],
   "source": [
    "#join all string in a list using recursion\n",
    "L=[\"mary\",\"had\",\"a\",\"little\",\"lamb\"]"
   ]
  },
  {
   "cell_type": "code",
   "execution_count": 297,
   "id": "78db3745-0516-4825-885a-60990d6eb165",
   "metadata": {},
   "outputs": [],
   "source": [
    "def recJoint(L):\n",
    "    if len(L)==1:\n",
    "        return L[0]\n",
    "    else:\n",
    "        return str(L[0]+\" \"+ recJoint(L[1:])) #from index 1 to end of string printed."
   ]
  },
  {
   "cell_type": "code",
   "execution_count": 298,
   "id": "a494f835-3dd6-4318-bdc1-0dc0b6a87a89",
   "metadata": {},
   "outputs": [
    {
     "data": {
      "text/plain": [
       "'mary had a little lamb'"
      ]
     },
     "execution_count": 298,
     "metadata": {},
     "output_type": "execute_result"
    }
   ],
   "source": [
    "t= recJoint(L)\n",
    "t"
   ]
  },
  {
   "cell_type": "code",
   "execution_count": 305,
   "id": "2426ddb2-ae7b-49c8-ad46-ebabb30ae9b4",
   "metadata": {},
   "outputs": [],
   "source": [
    "#flattening a list \n",
    "def flattenlist(nestedlist):\n",
    "    flatlist=[]\n",
    "    for item in nestedlist:\n",
    "        if isinstance(item,list):\n",
    "            flatlist.extend(flattenlist(item))\n",
    "        else:\n",
    "            flatlist.append(item)\n",
    "    return flatlist"
   ]
  },
  {
   "cell_type": "code",
   "execution_count": 309,
   "id": "7c98a9d7-b4b3-4096-8588-4d24c62fc7dc",
   "metadata": {},
   "outputs": [],
   "source": [
    "nestedlist=[1,[2,3,4],[4,5,6],[6,7],8,[10,11,[13,90],9]]"
   ]
  },
  {
   "cell_type": "code",
   "execution_count": 310,
   "id": "70a73c47-f644-4b9f-85a6-dc174430234d",
   "metadata": {},
   "outputs": [
    {
     "data": {
      "text/plain": [
       "[1, 2, 3, 4, 4, 5, 6, 6, 7, 8, 10, 11, 13, 90, 9]"
      ]
     },
     "execution_count": 310,
     "metadata": {},
     "output_type": "execute_result"
    }
   ],
   "source": [
    "flattenlist(nestedlist)"
   ]
  },
  {
   "cell_type": "code",
   "execution_count": null,
   "id": "6da27e5d-16fd-4316-89ba-785690453767",
   "metadata": {},
   "outputs": [],
   "source": [
    "#Write a recursive function to compute the nth Fibonacci number"
   ]
  },
  {
   "cell_type": "code",
   "execution_count": 2,
   "id": "63db34f4-f71a-4da5-8433-22053eba1ab7",
   "metadata": {},
   "outputs": [
    {
     "name": "stdin",
     "output_type": "stream",
     "text": [
      "Enter a n th number: 5\n"
     ]
    },
    {
     "name": "stdout",
     "output_type": "stream",
     "text": [
      "The 5th Fibonacci number is: 3\n"
     ]
    }
   ],
   "source": [
    "def fibonacci(n):\n",
    "    if n <= 0:\n",
    "        return \"Input should be a positive integer.\"\n",
    "    elif n == 1:\n",
    "        return 0\n",
    "    elif n == 2:\n",
    "        return 1\n",
    "    else:\n",
    "        return fibonacci(n-1) + fibonacci(n-2)\n",
    "\n",
    "n = int(input(\"Enter a n th number:\"))\n",
    "print(f\"The {n}th Fibonacci number is: {fibonacci(n)}\")"
   ]
  },
  {
   "cell_type": "code",
   "execution_count": null,
   "id": "8a78a696-cfc9-43a5-82dc-4fc662792bfb",
   "metadata": {},
   "outputs": [],
   "source": [
    "#Write a recursive function to compute the factorial of a number."
   ]
  },
  {
   "cell_type": "code",
   "execution_count": 4,
   "id": "0cb354f0-8e39-47ae-b94f-613fabd034f0",
   "metadata": {},
   "outputs": [
    {
     "name": "stdin",
     "output_type": "stream",
     "text": [
      "Enter an integer 5\n"
     ]
    },
    {
     "name": "stdout",
     "output_type": "stream",
     "text": [
      "The factorial of 5 is: 120\n"
     ]
    }
   ],
   "source": [
    "def factorial(n):\n",
    "    if n < 0:\n",
    "        return \"Input should be a non-negative integer.\"\n",
    "    elif n == 0 or n == 1:\n",
    "        return 1\n",
    "    else:\n",
    "        return n * factorial(n-1)\n",
    "\n",
    "n = int(input(\"Enter an integer\"))\n",
    "print(f\"The factorial of {n} is: {factorial(n)}\")"
   ]
  },
  {
   "cell_type": "code",
   "execution_count": null,
   "id": "a35b9a47-e65d-4b44-8f3e-eb677f8b9e3f",
   "metadata": {},
   "outputs": [],
   "source": [
    "''' Write a function that takes any number of lists and returns a list of elements that are common to all.\n",
    "\n",
    "    # Example usage:\n",
    "    list1 = [1, 2, 3, 4, 5]\n",
    "    list2 = [2, 3, 5, 7, 9]\n",
    "    list3 = [1, 2, 5, 8, 10]\n",
    "\n",
    "    print(find_common(list1, list2, list3))'''"
   ]
  },
  {
   "cell_type": "code",
   "execution_count": 15,
   "id": "1408aef5-ed8e-4bce-9529-e8bd5c27e00a",
   "metadata": {},
   "outputs": [
    {
     "name": "stdout",
     "output_type": "stream",
     "text": [
      "[2, 5]\n"
     ]
    }
   ],
   "source": [
    "def find_common(*lists):\n",
    "    if not lists:\n",
    "        return []\n",
    "    \n",
    "    # Start with the first list's elements as the initial common set\n",
    "    common_elements = set(lists[0])\n",
    "    \n",
    "    # Intersect with each subsequent list\n",
    "    for lst in lists[1:]:\n",
    "        common_elements =common_elements& set(lst)\n",
    "    \n",
    "    return list(common_elements)\n",
    "\n",
    "# Example usage:\n",
    "list1 = [1, 2, 3, 4, 5]\n",
    "list2 = [2, 3, 5, 7, 9]\n",
    "list3 = [1, 2, 5, 8, 10]\n",
    "\n",
    "print(find_common(list1, list2, list3))\n",
    "    "
   ]
  },
  {
   "cell_type": "code",
   "execution_count": 1,
   "id": "8b2e38ee-8b82-450d-8623-8643cd2bc471",
   "metadata": {},
   "outputs": [
    {
     "data": {
      "text/plain": [
       "[2, 3, 5, 7]"
      ]
     },
     "execution_count": 1,
     "metadata": {},
     "output_type": "execute_result"
    }
   ],
   "source": [
    "L=[2,3,4,5,6,7,8]\n",
    "L1=[2, 3, 5, 7, 9]\n",
    "list(set(L).intersection(set(L1)))"
   ]
  },
  {
   "cell_type": "code",
   "execution_count": null,
   "id": "cde09ea6-a178-4680-a285-bd2c7f5348bf",
   "metadata": {},
   "outputs": [],
   "source": [
    "'''  Generate all the subsets of a given set - explore and explain\n",
    "    Input: generate_subsets([1, 2, 3])\n",
    "    Output: []\n",
    "            [3]\n",
    "            [2]\n",
    "            [2, 3]\n",
    "            [1]\n",
    "            [1, 3]\n",
    "            [1, 2]\n",
    "            [1, 2, 3] '''"
   ]
  },
  {
   "cell_type": "code",
   "execution_count": null,
   "id": "7f2a3a61-c934-4d3b-9fc7-9b455d7fac80",
   "metadata": {},
   "outputs": [],
   "source": [
    "def subset(*set)"
   ]
  },
  {
   "cell_type": "code",
   "execution_count": 29,
   "id": "46494100-665e-42ad-874a-43e416ca3896",
   "metadata": {},
   "outputs": [
    {
     "data": {
      "text/plain": [
       "'Create a function to get the span of substrings\\n input s=\"Mississippi\"\\n r=\\'ss\\'\\n output->(2,[(2,4),(5,7)])\\n s[2:4] ->\\'ss\\'\\n s[[5:7] -> \\'ss\\' '"
      ]
     },
     "execution_count": 29,
     "metadata": {},
     "output_type": "execute_result"
    }
   ],
   "source": [
    "'''Create a function to get the span of substrings\n",
    " input s=\"Mississippi\"\n",
    " r='ss'\n",
    " output->(2,[(2,4),(5,7)])\n",
    " s[2:4] ->'ss'\n",
    " s[[5:7] -> 'ss' '''"
   ]
  },
  {
   "cell_type": "code",
   "execution_count": 8,
   "id": "2f16e2da-194c-411f-a5c7-ec6cec627c75",
   "metadata": {},
   "outputs": [
    {
     "name": "stdout",
     "output_type": "stream",
     "text": [
      "Number of occurrences of 'ss' in 'mississippi': 2\n",
      "Spans of 'ss' in 'mississippi': [(2, 4), (5, 7)]\n",
      "(2,[(2, 4), (5, 7)])\n"
     ]
    }
   ],
   "source": [
    "def getspan(s, r):\n",
    "    count = 0\n",
    "    spans = []\n",
    "    start = 0\n",
    "    while True:\n",
    "        start = s.find(r, start)\n",
    "        if start == -1:\n",
    "            break\n",
    "        end = start + len(r)\n",
    "        spans.append((start, end))\n",
    "        count += 1\n",
    "        start += 1  # Move to the next character to find subsequent occurrences\n",
    "    return count, spans\n",
    "\n",
    "# Input\n",
    "s = 'mississippi'\n",
    "r = 'ss'\n",
    "\n",
    "# Output\n",
    "count, spans = getspan(s, r)\n",
    "print(f\"Number of occurrences of '{r}' in '{s}': {count}\")\n",
    "print(f\"Spans of '{r}' in '{s}': {spans}\")\n",
    "print(f\"({count},{spans})\")"
   ]
  },
  {
   "cell_type": "code",
   "execution_count": null,
   "id": "57cad2a2-466e-45cb-a08f-21355b8c8f45",
   "metadata": {},
   "outputs": [],
   "source": []
  }
 ],
 "metadata": {
  "kernelspec": {
   "display_name": "Python 3 (ipykernel)",
   "language": "python",
   "name": "python3"
  },
  "language_info": {
   "codemirror_mode": {
    "name": "ipython",
    "version": 3
   },
   "file_extension": ".py",
   "mimetype": "text/x-python",
   "name": "python",
   "nbconvert_exporter": "python",
   "pygments_lexer": "ipython3",
   "version": "3.12.4"
  }
 },
 "nbformat": 4,
 "nbformat_minor": 5
}
