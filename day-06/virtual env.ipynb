{
 "cells": [
  {
   "cell_type": "code",
   "execution_count": null,
   "id": "7ac01a73-a33f-40ae-b7d1-accd519df3df",
   "metadata": {},
   "outputs": [],
   "source": [
    "# VIRTUAL ENVIRONMENT\n",
    "it is an isolated environment within your system to run python application with specified requirements.\n",
    "#How to create a virtual env?\n",
    "1.install venv -creation of virtual env  --pip\n",
    "--> python -m venv myenv\n",
    "or\n",
    "--> pip install virtualenv\n",
    "\n",
    "-->conda\n",
    "2. how to access virtual env? 'activate' in cmd prmpt\n",
    "3. how to exit the virtual env? 'deactivate'"
   ]
  },
  {
   "cell_type": "code",
   "execution_count": 30,
   "id": "bdcf44de-20a4-4a48-82cc-a4a79d6475cc",
   "metadata": {},
   "outputs": [
    {
     "name": "stdout",
     "output_type": "stream",
     "text": [
      "The span is: (2, [(2, 4), (5, 7)])\n"
     ]
    }
   ],
   "source": [
    "def getspan(s,n):\n",
    "    count=0\n",
    "    start=0\n",
    "    spans=[]\n",
    "    while start<len(s):\n",
    "        start=s.find(n,start)\n",
    "        if start==-1:\n",
    "            break\n",
    "        end=start+len(n)\n",
    "        spans.append((start, end))\n",
    "        count=count+1\n",
    "        start=start+1\n",
    "    return count,spans\n",
    "\n",
    "s='mississippi'\n",
    "n='ss'\n",
    "print(\"The span is:\",getspan(s, n))"
   ]
  },
  {
   "cell_type": "code",
   "execution_count": 23,
   "id": "e34b4538-cd28-42a4-bf3b-a5c784a5116e",
   "metadata": {},
   "outputs": [
    {
     "name": "stdout",
     "output_type": "stream",
     "text": [
      "2 4\n",
      "5 7\n"
     ]
    }
   ],
   "source": [
    "s= \"mississippi\"\n",
    "ss = \"ss\"\n",
    "\n",
    "start = s.find(ss)\n",
    "end = start + len(ss)\n",
    "print(start, end)\n",
    "\n",
    "start1 = s.find(ss, end)\n",
    "end1 = start1 + len(ss)\n",
    "print(start1, end1)"
   ]
  },
  {
   "cell_type": "code",
   "execution_count": null,
   "id": "c448ff5c-b109-4cfa-bb8b-6b74491e52c3",
   "metadata": {},
   "outputs": [],
   "source": [
    "#once have modules- (a library of function -.py file,contains function),collection of library or function called module,\n",
    "#collection of python module become packages."
   ]
  },
  {
   "cell_type": "code",
   "execution_count": null,
   "id": "2fb380a9-61ce-4255-92db-1f575d213ab7",
   "metadata": {},
   "outputs": [],
   "source": [
    "#'pip install'- install python packages"
   ]
  },
  {
   "cell_type": "code",
   "execution_count": null,
   "id": "138fe64b-ed95-4598-baeb-3ef106f7cd20",
   "metadata": {},
   "outputs": [],
   "source": [
    "#set up -setuptool-3rd party library for python package installing"
   ]
  }
 ],
 "metadata": {
  "kernelspec": {
   "display_name": "Python 3 (ipykernel)",
   "language": "python",
   "name": "python3"
  },
  "language_info": {
   "codemirror_mode": {
    "name": "ipython",
    "version": 3
   },
   "file_extension": ".py",
   "mimetype": "text/x-python",
   "name": "python",
   "nbconvert_exporter": "python",
   "pygments_lexer": "ipython3",
   "version": "3.12.4"
  }
 },
 "nbformat": 4,
 "nbformat_minor": 5
}
