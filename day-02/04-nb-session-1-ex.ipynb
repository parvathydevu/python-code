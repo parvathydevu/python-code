{
 "cells": [
  {
   "cell_type": "markdown",
   "id": "d222a24b-9e09-46a1-850f-624c58bc45af",
   "metadata": {},
   "source": [
    "### Exercise 1"
   ]
  },
  {
   "cell_type": "code",
   "execution_count": null,
   "id": "0f4fe05e-539a-40e0-a836-1300e4ace025",
   "metadata": {},
   "outputs": [],
   "source": [
    "basket = [\"Apple\", \"Banana\", \"Cherry\", \"Mango\"]"
   ]
  },
  {
   "cell_type": "code",
   "execution_count": 11,
   "id": "03aa1188-8c7f-4b76-bafa-5d0e4d5ce68e",
   "metadata": {},
   "outputs": [],
   "source": [
    "#Task: Insert \"Grapes\" between \"Banana\" and \"Cherry\". \n",
    "basket.insert(2,\"Grapes\")"
   ]
  },
  {
   "cell_type": "code",
   "execution_count": 12,
   "id": "75b3643f-209f-4a8f-85ac-458f115eadf3",
   "metadata": {},
   "outputs": [
    {
     "data": {
      "text/plain": [
       "['Apple', 'Banana', 'Grapes', 'Cherry', 'Mango']"
      ]
     },
     "execution_count": 12,
     "metadata": {},
     "output_type": "execute_result"
    }
   ],
   "source": [
    "basket"
   ]
  },
  {
   "cell_type": "markdown",
   "id": "2185177a-408b-4892-b6d3-101f01fc524c",
   "metadata": {},
   "source": [
    "### Exercise 2"
   ]
  },
  {
   "cell_type": "code",
   "execution_count": 13,
   "id": "556ccb47-b345-4fb2-8832-78ec54bd873e",
   "metadata": {},
   "outputs": [],
   "source": [
    "data = [10, 20, [30, 40, 50], 60, 70] "
   ]
  },
  {
   "cell_type": "code",
   "execution_count": 15,
   "id": "f9edaddb-5469-47d4-8d4e-f8100d1234eb",
   "metadata": {},
   "outputs": [],
   "source": [
    "#Task: Change 40 to 45 inside the nested list\n",
    "data[2][1]=45"
   ]
  },
  {
   "cell_type": "code",
   "execution_count": 16,
   "id": "ae64bda4-a767-49f5-9dbd-972c8d752856",
   "metadata": {},
   "outputs": [
    {
     "data": {
      "text/plain": [
       "[10, 20, [30, 45, 50], 60, 70]"
      ]
     },
     "execution_count": 16,
     "metadata": {},
     "output_type": "execute_result"
    }
   ],
   "source": [
    "data"
   ]
  },
  {
   "cell_type": "markdown",
   "id": "a9b39424-9271-4231-be19-6a297da163e3",
   "metadata": {},
   "source": [
    "### Exercise 3 "
   ]
  },
  {
   "cell_type": "code",
   "execution_count": 17,
   "id": "3b7e9c02-ecdb-4877-8224-97a7420b8250",
   "metadata": {},
   "outputs": [],
   "source": [
    "nums = [3, 6, 9, 12, 15, 18, 21] "
   ]
  },
  {
   "cell_type": "code",
   "execution_count": 23,
   "id": "58674d59-cbde-43a4-b6e1-2590a0a23b04",
   "metadata": {},
   "outputs": [],
   "source": [
    "#Task: Extract [9, 12, 15] and reverse it\n",
    "t= nums[2:5]"
   ]
  },
  {
   "cell_type": "code",
   "execution_count": 24,
   "id": "6af99634-4729-440a-930a-5226803ce88d",
   "metadata": {},
   "outputs": [],
   "source": [
    "t.reverse()"
   ]
  },
  {
   "cell_type": "code",
   "execution_count": 25,
   "id": "7c2208ca-0cc0-4187-a3e4-6409297f00fb",
   "metadata": {},
   "outputs": [
    {
     "data": {
      "text/plain": [
       "[15, 12, 9]"
      ]
     },
     "execution_count": 25,
     "metadata": {},
     "output_type": "execute_result"
    }
   ],
   "source": [
    "t"
   ]
  },
  {
   "cell_type": "markdown",
   "id": "896b4d4b-9c63-4371-bb9b-1c67d7cbf1d8",
   "metadata": {},
   "source": [
    "### Exercise 4"
   ]
  },
  {
   "cell_type": "code",
   "execution_count": 120,
   "id": "af7fdf5d-5681-440f-8980-53c9206d1875",
   "metadata": {},
   "outputs": [],
   "source": [
    "numbers = [5, 3, 8, 5, 10, 5, 12, 5]  "
   ]
  },
  {
   "cell_type": "code",
   "execution_count": 121,
   "id": "20c64d1f-5672-4a16-b7c0-3e8516aee998",
   "metadata": {},
   "outputs": [
    {
     "data": {
      "text/plain": [
       "[3, 8, 10, 12]"
      ]
     },
     "execution_count": 121,
     "metadata": {},
     "output_type": "execute_result"
    }
   ],
   "source": [
    "#Task: Remove all occurrences of 5 from numbers. \n",
    "occurence=[]\n",
    "for x in numbers:\n",
    "    if x!=5:\n",
    "        occurence.append(x)\n",
    "occurence"
   ]
  },
  {
   "cell_type": "markdown",
   "id": "3bfff018-df04-4dab-b1da-61803b35a223",
   "metadata": {},
   "source": [
    "### Exercise 5"
   ]
  },
  {
   "cell_type": "code",
   "execution_count": 36,
   "id": "121ff42e-23a3-484e-994f-0524b125fff9",
   "metadata": {},
   "outputs": [],
   "source": [
    "list1 = [8, 3, 1, 7]  \n",
    "list2 = [4, 9, 2, 6]  "
   ]
  },
  {
   "cell_type": "code",
   "execution_count": 39,
   "id": "1f81a04c-e772-4e56-86ee-a487b2273c75",
   "metadata": {},
   "outputs": [
    {
     "data": {
      "text/plain": [
       "[1, 2, 3, 4, 6, 7, 8, 9]"
      ]
     },
     "execution_count": 39,
     "metadata": {},
     "output_type": "execute_result"
    }
   ],
   "source": [
    "#Task: Merge list1 and list2, then sort the combined list. \n",
    "sorted(list1+list2)"
   ]
  },
  {
   "cell_type": "markdown",
   "id": "e9119a85-cb57-4a9c-8eae-5fe31ab4cf81",
   "metadata": {},
   "source": [
    "### Exercise 6"
   ]
  },
  {
   "cell_type": "code",
   "execution_count": 50,
   "id": "4237b103-e5ff-4600-a311-b149c438a1ea",
   "metadata": {},
   "outputs": [],
   "source": [
    "colors = (\"Red\", \"Green\", \"Blue\", \"Yellow\")  "
   ]
  },
  {
   "cell_type": "code",
   "execution_count": null,
   "id": "7cf5513a-afe2-4b13-aa5a-a36c789ab2fd",
   "metadata": {},
   "outputs": [],
   "source": [
    "#Task: Convert colors to a list, change \"Green\" to \"Cyan\", and convert it back to a tuple"
   ]
  },
  {
   "cell_type": "code",
   "execution_count": 51,
   "id": "6b125ac6-00ee-4639-a646-fc938a2b07e3",
   "metadata": {},
   "outputs": [
    {
     "data": {
      "text/plain": [
       "['Red', 'Green', 'Blue', 'Yellow']"
      ]
     },
     "execution_count": 51,
     "metadata": {},
     "output_type": "execute_result"
    }
   ],
   "source": [
    "temp=list(colors)\n",
    "temp"
   ]
  },
  {
   "cell_type": "code",
   "execution_count": 52,
   "id": "6ba387fb-12ef-4a43-8fcb-05c4edf563a6",
   "metadata": {},
   "outputs": [
    {
     "data": {
      "text/plain": [
       "['Red', 'Cyan', 'Blue', 'Yellow']"
      ]
     },
     "execution_count": 52,
     "metadata": {},
     "output_type": "execute_result"
    }
   ],
   "source": [
    "temp[1]=\"Cyan\"\n",
    "temp"
   ]
  },
  {
   "cell_type": "code",
   "execution_count": 54,
   "id": "61fb5225-db72-422e-9a70-ae4b997d8352",
   "metadata": {},
   "outputs": [
    {
     "data": {
      "text/plain": [
       "('Red', 'Cyan', 'Blue', 'Yellow')"
      ]
     },
     "execution_count": 54,
     "metadata": {},
     "output_type": "execute_result"
    }
   ],
   "source": [
    "colors=tuple(temp)\n",
    "colors"
   ]
  },
  {
   "cell_type": "markdown",
   "id": "b3ec13bb-a219-4036-86fa-11265e8f0b97",
   "metadata": {},
   "source": [
    "### Exercise 7"
   ]
  },
  {
   "cell_type": "code",
   "execution_count": 57,
   "id": "d6b176d8-d1c5-45f4-9456-1ee7ed233ea4",
   "metadata": {},
   "outputs": [],
   "source": [
    "names = [\"Alice\", \"Bob\", \"Charlie\", \"David\", \"Eve\"]  "
   ]
  },
  {
   "cell_type": "code",
   "execution_count": 60,
   "id": "ea50b0b9-0a7d-478b-928a-4f59fcee871f",
   "metadata": {},
   "outputs": [
    {
     "data": {
      "text/plain": [
       "2"
      ]
     },
     "execution_count": 60,
     "metadata": {},
     "output_type": "execute_result"
    }
   ],
   "source": [
    "#Task: Find the index of \"Charlie\".\n",
    "names.index(\"Charlie\")"
   ]
  },
  {
   "cell_type": "code",
   "execution_count": 62,
   "id": "7951c78b-0570-4a50-9f3c-bf8dc33c524c",
   "metadata": {},
   "outputs": [],
   "source": [
    "nums_tuple = (4, 2, 4, 6, 4, 8, 4, 10)  "
   ]
  },
  {
   "cell_type": "code",
   "execution_count": 63,
   "id": "88b13cc1-7c77-4e25-baa8-87ab72558e84",
   "metadata": {},
   "outputs": [
    {
     "data": {
      "text/plain": [
       "4"
      ]
     },
     "execution_count": 63,
     "metadata": {},
     "output_type": "execute_result"
    }
   ],
   "source": [
    "#Task: Count how many times 4 appears in nums_tuple.\n",
    "nums_tuple.count(4)"
   ]
  },
  {
   "cell_type": "code",
   "execution_count": 65,
   "id": "45ed18fe-e2b2-4733-84cf-dca47f4af929",
   "metadata": {},
   "outputs": [],
   "source": [
    "values = [10, 20, 30, 40, 50]  "
   ]
  },
  {
   "cell_type": "code",
   "execution_count": 66,
   "id": "57a2769b-6b5b-4aa5-88b1-e66b8b8f65c7",
   "metadata": {},
   "outputs": [
    {
     "data": {
      "text/plain": [
       "[50, 20, 30, 40, 10]"
      ]
     },
     "execution_count": 66,
     "metadata": {},
     "output_type": "execute_result"
    }
   ],
   "source": [
    "#Task: Swap the first and last elements.\n",
    "values[0],values[-1]=values[-1],values[0]\n",
    "values"
   ]
  },
  {
   "cell_type": "code",
   "execution_count": 71,
   "id": "2007ce8e-8b66-48d4-b6e2-32b6ddc51a57",
   "metadata": {},
   "outputs": [],
   "source": [
    "values = []"
   ]
  },
  {
   "cell_type": "code",
   "execution_count": 73,
   "id": "025ccb86-b215-4178-8af1-121af749becc",
   "metadata": {},
   "outputs": [
    {
     "data": {
      "text/plain": [
       "[1, 4, 9, 16, 25, 36, 49, 64, 81, 100, 1, 4, 9, 16, 25, 36, 49, 64, 81, 100]"
      ]
     },
     "execution_count": 73,
     "metadata": {},
     "output_type": "execute_result"
    }
   ],
   "source": [
    "#Task: Generate a list of squares for numbers from 1 to 10.\n",
    "for x in range(1, 11):\n",
    "    values.append(x**2)\n",
    "values"
   ]
  },
  {
   "cell_type": "code",
   "execution_count": 75,
   "id": "3849e02e-ee1d-4fcb-9b79-deced2f5f37d",
   "metadata": {},
   "outputs": [],
   "source": [
    "my_tuple = (1, 2, 3, 4, 5)  "
   ]
  },
  {
   "cell_type": "code",
   "execution_count": null,
   "id": "b9c13445-620b-4c21-889b-91c8c2a273bd",
   "metadata": {},
   "outputs": [],
   "source": [
    "#Task: Reverse my_tuple without converting it to a list. "
   ]
  },
  {
   "cell_type": "code",
   "execution_count": 76,
   "id": "5132e2e7-2a11-4568-ad0b-01a6cd264358",
   "metadata": {},
   "outputs": [
    {
     "data": {
      "text/plain": [
       "(5, 4, 3, 2, 1)"
      ]
     },
     "execution_count": 76,
     "metadata": {},
     "output_type": "execute_result"
    }
   ],
   "source": [
    "my_tuple[::-1]"
   ]
  },
  {
   "cell_type": "code",
   "execution_count": 78,
   "id": "f2e36b4a-c4fe-4276-baae-2f2f37234692",
   "metadata": {},
   "outputs": [],
   "source": [
    "data = [23, 45, 67, 12, 89, 34]  "
   ]
  },
  {
   "cell_type": "code",
   "execution_count": 84,
   "id": "42c0d0ee-6324-47b6-b589-ec7f6f166d37",
   "metadata": {},
   "outputs": [
    {
     "data": {
      "text/plain": [
       "89"
      ]
     },
     "execution_count": 84,
     "metadata": {},
     "output_type": "execute_result"
    }
   ],
   "source": [
    "#Task: Find the maximum and minimum values in data.\n",
    "max(data)"
   ]
  },
  {
   "cell_type": "code",
   "execution_count": 83,
   "id": "95ff853d-93fe-4020-97cd-1bdcbf20d5e5",
   "metadata": {},
   "outputs": [
    {
     "data": {
      "text/plain": [
       "12"
      ]
     },
     "execution_count": 83,
     "metadata": {},
     "output_type": "execute_result"
    }
   ],
   "source": [
    "min(data)"
   ]
  },
  {
   "cell_type": "code",
   "execution_count": 122,
   "id": "2bb00075-ed77-4a05-b994-7a7ff48fe9e3",
   "metadata": {},
   "outputs": [],
   "source": [
    "nums = [10, 20, 30, 40, 50, 60, 70]"
   ]
  },
  {
   "cell_type": "code",
   "execution_count": null,
   "id": "3b443787-7e8e-4f52-b7b0-a53359024d12",
   "metadata": {},
   "outputs": [],
   "source": [
    "#Task: Extract every second element from nums"
   ]
  },
  {
   "cell_type": "code",
   "execution_count": 124,
   "id": "11dda229-982b-4edb-944a-286a97ce9392",
   "metadata": {},
   "outputs": [
    {
     "data": {
      "text/plain": [
       "[20, 40, 60]"
      ]
     },
     "execution_count": 124,
     "metadata": {},
     "output_type": "execute_result"
    }
   ],
   "source": [
    "nums[1::2]"
   ]
  },
  {
   "cell_type": "code",
   "execution_count": 91,
   "id": "d88acae2-e5d0-4f94-9bcc-7b4e685e3433",
   "metadata": {},
   "outputs": [],
   "source": [
    "nested_list = [[1, 2, 3], [4, 5, 6], [7, 8, 9]]   "
   ]
  },
  {
   "cell_type": "code",
   "execution_count": 92,
   "id": "cef23443-c931-4d13-8717-64899fa65532",
   "metadata": {},
   "outputs": [
    {
     "data": {
      "text/plain": [
       "[1, 2, 3, 4, 5, 6, 7, 8, 9]"
      ]
     },
     "execution_count": 92,
     "metadata": {},
     "output_type": "execute_result"
    }
   ],
   "source": [
    "#Task: Convert nested_list into a single flat list.\n",
    "t= nested_list[0]+nested_list[1]+nested_list[2]\n",
    "t"
   ]
  },
  {
   "cell_type": "code",
   "execution_count": 147,
   "id": "236a1c59-080c-4224-a366-569f1930ec0e",
   "metadata": {},
   "outputs": [],
   "source": [
    "list_a = [1, 2, 3, 4, 5, 6]  \n",
    "list_b = [4, 5, 6, 7, 8, 9]  "
   ]
  },
  {
   "cell_type": "code",
   "execution_count": 119,
   "id": "05645c0e-a761-48c1-940c-d5a871b4f221",
   "metadata": {},
   "outputs": [
    {
     "data": {
      "text/plain": [
       "[4, 5, 6]"
      ]
     },
     "execution_count": 119,
     "metadata": {},
     "output_type": "execute_result"
    }
   ],
   "source": [
    "#Task: Find common elements between list_a and list_b.\n",
    "common = []\n",
    "for x in list_a:\n",
    "    if x in list_b:\n",
    "        common.append(x)\n",
    "common"
   ]
  },
  {
   "cell_type": "code",
   "execution_count": 148,
   "id": "68153190-cca8-49ff-a150-391f694219d5",
   "metadata": {},
   "outputs": [
    {
     "name": "stdout",
     "output_type": "stream",
     "text": [
      "[4, 5, 6]\n"
     ]
    }
   ],
   "source": [
    "commons=[]\n",
    "master=list_a+list_b\n",
    "for e in master:\n",
    "    if e in list_a and e in list_b:\n",
    "        if e not in commons:\n",
    "            commons.append(e)\n",
    "print(commons)     "
   ]
  },
  {
   "cell_type": "code",
   "execution_count": 136,
   "id": "ccf2b2d0-2826-4763-ae0e-01f3ba5e2113",
   "metadata": {},
   "outputs": [],
   "source": [
    "scores = [78, 55, 92, 30, 88, 62]  "
   ]
  },
  {
   "cell_type": "code",
   "execution_count": 140,
   "id": "73b3e03e-b61e-4ac0-9d1c-1912ff94b107",
   "metadata": {},
   "outputs": [
    {
     "data": {
      "text/plain": [
       "[30, 55, 62, 78, 88, 92]"
      ]
     },
     "execution_count": 140,
     "metadata": {},
     "output_type": "execute_result"
    }
   ],
   "source": [
    "#Task: Sort scores in descending order.\n",
    "scores.sort()\n",
    "scores"
   ]
  },
  {
   "cell_type": "code",
   "execution_count": 143,
   "id": "5cd57748-fa7f-4c61-8e7f-e448ab8cca19",
   "metadata": {},
   "outputs": [
    {
     "data": {
      "text/plain": [
       "[92, 88, 78, 62, 55, 30]"
      ]
     },
     "execution_count": 143,
     "metadata": {},
     "output_type": "execute_result"
    }
   ],
   "source": [
    "scores.reverse()\n",
    "scores"
   ]
  },
  {
   "cell_type": "code",
   "execution_count": 101,
   "id": "a45a8f57-05a2-4279-b71c-006c89e92fe2",
   "metadata": {},
   "outputs": [],
   "source": [
    "my_tuple = (1, 2, 3)  "
   ]
  },
  {
   "cell_type": "code",
   "execution_count": null,
   "id": "e9982bee-0f7d-418b-bf1a-7dd119c6e125",
   "metadata": {},
   "outputs": [],
   "source": [
    "#Task: Repeat my_tuple three times and store the result."
   ]
  },
  {
   "cell_type": "code",
   "execution_count": 102,
   "id": "986bc394-fb70-4431-9cc8-6c794e5dd4ce",
   "metadata": {},
   "outputs": [
    {
     "data": {
      "text/plain": [
       "(1, 2, 3, 1, 2, 3, 1, 2, 3)"
      ]
     },
     "execution_count": 102,
     "metadata": {},
     "output_type": "execute_result"
    }
   ],
   "source": [
    "t=my_tuple*3\n",
    "t"
   ]
  },
  {
   "cell_type": "code",
   "execution_count": 104,
   "id": "308ff6ed-b4a1-4687-8204-7abf1745f586",
   "metadata": {},
   "outputs": [],
   "source": [
    "numbers = [1, 2, 2, 3, 4, 4, 5, 6, 6]   "
   ]
  },
  {
   "cell_type": "code",
   "execution_count": 105,
   "id": "8afeaa09-93e0-41a2-ae52-9ad9d423b7c1",
   "metadata": {},
   "outputs": [
    {
     "data": {
      "text/plain": [
       "[1, 2, 3, 4, 5, 6]"
      ]
     },
     "execution_count": 105,
     "metadata": {},
     "output_type": "execute_result"
    }
   ],
   "source": [
    "#Task: Remove duplicates while keeping the order.\n",
    "numbers = [1, 2, 2, 3, 4, 4, 5, 6, 6]\n",
    "\n",
    "# Remove duplicates\n",
    "u = []\n",
    "for num in numbers:\n",
    "    if num not in u:\n",
    "        u.append(num)\n",
    "u"
   ]
  },
  {
   "cell_type": "code",
   "execution_count": 109,
   "id": "40c170ea-32ad-4ad2-8380-18475a6f32c4",
   "metadata": {},
   "outputs": [],
   "source": [
    "words = [\"Hello\", \"World\", \"Python\", \"Programming\"]  "
   ]
  },
  {
   "cell_type": "code",
   "execution_count": null,
   "id": "1f1014c9-07be-4fc2-b1b4-2cf6d03cb278",
   "metadata": {},
   "outputs": [],
   "source": [
    "#Task: Insert \"Amazing\" at index 2. "
   ]
  },
  {
   "cell_type": "code",
   "execution_count": 110,
   "id": "b96e02ef-03f6-492c-96c2-f8d2580014aa",
   "metadata": {},
   "outputs": [
    {
     "data": {
      "text/plain": [
       "['Hello', 'World', 'Amazing', 'Python', 'Programming']"
      ]
     },
     "execution_count": 110,
     "metadata": {},
     "output_type": "execute_result"
    }
   ],
   "source": [
    "words.insert(2,\"Amazing\")\n",
    "words"
   ]
  },
  {
   "cell_type": "code",
   "execution_count": 112,
   "id": "840d8ebe-a54e-47f3-a9db-f4ec7ae9be41",
   "metadata": {},
   "outputs": [],
   "source": [
    "pairs = [(\"a\", 1), (\"b\", 2), (\"c\", 3)]  "
   ]
  },
  {
   "cell_type": "code",
   "execution_count": 114,
   "id": "eea2fda5-21bd-468a-8a02-613392b67101",
   "metadata": {},
   "outputs": [
    {
     "data": {
      "text/plain": [
       "{'a': 1, 'b': 2, 'c': 3}"
      ]
     },
     "execution_count": 114,
     "metadata": {},
     "output_type": "execute_result"
    }
   ],
   "source": [
    "#Task: Convert pairs into a dictionary. \n",
    "d=dict(pairs)\n",
    "d"
   ]
  },
  {
   "cell_type": "code",
   "execution_count": null,
   "id": "244b04a3-a4cb-466b-b15d-fb4e00b528bb",
   "metadata": {},
   "outputs": [],
   "source": []
  }
 ],
 "metadata": {
  "kernelspec": {
   "display_name": "Python 3 (ipykernel)",
   "language": "python",
   "name": "python3"
  },
  "language_info": {
   "codemirror_mode": {
    "name": "ipython",
    "version": 3
   },
   "file_extension": ".py",
   "mimetype": "text/x-python",
   "name": "python",
   "nbconvert_exporter": "python",
   "pygments_lexer": "ipython3",
   "version": "3.12.4"
  }
 },
 "nbformat": 4,
 "nbformat_minor": 5
}
