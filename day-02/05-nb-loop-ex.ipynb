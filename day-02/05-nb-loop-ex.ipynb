{
 "cells": [
  {
   "cell_type": "markdown",
   "id": "e2adedbb-477b-48d0-af51-744be8688147",
   "metadata": {},
   "source": [
    "# Exercise1"
   ]
  },
  {
   "cell_type": "code",
   "execution_count": 3,
   "id": "c450951a-cde7-45f0-a174-07f4f1057e65",
   "metadata": {},
   "outputs": [],
   "source": [
    "nums = [1, 2, 3, 4, 5] "
   ]
  },
  {
   "cell_type": "code",
   "execution_count": 62,
   "id": "66b1dfb8-8c9b-41b8-8ce0-80e8b6212eed",
   "metadata": {},
   "outputs": [
    {
     "name": "stdout",
     "output_type": "stream",
     "text": [
      "sum is 15\n"
     ]
    }
   ],
   "source": [
    "#Task: Use a for loop to calculate the sum of all elements in nums.\n",
    "m=0\n",
    "for i in nums:\n",
    "    m=m+i\n",
    "print(\"sum is\",m)"
   ]
  },
  {
   "cell_type": "markdown",
   "id": "185c04fd-f5b8-44e9-aa24-76c437d79954",
   "metadata": {},
   "source": [
    "# Exercise 2"
   ]
  },
  {
   "cell_type": "code",
   "execution_count": null,
   "id": "1ad5b501-3de5-494b-85fd-3da71ff4608b",
   "metadata": {},
   "outputs": [],
   "source": [
    "count = 5  "
   ]
  },
  {
   "cell_type": "code",
   "execution_count": 8,
   "id": "86946e3e-971f-4bbd-b3ba-d14f29c5ddf5",
   "metadata": {},
   "outputs": [
    {
     "name": "stdout",
     "output_type": "stream",
     "text": [
      "5\n",
      "4\n",
      "3\n",
      "2\n",
      "1\n"
     ]
    }
   ],
   "source": [
    "#Task: Use a while loop to print numbers from count down to 1.\n",
    "i = 5\n",
    "while i > 0:\n",
    "    print(i)\n",
    "    i =i-1"
   ]
  },
  {
   "cell_type": "markdown",
   "id": "b035c120-af4c-4b24-8a2e-1e7ee2d42b82",
   "metadata": {},
   "source": [
    "# Exercise 3"
   ]
  },
  {
   "cell_type": "code",
   "execution_count": 70,
   "id": "9bff85ea-03ea-4d07-8913-330a17c6e928",
   "metadata": {},
   "outputs": [],
   "source": [
    "fruits = [\"Apple\", \"Banana\", \"Cherry\", \"Mango\"]  "
   ]
  },
  {
   "cell_type": "code",
   "execution_count": 74,
   "id": "87aa49d4-f694-42d9-9a89-a523f53acd4b",
   "metadata": {},
   "outputs": [
    {
     "name": "stdout",
     "output_type": "stream",
     "text": [
      "APPLE BANANA CHERRY MANGO "
     ]
    }
   ],
   "source": [
    "#Task: Use a for loop to print each fruit in uppercase\n",
    "for x in fruits:\n",
    "    print(x.upper(),end=' ')"
   ]
  },
  {
   "cell_type": "markdown",
   "id": "a00e4f0e-8a64-4b19-9e14-c945e67d038b",
   "metadata": {},
   "source": [
    "# Exercise 4"
   ]
  },
  {
   "cell_type": "code",
   "execution_count": 72,
   "id": "7375a07e-db72-4948-8078-0279746a3504",
   "metadata": {},
   "outputs": [],
   "source": [
    "num = 1  "
   ]
  },
  {
   "cell_type": "code",
   "execution_count": null,
   "id": "9f97628e-2160-4eac-8995-a9ac8b95d98b",
   "metadata": {},
   "outputs": [],
   "source": [
    "#Task: Use a while loop to print squares of numbers from 1 to 10.  "
   ]
  },
  {
   "cell_type": "code",
   "execution_count": 73,
   "id": "59413ec7-b47f-4fcc-be16-aaede2c145bf",
   "metadata": {},
   "outputs": [
    {
     "name": "stdout",
     "output_type": "stream",
     "text": [
      "1\n",
      "4\n",
      "9\n",
      "16\n",
      "25\n",
      "36\n",
      "49\n",
      "64\n",
      "81\n",
      "100\n"
     ]
    }
   ],
   "source": [
    "while(num<=10):\n",
    "    print(num**2)\n",
    "    num+=1"
   ]
  },
  {
   "cell_type": "markdown",
   "id": "c0d28e66-05c1-44f0-a03f-c3493c73329e",
   "metadata": {},
   "source": [
    "# Exercise 5"
   ]
  },
  {
   "cell_type": "code",
   "execution_count": 19,
   "id": "b6bbf24c-b288-4e0f-beab-01b31897e9cf",
   "metadata": {},
   "outputs": [],
   "source": [
    "values = [2, 4, 6, 8, 10]  "
   ]
  },
  {
   "cell_type": "code",
   "execution_count": 21,
   "id": "dfdf7aaf-7808-4c10-b3c1-cedcb1c17ce9",
   "metadata": {},
   "outputs": [
    {
     "name": "stdout",
     "output_type": "stream",
     "text": [
      "[8, 64, 216, 512, 1000]\n"
     ]
    }
   ],
   "source": [
    "#Task: Use a for loop to create a new list containing cubes of values.\n",
    "new=[]\n",
    "for i in values:\n",
    "    new.append(i**3)\n",
    "print(new)"
   ]
  },
  {
   "cell_type": "markdown",
   "id": "b511236e-c2b5-44ed-9dd6-346d2d60724a",
   "metadata": {},
   "source": [
    "# Exercise 6"
   ]
  },
  {
   "cell_type": "code",
   "execution_count": 26,
   "id": "ab2626dd-8019-45b9-a97d-93592bbecf67",
   "metadata": {},
   "outputs": [],
   "source": [
    "sentence = \"Python is fun\" "
   ]
  },
  {
   "cell_type": "code",
   "execution_count": 28,
   "id": "c421c904-ec65-4363-93c2-073060fcc65b",
   "metadata": {},
   "outputs": [
    {
     "name": "stdout",
     "output_type": "stream",
     "text": [
      "1\n"
     ]
    }
   ],
   "source": [
    "#Task: Use a for loop to count how many times 'o' appears in sentence. \n",
    "count=0\n",
    "for char in sentence:\n",
    "    if char=='o':\n",
    "        count+=1\n",
    "print(count)"
   ]
  },
  {
   "cell_type": "markdown",
   "id": "4fb31976-0a52-470a-98ea-dc2c752d69ca",
   "metadata": {},
   "source": [
    "# Exercise 7"
   ]
  },
  {
   "cell_type": "code",
   "execution_count": 63,
   "id": "1daeb910-cb68-4a79-b4be-fd7e03669331",
   "metadata": {},
   "outputs": [],
   "source": [
    "num = 10   "
   ]
  },
  {
   "cell_type": "code",
   "execution_count": null,
   "id": "f9bf1fcf-1c6e-4b4b-b62d-12398cec1c35",
   "metadata": {},
   "outputs": [],
   "source": [
    "#Task: Use a while loop to print even numbers from 10 to 2 in reverse order."
   ]
  },
  {
   "cell_type": "code",
   "execution_count": 75,
   "id": "1cce8472-656a-4951-a559-cc5be3bcf51c",
   "metadata": {},
   "outputs": [
    {
     "name": "stdout",
     "output_type": "stream",
     "text": [
      "10\n",
      "8\n",
      "6\n",
      "4\n",
      "2\n"
     ]
    }
   ],
   "source": [
    "while(num!=0):\n",
    "    if num%2==0:\n",
    "        print(num)\n",
    "    num-=1  "
   ]
  },
  {
   "cell_type": "markdown",
   "id": "698c44bb-92f5-49db-b985-8f7d6c34b6fe",
   "metadata": {},
   "source": [
    "# Exercise 8"
   ]
  },
  {
   "cell_type": "code",
   "execution_count": 40,
   "id": "05931a86-c846-47ab-9f5f-91ac5dcd0ee5",
   "metadata": {},
   "outputs": [],
   "source": [
    "matrix = [[1, 2], [3, 4], [5, 6]]  "
   ]
  },
  {
   "cell_type": "code",
   "execution_count": null,
   "id": "390ce16e-af1e-4f9f-b5dd-1197b0ad1e33",
   "metadata": {},
   "outputs": [],
   "source": [
    "#Task: Use nested for loops to print all elements in matrix"
   ]
  },
  {
   "cell_type": "code",
   "execution_count": 41,
   "id": "379a7d6f-a6ca-4103-b5c4-4e03f06c7735",
   "metadata": {},
   "outputs": [
    {
     "name": "stdout",
     "output_type": "stream",
     "text": [
      "1\n",
      "2\n",
      "3\n",
      "4\n",
      "5\n",
      "6\n"
     ]
    }
   ],
   "source": [
    "for x in matrix:\n",
    "    for y in x:\n",
    "        print(y)"
   ]
  },
  {
   "cell_type": "markdown",
   "id": "f7937490-5557-4ebe-88ef-e9c49eabdc82",
   "metadata": {},
   "source": [
    "# Exercise 9"
   ]
  },
  {
   "cell_type": "code",
   "execution_count": 68,
   "id": "a49b9ee1-ecd8-4bd2-8444-81d83d997158",
   "metadata": {},
   "outputs": [],
   "source": [
    "num = 7  "
   ]
  },
  {
   "cell_type": "code",
   "execution_count": 69,
   "id": "a1bd3a51-3552-491a-b597-95e077a57b8e",
   "metadata": {},
   "outputs": [
    {
     "name": "stdout",
     "output_type": "stream",
     "text": [
      "5040\n"
     ]
    }
   ],
   "source": [
    "#Task: Use a while loop to find the factorial of num\n",
    "fact=1\n",
    "while(num>0):\n",
    "    fact*=num\n",
    "    num-=1\n",
    "print(fact)"
   ]
  },
  {
   "cell_type": "markdown",
   "id": "b0c6e832-b334-4249-8671-14d288bff4cc",
   "metadata": {},
   "source": [
    "# Exercise 10"
   ]
  },
  {
   "cell_type": "code",
   "execution_count": 56,
   "id": "26a42d26-952a-4a27-9a68-15cb5493d09f",
   "metadata": {},
   "outputs": [],
   "source": [
    "numbers = [3, 9, 12, 18, 21, 25]  "
   ]
  },
  {
   "cell_type": "code",
   "execution_count": 58,
   "id": "9a84f229-17bd-46cb-8292-c67a06ae6bc7",
   "metadata": {},
   "outputs": [
    {
     "name": "stdout",
     "output_type": "stream",
     "text": [
      "3\n",
      "9\n",
      "12\n",
      "18\n",
      "21\n"
     ]
    }
   ],
   "source": [
    "#Task: Use a for loop to print only the numbers divisible by 3.  \n",
    "for x in numbers:\n",
    "    if (x%3==0):\n",
    "        print(x)"
   ]
  },
  {
   "cell_type": "code",
   "execution_count": null,
   "id": "86f1e8ec-36aa-44cb-bc94-270e9528ef67",
   "metadata": {},
   "outputs": [],
   "source": []
  }
 ],
 "metadata": {
  "kernelspec": {
   "display_name": "Python 3 (ipykernel)",
   "language": "python",
   "name": "python3"
  },
  "language_info": {
   "codemirror_mode": {
    "name": "ipython",
    "version": 3
   },
   "file_extension": ".py",
   "mimetype": "text/x-python",
   "name": "python",
   "nbconvert_exporter": "python",
   "pygments_lexer": "ipython3",
   "version": "3.12.4"
  }
 },
 "nbformat": 4,
 "nbformat_minor": 5
}
