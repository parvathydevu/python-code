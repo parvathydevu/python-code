{
 "cells": [
  {
   "cell_type": "markdown",
   "id": "77c9a88f-dc5c-4796-8f09-72fdcdfd8e79",
   "metadata": {},
   "source": [
    "### 5.1 FOR loop"
   ]
  },
  {
   "cell_type": "code",
   "execution_count": 6,
   "id": "dcd5a97b-57ce-4f2c-96cc-c7d8d46a8269",
   "metadata": {},
   "outputs": [],
   "source": [
    "s= \"apples\"\n",
    "l=[\"red\", \"green\",\"blue\"]"
   ]
  },
  {
   "cell_type": "code",
   "execution_count": 4,
   "id": "73d487f0-e874-44e7-bb3e-8b12e5626926",
   "metadata": {},
   "outputs": [
    {
     "name": "stdout",
     "output_type": "stream",
     "text": [
      "a 97\n",
      "p 112\n",
      "p 112\n",
      "l 108\n",
      "e 101\n",
      "s 115\n"
     ]
    }
   ],
   "source": [
    "for c in s:\n",
    "    print(c, ord(c))"
   ]
  },
  {
   "cell_type": "markdown",
   "id": "f62d0c7f-7c9f-4f09-884a-22deb5b2586d",
   "metadata": {},
   "source": [
    "#ord(c) ascci value "
   ]
  },
  {
   "cell_type": "code",
   "execution_count": 7,
   "id": "5b3d5540-655f-4a24-851e-47f8246bf6cd",
   "metadata": {},
   "outputs": [
    {
     "name": "stdout",
     "output_type": "stream",
     "text": [
      "RED GREEN BLUE "
     ]
    }
   ],
   "source": [
    "for x in l:\n",
    "    print(x.upper(), end=' ')"
   ]
  },
  {
   "cell_type": "markdown",
   "id": "fae84476-0a1d-4da0-8242-d59d218a751b",
   "metadata": {},
   "source": [
    "### 5.2 Use case- understanding fro loop"
   ]
  },
  {
   "cell_type": "markdown",
   "id": "d82b5208-a66c-4c82-b8ba-7f3977f19de5",
   "metadata": {},
   "source": [
    "#create a multiplication table"
   ]
  },
  {
   "cell_type": "code",
   "execution_count": 9,
   "id": "fba7659c-cfa7-47a4-8047-832991b477b8",
   "metadata": {},
   "outputs": [
    {
     "name": "stdout",
     "output_type": "stream",
     "text": [
      "5 * 1 = 5\n"
     ]
    }
   ],
   "source": [
    "print('5','*','1','=',(5*1))"
   ]
  },
  {
   "cell_type": "code",
   "execution_count": 11,
   "id": "7fa1c162-aa80-4a15-9555-6f7f2a119c35",
   "metadata": {},
   "outputs": [
    {
     "data": {
      "text/plain": [
       "[0, 1, 2, 3, 4, 5, 6, 7, 8, 9]"
      ]
     },
     "execution_count": 11,
     "metadata": {},
     "output_type": "execute_result"
    }
   ],
   "source": [
    "list(range(0,10))"
   ]
  },
  {
   "cell_type": "code",
   "execution_count": 22,
   "id": "50aef0df-c04a-42e6-879f-72440e93d7da",
   "metadata": {},
   "outputs": [
    {
     "name": "stdout",
     "output_type": "stream",
     "text": [
      "5 * 0 = 0\n",
      "5 * 1 = 5\n",
      "5 * 2 = 10\n",
      "5 * 3 = 15\n",
      "5 * 4 = 20\n",
      "5 * 5 = 25\n",
      "5 * 6 = 30\n",
      "5 * 7 = 35\n",
      "5 * 8 = 40\n",
      "5 * 9 = 45\n"
     ]
    }
   ],
   "source": [
    "t= list(range(0,10))\n",
    "for i in t:\n",
    "    print('5','*',i,'=',(5*i))"
   ]
  },
  {
   "cell_type": "markdown",
   "id": "42471cf3-9bff-4322-99a1-0386b02d3c01",
   "metadata": {},
   "source": [
    "### 5.3 Understanding while loop"
   ]
  },
  {
   "cell_type": "code",
   "execution_count": 19,
   "id": "ef21c57a-af4c-4ecb-8088-51a7833bb4d7",
   "metadata": {},
   "outputs": [
    {
     "name": "stdout",
     "output_type": "stream",
     "text": [
      "5 * 1 = 5\n",
      "5 * 1 = 5\n",
      "5 * 1 = 5\n",
      "5 * 1 = 5\n",
      "5 * 1 = 5\n",
      "5 * 1 = 5\n",
      "5 * 1 = 5\n",
      "5 * 1 = 5\n",
      "5 * 1 = 5\n",
      "5 * 1 = 5\n"
     ]
    }
   ],
   "source": [
    "i=1\n",
    "while(i<=10):\n",
    "    print('5','*','1','=',(5*1))\n",
    "    i=i+1"
   ]
  },
  {
   "cell_type": "markdown",
   "id": "59441052-f310-4d61-a90d-7fbfab04619e",
   "metadata": {},
   "source": [
    "### 5.4 loop control statement"
   ]
  },
  {
   "cell_type": "code",
   "execution_count": 24,
   "id": "c1eaf7a0-7281-4576-9947-4c3bc057ebc8",
   "metadata": {},
   "outputs": [
    {
     "name": "stdout",
     "output_type": "stream",
     "text": [
      "5 * 1 = 5\n",
      "5 * 2 = 10\n",
      "5 * 4 = 20\n",
      "5 * 5 = 25\n",
      "5 * 7 = 35\n",
      "5 * 8 = 40\n",
      "5 * 10 = 50\n"
     ]
    }
   ],
   "source": [
    "for i in range(1,11):\n",
    "    if (i%3==0):\n",
    "        continue\n",
    "    print('5','*',i,'=',(5*i))"
   ]
  },
  {
   "cell_type": "markdown",
   "id": "6d9ed8f8-16e2-4a6d-96a7-1db5b6dabf1e",
   "metadata": {},
   "source": [
    "### 5.5 Loop else block"
   ]
  },
  {
   "cell_type": "markdown",
   "id": "7d018940-cbf9-4b14-9ef8-f9f2116b4794",
   "metadata": {},
   "source": [
    "#program to find a number is prime"
   ]
  },
  {
   "cell_type": "code",
   "execution_count": 37,
   "id": "4e8d9e11-5060-4bb3-8635-715820773c05",
   "metadata": {},
   "outputs": [
    {
     "name": "stdin",
     "output_type": "stream",
     "text": [
      "Enter a number:  15\n"
     ]
    },
    {
     "name": "stdout",
     "output_type": "stream",
     "text": [
      "The number is not prime\n"
     ]
    }
   ],
   "source": [
    "# Program to determine is a number is prime or not\n",
    "# input\n",
    "n = int(input(\"Enter a number: \"))\n",
    "\n",
    "# process\n",
    "prime = True\n",
    "for i in range(2, n):\n",
    "    if(n % i == 0):\n",
    "        prime = False\n",
    "        break\n",
    "\n",
    "# output\n",
    "if(prime):\n",
    "    print(\"The number is prime\")\n",
    "else:\n",
    "    print(\"The number is not prime\")"
   ]
  },
  {
   "cell_type": "code",
   "execution_count": 30,
   "id": "7c1a1848-f727-4cad-ad3b-ccca6b9b2f11",
   "metadata": {},
   "outputs": [
    {
     "name": "stdin",
     "output_type": "stream",
     "text": [
      "ENTER A NUMBER: 13\n"
     ]
    },
    {
     "name": "stdout",
     "output_type": "stream",
     "text": [
      "This is a prime number\n"
     ]
    }
   ],
   "source": [
    "n=int(input(\"ENTER A NUMBER:\"))\n",
    "#PROCESS\n",
    "for i in range(2,n):\n",
    "      if (n%2==0):\n",
    "        print(\"This is not a prime number\")\n",
    "else:\n",
    "    print(\"This is a prime number\")"
   ]
  },
  {
   "cell_type": "markdown",
   "id": "07fccd73-122b-4e0b-ab91-bf1fe9e020b8",
   "metadata": {},
   "source": [
    "#if the for loop comes out because if brake statement, the else block will not execute"
   ]
  },
  {
   "cell_type": "code",
   "execution_count": 31,
   "id": "112554f6-279e-4667-9987-5689d67fcd3b",
   "metadata": {},
   "outputs": [
    {
     "name": "stdin",
     "output_type": "stream",
     "text": [
      "ENTER A NUMBER: 14\n"
     ]
    },
    {
     "name": "stdout",
     "output_type": "stream",
     "text": [
      "This is not a prime number\n"
     ]
    }
   ],
   "source": [
    "n=int(input(\"ENTER A NUMBER:\"))\n",
    "#PROCESS\n",
    "for i in range(2,n):\n",
    "      if (n%2==0):\n",
    "        print(\"This is not a prime number\")\n",
    "        break\n",
    "else:\n",
    "    print(\"This is a prime number\")"
   ]
  },
  {
   "cell_type": "markdown",
   "id": "a22708d8-1e81-4845-84f9-ccef6a9e41c5",
   "metadata": {},
   "source": [
    "#if the for loop comes naturally, the else statement will execute."
   ]
  },
  {
   "cell_type": "markdown",
   "id": "6e2136b6-2f6f-4d13-abec-f9494eedcc94",
   "metadata": {},
   "source": [
    "### 5.6 Nested loops"
   ]
  },
  {
   "cell_type": "markdown",
   "id": "8be3148e-9054-433d-9712-b57e7f7e3a8e",
   "metadata": {},
   "source": [
    "#[(1,1),(2,4),(3,9)....]"
   ]
  },
  {
   "cell_type": "code",
   "execution_count": 34,
   "id": "fff17a04-dcb0-4192-8475-70986063c7e8",
   "metadata": {},
   "outputs": [
    {
     "name": "stdout",
     "output_type": "stream",
     "text": [
      "[(1, 1), (2, 4), (3, 9), (4, 16), (5, 25), (6, 36), (7, 49), (8, 64), (9, 81), (10, 100)]\n"
     ]
    }
   ],
   "source": [
    "v=[]\n",
    "for i in range(1,11):\n",
    "    t=i,i**2  #PACKING\n",
    "    v.append(t)\n",
    "print(v)"
   ]
  },
  {
   "cell_type": "code",
   "execution_count": 36,
   "id": "54ba0a4e-dd3d-464b-9fd0-c83e9b9322ea",
   "metadata": {},
   "outputs": [
    {
     "name": "stdout",
     "output_type": "stream",
     "text": [
      "0 0 0\n",
      "0 1 0\n",
      "0 2 0\n",
      "0 3 0\n",
      "1 0 0\n",
      "1 1 1\n",
      "1 2 2\n",
      "1 3 3\n",
      "2 0 0\n",
      "2 1 2\n",
      "2 2 4\n",
      "2 3 6\n",
      "3 0 0\n",
      "3 1 3\n",
      "3 2 6\n",
      "3 3 9\n"
     ]
    }
   ],
   "source": [
    "for m in range(4):  #nested loops\n",
    "    for n in range(4):\n",
    "        print(m,n, m*n)"
   ]
  },
  {
   "cell_type": "code",
   "execution_count": 40,
   "id": "c66cfe32-2fe7-408f-a7a8-f6cda1dd1bfe",
   "metadata": {},
   "outputs": [
    {
     "ename": "NameError",
     "evalue": "name 'numbers' is not defined",
     "output_type": "error",
     "traceback": [
      "\u001b[1;31m---------------------------------------------------------------------------\u001b[0m",
      "\u001b[1;31mNameError\u001b[0m                                 Traceback (most recent call last)",
      "Cell \u001b[1;32mIn[40], line 3\u001b[0m\n\u001b[0;32m      1\u001b[0m n\u001b[38;5;241m=\u001b[39m[\u001b[38;5;241m1\u001b[39m,\u001b[38;5;241m2\u001b[39m,\u001b[38;5;241m3\u001b[39m,\u001b[38;5;241m4\u001b[39m,\u001b[38;5;241m1\u001b[39m,\u001b[38;5;241m2\u001b[39m,\u001b[38;5;241m3\u001b[39m,\u001b[38;5;241m4\u001b[39m,\u001b[38;5;241m5\u001b[39m]\n\u001b[0;32m      2\u001b[0m unique\u001b[38;5;241m=\u001b[39m[]\n\u001b[1;32m----> 3\u001b[0m \u001b[38;5;28;01mfor\u001b[39;00m n \u001b[38;5;129;01min\u001b[39;00m numbers:\n\u001b[0;32m      4\u001b[0m     \u001b[38;5;28;01mif\u001b[39;00m n \u001b[38;5;129;01mnot\u001b[39;00m \u001b[38;5;129;01min\u001b[39;00m unique:\n\u001b[0;32m      5\u001b[0m         unique\u001b[38;5;241m.\u001b[39mappend(n)\n",
      "\u001b[1;31mNameError\u001b[0m: name 'numbers' is not defined"
     ]
    }
   ],
   "source": [
    "n=[1,2,3,4,1,2,3,4,5]\n",
    "unique=[]\n",
    "for n in numbers:\n",
    "    if n not in unique:\n",
    "        unique.append(n)\n",
    "print(unique)"
   ]
  },
  {
   "cell_type": "code",
   "execution_count": null,
   "id": "6e314c5a-b313-4e65-a850-82b371ccd0a9",
   "metadata": {},
   "outputs": [],
   "source": []
  }
 ],
 "metadata": {
  "kernelspec": {
   "display_name": "Python 3 (ipykernel)",
   "language": "python",
   "name": "python3"
  },
  "language_info": {
   "codemirror_mode": {
    "name": "ipython",
    "version": 3
   },
   "file_extension": ".py",
   "mimetype": "text/x-python",
   "name": "python",
   "nbconvert_exporter": "python",
   "pygments_lexer": "ipython3",
   "version": "3.12.4"
  }
 },
 "nbformat": 4,
 "nbformat_minor": 5
}
