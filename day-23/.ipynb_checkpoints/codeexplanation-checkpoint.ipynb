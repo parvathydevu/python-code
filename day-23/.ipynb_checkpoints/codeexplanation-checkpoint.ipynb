{
 "cells": [
  {
   "cell_type": "code",
   "execution_count": null,
   "id": "33446563-db76-45fc-ac05-f269ab9516c9",
   "metadata": {},
   "outputs": [],
   "source": [
    "<!DOCTYPE html>: Declares the document type and version of HTML being used (HTML5).\n",
    "<html lang=\"en\">: Defines the root element of the HTML document and sets the language attribute to English.\n",
    "\n",
    "<head>: Contains metadata and links to external resources.\n",
    "<meta charset=\"UTF-8\">: Specifies the character encoding for the document (UTF-8).\n",
    "<title>{% block title %}My WebApp{% endblock %}</title>: Sets the title of the document, which appears in the browser tab. \n",
    "{% block title %} is a placeholder for dynamic content in a template.\n",
    "<script src=\"https://cdn.tailwindcss.com\"></script>: Links to the Tailwind CSS library for styling.\n",
    "\n"
   ]
  },
  {
   "cell_type": "code",
   "execution_count": null,
   "id": "d0c89660-4864-42cc-91ef-cb14dd7434d5",
   "metadata": {},
   "outputs": [],
   "source": [
    "charfiedl- Used to store short strings, such as names or titles.\n",
    "textfield-Used to store large text fields, such as descriptions or content\n"
   ]
  }
 ],
 "metadata": {
  "kernelspec": {
   "display_name": "Python 3 (ipykernel)",
   "language": "python",
   "name": "python3"
  },
  "language_info": {
   "codemirror_mode": {
    "name": "ipython",
    "version": 3
   },
   "file_extension": ".py",
   "mimetype": "text/x-python",
   "name": "python",
   "nbconvert_exporter": "python",
   "pygments_lexer": "ipython3",
   "version": "3.12.4"
  }
 },
 "nbformat": 4,
 "nbformat_minor": 5
}
