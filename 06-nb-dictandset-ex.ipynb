{
 "cells": [
  {
   "cell_type": "code",
   "execution_count": null,
   "id": "55b31d09-7eb8-460a-973b-354ee10a233a",
   "metadata": {},
   "outputs": [],
   "source": [
    "'''1.Count Word Frequency in a Sentence  \n",
    "Task: Given a sentence, count the occurrences of each word using a dictionary.  \n",
    "Example:  \n",
    "sentence = \"apple banana apple orange banana apple\"  \n",
    "Output: {'apple': 3, 'banana': 2, 'orange': 1}  '''"
   ]
  },
  {
   "cell_type": "markdown",
   "id": "98256553-5d1c-4b0e-aa23-6d6b5c2b6838",
   "metadata": {},
   "source": [
    "#solution1"
   ]
  },
  {
   "cell_type": "code",
   "execution_count": 3,
   "id": "e98f2643-8beb-4e15-b840-5f4546ce1af4",
   "metadata": {},
   "outputs": [
    {
     "name": "stdout",
     "output_type": "stream",
     "text": [
      "{'apple': 3, 'banana': 2, 'orange': 1}\n"
     ]
    }
   ],
   "source": [
    "sentence = \"apple banana apple orange banana apple\"\n",
    "w=sentence.split()\n",
    "word_frequency = {}\n",
    "for word in w:\n",
    "    if word in word_frequency:\n",
    "        word_frequency[word] += 1\n",
    "    else:\n",
    "        word_frequency[word] = 1\n",
    "print(word_frequency)"
   ]
  },
  {
   "cell_type": "code",
   "execution_count": null,
   "id": "d0fc6bd6-2ac2-4415-a20c-584e1223b670",
   "metadata": {},
   "outputs": [],
   "source": [
    "'''2. Find Unique Elements in Two Lists Using Sets  \n",
    "Task: Given two lists, find the elements that are unique to each list using sets.  \n",
    "Example:  \n",
    "list1 = {1, 2, 3, 4}  \n",
    "list2 = {3, 4, 5, 6}  \n",
    "Output: Unique in list1: {1, 2}, Unique in list2: {5, 6} '''"
   ]
  },
  {
   "cell_type": "code",
   "execution_count": 5,
   "id": "4d8a1dcf-32b1-4ae1-ab11-a305a8a989f0",
   "metadata": {},
   "outputs": [
    {
     "data": {
      "text/plain": [
       "{1, 2, 5, 6}"
      ]
     },
     "execution_count": 5,
     "metadata": {},
     "output_type": "execute_result"
    }
   ],
   "source": [
    "list1 = {1, 2, 3, 4}  \n",
    "list2 = {3, 4, 5, 6} \n",
    "unique_elements = list1 ^ list2\n",
    "unique_elements"
   ]
  },
  {
   "cell_type": "code",
   "execution_count": null,
   "id": "f9e61079-326c-4215-a8ea-0e1dd1c17cfd",
   "metadata": {},
   "outputs": [],
   "source": [
    "'''3. Merge Two Dictionaries  \n",
    "Task: Merge two dictionaries and sum the values of common keys.  \n",
    "Example:  \n",
    "dict1 = {'a': 10, 'b': 20}  \n",
    "dict2 = {'b': 30, 'c': 40}  \n",
    "Output: {'a': 10, 'b': 50, 'c': 40} '''"
   ]
  },
  {
   "cell_type": "code",
   "execution_count": 30,
   "id": "5639c3ae-ebbb-4c35-831a-aa69273aedd3",
   "metadata": {},
   "outputs": [
    {
     "name": "stdout",
     "output_type": "stream",
     "text": [
      "{'a': 10, 'b': 50, 'c': 40}\n"
     ]
    }
   ],
   "source": [
    "dict1 = {'a': 10, 'b': 20}\n",
    "dict2 = {'b': 30, 'c': 40}\n",
    "\n",
    "merg = dict1.copy()  # Start with a copy of dict1\n",
    "\n",
    "for key, value in dict2.items():\n",
    "    if key in merg:\n",
    "        merg[key] += value  # Sum the values of common keys\n",
    "    else:\n",
    "        merg[key] = value  # Add new key-value pairs\n",
    "print(merg)\n"
   ]
  },
  {
   "cell_type": "code",
   "execution_count": 34,
   "id": "64fa4185-9858-4010-b464-77d053b339b5",
   "metadata": {},
   "outputs": [
    {
     "data": {
      "text/plain": [
       "{'a': 10, 'b': 50, 'c': 40}"
      ]
     },
     "execution_count": 34,
     "metadata": {},
     "output_type": "execute_result"
    }
   ],
   "source": [
    "dict1 = {'a': 10, 'b': 20}\n",
    "dict2 = {'b': 30, 'c': 40}\n",
    "d=dict1.copy()  #COPY DICT1 TO D\n",
    "for k,v in dict2.items():\n",
    "    d[k]=d.get(k,0)+v\n",
    "d"
   ]
  },
  {
   "cell_type": "code",
   "execution_count": null,
   "id": "731b9080-6c91-4640-92cb-fd61e72200ff",
   "metadata": {},
   "outputs": [],
   "source": [
    "'''4. Find the Intersection of Two Sets  \n",
    "Task: Given two sets, find the common elements.  \n",
    "Example:  \n",
    "set1 = {1, 2, 3, 4}  \n",
    "set2 = {3, 4, 5, 6}  \n",
    "Output: {3, 4} "
   ]
  },
  {
   "cell_type": "code",
   "execution_count": 13,
   "id": "9712f18d-45db-4490-a510-86af085493cd",
   "metadata": {},
   "outputs": [
    {
     "data": {
      "text/plain": [
       "{3, 4}"
      ]
     },
     "execution_count": 13,
     "metadata": {},
     "output_type": "execute_result"
    }
   ],
   "source": [
    "set1 = {1, 2, 3, 4}  \n",
    "set2 = {3, 4, 5, 6}  \n",
    "set1&set2"
   ]
  },
  {
   "cell_type": "code",
   "execution_count": null,
   "id": "4cb069f4-ddc0-4a8e-b832-3b3cdb6e0db1",
   "metadata": {},
   "outputs": [],
   "source": [
    "'''Find the Most Frequent Element in a List  \n",
    "Task: Given a list, find the element that appears the most times.  \n",
    "Example:  \n",
    "numbers = [1, 3, 2, 3, 4, 3, 5, 2, 1, 3]  \n",
    "Output: Most frequent: 3 (appears 4 times)  '''"
   ]
  },
  {
   "cell_type": "code",
   "execution_count": 14,
   "id": "a8db0cad-9379-4194-9673-6ef3bda03bdd",
   "metadata": {},
   "outputs": [
    {
     "name": "stdout",
     "output_type": "stream",
     "text": [
      "Most frequent: 3 (appears 4 times)\n"
     ]
    }
   ],
   "source": [
    "numbers = [1, 3, 2, 3, 4, 3, 5, 2, 1, 3]\n",
    "frequency = {}\n",
    "for num in numbers:\n",
    "    if num in frequency:\n",
    "        frequency[num] += 1\n",
    "    else:\n",
    "        frequency[num] = 1\n",
    "\n",
    "most_frequent = None\n",
    "max_count = 0\n",
    "\n",
    "for key in frequency:\n",
    "    if frequency[key] > max_count:\n",
    "        max_count = frequency[key]\n",
    "        most_frequent = key\n",
    "\n",
    "print(f\"Most frequent: {most_frequent} (appears {max_count} times)\") "
   ]
  },
  {
   "cell_type": "code",
   "execution_count": null,
   "id": "3ce3ee26-f7ec-4f05-b59c-9d2c8f3d45ea",
   "metadata": {},
   "outputs": [],
   "source": [
    "''' 6. Remove Duplicates from a List Using Sets  \n",
    "Task: Remove duplicates from a list while maintaining order.  \n",
    "Example:  \n",
    "lst = [1, 2, 2, 3, 4, 4, 5, 6, 6, 6]  \n",
    "Output: [1, 2, 3, 4, 5, 6] '''"
   ]
  },
  {
   "cell_type": "code",
   "execution_count": 1,
   "id": "0d50c335-3afd-4cca-a1c7-abba3824e656",
   "metadata": {},
   "outputs": [
    {
     "data": {
      "text/plain": [
       "{1, 2, 4, 6, 43, 99}"
      ]
     },
     "execution_count": 1,
     "metadata": {},
     "output_type": "execute_result"
    }
   ],
   "source": [
    "lst = [1, 99, 2, 43, 4, 4, 43, 6, 6, 6] \n",
    "set(lst)"
   ]
  },
  {
   "cell_type": "code",
   "execution_count": 2,
   "id": "6aecf2bc-6a83-4136-9f29-5f189d2b4f46",
   "metadata": {},
   "outputs": [
    {
     "data": {
      "text/plain": [
       "{1, 2, 3, 4, 5, 6}"
      ]
     },
     "execution_count": 2,
     "metadata": {},
     "output_type": "execute_result"
    }
   ],
   "source": [
    "lst = [1, 2, 2, 3, 4, 4, 5, 6, 6, 6] \n",
    "set(lst)"
   ]
  },
  {
   "cell_type": "code",
   "execution_count": 3,
   "id": "1c4b8847-932b-4b1c-b46d-084bd7e6487e",
   "metadata": {},
   "outputs": [
    {
     "name": "stdout",
     "output_type": "stream",
     "text": [
      "{65, 34, 67, 98, 7, 9, 12, 45, 78, 77, 21, 22, 23, 56}\n"
     ]
    }
   ],
   "source": [
    "a=[34,21,45,22,12,12,45,67,23,12,56,78,98,65,23,77,9,9,9,7]\n",
    "b=set(a)\n",
    "print(b)"
   ]
  },
  {
   "cell_type": "code",
   "execution_count": 16,
   "id": "dc62a656-284c-4f53-a040-a3c99286a7bc",
   "metadata": {},
   "outputs": [
    {
     "name": "stdout",
     "output_type": "stream",
     "text": [
      "[1, 2, 3, 4, 5, 6]\n"
     ]
    }
   ],
   "source": [
    "lst = [1, 2, 2, 3, 4, 4, 5, 6, 6, 6] \n",
    "seen = set()\n",
    "unique_lst = []\n",
    "\n",
    "for item in lst:\n",
    "    if item not in seen:\n",
    "        unique_lst.append(item)\n",
    "        seen.add(item)\n",
    "\n",
    "print(unique_lst)"
   ]
  },
  {
   "cell_type": "code",
   "execution_count": null,
   "id": "e81c3d5f-15a0-43df-8e90-467efea4ee49",
   "metadata": {},
   "outputs": [],
   "source": [
    "''' 7. Find Students Who Enrolled in Both Courses  \n",
    "Task: Given two sets of students, find those who are enrolled in both courses.  \n",
    "Example:  \n",
    "course_A = {\"Alice\", \"Bob\", \"Charlie\"}  \n",
    "course_B = {\"Bob\", \"David\", \"Charlie\"}  \n",
    "Output: {\"Bob\", \"Charlie\"} '''"
   ]
  },
  {
   "cell_type": "code",
   "execution_count": 17,
   "id": "f1223907-4a3f-4206-aff7-ce77d06202d3",
   "metadata": {},
   "outputs": [
    {
     "name": "stdout",
     "output_type": "stream",
     "text": [
      "{'Bob', 'Charlie'}\n"
     ]
    }
   ],
   "source": [
    "course_A = {\"Alice\", \"Bob\", \"Charlie\"}  \n",
    "course_B = {\"Bob\", \"David\", \"Charlie\"} \n",
    "output= course_A  & course_B\n",
    "print(output)"
   ]
  },
  {
   "cell_type": "code",
   "execution_count": null,
   "id": "b637b742-2d7f-4a66-a822-70d713e8a394",
   "metadata": {},
   "outputs": [],
   "source": [
    "''' 8. Find the Union of Multiple Sets  \n",
    "Task: Find the union of three sets.  \n",
    "Example:  \n",
    "set1 = {1, 2, 3}  \n",
    "set2 = {3, 4, 5}  \n",
    "set3 = {5, 6, 7}  \n",
    "Output: {1, 2, 3, 4, 5, 6, 7} '''"
   ]
  },
  {
   "cell_type": "code",
   "execution_count": 18,
   "id": "d068da02-59a0-4956-bbe6-691602df53c0",
   "metadata": {},
   "outputs": [
    {
     "data": {
      "text/plain": [
       "{1, 2, 3, 4, 5, 6, 7}"
      ]
     },
     "execution_count": 18,
     "metadata": {},
     "output_type": "execute_result"
    }
   ],
   "source": [
    "set1 = {1, 2, 3}  \n",
    "set2 = {3, 4, 5} \n",
    "set3 = {5, 6, 7} \n",
    "set1 | set2 | set3"
   ]
  },
  {
   "cell_type": "code",
   "execution_count": null,
   "id": "279b05d6-3630-4c7d-af47-a18ffd9b4c01",
   "metadata": {},
   "outputs": [],
   "source": [
    "'''9. Reverse a Dictionary (Keys Become Values, Values Become Keys)  \n",
    "Task: Swap keys and values in a dictionary.  \n",
    "Example:  \n",
    "original_dict = {'a': 1, 'b': 2, 'c': 3}  \n",
    "Output: {1: 'a', 2: 'b', 3: 'c'}'''"
   ]
  },
  {
   "cell_type": "code",
   "execution_count": 19,
   "id": "7a8dc114-fd6b-4f21-a979-7a3b2c53a245",
   "metadata": {},
   "outputs": [
    {
     "data": {
      "text/plain": [
       "{1: 'a', 2: 'b', 3: 'c'}"
      ]
     },
     "execution_count": 19,
     "metadata": {},
     "output_type": "execute_result"
    }
   ],
   "source": [
    "original_dict = {'a': 1, 'b': 2, 'c': 3}\n",
    "d1={}\n",
    "for key,values in original_dict.items():\n",
    "    d1[values]=key\n",
    "d1"
   ]
  },
  {
   "cell_type": "code",
   "execution_count": null,
   "id": "54e0cadc-6b16-48c7-84c2-ab60eb9013a1",
   "metadata": {},
   "outputs": [],
   "source": [
    "''' 10. Check If Two Words Are Anagrams Using Dictionaries  \n",
    "Task: Given two words, check if they are anagrams (i.e., contain the same letters with the same frequency).  \n",
    "Example:  \n",
    "word1 = \"listen\"  \n",
    "word2 = \"silent\"  \n",
    "Output: True (They are anagrams)  ''' check if two words are anagrams by comparing the frequency of each letter using dictionaries"
   ]
  },
  {
   "cell_type": "code",
   "execution_count": 25,
   "id": "a0801582-d9df-42a9-96a9-16f42263fa00",
   "metadata": {},
   "outputs": [
    {
     "name": "stdout",
     "output_type": "stream",
     "text": [
      "They are anagrams\n"
     ]
    }
   ],
   "source": [
    "word1 = \"listen\"\n",
    "word2 = \"silent\"\n",
    "if len(word1) == len(word2):\n",
    "    freq1 = {}\n",
    "    freq2 = {}\n",
    "    \n",
    "    for char in word1:\n",
    "        if char in freq1:\n",
    "            freq1[char] += 1\n",
    "        else:\n",
    "            freq1[char] = 1\n",
    "\n",
    "    for char in word2:\n",
    "        if char in freq2:\n",
    "            freq2[char] += 1\n",
    "        else:\n",
    "            freq2[char] = 1\n",
    "            return \n",
    "\n",
    "    if freq1 == freq2:\n",
    "        print(\"They are anagrams\")\n",
    "    else:\n",
    "        print(\"They are not anagrams\")\n",
    "else:\n",
    "    print(\"They are not anagrams\")"
   ]
  },
  {
   "cell_type": "code",
   "execution_count": 27,
   "id": "080f5f05-be30-4eea-bfa2-63be278cb1bf",
   "metadata": {},
   "outputs": [
    {
     "name": "stdout",
     "output_type": "stream",
     "text": [
      "True (They are anagrams)\n"
     ]
    }
   ],
   "source": [
    "# Words to check\n",
    "word1 = \"listen\"\n",
    "word2 = \"silent\"\n",
    "char_count1 = {}\n",
    "char_count2 = {}\n",
    "\n",
    "for char in word1:\n",
    "    if char in char_count1:\n",
    "        char_count1[char] += 1\n",
    "    else:\n",
    "        char_count1[char] = 1\n",
    "\n",
    "for char in word2:\n",
    "    if char in char_count2:\n",
    "        char_count2[char] += 1\n",
    "    else:\n",
    "        char_count2[char] = 1\n",
    "\n",
    "are_anagrams = char_count1 == char_count2\n",
    "\n",
    "print(are_anagrams,\"(They are anagrams)\")  # Output: True"
   ]
  },
  {
   "cell_type": "code",
   "execution_count": 4,
   "id": "5a966307-8ccd-4c42-b9c7-6c5c09d468cf",
   "metadata": {},
   "outputs": [
    {
     "name": "stdout",
     "output_type": "stream",
     "text": [
      "True (They are anagrams)\n"
     ]
    }
   ],
   "source": [
    "word1 = \"listen\"  \n",
    "word2 = \"silent\"\n",
    "\n",
    "s1 = set(word1)\n",
    "s2 = set(word2)\n",
    "\n",
    "if s1==s2:\n",
    "    print(\"True (They are anagrams)\")\n",
    "else:\n",
    "    print(\"They are not anagrams\")"
   ]
  },
  {
   "cell_type": "code",
   "execution_count": null,
   "id": "8e1c19ad-ee79-4ced-be7b-912a33a25f6d",
   "metadata": {},
   "outputs": [],
   "source": []
  }
 ],
 "metadata": {
  "kernelspec": {
   "display_name": "Python 3 (ipykernel)",
   "language": "python",
   "name": "python3"
  },
  "language_info": {
   "codemirror_mode": {
    "name": "ipython",
    "version": 3
   },
   "file_extension": ".py",
   "mimetype": "text/x-python",
   "name": "python",
   "nbconvert_exporter": "python",
   "pygments_lexer": "ipython3",
   "version": "3.12.4"
  }
 },
 "nbformat": 4,
 "nbformat_minor": 5
}
