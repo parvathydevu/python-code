{
 "cells": [
  {
   "cell_type": "markdown",
   "id": "576cf6b1-6065-4e92-87f9-8ceafc5292f3",
   "metadata": {},
   "source": [
    "# Mocking"
   ]
  },
  {
   "cell_type": "code",
   "execution_count": null,
   "id": "36b8fd3f-b5d4-41dd-bf0b-82680146c6ef",
   "metadata": {},
   "outputs": [],
   "source": [
    "Mocking is a technique used in unit testing to simulate the behavior of real objects. It allows you to test components in\n",
    "isolation by replacing dependencies with mock objects that mimic the behavior of the real ones. This is particularly useful when the real objects \n",
    "are difficult to instantiate, have undesirable side effects, or are slow.\n",
    "\n",
    "Key Points About Mocking:\n",
    "Isolation: Mocking helps isolate the unit of code being tested, ensuring that tests are not affected by external dependencies.\n",
    "Control: You can control the behavior of mock objects, specifying return values, exceptions, and interactions.\n",
    "Verification: Mocking allows you to verify that certain methods were called with expected parameters, ensuring correct interactions.\n",
    "Efficiency: Mock objects are typically faster and more efficient than real objects, making tests run quicker."
   ]
  },
  {
   "cell_type": "code",
   "execution_count": null,
   "id": "f2a8bb55-8885-4f03-95cf-6c4d30590dbc",
   "metadata": {},
   "outputs": [],
   "source": [
    "Mocking in software test\n",
    "Mocking is a technique which simulate the real objects.\n",
    "mock- virtual rep of real object (faking the existence of object or file), used in unit testing.\n",
    "    "
   ]
  },
  {
   "cell_type": "code",
   "execution_count": null,
   "id": "9f392199-3f9e-4d84-b901-768f970651bc",
   "metadata": {},
   "outputs": [],
   "source": [
    "Data Communication over computer\n",
    "\n",
    "address is binary pattern (32 bits thing-group of 8 bits-8 byte is called Ip address) it is an unique for every computer.\n",
    "Ipv4 address= another type of address(32 bit and group of 8 bits)( Ip adress is 32 bit grouped in 8 bytes)\n"
   ]
  }
 ],
 "metadata": {
  "kernelspec": {
   "display_name": "Python 3 (ipykernel)",
   "language": "python",
   "name": "python3"
  },
  "language_info": {
   "codemirror_mode": {
    "name": "ipython",
    "version": 3
   },
   "file_extension": ".py",
   "mimetype": "text/x-python",
   "name": "python",
   "nbconvert_exporter": "python",
   "pygments_lexer": "ipython3",
   "version": "3.12.4"
  }
 },
 "nbformat": 4,
 "nbformat_minor": 5
}
