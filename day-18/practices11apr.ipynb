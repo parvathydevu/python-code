{
 "cells": [
  {
   "cell_type": "code",
   "execution_count": 2,
   "id": "74dc0dc6-8056-405d-a9c6-42f383ed83d2",
   "metadata": {},
   "outputs": [
    {
     "name": "stdout",
     "output_type": "stream",
     "text": [
      "1\n"
     ]
    }
   ],
   "source": [
    "def gen():\n",
    "    yield 1;\n",
    "    yield 2;\n",
    "    yield 3\n",
    "g=gen()\n",
    "print(next(g))\n",
    "\n",
    "    "
   ]
  },
  {
   "cell_type": "code",
   "execution_count": 3,
   "id": "9db7bfa4-de71-4198-b491-cc8f024cee54",
   "metadata": {},
   "outputs": [
    {
     "data": {
      "text/plain": [
       "['A', 'B']"
      ]
     },
     "execution_count": 3,
     "metadata": {},
     "output_type": "execute_result"
    }
   ],
   "source": [
    "list(map(lambda x: x.upper(),['a','b']))"
   ]
  },
  {
   "cell_type": "code",
   "execution_count": 2,
   "id": "e9f16fe0-2cf0-4c85-b877-a576d3d76690",
   "metadata": {},
   "outputs": [
    {
     "name": "stdout",
     "output_type": "stream",
     "text": [
      "0\n"
     ]
    }
   ],
   "source": [
    "gen=(x**2 for x in range(3))\n",
    "print(next(gen))"
   ]
  },
  {
   "cell_type": "code",
   "execution_count": 4,
   "id": "4596759d-f30b-46cf-9554-2a62ac104daf",
   "metadata": {},
   "outputs": [
    {
     "name": "stdout",
     "output_type": "stream",
     "text": [
      "Average: 85.0\n",
      "Final Grade: B\n"
     ]
    }
   ],
   "source": [
    "# grade_calculator.py\n",
    "\n",
    "def calculate_average(grades):\n",
    "    total = sum(grades)\n",
    "    count = len(grades)\n",
    "    avg = total / count\n",
    "    return avg\n",
    "\n",
    "def determine_grade(avg):\n",
    "    breakpoint()      # <- the code execution stops here\n",
    "    if avg >= 90:\n",
    "        return \"A\"\n",
    "    elif avg >= 80:\n",
    "        return \"B\"\n",
    "    elif avg >= 70:\n",
    "        return \"C\"\n",
    "    elif avg >= 60:\n",
    "        return \"D\"\n",
    "    else:\n",
    "        return \"F\"\n",
    "\n",
    "grades = [85, 92, 78]\n",
    "average = calculate_average(grades)\n",
    "final_grade = determine_grade(average)\n",
    "\n",
    "print(f\"Average: {average}\")\n",
    "print(f\"Final Grade: {final_grade}\")"
   ]
  },
  {
   "cell_type": "code",
   "execution_count": null,
   "id": "de81ab28-bc2c-4efd-b682-31e8506b302c",
   "metadata": {},
   "outputs": [],
   "source": []
  }
 ],
 "metadata": {
  "kernelspec": {
   "display_name": "Python 3 (ipykernel)",
   "language": "python",
   "name": "python3"
  },
  "language_info": {
   "codemirror_mode": {
    "name": "ipython",
    "version": 3
   },
   "file_extension": ".py",
   "mimetype": "text/x-python",
   "name": "python",
   "nbconvert_exporter": "python",
   "pygments_lexer": "ipython3",
   "version": "3.12.4"
  }
 },
 "nbformat": 4,
 "nbformat_minor": 5
}
