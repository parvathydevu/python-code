{
 "cells": [
  {
   "cell_type": "code",
   "execution_count": 2,
   "id": "65140c62-c64b-41df-95f5-01d6d5621f55",
   "metadata": {},
   "outputs": [
    {
     "name": "stdout",
     "output_type": "stream",
     "text": [
      "True\n"
     ]
    }
   ],
   "source": [
    "class BankAccount:\n",
    "    def __init__(self,acc_no,amount):\n",
    "        self.acc_no=acc_no\n",
    "        self.amount=amount\n",
    "class Customer:\n",
    "    def __init__(self,accounts):\n",
    "        self.accounts=accounts\n",
    "    def purchase_item(self,price,acc_no):\n",
    "        if price<0:\n",
    "            raise Exception(\"Invalid Price\")\n",
    "        if acc_no not in self.accounts:\n",
    "            raise Exception(\"Invalid Account\")\n",
    "        if price>self.accounts[acc_no].amount:\n",
    "            raise Exception(\"Insufficient Amount\")\n",
    "        print(True)\n",
    "acc1=BankAccount(100,900)\n",
    "acc2=BankAccount(102,1500)\n",
    "accounts={acc1.acc_no:acc1,acc2.acc_no:acc2}\n",
    "c=Customer(accounts)\n",
    "acc_no=102\n",
    "try:\n",
    "    c.purchase_item(1300,acc_no)\n",
    "except Exception as e:\n",
    "    if str(e)==\"Invalid price\":\n",
    "        acc_no-=2\n",
    "        print(acc_no)\n",
    "    if str(e)==\"Invalid Account\":\n",
    "        acc_no-=3\n",
    "        print(acc_no)\n",
    "    if str(e)==\"Insufficient Amount\":\n",
    "        acc_no-=2\n",
    "        print(acc_no)"
   ]
  },
  {
   "cell_type": "code",
   "execution_count": 6,
   "id": "31e9b373-6855-4887-abca-247c1ee8bbb5",
   "metadata": {},
   "outputs": [
    {
     "ename": "RuntimeError",
     "evalue": "asyncio.run() cannot be called from a running event loop",
     "output_type": "error",
     "traceback": [
      "\u001b[1;31m---------------------------------------------------------------------------\u001b[0m",
      "\u001b[1;31mRuntimeError\u001b[0m                              Traceback (most recent call last)",
      "Cell \u001b[1;32mIn[6], line 9\u001b[0m\n\u001b[0;32m      6\u001b[0m \u001b[38;5;28;01masync\u001b[39;00m \u001b[38;5;28;01mdef\u001b[39;00m \u001b[38;5;21mmain\u001b[39m():\n\u001b[0;32m      7\u001b[0m     \u001b[38;5;28;01mawait\u001b[39;00m asyncio\u001b[38;5;241m.\u001b[39mgather(\n\u001b[0;32m      8\u001b[0m         coroutine(\u001b[38;5;241m1\u001b[39m),asyncio\u001b[38;5;241m.\u001b[39msleep(\u001b[38;5;241m0.7\u001b[39m), coroutine(\u001b[38;5;241m2\u001b[39m),)\n\u001b[1;32m----> 9\u001b[0m asyncio\u001b[38;5;241m.\u001b[39mrun(main())\n",
      "File \u001b[1;32mC:\\ProgramData\\anaconda3\\Lib\\asyncio\\runners.py:190\u001b[0m, in \u001b[0;36mrun\u001b[1;34m(main, debug, loop_factory)\u001b[0m\n\u001b[0;32m    161\u001b[0m \u001b[38;5;250m\u001b[39m\u001b[38;5;124;03m\"\"\"Execute the coroutine and return the result.\u001b[39;00m\n\u001b[0;32m    162\u001b[0m \n\u001b[0;32m    163\u001b[0m \u001b[38;5;124;03mThis function runs the passed coroutine, taking care of\u001b[39;00m\n\u001b[1;32m   (...)\u001b[0m\n\u001b[0;32m    186\u001b[0m \u001b[38;5;124;03m    asyncio.run(main())\u001b[39;00m\n\u001b[0;32m    187\u001b[0m \u001b[38;5;124;03m\"\"\"\u001b[39;00m\n\u001b[0;32m    188\u001b[0m \u001b[38;5;28;01mif\u001b[39;00m events\u001b[38;5;241m.\u001b[39m_get_running_loop() \u001b[38;5;129;01mis\u001b[39;00m \u001b[38;5;129;01mnot\u001b[39;00m \u001b[38;5;28;01mNone\u001b[39;00m:\n\u001b[0;32m    189\u001b[0m     \u001b[38;5;66;03m# fail fast with short traceback\u001b[39;00m\n\u001b[1;32m--> 190\u001b[0m     \u001b[38;5;28;01mraise\u001b[39;00m \u001b[38;5;167;01mRuntimeError\u001b[39;00m(\n\u001b[0;32m    191\u001b[0m         \u001b[38;5;124m\"\u001b[39m\u001b[38;5;124masyncio.run() cannot be called from a running event loop\u001b[39m\u001b[38;5;124m\"\u001b[39m)\n\u001b[0;32m    193\u001b[0m \u001b[38;5;28;01mwith\u001b[39;00m Runner(debug\u001b[38;5;241m=\u001b[39mdebug, loop_factory\u001b[38;5;241m=\u001b[39mloop_factory) \u001b[38;5;28;01mas\u001b[39;00m runner:\n\u001b[0;32m    194\u001b[0m     \u001b[38;5;28;01mreturn\u001b[39;00m runner\u001b[38;5;241m.\u001b[39mrun(main)\n",
      "\u001b[1;31mRuntimeError\u001b[0m: asyncio.run() cannot be called from a running event loop"
     ]
    }
   ],
   "source": [
    "import asyncio\n",
    "async def coroutine(n):\n",
    "    print(f\"{n} is running\")\n",
    "    await asyncio.sleep(1)\n",
    "    print(f\"{n} is done\")\n",
    "async def main():\n",
    "    await asyncio.gather(\n",
    "        coroutine(1),asyncio.sleep(0.7), coroutine(2),)\n",
    "asyncio.run(main())"
   ]
  },
  {
   "cell_type": "code",
   "execution_count": 7,
   "id": "d7feb7ba-8ca3-4900-9a16-d29b42adcf69",
   "metadata": {},
   "outputs": [
    {
     "name": "stdout",
     "output_type": "stream",
     "text": [
      "1 is running\n",
      "2 is running\n",
      "1 is done\n",
      "2 is done\n"
     ]
    }
   ],
   "source": [
    "import asyncio\n",
    "import nest_asyncio\n",
    "\n",
    "nest_asyncio.apply()\n",
    "\n",
    "async def coroutine(n):\n",
    "    print(f\"{n} is running\")\n",
    "    await asyncio.sleep(1)\n",
    "    print(f\"{n} is done\")\n",
    "\n",
    "async def main():\n",
    "    await asyncio.gather(\n",
    "        coroutine(1), asyncio.sleep(0.7), coroutine(2),\n",
    "    )\n",
    "\n",
    "await main()\n"
   ]
  },
  {
   "cell_type": "code",
   "execution_count": 11,
   "id": "4b06742b-653f-40e5-a137-74a6bfbfb773",
   "metadata": {},
   "outputs": [
    {
     "ename": "TypeError",
     "evalue": "Can't instantiate abstract class MetaClass without an implementation for abstract method 'display'",
     "output_type": "error",
     "traceback": [
      "\u001b[1;31m---------------------------------------------------------------------------\u001b[0m",
      "\u001b[1;31mTypeError\u001b[0m                                 Traceback (most recent call last)",
      "Cell \u001b[1;32mIn[11], line 15\u001b[0m\n\u001b[0;32m     13\u001b[0m         \u001b[38;5;28mprint\u001b[39m(\u001b[38;5;28mself\u001b[39m\u001b[38;5;241m.\u001b[39mnum,end\u001b[38;5;241m=\u001b[39m\u001b[38;5;124m\"\u001b[39m\u001b[38;5;124m \u001b[39m\u001b[38;5;124m\"\u001b[39m)\n\u001b[0;32m     14\u001b[0m         \u001b[38;5;28mprint\u001b[39m(\u001b[38;5;28mself\u001b[39m\u001b[38;5;241m.\u001b[39m__val,end\u001b[38;5;241m=\u001b[39m\u001b[38;5;124m\"\u001b[39m\u001b[38;5;124m \u001b[39m\u001b[38;5;124m\"\u001b[39m)\n\u001b[1;32m---> 15\u001b[0m obj\u001b[38;5;241m=\u001b[39mMetaClass()\n\u001b[0;32m     16\u001b[0m obj\u001b[38;5;241m.\u001b[39mdisplay()\n",
      "\u001b[1;31mTypeError\u001b[0m: Can't instantiate abstract class MetaClass without an implementation for abstract method 'display'"
     ]
    }
   ],
   "source": [
    "from abc import ABCMeta,abstractmethod\n",
    "class MetaClass(metaclass=ABCMeta):\n",
    "    def __int__(self):\n",
    "        self.num=58\n",
    "    @abstractmethod\n",
    "    def display(self):\n",
    "        pass\n",
    "class DemoClass(MetaClass):\n",
    "    def __init__(self):\n",
    "        super().__init__()\n",
    "        self.__val=85\n",
    "    def display(self):\n",
    "        print(self.num,end=\" \")\n",
    "        print(self.__val,end=\" \")\n",
    "obj=MetaClass()\n",
    "obj.display()"
   ]
  },
  {
   "cell_type": "code",
   "execution_count": 15,
   "id": "4e9e92c4-a859-44d7-bdc1-826c7d5a5117",
   "metadata": {},
   "outputs": [
    {
     "name": "stdout",
     "output_type": "stream",
     "text": [
      "7.5\n"
     ]
    }
   ],
   "source": [
    "def fun():\n",
    "    a='5'\n",
    "    b='2.5'\n",
    "    def inc():\n",
    "        nonlocal a\n",
    "        nonlocal b\n",
    "        a=int(a)+float(b)\n",
    "        return a\n",
    "    return inc\n",
    "c=fun()\n",
    "print(c())"
   ]
  },
  {
   "cell_type": "code",
   "execution_count": 13,
   "id": "28328902-f169-4755-9977-6d0d71ddb29f",
   "metadata": {},
   "outputs": [],
   "source": [
    "def num(nums):\n",
    "    for i in nums:\n",
    "        yield(i*i)\n",
    "        print(num_set,end=',')\n",
    "num_set= (x*x^3 for x in [11,24,31,41,52])\n",
    "num_set=num([1,2,3,4,5])"
   ]
  },
  {
   "cell_type": "code",
   "execution_count": 2,
   "id": "172bdd40-80d0-4969-816f-2015505d08a0",
   "metadata": {},
   "outputs": [
    {
     "ename": "AttributeError",
     "evalue": "'list' object has no attribute 'add'",
     "output_type": "error",
     "traceback": [
      "\u001b[1;31m---------------------------------------------------------------------------\u001b[0m",
      "\u001b[1;31mAttributeError\u001b[0m                            Traceback (most recent call last)",
      "Cell \u001b[1;32mIn[2], line 8\u001b[0m\n\u001b[0;32m      6\u001b[0m s\u001b[38;5;241m=\u001b[39m\u001b[38;5;28mlist\u001b[39m(\u001b[38;5;28mmap\u001b[39m(\u001b[38;5;28;01mlambda\u001b[39;00m val:val\u001b[38;5;241m*\u001b[39m\u001b[38;5;241m5\u001b[39m,s))\n\u001b[0;32m      7\u001b[0m s\u001b[38;5;241m.\u001b[39mremove(\u001b[38;5;241m5\u001b[39m)\n\u001b[1;32m----> 8\u001b[0m s\u001b[38;5;241m.\u001b[39madd(\u001b[38;5;241m5\u001b[39m)\n\u001b[0;32m      9\u001b[0m \u001b[38;5;28mprint\u001b[39m(s)\n",
      "\u001b[1;31mAttributeError\u001b[0m: 'list' object has no attribute 'add'"
     ]
    }
   ],
   "source": [
    "list1=[1,2,3,4,3,1,5,4]\n",
    "s=set(list1)\n",
    "s.add(1)  #list obj has no attribute add \n",
    "s.add(2)\n",
    "s=list(s)\n",
    "s=list(map(lambda val:val*5,s))\n",
    "s.remove(5)\n",
    "s.add(5)\n",
    "print(s)"
   ]
  },
  {
   "cell_type": "code",
   "execution_count": 6,
   "id": "51a0cc00-34f6-4da0-a974-847bea127142",
   "metadata": {},
   "outputs": [
    {
     "ename": "RuntimeError",
     "evalue": "asyncio.run() cannot be called from a running event loop",
     "output_type": "error",
     "traceback": [
      "\u001b[1;31m---------------------------------------------------------------------------\u001b[0m",
      "\u001b[1;31mRuntimeError\u001b[0m                              Traceback (most recent call last)",
      "Cell \u001b[1;32mIn[6], line 13\u001b[0m\n\u001b[0;32m     11\u001b[0m             \u001b[38;5;28;01mbreak\u001b[39;00m\n\u001b[0;32m     12\u001b[0m     \u001b[38;5;28mprint\u001b[39m(i)\n\u001b[1;32m---> 13\u001b[0m asyncio\u001b[38;5;241m.\u001b[39mrun(main())\n",
      "File \u001b[1;32mC:\\ProgramData\\anaconda3\\Lib\\asyncio\\runners.py:190\u001b[0m, in \u001b[0;36mrun\u001b[1;34m(main, debug, loop_factory)\u001b[0m\n\u001b[0;32m    161\u001b[0m \u001b[38;5;250m\u001b[39m\u001b[38;5;124;03m\"\"\"Execute the coroutine and return the result.\u001b[39;00m\n\u001b[0;32m    162\u001b[0m \n\u001b[0;32m    163\u001b[0m \u001b[38;5;124;03mThis function runs the passed coroutine, taking care of\u001b[39;00m\n\u001b[1;32m   (...)\u001b[0m\n\u001b[0;32m    186\u001b[0m \u001b[38;5;124;03m    asyncio.run(main())\u001b[39;00m\n\u001b[0;32m    187\u001b[0m \u001b[38;5;124;03m\"\"\"\u001b[39;00m\n\u001b[0;32m    188\u001b[0m \u001b[38;5;28;01mif\u001b[39;00m events\u001b[38;5;241m.\u001b[39m_get_running_loop() \u001b[38;5;129;01mis\u001b[39;00m \u001b[38;5;129;01mnot\u001b[39;00m \u001b[38;5;28;01mNone\u001b[39;00m:\n\u001b[0;32m    189\u001b[0m     \u001b[38;5;66;03m# fail fast with short traceback\u001b[39;00m\n\u001b[1;32m--> 190\u001b[0m     \u001b[38;5;28;01mraise\u001b[39;00m \u001b[38;5;167;01mRuntimeError\u001b[39;00m(\n\u001b[0;32m    191\u001b[0m         \u001b[38;5;124m\"\u001b[39m\u001b[38;5;124masyncio.run() cannot be called from a running event loop\u001b[39m\u001b[38;5;124m\"\u001b[39m)\n\u001b[0;32m    193\u001b[0m \u001b[38;5;28;01mwith\u001b[39;00m Runner(debug\u001b[38;5;241m=\u001b[39mdebug, loop_factory\u001b[38;5;241m=\u001b[39mloop_factory) \u001b[38;5;28;01mas\u001b[39;00m runner:\n\u001b[0;32m    194\u001b[0m     \u001b[38;5;28;01mreturn\u001b[39;00m runner\u001b[38;5;241m.\u001b[39mrun(main)\n",
      "\u001b[1;31mRuntimeError\u001b[0m: asyncio.run() cannot be called from a running event loop"
     ]
    }
   ],
   "source": [
    "import asyncio\n",
    "async def count():\n",
    "    n=2\n",
    "    while True:\n",
    "        yield n\n",
    "        n+=1\n",
    "        await asyncio.sleep(1)\n",
    "async def main():\n",
    "    async for i in count():\n",
    "        if i>=8:\n",
    "            break\n",
    "    print(i)\n",
    "asyncio.run(main())"
   ]
  },
  {
   "cell_type": "code",
   "execution_count": 7,
   "id": "e463bd5e-d83d-4a5f-8c61-1eb85e488451",
   "metadata": {},
   "outputs": [
    {
     "name": "stdout",
     "output_type": "stream",
     "text": [
      "0.8333\n"
     ]
    }
   ],
   "source": [
    "from itertools import combinations\n",
    "\n",
    "# Sample Input\n",
    "n = 4\n",
    "letters = ['a', 'a', 'c', 'd']\n",
    "k = 2\n",
    "\n",
    "# Calculate the total number of combinations\n",
    "total_combinations = list(combinations(letters, k))\n",
    "\n",
    "# Calculate the number of combinations that contain at least one 'a'\n",
    "count_a_combinations = sum(1 for combo in total_combinations if 'a' in combo)\n",
    "\n",
    "# Calculate the probability\n",
    "probability = count_a_combinations / len(total_combinations)\n",
    "\n",
    "# Print the probability rounded to 4 decimal places\n",
    "print(f\"{probability:.4f}\")\n"
   ]
  },
  {
   "cell_type": "code",
   "execution_count": 8,
   "id": "ebacf9c9-a601-49ff-83a8-cd9529b20650",
   "metadata": {},
   "outputs": [
    {
     "name": "stdout",
     "output_type": "stream",
     "text": [
      "0.8333\n"
     ]
    }
   ],
   "source": [
    "from itertools import combinations\n",
    "\n",
    "# Sample Input\n",
    "n = 4\n",
    "letters = ['a', 'a', 'c', 'd']\n",
    "k = 2\n",
    "\n",
    "# Calculate the total number of combinations\n",
    "total_combinations = list(combinations(letters, k))\n",
    "\n",
    "# Calculate the number of combinations that contain at least one 'a'\n",
    "count_a_combinations = sum(1 for combo in total_combinations if 'a' in combo)\n",
    "\n",
    "# Calculate the probability\n",
    "probability = count_a_combinations / len(total_combinations)\n",
    "\n",
    "# Print the probability rounded to 4 decimal places\n",
    "print(f\"{probability:.4f}\")"
   ]
  },
  {
   "cell_type": "code",
   "execution_count": 10,
   "id": "167465a1-d5db-43d2-849b-5f98b0e09389",
   "metadata": {},
   "outputs": [
    {
     "name": "stdin",
     "output_type": "stream",
     "text": [
      " 4\n",
      " a a c d\n",
      " 2\n"
     ]
    },
    {
     "name": "stdout",
     "output_type": "stream",
     "text": [
      "0.8333\n"
     ]
    }
   ],
   "source": [
    "from itertools import combinations\n",
    "\n",
    "# Read input from STDIN\n",
    "n = int(input())\n",
    "letters = input().split()\n",
    "k = int(input())\n",
    "\n",
    "# Calculate the total number of combinations\n",
    "total_combinations = list(combinations(letters, k))\n",
    "\n",
    "# Calculate the number of combinations that contain at least one 'a'\n",
    "count_a_combinations = sum(1 for combo in total_combinations if 'a' in combo)\n",
    "\n",
    "# Calculate the probability\n",
    "probability = count_a_combinations / len(total_combinations)\n",
    "\n",
    "# Print the probability rounded to 4 decimal places\n",
    "print(f\"{probability:.4f}\")"
   ]
  },
  {
   "cell_type": "code",
   "execution_count": 11,
   "id": "408e8a88-c34f-4bf9-8503-7eda57fbc6f0",
   "metadata": {},
   "outputs": [
    {
     "name": "stdin",
     "output_type": "stream",
     "text": [
      " 3 1000\n",
      " 2 5 4\n",
      " 3 7 8 9\n",
      " 5 5 7 8 9 10\n"
     ]
    },
    {
     "name": "stdout",
     "output_type": "stream",
     "text": [
      "206\n"
     ]
    }
   ],
   "source": [
    "from itertools import product\n",
    "\n",
    "# Read input\n",
    "k, m = map(int, input().split())\n",
    "lists = [list(map(int, input().split()[1:])) for _ in range(k)]\n",
    "\n",
    "# Generate all possible combinations of picking one element from each list\n",
    "combinations = list(product(*lists))\n",
    "\n",
    "# Calculate the value of the sum of squares modulo m for each combination\n",
    "max_value = max(sum(x**2 for x in combo) % m for combo in combinations)\n",
    "\n",
    "# Print the maximum value\n",
    "print(max_value)"
   ]
  },
  {
   "cell_type": "code",
   "execution_count": 19,
   "id": "087ceaaf-c402-463d-97be-5893b299bf1e",
   "metadata": {},
   "outputs": [
    {
     "name": "stdout",
     "output_type": "stream",
     "text": [
      "[19, 7, 11, 8, 2, 11, 5] [19, 7, 11, 8, 2, 11, 5]\n"
     ]
    }
   ],
   "source": [
    "L1=[i for i in range(19,0,-3)]\n",
    "L2=L1\n",
    "L2.remove(10)\n",
    "L1+=[i for i in L2 if (i%2==0)]\n",
    "L2.remove(4)\n",
    "L1[1]=6\n",
    "for i in range(len(L1)):\n",
    "    if (L1[i]<=10):\n",
    "        L1[i]+=1\n",
    "    else:\n",
    "        L1[i]-=i\n",
    "print(L1,L2)"
   ]
  },
  {
   "cell_type": "code",
   "execution_count": null,
   "id": "9b2efda9-6b2a-4fe4-af55-b3e9ed43216d",
   "metadata": {},
   "outputs": [],
   "source": [
    "def check(num1,num2):\n",
    "    if num2==0:\n",
    "        return 1\n",
    "    if num2%2==0:\n",
    "        return check(num1,num2"
   ]
  },
  {
   "cell_type": "code",
   "execution_count": 24,
   "id": "92e52a03-7da6-4185-8334-5bb84a065e26",
   "metadata": {},
   "outputs": [
    {
     "name": "stdout",
     "output_type": "stream",
     "text": [
      "12 times 8 is 96\n"
     ]
    }
   ],
   "source": [
    "value =8 \n",
    "answer=0\n",
    "for x in range(1,13):\n",
    "    answer=value*x\n",
    "print(\"{0} times {1} is {2}\".format(x,value,answer))"
   ]
  },
  {
   "cell_type": "code",
   "execution_count": 1,
   "id": "d044900e-88c3-443e-845b-ba6ae8f2f0a3",
   "metadata": {},
   "outputs": [],
   "source": [
    "MOD = 10**9 + 7\n",
    " \n",
    "def solve(n, A, q, operations):\n",
    "    delta = [0] * (n + 2)\n",
    "    # Apply the operations using prefix trick\n",
    "    for op in operations:\n",
    "        t, l, r, x = op\n",
    "        if t == 1:\n",
    "            delta[l - 1] += x\n",
    "            delta[r] -= x\n",
    "        elif t == 2:\n",
    "            delta[l - 1] -= x\n",
    "            delta[r] += x\n",
    " \n",
    "    # Build final array\n",
    "    for i in range(n):\n",
    "        if i > 0:\n",
    "            delta[i] += delta[i - 1]\n",
    "        A[i] += delta[i]\n",
    " \n",
    "    # Precompute prefix sums\n",
    "    prefix_sum = [0] * (n + 1)\n",
    "    prefix_square_sum = [0] * (n + 1)\n",
    " \n",
    "    for i in range(n):\n",
    "        prefix_sum[i + 1] = (prefix_sum[i] + A[i]) % MOD\n",
    "        prefix_square_sum[i + 1] = (prefix_square_sum[i] + A[i] * A[i]) % MOD\n",
    " \n",
    "    # Compute final sum over all (i < j < k)\n",
    "    result = 0\n",
    "    for j in range(1, n - 1):\n",
    "        left_sum = prefix_sum[j]\n",
    "        right_sum = (prefix_sum[n] - prefix_sum[j + 1] + MOD) % MOD\n",
    "        right_count = n - j - 1\n",
    " \n",
    "        # (A[i] + A[j]) * (A[j] + A[k])\n",
    "        # -> A[i] * A[j] + A[i] * A[k] + A[j]^2 + A[j] * A[k]\n",
    "        result += (A[j] * left_sum) % MOD\n",
    "        result += (A[j] * right_sum) % MOD\n",
    "        result += (A[j] * A[j] * (n - j - 1)) % MOD\n",
    "        result += (right_sum * left_sum) % MOD\n",
    "        result %= MOD\n",
    " \n",
    "    return result"
   ]
  },
  {
   "cell_type": "code",
   "execution_count": null,
   "id": "f90db059-682c-4ee2-ac3c-eb1d13a9d579",
   "metadata": {},
   "outputs": [],
   "source": [
    "for T in range(N):\n",
    "    "
   ]
  }
 ],
 "metadata": {
  "kernelspec": {
   "display_name": "Python 3 (ipykernel)",
   "language": "python",
   "name": "python3"
  },
  "language_info": {
   "codemirror_mode": {
    "name": "ipython",
    "version": 3
   },
   "file_extension": ".py",
   "mimetype": "text/x-python",
   "name": "python",
   "nbconvert_exporter": "python",
   "pygments_lexer": "ipython3",
   "version": "3.12.4"
  }
 },
 "nbformat": 4,
 "nbformat_minor": 5
}
