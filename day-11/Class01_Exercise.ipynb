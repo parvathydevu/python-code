{
 "cells": [
  {
   "cell_type": "code",
   "execution_count": null,
   "id": "42174d9f-4a42-4976-8372-1a437198eb1f",
   "metadata": {},
   "outputs": [],
   "source": [
    "''' Basic Class Creation: Car\n",
    "------------------------------------------------------------------\n",
    "Task: Create a class Car with attributes and methods as follows:\n",
    "\n",
    "Attributes: brand, model, year, mileage\n",
    "\n",
    "Methods:\n",
    "\n",
    "drive(distance): Increases mileage by distance.\n",
    "\n",
    "display_info(): Prints all details of the car.\n",
    "\n",
    "✅ Enhance: Add a fuel_level attribute and a method refuel(amount) to increase it.\n",
    "Adjust rest of the attributes accordinly'''"
   ]
  },
  {
   "cell_type": "code",
   "execution_count": 158,
   "id": "20260514-d18e-466b-9cf8-177db7f7a55a",
   "metadata": {},
   "outputs": [],
   "source": [
    "class Car:\n",
    "    #attributes\n",
    "    #Constructor\n",
    "    def __init__(self, brand,model,year,mileage):\n",
    "        self.brand=brand  #instance var\n",
    "        self.model=model\n",
    "        self.year=year\n",
    "        self.mileage=mileage\n",
    "        self.distance=0\n",
    "        self.total_amount=0\n",
    "    def refuel(self,amount):\n",
    "        self.amount=amount\n",
    "        self.total_amount+=amount\n",
    "        self.drive()\n",
    "        return \n",
    "    def drive(self):\n",
    "        self.distance=self.mileage*self.total_amount\n",
    "        return self.distance\n",
    "    def display_Info(self):\n",
    "        print(\"\\n\")\n",
    "        print(\"BRAND\".ljust(20), ' -> ', self.brand)\n",
    "        print(\"MODEL\".ljust(20), ' -> ', self.model)\n",
    "        print(\"YEAR\".ljust(20), ' -> ', self.year)\n",
    "        print(\"MILEAGE\".ljust(20), ' -> ', self.mileage)\n",
    "        print(\"-\"*80) "
   ]
  },
  {
   "cell_type": "code",
   "execution_count": 159,
   "id": "e69195b3-dc63-4a8a-809d-2f980cb20862",
   "metadata": {},
   "outputs": [],
   "source": [
    "a=Car(\"Toyota\", \"Corolla\", 2004,10)"
   ]
  },
  {
   "cell_type": "code",
   "execution_count": 160,
   "id": "6d99577c-10a3-40f5-ab18-225ddba88d87",
   "metadata": {},
   "outputs": [],
   "source": [
    "a.refuel(100)"
   ]
  },
  {
   "cell_type": "code",
   "execution_count": 161,
   "id": "5a80f0a5-ec9a-4021-9fb5-7b30ec0c7ec6",
   "metadata": {},
   "outputs": [
    {
     "data": {
      "text/plain": [
       "1000"
      ]
     },
     "execution_count": 161,
     "metadata": {},
     "output_type": "execute_result"
    }
   ],
   "source": [
    "a.drive()"
   ]
  },
  {
   "cell_type": "code",
   "execution_count": 162,
   "id": "90ce2459-13da-4629-abca-96842589a12f",
   "metadata": {},
   "outputs": [
    {
     "name": "stdout",
     "output_type": "stream",
     "text": [
      "\n",
      "\n",
      "BRAND                 ->  Toyota\n",
      "MODEL                 ->  Corolla\n",
      "YEAR                  ->  2004\n",
      "MILEAGE               ->  10\n",
      "--------------------------------------------------------------------------------\n"
     ]
    }
   ],
   "source": [
    "a.display_Info()"
   ]
  },
  {
   "cell_type": "code",
   "execution_count": 87,
   "id": "729119ba-9df7-43bf-a477-d0a20f0b56ce",
   "metadata": {},
   "outputs": [],
   "source": [
    "class Car:\n",
    "    def __init__(self, brand, model, year, mileage):\n",
    "        self.brand = brand\n",
    "        self.model = model\n",
    "        self.year = year\n",
    "        self.mileage = mileage\n",
    "        self.fuel_level = 0\n",
    "        self.distance = 0\n",
    "\n",
    "    def drive(self):\n",
    "        self.fuel_level += amount\n",
    "        self.distance= self.mileage*self.fuel_level\n",
    "\n",
    "    def refuel(self, amount):\n",
    "        self.amount=amount\n",
    "        self.drive()\n",
    "\n",
    "    def display_info(self):\n",
    "        print(\"\\n\")\n",
    "        print(\"-\"*80)\n",
    "        print(\"Brand of car:\",self.brand)\n",
    "        print(\"model of car:\",self.model)\n",
    "        print(\"year:\",self.year)\n",
    "        print(\"Mileage of car:\",self.mileage) \n",
    "        print(\"Distance:\",self.distance,\"km\")"
   ]
  },
  {
   "cell_type": "code",
   "execution_count": 88,
   "id": "fd2530fe-18b6-4424-96c7-89d926575914",
   "metadata": {},
   "outputs": [
    {
     "name": "stdout",
     "output_type": "stream",
     "text": [
      "\n",
      "\n",
      "--------------------------------------------------------------------------------\n",
      "Brand of car: Toyota\n",
      "model of car: Corolla\n",
      "year: 2020\n",
      "Mileage of car: 30\n",
      "Distance: 0 km\n"
     ]
    },
    {
     "ename": "NameError",
     "evalue": "name 'amount' is not defined",
     "output_type": "error",
     "traceback": [
      "\u001b[1;31m---------------------------------------------------------------------------\u001b[0m",
      "\u001b[1;31mNameError\u001b[0m                                 Traceback (most recent call last)",
      "Cell \u001b[1;32mIn[88], line 3\u001b[0m\n\u001b[0;32m      1\u001b[0m a \u001b[38;5;241m=\u001b[39m Car(\u001b[38;5;124m\"\u001b[39m\u001b[38;5;124mToyota\u001b[39m\u001b[38;5;124m\"\u001b[39m, \u001b[38;5;124m\"\u001b[39m\u001b[38;5;124mCorolla\u001b[39m\u001b[38;5;124m\"\u001b[39m, \u001b[38;5;124m\"\u001b[39m\u001b[38;5;124m2020\u001b[39m\u001b[38;5;124m\"\u001b[39m,\u001b[38;5;241m30\u001b[39m)\n\u001b[0;32m      2\u001b[0m a\u001b[38;5;241m.\u001b[39mdisplay_info()\n\u001b[1;32m----> 3\u001b[0m a\u001b[38;5;241m.\u001b[39mrefuel(\u001b[38;5;241m10\u001b[39m)\n\u001b[0;32m      4\u001b[0m a\u001b[38;5;241m.\u001b[39mdisplay_info()\n",
      "Cell \u001b[1;32mIn[87], line 16\u001b[0m, in \u001b[0;36mCar.refuel\u001b[1;34m(self, amount)\u001b[0m\n\u001b[0;32m     14\u001b[0m \u001b[38;5;28;01mdef\u001b[39;00m \u001b[38;5;21mrefuel\u001b[39m(\u001b[38;5;28mself\u001b[39m, amount):\n\u001b[0;32m     15\u001b[0m     \u001b[38;5;28mself\u001b[39m\u001b[38;5;241m.\u001b[39mamount\u001b[38;5;241m=\u001b[39mamount\n\u001b[1;32m---> 16\u001b[0m     \u001b[38;5;28mself\u001b[39m\u001b[38;5;241m.\u001b[39mdrive()\n",
      "Cell \u001b[1;32mIn[87], line 11\u001b[0m, in \u001b[0;36mCar.drive\u001b[1;34m(self)\u001b[0m\n\u001b[0;32m     10\u001b[0m \u001b[38;5;28;01mdef\u001b[39;00m \u001b[38;5;21mdrive\u001b[39m(\u001b[38;5;28mself\u001b[39m):\n\u001b[1;32m---> 11\u001b[0m     \u001b[38;5;28mself\u001b[39m\u001b[38;5;241m.\u001b[39mfuel_level \u001b[38;5;241m+\u001b[39m\u001b[38;5;241m=\u001b[39m amount\n\u001b[0;32m     12\u001b[0m     \u001b[38;5;28mself\u001b[39m\u001b[38;5;241m.\u001b[39mdistance\u001b[38;5;241m=\u001b[39m \u001b[38;5;28mself\u001b[39m\u001b[38;5;241m.\u001b[39mmileage\u001b[38;5;241m*\u001b[39m\u001b[38;5;28mself\u001b[39m\u001b[38;5;241m.\u001b[39mfuel_level\n",
      "\u001b[1;31mNameError\u001b[0m: name 'amount' is not defined"
     ]
    }
   ],
   "source": [
    "a = Car(\"Toyota\", \"Corolla\", \"2020\",30)\n",
    "a.display_info()\n",
    "a.refuel(10)\n",
    "a.display_info()"
   ]
  },
  {
   "cell_type": "code",
   "execution_count": null,
   "id": "e6403396-ae0c-4b04-8bfc-aaea6060e14b",
   "metadata": {},
   "outputs": [],
   "source": [
    "''' Class with Encapsulation: BankAccount\n",
    "------------------------------------------------------------------\n",
    "Task: Implement a BankAccount class with:\n",
    "\n",
    "Attributes: balance, account_number\n",
    "\n",
    "Methods:\n",
    "\n",
    "deposit(amount): Adds money to balance.\n",
    "\n",
    "withdraw(amount): Deducts money if enough balance is available.\n",
    "\n",
    "get_balance(): Returns balance.\n",
    "\n",
    "✅ Enhance: Prevent withdrawal if balance falls below a minimum threshold.'''"
   ]
  },
  {
   "cell_type": "code",
   "execution_count": 77,
   "id": "fb09d9bc-7a28-4ffd-9ce7-9ac80c220d61",
   "metadata": {},
   "outputs": [],
   "source": [
    "class BankAccount:\n",
    "    #Attributes\n",
    "    def __init__(self,account_number):\n",
    "        self.balance=0\n",
    "        self.account_number=account_number\n",
    "        #methods\n",
    "    def deposit(self,amount):\n",
    "        self.balance+=amount\n",
    "    def withdraw(self,amount):\n",
    "       if amount > 0:\n",
    "                self.balance -= amount\n",
    "                print(f\"Withdrew {amount}. New balance: {self.balance}\")\n",
    "       else:\n",
    "           print(\"withdraw amount must be positive\")\n",
    "    def get_balance(self):\n",
    "        return self.balance\n"
   ]
  },
  {
   "cell_type": "code",
   "execution_count": 85,
   "id": "38636f0a-a59a-40b7-af16-ae08dbc46670",
   "metadata": {},
   "outputs": [
    {
     "name": "stdout",
     "output_type": "stream",
     "text": [
      "Withdrew 200. New balance: 800\n",
      "\n",
      "\n",
      "Current balance: 800\n",
      "--------------------------------------------------------------------------------\n",
      "Withdrew 300. New balance: 500\n",
      "Current balance: 500\n"
     ]
    }
   ],
   "source": [
    "acc1=BankAccount(\"66777889\")\n",
    "acc1.deposit(1000)\n",
    "acc1.withdraw(200)\n",
    "print(\"\\n\")\n",
    "print(\"Current balance:\",acc1.get_balance())\n",
    "print(\"-\"*80)\n",
    "acc1.withdraw(300)  \n",
    "print(\"Current balance:\",acc1.get_balance())"
   ]
  },
  {
   "cell_type": "code",
   "execution_count": null,
   "id": "68e33d06-920b-4aa4-a8de-35eab0514374",
   "metadata": {},
   "outputs": [],
   "source": [
    "''' Class with Methods and Properties: Rectangle\n",
    "------------------------------------------------------------------\n",
    "Task: Design a Rectangle class:\n",
    "\n",
    "Attributes: length, width\n",
    "\n",
    "Methods:\n",
    "\n",
    "area(): Returns area.\n",
    "\n",
    "perimeter(): Returns perimeter.\n",
    "\n",
    "is_square(): Returns True if it’s a square, otherwise False.\n",
    "\n",
    "✅ Enhance: Use logic to prevent setting negative values for length and width.'''"
   ]
  },
  {
   "cell_type": "code",
   "execution_count": 93,
   "id": "29132a7e-c594-4706-8dfe-ebe36c9e340a",
   "metadata": {},
   "outputs": [],
   "source": [
    "class Rectangle:\n",
    "    def __init__(self, length,width):\n",
    "        self.length=length\n",
    "        self.width=width\n",
    "    def area(self):\n",
    "        return self.length * self.width\n",
    "\n",
    "    def perimeter(self):\n",
    "        return 2 * (self.length + self.width)\n",
    "    def is_square(self):\n",
    "        if self.length==self.width:\n",
    "            return True\n",
    "        else:\n",
    "            return False"
   ]
  },
  {
   "cell_type": "code",
   "execution_count": 94,
   "id": "09f38089-33a9-4462-8f85-8cf0a5d5278f",
   "metadata": {},
   "outputs": [
    {
     "data": {
      "text/plain": [
       "400"
      ]
     },
     "execution_count": 94,
     "metadata": {},
     "output_type": "execute_result"
    }
   ],
   "source": [
    "Rec1=Rectangle(20,20)\n",
    "Rec1.area()"
   ]
  },
  {
   "cell_type": "code",
   "execution_count": 95,
   "id": "b04b6a11-7640-42f8-bb6d-4f491138def6",
   "metadata": {},
   "outputs": [
    {
     "data": {
      "text/plain": [
       "80"
      ]
     },
     "execution_count": 95,
     "metadata": {},
     "output_type": "execute_result"
    }
   ],
   "source": [
    "Rec1.perimeter()"
   ]
  },
  {
   "cell_type": "code",
   "execution_count": 96,
   "id": "026913ef-aad4-4da9-8479-87267e2711b9",
   "metadata": {},
   "outputs": [
    {
     "data": {
      "text/plain": [
       "True"
      ]
     },
     "execution_count": 96,
     "metadata": {},
     "output_type": "execute_result"
    }
   ],
   "source": [
    "Rec1.is_square()"
   ]
  },
  {
   "cell_type": "code",
   "execution_count": null,
   "id": "4b211f4f-9127-49cf-9fbf-b86454e07eb6",
   "metadata": {},
   "outputs": [],
   "source": [
    "#if negative values :"
   ]
  },
  {
   "cell_type": "code",
   "execution_count": 119,
   "id": "1e186e7f-9fc2-4476-addb-78a0a670364a",
   "metadata": {},
   "outputs": [],
   "source": [
    "class Rectangle:\n",
    "    def __init__(self, length,width):\n",
    "        if length < 0 or width < 0:\n",
    "            raise ValueError(\"Length and width cannot be negative\")\n",
    "        self.length=length\n",
    "        self.width=width\n",
    "    def area(self):\n",
    "        return self.length * self.width\n",
    "\n",
    "    def perimeter(self):\n",
    "        return 2 * (self.length + self.width)\n",
    "    def is_square(self):\n",
    "        if self.length==self.width:\n",
    "            return True\n",
    "        else:\n",
    "            return False"
   ]
  },
  {
   "cell_type": "code",
   "execution_count": 120,
   "id": "b351360d-27da-4bcc-9a20-b3269c7d2278",
   "metadata": {},
   "outputs": [
    {
     "data": {
      "text/plain": [
       "40"
      ]
     },
     "execution_count": 120,
     "metadata": {},
     "output_type": "execute_result"
    }
   ],
   "source": [
    "Rec2=Rectangle(5,8)\n",
    "Rec2.area()"
   ]
  },
  {
   "cell_type": "code",
   "execution_count": 107,
   "id": "7c70e2e1-e184-4c6d-a773-d8330116f506",
   "metadata": {},
   "outputs": [
    {
     "data": {
      "text/plain": [
       "False"
      ]
     },
     "execution_count": 107,
     "metadata": {},
     "output_type": "execute_result"
    }
   ],
   "source": [
    "Rec2.is_square()"
   ]
  },
  {
   "cell_type": "code",
   "execution_count": 121,
   "id": "89a88f13-6267-4e0f-a339-f8acce4eaf26",
   "metadata": {},
   "outputs": [
    {
     "data": {
      "text/plain": [
       "26"
      ]
     },
     "execution_count": 121,
     "metadata": {},
     "output_type": "execute_result"
    }
   ],
   "source": [
    "Rec2.perimeter()"
   ]
  },
  {
   "cell_type": "code",
   "execution_count": null,
   "id": "e4155caa-2bfb-4afa-8acd-25072ffc5f09",
   "metadata": {},
   "outputs": [],
   "source": []
  }
 ],
 "metadata": {
  "kernelspec": {
   "display_name": "Python 3 (ipykernel)",
   "language": "python",
   "name": "python3"
  },
  "language_info": {
   "codemirror_mode": {
    "name": "ipython",
    "version": 3
   },
   "file_extension": ".py",
   "mimetype": "text/x-python",
   "name": "python",
   "nbconvert_exporter": "python",
   "pygments_lexer": "ipython3",
   "version": "3.12.4"
  }
 },
 "nbformat": 4,
 "nbformat_minor": 5
}
