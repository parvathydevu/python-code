{
 "cells": [
  {
   "cell_type": "code",
   "execution_count": null,
   "id": "cb9ce148-303e-4f5c-80a3-04b84f89a148",
   "metadata": {},
   "outputs": [],
   "source": [
    "''' Create a subclass ElectricCar with additional attributes:\n",
    "battery_capacity, charge_level (default 100)\n",
    "\n",
    "Add a method:\n",
    "charge(amount): Increases charge level (max 100).\n",
    "\n",
    "Override display_info() to include battery details.\n",
    "Create objects for both classes and demonstrate method usage.'''"
   ]
  },
  {
   "cell_type": "code",
   "execution_count": 41,
   "id": "1f8fadf5-e1d3-4443-ae1a-550ea711cd62",
   "metadata": {},
   "outputs": [],
   "source": [
    "class Car:\n",
    "    #attributes-brand,model,year,mileage\n",
    "    #Constructor\n",
    "    def __init__(self, brand,model,year,mileage):\n",
    "        self.brand=brand  #instance var\n",
    "        self.model=model\n",
    "        self.year=year\n",
    "        self.mileage=mileage\n",
    "        self.distance=0\n",
    "        self.total_amount=0\n",
    "    def refuel(self,amount):\n",
    "        self.amount=amount\n",
    "        self.total_amount+=amount\n",
    "        self.drive()\n",
    "        return \n",
    "    def drive(self):\n",
    "        self.distance=self.mileage*self.total_amount\n",
    "        return self.distance\n",
    "    def display_Info(self):\n",
    "        print(\"\\n\")\n",
    "        print(\"BRAND\".ljust(20), ' -> ', self.brand)\n",
    "        print(\"MODEL\".ljust(20), ' -> ', self.model)\n",
    "        print(\"YEAR\".ljust(20), ' -> ', self.year)\n",
    "        print(\"MILEAGE\".ljust(20), ' -> ', self.mileage)\n",
    "        print(\"-\"*80) "
   ]
  },
  {
   "cell_type": "code",
   "execution_count": 46,
   "id": "23418d8c-fdd8-42cf-81a7-94fbc1ffe958",
   "metadata": {},
   "outputs": [],
   "source": [
    "class ElectricCar(Car):\n",
    "    def __init__(self, brand,model,year,mileage,battery_capacity):\n",
    "         # New attributes\n",
    "        super().__init__(brand, model, year, mileage)\n",
    "        self.total_chargelevel=0\n",
    "        self.battery_capacity=battery_capacity\n",
    "        self.charge_level=100\n",
    "     # New functions\n",
    "    def charge(self):\n",
    "        self.total_chargelevel=self.battery_capacity*self.charge_level/100\n",
    "    def display_Info(self):\n",
    "        super().display_Info()  # To print the parent side details\n",
    "        print(\"\\n\")\n",
    "        print(\"Total charge level\".ljust(20), ' -> ', self.total_chargelevel)\n",
    "        print(\"-\" * 80)\n"
   ]
  },
  {
   "cell_type": "code",
   "execution_count": 51,
   "id": "243d349b-dc81-4847-9fe2-070224b5c289",
   "metadata": {},
   "outputs": [
    {
     "name": "stdout",
     "output_type": "stream",
     "text": [
      "\n",
      "\n",
      "BRAND                 ->  Tesla\n",
      "MODEL                 ->  Model S\n",
      "YEAR                  ->  2022\n",
      "MILEAGE               ->  15000\n",
      "--------------------------------------------------------------------------------\n",
      "\n",
      "\n",
      "Total charge level    ->  300.0\n",
      "--------------------------------------------------------------------------------\n"
     ]
    }
   ],
   "source": [
    "e1 = ElectricCar(\"Tesla\", \"Model S\", 2022, 15000, 300)\n",
    "e1.charge()\n",
    "e1.display_Info()  # Corrected method name\n"
   ]
  },
  {
   "cell_type": "code",
   "execution_count": null,
   "id": "2ada8cde-76bc-4ee1-981a-dd3a50ecb5f4",
   "metadata": {},
   "outputs": [],
   "source": [
    "''' Add methods:\n",
    "deposit(amount), withdraw(amount), get_balance()\n",
    "\n",
    "Implement a subclass SavingsAccount with an additional attribute:\n",
    "interest_rate (default 2.5%)\n",
    "\n",
    "Add a method:\n",
    "add_interest(): Computes and adds interest to balance.\n",
    "\n",
    "Create objects and test deposits, withdrawals, and interest calculations.'''\n"
   ]
  },
  {
   "cell_type": "code",
   "execution_count": 2,
   "id": "120993e6-2798-4db4-9419-5dbf1454401a",
   "metadata": {},
   "outputs": [],
   "source": [
    "class BankAccount:\n",
    "    #Attributes\n",
    "    def __init__(self,account_number):\n",
    "        self.balance=0\n",
    "        self.account_number=account_number\n",
    "        #methods\n",
    "    def deposit(self,amount):\n",
    "        self.balance+=amount\n",
    "    def withdraw(self,amount):\n",
    "       if amount > 0:\n",
    "                self.balance -= amount\n",
    "                print(f\"Withdrew {amount}. New balance: {self.balance}\")\n",
    "       else:\n",
    "           print(\"withdraw amount must be positive\")\n",
    "    def get_balance(self):\n",
    "        return self.balance"
   ]
  },
  {
   "cell_type": "code",
   "execution_count": 12,
   "id": "8ef8523d-37d9-4f4f-b366-8427994c41b1",
   "metadata": {},
   "outputs": [],
   "source": [
    "class SavingAccount(BankAccount):\n",
    "    def __init__(self, account_number, interest_rate):\n",
    "        super().__init__(account_number)\n",
    "        self.interest_rate =2.5\n",
    "        self.interest=0\n",
    "\n",
    "    # New functions\n",
    "    def add_interest(self):\n",
    "        self.interest = self.balance * (1 + (self.interest_rate / 100))\n",
    "        self.balance=self.balance+self.interest\n",
    "        print(\"Amount after adding interest: \", self.balance,\"Rs\")\n",
    "        print(\"-\" * 80)"
   ]
  },
  {
   "cell_type": "code",
   "execution_count": 13,
   "id": "2e24971e-0beb-44be-8ff8-028ba13e35d6",
   "metadata": {},
   "outputs": [
    {
     "name": "stdout",
     "output_type": "stream",
     "text": [
      "Amount after adding interest:  4050.0 Rs\n",
      "--------------------------------------------------------------------------------\n"
     ]
    },
    {
     "data": {
      "text/plain": [
       "4050.0"
      ]
     },
     "execution_count": 13,
     "metadata": {},
     "output_type": "execute_result"
    }
   ],
   "source": [
    "a1=SavingAccount(\"455660089\",2.5)\n",
    "a1.deposit(2000)  #call deposit function for assigning balance...\n",
    "a1.add_interest()\n",
    "a1.get_balance()"
   ]
  },
  {
   "cell_type": "code",
   "execution_count": null,
   "id": "f34899a6-4fd4-429b-90fb-ba4954b4230c",
   "metadata": {},
   "outputs": [],
   "source": [
    "''' Exercise: Implement a Rectangle Class and a Cuboid Subclass\n",
    "------------------------------------------------------------------\n",
    "\n",
    "Objective:\n",
    "Implement a Rectangle class and extend it into a Cuboid subclass.\n",
    "\n",
    "Tasks:\n",
    "Create a Rectangle class with attributes:\n",
    "length, width\n",
    "\n",
    "Add methods:\n",
    "area(), perimeter(), is_square()\n",
    "\n",
    "Implement a Cuboid subclass with an additional attribute:\n",
    "height\n",
    "\n",
    "Add methods:\n",
    "volume(): Computes volume.\n",
    "surface_area(): Computes total surface area.\n",
    "\n",
    "Create objects and test area, volume, and surface area calculations.'''"
   ]
  },
  {
   "cell_type": "code",
   "execution_count": 15,
   "id": "c056b0fc-702a-46f3-a797-1dd93473920c",
   "metadata": {},
   "outputs": [],
   "source": [
    "class Rectangle:\n",
    "    def __init__(self, length,width):\n",
    "        self.length=length\n",
    "        self.width=width\n",
    "    def area(self):\n",
    "        return self.length * self.width\n",
    "\n",
    "    def perimeter(self):\n",
    "        return 2 * (self.length + self.width)\n",
    "    def is_square(self):\n",
    "        if self.length==self.width:\n",
    "            return True\n",
    "        else:\n",
    "            return False"
   ]
  },
  {
   "cell_type": "code",
   "execution_count": 16,
   "id": "236d0d94-92f3-43e1-8f17-6f96adb645a6",
   "metadata": {},
   "outputs": [],
   "source": [
    "class Cuboid(Rectangle):\n",
    "    def __init__(self, length,width,height):\n",
    "        super().__init__(length,width)  #only the parent class instances\n",
    "        self.height=height\n",
    "    def volume(self):\n",
    "        #return self.length*self.height\n",
    "        return super().area() *self.height  #call the parentclass area function-length*width, SA=length*width*height\n",
    "    def surface_area(self):\n",
    "        return 2*((self.length*self.width)+(self.length*self.height)+(self.width*self.height))\n",
    "    "
   ]
  },
  {
   "cell_type": "code",
   "execution_count": 18,
   "id": "eaace630-0fcb-4fe9-89dd-85f02d65fbb7",
   "metadata": {},
   "outputs": [
    {
     "data": {
      "text/plain": [
       "(2000, 1300)"
      ]
     },
     "execution_count": 18,
     "metadata": {},
     "output_type": "execute_result"
    }
   ],
   "source": [
    "c=Cuboid(10,40,5)\n",
    "c.volume(),c.surface_area()"
   ]
  },
  {
   "cell_type": "code",
   "execution_count": null,
   "id": "7402133a-c7f8-481d-850d-294e309dee6a",
   "metadata": {},
   "outputs": [],
   "source": []
  }
 ],
 "metadata": {
  "kernelspec": {
   "display_name": "Python 3 (ipykernel)",
   "language": "python",
   "name": "python3"
  },
  "language_info": {
   "codemirror_mode": {
    "name": "ipython",
    "version": 3
   },
   "file_extension": ".py",
   "mimetype": "text/x-python",
   "name": "python",
   "nbconvert_exporter": "python",
   "pygments_lexer": "ipython3",
   "version": "3.12.4"
  }
 },
 "nbformat": 4,
 "nbformat_minor": 5
}
