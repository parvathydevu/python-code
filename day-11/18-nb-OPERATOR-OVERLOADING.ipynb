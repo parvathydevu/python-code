{
 "cells": [
  {
   "cell_type": "markdown",
   "id": "4dd268ec-79be-43de-9bf6-facc91eabfa8",
   "metadata": {},
   "source": [
    "# why operator overloading?"
   ]
  },
  {
   "cell_type": "code",
   "execution_count": null,
   "id": "84e23faf-ff64-4b4c-8bdc-aeeebc4045b5",
   "metadata": {},
   "outputs": [],
   "source": [
    "M->MATRIX\n",
    "N->MATRIX\n",
    "for matrix addition, which syntax is convenient and ituitive?\n",
    "\n",
    "Method#1:\n",
    "m.add(n) or add (m,n)\n",
    "\n",
    "Method#2:\n",
    "m+n \n",
    "m-n\n",
    "m*n\n",
    "python does not have matrix contents ,need to create a matrix class -custom class. \n",
    "overloading-redefining the existing operator for custom classes. "
   ]
  },
  {
   "cell_type": "markdown",
   "id": "067954cd-d48c-4c4f-8a89-3dd92830b0c1",
   "metadata": {},
   "source": [
    "### Overloading-Process of redefining the functionality of the existing operators in python for the sake of custom classes. "
   ]
  },
  {
   "cell_type": "markdown",
   "id": "49d00ac3-accc-434a-826a-157f20dd072b",
   "metadata": {},
   "source": [
    "### This adds more convenience to work with the objects of custom classes."
   ]
  },
  {
   "cell_type": "markdown",
   "id": "0f304497-a23d-454f-adb7-76b07da8b6c9",
   "metadata": {},
   "source": [
    "# How to overload the opeators?"
   ]
  },
  {
   "cell_type": "code",
   "execution_count": 8,
   "id": "8123c762-3e55-441e-b68f-388618352d4c",
   "metadata": {},
   "outputs": [],
   "source": [
    "class ComplexNumber(object):\n",
    "    def __init__(self,a,b):\n",
    "        self.real=a\n",
    "        self.img=b\n",
    "    def print(self):\n",
    "        return f\"{self.real}+j{self.img}\""
   ]
  },
  {
   "cell_type": "code",
   "execution_count": 9,
   "id": "a1157e0d-c7a4-40a1-8459-6065dbfdaa9e",
   "metadata": {},
   "outputs": [],
   "source": [
    "a= ComplexNumber(10,5)\n",
    "b= ComplexNumber(4,6)"
   ]
  },
  {
   "cell_type": "code",
   "execution_count": 10,
   "id": "50c34595-dd0e-441a-bef8-01367d22d27b",
   "metadata": {},
   "outputs": [
    {
     "data": {
      "text/plain": [
       "'10+j5'"
      ]
     },
     "execution_count": 10,
     "metadata": {},
     "output_type": "execute_result"
    }
   ],
   "source": [
    "a.print()"
   ]
  },
  {
   "cell_type": "code",
   "execution_count": 11,
   "id": "026bd4d8-5b0c-455f-8b24-f636e8f510f2",
   "metadata": {},
   "outputs": [
    {
     "data": {
      "text/plain": [
       "'4+j6'"
      ]
     },
     "execution_count": 11,
     "metadata": {},
     "output_type": "execute_result"
    }
   ],
   "source": [
    "b.print()"
   ]
  },
  {
   "cell_type": "code",
   "execution_count": 12,
   "id": "b574fae0-d634-4d66-8c05-c0ac49a31afd",
   "metadata": {},
   "outputs": [
    {
     "ename": "TypeError",
     "evalue": "unsupported operand type(s) for +: 'ComplexNumber' and 'ComplexNumber'",
     "output_type": "error",
     "traceback": [
      "\u001b[1;31m---------------------------------------------------------------------------\u001b[0m",
      "\u001b[1;31mTypeError\u001b[0m                                 Traceback (most recent call last)",
      "Cell \u001b[1;32mIn[12], line 1\u001b[0m\n\u001b[1;32m----> 1\u001b[0m a\u001b[38;5;241m+\u001b[39mb\n",
      "\u001b[1;31mTypeError\u001b[0m: unsupported operand type(s) for +: 'ComplexNumber' and 'ComplexNumber'"
     ]
    }
   ],
   "source": [
    "a+b"
   ]
  },
  {
   "cell_type": "code",
   "execution_count": null,
   "id": "1d2d615d-d3d7-46d0-a64a-e0eeef74659b",
   "metadata": {},
   "outputs": [],
   "source": [
    "#No string object is there , we cannot add complex numbers using + operator."
   ]
  },
  {
   "cell_type": "code",
   "execution_count": 18,
   "id": "850ec546-553a-4994-a88a-89525f0287ef",
   "metadata": {},
   "outputs": [],
   "source": [
    "class ComplexNumber(object):\n",
    "    def __init__(self,a,b):\n",
    "        self.real=a\n",
    "        self.img=b\n",
    "    def __add__(self,other): #for overloading\n",
    "        return ComplexNumber((self.real+other.real),(self.img+other.img)) #self.real--10, other.real=5.self.img=4, other.img=6\n",
    "    def print(self):\n",
    "        return f\"{self.real}+j{self.img}\""
   ]
  },
  {
   "cell_type": "code",
   "execution_count": 19,
   "id": "1c7b8400-98ca-4e7a-bc5a-20f33229ca59",
   "metadata": {},
   "outputs": [],
   "source": [
    "a= ComplexNumber(10,4)\n",
    "b= ComplexNumber(5,6)"
   ]
  },
  {
   "cell_type": "code",
   "execution_count": 20,
   "id": "48d908fa-ab7d-4755-aa90-514e5198a7db",
   "metadata": {},
   "outputs": [
    {
     "data": {
      "text/plain": [
       "'15+j10'"
      ]
     },
     "execution_count": 20,
     "metadata": {},
     "output_type": "execute_result"
    }
   ],
   "source": [
    "x=a+b\n",
    "x.print()"
   ]
  },
  {
   "cell_type": "code",
   "execution_count": 21,
   "id": "fbd23232-8df3-49ff-a79f-58b63036cf16",
   "metadata": {},
   "outputs": [
    {
     "data": {
      "text/plain": [
       "__main__.ComplexNumber"
      ]
     },
     "execution_count": 21,
     "metadata": {},
     "output_type": "execute_result"
    }
   ],
   "source": [
    "type(x)"
   ]
  },
  {
   "cell_type": "code",
   "execution_count": 22,
   "id": "8016ced7-8b89-4a5d-b668-a4935d158709",
   "metadata": {},
   "outputs": [],
   "source": [
    "class ComplexNumber(object):\n",
    "    def __init__(self,a,b):\n",
    "        self.real=a\n",
    "        self.img=b\n",
    "    def __add__(self,other): #for overloading\n",
    "        return ComplexNumber((self.real+other.real),(self.img+other.img)) \n",
    "    def __sub__(self,other): #for overloading\n",
    "        return ComplexNumber((self.real-other.real),(self.img-other.img)) \n",
    "    def print(self):\n",
    "        return f\"{self.real}+j{self.img}\""
   ]
  },
  {
   "cell_type": "code",
   "execution_count": 25,
   "id": "7b6b4e6e-c942-4c9d-907a-33f3f45bc625",
   "metadata": {},
   "outputs": [],
   "source": [
    "a= ComplexNumber(10,4)\n",
    "b= ComplexNumber(5,2)"
   ]
  },
  {
   "cell_type": "code",
   "execution_count": 26,
   "id": "a31cc5aa-f4d0-4338-b208-f2b3d7c5ea84",
   "metadata": {},
   "outputs": [
    {
     "data": {
      "text/plain": [
       "'15+j6'"
      ]
     },
     "execution_count": 26,
     "metadata": {},
     "output_type": "execute_result"
    }
   ],
   "source": [
    "x=a+b\n",
    "x.print()"
   ]
  },
  {
   "cell_type": "code",
   "execution_count": 27,
   "id": "1f7fe654-01ed-41da-9aa0-1faff406ea70",
   "metadata": {},
   "outputs": [
    {
     "data": {
      "text/plain": [
       "'5+j2'"
      ]
     },
     "execution_count": 27,
     "metadata": {},
     "output_type": "execute_result"
    }
   ],
   "source": [
    "y=a-b\n",
    "y.print()"
   ]
  },
  {
   "cell_type": "markdown",
   "id": "bd2708a1-2fe3-4613-94f4-d715964cc083",
   "metadata": {},
   "source": [
    "# Assessment"
   ]
  },
  {
   "cell_type": "code",
   "execution_count": null,
   "id": "602ec6d0-4406-4ab1-b303-d31379834e9e",
   "metadata": {},
   "outputs": [],
   "source": [
    "''' Tasks:\n",
    "Create a class Vector2D with attributes:\n",
    "\n",
    "    x (horizontal component)\n",
    "\n",
    "    y (vertical component)\n",
    "\n",
    "Overload the following operators:\n",
    "\n",
    "    + (addition): Add corresponding x and y values of two vectors.\n",
    "\n",
    "    - (subtraction): Subtract corresponding x and y values.\n",
    "\n",
    "    == (equality): Check if two vectors are identical. Go into operator module and find out what is the\n",
    "                   function that needs to be overloaded to achieve this functionality\n",
    "\n",
    "Implement a __str__() method to display vectors as \"(x, y)\".\n",
    "\n",
    "Test your class with examples like:\n",
    "v1 = Vector2D(3, 4)\n",
    "v2 = Vector2D(1, 2)\n",
    "v3 = v1 + v2   # Should return Vector2D(4, 6)\n",
    "v4 = v1 - v2   # Should return Vector2D(2, 2)\n",
    "print(v3 == Vector2D(4, 6))  # Should return True'''"
   ]
  },
  {
   "cell_type": "code",
   "execution_count": 105,
   "id": "766e239f-ed24-44d2-bf47-faa8c3264675",
   "metadata": {},
   "outputs": [],
   "source": [
    "class Vector2D:\n",
    "    def __init__(self, x, y):\n",
    "        self.hor=x\n",
    "        self.ver=y\n",
    "    def __add__(self,other):\n",
    "        return Vector2D(self.hor+other.hor,self.ver+other.ver)\n",
    "    def __sub__(self,other):\n",
    "        return Vector2D(self.hor-other.hor,self.ver-other.ver)\n",
    "    def __eq__(self,other):\n",
    "        return self.hor==other.hor and self.ver==other.ver\n",
    "    def __str__(self):\n",
    "        return f\"({self.hor},{self.ver})\"  \n",
    "    def display(self):\n",
    "         return f\"({self.hor},{self.ver})\" "
   ]
  },
  {
   "cell_type": "code",
   "execution_count": 106,
   "id": "c4d6b913-eb4b-4efe-98ab-3b02ae3c80e8",
   "metadata": {
    "scrolled": true
   },
   "outputs": [],
   "source": [
    "v1=Vector2D(3, 4)\n",
    "v2 =Vector2D(1, 2)\n",
    "v3 = v1 + v2   # Should return Vector2D(4, 6)\n",
    "v4 = v1 - v2   # Should return Vector2D(2, 2)"
   ]
  },
  {
   "cell_type": "code",
   "execution_count": 107,
   "id": "5d838796-d7d5-4923-b862-8b55387bf420",
   "metadata": {},
   "outputs": [
    {
     "data": {
      "text/plain": [
       "'(4,6)'"
      ]
     },
     "execution_count": 107,
     "metadata": {},
     "output_type": "execute_result"
    }
   ],
   "source": [
    "v3.display()"
   ]
  },
  {
   "cell_type": "code",
   "execution_count": 108,
   "id": "d39dfea7-2847-4113-8cca-5638f244aeca",
   "metadata": {},
   "outputs": [
    {
     "data": {
      "text/plain": [
       "'(2,2)'"
      ]
     },
     "execution_count": 108,
     "metadata": {},
     "output_type": "execute_result"
    }
   ],
   "source": [
    "v4.display()"
   ]
  },
  {
   "cell_type": "code",
   "execution_count": 109,
   "id": "aabe12dd-edec-46a6-8414-657681b0392d",
   "metadata": {},
   "outputs": [
    {
     "name": "stdout",
     "output_type": "stream",
     "text": [
      "True\n"
     ]
    }
   ],
   "source": [
    "print(v3 == Vector2D(4, 6))  # Should return True''"
   ]
  },
  {
   "cell_type": "code",
   "execution_count": 94,
   "id": "5543facb-3f7b-45ee-800a-3bc75b8108d8",
   "metadata": {},
   "outputs": [
    {
     "name": "stdout",
     "output_type": "stream",
     "text": [
      "(4, 6)\n",
      "(2, 2)\n",
      "True\n"
     ]
    }
   ],
   "source": [
    "class Vector2D:\n",
    "    #constructor\n",
    "    def __init__(self, x, y):\n",
    "        self.x = x\n",
    "        self.y = y\n",
    "\n",
    "    def __add__(self, other):\n",
    "        return Vector2D(self.x + other.x, self.y + other.y)\n",
    "\n",
    "    def __sub__(self, other):\n",
    "        return Vector2D(self.x - other.x, self.y - other.y)\n",
    "\n",
    "    def __eq__(self, other):\n",
    "        return self.x == other.x and self.y == other.y\n",
    "\n",
    "    def __str__(self):\n",
    "        return f\"({self.x}, {self.y})\"\n",
    "\n",
    "# Testing the class\n",
    "v1 = Vector2D(3, 4)\n",
    "v2 = Vector2D(1, 2)\n",
    "v3 = v1 + v2   # Should return Vector2D(4, 6)\n",
    "v4 = v1 - v2   # Should return Vector2D(2, 2)\n",
    "\n",
    "print(v3)  # Output: (4, 6)\n",
    "print(v4)  # Output: (2, 2)\n",
    "print(v3 == Vector2D(4, 6))  # Output: True"
   ]
  },
  {
   "cell_type": "code",
   "execution_count": null,
   "id": "eba77f82-d399-4245-9562-1dc7e1a95e12",
   "metadata": {},
   "outputs": [],
   "source": [
    "''' Objective:\n",
    "Create a Time class that allows addition of two time durations and comparisons.\n",
    "\n",
    "Tasks:\n",
    "Define a class Time with attributes:\n",
    "\n",
    "hours, minutes, seconds.\n",
    "\n",
    "Overload the following operators:\n",
    "\n",
    "+ (addition): Add two time objects correctly handling overflow (e.g., 90 seconds = 1 min 30 sec).\n",
    "\n",
    "> (greater than): Compare two time objects based on total seconds. Go into operator module and find out what is the\n",
    "                   function that needs to be overloaded to achieve this functionality\n",
    "\n",
    "Implement a __str__() method to display time in \"hh:mm:ss\" format.\n",
    "\n",
    "Test your class with examples like:\n",
    "\n",
    "t1 = Time(1, 45, 50)\n",
    "t2 = Time(0, 30, 20)\n",
    "t3 = t1 + t2  # Should return Time(2, 16, 10)\n",
    "print(t1 > t2)  # Should return True'''"
   ]
  },
  {
   "cell_type": "code",
   "execution_count": 131,
   "id": "7e93e0af-904f-4772-ba23-9152058c809f",
   "metadata": {},
   "outputs": [],
   "source": [
    "class Time(object):\n",
    "    def __init__(self,hours, minutes, seconds):\n",
    "        self.hours=hours\n",
    "        self.minutes=minutes\n",
    "        self.seconds=seconds\n",
    "    def __add__(self,other):\n",
    "        return Time(self.hours+other.hours,self.minutes+other.minutes,self.seconds+other.seconds)\n",
    "    def __gt__(self, other):\n",
    "        if self.seconds == other.seconds:\n",
    "            return True\n",
    "        else:\n",
    "            return False\n",
    "    def __str__(self):  #prinitng string representation\n",
    "        return f\"({self.hours},{self.minutes},{self.seconds})\"\n",
    "    def display(self):\n",
    "         return f\"({self.hours},{self.minutes},{self.seconds})\"\n",
    "    "
   ]
  },
  {
   "cell_type": "code",
   "execution_count": 132,
   "id": "c955be50-a77d-41f6-a874-a2e11dc5d97b",
   "metadata": {},
   "outputs": [
    {
     "data": {
      "text/plain": [
       "'(1,75,70)'"
      ]
     },
     "execution_count": 132,
     "metadata": {},
     "output_type": "execute_result"
    }
   ],
   "source": [
    "t1 = Time(1, 45, 50)\n",
    "t2 = Time(0, 30, 20)\n",
    "t3 = t1 + t2\n",
    "t3.display()# Should return Time(2, 16, 10)"
   ]
  },
  {
   "cell_type": "code",
   "execution_count": 133,
   "id": "8ca853cf-8e3d-444f-a603-999f199b0e11",
   "metadata": {},
   "outputs": [
    {
     "name": "stdout",
     "output_type": "stream",
     "text": [
      "False\n"
     ]
    }
   ],
   "source": [
    "print(t1 > t2) "
   ]
  },
  {
   "cell_type": "code",
   "execution_count": null,
   "id": "0b09e825-544e-4ea0-8296-37f292dc2997",
   "metadata": {},
   "outputs": [],
   "source": [
    "\n",
    "#to access a variable 'str ' is used ."
   ]
  },
  {
   "cell_type": "code",
   "execution_count": 129,
   "id": "36f408a8-2df2-4214-aff0-94402409cc65",
   "metadata": {},
   "outputs": [
    {
     "name": "stdout",
     "output_type": "stream",
     "text": [
      "02:16:10\n",
      "True\n"
     ]
    }
   ],
   "source": [
    "class Time:\n",
    "    def __init__(self, hours, minutes, seconds):\n",
    "        self.hours = hours\n",
    "        self.minutes = minutes\n",
    "        self.seconds = seconds\n",
    "        self.normalize_time()\n",
    "\n",
    "    def normalize_time(self):\n",
    "        # Normalize seconds to minutes\n",
    "        if self.seconds >= 60:\n",
    "            self.minutes += self.seconds // 60\n",
    "            self.seconds = self.seconds % 60\n",
    "        # Normalize minutes to hours\n",
    "        if self.minutes >= 60:\n",
    "            self.hours += self.minutes // 60\n",
    "            self.minutes = self.minutes % 60\n",
    "\n",
    "    def __add__(self, other):\n",
    "        return Time(self.hours + other.hours, self.minutes + other.minutes, self.seconds + other.seconds)\n",
    "\n",
    "    def __gt__(self, other):\n",
    "        return (self.hours * 3600 + self.minutes * 60 + self.seconds) > (other.hours * 3600 + other.minutes * 60 + other.seconds)\n",
    "\n",
    "    def __str__(self):\n",
    "        return f\"{self.hours:02}:{self.minutes:02}:{self.seconds:02}\"\n",
    "\n",
    "# Testing the class\n",
    "t1 = Time(1, 45, 50)\n",
    "t2 = Time(0, 30, 20)\n",
    "t3 = t1 + t2  # Should return Time(2, 16, 10)\n",
    "\n",
    "print(t3)  # Output: 02:16:10\n",
    "print(t1 > t2)  # Output: True\n"
   ]
  },
  {
   "cell_type": "code",
   "execution_count": null,
   "id": "037aeb2c-458a-4219-b997-29fd7c0a8371",
   "metadata": {},
   "outputs": [],
   "source": []
  }
 ],
 "metadata": {
  "kernelspec": {
   "display_name": "Python 3 (ipykernel)",
   "language": "python",
   "name": "python3"
  },
  "language_info": {
   "codemirror_mode": {
    "name": "ipython",
    "version": 3
   },
   "file_extension": ".py",
   "mimetype": "text/x-python",
   "name": "python",
   "nbconvert_exporter": "python",
   "pygments_lexer": "ipython3",
   "version": "3.12.4"
  }
 },
 "nbformat": 4,
 "nbformat_minor": 5
}
