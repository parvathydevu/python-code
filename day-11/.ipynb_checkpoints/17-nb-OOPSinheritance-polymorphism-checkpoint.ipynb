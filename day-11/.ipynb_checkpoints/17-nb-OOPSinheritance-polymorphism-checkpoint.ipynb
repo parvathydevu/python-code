{
 "cells": [
  {
   "cell_type": "markdown",
   "id": "994e445b-5e44-4482-ba88-daf156f28a33",
   "metadata": {},
   "source": [
    "# 17.1 Inheritance"
   ]
  },
  {
   "cell_type": "code",
   "execution_count": null,
   "id": "32263971-f36e-49ec-8c36-77ec54154600",
   "metadata": {},
   "outputs": [],
   "source": [
    "Inheritance class derives the data and behavior from the parent class."
   ]
  },
  {
   "cell_type": "code",
   "execution_count": 7,
   "id": "4984ef94-739c-4989-a3dd-7d5c71055e96",
   "metadata": {},
   "outputs": [],
   "source": [
    "class employee:\n",
    "    #class variable\n",
    "    nEmployees=0  #class var---it is visible to all the object creating a particular class.without self.  calledas class car\n",
    "    #Attributes\n",
    "    def __init__(self,name,age,company,salary):\n",
    "          #instance var is self.name,self.age,self.company.....etc..\n",
    "        self.name=name\n",
    "        self.age=age\n",
    "        self.company=company\n",
    "        self.salary=salary  #100000 INR\n",
    "        self.taxrate=0\n",
    "        self.bonus=0\n",
    "        self.net_salary=''\n",
    "        employee.nEmployees+=1 #when u call __init__ method , nEmployees will increment by one\n",
    "    #methods\n",
    "    def set_taxrate(self,tr):  #SELF-NEED TO CALL INSTANCE OF VAR\n",
    "        self.taxrate=tr\n",
    "        self.update_net_salary()\n",
    "        return\n",
    "    def set_bonus(self,bonus_per):\n",
    "        try:\n",
    "            self.bonus=bonus_per\n",
    "            temp=float(self.salary.split()[0])\n",
    "            temp=temp-(temp*self.bonus/100)\n",
    "            print(temp)\n",
    "            self.net_salary=''.join([str(temp),'INR'])\n",
    "            return\n",
    "        except:\n",
    "            print(\"Incompatible input\") \n",
    "\n",
    "    def update_net_salary(self):\n",
    "        try:\n",
    "            temp=float(self.salary.split()[0])\n",
    "            temp=temp-(temp*self.taxrate/100)\n",
    "            print(temp)\n",
    "            self.net_salary=' '.join([str(temp),'INR'])\n",
    "            return\n",
    "        except:\n",
    "            print(\"Incompatible input\")\n",
    "    def print(self):\n",
    "        print(\"\\n\")\n",
    "        print(\"NAME\".ljust(20), ' -> ', self.name)\n",
    "        print(\"AGE\".ljust(20), ' -> ', self.age)\n",
    "        print(\"COMPANY\".ljust(20), ' -> ', self.company)\n",
    "        print(\"-\"*80)\n",
    "        print(\"GROSS SALARY\".ljust(20), ' = ', self.salary)\n",
    "        print(\"TAX RATE\".ljust(20), ' = ', self.taxrate)\n",
    "        print(\"BONUS\".ljust(20), ' = ', self.bonus, ' pct')\n",
    "        print(\"-\"*80)\n",
    "        print(\"NET SALARY\".ljust(20), ' = ', self.net_salary)"
   ]
  },
  {
   "cell_type": "markdown",
   "id": "979ac125-5882-4103-a5db-2fa0a665cb64",
   "metadata": {},
   "source": [
    "# Syntax for Inheritance"
   ]
  },
  {
   "cell_type": "code",
   "execution_count": 8,
   "id": "4a868862-a426-4bc6-a0c0-25b0d4d32d33",
   "metadata": {},
   "outputs": [],
   "source": [
    "class newEmployee(employee): #newEmployee is inherited from employee\n",
    "    pass "
   ]
  },
  {
   "cell_type": "code",
   "execution_count": 9,
   "id": "0248b888-aaa3-491f-a46a-ffe369561a6e",
   "metadata": {},
   "outputs": [],
   "source": [
    "e = newEmployee(\"Anil\", 35, \"UST Global\", \"1500000 INR\") "
   ]
  },
  {
   "cell_type": "code",
   "execution_count": 13,
   "id": "0ea0066d-8b75-4c77-84a3-c29e2d94f80a",
   "metadata": {},
   "outputs": [
    {
     "name": "stdout",
     "output_type": "stream",
     "text": [
      "1050000.0\n",
      "\n",
      "\n",
      "NAME                  ->  Anil\n",
      "AGE                   ->  35\n",
      "COMPANY               ->  UST Global\n",
      "--------------------------------------------------------------------------------\n",
      "GROSS SALARY          =  1500000 INR\n",
      "TAX RATE              =  30\n",
      "BONUS                 =  0  pct\n",
      "--------------------------------------------------------------------------------\n",
      "NET SALARY            =  1050000.0 INR\n"
     ]
    }
   ],
   "source": [
    "e.set_taxrate(30)\n",
    "e.print()"
   ]
  },
  {
   "cell_type": "code",
   "execution_count": 16,
   "id": "3cbc4725-bcf8-4575-9347-3791f23e3be6",
   "metadata": {},
   "outputs": [],
   "source": [
    "class employee:\n",
    "\n",
    "    # class variable\n",
    "    nEmployees = 0\n",
    "\n",
    "    # attributes\n",
    "    def __init__(self, name='', age=0, company='', salary=''):\n",
    "        self.name = name\n",
    "        self.age  = age\n",
    "        self.company = company\n",
    "        self.salary = salary  # 1000000 INR\n",
    "        self.taxrate = 0\n",
    "        self.bonus = 0\n",
    "        self.net_salary = self.salary \n",
    "        employee.nEmployees += 1\n",
    "\n",
    "    # methods\n",
    "\n",
    "    def set_taxrate(self, tr):\n",
    "        self.taxrate = tr\n",
    "        self.update_net_salary()\n",
    "        return\n",
    "    def set_bonus(self, bonus_pct):\n",
    "        try:\n",
    "            self.bonus = bonus_pct\n",
    "            temp = float(self.net_salary.split()[0])\n",
    "            temp = temp + (temp * self.bonus/100)\n",
    "            self.net_salary = ' '.join([str(temp), 'INR'])\n",
    "            return\n",
    "        except:\n",
    "            print(\"Incompatible operation\")\n",
    "\n",
    "    def update_net_salary(self):\n",
    "        try:\n",
    "            temp = float(self.salary.split()[0])\n",
    "            temp = temp - (temp * self.taxrate/100)\n",
    "            print(temp)\n",
    "            self.net_salary = ' '.join([str(temp), 'INR'])\n",
    "            return\n",
    "        except:\n",
    "            print(\"Incompatible input\")\n",
    "    def print(self):\n",
    "        print(\"\\n\")\n",
    "        print(\"NAME\".ljust(20), ' -> ', self.name)\n",
    "        print(\"AGE\".ljust(20), ' -> ', self.age)\n",
    "        print(\"COMPANY\".ljust(20), ' -> ', self.company)\n",
    "        print(\"-\"*80)\n",
    "        print(\"GROSS SALARY\".ljust(20), ' = ', self.salary)\n",
    "        print(\"TAX RATE\".ljust(20), ' = ', self.taxrate)\n",
    "        print(\"BONUS\".ljust(20), ' = ', self.bonus, ' pct')\n",
    "        print(\"-\"*80)\n",
    "        print(\"NET SALARY\".ljust(20), ' = ', self.net_salary)"
   ]
  },
  {
   "cell_type": "code",
   "execution_count": 18,
   "id": "70f8de00-350e-452f-9c1e-4074e7a6c572",
   "metadata": {},
   "outputs": [],
   "source": [
    "class newEmployee(employee):# newEmployee is inherited from employee\n",
    "    pass\n",
    "    "
   ]
  },
  {
   "cell_type": "code",
   "execution_count": 19,
   "id": "79f9f884-3e2c-4579-ae1e-0ac4d4a07288",
   "metadata": {},
   "outputs": [
    {
     "name": "stdout",
     "output_type": "stream",
     "text": [
      "1350000.0\n",
      "\n",
      "\n",
      "NAME                  ->  Anil\n",
      "AGE                   ->  35\n",
      "COMPANY               ->  UST Global\n",
      "--------------------------------------------------------------------------------\n",
      "GROSS SALARY          =  1500000 INR\n",
      "TAX RATE              =  10\n",
      "BONUS                 =  10  pct\n",
      "--------------------------------------------------------------------------------\n",
      "NET SALARY            =  1485000.0 INR\n"
     ]
    }
   ],
   "source": [
    "e = newEmployee(\"Anil\", 35, \"UST Global\", \"1500000 INR\")\n",
    "e.set_taxrate(10)\n",
    "e.set_bonus(10)\n",
    "e.print()"
   ]
  },
  {
   "cell_type": "markdown",
   "id": "6f2b29bb-a380-4bac-9a6f-fa2aa1e31e1e",
   "metadata": {},
   "source": [
    "# ADDING NEW ATRRIBUTES AND BEAHVIOR"
   ]
  },
  {
   "cell_type": "code",
   "execution_count": 20,
   "id": "6e081d9d-91ee-400f-84d5-16eaadc4b3d6",
   "metadata": {},
   "outputs": [],
   "source": [
    "import re\n",
    "\n",
    "class extEmployee(employee):\n",
    "\n",
    "    def __init__(self, name, age, company, salary, marital_status):\n",
    "        # New attributes\n",
    "        self.phone = \"+910000000000\"\n",
    "        self.address = \"\"\n",
    "        self.workmode = \"Office\"\n",
    "        self.maritalstatus = marital_status\n",
    "        # Attributes initialized in parent class\n",
    "        super().__init__(name, age, company, salary)\n",
    "\n",
    "    # New functions\n",
    "    def update_maritalstatus(self, status):\n",
    "        if(status in [\"married\", \"unmarried\", \"single\"]):\n",
    "            self.maritalstatus = status\n",
    "        return\n",
    "\n",
    "    def update_phone(self, phone):\n",
    "        if re.match(r\"\\+91\\d{10}\", phone):\n",
    "            self.phone = phone\n",
    "        return\n",
    "\n",
    "    def update_address(self, addr):\n",
    "        self.addr = addr\n",
    "\n",
    "    def update_workmode(self, mode):\n",
    "        if mode in [\"home\", \"office\", \"hybrid\"]:\n",
    "            self.workmode = mode"
   ]
  },
  {
   "cell_type": "code",
   "execution_count": 21,
   "id": "97a675cc-5665-4b6a-bf04-2f1cd9d0e81e",
   "metadata": {},
   "outputs": [
    {
     "name": "stdout",
     "output_type": "stream",
     "text": [
      "1350000.0\n",
      "\n",
      "\n",
      "NAME                  ->  Sunil\n",
      "AGE                   ->  35\n",
      "COMPANY               ->  UST Global\n",
      "--------------------------------------------------------------------------------\n",
      "GROSS SALARY          =  1500000 INR\n",
      "TAX RATE              =  10\n",
      "BONUS                 =  10  pct\n",
      "--------------------------------------------------------------------------------\n",
      "NET SALARY            =  1485000.0 INR\n"
     ]
    }
   ],
   "source": [
    "e = extEmployee(\"Sunil\", 35, \"UST Global\", \"1500000 INR\", \"married\")\n",
    "# Calling functions from parent side\n",
    "e.set_taxrate(10)\n",
    "e.set_bonus(10)\n",
    "# Calling functions from the child\n",
    "e.update_phone(\"+918876534545\")\n",
    "e.update_address(\"Jayanagar, Bengaluru - 560040\")\n",
    "# Print from parent class - why?\n",
    "e.print()"
   ]
  },
  {
   "cell_type": "code",
   "execution_count": null,
   "id": "d9b0474b-0226-43b7-9c67-179befcce9ea",
   "metadata": {},
   "outputs": [],
   "source": []
  }
 ],
 "metadata": {
  "kernelspec": {
   "display_name": "Python 3 (ipykernel)",
   "language": "python",
   "name": "python3"
  },
  "language_info": {
   "codemirror_mode": {
    "name": "ipython",
    "version": 3
   },
   "file_extension": ".py",
   "mimetype": "text/x-python",
   "name": "python",
   "nbconvert_exporter": "python",
   "pygments_lexer": "ipython3",
   "version": "3.12.4"
  }
 },
 "nbformat": 4,
 "nbformat_minor": 5
}
