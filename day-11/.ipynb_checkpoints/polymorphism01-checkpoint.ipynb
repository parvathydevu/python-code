{
 "cells": [
  {
   "cell_type": "markdown",
   "id": "9b2cbfe3-5e9f-471a-9588-fe7f4c1ddb9f",
   "metadata": {},
   "source": [
    "# Polymorphism"
   ]
  },
  {
   "cell_type": "code",
   "execution_count": 26,
   "id": "44b6cb9d-f9eb-4157-954d-7e480abecf6b",
   "metadata": {},
   "outputs": [],
   "source": [
    "class Car(object):\n",
    "\n",
    "    # Class variables\n",
    "    nCars = 0\n",
    "\n",
    "    # Constructor\n",
    "    def __init__(self, brand, model, year, mileage=0): # double underscored = dunder\n",
    "        # Instance variables\n",
    "        self.brand = brand\n",
    "        self.model = model\n",
    "        self.year  = year\n",
    "        self.mileage = mileage\n",
    "\n",
    "    # Member functions\n",
    "    def drive(self, distance):\n",
    "        self.mileage += distance\n",
    "\n",
    "    def display_info(self):\n",
    "        print(\"BRAND\".ljust(10), '|', self.brand)\n",
    "        print(\"MODEL\".ljust(10), '|', self.model)\n",
    "        print(\"YEAR\".ljust(10), '|', self.year)\n",
    "        print(\"MILEAGE\".ljust(10), '|', self.mileage)"
   ]
  },
  {
   "cell_type": "code",
   "execution_count": 27,
   "id": "3702290c-d871-4080-a880-c334c7f4c4ea",
   "metadata": {},
   "outputs": [],
   "source": [
    "class ElectricCar(Car):\n",
    "\n",
    "    def __init__(self, brand, model, year, mileage=0, battery=10):\n",
    "        super().__init__(brand, model, year, mileage)  # initialize the parent with appropriate values\n",
    "        # local to ElectricCar - instance variables\n",
    "        self.battery = battery\n",
    "\n",
    "    # Newly added mothod\n",
    "    def charge(self, units):\n",
    "        self.battery += units\n",
    "\n",
    "    # Overridden methods to accomodate the changes in the electric car\n",
    "    def drive(self, distance):\n",
    "        self.battery -= distance/10  # charge reduces 1 unit for 10 KMS driven -> assumption\n",
    "\n",
    "    def display_info(self):\n",
    "        super().display_info()\n",
    "        print(\"CHARGE\".ljust(10), '|', self.battery)"
   ]
  },
  {
   "cell_type": "code",
   "execution_count": 29,
   "id": "d0c53abb-7dda-4b28-ac76-c07c41129d2d",
   "metadata": {},
   "outputs": [],
   "source": [
    "c1 = Car(\"Toyota\", \"Innova Crysta\", 2024, 1000)\n",
    "c2 = ElectricCar(\"Hyundai\", \"IONIQ\", 2024, 1000, 10)\n",
    "c3 = ElectricCar(\"MG\", \"Windsor\", 2025, 100, 10)"
   ]
  },
  {
   "cell_type": "code",
   "execution_count": 30,
   "id": "ea35cf4f-b5aa-4ee3-b237-3377b4b6aa80",
   "metadata": {},
   "outputs": [
    {
     "name": "stdout",
     "output_type": "stream",
     "text": [
      "BRAND      | Toyota\n",
      "MODEL      | Innova Crysta\n",
      "YEAR       | 2024\n",
      "MILEAGE    | 1000\n"
     ]
    }
   ],
   "source": [
    "c = c1\n",
    "c.display_info()"
   ]
  },
  {
   "cell_type": "code",
   "execution_count": 31,
   "id": "5af867bc-1497-4430-a380-217938495b3e",
   "metadata": {},
   "outputs": [
    {
     "name": "stdout",
     "output_type": "stream",
     "text": [
      "BRAND      | Hyundai\n",
      "MODEL      | IONIQ\n",
      "YEAR       | 2024\n",
      "MILEAGE    | 1000\n",
      "CHARGE     | 10\n"
     ]
    }
   ],
   "source": [
    "c = c2\n",
    "c.display_info()"
   ]
  },
  {
   "cell_type": "code",
   "execution_count": 32,
   "id": "c85dfb76-fd74-4acf-8a6b-0a92ef4ac2a2",
   "metadata": {},
   "outputs": [
    {
     "data": {
      "text/plain": [
       "'Hyundai'"
      ]
     },
     "execution_count": 32,
     "metadata": {},
     "output_type": "execute_result"
    }
   ],
   "source": [
    "getattr(c2, 'brand')"
   ]
  },
  {
   "cell_type": "code",
   "execution_count": 33,
   "id": "5b3bd33b-35cd-464d-8473-f4a888f0895f",
   "metadata": {},
   "outputs": [
    {
     "data": {
      "text/plain": [
       "(True, False)"
      ]
     },
     "execution_count": 33,
     "metadata": {},
     "output_type": "execute_result"
    }
   ],
   "source": [
    "hasattr(c2, 'charge'), hasattr(c3, 'baas')"
   ]
  },
  {
   "cell_type": "code",
   "execution_count": 35,
   "id": "cc2bcf35-4033-4cb5-bd0d-5957672482e2",
   "metadata": {},
   "outputs": [],
   "source": [
    "setattr(c3, 'baas', 'True')  # dynamically inserting a variable into the object directly - not coming from class"
   ]
  },
  {
   "cell_type": "markdown",
   "id": "88fd145a-e345-4f26-aa54-368cf0efd9ac",
   "metadata": {},
   "source": [
    "# getattr(),setattr(),hasattr()"
   ]
  },
  {
   "cell_type": "code",
   "execution_count": null,
   "id": "48a3ecac-7588-4d35-8ed4-9bc0caa43515",
   "metadata": {},
   "outputs": [],
   "source": [
    "getattr -The getattr function is used to retrieve the value of an attribute from an object"
   ]
  },
  {
   "cell_type": "code",
   "execution_count": null,
   "id": "1ec5d1fb-04f1-4bb7-833c-972559c80d0e",
   "metadata": {},
   "outputs": [],
   "source": [
    "getattr(object, name[, default])"
   ]
  },
  {
   "cell_type": "code",
   "execution_count": null,
   "id": "5e851b2a-41b8-4766-8882-37714085cf40",
   "metadata": {},
   "outputs": [],
   "source": [
    "The hasattr function checks if an object has a specified attribute."
   ]
  },
  {
   "cell_type": "code",
   "execution_count": null,
   "id": "1b7b2db7-42bc-4825-ac19-b76cc965e18a",
   "metadata": {},
   "outputs": [],
   "source": [
    "hasattr(object, name)"
   ]
  },
  {
   "cell_type": "code",
   "execution_count": null,
   "id": "dbfc23be-2c6e-47c7-b53e-fa33d4d30a88",
   "metadata": {},
   "outputs": [],
   "source": [
    "The setattr() function in Python is used to set the value of an attribute of an object,dynamically inserting a variable into a object directly.\n",
    "not coming from class"
   ]
  },
  {
   "cell_type": "code",
   "execution_count": null,
   "id": "ce25e0f9-2508-41cd-be4c-b9db49e69ba3",
   "metadata": {},
   "outputs": [],
   "source": [
    "delattr(obj,'name of attribute present in class') -delete a attribute from class."
   ]
  },
  {
   "cell_type": "code",
   "execution_count": null,
   "id": "379ae71d-5935-4978-a106-9bd927266c00",
   "metadata": {},
   "outputs": [],
   "source": [
    "The setattr() function in Python is used to set the value of an attribute of an object,dynamically inserting a variable into a object directly.\n",
    "not coming from class"
   ]
  },
  {
   "cell_type": "markdown",
   "id": "5381bb36-885a-401d-946f-d855b61c55ea",
   "metadata": {},
   "source": [
    "# Built in module-operator"
   ]
  },
  {
   "cell_type": "code",
   "execution_count": 1,
   "id": "8535ee2c-dd0e-4a67-b0ee-ea9e2632a641",
   "metadata": {},
   "outputs": [],
   "source": [
    "from operator import itemgetter, methodcaller, attrgetter"
   ]
  },
  {
   "cell_type": "code",
   "execution_count": 3,
   "id": "5c08376a-ad8b-4abe-a519-932de118506d",
   "metadata": {},
   "outputs": [
    {
     "data": {
      "text/plain": [
       "'bananas'"
      ]
     },
     "execution_count": 3,
     "metadata": {},
     "output_type": "execute_result"
    }
   ],
   "source": [
    "itemgetter(1)(['apples','bananas','grapes'])"
   ]
  },
  {
   "cell_type": "code",
   "execution_count": 4,
   "id": "e8618a82-a92e-414e-9c9f-a3a9b9ca9dc4",
   "metadata": {},
   "outputs": [],
   "source": [
    "class Person:\n",
    "    def __init__(self,name,age):\n",
    "        self.name=name\n",
    "        self.age=age\n",
    "    def greet(self):\n",
    "        return f\"Hello, my name is {self.name} and age is {self.age}\""
   ]
  },
  {
   "cell_type": "code",
   "execution_count": 5,
   "id": "6a7fd86e-d8c5-4fff-82c7-89f6fac2935f",
   "metadata": {},
   "outputs": [],
   "source": [
    "p=[Person(\"anil\",45),Person(\"sunil\",40),Person(\"sunitha\",43)]"
   ]
  },
  {
   "cell_type": "code",
   "execution_count": 6,
   "id": "ec673cf3-cda2-46e9-97f4-2efda20d3eaf",
   "metadata": {},
   "outputs": [
    {
     "data": {
      "text/plain": [
       "[<__main__.Person at 0x251d76e36b0>,\n",
       " <__main__.Person at 0x251d76e2ae0>,\n",
       " <__main__.Person at 0x251d76e14c0>]"
      ]
     },
     "execution_count": 6,
     "metadata": {},
     "output_type": "execute_result"
    }
   ],
   "source": [
    "p"
   ]
  },
  {
   "cell_type": "code",
   "execution_count": 7,
   "id": "edfb4837-9c3a-4a3b-8ef5-420cf95f72df",
   "metadata": {},
   "outputs": [
    {
     "data": {
      "text/plain": [
       "<__main__.Person at 0x251d76e2ae0>"
      ]
     },
     "execution_count": 7,
     "metadata": {},
     "output_type": "execute_result"
    }
   ],
   "source": [
    "itemgetter(1)(p)  "
   ]
  },
  {
   "cell_type": "code",
   "execution_count": 8,
   "id": "70626897-0be7-44ae-a116-22915a91aafc",
   "metadata": {},
   "outputs": [
    {
     "data": {
      "text/plain": [
       "'sunitha'"
      ]
     },
     "execution_count": 8,
     "metadata": {},
     "output_type": "execute_result"
    }
   ],
   "source": [
    "attrgetter('name')(p[2])"
   ]
  },
  {
   "cell_type": "code",
   "execution_count": 9,
   "id": "fbf108b5-91f3-4e13-8692-0ddb83e19cc3",
   "metadata": {},
   "outputs": [
    {
     "data": {
      "text/plain": [
       "'anil'"
      ]
     },
     "execution_count": 9,
     "metadata": {},
     "output_type": "execute_result"
    }
   ],
   "source": [
    "attrgetter('name')(p[0])"
   ]
  },
  {
   "cell_type": "code",
   "execution_count": 20,
   "id": "7f5971ce-a928-4784-85c0-eef2b932cbb4",
   "metadata": {},
   "outputs": [
    {
     "data": {
      "text/plain": [
       "'Hello, my name is anil and age is 45'"
      ]
     },
     "execution_count": 20,
     "metadata": {},
     "output_type": "execute_result"
    }
   ],
   "source": [
    "methodcaller('greet')(p[0])  #print outcome -object 0 attributes of greet class function"
   ]
  },
  {
   "cell_type": "code",
   "execution_count": null,
   "id": "8caa440c-0a21-4777-9ef1-7b01ba027202",
   "metadata": {},
   "outputs": [],
   "source": [
    "#extract all names and ages"
   ]
  },
  {
   "cell_type": "code",
   "execution_count": 14,
   "id": "31bc51c2-d6e3-464e-8098-730d87caa2de",
   "metadata": {},
   "outputs": [],
   "source": [
    "names=list(map(attrgetter('name'),p))"
   ]
  },
  {
   "cell_type": "code",
   "execution_count": 15,
   "id": "3cbba20f-626d-456c-b3f4-15cebf4afb5f",
   "metadata": {},
   "outputs": [
    {
     "data": {
      "text/plain": [
       "['anil', 'sunil', 'sunitha']"
      ]
     },
     "execution_count": 15,
     "metadata": {},
     "output_type": "execute_result"
    }
   ],
   "source": [
    "names"
   ]
  },
  {
   "cell_type": "code",
   "execution_count": 16,
   "id": "8c05adff-3ece-4702-9e09-f9b182de0b46",
   "metadata": {},
   "outputs": [],
   "source": [
    "ages=list(map(attrgetter('age'),p))"
   ]
  },
  {
   "cell_type": "code",
   "execution_count": 17,
   "id": "1877e006-a4c2-4bdb-81e0-d17960d6e816",
   "metadata": {},
   "outputs": [
    {
     "data": {
      "text/plain": [
       "[45, 40, 43]"
      ]
     },
     "execution_count": 17,
     "metadata": {},
     "output_type": "execute_result"
    }
   ],
   "source": [
    "ages"
   ]
  },
  {
   "cell_type": "code",
   "execution_count": 19,
   "id": "84edd906-6b59-4b14-a675-bf305437ca46",
   "metadata": {},
   "outputs": [
    {
     "data": {
      "text/plain": [
       "{'anil': 45, 'sunil': 40, 'sunitha': 43}"
      ]
     },
     "execution_count": 19,
     "metadata": {},
     "output_type": "execute_result"
    }
   ],
   "source": [
    "dict(zip(names,ages))"
   ]
  },
  {
   "cell_type": "code",
   "execution_count": 24,
   "id": "7eab6310-338a-46e5-ab34-420e40b8dba5",
   "metadata": {},
   "outputs": [],
   "source": [
    "greetings=list(map(methodcaller('greet'),p))  #methodcaller p is a list of objects and update it in class person.which gives a list of outcome"
   ]
  },
  {
   "cell_type": "code",
   "execution_count": 22,
   "id": "838d72a8-e83f-4164-ac18-2ea57c32ee3a",
   "metadata": {},
   "outputs": [
    {
     "data": {
      "text/plain": [
       "['Hello, my name is anil and age is 45',\n",
       " 'Hello, my name is sunil and age is 40',\n",
       " 'Hello, my name is sunitha and age is 43']"
      ]
     },
     "execution_count": 22,
     "metadata": {},
     "output_type": "execute_result"
    }
   ],
   "source": [
    "greetings"
   ]
  },
  {
   "cell_type": "code",
   "execution_count": null,
   "id": "fb4d5bd6-009d-4687-952a-a094529b3403",
   "metadata": {},
   "outputs": [],
   "source": []
  }
 ],
 "metadata": {
  "kernelspec": {
   "display_name": "Python 3 (ipykernel)",
   "language": "python",
   "name": "python3"
  },
  "language_info": {
   "codemirror_mode": {
    "name": "ipython",
    "version": 3
   },
   "file_extension": ".py",
   "mimetype": "text/x-python",
   "name": "python",
   "nbconvert_exporter": "python",
   "pygments_lexer": "ipython3",
   "version": "3.12.4"
  }
 },
 "nbformat": 4,
 "nbformat_minor": 5
}
