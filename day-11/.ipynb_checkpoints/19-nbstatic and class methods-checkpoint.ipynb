{
 "cells": [
  {
   "cell_type": "markdown",
   "id": "8e4698b3-8a3a-411c-b586-ef9a2d03e5d3",
   "metadata": {},
   "source": [
    "# 19.1Class methods\n"
   ]
  },
  {
   "cell_type": "code",
   "execution_count": null,
   "id": "5a327720-4571-4132-85e4-2d870639163f",
   "metadata": {},
   "outputs": [],
   "source": [
    "A class method opeartes on class rather than on instances\n",
    "It takes cls as the first parameter rather than self (cls-class itself)\n",
    "It can be used to modify class level attributes or as alternative constructor\n",
    "It cannot modify instanc level attributes"
   ]
  },
  {
   "cell_type": "code",
   "execution_count": 6,
   "id": "60e76071-8fa9-4372-92b5-c390e820c716",
   "metadata": {},
   "outputs": [],
   "source": [
    "class Person:\n",
    "\n",
    "    def __init__(self,name,age):\n",
    "        self.name=name\n",
    "        self.age=age\n",
    "    def __repr__(self):\n",
    "        return str(self.name)+' '+str(self.age)\n",
    "        \n",
    "    def from_birth_year(cls,name,birth_year):  #CLASS METHOD because first argument is cls\n",
    "        return cls(name,2025-birth_year)#cls -CLASS NAME refers to class name, cls is Person -->Person(name,2025-birth_year)\n",
    "    from_birth_year = classmethod(from_birth_year)"
   ]
  },
  {
   "cell_type": "code",
   "execution_count": 8,
   "id": "92335b95-277a-4527-84e1-ce05264137b0",
   "metadata": {},
   "outputs": [
    {
     "data": {
      "text/plain": [
       "Anil 54"
      ]
     },
     "execution_count": 8,
     "metadata": {},
     "output_type": "execute_result"
    }
   ],
   "source": [
    "p1=Person(\"Anil\",54)\n",
    "p1"
   ]
  },
  {
   "cell_type": "markdown",
   "id": "5dbdf3e1-e269-4f34-a2ea-423fd3259823",
   "metadata": {},
   "source": [
    "object=Person.FUNCTION NAME(\"ARGUMENTS\")"
   ]
  },
  {
   "cell_type": "code",
   "execution_count": 17,
   "id": "7611700f-d85f-487c-91b8-c26bfa8be937",
   "metadata": {},
   "outputs": [
    {
     "data": {
      "text/plain": [
       "Anitha 30"
      ]
     },
     "execution_count": 17,
     "metadata": {},
     "output_type": "execute_result"
    }
   ],
   "source": [
    "p2=Person.from_birth_year(\"Anitha\",1995)\n",
    "p2"
   ]
  },
  {
   "cell_type": "markdown",
   "id": "3a062026-adf3-4078-a3aa-2b4c5660af0a",
   "metadata": {},
   "source": [
    "# class methods cannot modify instance variables"
   ]
  },
  {
   "cell_type": "markdown",
   "id": "540f5933-5c2c-467f-ae82-f83fe6126917",
   "metadata": {},
   "source": [
    "# 19.2Static methods"
   ]
  },
  {
   "cell_type": "code",
   "execution_count": null,
   "id": "dce5ae04-37f3-4ede-bcee-34b48b70a87a",
   "metadata": {},
   "outputs": [],
   "source": [
    "A static method does not operates on self->self refers to object or instance, cls->cls referes to class itself\n",
    "It behaves like a regular function but belongs to a class \n",
    "can be used as helper or utility functions that do not need accesss to class or instance variables"
   ]
  },
  {
   "cell_type": "code",
   "execution_count": 24,
   "id": "c3356a09-943f-4e00-bcb2-6a21726c86c6",
   "metadata": {},
   "outputs": [],
   "source": [
    "class MathOps:\n",
    "    def __init__(self):\n",
    "        print(\"Math Ops object created\")\n",
    "        \n",
    "    def add(x,y):  #without self\n",
    "        return x+y\n",
    "    def multiply(x,y):\n",
    "        return x*y\n",
    "\n",
    "    add=staticmethod(add)\n",
    "    multiply=staticmethod(multiply)\n",
    "    "
   ]
  },
  {
   "cell_type": "code",
   "execution_count": null,
   "id": "89c3e9a6-9abe-4cb8-aa1c-30f4b4d4823a",
   "metadata": {},
   "outputs": [],
   "source": []
  },
  {
   "cell_type": "code",
   "execution_count": 19,
   "id": "bc3efc68-99bb-4f77-a63f-861481bf7dee",
   "metadata": {},
   "outputs": [
    {
     "name": "stdout",
     "output_type": "stream",
     "text": [
      "Math Ops object created\n"
     ]
    }
   ],
   "source": [
    "m=MathOps()"
   ]
  },
  {
   "cell_type": "code",
   "execution_count": 20,
   "id": "bcb5529e-7896-4d4d-a9fe-48537707560c",
   "metadata": {},
   "outputs": [
    {
     "data": {
      "text/plain": [
       "30"
      ]
     },
     "execution_count": 20,
     "metadata": {},
     "output_type": "execute_result"
    }
   ],
   "source": [
    "m.add(10,20)"
   ]
  },
  {
   "cell_type": "code",
   "execution_count": 21,
   "id": "1410e7e2-a510-435b-ac9d-07749488f923",
   "metadata": {},
   "outputs": [
    {
     "data": {
      "text/plain": [
       "20"
      ]
     },
     "execution_count": 21,
     "metadata": {},
     "output_type": "execute_result"
    }
   ],
   "source": [
    "m.multiply(10,2)"
   ]
  },
  {
   "cell_type": "code",
   "execution_count": 22,
   "id": "ec411803-1c8f-40ee-b39b-8f46db91fdb3",
   "metadata": {},
   "outputs": [
    {
     "data": {
      "text/plain": [
       "20"
      ]
     },
     "execution_count": 22,
     "metadata": {},
     "output_type": "execute_result"
    }
   ],
   "source": [
    "MathOps.add(10,10)"
   ]
  },
  {
   "cell_type": "code",
   "execution_count": 23,
   "id": "4e1d31e1-8a9e-4e4d-82fe-1ceceef14203",
   "metadata": {},
   "outputs": [
    {
     "data": {
      "text/plain": [
       "100"
      ]
     },
     "execution_count": 23,
     "metadata": {},
     "output_type": "execute_result"
    }
   ],
   "source": [
    "MathOps.multiply(10,10)"
   ]
  },
  {
   "cell_type": "code",
   "execution_count": null,
   "id": "94bb83c8-800f-4c77-8a89-c199ed167f12",
   "metadata": {},
   "outputs": [],
   "source": [
    "#generic function, without self.-staticmethod"
   ]
  },
  {
   "cell_type": "code",
   "execution_count": null,
   "id": "2f97d2c7-5115-4986-b71c-3037240e58b1",
   "metadata": {},
   "outputs": [],
   "source": []
  },
  {
   "cell_type": "markdown",
   "id": "7c503587-fd46-4560-bb61-765a3c27c071",
   "metadata": {},
   "source": [
    "# staticmethod cannot modify instance or class variables"
   ]
  },
  {
   "cell_type": "code",
   "execution_count": null,
   "id": "4e45c46c-ea7b-4c26-aff7-d14d2198c798",
   "metadata": {},
   "outputs": [],
   "source": []
  }
 ],
 "metadata": {
  "kernelspec": {
   "display_name": "Python 3 (ipykernel)",
   "language": "python",
   "name": "python3"
  },
  "language_info": {
   "codemirror_mode": {
    "name": "ipython",
    "version": 3
   },
   "file_extension": ".py",
   "mimetype": "text/x-python",
   "name": "python",
   "nbconvert_exporter": "python",
   "pygments_lexer": "ipython3",
   "version": "3.12.4"
  }
 },
 "nbformat": 4,
 "nbformat_minor": 5
}
