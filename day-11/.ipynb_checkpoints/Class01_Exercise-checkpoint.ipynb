{
 "cells": [
  {
   "cell_type": "code",
   "execution_count": null,
   "id": "42174d9f-4a42-4976-8372-1a437198eb1f",
   "metadata": {},
   "outputs": [],
   "source": [
    "'''  Basic Class Creation: Car\n",
    "------------------------------------------------------------------\n",
    "Task: Create a class Car with attributes and methods as follows:\n",
    "\n",
    "Attributes: brand, model, year, mileage\n",
    "\n",
    "Methods:\n",
    "\n",
    "drive(distance): Increases mileage by distance.\n",
    "\n",
    "display_info(): Prints all details of the car.'''"
   ]
  },
  {
   "cell_type": "code",
   "execution_count": 32,
   "id": "4bfb244b-cd1b-43ec-8d07-36cabd1989e6",
   "metadata": {},
   "outputs": [],
   "source": [
    "class Car:\n",
    "    #attributes\n",
    "    def __init__(self, brand,model,year,mileage=0):\n",
    "        self.brand=brand\n",
    "        self.model=model\n",
    "        self.year=year\n",
    "        self.mileage=0\n",
    "        self.fuellevel=0\n",
    "        self.distance=0\n",
    "    def drive(self,amount):\n",
    "        self.amount=amount\n",
    "        self.distance=self.mileage*self.fuellevel\n",
    "    def refuel(self,fuellevel):\n",
    "        self.fuellevel+=self.amount\n",
    "    def display_Info(self):\n",
    "        print(\"Brand of car:\",self.brand)\n",
    "        print(\"model of car:\",self.model)\n",
    "        print(\"year:\",self.year)\n",
    "        print(\"Mileage of car:\",self.mileage,\"km\") \n",
    "        print(\"Distance:\",self.distance,\" in km\") \n",
    "        print(\"Fuel level:\",self.fuelevel,\"liters\")"
   ]
  },
  {
   "cell_type": "code",
   "execution_count": 37,
   "id": "e69195b3-dc63-4a8a-809d-2f980cb20862",
   "metadata": {},
   "outputs": [
    {
     "ename": "TypeError",
     "evalue": "Car.refuel() takes 1 positional argument but 2 were given",
     "output_type": "error",
     "traceback": [
      "\u001b[1;31m---------------------------------------------------------------------------\u001b[0m",
      "\u001b[1;31mTypeError\u001b[0m                                 Traceback (most recent call last)",
      "Cell \u001b[1;32mIn[37], line 2\u001b[0m\n\u001b[0;32m      1\u001b[0m a\u001b[38;5;241m=\u001b[39mCar(\u001b[38;5;124m\"\u001b[39m\u001b[38;5;124mToyota\u001b[39m\u001b[38;5;124m\"\u001b[39m, \u001b[38;5;124m\"\u001b[39m\u001b[38;5;124mCorolla\u001b[39m\u001b[38;5;124m\"\u001b[39m, \u001b[38;5;241m2020\u001b[39m)\n\u001b[1;32m----> 2\u001b[0m a\u001b[38;5;241m.\u001b[39mrefuel(\u001b[38;5;241m20\u001b[39m)\n\u001b[0;32m      3\u001b[0m a\u001b[38;5;241m.\u001b[39mdrive(\u001b[38;5;241m100\u001b[39m)\n",
      "\u001b[1;31mTypeError\u001b[0m: Car.refuel() takes 1 positional argument but 2 were given"
     ]
    }
   ],
   "source": [
    "a=Car(\"Toyota\", \"Corolla\", 2020)\n",
    "a.refuel(20)\n",
    "a.drive(100)"
   ]
  },
  {
   "cell_type": "code",
   "execution_count": 38,
   "id": "5a80f0a5-ec9a-4021-9fb5-7b30ec0c7ec6",
   "metadata": {},
   "outputs": [
    {
     "name": "stdout",
     "output_type": "stream",
     "text": [
      "Brand of car: Toyota\n",
      "model of car: Corolla\n",
      "year: 2020\n",
      "Mileage of car: 0 km\n"
     ]
    },
    {
     "ename": "AttributeError",
     "evalue": "'Car' object has no attribute 'distance'",
     "output_type": "error",
     "traceback": [
      "\u001b[1;31m---------------------------------------------------------------------------\u001b[0m",
      "\u001b[1;31mAttributeError\u001b[0m                            Traceback (most recent call last)",
      "Cell \u001b[1;32mIn[38], line 1\u001b[0m\n\u001b[1;32m----> 1\u001b[0m a\u001b[38;5;241m.\u001b[39mdisplay_Info()\n",
      "Cell \u001b[1;32mIn[32], line 19\u001b[0m, in \u001b[0;36mCar.display_Info\u001b[1;34m(self)\u001b[0m\n\u001b[0;32m     17\u001b[0m \u001b[38;5;28mprint\u001b[39m(\u001b[38;5;124m\"\u001b[39m\u001b[38;5;124myear:\u001b[39m\u001b[38;5;124m\"\u001b[39m,\u001b[38;5;28mself\u001b[39m\u001b[38;5;241m.\u001b[39myear)\n\u001b[0;32m     18\u001b[0m \u001b[38;5;28mprint\u001b[39m(\u001b[38;5;124m\"\u001b[39m\u001b[38;5;124mMileage of car:\u001b[39m\u001b[38;5;124m\"\u001b[39m,\u001b[38;5;28mself\u001b[39m\u001b[38;5;241m.\u001b[39mmileage,\u001b[38;5;124m\"\u001b[39m\u001b[38;5;124mkm\u001b[39m\u001b[38;5;124m\"\u001b[39m) \n\u001b[1;32m---> 19\u001b[0m \u001b[38;5;28mprint\u001b[39m(\u001b[38;5;124m\"\u001b[39m\u001b[38;5;124mDistance:\u001b[39m\u001b[38;5;124m\"\u001b[39m,\u001b[38;5;28mself\u001b[39m\u001b[38;5;241m.\u001b[39mdistance,\u001b[38;5;124m\"\u001b[39m\u001b[38;5;124m in km\u001b[39m\u001b[38;5;124m\"\u001b[39m) \n\u001b[0;32m     20\u001b[0m \u001b[38;5;28mprint\u001b[39m(\u001b[38;5;124m\"\u001b[39m\u001b[38;5;124mFuel level:\u001b[39m\u001b[38;5;124m\"\u001b[39m,\u001b[38;5;28mself\u001b[39m\u001b[38;5;241m.\u001b[39mfuelevel,\u001b[38;5;124m\"\u001b[39m\u001b[38;5;124mliters\u001b[39m\u001b[38;5;124m\"\u001b[39m)\n",
      "\u001b[1;31mAttributeError\u001b[0m: 'Car' object has no attribute 'distance'"
     ]
    }
   ],
   "source": [
    "a.display_Info()"
   ]
  },
  {
   "cell_type": "code",
   "execution_count": 51,
   "id": "729119ba-9df7-43bf-a477-d0a20f0b56ce",
   "metadata": {},
   "outputs": [],
   "source": [
    "class Car:\n",
    "    def __init__(self, brand, model, year, mileage):\n",
    "        self.brand = brand\n",
    "        self.model = model\n",
    "        self.year = year\n",
    "        self.mileage = mileage\n",
    "        self.fuel_level = 0\n",
    "        self.distance = 0\n",
    "\n",
    "    def drive(self, distance):\n",
    "        self.fuel_level += amount\n",
    "        self.distance= self.mileage*self.fuel_level\n",
    "\n",
    "    def refuel(self, amount):\n",
    "        self.amount=amount\n",
    "        self.drive()\n",
    "\n",
    "    def display_info(self):\n",
    "        print(\"\\n\")\n",
    "        print(\"-\"*80)\n",
    "        print(\"Brand of car:\",self.brand)\n",
    "        print(\"model of car:\",self.model)\n",
    "        print(\"year:\",self.year)\n",
    "        print(\"Mileage of car:\",self.mileage) \n",
    "        print(\"Distance:\",self.distance,\"km\")"
   ]
  },
  {
   "cell_type": "code",
   "execution_count": 52,
   "id": "fd2530fe-18b6-4424-96c7-89d926575914",
   "metadata": {},
   "outputs": [
    {
     "ename": "TypeError",
     "evalue": "Car.drive() missing 1 required positional argument: 'distance'",
     "output_type": "error",
     "traceback": [
      "\u001b[1;31m---------------------------------------------------------------------------\u001b[0m",
      "\u001b[1;31mTypeError\u001b[0m                                 Traceback (most recent call last)",
      "Cell \u001b[1;32mIn[52], line 2\u001b[0m\n\u001b[0;32m      1\u001b[0m a \u001b[38;5;241m=\u001b[39m Car(\u001b[38;5;124m\"\u001b[39m\u001b[38;5;124mToyota\u001b[39m\u001b[38;5;124m\"\u001b[39m, \u001b[38;5;124m\"\u001b[39m\u001b[38;5;124mCorolla\u001b[39m\u001b[38;5;124m\"\u001b[39m, \u001b[38;5;241m2020\u001b[39m,\u001b[38;5;241m30\u001b[39m)\n\u001b[1;32m----> 2\u001b[0m a\u001b[38;5;241m.\u001b[39mrefuel(\u001b[38;5;241m40\u001b[39m)\n\u001b[0;32m      3\u001b[0m a\u001b[38;5;241m.\u001b[39mdrive()\n\u001b[0;32m      4\u001b[0m a\u001b[38;5;241m.\u001b[39mdisplay_info()\n",
      "Cell \u001b[1;32mIn[51], line 15\u001b[0m, in \u001b[0;36mCar.refuel\u001b[1;34m(self, amount)\u001b[0m\n\u001b[0;32m     13\u001b[0m \u001b[38;5;28;01mdef\u001b[39;00m \u001b[38;5;21mrefuel\u001b[39m(\u001b[38;5;28mself\u001b[39m, amount):\n\u001b[0;32m     14\u001b[0m     \u001b[38;5;28mself\u001b[39m\u001b[38;5;241m.\u001b[39mamount\u001b[38;5;241m=\u001b[39mamount\n\u001b[1;32m---> 15\u001b[0m     \u001b[38;5;28mself\u001b[39m\u001b[38;5;241m.\u001b[39mdrive()\n",
      "\u001b[1;31mTypeError\u001b[0m: Car.drive() missing 1 required positional argument: 'distance'"
     ]
    }
   ],
   "source": [
    "a = Car(\"Toyota\", \"Corolla\", 2020,30)\n",
    "a.refuel(40)\n",
    "a.drive()\n",
    "a.display_info()"
   ]
  },
  {
   "cell_type": "code",
   "execution_count": null,
   "id": "e6403396-ae0c-4b04-8bfc-aaea6060e14b",
   "metadata": {},
   "outputs": [],
   "source": [
    "''' Class with Encapsulation: BankAccount\n",
    "------------------------------------------------------------------\n",
    "Task: Implement a BankAccount class with:\n",
    "\n",
    "Attributes: balance, account_number\n",
    "\n",
    "Methods:\n",
    "\n",
    "deposit(amount): Adds money to balance.\n",
    "\n",
    "withdraw(amount): Deducts money if enough balance is available.\n",
    "\n",
    "get_balance(): Returns balance.\n",
    "\n",
    "✅ Enhance: Prevent withdrawal if balance falls below a minimum threshold.'''"
   ]
  },
  {
   "cell_type": "code",
   "execution_count": null,
   "id": "fb09d9bc-7a28-4ffd-9ce7-9ac80c220d61",
   "metadata": {},
   "outputs": [],
   "source": [
    "class BankAccount:\n",
    "    def __init__(self, balance,account_number):\n",
    "        self.balance=balance\n",
    "        self.account_number=account_number\n",
    "    def deposit(self,amount):\n",
    "        self.balance+=amount\n",
    "    def withdraw(self,amount):\n",
    "        \n",
    "        \n",
    "\n"
   ]
  }
 ],
 "metadata": {
  "kernelspec": {
   "display_name": "Python 3 (ipykernel)",
   "language": "python",
   "name": "python3"
  },
  "language_info": {
   "codemirror_mode": {
    "name": "ipython",
    "version": 3
   },
   "file_extension": ".py",
   "mimetype": "text/x-python",
   "name": "python",
   "nbconvert_exporter": "python",
   "pygments_lexer": "ipython3",
   "version": "3.12.4"
  }
 },
 "nbformat": 4,
 "nbformat_minor": 5
}
