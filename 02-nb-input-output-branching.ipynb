{
 "cells": [
  {
   "cell_type": "markdown",
   "id": "bf232891-235d-4bec-8376-7655f32e7dfd",
   "metadata": {},
   "source": [
    "### Generating outputs on the console"
   ]
  },
  {
   "cell_type": "code",
   "execution_count": 3,
   "id": "6cf5f82b-ce5d-48fd-b07b-5a0e809ad59a",
   "metadata": {},
   "outputs": [
    {
     "data": {
      "text/plain": [
       "3.142857142857143"
      ]
     },
     "execution_count": 3,
     "metadata": {},
     "output_type": "execute_result"
    }
   ],
   "source": [
    "pi=22/7\n",
    "pi"
   ]
  },
  {
   "cell_type": "code",
   "execution_count": 12,
   "id": "9162b317-3573-4e8d-8096-6f04519791c2",
   "metadata": {},
   "outputs": [
    {
     "name": "stdout",
     "output_type": "stream",
     "text": [
      "The value is 3.142857\n"
     ]
    }
   ],
   "source": [
    "print(\"The value is %f\" % pi)"
   ]
  },
  {
   "cell_type": "code",
   "execution_count": 11,
   "id": "7c0f04b4-0965-47a3-952e-0218e60c8c15",
   "metadata": {},
   "outputs": [
    {
     "name": "stdout",
     "output_type": "stream",
     "text": [
      "The value is 3.14\n"
     ]
    }
   ],
   "source": [
    "print(\"The value is %.2f\" %pi)"
   ]
  },
  {
   "cell_type": "code",
   "execution_count": 16,
   "id": "679e425a-408d-4834-a64d-95818137eb98",
   "metadata": {},
   "outputs": [
    {
     "name": "stdout",
     "output_type": "stream",
     "text": [
      "The name of person Anilkumar and the age is 3.142857142857143\n"
     ]
    }
   ],
   "source": [
    "print(\"The name of person {0:5} and the age is {1:5}\".format(\"Anilkumar\",pi))"
   ]
  },
  {
   "cell_type": "markdown",
   "id": "b774ef21-0438-4131-89aa-7165058ce069",
   "metadata": {},
   "source": [
    "### Input block"
   ]
  },
  {
   "cell_type": "code",
   "execution_count": 15,
   "id": "2812cd99-241d-4b18-8689-a9cc26d25873",
   "metadata": {},
   "outputs": [
    {
     "name": "stdin",
     "output_type": "stream",
     "text": [
      " 45\n"
     ]
    },
    {
     "data": {
      "text/plain": [
       "'45'"
      ]
     },
     "execution_count": 15,
     "metadata": {},
     "output_type": "execute_result"
    }
   ],
   "source": [
    "input()"
   ]
  },
  {
   "cell_type": "code",
   "execution_count": 17,
   "id": "bfb9ac5e-0e8c-4129-982f-f8fd0857fd9e",
   "metadata": {},
   "outputs": [
    {
     "name": "stdin",
     "output_type": "stream",
     "text": [
      " 45\n"
     ]
    }
   ],
   "source": [
    "a=input()"
   ]
  },
  {
   "cell_type": "code",
   "execution_count": 18,
   "id": "d355c4ab-8683-4e87-977f-bc26ab080572",
   "metadata": {},
   "outputs": [
    {
     "data": {
      "text/plain": [
       "'45'"
      ]
     },
     "execution_count": 18,
     "metadata": {},
     "output_type": "execute_result"
    }
   ],
   "source": [
    "a"
   ]
  },
  {
   "cell_type": "code",
   "execution_count": 20,
   "id": "675a4456-6af7-45f7-afcc-15833010dd15",
   "metadata": {},
   "outputs": [
    {
     "name": "stdin",
     "output_type": "stream",
     "text": [
      "enter a value:  45\n"
     ]
    }
   ],
   "source": [
    "a=float(input(\"enter a value: \"))"
   ]
  },
  {
   "cell_type": "code",
   "execution_count": 21,
   "id": "bdd63560-7c61-4031-8fb6-5bfe59438f6e",
   "metadata": {},
   "outputs": [
    {
     "data": {
      "text/plain": [
       "52.8"
      ]
     },
     "execution_count": 21,
     "metadata": {},
     "output_type": "execute_result"
    }
   ],
   "source": [
    "a+7.8"
   ]
  },
  {
   "cell_type": "code",
   "execution_count": 22,
   "id": "c53c77ce-2d69-4d49-808a-88fee0d58f5f",
   "metadata": {},
   "outputs": [
    {
     "data": {
      "text/plain": [
       "float"
      ]
     },
     "execution_count": 22,
     "metadata": {},
     "output_type": "execute_result"
    }
   ],
   "source": [
    "type(a)"
   ]
  },
  {
   "cell_type": "markdown",
   "id": "3fc2d49b-dcfc-445b-998c-5a2ab56a9ca4",
   "metadata": {},
   "source": [
    "### Branching using if else statement"
   ]
  },
  {
   "cell_type": "code",
   "execution_count": 23,
   "id": "6e6fd8b3-3b39-43fc-aff0-a331bdfec8dc",
   "metadata": {},
   "outputs": [],
   "source": [
    "a=10"
   ]
  },
  {
   "cell_type": "code",
   "execution_count": 24,
   "id": "9e7ee8a8-4ea3-4aff-978b-b45c3f4cf1fb",
   "metadata": {},
   "outputs": [],
   "source": [
    "m=1\n",
    "n=20"
   ]
  },
  {
   "cell_type": "code",
   "execution_count": 26,
   "id": "ce1e4ddf-f4c9-4ae3-a2d1-891cfb80931a",
   "metadata": {},
   "outputs": [
    {
     "name": "stdout",
     "output_type": "stream",
     "text": [
      "Value is in range\n"
     ]
    }
   ],
   "source": [
    "if a>=m and a<=n:\n",
    "    print(\"Value is in range\")\n",
    "else:\n",
    "    print(\"Value is out of range\")"
   ]
  },
  {
   "cell_type": "code",
   "execution_count": null,
   "id": "b7661a49-5976-4fcd-81cf-66d3df16c0cd",
   "metadata": {},
   "outputs": [],
   "source": []
  }
 ],
 "metadata": {
  "kernelspec": {
   "display_name": "Python 3 (ipykernel)",
   "language": "python",
   "name": "python3"
  },
  "language_info": {
   "codemirror_mode": {
    "name": "ipython",
    "version": 3
   },
   "file_extension": ".py",
   "mimetype": "text/x-python",
   "name": "python",
   "nbconvert_exporter": "python",
   "pygments_lexer": "ipython3",
   "version": "3.12.4"
  }
 },
 "nbformat": 4,
 "nbformat_minor": 5
}
