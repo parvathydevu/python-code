{
 "cells": [
  {
   "cell_type": "markdown",
   "id": "47e2fbcc-8ae0-492d-87eb-3f5b1e65067a",
   "metadata": {},
   "source": [
    "jUnit=java unit test"
   ]
  },
  {
   "cell_type": "markdown",
   "id": "12c2ffdb-05d5-4d5f-a954-30d5c76efe34",
   "metadata": {},
   "source": [
    "# Unit test Module"
   ]
  },
  {
   "cell_type": "code",
   "execution_count": null,
   "id": "72b52476-0af3-4c51-b359-ea457b82503a",
   "metadata": {},
   "outputs": [],
   "source": [
    "# How to write a test case\n",
    "it allows you to write test\n",
    "test for your python application\n",
    "\n",
    "1. Import the unittest module:\n",
    "2. The class should inherit from unittest.TestCase.\n",
    "\n",
    "class TestMyFunction(unittest.TestCase):\n",
    "    # Define your test methods here\n",
    "    def setup(self):\n",
    "        #set up test cases\n",
    "\n",
    "3. Define test methods: Ttest cases\n",
    "Each test method should start with the word test.\n",
    "Use assertions to check for expected outcomes.\n",
    "self.assertEqual checks if the function's output matches the expected result.\n",
    "\n",
    "4. Run the tests:\n",
    "\n",
    "\n",
    "if __name__ == '__main__':\n",
    "    unittest.main()\n"
   ]
  },
  {
   "cell_type": "code",
   "execution_count": null,
   "id": "76482c06-3d7d-45d1-bbf3-f0743c7aa739",
   "metadata": {},
   "outputs": [],
   "source": [
    "1. allow you to write code in clean \n",
    "2. automatically run the unit test using module(unittest), give user to a formated report."
   ]
  },
  {
   "cell_type": "code",
   "execution_count": null,
   "id": "ed10a94a-3787-4b52-a23c-db25b8a9684c",
   "metadata": {},
   "outputs": [],
   "source": [
    " # Problem Statement: Student Management CLI Application [90]\n",
    "--------------------------------------------------------------------------------------\n",
    "\n",
    "Objective:\n",
    "------------------------\n",
    "Develop a Python CLI-based Student Management System using OOP concepts. \n",
    "\n",
    "The system will allow users to:\n",
    "\n",
    "    - Add new students\n",
    "    - View all students\n",
    "    - Search student by ID\n",
    "    - Delete a student\n",
    "    - Persist data to a file\n",
    "\n",
    "💡 Requirements:\n",
    "------------------------\n",
    "\n",
    "Each student should have a unique ID, name, age, and grade.\n",
    "CLI should allow users to:\n",
    "    Add student\n",
    "    View all students\n",
    "    Search by ID\n",
    "    Delete student\n",
    "    Exit\n",
    "Use OOP principles like encapsulation and modularization.\n",
    "Persist the data using a JSON file.\n",
    "Include a test suite using the unittest module.\n",
    "Organize code into multiple files.\n",
    "\n",
    "📁 Folder Structure\n",
    "------------------------\n",
    "\n",
    "student_mgmt/\n",
    "│\n",
    "├── main.py                    # CLI interface\n",
    "├── student.py                 # Student class\n",
    "├── student_manager.py         # Manager to handle logic\n",
    "├── storage.py                 # File read/write\n",
    "├── students.json              # Data storage\n",
    "├── tests/\n",
    "│   ├── __init__.py\n",
    "│   ├── test_student.py\n",
    "│   ├── test_student_manager.py\n",
    "│   └── test_storage.py\n",
    "\n",
    "\n",
    "📋 Feature List\n",
    "------------------------\n",
    "\n",
    "Add student\n",
    "View all students\n",
    "Search student by ID\n",
    "Delete student\n",
    "Persist and reload data from JSON\n"
   ]
  }
 ],
 "metadata": {
  "kernelspec": {
   "display_name": "Python 3 (ipykernel)",
   "language": "python",
   "name": "python3"
  },
  "language_info": {
   "codemirror_mode": {
    "name": "ipython",
    "version": 3
   },
   "file_extension": ".py",
   "mimetype": "text/x-python",
   "name": "python",
   "nbconvert_exporter": "python",
   "pygments_lexer": "ipython3",
   "version": "3.12.4"
  }
 },
 "nbformat": 4,
 "nbformat_minor": 5
}
