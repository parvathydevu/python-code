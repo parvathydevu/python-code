{
 "cells": [
  {
   "cell_type": "markdown",
   "id": "52bb0449-9a97-4479-90ca-0adfcd3d2976",
   "metadata": {},
   "source": [
    "# Defining a class in python"
   ]
  },
  {
   "cell_type": "code",
   "execution_count": null,
   "id": "8f6f298c-0d41-47ef-90dc-a4b802da8af9",
   "metadata": {},
   "outputs": [],
   "source": [
    "class nameofclass:\n",
    "    \n",
    "    #class is a keyword"
   ]
  },
  {
   "cell_type": "code",
   "execution_count": null,
   "id": "9352f2f8-4e6c-42bc-a7d4-ac66d8ef17ee",
   "metadata": {},
   "outputs": [],
   "source": [
    "class Student"
   ]
  },
  {
   "cell_type": "code",
   "execution_count": null,
   "id": "8fc661d9-0f7e-4130-a1dd-0602b61b5f6b",
   "metadata": {},
   "outputs": [],
   "source": [
    "create a employee class with the following features:\n",
    "name, age, "
   ]
  }
 ],
 "metadata": {
  "kernelspec": {
   "display_name": "Python 3 (ipykernel)",
   "language": "python",
   "name": "python3"
  },
  "language_info": {
   "codemirror_mode": {
    "name": "ipython",
    "version": 3
   },
   "file_extension": ".py",
   "mimetype": "text/x-python",
   "name": "python",
   "nbconvert_exporter": "python",
   "pygments_lexer": "ipython3",
   "version": "3.12.4"
  }
 },
 "nbformat": 4,
 "nbformat_minor": 5
}
