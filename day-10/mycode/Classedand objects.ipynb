{
 "cells": [
  {
   "cell_type": "markdown",
   "id": "52bb0449-9a97-4479-90ca-0adfcd3d2976",
   "metadata": {},
   "source": [
    "# Defining a class in python"
   ]
  },
  {
   "cell_type": "code",
   "execution_count": null,
   "id": "8f6f298c-0d41-47ef-90dc-a4b802da8af9",
   "metadata": {},
   "outputs": [],
   "source": [
    "class nameofclass:\n",
    "    \n",
    "    #class is a keyword"
   ]
  },
  {
   "cell_type": "code",
   "execution_count": null,
   "id": "9352f2f8-4e6c-42bc-a7d4-ac66d8ef17ee",
   "metadata": {},
   "outputs": [],
   "source": [
    "class Student"
   ]
  },
  {
   "cell_type": "code",
   "execution_count": null,
   "id": "8fc661d9-0f7e-4130-a1dd-0602b61b5f6b",
   "metadata": {},
   "outputs": [],
   "source": [
    "create a employee class with the following features:\n",
    "name, age, "
   ]
  },
  {
   "cell_type": "code",
   "execution_count": 3,
   "id": "e668f9aa-f6f0-4d35-8701-05091b0b38ff",
   "metadata": {},
   "outputs": [
    {
     "name": "stdout",
     "output_type": "stream",
     "text": [
      "3\n"
     ]
    }
   ],
   "source": [
    "print(len(set([1,2,2,3,3,3])))"
   ]
  },
  {
   "cell_type": "code",
   "execution_count": 4,
   "id": "bfc384c4-9db5-4038-ba3c-b6167f98ad8b",
   "metadata": {},
   "outputs": [
    {
     "name": "stdout",
     "output_type": "stream",
     "text": [
      "[1, 2, 3, 1, 2, 3]\n"
     ]
    }
   ],
   "source": [
    "lst = [1,2,3]\n",
    "print(lst*2)"
   ]
  },
  {
   "cell_type": "code",
   "execution_count": 18,
   "id": "c1a6fde6-821a-4226-b550-f788dadf8960",
   "metadata": {},
   "outputs": [
    {
     "name": "stdout",
     "output_type": "stream",
     "text": [
      "True\n"
     ]
    }
   ],
   "source": [
    "print(any([1,2,3,0,-1,-2,-3])) #any of one is true"
   ]
  },
  {
   "cell_type": "code",
   "execution_count": 6,
   "id": "7ec75d22-0743-4b84-a77f-c83f1431050c",
   "metadata": {},
   "outputs": [
    {
     "name": "stdout",
     "output_type": "stream",
     "text": [
      "10\n"
     ]
    }
   ],
   "source": [
    "print(sum([i for i in range(5)]))"
   ]
  },
  {
   "cell_type": "code",
   "execution_count": 10,
   "id": "0ac10232-514f-479d-8d84-0a05179a72f2",
   "metadata": {},
   "outputs": [
    {
     "name": "stdout",
     "output_type": "stream",
     "text": [
      "{1, 2, 3, 4, 5}\n"
     ]
    }
   ],
   "source": [
    "x={1,2,3}\n",
    "y={3,4,5}\n",
    "print(x|y)"
   ]
  },
  {
   "cell_type": "code",
   "execution_count": 11,
   "id": "55b2b2cb-ad6c-410d-b2e4-cbed10925ce7",
   "metadata": {},
   "outputs": [
    {
     "name": "stdout",
     "output_type": "stream",
     "text": [
      "512\n"
     ]
    }
   ],
   "source": [
    "print(2**3**2)"
   ]
  },
  {
   "cell_type": "code",
   "execution_count": 12,
   "id": "58be5874-7145-431d-a94f-da2fe558cadb",
   "metadata": {},
   "outputs": [
    {
     "name": "stdout",
     "output_type": "stream",
     "text": [
      "c\n"
     ]
    }
   ],
   "source": [
    "print({1:'a', 2:'b'}.get(3,'c'))"
   ]
  },
  {
   "cell_type": "code",
   "execution_count": 14,
   "id": "0b2adb88-5577-4680-add7-b9cbec56f928",
   "metadata": {},
   "outputs": [
    {
     "name": "stdout",
     "output_type": "stream",
     "text": [
      "[1]\n",
      "[1, 1]\n"
     ]
    }
   ],
   "source": [
    "def f(x=[]):\n",
    "    x.append(1)\n",
    "    print(x)\n",
    "f()\n",
    "f()"
   ]
  },
  {
   "cell_type": "code",
   "execution_count": 15,
   "id": "f071f68c-1196-4c80-b9ef-bf1edb02ed14",
   "metadata": {},
   "outputs": [
    {
     "ename": "AttributeError",
     "evalue": "'dict' object has no attribute 'duplicate'",
     "output_type": "error",
     "traceback": [
      "\u001b[1;31m---------------------------------------------------------------------------\u001b[0m",
      "\u001b[1;31mAttributeError\u001b[0m                            Traceback (most recent call last)",
      "Cell \u001b[1;32mIn[15], line 2\u001b[0m\n\u001b[0;32m      1\u001b[0m d\u001b[38;5;241m=\u001b[39m{\u001b[38;5;124m'\u001b[39m\u001b[38;5;124ma\u001b[39m\u001b[38;5;124m'\u001b[39m:\u001b[38;5;241m1\u001b[39m, \u001b[38;5;124m'\u001b[39m\u001b[38;5;124mb\u001b[39m\u001b[38;5;124m'\u001b[39m:\u001b[38;5;241m2\u001b[39m}\n\u001b[1;32m----> 2\u001b[0m d\u001b[38;5;241m.\u001b[39mduplicate({\u001b[38;5;124m'\u001b[39m\u001b[38;5;124mb\u001b[39m\u001b[38;5;124m'\u001b[39m:\u001b[38;5;241m3\u001b[39m})\n\u001b[0;32m      3\u001b[0m \u001b[38;5;28mprint\u001b[39m(d)\n",
      "\u001b[1;31mAttributeError\u001b[0m: 'dict' object has no attribute 'duplicate'"
     ]
    }
   ],
   "source": [
    "d={'a':1, 'b':2}\n",
    "d.duplicate({'b':3})\n",
    "print(d)"
   ]
  },
  {
   "cell_type": "code",
   "execution_count": 17,
   "id": "eda92b96-65e3-42e0-ad88-fb57198c9349",
   "metadata": {},
   "outputs": [
    {
     "name": "stdout",
     "output_type": "stream",
     "text": [
      "[2, 4]\n"
     ]
    }
   ],
   "source": [
    "nums=[1,2,3,4]\n",
    "print(list(filter(lambda x:x%2 ==0, nums)))"
   ]
  },
  {
   "cell_type": "code",
   "execution_count": 28,
   "id": "f8201d37-45b1-4b0a-9c69-b125ddce70b0",
   "metadata": {},
   "outputs": [
    {
     "name": "stdout",
     "output_type": "stream",
     "text": [
      "0 1 2 "
     ]
    }
   ],
   "source": [
    "for i in range(3):\n",
    "    print(i,end=\" \")"
   ]
  },
  {
   "cell_type": "code",
   "execution_count": 24,
   "id": "16442e45-d888-4f1e-9ad5-93f46d0386e8",
   "metadata": {},
   "outputs": [
    {
     "name": "stdout",
     "output_type": "stream",
     "text": [
      "pythonpython\n"
     ]
    }
   ],
   "source": [
    "s='python'\n",
    "print(s*2)"
   ]
  },
  {
   "cell_type": "code",
   "execution_count": 23,
   "id": "bbf7686c-1600-4206-b314-cc86d6731269",
   "metadata": {},
   "outputs": [
    {
     "name": "stdout",
     "output_type": "stream",
     "text": [
      "(1, 2, 3, 4, 5)\n"
     ]
    }
   ],
   "source": [
    "x=(1,2,3)\n",
    "y=x+(4,5)\n",
    "print(y)"
   ]
  },
  {
   "cell_type": "code",
   "execution_count": 25,
   "id": "48ae69c7-ee67-44d3-9a9c-6b75761c9508",
   "metadata": {},
   "outputs": [
    {
     "data": {
      "text/plain": [
       "[0, 2, 4]"
      ]
     },
     "execution_count": 25,
     "metadata": {},
     "output_type": "execute_result"
    }
   ],
   "source": [
    "[x for x in range(5) if x%2==0]"
   ]
  },
  {
   "cell_type": "code",
   "execution_count": 26,
   "id": "ffd4073c-f4b7-47b8-8c2b-186fece23778",
   "metadata": {},
   "outputs": [
    {
     "name": "stdout",
     "output_type": "stream",
     "text": [
      "True\n"
     ]
    }
   ],
   "source": [
    "print (5 in {5,6,7})"
   ]
  },
  {
   "cell_type": "code",
   "execution_count": 29,
   "id": "e2668887-b9bd-4a42-9d36-4e3c41d3fc2a",
   "metadata": {},
   "outputs": [
    {
     "name": "stdout",
     "output_type": "stream",
     "text": [
      "{1, 2, 3, 4}\n"
     ]
    }
   ],
   "source": [
    "s={1,2,3,4}\n",
    "s.add(2)\n",
    "print(s)"
   ]
  },
  {
   "cell_type": "code",
   "execution_count": 30,
   "id": "4ddf74ec-25aa-47c0-b436-c8f7b1e3cb59",
   "metadata": {},
   "outputs": [
    {
     "name": "stdout",
     "output_type": "stream",
     "text": [
      "512\n"
     ]
    }
   ],
   "source": [
    "print(2**3**2)"
   ]
  },
  {
   "cell_type": "code",
   "execution_count": 31,
   "id": "f4ba83dc-b2f8-4827-996e-7a4fa1b51eff",
   "metadata": {},
   "outputs": [
    {
     "data": {
      "text/plain": [
       "[4, 3, 2, 1]"
      ]
     },
     "execution_count": 31,
     "metadata": {},
     "output_type": "execute_result"
    }
   ],
   "source": [
    "x=[1,2,3,4]\n",
    "x[::-1]"
   ]
  },
  {
   "cell_type": "code",
   "execution_count": null,
   "id": "e8625a0f-9fb7-4788-997d-22b1c0daf769",
   "metadata": {},
   "outputs": [
    {
     "name": "stdin",
     "output_type": "stream",
     "text": [
      " 5\n"
     ]
    }
   ],
   "source": [
    "def solve (N, ch):\n",
    "    # Write your code here\n",
    "    pass\n",
    "\n",
    "N = int(input())\n",
    "ch = input().split()\n",
    "\n",
    "out_ = solve(N, ch)\n",
    "print (out_)"
   ]
  },
  {
   "cell_type": "code",
   "execution_count": null,
   "id": "133fde8f-9d51-4f67-8e05-a90925f295ed",
   "metadata": {},
   "outputs": [],
   "source": []
  }
 ],
 "metadata": {
  "kernelspec": {
   "display_name": "Python 3 (ipykernel)",
   "language": "python",
   "name": "python3"
  },
  "language_info": {
   "codemirror_mode": {
    "name": "ipython",
    "version": 3
   },
   "file_extension": ".py",
   "mimetype": "text/x-python",
   "name": "python",
   "nbconvert_exporter": "python",
   "pygments_lexer": "ipython3",
   "version": "3.12.4"
  }
 },
 "nbformat": 4,
 "nbformat_minor": 5
}
