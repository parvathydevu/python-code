{
 "cells": [
  {
   "cell_type": "code",
   "execution_count": 1,
   "id": "deb388b0-e82a-4117-8498-8f9bee736626",
   "metadata": {},
   "outputs": [
    {
     "name": "stdout",
     "output_type": "stream",
     "text": [
      "['This', 'is', 'a', 'sentence', 'which', 'is', 'supposed', 'to', 'be', 'reversed']\n",
      "Reversed sentence:  reversed be to supposed is which sentence a is This\n"
     ]
    }
   ],
   "source": [
    "def reverse_words(input):\n",
    "    words = input.split()\n",
    "    list_of_strings = list(words)\n",
    "    print(list_of_strings)\n",
    "    reversed_list = list_of_strings[::-1]\n",
    "    reversed_sentence = \" \".join(reversed_list)\n",
    "    print(\"Reversed sentence: \", reversed_sentence)\n",
    " \n",
    "reverse_words(\"This is a sentence which is supposed to be reversed\")"
   ]
  },
  {
   "cell_type": "code",
   "execution_count": 4,
   "id": "8443f6fc-1e08-4da0-9ec9-bddb849647f2",
   "metadata": {},
   "outputs": [
    {
     "name": "stdout",
     "output_type": "stream",
     "text": [
      "abc\n",
      "acb\n",
      "bac\n",
      "bca\n",
      "cba\n",
      "cab\n"
     ]
    }
   ],
   "source": [
    "def get_permutations(s, step=0):\n",
    "    if step == len(s):\n",
    "        print(\"\".join(s))  # Print each permutation\n",
    "        return\n",
    " \n",
    "    for i in range(step, len(s)):\n",
    "        s_list = list(s)\n",
    "        s_list[step], s_list[i] = s_list[i], s_list[step]  # Swap characters\n",
    "        get_permutations(s_list, step + 1)  # Recursive call\n",
    " \n",
    "# Example usage\n",
    "get_permutations(\"abc\",0)"
   ]
  },
  {
   "cell_type": "code",
   "execution_count": null,
   "id": "f0940825-2447-428b-9f75-5a8f2396a996",
   "metadata": {},
   "outputs": [],
   "source": []
  }
 ],
 "metadata": {
  "kernelspec": {
   "display_name": "Python 3 (ipykernel)",
   "language": "python",
   "name": "python3"
  },
  "language_info": {
   "codemirror_mode": {
    "name": "ipython",
    "version": 3
   },
   "file_extension": ".py",
   "mimetype": "text/x-python",
   "name": "python",
   "nbconvert_exporter": "python",
   "pygments_lexer": "ipython3",
   "version": "3.12.4"
  }
 },
 "nbformat": 4,
 "nbformat_minor": 5
}
