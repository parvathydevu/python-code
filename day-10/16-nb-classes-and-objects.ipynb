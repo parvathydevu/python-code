{
 "cells": [
  {
   "cell_type": "markdown",
   "id": "3bcb054c-f0e3-4cac-be61-5863b534122c",
   "metadata": {},
   "source": [
    "### 16.1 Defining a class in python"
   ]
  },
  {
   "cell_type": "code",
   "execution_count": 1,
   "id": "ee1865ed-9ccc-433e-9cfe-3767e5e46838",
   "metadata": {},
   "outputs": [],
   "source": [
    "class student:\n",
    "\n",
    "    # constructor and instance variable intialization\n",
    "    def __init__(self, sname, sage, sgrade):\n",
    "        self.name = sname\n",
    "        self.age  = sage\n",
    "        self.grade = sgrade\n",
    "        self.marks = {}\n",
    "\n",
    "    # class methods\n",
    "    def set_marks(self, subj, marks):\n",
    "        self.marks[subj] = marks\n",
    "\n",
    "    def average(self):\n",
    "        self.average = sum(self.marks.values())/len(self.marks.values())\n",
    "        return self.average\n",
    "\n",
    "    def print_report(self):\n",
    "        print(f\"\\nSELF -> {self}\")\n",
    "        print(\"------------------------------------\")\n",
    "        print(f\"NAME           | {self.name}\")\n",
    "        print(f\"AGE            | {self.age}\")\n",
    "        print(f\"GRADE          | {self.grade}\")\n",
    "        print(\"------------------------------------\")\n",
    "        for k, v in self.marks.items():\n",
    "            print(str(k).rjust(10), \"  |\", str(v).ljust(5) )\n",
    "        print(\"------------------------------------\")\n",
    "        print(\"AVERAGE        | \", self.average())"
   ]
  },
  {
   "cell_type": "markdown",
   "id": "e5f7abd7-f209-4e50-a888-eb9a78a7f506",
   "metadata": {},
   "source": [
    "All functions you write in a class should have the first argument -> self\n",
    "All instance variables should have the prefix self.\n",
    "Whatever information is passed at the time of creation of object is picked up by the constructor if specified"
   ]
  },
  {
   "cell_type": "code",
   "execution_count": 2,
   "id": "81f54096-1ee9-4b5e-8dec-1b8ae6cb28c1",
   "metadata": {},
   "outputs": [],
   "source": [
    "s1 = student(\"Anil\", 12, \"7\")\n",
    "s2 = student(\"Sunil\", 12, \"7\")"
   ]
  },
  {
   "cell_type": "code",
   "execution_count": 3,
   "id": "e2e1892b-d8cb-4aac-b98f-698a7f5844e6",
   "metadata": {},
   "outputs": [
    {
     "data": {
      "text/plain": [
       "<__main__.student at 0x19e0b8e8f20>"
      ]
     },
     "execution_count": 3,
     "metadata": {},
     "output_type": "execute_result"
    }
   ],
   "source": [
    "s1"
   ]
  },
  {
   "cell_type": "code",
   "execution_count": 4,
   "id": "058bfe24-3118-4e66-93c7-15d8cafdf179",
   "metadata": {},
   "outputs": [
    {
     "data": {
      "text/plain": [
       "<__main__.student at 0x19e0b973b90>"
      ]
     },
     "execution_count": 4,
     "metadata": {},
     "output_type": "execute_result"
    }
   ],
   "source": [
    "s2"
   ]
  },
  {
   "cell_type": "code",
   "execution_count": 5,
   "id": "3a3d2d1b-71cd-482b-9be6-b9271656b5c3",
   "metadata": {},
   "outputs": [],
   "source": [
    "s1.set_marks(\"physics\", 78)\n",
    "s1.set_marks(\"chemistry\", 88)"
   ]
  },
  {
   "cell_type": "code",
   "execution_count": 6,
   "id": "a6756b85-11e9-4ec5-89cb-73e392c9fbf2",
   "metadata": {},
   "outputs": [],
   "source": [
    "s2.set_marks(\"physics\", 98)\n",
    "s2.set_marks(\"chemistry\", 68)"
   ]
  },
  {
   "cell_type": "code",
   "execution_count": 7,
   "id": "9c717b18-ef00-4473-95ca-cdbd1da07ad7",
   "metadata": {},
   "outputs": [
    {
     "name": "stdout",
     "output_type": "stream",
     "text": [
      "\n",
      "SELF -> <__main__.student object at 0x0000019E0B8E8F20>\n",
      "------------------------------------\n",
      "NAME           | Anil\n",
      "AGE            | 12\n",
      "GRADE          | 7\n",
      "------------------------------------\n",
      "   physics   | 78   \n",
      " chemistry   | 88   \n",
      "------------------------------------\n",
      "AVERAGE        |  83.0\n"
     ]
    }
   ],
   "source": [
    "s1.print_report()"
   ]
  },
  {
   "cell_type": "code",
   "execution_count": 44,
   "id": "9e111c67-8791-46c4-b3e9-4728bc6442f4",
   "metadata": {},
   "outputs": [
    {
     "name": "stdout",
     "output_type": "stream",
     "text": [
      "\n",
      "SELF -> <__main__.student object at 0x000001F9983DA110>\n",
      "------------------------------------\n",
      "NAME           | Sunil\n",
      "AGE            | 12\n",
      "GRADE          | 7\n",
      "------------------------------------\n",
      "   physics   | 98   \n",
      " chemistry   | 68   \n",
      "------------------------------------\n",
      "AVERAGE        |  83.0\n"
     ]
    }
   ],
   "source": [
    "s2.print_report()"
   ]
  },
  {
   "cell_type": "markdown",
   "id": "016c6351-2677-4165-bcc7-ccbbb823ca16",
   "metadata": {},
   "source": [
    "# 16.2 Exercise"
   ]
  },
  {
   "cell_type": "code",
   "execution_count": null,
   "id": "c9c38932-c0d1-4688-8cab-35d99444ae7b",
   "metadata": {},
   "outputs": [],
   "source": [
    "'''Create an employee class with the following features: name, age, company,\n",
    "gross_salary, tax_rate, net_salary Implement methods to: print information, \n",
    "calculate net_salary based on tax rate, set the gross salary, set the tax rate'''"
   ]
  },
  {
   "cell_type": "code",
   "execution_count": 44,
   "id": "ed9e6880-7602-4a9f-9a80-77bb5837832c",
   "metadata": {},
   "outputs": [],
   "source": [
    "class Employee:\n",
    "    def __init__(self, name, age, company):\n",
    "        self.name = name\n",
    "        self.age = age\n",
    "        self.company = company\n",
    "        self.gross_salary = 0\n",
    "        self.tax_rate = 0\n",
    "        self.net_salary = 0\n",
    "\n",
    "    def calculate_net_salary(self):\n",
    "        self.net_salary = self.gross_salary * (1 - self.tax_rate / 100)\n",
    "        return self.net_salary\n",
    "\n",
    "    def set_gross_salary(self, gross_salary):\n",
    "        self.gross_salary = gross_salary\n",
    "        self.calculate_net_salary()\n",
    "\n",
    "    def set_tax_rate(self, tax_rate):\n",
    "        self.tax_rate = tax_rate\n",
    "        self.calculate_net_salary()\n",
    "\n",
    "    def print_information(self):\n",
    "        print(f\"Name: {self.name}\")\n",
    "        print(f\"Age: {self.age}\")\n",
    "        print(f\"Company: {self.company}\")\n",
    "        print(f\"Gross Salary: {self.gross_salary}\")\n",
    "        print(f\"Tax Rate: {self.tax_rate}\")\n",
    "        print(f\"Net Salary: {self.net_salary}\")\n",
    "        "
   ]
  },
  {
   "cell_type": "code",
   "execution_count": 45,
   "id": "9f686509-ef97-49f8-91bc-93d9d57ee630",
   "metadata": {},
   "outputs": [],
   "source": [
    "s1=Employee(\"Anil\",36,\"UST\")"
   ]
  },
  {
   "cell_type": "code",
   "execution_count": 46,
   "id": "e7b088bf-12b7-46c1-b39f-70af9847e73d",
   "metadata": {},
   "outputs": [],
   "source": [
    "s1.set_gross_salary(10000)"
   ]
  },
  {
   "cell_type": "code",
   "execution_count": 49,
   "id": "f664f6a2-431e-4e1e-92ae-125f14855223",
   "metadata": {},
   "outputs": [],
   "source": [
    "s1.set_tax_rate(4)"
   ]
  },
  {
   "cell_type": "code",
   "execution_count": 50,
   "id": "71877433-62d2-4fe6-8e19-b3e7009f61ff",
   "metadata": {},
   "outputs": [
    {
     "data": {
      "text/plain": [
       "9600.0"
      ]
     },
     "execution_count": 50,
     "metadata": {},
     "output_type": "execute_result"
    }
   ],
   "source": [
    "s1.calculate_net_salary()"
   ]
  },
  {
   "cell_type": "code",
   "execution_count": 51,
   "id": "f24d505c-b6c5-4d6d-8fca-b69a56a4fec8",
   "metadata": {},
   "outputs": [
    {
     "name": "stdout",
     "output_type": "stream",
     "text": [
      "Name: Anil\n",
      "Age: 36\n",
      "Company: UST\n",
      "Gross Salary: 10000\n",
      "Tax Rate: 4\n",
      "Net Salary: 9600.0\n"
     ]
    }
   ],
   "source": [
    "s1. print_information()"
   ]
  },
  {
   "cell_type": "code",
   "execution_count": 52,
   "id": "8699aef7-29aa-43be-b9e4-18dbe6b8676e",
   "metadata": {},
   "outputs": [
    {
     "name": "stdout",
     "output_type": "stream",
     "text": [
      "False\n"
     ]
    }
   ],
   "source": [
    "print(\"Hello\">\"hello\")"
   ]
  },
  {
   "cell_type": "markdown",
   "id": "63bb38fa-7ccb-4f34-a24f-e2f5ce40b1a4",
   "metadata": {},
   "source": [
    "# Function overriding"
   ]
  },
  {
   "cell_type": "code",
   "execution_count": 1,
   "id": "ee0b61e5-221d-4fcf-9610-2b7528571999",
   "metadata": {},
   "outputs": [
    {
     "name": "stdout",
     "output_type": "stream",
     "text": [
      "Dog barks\n"
     ]
    }
   ],
   "source": [
    "class Animal:\n",
    "    def speak(self):\n",
    "        print(\"Animal speaks\")\n",
    "\n",
    "class Dog(Animal):\n",
    "    def speak(self):\n",
    "        print(\"Dog barks\")\n",
    "\n",
    "# Create an instance of Dog\n",
    "dog = Dog()\n",
    "dog.speak()  # Output: Dog barks\n"
   ]
  },
  {
   "cell_type": "code",
   "execution_count": null,
   "id": "bba64b80-147d-4bcd-bf6a-6d811a39bb10",
   "metadata": {},
   "outputs": [],
   "source": [
    "''' Create an employee class with the following features: name, age, company,\n",
    "gross_salary, tax_rate, net_salary Implement methods to: print information, \n",
    "calculate net_salary based on tax rate, set the gross salary, set the tax rate'''"
   ]
  },
  {
   "cell_type": "code",
   "execution_count": 72,
   "id": "42d56116-e0a9-4b50-aaf8-bdc85a246cb4",
   "metadata": {},
   "outputs": [],
   "source": [
    "class employee:\n",
    "    #class variable\n",
    "    nEmployees=0  #class var---it is visible to all the object creating a particular class.without self.  calledas class car\n",
    "    #Attributes\n",
    "    def __init__(self,name,age,company,salary):\n",
    "          #instance var is self.name,self.age,self.company.....etc..\n",
    "        self.name=name\n",
    "        self.age=age\n",
    "        self.company=company\n",
    "        self.salary=salary  #100000 INR\n",
    "        self.taxrate=0\n",
    "        self.bonus=0\n",
    "        self.net_salary=''\n",
    "        employee.nEmployees+=1 #when u call __init__ method , nEmployees will increment by one\n",
    "    #methods\n",
    "    def set_taxrate(self,tr):  #SELF-NEED TO CALL INSTANCE OF VAR\n",
    "        self.taxrate=tr\n",
    "        self.update_net_salary()\n",
    "        return\n",
    "    def set_bonus(self,bonus_per):\n",
    "        try:\n",
    "            self.bonus=bonus_per\n",
    "            temp=float(self.salary.split()[0])\n",
    "            temp=temp-(temp*self.bonus/100)\n",
    "            print(temp)\n",
    "            self.net_salary=''.join([str(temp),'INR'])\n",
    "            return\n",
    "        except:\n",
    "            print(\"Incompatible input\") \n",
    "\n",
    "    def update_net_salary(self):\n",
    "        try:\n",
    "            temp=float(self.salary.split()[0])\n",
    "            temp=temp-(temp*self.taxrate/100)\n",
    "            print(temp)\n",
    "            self.net_salary=' '.join([str(temp),'INR'])\n",
    "            return\n",
    "        except:\n",
    "            print(\"Incompatible input\")\n",
    "    def print(self):\n",
    "        print(\"\\n\")\n",
    "        print(\"NAME\".ljust(20), ' -> ', self.name)\n",
    "        print(\"AGE\".ljust(20), ' -> ', self.age)\n",
    "        print(\"COMPANY\".ljust(20), ' -> ', self.company)\n",
    "        print(\"-\"*80)\n",
    "        print(\"GROSS SALARY\".ljust(20), ' = ', self.salary)\n",
    "        print(\"TAX RATE\".ljust(20), ' = ', self.taxrate)\n",
    "        print(\"BONUS\".ljust(20), ' = ', self.bonus, ' pct')\n",
    "        print(\"-\"*80)\n",
    "        print(\"NET SALARY\".ljust(20), ' = ', self.net_salary)"
   ]
  },
  {
   "cell_type": "code",
   "execution_count": 56,
   "id": "9f37dcef-c970-4c2e-be54-85b294ca9d95",
   "metadata": {},
   "outputs": [
    {
     "name": "stdout",
     "output_type": "stream",
     "text": [
      "\n",
      "\n",
      "NAME                  ->  Anil\n",
      "AGE                   ->  35\n",
      "COMPANY               ->  UST Global\n",
      "--------------------------------------------------------------------------------\n",
      "GROSS SALARY          =  1500000 INR\n",
      "TAX RATE              =  0\n",
      "BONUS                 =  0  pct\n",
      "--------------------------------------------------------------------------------\n",
      "NET SALARY            =  \n"
     ]
    }
   ],
   "source": [
    "e = employee(\"Anil\", 35, \"UST Global\", \"1500000 INR\")  #e is object --obh=ject creation\n",
    "e.print()"
   ]
  },
  {
   "cell_type": "code",
   "execution_count": 57,
   "id": "e8b1f33f-e7a0-4e56-8822-1b82b8793b27",
   "metadata": {},
   "outputs": [
    {
     "name": "stdout",
     "output_type": "stream",
     "text": [
      "1350000.0\n",
      "\n",
      "\n",
      "NAME                  ->  Anil\n",
      "AGE                   ->  35\n",
      "COMPANY               ->  UST Global\n",
      "--------------------------------------------------------------------------------\n",
      "GROSS SALARY          =  1500000 INR\n",
      "TAX RATE              =  10\n",
      "BONUS                 =  0  pct\n",
      "--------------------------------------------------------------------------------\n",
      "NET SALARY            =  1350000.0 INR\n"
     ]
    }
   ],
   "source": [
    "e.set_taxrate(10)\n",
    "e.print()"
   ]
  },
  {
   "cell_type": "code",
   "execution_count": 73,
   "id": "0a10895b-b9ec-4495-b8ed-d4b9940b995b",
   "metadata": {},
   "outputs": [
    {
     "name": "stdout",
     "output_type": "stream",
     "text": [
      "1350000.0\n",
      "\n",
      "\n",
      "NAME                  ->  Anil\n",
      "AGE                   ->  35\n",
      "COMPANY               ->  UST Global\n",
      "--------------------------------------------------------------------------------\n",
      "GROSS SALARY          =  1500000 INR\n",
      "TAX RATE              =  10\n",
      "BONUS                 =  10  pct\n",
      "--------------------------------------------------------------------------------\n",
      "NET SALARY            =  1350000.0INR\n"
     ]
    }
   ],
   "source": [
    "e.set_bonus(10)\n",
    "e.print()"
   ]
  },
  {
   "cell_type": "code",
   "execution_count": 53,
   "id": "2b3690be-0d9b-42d4-b2c8-cde1a8a9dfd3",
   "metadata": {},
   "outputs": [
    {
     "name": "stdout",
     "output_type": "stream",
     "text": [
      "34000.0\n"
     ]
    }
   ],
   "source": [
    "e.set_bonus(80)"
   ]
  },
  {
   "cell_type": "code",
   "execution_count": 74,
   "id": "bbd2b1de-7fe7-44e4-bc7a-9d0076d2df8b",
   "metadata": {},
   "outputs": [
    {
     "name": "stdout",
     "output_type": "stream",
     "text": [
      "\n",
      "\n",
      "NAME                  ->  Anil\n",
      "AGE                   ->  35\n",
      "COMPANY               ->  UST Global\n",
      "--------------------------------------------------------------------------------\n",
      "GROSS SALARY          =  1500000 INR\n",
      "TAX RATE              =  10\n",
      "BONUS                 =  10  pct\n",
      "--------------------------------------------------------------------------------\n",
      "NET SALARY            =  1350000.0INR\n"
     ]
    }
   ],
   "source": [
    "e.print()"
   ]
  },
  {
   "cell_type": "markdown",
   "id": "ac269ee1-dd97-4612-aa6d-d353848363b2",
   "metadata": {},
   "source": [
    "# Class variables"
   ]
  },
  {
   "cell_type": "code",
   "execution_count": 75,
   "id": "e7ce5d44-1c12-4ded-880e-eb909c8b3040",
   "metadata": {},
   "outputs": [
    {
     "data": {
      "text/plain": [
       "0"
      ]
     },
     "execution_count": 75,
     "metadata": {},
     "output_type": "execute_result"
    }
   ],
   "source": [
    "employee.nEmployees"
   ]
  },
  {
   "cell_type": "code",
   "execution_count": 76,
   "id": "40217f54-9b6d-4e39-b844-3ce9ce280eeb",
   "metadata": {},
   "outputs": [
    {
     "data": {
      "text/plain": [
       "0"
      ]
     },
     "execution_count": 76,
     "metadata": {},
     "output_type": "execute_result"
    }
   ],
   "source": [
    "e.nEmployees"
   ]
  },
  {
   "cell_type": "code",
   "execution_count": 81,
   "id": "58d0c35d-1a63-416a-b8e2-bf2cf0d7c760",
   "metadata": {},
   "outputs": [
    {
     "name": "stdout",
     "output_type": "stream",
     "text": [
      "\n",
      "\n",
      "NAME                  ->  Sunil\n",
      "AGE                   ->  35\n",
      "COMPANY               ->  UST Global\n",
      "--------------------------------------------------------------------------------\n",
      "GROSS SALARY          =  1500000 INR\n",
      "TAX RATE              =  0\n",
      "BONUS                 =  0  pct\n",
      "--------------------------------------------------------------------------------\n",
      "NET SALARY            =  \n",
      "\n",
      "\n",
      "NAME                  ->  Vinil\n",
      "AGE                   ->  35\n",
      "COMPANY               ->  UST Global\n",
      "--------------------------------------------------------------------------------\n",
      "GROSS SALARY          =  1500000 INR\n",
      "TAX RATE              =  0\n",
      "BONUS                 =  0  pct\n",
      "--------------------------------------------------------------------------------\n",
      "NET SALARY            =  \n"
     ]
    }
   ],
   "source": [
    "e1 = employee(\"Sunil\", 35, \"UST Global\", \"1500000 INR\")\n",
    "e2 = employee(\"Vinil\", 35, \"UST Global\", \"1500000 INR\")\n",
    "e1.print()\n",
    "e2.print()"
   ]
  },
  {
   "cell_type": "code",
   "execution_count": 82,
   "id": "39ad5131-9e63-4ede-bb26-0960168b249f",
   "metadata": {},
   "outputs": [
    {
     "data": {
      "text/plain": [
       "0"
      ]
     },
     "execution_count": 82,
     "metadata": {},
     "output_type": "execute_result"
    }
   ],
   "source": [
    "e.nEmployees"
   ]
  },
  {
   "cell_type": "code",
   "execution_count": 83,
   "id": "743463c4-3244-4495-b13a-91e10aaf9db5",
   "metadata": {},
   "outputs": [
    {
     "data": {
      "text/plain": [
       "(0, 4, 4)"
      ]
     },
     "execution_count": 83,
     "metadata": {},
     "output_type": "execute_result"
    }
   ],
   "source": [
    "e.nEmployees, e1.nEmployees, e2.nEmployees"
   ]
  },
  {
   "cell_type": "code",
   "execution_count": null,
   "id": "3332fad3-3967-4ed7-90ff-2d16d926e3ca",
   "metadata": {},
   "outputs": [],
   "source": []
  }
 ],
 "metadata": {
  "kernelspec": {
   "display_name": "Python 3 (ipykernel)",
   "language": "python",
   "name": "python3"
  },
  "language_info": {
   "codemirror_mode": {
    "name": "ipython",
    "version": 3
   },
   "file_extension": ".py",
   "mimetype": "text/x-python",
   "name": "python",
   "nbconvert_exporter": "python",
   "pygments_lexer": "ipython3",
   "version": "3.12.4"
  }
 },
 "nbformat": 4,
 "nbformat_minor": 5
}
