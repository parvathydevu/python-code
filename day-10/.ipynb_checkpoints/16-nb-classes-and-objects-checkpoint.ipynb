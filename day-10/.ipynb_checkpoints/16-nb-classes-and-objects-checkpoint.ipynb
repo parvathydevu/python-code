{
 "cells": [
  {
   "cell_type": "markdown",
   "id": "3bcb054c-f0e3-4cac-be61-5863b534122c",
   "metadata": {},
   "source": [
    "### 16.1 Defining a class in python"
   ]
  },
  {
   "cell_type": "code",
   "execution_count": 1,
   "id": "ee1865ed-9ccc-433e-9cfe-3767e5e46838",
   "metadata": {},
   "outputs": [],
   "source": [
    "class student:\n",
    "\n",
    "    # constructor and instance variable intialization\n",
    "    def __init__(self, sname, sage, sgrade):\n",
    "        self.name = sname\n",
    "        self.age  = sage\n",
    "        self.grade = sgrade\n",
    "        self.marks = {}\n",
    "\n",
    "    # class methods\n",
    "    def set_marks(self, subj, marks):\n",
    "        self.marks[subj] = marks\n",
    "\n",
    "    def average(self):\n",
    "        self.average = sum(self.marks.values())/len(self.marks.values())\n",
    "        return self.average\n",
    "\n",
    "    def print_report(self):\n",
    "        print(f\"\\nSELF -> {self}\")\n",
    "        print(\"------------------------------------\")\n",
    "        print(f\"NAME           | {self.name}\")\n",
    "        print(f\"AGE            | {self.age}\")\n",
    "        print(f\"GRADE          | {self.grade}\")\n",
    "        print(\"------------------------------------\")\n",
    "        for k, v in self.marks.items():\n",
    "            print(str(k).rjust(10), \"  |\", str(v).ljust(5) )\n",
    "        print(\"------------------------------------\")\n",
    "        print(\"AVERAGE        | \", self.average())"
   ]
  },
  {
   "cell_type": "markdown",
   "id": "e5f7abd7-f209-4e50-a888-eb9a78a7f506",
   "metadata": {},
   "source": [
    "All functions you write in a class should have the first argument -> self\n",
    "All instance variables should have the prefix self.\n",
    "Whatever information is passed at the time of creation of object is picked up by the constructor if specified"
   ]
  },
  {
   "cell_type": "code",
   "execution_count": 2,
   "id": "81f54096-1ee9-4b5e-8dec-1b8ae6cb28c1",
   "metadata": {},
   "outputs": [],
   "source": [
    "s1 = student(\"Anil\", 12, \"7\")\n",
    "s2 = student(\"Sunil\", 12, \"7\")"
   ]
  },
  {
   "cell_type": "code",
   "execution_count": 3,
   "id": "e2e1892b-d8cb-4aac-b98f-698a7f5844e6",
   "metadata": {},
   "outputs": [
    {
     "data": {
      "text/plain": [
       "<__main__.student at 0x19e0b8e8f20>"
      ]
     },
     "execution_count": 3,
     "metadata": {},
     "output_type": "execute_result"
    }
   ],
   "source": [
    "s1"
   ]
  },
  {
   "cell_type": "code",
   "execution_count": 4,
   "id": "058bfe24-3118-4e66-93c7-15d8cafdf179",
   "metadata": {},
   "outputs": [
    {
     "data": {
      "text/plain": [
       "<__main__.student at 0x19e0b973b90>"
      ]
     },
     "execution_count": 4,
     "metadata": {},
     "output_type": "execute_result"
    }
   ],
   "source": [
    "s2"
   ]
  },
  {
   "cell_type": "code",
   "execution_count": 5,
   "id": "3a3d2d1b-71cd-482b-9be6-b9271656b5c3",
   "metadata": {},
   "outputs": [],
   "source": [
    "s1.set_marks(\"physics\", 78)\n",
    "s1.set_marks(\"chemistry\", 88)"
   ]
  },
  {
   "cell_type": "code",
   "execution_count": 6,
   "id": "a6756b85-11e9-4ec5-89cb-73e392c9fbf2",
   "metadata": {},
   "outputs": [],
   "source": [
    "s2.set_marks(\"physics\", 98)\n",
    "s2.set_marks(\"chemistry\", 68)"
   ]
  },
  {
   "cell_type": "code",
   "execution_count": 7,
   "id": "9c717b18-ef00-4473-95ca-cdbd1da07ad7",
   "metadata": {},
   "outputs": [
    {
     "name": "stdout",
     "output_type": "stream",
     "text": [
      "\n",
      "SELF -> <__main__.student object at 0x0000019E0B8E8F20>\n",
      "------------------------------------\n",
      "NAME           | Anil\n",
      "AGE            | 12\n",
      "GRADE          | 7\n",
      "------------------------------------\n",
      "   physics   | 78   \n",
      " chemistry   | 88   \n",
      "------------------------------------\n",
      "AVERAGE        |  83.0\n"
     ]
    }
   ],
   "source": [
    "s1.print_report()"
   ]
  },
  {
   "cell_type": "code",
   "execution_count": 44,
   "id": "9e111c67-8791-46c4-b3e9-4728bc6442f4",
   "metadata": {},
   "outputs": [
    {
     "name": "stdout",
     "output_type": "stream",
     "text": [
      "\n",
      "SELF -> <__main__.student object at 0x000001F9983DA110>\n",
      "------------------------------------\n",
      "NAME           | Sunil\n",
      "AGE            | 12\n",
      "GRADE          | 7\n",
      "------------------------------------\n",
      "   physics   | 98   \n",
      " chemistry   | 68   \n",
      "------------------------------------\n",
      "AVERAGE        |  83.0\n"
     ]
    }
   ],
   "source": [
    "s2.print_report()"
   ]
  },
  {
   "cell_type": "markdown",
   "id": "016c6351-2677-4165-bcc7-ccbbb823ca16",
   "metadata": {},
   "source": [
    "# 16.2 Exercise"
   ]
  },
  {
   "cell_type": "code",
   "execution_count": null,
   "id": "c9c38932-c0d1-4688-8cab-35d99444ae7b",
   "metadata": {},
   "outputs": [],
   "source": [
    "'''Create an employee class with the following features: name, age, company,\n",
    "gross_salary, tax_rate, net_salary Implement methods to: print information, \n",
    "calculate net_salary based on tax rate, set the gross salary, set the tax rate'''"
   ]
  },
  {
   "cell_type": "code",
   "execution_count": 44,
   "id": "ed9e6880-7602-4a9f-9a80-77bb5837832c",
   "metadata": {},
   "outputs": [],
   "source": [
    "class Employee:\n",
    "    def __init__(self, name, age, company):\n",
    "        self.name = name\n",
    "        self.age = age\n",
    "        self.company = company\n",
    "        self.gross_salary = 0\n",
    "        self.tax_rate = 0\n",
    "        self.net_salary = 0\n",
    "\n",
    "    def calculate_net_salary(self):\n",
    "        self.net_salary = self.gross_salary * (1 - self.tax_rate / 100)\n",
    "        return self.net_salary\n",
    "\n",
    "    def set_gross_salary(self, gross_salary):\n",
    "        self.gross_salary = gross_salary\n",
    "        self.calculate_net_salary()\n",
    "\n",
    "    def set_tax_rate(self, tax_rate):\n",
    "        self.tax_rate = tax_rate\n",
    "        self.calculate_net_salary()\n",
    "\n",
    "    def print_information(self):\n",
    "        print(f\"Name: {self.name}\")\n",
    "        print(f\"Age: {self.age}\")\n",
    "        print(f\"Company: {self.company}\")\n",
    "        print(f\"Gross Salary: {self.gross_salary}\")\n",
    "        print(f\"Tax Rate: {self.tax_rate}\")\n",
    "        print(f\"Net Salary: {self.net_salary}\")\n",
    "        "
   ]
  },
  {
   "cell_type": "code",
   "execution_count": 45,
   "id": "9f686509-ef97-49f8-91bc-93d9d57ee630",
   "metadata": {},
   "outputs": [],
   "source": [
    "s1=Employee(\"Anil\",36,\"UST\")"
   ]
  },
  {
   "cell_type": "code",
   "execution_count": 46,
   "id": "e7b088bf-12b7-46c1-b39f-70af9847e73d",
   "metadata": {},
   "outputs": [],
   "source": [
    "s1.set_gross_salary(10000)"
   ]
  },
  {
   "cell_type": "code",
   "execution_count": 49,
   "id": "f664f6a2-431e-4e1e-92ae-125f14855223",
   "metadata": {},
   "outputs": [],
   "source": [
    "s1.set_tax_rate(4)"
   ]
  },
  {
   "cell_type": "code",
   "execution_count": 50,
   "id": "71877433-62d2-4fe6-8e19-b3e7009f61ff",
   "metadata": {},
   "outputs": [
    {
     "data": {
      "text/plain": [
       "9600.0"
      ]
     },
     "execution_count": 50,
     "metadata": {},
     "output_type": "execute_result"
    }
   ],
   "source": [
    "s1.calculate_net_salary()"
   ]
  },
  {
   "cell_type": "code",
   "execution_count": 51,
   "id": "f24d505c-b6c5-4d6d-8fca-b69a56a4fec8",
   "metadata": {},
   "outputs": [
    {
     "name": "stdout",
     "output_type": "stream",
     "text": [
      "Name: Anil\n",
      "Age: 36\n",
      "Company: UST\n",
      "Gross Salary: 10000\n",
      "Tax Rate: 4\n",
      "Net Salary: 9600.0\n"
     ]
    }
   ],
   "source": [
    "s1. print_information()"
   ]
  }
 ],
 "metadata": {
  "kernelspec": {
   "display_name": "Python 3 (ipykernel)",
   "language": "python",
   "name": "python3"
  },
  "language_info": {
   "codemirror_mode": {
    "name": "ipython",
    "version": 3
   },
   "file_extension": ".py",
   "mimetype": "text/x-python",
   "name": "python",
   "nbconvert_exporter": "python",
   "pygments_lexer": "ipython3",
   "version": "3.12.4"
  }
 },
 "nbformat": 4,
 "nbformat_minor": 5
}
