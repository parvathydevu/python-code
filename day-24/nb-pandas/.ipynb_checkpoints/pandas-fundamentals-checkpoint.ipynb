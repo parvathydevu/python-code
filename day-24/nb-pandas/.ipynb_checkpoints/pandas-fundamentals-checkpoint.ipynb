{
 "cells": [
  {
   "cell_type": "markdown",
   "id": "9ff692e2-ce1b-4551-b562-d6d4f7d1d6a2",
   "metadata": {},
   "source": [
    "# Pandas Library"
   ]
  },
  {
   "cell_type": "markdown",
   "id": "07aa147f-2a64-42cb-a5e2-7100b2cc5dde",
   "metadata": {},
   "source": [
    "### 1. Basics"
   ]
  },
  {
   "cell_type": "code",
   "execution_count": 12,
   "id": "9f9c5abf-cb8d-481e-8f26-26599d1a5b80",
   "metadata": {},
   "outputs": [],
   "source": [
    "import pandas as pd"
   ]
  },
  {
   "cell_type": "code",
   "execution_count": 16,
   "id": "05baae20-dbe9-4e4f-8341-d333eed727b1",
   "metadata": {},
   "outputs": [],
   "source": [
    "path = r\"C:\\Users\\237237\\Desktop\\anacondacode\\casestudies--001\\student_report\\students.csv\""
   ]
  },
  {
   "cell_type": "code",
   "execution_count": 17,
   "id": "e1234e04-2c9d-453a-8bca-fa9dd571190b",
   "metadata": {},
   "outputs": [],
   "source": [
    "df = pd.read_csv(path)"
   ]
  },
  {
   "cell_type": "code",
   "execution_count": 18,
   "id": "c6ee307a-4019-451d-a453-f67e16393c17",
   "metadata": {},
   "outputs": [
    {
     "data": {
      "text/html": [
       "<div>\n",
       "<style scoped>\n",
       "    .dataframe tbody tr th:only-of-type {\n",
       "        vertical-align: middle;\n",
       "    }\n",
       "\n",
       "    .dataframe tbody tr th {\n",
       "        vertical-align: top;\n",
       "    }\n",
       "\n",
       "    .dataframe thead th {\n",
       "        text-align: right;\n",
       "    }\n",
       "</style>\n",
       "<table border=\"1\" class=\"dataframe\">\n",
       "  <thead>\n",
       "    <tr style=\"text-align: right;\">\n",
       "      <th></th>\n",
       "      <th>name</th>\n",
       "      <th>age</th>\n",
       "      <th>regid</th>\n",
       "      <th>phy</th>\n",
       "      <th>chem</th>\n",
       "      <th>math</th>\n",
       "      <th>bio</th>\n",
       "      <th>avg</th>\n",
       "      <th>rank</th>\n",
       "    </tr>\n",
       "  </thead>\n",
       "  <tbody>\n",
       "    <tr>\n",
       "      <th>0</th>\n",
       "      <td>Vijay</td>\n",
       "      <td>14</td>\n",
       "      <td>HPE001</td>\n",
       "      <td>99</td>\n",
       "      <td>98</td>\n",
       "      <td>97</td>\n",
       "      <td>96</td>\n",
       "      <td>0</td>\n",
       "      <td>0</td>\n",
       "    </tr>\n",
       "    <tr>\n",
       "      <th>1</th>\n",
       "      <td>Aryan</td>\n",
       "      <td>14</td>\n",
       "      <td>HPE002</td>\n",
       "      <td>98</td>\n",
       "      <td>91</td>\n",
       "      <td>93</td>\n",
       "      <td>96</td>\n",
       "      <td>0</td>\n",
       "      <td>0</td>\n",
       "    </tr>\n",
       "    <tr>\n",
       "      <th>2</th>\n",
       "      <td>Muni</td>\n",
       "      <td>14</td>\n",
       "      <td>HPE003</td>\n",
       "      <td>97</td>\n",
       "      <td>98</td>\n",
       "      <td>97</td>\n",
       "      <td>94</td>\n",
       "      <td>0</td>\n",
       "      <td>0</td>\n",
       "    </tr>\n",
       "    <tr>\n",
       "      <th>3</th>\n",
       "      <td>Abhi</td>\n",
       "      <td>14</td>\n",
       "      <td>HPE004</td>\n",
       "      <td>96</td>\n",
       "      <td>93</td>\n",
       "      <td>97</td>\n",
       "      <td>95</td>\n",
       "      <td>0</td>\n",
       "      <td>0</td>\n",
       "    </tr>\n",
       "    <tr>\n",
       "      <th>4</th>\n",
       "      <td>Hemanth</td>\n",
       "      <td>14</td>\n",
       "      <td>HPE005</td>\n",
       "      <td>94</td>\n",
       "      <td>91</td>\n",
       "      <td>93</td>\n",
       "      <td>96</td>\n",
       "      <td>0</td>\n",
       "      <td>0</td>\n",
       "    </tr>\n",
       "    <tr>\n",
       "      <th>5</th>\n",
       "      <td>Grace</td>\n",
       "      <td>14</td>\n",
       "      <td>HPE006</td>\n",
       "      <td>94</td>\n",
       "      <td>95</td>\n",
       "      <td>96</td>\n",
       "      <td>97</td>\n",
       "      <td>0</td>\n",
       "      <td>0</td>\n",
       "    </tr>\n",
       "    <tr>\n",
       "      <th>6</th>\n",
       "      <td>Ankita</td>\n",
       "      <td>14</td>\n",
       "      <td>CAP007</td>\n",
       "      <td>99</td>\n",
       "      <td>99</td>\n",
       "      <td>99</td>\n",
       "      <td>99</td>\n",
       "      <td>0</td>\n",
       "      <td>0</td>\n",
       "    </tr>\n",
       "    <tr>\n",
       "      <th>7</th>\n",
       "      <td>John</td>\n",
       "      <td>14</td>\n",
       "      <td>HPE008</td>\n",
       "      <td>96</td>\n",
       "      <td>93</td>\n",
       "      <td>97</td>\n",
       "      <td>95</td>\n",
       "      <td>0</td>\n",
       "      <td>0</td>\n",
       "    </tr>\n",
       "    <tr>\n",
       "      <th>8</th>\n",
       "      <td>Chris</td>\n",
       "      <td>14</td>\n",
       "      <td>HPE009</td>\n",
       "      <td>94</td>\n",
       "      <td>91</td>\n",
       "      <td>93</td>\n",
       "      <td>96</td>\n",
       "      <td>0</td>\n",
       "      <td>0</td>\n",
       "    </tr>\n",
       "    <tr>\n",
       "      <th>9</th>\n",
       "      <td>Grace</td>\n",
       "      <td>14</td>\n",
       "      <td>ORA006</td>\n",
       "      <td>94</td>\n",
       "      <td>95</td>\n",
       "      <td>96</td>\n",
       "      <td>97</td>\n",
       "      <td>0</td>\n",
       "      <td>0</td>\n",
       "    </tr>\n",
       "    <tr>\n",
       "      <th>10</th>\n",
       "      <td>Ankita</td>\n",
       "      <td>14</td>\n",
       "      <td>INF007</td>\n",
       "      <td>99</td>\n",
       "      <td>99</td>\n",
       "      <td>99</td>\n",
       "      <td>99</td>\n",
       "      <td>0</td>\n",
       "      <td>0</td>\n",
       "    </tr>\n",
       "  </tbody>\n",
       "</table>\n",
       "</div>"
      ],
      "text/plain": [
       "       name  age   regid  phy  chem  math  bio  avg  rank\n",
       "0     Vijay   14  HPE001   99    98    97   96    0     0\n",
       "1     Aryan   14  HPE002   98    91    93   96    0     0\n",
       "2      Muni   14  HPE003   97    98    97   94    0     0\n",
       "3      Abhi   14  HPE004   96    93    97   95    0     0\n",
       "4   Hemanth   14  HPE005   94    91    93   96    0     0\n",
       "5     Grace   14  HPE006   94    95    96   97    0     0\n",
       "6    Ankita   14  CAP007   99    99    99   99    0     0\n",
       "7      John   14  HPE008   96    93    97   95    0     0\n",
       "8     Chris   14  HPE009   94    91    93   96    0     0\n",
       "9     Grace   14  ORA006   94    95    96   97    0     0\n",
       "10   Ankita   14  INF007   99    99    99   99    0     0"
      ]
     },
     "execution_count": 18,
     "metadata": {},
     "output_type": "execute_result"
    }
   ],
   "source": [
    "df"
   ]
  },
  {
   "cell_type": "code",
   "execution_count": null,
   "id": "965c22cf-50c4-45b6-8043-062ea28538b8",
   "metadata": {},
   "outputs": [],
   "source": [
    ".loc\n",
    "Label-based: .loc is used to access a group of rows and columns by labels or a boolean array.\n",
    "df.loc[row_label, column_label]\n",
    ".iloc is used to access a group of rows and columns by integer positions (i.e., indices).\n",
    "Exclusive: When slicing, the end index is excluded.\n",
    "Syntax: df.iloc[row_index, column_index]"
   ]
  },
  {
   "cell_type": "markdown",
   "id": "e8ccaa45-f993-49a5-8e9b-f5a006916bfb",
   "metadata": {},
   "source": [
    "##### Working with Columns"
   ]
  },
  {
   "cell_type": "code",
   "execution_count": 19,
   "id": "58c25945-a416-46f2-a29a-9cd4559a6f42",
   "metadata": {},
   "outputs": [
    {
     "data": {
      "text/plain": [
       "Index(['name', 'age', 'regid', 'phy', 'chem', 'math', 'bio', 'avg', 'rank'], dtype='object')"
      ]
     },
     "execution_count": 19,
     "metadata": {},
     "output_type": "execute_result"
    }
   ],
   "source": [
    "df.columns"
   ]
  },
  {
   "cell_type": "code",
   "execution_count": 20,
   "id": "59552edf-8a51-426c-aca4-4be21f8a1ac9",
   "metadata": {},
   "outputs": [
    {
     "data": {
      "text/plain": [
       "(11, 9)"
      ]
     },
     "execution_count": 20,
     "metadata": {},
     "output_type": "execute_result"
    }
   ],
   "source": [
    "df.shape  #how many  numberof rows and coloumns"
   ]
  },
  {
   "cell_type": "code",
   "execution_count": 21,
   "id": "25a7b8c8-a97f-42b0-a14e-909ad9ab4fa8",
   "metadata": {},
   "outputs": [
    {
     "data": {
      "text/html": [
       "<div>\n",
       "<style scoped>\n",
       "    .dataframe tbody tr th:only-of-type {\n",
       "        vertical-align: middle;\n",
       "    }\n",
       "\n",
       "    .dataframe tbody tr th {\n",
       "        vertical-align: top;\n",
       "    }\n",
       "\n",
       "    .dataframe thead th {\n",
       "        text-align: right;\n",
       "    }\n",
       "</style>\n",
       "<table border=\"1\" class=\"dataframe\">\n",
       "  <thead>\n",
       "    <tr style=\"text-align: right;\">\n",
       "      <th></th>\n",
       "      <th>name</th>\n",
       "      <th>age</th>\n",
       "      <th>regid</th>\n",
       "      <th>phy</th>\n",
       "      <th>chem</th>\n",
       "      <th>math</th>\n",
       "      <th>bio</th>\n",
       "      <th>avg</th>\n",
       "      <th>rank</th>\n",
       "    </tr>\n",
       "  </thead>\n",
       "  <tbody>\n",
       "    <tr>\n",
       "      <th>0</th>\n",
       "      <td>Vijay</td>\n",
       "      <td>14</td>\n",
       "      <td>HPE001</td>\n",
       "      <td>99</td>\n",
       "      <td>98</td>\n",
       "      <td>97</td>\n",
       "      <td>96</td>\n",
       "      <td>0</td>\n",
       "      <td>0</td>\n",
       "    </tr>\n",
       "    <tr>\n",
       "      <th>1</th>\n",
       "      <td>Aryan</td>\n",
       "      <td>14</td>\n",
       "      <td>HPE002</td>\n",
       "      <td>98</td>\n",
       "      <td>91</td>\n",
       "      <td>93</td>\n",
       "      <td>96</td>\n",
       "      <td>0</td>\n",
       "      <td>0</td>\n",
       "    </tr>\n",
       "    <tr>\n",
       "      <th>2</th>\n",
       "      <td>Muni</td>\n",
       "      <td>14</td>\n",
       "      <td>HPE003</td>\n",
       "      <td>97</td>\n",
       "      <td>98</td>\n",
       "      <td>97</td>\n",
       "      <td>94</td>\n",
       "      <td>0</td>\n",
       "      <td>0</td>\n",
       "    </tr>\n",
       "    <tr>\n",
       "      <th>3</th>\n",
       "      <td>Abhi</td>\n",
       "      <td>14</td>\n",
       "      <td>HPE004</td>\n",
       "      <td>96</td>\n",
       "      <td>93</td>\n",
       "      <td>97</td>\n",
       "      <td>95</td>\n",
       "      <td>0</td>\n",
       "      <td>0</td>\n",
       "    </tr>\n",
       "    <tr>\n",
       "      <th>4</th>\n",
       "      <td>Hemanth</td>\n",
       "      <td>14</td>\n",
       "      <td>HPE005</td>\n",
       "      <td>94</td>\n",
       "      <td>91</td>\n",
       "      <td>93</td>\n",
       "      <td>96</td>\n",
       "      <td>0</td>\n",
       "      <td>0</td>\n",
       "    </tr>\n",
       "  </tbody>\n",
       "</table>\n",
       "</div>"
      ],
      "text/plain": [
       "      name  age   regid  phy  chem  math  bio  avg  rank\n",
       "0    Vijay   14  HPE001   99    98    97   96    0     0\n",
       "1    Aryan   14  HPE002   98    91    93   96    0     0\n",
       "2     Muni   14  HPE003   97    98    97   94    0     0\n",
       "3     Abhi   14  HPE004   96    93    97   95    0     0\n",
       "4  Hemanth   14  HPE005   94    91    93   96    0     0"
      ]
     },
     "execution_count": 21,
     "metadata": {},
     "output_type": "execute_result"
    }
   ],
   "source": [
    "df.head() # gettable of defualt 5 of toplayer"
   ]
  },
  {
   "cell_type": "code",
   "execution_count": null,
   "id": "39e98dc3-bb91-4c88-848b-cd063b610f91",
   "metadata": {},
   "outputs": [],
   "source": [
    "df.tail()"
   ]
  },
  {
   "cell_type": "code",
   "execution_count": null,
   "id": "948d6503-50f3-42b5-bcfc-16f75e475426",
   "metadata": {},
   "outputs": [],
   "source": [
    "df.describe()"
   ]
  },
  {
   "cell_type": "code",
   "execution_count": null,
   "id": "1e25b7f3-26da-4a73-baa0-5714d8783d8c",
   "metadata": {},
   "outputs": [],
   "source": [
    "df.info()"
   ]
  },
  {
   "cell_type": "code",
   "execution_count": null,
   "id": "97128bba-f2c5-4d67-bc10-4d7fef833f35",
   "metadata": {},
   "outputs": [],
   "source": [
    "df['name']"
   ]
  },
  {
   "cell_type": "code",
   "execution_count": null,
   "id": "336be902-53fd-4088-96ee-94a061546a02",
   "metadata": {},
   "outputs": [],
   "source": [
    "df1 = df[['avg', 'name']]\n",
    "df1"
   ]
  },
  {
   "cell_type": "code",
   "execution_count": null,
   "id": "bf45686e-4b14-4ae1-a0ce-61fc8243ba17",
   "metadata": {},
   "outputs": [],
   "source": [
    "df['total'] = df['phy'] + df['math'] + df['bio'] + df['chem']\n",
    "df.head()"
   ]
  },
  {
   "cell_type": "code",
   "execution_count": null,
   "id": "1d36c161-2864-4cc7-b5d8-2d64ed443afb",
   "metadata": {},
   "outputs": [],
   "source": [
    "df2 = df.drop('total', axis = 1)\n",
    "df"
   ]
  },
  {
   "cell_type": "code",
   "execution_count": null,
   "id": "53334b1a-6bef-409f-9706-72fdc97c8dc8",
   "metadata": {},
   "outputs": [],
   "source": [
    "df.drop('total', axis = 1, inplace = True)\n",
    "df"
   ]
  },
  {
   "cell_type": "markdown",
   "id": "dd270327-bdf2-4735-b377-fa591f14cae6",
   "metadata": {},
   "source": [
    "##### Working with Rows"
   ]
  },
  {
   "cell_type": "code",
   "execution_count": null,
   "id": "e9363718-4af8-42a0-8878-d90aadead072",
   "metadata": {},
   "outputs": [],
   "source": [
    "df.head()"
   ]
  },
  {
   "cell_type": "code",
   "execution_count": null,
   "id": "061d0277-8e9b-48e0-802e-eec3f229b21d",
   "metadata": {},
   "outputs": [],
   "source": [
    "df.loc[2]"
   ]
  },
  {
   "cell_type": "code",
   "execution_count": null,
   "id": "42177937-349b-4a64-9fdb-801736e30ea6",
   "metadata": {},
   "outputs": [],
   "source": [
    "df.loc[[4, 2, 1]]"
   ]
  },
  {
   "cell_type": "code",
   "execution_count": null,
   "id": "c6824491-191e-4f37-b5a5-88c16944ecae",
   "metadata": {},
   "outputs": [],
   "source": [
    "df3 = df.iloc[[3, 1, 3, 4, 7]]\n",
    "df3"
   ]
  },
  {
   "cell_type": "code",
   "execution_count": null,
   "id": "b5c800e8-e058-4171-b1d5-563c565006fa",
   "metadata": {},
   "outputs": [],
   "source": [
    "df[(df['phy'] < 95) & (df['math'] < 95)]"
   ]
  },
  {
   "cell_type": "markdown",
   "id": "39c1967c-e20b-40bc-9e45-d81a2891183b",
   "metadata": {},
   "source": [
    "### 2. Solving the Student Report Problem"
   ]
  },
  {
   "cell_type": "code",
   "execution_count": null,
   "id": "6c2d8ec8-4804-4187-82ac-0b34b0f0b217",
   "metadata": {},
   "outputs": [],
   "source": [
    "import pandas as pd\n",
    "df = pd.read_csv(r\"C:\\Users\\mindf\\Desktop\\step\\day_05\\case\\students.csv\")"
   ]
  },
  {
   "cell_type": "code",
   "execution_count": null,
   "id": "b4b53353-ec1e-486a-b939-5f6e205cf4fd",
   "metadata": {},
   "outputs": [],
   "source": [
    "df['avg'] = df[['phy', 'chem', 'math', 'bio']].mean(axis = 1)\n",
    "df.head()"
   ]
  },
  {
   "cell_type": "code",
   "execution_count": null,
   "id": "c6671a93-949c-4175-80da-c22c9367e06d",
   "metadata": {},
   "outputs": [],
   "source": [
    "df['rank'] = df['avg'].rank(ascending = False, method = 'dense')\n",
    "df"
   ]
  },
  {
   "cell_type": "code",
   "execution_count": null,
   "id": "cdeb0ec7-f892-4507-8433-18e18cc05ccf",
   "metadata": {},
   "outputs": [],
   "source": [
    "df.to_json('student_report.json')"
   ]
  },
  {
   "cell_type": "code",
   "execution_count": null,
   "id": "97a1f0be-7a8b-4ae7-befd-e207e47c48ee",
   "metadata": {},
   "outputs": [],
   "source": []
  }
 ],
 "metadata": {
  "kernelspec": {
   "display_name": "Python 3 (ipykernel)",
   "language": "python",
   "name": "python3"
  },
  "language_info": {
   "codemirror_mode": {
    "name": "ipython",
    "version": 3
   },
   "file_extension": ".py",
   "mimetype": "text/x-python",
   "name": "python",
   "nbconvert_exporter": "python",
   "pygments_lexer": "ipython3",
   "version": "3.12.4"
  }
 },
 "nbformat": 4,
 "nbformat_minor": 5
}
