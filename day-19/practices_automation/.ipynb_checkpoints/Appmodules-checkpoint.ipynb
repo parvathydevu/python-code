{
 "cells": [
  {
   "cell_type": "code",
   "execution_count": null,
   "id": "316bf053-97f5-4888-bd53-eda560102abe",
   "metadata": {},
   "outputs": [],
   "source": [
    "#typer =- building command line interpreter"
   ]
  },
  {
   "cell_type": "code",
   "execution_count": null,
   "id": "d791b445-5bb4-4eac-9ab0-6e165ed75060",
   "metadata": {},
   "outputs": [],
   "source": [
    "\n",
    "pip install typer"
   ]
  },
  {
   "cell_type": "code",
   "execution_count": null,
   "id": "d55aacb9-d379-4500-8d14-29b01d012603",
   "metadata": {},
   "outputs": [],
   "source": [
    "#rich --The rich module in Python is a powerful library for creating visually appealing and formatted text in the terminal. \n",
    "It can handle rich text, tables, progress bars, syntax highlighting, markdown, and more. Here are some key features and usage examples:\n",
    "\n",
    "Key Features\n",
    "Rich Text: Add color and style to your terminal output.\n",
    "Tables: Create and display beautifully formatted tables.\n",
    "Progress Bars: Show progress bars for long-running tasks.\n",
    "Markdown: Render markdown content in the terminal.\n",
    "Syntax Highlighting: Highlight code syntax for better readability.\n",
    "Tracebacks: Display detailed and styled tracebacks for debugging."
   ]
  },
  {
   "cell_type": "code",
   "execution_count": null,
   "id": "cd13b2b6-80e8-481c-910a-745d26a458e4",
   "metadata": {},
   "outputs": [],
   "source": [
    "\n",
    "pip install rich\n"
   ]
  },
  {
   "cell_type": "code",
   "execution_count": null,
   "id": "f21cfce9-6027-4b86-b72f-e9c487fa9875",
   "metadata": {},
   "outputs": [],
   "source": [
    "pip install bcrypt --trusted-host pypi.org --trusted-host files.pythonhosted.org"
   ]
  },
  {
   "cell_type": "code",
   "execution_count": null,
   "id": "7d382e9e-61bf-48ae-b469-af863106578a",
   "metadata": {},
   "outputs": [],
   "source": [
    "testenv) C:\\Users\\237237\\Desktop\\Django\\automation_python\\20.1-bank-application\\bankcli>python __bankcli__.py create \"anil\"\n",
    "Enter a 4-digit PIN: \n",
    "✅ Account created\n",
    "ID: 9efa135c | Balance: ₹0.00\n",
    "\n",
    "(testenv) C:\\Users\\237237\\Desktop\\Django\\automation_python\\20.1-bank-application\\bankcli>python __bankcli__.py deposit 9efa135c 1000\n",
    "Enter your PIN: \n",
    "❌ Error: Invalid PIN.\n",
    "\n",
    "(testenv) C:\\Users\\237237\\Desktop\\Django\\automation_python\\20.1-bank-application\\bankcli>python __bankcli__.py deposit 9efa135c 1000\n",
    "Enter your PIN: \n",
    "💰 Deposit successful! New balance: ₹1000.00"
   ]
  },
  {
   "cell_type": "code",
   "execution_count": null,
   "id": "02fe0be1-faee-4ea5-b03a-9bf4e094c50d",
   "metadata": {},
   "outputs": [],
   "source": [
    "bcrypt -- bcrypt is a Python library used for hashing passwords securely. It provides a way to hash passwords and verify them later, \n",
    "ensuring that passwords are stored in a secure manner. Here are some key points about bcrypt:\n",
    "\n",
    "Key Features\n",
    "Password Hashing: bcrypt hashes passwords using the Blowfish cipher, making it computationally expensive to crack.\n",
    "Salting: It automatically generates a salt and includes it in the hash, which helps protect against rainbow table attacks.\n",
    "Secure Verification: It provides a secure way to verify passwords by comparing the hashed password with the stored hash."
   ]
  },
  {
   "cell_type": "code",
   "execution_count": null,
   "id": "67007341-cbe3-4559-bc81-ea2a1c989269",
   "metadata": {},
   "outputs": [],
   "source": [
    "Template --within first app\n",
    "HTML files----along with python constructs"
   ]
  },
  {
   "cell_type": "markdown",
   "id": "7fa02ccb-8df2-4b62-8e4d-b5ba3fdabb81",
   "metadata": {},
   "source": [
    "# Templates-Django"
   ]
  },
  {
   "cell_type": "markdown",
   "id": "464e696c-1aa8-45dd-b455-46ad8e5cf1d2",
   "metadata": {},
   "source": [
    "HTML file"
   ]
  },
  {
   "cell_type": "code",
   "execution_count": null,
   "id": "f08dc426-427f-47f7-872b-3e819c18a022",
   "metadata": {},
   "outputs": [],
   "source": [
    "<!DOCTYPE html>\n",
    "<html lang=\"en\">\n",
    "<head>\n",
    "    <meta charset=\"UTF-8\">\n",
    "    <meta name=\"viewport\" content=\"width=device-width, initial-scale=1.0\">\n",
    "    <title>Document</title>\n",
    "</head>\n",
    "<body>\n",
    "    <h1 style=\"color:blueviolet\">Welcome to Django!</h1>\n",
    "    <h3>Name: {{ name }}</h3>   #keep dynamiccaly inject the variables ,it is from python code  -name is injected from python view.\n",
    "</body>\n",
    "</html>"
   ]
  }
 ],
 "metadata": {
  "kernelspec": {
   "display_name": "Python 3 (ipykernel)",
   "language": "python",
   "name": "python3"
  },
  "language_info": {
   "codemirror_mode": {
    "name": "ipython",
    "version": 3
   },
   "file_extension": ".py",
   "mimetype": "text/x-python",
   "name": "python",
   "nbconvert_exporter": "python",
   "pygments_lexer": "ipython3",
   "version": "3.12.4"
  }
 },
 "nbformat": 4,
 "nbformat_minor": 5
}
