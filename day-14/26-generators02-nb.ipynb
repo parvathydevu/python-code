{
 "cells": [
  {
   "cell_type": "code",
   "execution_count": 1,
   "id": "bce6e8fd-6bad-4431-b37c-d7ef77ee81ec",
   "metadata": {},
   "outputs": [
    {
     "name": "stdout",
     "output_type": "stream",
     "text": [
      "1\n",
      "2\n",
      "3\n",
      "4\n",
      "5\n",
      "----\n",
      "1\n",
      "2\n",
      "3\n"
     ]
    },
    {
     "data": {
      "text/plain": [
       "'\\n\\n\\nfor i in r:\\n    print(i)\\n'"
      ]
     },
     "execution_count": 1,
     "metadata": {},
     "output_type": "execute_result"
    }
   ],
   "source": [
    "def getnumbers():\n",
    "    #return list(range(5))\n",
    "\n",
    "    yield 1\n",
    "    yield 2\n",
    "    yield 3\n",
    "    yield 4\n",
    "    yield 5\n",
    "\n",
    "# --------------------------\n",
    "\n",
    "\n",
    "r = getnumbers()\n",
    "\n",
    "for i in r:\n",
    "    print(i)\n",
    "\n",
    "print(\"----\")\n",
    "\n",
    "#r = getnumbers()\n",
    "for i in r:\n",
    "    print(i)\n",
    "\n",
    "r = getnumbers()\n",
    "print(next(r))\n",
    "print(next(r))\n",
    "print(next(r))\n",
    "\n",
    "'''\n",
    "\n",
    "\n",
    "for i in r:\n",
    "    print(i)\n",
    "'''"
   ]
  },
  {
   "cell_type": "code",
   "execution_count": 2,
   "id": "8e50fab2-bb93-46b1-9f55-4bdebe8c641d",
   "metadata": {},
   "outputs": [
    {
     "name": "stdout",
     "output_type": "stream",
     "text": [
      "\n",
      "First iteration:\n",
      "85 53 50 72 37 \n",
      "------------------------------\n",
      "46 64 100 30 95 \n",
      "\n",
      "Second iteration:\n",
      "85 53 50 72 37 \n",
      "------------------------------\n",
      "\n",
      "------------------------------\n",
      "73 14 98 89 19 "
     ]
    }
   ],
   "source": [
    "import random\n",
    "\n",
    "def getrandom(n):\n",
    "    return [random.randint(1, 100) for i in range(n)]\n",
    "\n",
    "def getrandom2(n):\n",
    "    for i in range(n):\n",
    "        yield random.randint(1, 100)\n",
    "\n",
    "# ---------------------------------------------------\n",
    "\n",
    "r1 = getrandom(5)    # List data type\n",
    "r2 = getrandom2(5)   # generator\n",
    "\n",
    "\n",
    "print ('\\nFirst iteration:')\n",
    "\n",
    "for i in r1:\n",
    "    print(i, end=' ')\n",
    "\n",
    "print('\\n------------------------------')\n",
    "\n",
    "for i in r2:\n",
    "    print(i, end=' ')\n",
    "\n",
    "# ------------------------ Python produces generators in several situations such as ...\n",
    "\n",
    "'''\n",
    ">>> t1 = ('a', 'b')\n",
    ">>> t2 = (1, 2)\n",
    ">>> t3 = zip(t1, t2)\n",
    ">>> t3\n",
    "<zip object at 0x00000138F9EBAAC8>\n",
    ">>> print(t3)\n",
    "<zip object at 0x00000138F9EBAAC8>\n",
    ">>> list(t3)\n",
    "[('a', 1), ('b', 2)]\n",
    ">>> dict(t3)\n",
    "{}\n",
    ">>> list(t3)\n",
    "[]\n",
    "\n",
    ">>> t3 = zip(t1, t2)\n",
    ">>> dict(t3)\n",
    "{'a': 1, 'b': 2}\n",
    ">>> dict(t3)\n",
    "{}\n",
    "'''\n",
    "\n",
    "\n",
    "\n",
    "\n",
    "\n",
    "print ('\\n\\nSecond iteration:')\n",
    "\n",
    "for i in r1:\n",
    "    print(i, end=' ')\n",
    "\n",
    "print('\\n------------------------------')\n",
    "\n",
    "for i in r2:\n",
    "    print(i, end=' ')\n",
    "\n",
    "\n",
    "print('\\n------------------------------')\n",
    "\n",
    "r2 = getrandom2(5)   # generator\n",
    "\n",
    "for i in r2:\n",
    "    print(i, end=' ')"
   ]
  },
  {
   "cell_type": "code",
   "execution_count": 3,
   "id": "dbd28522-0cdc-4bb7-a74a-61bad6ecdd7a",
   "metadata": {},
   "outputs": [
    {
     "name": "stdin",
     "output_type": "stream",
     "text": [
      " 6\n",
      " 2 3 4 5 6 7\n"
     ]
    },
    {
     "name": "stdout",
     "output_type": "stream",
     "text": [
      "6\n"
     ]
    }
   ],
   "source": [
    "n = int(input())\n",
    "arr = map(int, input().split())\n",
    "print(sorted(list(set(arr)))[-2])"
   ]
  },
  {
   "cell_type": "code",
   "execution_count": 5,
   "id": "46229fe5-03fd-4d7a-85c2-f1beac9cb824",
   "metadata": {},
   "outputs": [
    {
     "name": "stdin",
     "output_type": "stream",
     "text": [
      " 6\n"
     ]
    },
    {
     "name": "stdout",
     "output_type": "stream",
     "text": [
      "Cubes of numbers from 1 to 6\n",
      "1\n",
      "8\n",
      "27\n",
      "64\n",
      "125\n",
      "216\n"
     ]
    }
   ],
   "source": [
    "def cube_generator(n):\n",
    "    for i in range(1,n+1):\n",
    "        yield i **3\n",
    "\n",
    "n=int(input())\n",
    "t=cube_generator(n)\n",
    "print(\"Cubes of numbers from 1 to\", n)\n",
    "for num in t:\n",
    "    print(num)"
   ]
  },
  {
   "cell_type": "code",
   "execution_count": null,
   "id": "944ecbc2-b739-46eb-bf4d-26e8cf5fd9dd",
   "metadata": {},
   "outputs": [],
   "source": [
    "'''Write a Python program to implement a generator that generates random numbers within a given range.\n",
    "\n",
    "Sample Solution:'''"
   ]
  },
  {
   "cell_type": "code",
   "execution_count": null,
   "id": "ea5cef95-e05b-496f-ac16-bc8c54eb0f5e",
   "metadata": {},
   "outputs": [],
   "source": [
    "def random_numbers_generator(start,end):\n",
    "        "
   ]
  },
  {
   "cell_type": "markdown",
   "id": "425fcf56-7673-4d51-a91e-7607af0356b4",
   "metadata": {},
   "source": [
    "# Generator to filter names starting with a specific letter"
   ]
  },
  {
   "cell_type": "code",
   "execution_count": 6,
   "id": "3b79a2a8-e1d0-4c1e-ad00-59b13c8b5618",
   "metadata": {},
   "outputs": [],
   "source": [
    " #General definition\n",
    "def g_names_starting_with(names, letter):\n",
    "    n = []\n",
    "    for name in names:\n",
    "        if(name.startswith(letter)):\n",
    "            n.append(name)\n",
    "    return n"
   ]
  },
  {
   "cell_type": "code",
   "execution_count": 7,
   "id": "c4831f4c-42a9-44e1-b483-29aedc63c9a8",
   "metadata": {},
   "outputs": [],
   "source": [
    "# Generator\n",
    "def names_starting_with(names, letter):\n",
    "    for name in names:\n",
    "        if name.startswith(letter):\n",
    "            yield name"
   ]
  },
  {
   "cell_type": "code",
   "execution_count": 8,
   "id": "aa15270b-1c5d-4ea0-b94b-29578e6bc2d1",
   "metadata": {},
   "outputs": [
    {
     "name": "stdout",
     "output_type": "stream",
     "text": [
      "Alice\n",
      "Arun\n",
      "Anita\n"
     ]
    }
   ],
   "source": [
    "names = [\"Alice\", \"Bob\", \"Arun\", \"Charlie\", \"Anita\"]\n",
    "for n in names_starting_with(names, \"A\"):\n",
    "    print(n)"
   ]
  },
  {
   "cell_type": "code",
   "execution_count": 9,
   "id": "1b381d16-f51b-4cc9-b698-4281582d7e53",
   "metadata": {},
   "outputs": [
    {
     "data": {
      "text/plain": [
       "['Alice', 'Arun', 'Anita']"
      ]
     },
     "execution_count": 9,
     "metadata": {},
     "output_type": "execute_result"
    }
   ],
   "source": [
    "g_names_starting_with(names, 'A')"
   ]
  },
  {
   "cell_type": "markdown",
   "id": "089ffdcd-7687-4749-b2e0-763b06c01fbb",
   "metadata": {},
   "source": [
    "#  Sliding window generator"
   ]
  },
  {
   "cell_type": "code",
   "execution_count": 11,
   "id": "27741482-b7c8-4ee7-add7-2f7254f16d12",
   "metadata": {},
   "outputs": [],
   "source": [
    "def sliding_window(values, size):\n",
    "    times = len(values) - size\n",
    "    for i in range(times + 1):\n",
    "        yield tuple(values[i:i + size])"
   ]
  },
  {
   "cell_type": "code",
   "execution_count": 12,
   "id": "dc0f3e23-4e38-4dbe-9636-f2dbaa0616ff",
   "metadata": {},
   "outputs": [
    {
     "name": "stdout",
     "output_type": "stream",
     "text": [
      "(1, 2, 3)\n",
      "(2, 3, 4)\n",
      "(3, 4, 5)\n"
     ]
    }
   ],
   "source": [
    "for window in sliding_window([1, 2, 3, 4, 5], 3):\n",
    "    print(window)  "
   ]
  },
  {
   "cell_type": "code",
   "execution_count": 13,
   "id": "4cc20318-d551-49f7-8838-c6c5f1d375ba",
   "metadata": {},
   "outputs": [
    {
     "name": "stdout",
     "output_type": "stream",
     "text": [
      "('c', 'o', 'm', 'p')\n",
      "('o', 'm', 'p', 'u')\n",
      "('m', 'p', 'u', 't')\n",
      "('p', 'u', 't', 'e')\n",
      "('u', 't', 'e', 'r')\n"
     ]
    }
   ],
   "source": [
    "for window in sliding_window('computer', 4):\n",
    "    print(window) "
   ]
  },
  {
   "cell_type": "markdown",
   "id": "8f97214d-01d5-418b-baf2-9459f0d1b552",
   "metadata": {},
   "source": [
    "# Chunking text using generators"
   ]
  },
  {
   "cell_type": "code",
   "execution_count": 14,
   "id": "63481fb0-917b-44ed-970c-4d984af0b784",
   "metadata": {},
   "outputs": [],
   "source": [
    "import re"
   ]
  },
  {
   "cell_type": "code",
   "execution_count": 17,
   "id": "8c147e8c-a294-4182-8f17-e82a6678c1cf",
   "metadata": {},
   "outputs": [],
   "source": [
    "def chunk_paragraph(para, chunk_size, include_index=True):\n",
    "    # Split the text in sentences\n",
    "    pattern = r'[^.?!]*[.!?]'\n",
    "    sentences = re.findall(pattern, para)\n",
    "\n",
    "    # remove whitespaces from sentences\n",
    "    sentences = [s.strip() for s in sentences if s.strip()]\n",
    "\n",
    "    # yield the chunks\n",
    "    for i in range(0, len(sentences), chunk_size):\n",
    "        chunk = \" \".join(sentences[i:i + chunk_size])\n",
    "        if(include_index):\n",
    "            yield f\"Chunk {(i//chunk_size) + 1 } : {chunk}\"\n",
    "        else:\n",
    "            yield chunk"
   ]
  },
  {
   "cell_type": "code",
   "execution_count": 18,
   "id": "31e6b62c-e24d-4835-af89-0a09c8eeaf5f",
   "metadata": {},
   "outputs": [
    {
     "name": "stdout",
     "output_type": "stream",
     "text": [
      "Chunk 1 : Python is easy to learn. It is also powerful!\n",
      "Chunk 2 : Many developers love it. Do you use it daily?\n",
      "Chunk 3 : It is used in data science, web development, and automation.\n"
     ]
    }
   ],
   "source": [
    "text = (\n",
    "    \"Python is easy to learn. It is also powerful! \"\n",
    "    \"Many developers love it. Do you use it daily? \"\n",
    "    \"It is used in data science, web development, and automation.\"\n",
    ")\n",
    "\n",
    "for chunk in chunk_paragraph(text, chunk_size=2, include_index=True):\n",
    "    print(chunk)"
   ]
  },
  {
   "cell_type": "code",
   "execution_count": null,
   "id": "7a94258c-b71d-4fbc-80d5-0080a0c06e62",
   "metadata": {},
   "outputs": [],
   "source": []
  }
 ],
 "metadata": {
  "kernelspec": {
   "display_name": "Python 3 (ipykernel)",
   "language": "python",
   "name": "python3"
  },
  "language_info": {
   "codemirror_mode": {
    "name": "ipython",
    "version": 3
   },
   "file_extension": ".py",
   "mimetype": "text/x-python",
   "name": "python",
   "nbconvert_exporter": "python",
   "pygments_lexer": "ipython3",
   "version": "3.12.4"
  }
 },
 "nbformat": 4,
 "nbformat_minor": 5
}
