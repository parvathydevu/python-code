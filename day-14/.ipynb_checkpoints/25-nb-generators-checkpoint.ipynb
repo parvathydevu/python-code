{
 "cells": [
  {
   "cell_type": "markdown",
   "id": "29be8e1e-8c48-4f42-93f7-11c21a9b6a30",
   "metadata": {},
   "source": [
    "# Understanding generators"
   ]
  },
  {
   "cell_type": "code",
   "execution_count": 5,
   "id": "48254e20-4433-4f62-a5b9-3273d4d04b6b",
   "metadata": {},
   "outputs": [],
   "source": [
    "def get_values():\n",
    "    return [7,8,90,100,180]"
   ]
  },
  {
   "cell_type": "code",
   "execution_count": 6,
   "id": "5b728142-293b-496c-a28e-b9ed5b5b34b6",
   "metadata": {},
   "outputs": [
    {
     "name": "stdout",
     "output_type": "stream",
     "text": [
      "7 8 90 100 180 "
     ]
    }
   ],
   "source": [
    "for i in get_values():\n",
    "    print(i,end=' ')"
   ]
  },
  {
   "cell_type": "markdown",
   "id": "c1ea8cc5-ed87-4658-9e1e-3ce470b19262",
   "metadata": {},
   "source": [
    "# The yield keyword"
   ]
  },
  {
   "cell_type": "code",
   "execution_count": 16,
   "id": "e660f5d9-8ef5-4bf0-8e6a-153b0b0aff1c",
   "metadata": {},
   "outputs": [],
   "source": [
    "def get_values2():\n",
    "    L=[1,2,3,4,5]\n",
    "    for i in L:\n",
    "        yield i"
   ]
  },
  {
   "cell_type": "code",
   "execution_count": null,
   "id": "0bcb7519-e668-4b9d-8d5d-3866d3cf6109",
   "metadata": {},
   "outputs": [],
   "source": [
    "# The yield keyword in Python is used to turn a function into a generator. Generators are a special type of \n",
    "#iterator that allow you to iterate over a sequence of values, \n",
    "#but unlike regular functions that return a single value and terminate, generators can yield multiple value"
   ]
  },
  {
   "cell_type": "code",
   "execution_count": 37,
   "id": "44cff017-3e3a-4695-b4c3-013fe93d462f",
   "metadata": {},
   "outputs": [],
   "source": [
    "def get_values2():  #yield is a return statement\n",
    "    yield 1\n",
    "    yield 2\n",
    "    yield 3\n",
    "    yield 4 #it bassically all values inside the imaginary file,that values put into a imaginary file.\n",
    "    yield 5\n",
    "    yield 50"
   ]
  },
  {
   "cell_type": "code",
   "execution_count": 22,
   "id": "0ff71215-cecb-4260-96e3-e0a94733add9",
   "metadata": {},
   "outputs": [],
   "source": [
    "r=get_values2()"
   ]
  },
  {
   "cell_type": "code",
   "execution_count": 14,
   "id": "13736cea-9eae-4708-a366-efef02d2cbe5",
   "metadata": {},
   "outputs": [
    {
     "data": {
      "text/plain": [
       "<generator object get_values2 at 0x0000024551E09C70>"
      ]
     },
     "execution_count": 14,
     "metadata": {},
     "output_type": "execute_result"
    }
   ],
   "source": [
    "r"
   ]
  },
  {
   "cell_type": "code",
   "execution_count": 23,
   "id": "5a83108b-1c84-4fc3-9100-55ebf711070e",
   "metadata": {},
   "outputs": [
    {
     "name": "stdout",
     "output_type": "stream",
     "text": [
      "1 2 3 4 5 50 "
     ]
    }
   ],
   "source": [
    "for i in r:\n",
    "    print(i,end= ' ')"
   ]
  },
  {
   "cell_type": "markdown",
   "id": "5727dbe6-419f-45c9-8a6b-af0624acd4bc",
   "metadata": {},
   "source": [
    "# next keyword"
   ]
  },
  {
   "cell_type": "code",
   "execution_count": 32,
   "id": "adf6bfe1-6630-40c6-8a07-a98f8febe4bc",
   "metadata": {},
   "outputs": [],
   "source": [
    "r=get_values2()"
   ]
  },
  {
   "cell_type": "code",
   "execution_count": 33,
   "id": "604a1a33-0b45-4730-82b4-9ffe004fb991",
   "metadata": {},
   "outputs": [
    {
     "data": {
      "text/plain": [
       "1"
      ]
     },
     "execution_count": 33,
     "metadata": {},
     "output_type": "execute_result"
    }
   ],
   "source": [
    "next(r)"
   ]
  },
  {
   "cell_type": "code",
   "execution_count": 34,
   "id": "d94a0f38-298c-4939-a5f4-5d7fe146d0e9",
   "metadata": {},
   "outputs": [
    {
     "data": {
      "text/plain": [
       "2"
      ]
     },
     "execution_count": 34,
     "metadata": {},
     "output_type": "execute_result"
    }
   ],
   "source": [
    "next(r)"
   ]
  },
  {
   "cell_type": "code",
   "execution_count": 35,
   "id": "0628af7a-9520-4d0b-a6b7-17e8beaded91",
   "metadata": {},
   "outputs": [
    {
     "data": {
      "text/plain": [
       "3"
      ]
     },
     "execution_count": 35,
     "metadata": {},
     "output_type": "execute_result"
    }
   ],
   "source": [
    "next(r)"
   ]
  },
  {
   "cell_type": "code",
   "execution_count": 36,
   "id": "53f6cf68-6cce-4f94-a9ff-8d810f53e761",
   "metadata": {},
   "outputs": [
    {
     "name": "stdout",
     "output_type": "stream",
     "text": [
      "4\n",
      "5\n",
      "50\n"
     ]
    }
   ],
   "source": [
    "for i in r:\n",
    "    print(i)  #already taken 1,2,3 .. only we can generate one value at a time.discarded other number"
   ]
  },
  {
   "cell_type": "code",
   "execution_count": null,
   "id": "6ab9578e-641e-464f-97bb-a49003cbbff4",
   "metadata": {},
   "outputs": [],
   "source": [
    "Definition of generator :special type of generator ,lazy evalution of sequences without stoeing the entire sequences."
   ]
  },
  {
   "cell_type": "markdown",
   "id": "ba40fff5-b691-413e-b0e0-e5e66a9e46a6",
   "metadata": {},
   "source": [
    "# The yield"
   ]
  },
  {
   "cell_type": "code",
   "execution_count": 46,
   "id": "917b6371-6b05-46db-9066-efb536e59410",
   "metadata": {},
   "outputs": [],
   "source": [
    "import random\n",
    "def getseq():\n",
    "    t=random.randint(1,100)\n",
    "    yield t,t+1,t+2 #return a statement iterable"
   ]
  },
  {
   "cell_type": "code",
   "execution_count": 47,
   "id": "bdb8948f-3478-49cd-ae6d-e6c4ab506d60",
   "metadata": {},
   "outputs": [
    {
     "data": {
      "text/plain": [
       "<generator object getseq at 0x0000024551D83030>"
      ]
     },
     "execution_count": 47,
     "metadata": {},
     "output_type": "execute_result"
    }
   ],
   "source": [
    "getseq()"
   ]
  },
  {
   "cell_type": "code",
   "execution_count": 50,
   "id": "6cafa214-d45f-4f60-a865-6b6ab95d714a",
   "metadata": {},
   "outputs": [
    {
     "data": {
      "text/plain": [
       "(91, 92, 93)"
      ]
     },
     "execution_count": 50,
     "metadata": {},
     "output_type": "execute_result"
    }
   ],
   "source": [
    "next(getseq())  #got different values using next"
   ]
  },
  {
   "cell_type": "code",
   "execution_count": 49,
   "id": "7aadcc2c-a6bb-49a6-91c9-b0c1ad2825b6",
   "metadata": {},
   "outputs": [
    {
     "data": {
      "text/plain": [
       "(42, 43, 44)"
      ]
     },
     "execution_count": 49,
     "metadata": {},
     "output_type": "execute_result"
    }
   ],
   "source": [
    "next(getseq())"
   ]
  },
  {
   "cell_type": "markdown",
   "id": "00e6a5e6-035d-4b28-b681-b78de7a61931",
   "metadata": {},
   "source": [
    "# Fibanocci "
   ]
  },
  {
   "cell_type": "code",
   "execution_count": 57,
   "id": "9d51572d-522a-4e62-aa40-49ecf3fc5d6c",
   "metadata": {},
   "outputs": [],
   "source": [
    "def fib(n):\n",
    "    a,b=0,1\n",
    "    for i in range(n):\n",
    "        yield a\n",
    "        a,b=b,a+b"
   ]
  },
  {
   "cell_type": "code",
   "execution_count": 52,
   "id": "5116027e-740e-489e-81e7-29e4c773f110",
   "metadata": {},
   "outputs": [
    {
     "name": "stdout",
     "output_type": "stream",
     "text": [
      "0\n",
      "1\n",
      "1\n",
      "2\n",
      "3\n",
      "5\n",
      "8\n",
      "13\n",
      "21\n"
     ]
    }
   ],
   "source": [
    "for num in fib(9):\n",
    "    print(num)"
   ]
  },
  {
   "cell_type": "code",
   "execution_count": 56,
   "id": "470ee7a9-6b7f-42cc-a7bb-c23827fdd5d1",
   "metadata": {},
   "outputs": [
    {
     "ename": "TypeError",
     "evalue": "'int' object is not an iterator",
     "output_type": "error",
     "traceback": [
      "\u001b[1;31m---------------------------------------------------------------------------\u001b[0m",
      "\u001b[1;31mTypeError\u001b[0m                                 Traceback (most recent call last)",
      "Cell \u001b[1;32mIn[56], line 2\u001b[0m\n\u001b[0;32m      1\u001b[0m \u001b[38;5;28;01mfor\u001b[39;00m i \u001b[38;5;129;01min\u001b[39;00m \u001b[38;5;28mrange\u001b[39m(\u001b[38;5;241m9\u001b[39m):\n\u001b[1;32m----> 2\u001b[0m     \u001b[38;5;28mprint\u001b[39m(\u001b[38;5;28mnext\u001b[39m(i))\n",
      "\u001b[1;31mTypeError\u001b[0m: 'int' object is not an iterator"
     ]
    }
   ],
   "source": [
    "for i in range(9):\n",
    "    print(next(i))  #no need of using next , as for loop by default "
   ]
  },
  {
   "cell_type": "code",
   "execution_count": null,
   "id": "7c549b03-a2a3-4836-be03-752d1c317483",
   "metadata": {},
   "outputs": [],
   "source": [
    "#The __iter__ method in Python is a special method used to make an object iterable.\n",
    "When you define the __iter__ method in a class, you are essentially telling Python that instances of this class \n",
    "can be used in iteration contexts, such as in a for loop."
   ]
  },
  {
   "cell_type": "code",
   "execution_count": 58,
   "id": "67c5f4e5-66a4-4da6-9531-0a3d4145df56",
   "metadata": {},
   "outputs": [
    {
     "name": "stdout",
     "output_type": "stream",
     "text": [
      "1\n",
      "2\n",
      "3\n",
      "4\n"
     ]
    }
   ],
   "source": [
    "class MyIterable:\n",
    "    def __init__(self, data):\n",
    "        self.data = data\n",
    "\n",
    "    def __iter__(self):\n",
    "        self.index = 0\n",
    "        return self\n",
    "\n",
    "    def __next__(self):\n",
    "        if self.index < len(self.data):\n",
    "            result = self.data[self.index]\n",
    "            self.index += 1\n",
    "            return result\n",
    "        else:\n",
    "            raise StopIteration\n",
    "\n",
    "# Example usage:\n",
    "my_iterable = MyIterable([1, 2, 3, 4])\n",
    "for item in my_iterable:\n",
    "    print(item)"
   ]
  },
  {
   "cell_type": "code",
   "execution_count": null,
   "id": "c2c64bf6-331a-4146-a15b-06e039260e0b",
   "metadata": {},
   "outputs": [],
   "source": [
    "''__iter__ Method:\n",
    "\n",
    "Purpose: The __iter__ method is used to initialize the iteration. It should return the iterator object itself.\n",
    "When Called: This method is called when an iteration is initialized, such as when a for loop starts.\n",
    "Implementation: Typically, it sets up any necessary state for the iteration and returns the iterator object (usually self)'''"
   ]
  },
  {
   "cell_type": "code",
   "execution_count": null,
   "id": "e801b985-06e6-456c-a924-bff75f0532dd",
   "metadata": {},
   "outputs": [],
   "source": [
    "'''_next__ Method:\n",
    "\n",
    "Purpose: The __next__ method is used to retrieve the next item in the sequence. It should return the next value and raise a \n",
    "StopIteration exception when there are no more items to return.\n",
    "When Called: This method is called repeatedly by the iterator protocol to get each item in the sequence.\n",
    "Implementation: It defines how to move to the next item and what to return. When the sequence is exhausted, it raises StopIteration.'''"
   ]
  }
 ],
 "metadata": {
  "kernelspec": {
   "display_name": "Python 3 (ipykernel)",
   "language": "python",
   "name": "python3"
  },
  "language_info": {
   "codemirror_mode": {
    "name": "ipython",
    "version": 3
   },
   "file_extension": ".py",
   "mimetype": "text/x-python",
   "name": "python",
   "nbconvert_exporter": "python",
   "pygments_lexer": "ipython3",
   "version": "3.12.4"
  }
 },
 "nbformat": 4,
 "nbformat_minor": 5
}
