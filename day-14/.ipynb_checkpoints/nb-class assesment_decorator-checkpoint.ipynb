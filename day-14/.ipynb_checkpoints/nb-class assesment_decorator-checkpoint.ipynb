{
 "cells": [
  {
   "cell_type": "code",
   "execution_count": null,
   "id": "5bcabc82-a421-4a65-aa15-e7572e66dff6",
   "metadata": {},
   "outputs": [],
   "source": [
    "''' Problem Statement #1:\n",
    "--------------------------------------------------------\n",
    "\n",
    "Write a decorator called @log_function that prints the name of the \n",
    "function being called and its arguments before executing it.\n",
    "\n",
    "@log_function\n",
    "def greet(name):\n",
    "    print(f\"Hello, {name}!\")\n",
    "\n",
    "greet(\"Alice\") \n",
    "\n",
    "# Output: \n",
    "# Calling function: greet \n",
    "# Arguments: 'Alice'\n",
    "# Hello, Alice. How are you today?'''"
   ]
  },
  {
   "cell_type": "code",
   "execution_count": 18,
   "id": "c5abede7-86e7-4cd1-b22d-34416b6bd389",
   "metadata": {},
   "outputs": [
    {
     "ename": "IndentationError",
     "evalue": "unindent does not match any outer indentation level (<string>, line 4)",
     "output_type": "error",
     "traceback": [
      "\u001b[1;36m  File \u001b[1;32m<string>:4\u001b[1;36m\u001b[0m\n\u001b[1;33m    def wrapper(inputstr):\u001b[0m\n\u001b[1;37m                          ^\u001b[0m\n\u001b[1;31mIndentationError\u001b[0m\u001b[1;31m:\u001b[0m unindent does not match any outer indentation level\n"
     ]
    }
   ],
   "source": [
    "def log_function(funcobj):# decorator function\n",
    "    return\"Before executing the argument:\"\n",
    "\n",
    "  def wrapper(inputstr):\n",
    "      arg=f\"Hello,{inputstr} + .How are you today?\"\n",
    "      return funcobj(inputstr)\n",
    "  return wrapper\n",
    "\n",
    "\n",
    "# greet = log_function(greet)\n",
    "\n",
    "@log_function\n",
    "def greet(name):\n",
    "    print(f\"Hello, {name}!\")\n",
    "\n",
    "print(greet(\"Alice\"))\n",
    "\n",
    "# -------------------------------------------"
   ]
  },
  {
   "cell_type": "code",
   "execution_count": 10,
   "id": "2756d9e8-444c-4779-a9de-f9d10cc6de12",
   "metadata": {},
   "outputs": [
    {
     "name": "stdout",
     "output_type": "stream",
     "text": [
      "Hello, Alice. How are you today?\n"
     ]
    }
   ],
   "source": [
    "def log_function(funcobj):  # decorator function\n",
    "    def wrapper(inputstr):  # wrapper function\n",
    "        arg = f\"Hello, {inputstr}. How are you today?\"\n",
    "        return arg\n",
    "    return wrapper\n",
    "\n",
    "@log_function\n",
    "def greet(name):\n",
    "    print(f\"Hello, {name}!\")\n",
    "\n",
    "# -------------------------------------------\n",
    "\n",
    "print(greet(\"Alice\"))"
   ]
  },
  {
   "cell_type": "code",
   "execution_count": 32,
   "id": "2041430b-fb45-4ec3-835c-b8d2baa85486",
   "metadata": {},
   "outputs": [
    {
     "name": "stdout",
     "output_type": "stream",
     "text": [
      "Calling function: greet\n",
      "Arguments: ('Alice',)\n",
      "Hello, Alice! How are you today?\n"
     ]
    }
   ],
   "source": [
    "def log_function(funcobj):  # decorator function\n",
    "    def wrapper(*args):  # wrapper function\n",
    "        print(f\"Calling function: {funcobj.__name__}\")  # print greet -- function name\n",
    "        print(f\"Arguments: {args}\")\n",
    "        result = funcobj(*args)\n",
    "        return f\"{result} How are you today?\"\n",
    "    return wrapper\n",
    "\n",
    "@log_function\n",
    "def greet(name):\n",
    "    return f\"Hello, {name}!\"\n",
    "\n",
    "# -------------------------------------------\n",
    "\n",
    "print(greet('Alice'))\n",
    "\n"
   ]
  },
  {
   "cell_type": "code",
   "execution_count": 45,
   "id": "22869291-a2dc-4534-ac52-ea0a9bfc07e1",
   "metadata": {},
   "outputs": [
    {
     "name": "stdout",
     "output_type": "stream",
     "text": [
      "greet\n",
      "Argument:('Alice',)\n",
      "Hello, Alice! How are you today?\n"
     ]
    }
   ],
   "source": [
    "def log_function(funcobj):  # decorator function\n",
    "    def wrapper(*args):  # wrapper function\n",
    "       # print(f\"Calling function: {funcobj.__name__}\")  # print greet -- function name\n",
    "        #print(f\"Arguments: {', '.join(map(str, args))}\")  # print arguments clearly\n",
    "        print( funcobj.__name__)\n",
    "        print(f\"Argument:{args}\")\n",
    "        result = funcobj(*args)\n",
    "        return f\"{result} How are you today?\"\n",
    "    return wrapper\n",
    "\n",
    "@log_function\n",
    "def greet(name):\n",
    "    return f\"Hello, {name}!\"\n",
    "\n",
    "# -------------------------------------------\n",
    "\n",
    "print(greet(\"Alice\"))"
   ]
  },
  {
   "cell_type": "code",
   "execution_count": 74,
   "id": "06737ee7-82dc-46c6-89b6-8bd642169620",
   "metadata": {},
   "outputs": [
    {
     "name": "stdout",
     "output_type": "stream",
     "text": [
      "12\n"
     ]
    }
   ],
   "source": [
    "def double_result(funcobj):\n",
    "    def wrapper(*args): #Wrapper run the add function--add() \n",
    "        result = funcobj(*args)\n",
    "        return result * 2\n",
    "    return wrapper\n",
    "\n",
    "@double_result\n",
    "def add(x, y):\n",
    "    return x + y\n",
    "\n",
    "# -------------------------------------------\n",
    "\n",
    "print(add(2, 4))  # Output: 14"
   ]
  },
  {
   "cell_type": "code",
   "execution_count": 75,
   "id": "d04e75b7-f7b1-45a8-b6f1-c372064f378a",
   "metadata": {},
   "outputs": [
    {
     "data": {
      "text/plain": [
       "14"
      ]
     },
     "execution_count": 75,
     "metadata": {},
     "output_type": "execute_result"
    }
   ],
   "source": [
    "a1=add(3,4)  #add() function pass to funcobj and inside the wrapper it will execute.\n",
    "a1"
   ]
  },
  {
   "cell_type": "code",
   "execution_count": null,
   "id": "0f3592d7-8024-42f2-b61a-e7cf4a9aabe1",
   "metadata": {},
   "outputs": [],
   "source": [
    "''' Write a decorator @timer that prints how long a function takes to execute.\n",
    "\n",
    "import time\n",
    "\n",
    "@timer\n",
    "def slow_function():\n",
    "    time.sleep(1)\n",
    "    print(\"Done!\")\n",
    "\n",
    "slow_function() # 1 seconds\n",
    "'''"
   ]
  },
  {
   "cell_type": "code",
   "execution_count": 50,
   "id": "7b1f4a2f-1dca-4a61-8193-91581763cea5",
   "metadata": {},
   "outputs": [],
   "source": [
    "import time\n",
    "def timer(funcObject):\n",
    "    def enhancer():\n",
    "        begin = time.time()  \n",
    "        for i in range(2):\n",
    "            print(\"Time calculation\")\n",
    "        end = time.time()\n",
    "        print(f\"Time taken : \", {end - begin})\n",
    "    return enhancer\n",
    " \n",
    "@timer\n",
    "def slow_function():\n",
    "    time.sleep(1)\n",
    "    print(\"Done!\")"
   ]
  },
  {
   "cell_type": "code",
   "execution_count": 48,
   "id": "53d3489c-710c-4b03-b69f-e0f6051946e0",
   "metadata": {},
   "outputs": [
    {
     "name": "stdout",
     "output_type": "stream",
     "text": [
      "Time calculation\n",
      "Time calculation\n",
      "Time taken :  {0.0}\n"
     ]
    }
   ],
   "source": [
    "slow_function()"
   ]
  },
  {
   "cell_type": "code",
   "execution_count": 66,
   "id": "b265dcf9-0ad8-4a79-b7f6-2fce15447884",
   "metadata": {},
   "outputs": [],
   "source": [
    "import time\n",
    "def timer(funcobj):\n",
    "    def enhancer():\n",
    "        begin =time.time()\n",
    "        for i in range (1):\n",
    "            print(\"Time calculation:\")\n",
    "        end=time.time()\n",
    "        print(f\"Time taken:{end-begin:.2f} seconds\")\n",
    "    return enhancer\n",
    "@timer\n",
    "def slow_function():\n",
    "    time.sleep(1)\n",
    "    print(\"Done!\")"
   ]
  },
  {
   "cell_type": "code",
   "execution_count": 67,
   "id": "f03c02f8-26ec-4b66-8dc5-f25dfa7ac300",
   "metadata": {},
   "outputs": [
    {
     "name": "stdout",
     "output_type": "stream",
     "text": [
      "Time calculation:\n",
      "Time taken:0.00 seconds\n"
     ]
    }
   ],
   "source": [
    "slow_function()"
   ]
  },
  {
   "cell_type": "code",
   "execution_count": 85,
   "id": "7949c14a-bcd4-42cd-b557-f0becb8e2d20",
   "metadata": {},
   "outputs": [],
   "source": [
    "#correct code\n",
    "import time\n",
    "def timer(funcobj):\n",
    "    def enhancer(*args,**kargs):\n",
    "        start =time.time()\n",
    "        result=funcobj(*args,**kargs)\n",
    "        end=time.time()\n",
    "        print(f\"{funcobj.__name__}\\nTime taken:{end-start:.2f} seconds\")  #give function name==funcobj.__name__  --> slow function()\n",
    "    return enhancer\n",
    "@timer\n",
    "def slow_function():\n",
    "    time.sleep(1)\n",
    "    print(\"Done!\")"
   ]
  },
  {
   "cell_type": "code",
   "execution_count": 86,
   "id": "934cda56-654d-4583-a81b-fa34c2b848dd",
   "metadata": {},
   "outputs": [
    {
     "name": "stdout",
     "output_type": "stream",
     "text": [
      "Done!\n",
      "slow_function\n",
      "Time taken:1.00 seconds\n"
     ]
    }
   ],
   "source": [
    "slow_function()"
   ]
  },
  {
   "cell_type": "markdown",
   "id": "952e121f-40d2-4584-ac49-ef3c80f0bf15",
   "metadata": {},
   "source": [
    "# Class Assignment"
   ]
  },
  {
   "cell_type": "code",
   "execution_count": null,
   "id": "acdfcf98-f857-419c-93b5-6129baba3307",
   "metadata": {},
   "outputs": [],
   "source": [
    "''' Write a decorator @requires_admin that allows access to a function only \n",
    "if the user is an admin.\n",
    "\n",
    "Example:\n",
    "\n",
    "@requires_admin\n",
    "def delete_data(user_role):\n",
    "    print(\"Data deleted.\")\n",
    "\n",
    "delete_data(\"admin\")      # Allowed\n",
    "delete_data(\"guest\")      # Denied'''"
   ]
  },
  {
   "cell_type": "code",
   "execution_count": 90,
   "id": "18613cb1-5a8c-49f3-8181-814e9a12a2bc",
   "metadata": {},
   "outputs": [],
   "source": [
    "def requires_admin(funcobj):\n",
    "    def wrapper(*args,**kargs):  #user role is key, admin/guest are Values..Key:value pair \n",
    "        print(args,dict[kargs])\n",
    "        \n",
    "        if dict(kargs)['user_role']!='admin':\n",
    "            print('Access Denied. Login as admin')\n",
    "        else:\n",
    "            return ('Access Granted')\n",
    "    return wrapper\n",
    "\n",
    "\n",
    "\n",
    "\n",
    "@requires_admin\n",
    "def delete_data(user_role):\n",
    "    print(\"Data deleted.\")"
   ]
  },
  {
   "cell_type": "code",
   "execution_count": 91,
   "id": "1c113a2d-36cd-47b8-a3f0-d57b94534d2a",
   "metadata": {},
   "outputs": [
    {
     "name": "stdout",
     "output_type": "stream",
     "text": [
      "() dict[{'user_role': 'admin'}]\n",
      "() dict[{'user_role': 'guest'}]\n",
      "Access Denied. Login as admin\n"
     ]
    }
   ],
   "source": [
    "delete_data(user_role=\"admin\")      # Allowed\n",
    "delete_data(user_role=\"guest\") "
   ]
  },
  {
   "cell_type": "markdown",
   "id": "53234620-9f8b-4906-adcc-d5c3f7b08be7",
   "metadata": {},
   "source": [
    "# The retry Decorator"
   ]
  },
  {
   "cell_type": "code",
   "execution_count": 99,
   "id": "28ae7dd9-52af-481f-b929-631b4e22fd6a",
   "metadata": {},
   "outputs": [
    {
     "ename": "TypeError",
     "evalue": "'NoneType' object is not callable",
     "output_type": "error",
     "traceback": [
      "\u001b[1;31m---------------------------------------------------------------------------\u001b[0m",
      "\u001b[1;31mTypeError\u001b[0m                                 Traceback (most recent call last)",
      "Cell \u001b[1;32mIn[99], line 13\u001b[0m\n\u001b[0;32m     11\u001b[0m                     \u001b[38;5;28;01mraise\u001b[39;00m \u001b[38;5;167;01mException\u001b[39;00m(\u001b[38;5;124m\"\u001b[39m\u001b[38;5;124mRetries Failed\u001b[39m\u001b[38;5;124m\"\u001b[39m)\n\u001b[0;32m     12\u001b[0m         \u001b[38;5;28;01mreturn\u001b[39;00m wrapper\n\u001b[1;32m---> 13\u001b[0m \u001b[38;5;129m@retry\u001b[39m(\u001b[38;5;241m3\u001b[39m)\n\u001b[0;32m     14\u001b[0m \u001b[38;5;28;01mdef\u001b[39;00m \u001b[38;5;21msomefunction\u001b[39m():\n\u001b[0;32m     15\u001b[0m     \u001b[38;5;28;01mif\u001b[39;00m random\u001b[38;5;241m.\u001b[39mrandom()\u001b[38;5;241m>\u001b[39m\u001b[38;5;241m0.7\u001b[39m:\n\u001b[0;32m     16\u001b[0m         \u001b[38;5;28;01mraise\u001b[39;00m \u001b[38;5;167;01mValueError\u001b[39;00m(\u001b[38;5;124m\"\u001b[39m\u001b[38;5;124mRandom value failure\u001b[39m\u001b[38;5;124m\"\u001b[39m)\n",
      "\u001b[1;31mTypeError\u001b[0m: 'NoneType' object is not callable"
     ]
    }
   ],
   "source": [
    "import random\n",
    "def retry(n):  #decorator function\n",
    "    def decorator(func):\n",
    "        def wrapper(*args,**kargs):  #wrapper function\n",
    "            for attempt in range(1,n+1):\n",
    "                try:\n",
    "                    print(f\"attempt :{attempt}.....\")\n",
    "                    return func(*args,**kargs)\n",
    "                except Exception as e:\n",
    "                    print(f\"failed: {e}\")\n",
    "                    raise Exception(\"Retries Failed\")\n",
    "        return wrapper\n",
    "@retry(3)\n",
    "def somefunction():\n",
    "    if random.random()>0.7:\n",
    "        raise ValueError(\"Random value failure\")\n",
    "    print(\"Function executed successfully\")"
   ]
  },
  {
   "cell_type": "code",
   "execution_count": 98,
   "id": "7338a288-7e9e-45bd-902a-b3287a0a5d60",
   "metadata": {},
   "outputs": [
    {
     "ename": "NameError",
     "evalue": "name 'somefunction' is not defined",
     "output_type": "error",
     "traceback": [
      "\u001b[1;31m---------------------------------------------------------------------------\u001b[0m",
      "\u001b[1;31mNameError\u001b[0m                                 Traceback (most recent call last)",
      "Cell \u001b[1;32mIn[98], line 1\u001b[0m\n\u001b[1;32m----> 1\u001b[0m somefunction()\n",
      "\u001b[1;31mNameError\u001b[0m: name 'somefunction' is not defined"
     ]
    }
   ],
   "source": [
    "somefunction()"
   ]
  },
  {
   "cell_type": "code",
   "execution_count": null,
   "id": "4f2668c1-e334-4d54-9d4a-47db849a438b",
   "metadata": {},
   "outputs": [],
   "source": []
  }
 ],
 "metadata": {
  "kernelspec": {
   "display_name": "Python 3 (ipykernel)",
   "language": "python",
   "name": "python3"
  },
  "language_info": {
   "codemirror_mode": {
    "name": "ipython",
    "version": 3
   },
   "file_extension": ".py",
   "mimetype": "text/x-python",
   "name": "python",
   "nbconvert_exporter": "python",
   "pygments_lexer": "ipython3",
   "version": "3.12.4"
  }
 },
 "nbformat": 4,
 "nbformat_minor": 5
}
