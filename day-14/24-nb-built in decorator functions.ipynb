{
 "cells": [
  {
   "cell_type": "markdown",
   "id": "ce4cdc8b-e3b7-429c-8f2f-d03a4dfce622",
   "metadata": {},
   "source": [
    "# Built-in decorators :@classmethod @staticmethod and @property"
   ]
  },
  {
   "cell_type": "code",
   "execution_count": 1,
   "id": "9777fa7c-a8f2-4b5a-8cc5-118a4ac82bd8",
   "metadata": {},
   "outputs": [],
   "source": [
    "class Rectangle:\n",
    "\n",
    "    def __init__(self, width, height):\n",
    "        self.width = width\n",
    "        self.height = height\n",
    "\n",
    "    def area(self):\n",
    "        return self.width * self.height\n",
    "\n",
    "    def from_string(cls, rect_str):\n",
    "        width, height = map(float, rect_str.split(\",\"))\n",
    "        return Rectangle(width, height)\n",
    "\n",
    "    from_string = classmethod(from_string) #class method\n",
    "\n",
    "    def is_equal(rect1, rect2):\n",
    "        return rect1.area() == rect2.area()\n",
    "\n",
    "    is_equal = staticmethod(is_equal) #static method"
   ]
  },
  {
   "cell_type": "code",
   "execution_count": 2,
   "id": "52a0498d-b8d2-4083-ad8d-72d2a400d4f8",
   "metadata": {},
   "outputs": [],
   "source": [
    "r1 = Rectangle(10, 5)\n",
    "r2 = Rectangle.from_string('5,10')"
   ]
  },
  {
   "cell_type": "code",
   "execution_count": 3,
   "id": "5ed25fc6-f699-472c-a3c8-a57c3959d19a",
   "metadata": {},
   "outputs": [
    {
     "data": {
      "text/plain": [
       "50"
      ]
     },
     "execution_count": 3,
     "metadata": {},
     "output_type": "execute_result"
    }
   ],
   "source": [
    "r1.area()"
   ]
  },
  {
   "cell_type": "code",
   "execution_count": 6,
   "id": "c825f033-81e6-4d4c-81f0-095204bba287",
   "metadata": {},
   "outputs": [
    {
     "data": {
      "text/plain": [
       "50.0"
      ]
     },
     "execution_count": 6,
     "metadata": {},
     "output_type": "execute_result"
    }
   ],
   "source": [
    "r2.area()"
   ]
  },
  {
   "cell_type": "code",
   "execution_count": 7,
   "id": "0f7ababb-6e1e-4122-91e1-9e28c2b3781a",
   "metadata": {},
   "outputs": [
    {
     "data": {
      "text/plain": [
       "True"
      ]
     },
     "execution_count": 7,
     "metadata": {},
     "output_type": "execute_result"
    }
   ],
   "source": [
    "Rectangle.is_equal(r1, r2)"
   ]
  },
  {
   "cell_type": "code",
   "execution_count": 8,
   "id": "0bff3229-d465-47cd-876f-a58de6a46ae9",
   "metadata": {},
   "outputs": [],
   "source": [
    "class Rectangle:\n",
    "\n",
    "    def __init__(self, width, height):\n",
    "        self.width = width\n",
    "        self.height = height\n",
    "\n",
    "    @property\n",
    "    def area(self):\n",
    "        return self.width * self.height\n",
    "\n",
    "    @classmethod\n",
    "    def from_string(cls, rect_str):\n",
    "        width, height = map(float, rect_str.split(\",\"))\n",
    "        return Rectangle(width, height)\n",
    "\n",
    "    # from_string = classmethod(from_string)\n",
    "\n",
    "    @staticmethod\n",
    "    def is_equal(rect1, rect2):\n",
    "        return rect1.area == rect2.area\n",
    "\n",
    "    # is_equal = staticmethod(is_equal)"
   ]
  },
  {
   "cell_type": "code",
   "execution_count": 9,
   "id": "fc88d038-563a-470d-9c80-e59515ea9842",
   "metadata": {},
   "outputs": [],
   "source": [
    "r1 = Rectangle(10, 5)\n",
    "r2 = Rectangle.from_string('5,10')"
   ]
  },
  {
   "cell_type": "code",
   "execution_count": 10,
   "id": "71e8e4ea-0cb4-4ef6-9dd2-9697dd0cc6aa",
   "metadata": {},
   "outputs": [
    {
     "data": {
      "text/plain": [
       "(50, 50.0)"
      ]
     },
     "execution_count": 10,
     "metadata": {},
     "output_type": "execute_result"
    }
   ],
   "source": [
    "r1.area, r2.area"
   ]
  },
  {
   "cell_type": "code",
   "execution_count": null,
   "id": "1a521d91-33e9-4e46-b0d3-f6dd97443441",
   "metadata": {},
   "outputs": [],
   "source": [
    "# The @wrap decorator for preserving metadata"
   ]
  },
  {
   "cell_type": "code",
   "execution_count": null,
   "id": "20b82dc6-6c05-485c-8ec3-a45b192ebb2d",
   "metadata": {},
   "outputs": [],
   "source": [
    "It is present in the module called functools. It preserves the original functions metadata"
   ]
  },
  {
   "cell_type": "code",
   "execution_count": 16,
   "id": "2ef0bdb1-d9f5-4539-9414-c07e6fee5119",
   "metadata": {},
   "outputs": [],
   "source": [
    "def log_function(func):\n",
    "\n",
    "    def wrapper(*args, **kargs):\n",
    "        print(f\"Calling -> {func.__name__} with args -> {args}, {kargs}\")\n",
    "        return func(*args, *kargs)\n",
    "\n",
    "    return wrapper"
   ]
  },
  {
   "cell_type": "code",
   "execution_count": 17,
   "id": "0dc74fe0-cb83-40cf-9810-dadfd1f5d764",
   "metadata": {},
   "outputs": [],
   "source": [
    "@log_function\n",
    "def greet(name):\n",
    "    \"\"\"This function greets a person\"\"\"\n",
    "    print(f\"Hello, {name}\")"
   ]
  },
  {
   "cell_type": "code",
   "execution_count": 19,
   "id": "3c11902d-c88f-4857-91eb-96f8db3c8ae6",
   "metadata": {},
   "outputs": [
    {
     "name": "stdout",
     "output_type": "stream",
     "text": [
      "Calling -> greet with args -> ('Paru',), {}\n",
      "Hello, Paru\n"
     ]
    }
   ],
   "source": [
    "greet('Paru')"
   ]
  },
  {
   "cell_type": "code",
   "execution_count": 20,
   "id": "d9528b84-0d29-44bf-87cb-5fe89a23b534",
   "metadata": {},
   "outputs": [
    {
     "name": "stdout",
     "output_type": "stream",
     "text": [
      "wrapper\n"
     ]
    }
   ],
   "source": [
    "print(greet.__name__)"
   ]
  },
  {
   "cell_type": "code",
   "execution_count": 21,
   "id": "ea33278c-2d09-4637-a1cf-caead04b2118",
   "metadata": {},
   "outputs": [
    {
     "name": "stdout",
     "output_type": "stream",
     "text": [
      "None\n"
     ]
    }
   ],
   "source": [
    "print(greet.__doc__)"
   ]
  },
  {
   "cell_type": "markdown",
   "id": "eaa4425d-00eb-4149-a9c4-5860ad97715c",
   "metadata": {},
   "source": [
    "# Let's redo with wraps()"
   ]
  },
  {
   "cell_type": "code",
   "execution_count": null,
   "id": "aac3acd5-7180-4cad-a6ac-84cdec08bfad",
   "metadata": {},
   "outputs": [],
   "source": [
    " wraps() is a decorator that is applied to the wrapper function of a decorator. \n",
    "It updates the wrapper function to look like wrapped function by copying attributes such as __name__, __doc__ (the docstring), etc."
   ]
  },
  {
   "cell_type": "code",
   "execution_count": 28,
   "id": "9615ac22-7437-435c-a17d-5328b06704cd",
   "metadata": {},
   "outputs": [],
   "source": [
    "from functools import wraps"
   ]
  },
  {
   "cell_type": "code",
   "execution_count": 119,
   "id": "240f3b86-b04c-478e-bf9d-78ea2b2a858c",
   "metadata": {},
   "outputs": [],
   "source": [
    "def log_function(func):\n",
    "\n",
    "    @wraps(func)\n",
    "    def wrapper(*args, **kargs):\n",
    "        print(f\"Calling -> {func.__name__} with args -> {args}, {kargs}\")\n",
    "        return func(*args, *kargs)\n",
    "\n",
    "    return wrapper"
   ]
  },
  {
   "cell_type": "code",
   "execution_count": 120,
   "id": "23175d86-4c22-4231-8043-ce5eebbb84d3",
   "metadata": {},
   "outputs": [],
   "source": [
    "@log_function\n",
    "def greet(name):\n",
    "    \"\"\"This function greets a person\"\"\"\n",
    "    print(f\"Hello, {name}\")"
   ]
  },
  {
   "cell_type": "code",
   "execution_count": 121,
   "id": "7af2b651-d1e2-4d95-bed5-7846ac94901e",
   "metadata": {},
   "outputs": [
    {
     "name": "stdout",
     "output_type": "stream",
     "text": [
      "Calling -> greet with args -> ('Devika',), {}\n",
      "Hello, Devika\n"
     ]
    }
   ],
   "source": [
    "greet(\"Devika\")"
   ]
  },
  {
   "cell_type": "code",
   "execution_count": 27,
   "id": "7d45c690-c3ae-440d-ae68-56a4c58515d1",
   "metadata": {},
   "outputs": [
    {
     "name": "stdout",
     "output_type": "stream",
     "text": [
      "wrapper\n"
     ]
    }
   ],
   "source": [
    "print(greet.__name__)"
   ]
  },
  {
   "cell_type": "code",
   "execution_count": 31,
   "id": "9610bf73-98a6-43e4-b82a-8fce00643c38",
   "metadata": {},
   "outputs": [
    {
     "name": "stdout",
     "output_type": "stream",
     "text": [
      "This function greets a person\n"
     ]
    }
   ],
   "source": [
    "print(greet.__doc__)"
   ]
  },
  {
   "cell_type": "code",
   "execution_count": 4,
   "id": "399a7642-57a9-4bce-97c9-8f4f7c819995",
   "metadata": {},
   "outputs": [
    {
     "name": "stdout",
     "output_type": "stream",
     "text": [
      "wrapper\n",
      "A wrapper function\n",
      "wrapper\n",
      "A wrapper function\n"
     ]
    }
   ],
   "source": [
    "def a_decorator(func):\n",
    "\tdef wrapper(*args, **kwargs):\n",
    "\t\t\"\"\"A wrapper function\"\"\"\n",
    "\t\t# Extend some capabilities of func\n",
    "\t\tfunc()\n",
    "\treturn wrapper\n",
    "\n",
    "@a_decorator\n",
    "def first_function():\n",
    "\t\"\"\"This is docstring for first function\"\"\"\n",
    "\tprint(\"first function\")\n",
    "\n",
    "@a_decorator\n",
    "def second_function(a):\n",
    "\t\"\"\"This is docstring for second function\"\"\"\n",
    "\tprint(\"second function\")\n",
    "\n",
    "print(first_function.__name__)\n",
    "print(first_function.__doc__)\n",
    "print(second_function.__name__)\n",
    "print(second_function.__doc__)\n"
   ]
  },
  {
   "cell_type": "markdown",
   "id": "35977f47-bff1-4720-8b5b-a7cc4357ba33",
   "metadata": {},
   "source": [
    "# Exercises"
   ]
  },
  {
   "cell_type": "code",
   "execution_count": null,
   "id": "c428845d-4608-4d69-8442-24511d51b88e",
   "metadata": {},
   "outputs": [],
   "source": [
    "''' Create a Python class called Circle that represents a circle. The class should allow the following:\n",
    "\n",
    "Use @property to return the circumference of the circle using the formula 2 * π * radius.\n",
    "\n",
    "Use @classmethod to create a Circle instance from a diameter.\n",
    "\n",
    "Use @staticmethod to check if a given value is a valid radius (i.e., a positive number).'''"
   ]
  },
  {
   "cell_type": "code",
   "execution_count": 96,
   "id": "0c98d48a-eaac-48ca-be5e-05314d6cbbd6",
   "metadata": {},
   "outputs": [],
   "source": [
    "class Circle:\n",
    "    #constructor\n",
    "    def __init__(self,radius):\n",
    "        self.radius=radius\n",
    "        self.pi=3.14\n",
    "    @property\n",
    "    def circumference(self):\n",
    "        return 2 * self.pi * self.radius\n",
    "\n",
    "    @classmethod\n",
    "    def from_diameter(cls,d):\n",
    "        radius=d/2\n",
    "        return Circle(radius)  #cicrcle(r)\n",
    "\n",
    "    @staticmethod\n",
    "    def is_valid_radius(rad):\n",
    "        if rad>0:\n",
    "            return True\n",
    "        return False\n",
    "    \n",
    "    "
   ]
  },
  {
   "cell_type": "code",
   "execution_count": 97,
   "id": "bbb494ff-431a-4302-a721-a29691f14745",
   "metadata": {},
   "outputs": [],
   "source": [
    "c1 = Circle(5)\n",
    "c2 = Circle.from_diameter(4)"
   ]
  },
  {
   "cell_type": "code",
   "execution_count": 98,
   "id": "5dabe40a-c899-4e7f-bd28-3e0645e58dd0",
   "metadata": {},
   "outputs": [
    {
     "data": {
      "text/plain": [
       "(31.400000000000002, 12.56)"
      ]
     },
     "execution_count": 98,
     "metadata": {},
     "output_type": "execute_result"
    }
   ],
   "source": [
    "c1.circumference, c2.circumference"
   ]
  },
  {
   "cell_type": "code",
   "execution_count": 58,
   "id": "2bb621f3-2fce-4619-b83e-ce079ab58cdd",
   "metadata": {},
   "outputs": [
    {
     "data": {
      "text/plain": [
       "False"
      ]
     },
     "execution_count": 58,
     "metadata": {},
     "output_type": "execute_result"
    }
   ],
   "source": [
    "c1.is_valid_radius(-1)"
   ]
  },
  {
   "cell_type": "code",
   "execution_count": 67,
   "id": "3ab346d7-5846-4f5f-915b-ba48e6ab09f5",
   "metadata": {},
   "outputs": [],
   "source": [
    "c3 = Circle(3)\n",
    "c4 = Circle.from_diameter(6)"
   ]
  },
  {
   "cell_type": "code",
   "execution_count": 69,
   "id": "e0e08d60-9e57-4d31-a895-71c3ae4691c9",
   "metadata": {},
   "outputs": [
    {
     "data": {
      "text/plain": [
       "(18.84, 18.84)"
      ]
     },
     "execution_count": 69,
     "metadata": {},
     "output_type": "execute_result"
    }
   ],
   "source": [
    "c3.circumference, c4.circumference"
   ]
  },
  {
   "cell_type": "code",
   "execution_count": null,
   "id": "30b5069c-83c8-49e2-93ca-828a53eab06b",
   "metadata": {},
   "outputs": [],
   "source": [
    "''' Create a class called BankAccount to represent a user’s bank account. \n",
    "The class should allow the following:\n",
    "\n",
    "Use @property to return the current balance with a message like \"Your balance is ₹5000\".\n",
    "\n",
    "Use @classmethod to create a BankAccount from a dictionary containing account details like:\n",
    "{\"name\": \"Alice\", \"balance\": 10000}\n",
    "\n",
    "Use @staticmethod to check if a given withdrawal amount is valid, i.e., \n",
    "it must be a positive number and less than or equal to the current balance.'''"
   ]
  },
  {
   "cell_type": "code",
   "execution_count": 74,
   "id": "4b1daf4b-8abb-41e8-a067-137b645c9960",
   "metadata": {},
   "outputs": [],
   "source": [
    "class BankAccount:\n",
    "    def __init__(self,balance):\n",
    "        self.balance=balance\n",
    "    @property\n",
    "    def get_balance(self):\n",
    "        return f\"Your balance is ₹{self._balance}\"\n",
    "\n",
    "    @classmethod\n",
    "    def from_dict(cls, name):\n",
    "        return BankAccount((name,self.balance))\n",
    "\n",
    "    @staticmethod\n",
    "    def is_valid_withdrawal(amount, current_balance):\n",
    "        if amount>0 and amount<=current_balance:\n",
    "            return True\n",
    "        return False\n",
    "        #return amount > 0 and amount <= current_balance\n",
    "        "
   ]
  },
  {
   "cell_type": "code",
   "execution_count": 75,
   "id": "496154af-ec02-487b-be7d-2349f5beb2c5",
   "metadata": {},
   "outputs": [
    {
     "ename": "NameError",
     "evalue": "name 'self' is not defined",
     "output_type": "error",
     "traceback": [
      "\u001b[1;31m---------------------------------------------------------------------------\u001b[0m",
      "\u001b[1;31mNameError\u001b[0m                                 Traceback (most recent call last)",
      "Cell \u001b[1;32mIn[75], line 2\u001b[0m\n\u001b[0;32m      1\u001b[0m b1 \u001b[38;5;241m=\u001b[39m BankAccount(\u001b[38;5;241m5000\u001b[39m)\n\u001b[1;32m----> 2\u001b[0m b2 \u001b[38;5;241m=\u001b[39m BankAccount\u001b[38;5;241m.\u001b[39mfrom_dict(\u001b[38;5;124m\"\u001b[39m\u001b[38;5;124mAlice\u001b[39m\u001b[38;5;124m\"\u001b[39m)\n",
      "Cell \u001b[1;32mIn[74], line 10\u001b[0m, in \u001b[0;36mBankAccount.from_dict\u001b[1;34m(cls, name)\u001b[0m\n\u001b[0;32m      8\u001b[0m \u001b[38;5;129m@classmethod\u001b[39m\n\u001b[0;32m      9\u001b[0m \u001b[38;5;28;01mdef\u001b[39;00m \u001b[38;5;21mfrom_dict\u001b[39m(\u001b[38;5;28mcls\u001b[39m, name):\n\u001b[1;32m---> 10\u001b[0m     \u001b[38;5;28;01mreturn\u001b[39;00m BankAccount((name,\u001b[38;5;28mself\u001b[39m\u001b[38;5;241m.\u001b[39mbalance))\n",
      "\u001b[1;31mNameError\u001b[0m: name 'self' is not defined"
     ]
    }
   ],
   "source": [
    "b1 = BankAccount(5000)\n",
    "b2 = BankAccount.from_dict(\"Alice\")  #obj-functionname.classfunction(arguments)"
   ]
  },
  {
   "cell_type": "code",
   "execution_count": 1,
   "id": "7df32c77-f21e-4a7c-811b-6c867f9587c9",
   "metadata": {},
   "outputs": [],
   "source": [
    "class BankAccount:\n",
    "    def __init__(self, name, balance=0):  #same attributes name balance apssd to from_dict\n",
    "        self.name = name\n",
    "        self._balance = balance #The line self._balance = balance is typically used in a class to set the value of a private attribute _balance to the value passed in the balance parameter. T\n",
    "        #This is often done in the __init__ method of a class to initialize the object's state.\n",
    "\n",
    "    @property\n",
    "    def balance(self):\n",
    "        return f\"{self.name}: balance is ₹{self._balance}\"\n",
    "\n",
    "    @classmethod\n",
    "    def from_dict(cls, account_details):  #it is dictionary d[0]=name,d[1]=balance-\n",
    "        return BankAccount(account_details[\"name\"], account_details[\"balance\"])\n",
    "\n",
    "    @staticmethod\n",
    "    def is_valid_withdrawal(amount, current_balance):\n",
    "        return amount > 0 and amount <= current_balance"
   ]
  },
  {
   "cell_type": "code",
   "execution_count": 2,
   "id": "9ad40be4-0a9b-4043-9996-bcc06308c725",
   "metadata": {},
   "outputs": [
    {
     "data": {
      "text/plain": [
       "'Alice: balance is ₹10000'"
      ]
     },
     "execution_count": 2,
     "metadata": {},
     "output_type": "execute_result"
    }
   ],
   "source": [
    "# Example usage:\n",
    "a1 = BankAccount(\"Alice\", 10000)\n",
    "a1.balance  # Output: Your balance is ₹10000"
   ]
  },
  {
   "cell_type": "code",
   "execution_count": 3,
   "id": "c76f2223-2bbf-4109-b0fa-d484fa3780af",
   "metadata": {},
   "outputs": [
    {
     "data": {
      "text/plain": [
       "'Alice: balance is ₹2000'"
      ]
     },
     "execution_count": 3,
     "metadata": {},
     "output_type": "execute_result"
    }
   ],
   "source": [
    "a2= BankAccount.from_dict({\"name\": \"Alice\", \"balance\": 2000})\n",
    "a2.balance"
   ]
  },
  {
   "cell_type": "code",
   "execution_count": 117,
   "id": "af982b83-7675-4a3f-b48e-e970c9f6d8ac",
   "metadata": {},
   "outputs": [],
   "source": [
    "a3=BankAccount.is_valid_withdrawal(500, 5600)  # Output: True\n",
    "a4=BankAccount.is_valid_withdrawal(200,20)  # Output: False"
   ]
  },
  {
   "cell_type": "code",
   "execution_count": 115,
   "id": "d06a2956-784a-4625-bc73-28796c95340d",
   "metadata": {},
   "outputs": [
    {
     "data": {
      "text/plain": [
       "True"
      ]
     },
     "execution_count": 115,
     "metadata": {},
     "output_type": "execute_result"
    }
   ],
   "source": [
    "a3"
   ]
  },
  {
   "cell_type": "code",
   "execution_count": 116,
   "id": "1ac3f004-7d1e-4fb8-b64f-0c1095fb0b9e",
   "metadata": {},
   "outputs": [
    {
     "data": {
      "text/plain": [
       "False"
      ]
     },
     "execution_count": 116,
     "metadata": {},
     "output_type": "execute_result"
    }
   ],
   "source": [
    "a4"
   ]
  },
  {
   "cell_type": "code",
   "execution_count": 9,
   "id": "cad5ccad-084f-426d-b736-39e567f406ed",
   "metadata": {},
   "outputs": [
    {
     "name": "stdout",
     "output_type": "stream",
     "text": [
      "a\n",
      "b\n",
      "c\n"
     ]
    }
   ],
   "source": [
    "def func(my_dict):\n",
    "    for key in my_dict.keys():\n",
    "        print(key)\n",
    "       #for value in my_dict.values():\n",
    "           # print(value)'''\n",
    "\n",
    "my_dict={'a':5,'b':6,'c':7}\n",
    "func(my_dict)  "
   ]
  },
  {
   "cell_type": "code",
   "execution_count": 11,
   "id": "e1165df0-82c1-4d38-876d-e145431465d4",
   "metadata": {},
   "outputs": [
    {
     "name": "stdout",
     "output_type": "stream",
     "text": [
      "a\n",
      "5\n",
      "6\n",
      "7\n",
      "b\n",
      "5\n",
      "6\n",
      "7\n",
      "c\n",
      "5\n",
      "6\n",
      "7\n"
     ]
    }
   ],
   "source": [
    "def func(my_dict):\n",
    "    for key in my_dict.keys():\n",
    "        print(key)\n",
    "        for value in my_dict.values():\n",
    "            print(value)\n",
    "\n",
    "my_dict={'a':5,'b':6,'c':7}\n",
    "func(my_dict)  "
   ]
  },
  {
   "cell_type": "code",
   "execution_count": 12,
   "id": "15246722-56fb-48fc-b53c-31cad231edc0",
   "metadata": {},
   "outputs": [
    {
     "name": "stdout",
     "output_type": "stream",
     "text": [
      "a: 5\n",
      "b: 6\n",
      "c: 7\n"
     ]
    }
   ],
   "source": [
    "for key, value in my_dict.items():\n",
    "    print(f\"{key}: {value}\")"
   ]
  },
  {
   "cell_type": "code",
   "execution_count": null,
   "id": "ba8913d0-f8e0-44d9-950f-b1dd7d7644d4",
   "metadata": {},
   "outputs": [],
   "source": []
  }
 ],
 "metadata": {
  "kernelspec": {
   "display_name": "Python 3 (ipykernel)",
   "language": "python",
   "name": "python3"
  },
  "language_info": {
   "codemirror_mode": {
    "name": "ipython",
    "version": 3
   },
   "file_extension": ".py",
   "mimetype": "text/x-python",
   "name": "python",
   "nbconvert_exporter": "python",
   "pygments_lexer": "ipython3",
   "version": "3.12.4"
  }
 },
 "nbformat": 4,
 "nbformat_minor": 5
}
