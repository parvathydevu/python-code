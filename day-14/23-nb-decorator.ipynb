{
 "cells": [
  {
   "cell_type": "markdown",
   "id": "d87aeddb-e2f3-42c3-9f7f-6d040cf97906",
   "metadata": {},
   "source": [
    "# 23.1 How to write a decorator?"
   ]
  },
  {
   "cell_type": "code",
   "execution_count": 22,
   "id": "8c851416-2e1a-483e-87cb-73ec9df52dfa",
   "metadata": {},
   "outputs": [],
   "source": [
    "def getfunc(choice):\n",
    "\n",
    "    def checkodd(n):\n",
    "        return n % 2 == 0\n",
    "\n",
    "    def checkeven(n):\n",
    "        return n % 2 != 0\n",
    "\n",
    "    if(choice):\n",
    "        return checkodd\n",
    "    else:\n",
    "        return checkeven\n",
    "\n",
    "# ------------------------------------------------\n"
   ]
  },
  {
   "cell_type": "code",
   "execution_count": 19,
   "id": "663d2404-1452-4b81-8d25-30a6eac8ca06",
   "metadata": {},
   "outputs": [
    {
     "name": "stdout",
     "output_type": "stream",
     "text": [
      "True False\n"
     ]
    }
   ],
   "source": [
    "f = getfunc(1)\n",
    "print(f(100), f(101))"
   ]
  },
  {
   "cell_type": "code",
   "execution_count": 21,
   "id": "0f09ee70-50ec-4c89-949f-abbd9ff3c9a0",
   "metadata": {},
   "outputs": [
    {
     "name": "stdout",
     "output_type": "stream",
     "text": [
      "False False\n"
     ]
    }
   ],
   "source": [
    "g = getfunc(2)\n",
    "print(g(9), f(101))"
   ]
  },
  {
   "cell_type": "code",
   "execution_count": 6,
   "id": "8fef036e-0a07-44ec-9404-67c130b9284d",
   "metadata": {},
   "outputs": [],
   "source": [
    "def modifystring(s):\n",
    "    return ' '.join(list(s.upper()))"
   ]
  },
  {
   "cell_type": "code",
   "execution_count": 7,
   "id": "b6745499-d875-400f-8074-5a4d3bed1ec0",
   "metadata": {},
   "outputs": [
    {
     "data": {
      "text/plain": [
       "'A P P L E S'"
      ]
     },
     "execution_count": 7,
     "metadata": {},
     "output_type": "execute_result"
    }
   ],
   "source": [
    "modifystring(\"Apples\")"
   ]
  },
  {
   "cell_type": "code",
   "execution_count": 10,
   "id": "8e70201f-abe5-4884-9dca-d64854c2d6ae",
   "metadata": {},
   "outputs": [
    {
     "data": {
      "text/plain": [
       "['n', 'g', 'o', 'M', 'a']"
      ]
     },
     "execution_count": 10,
     "metadata": {},
     "output_type": "execute_result"
    }
   ],
   "source": [
    "import random\n",
    "s=list(\"Mango\")\n",
    "random.shuffle(s)\n",
    "s"
   ]
  },
  {
   "cell_type": "code",
   "execution_count": 12,
   "id": "32b95ae0-12cb-4c7e-8d11-4e9ff2f36e3e",
   "metadata": {},
   "outputs": [
    {
     "name": "stdout",
     "output_type": "stream",
     "text": [
      "A P P L E S\n",
      "---> <function jumble.<locals>.wrapper at 0x0000029AD3242700>\n",
      "A P P S E L\n"
     ]
    },
    {
     "data": {
      "text/plain": [
       "'\\n\\nA P P L E S\\n\\nP L A E P S  <= jumbled up form of the string\\n\\n'"
      ]
     },
     "execution_count": 12,
     "metadata": {},
     "output_type": "execute_result"
    }
   ],
   "source": [
    "import random\n",
    "\n",
    "def jumble(funcobj):  # decorator function\n",
    "\n",
    "    def wrapper(inputstr):  # wrapper function\n",
    "        L = list(inputstr)\n",
    "        random.shuffle(L)\n",
    "        inputword = ''.join(L)\n",
    "        return funcobj(inputword)\n",
    "\n",
    "    return wrapper\n",
    "\n",
    "\n",
    "\n",
    "def modifystring(s):\n",
    "    return ' '.join([c.upper() for c in s])\n",
    "\n",
    "# ---------------------------------------\n",
    "\n",
    "print(modifystring('apples'))\n",
    "\n",
    "\n",
    "modifystring = jumble(modifystring)\n",
    "print('--->', modifystring)\n",
    "\n",
    "\n",
    "print(modifystring('apples'))  # plaeps\n",
    "\n",
    "\n",
    "'''\n",
    "\n",
    "A P P L E S\n",
    "\n",
    "P L A E P S  <= jumbled up form of the string\n",
    "\n",
    "'''"
   ]
  },
  {
   "cell_type": "code",
   "execution_count": null,
   "id": "3cfdc74a-e991-42e3-b4db-97d2c4872d24",
   "metadata": {},
   "outputs": [],
   "source": [
    "#best way to write decoarator function"
   ]
  },
  {
   "cell_type": "code",
   "execution_count": 13,
   "id": "4cdc255b-0296-4833-8a78-7df073c393e3",
   "metadata": {},
   "outputs": [
    {
     "name": "stdout",
     "output_type": "stream",
     "text": [
      "E N R C F H\n",
      "Pinshsa\n"
     ]
    }
   ],
   "source": [
    "import random\n",
    "\n",
    "def jumble(funcobj):  # decorator function\n",
    "\n",
    "    def wrapper(inputstr):  # wrapper function\n",
    "        L = list(inputstr)\n",
    "        random.shuffle(L)\n",
    "        inputword = ''.join(L)\n",
    "        return funcobj(inputword)\n",
    "\n",
    "    return wrapper\n",
    "\n",
    "# modifystring = jumble(modifystring)\n",
    "\n",
    "@jumble\n",
    "def modifystring(s):\n",
    "    return ' '.join([c.upper() for c in s])\n",
    "\n",
    "@jumble\n",
    "def changestring(s):\n",
    "    return s.capitalize()\n",
    "\n",
    "# -------------------------------------------\n",
    "\n",
    "\n",
    "print(modifystring('french'))\n",
    "print(changestring('spanish'))"
   ]
  },
  {
   "cell_type": "code",
   "execution_count": 14,
   "id": "bff7d242-34db-4781-89cc-b7fcb11c4ba7",
   "metadata": {},
   "outputs": [
    {
     "name": "stdout",
     "output_type": "stream",
     "text": [
      "1 1\n",
      "2 2\n",
      "3 6\n",
      "4 24\n",
      "5 120\n",
      "6 720\n",
      "7 5040\n",
      "8 40320\n",
      "9 362880\n",
      "Arguement should be a positive number\n",
      "None\n",
      "Arguement should be a positive number\n",
      "None\n"
     ]
    }
   ],
   "source": [
    "def argument_test_natural_number(f):\n",
    "\n",
    "    def helper(x):\n",
    "        if type(x) == int and x > 0:\n",
    "            return f(x)\n",
    "        else:\n",
    "            #raise Exception(\"Argument is not an integer\")\n",
    "            print(\"Arguement should be a positive number\")\n",
    "            \n",
    "    return helper\n",
    "\n",
    "@argument_test_natural_number\n",
    "def factorial(n):\n",
    "    if n == 1:\n",
    "        return 1\n",
    "    else:\n",
    "        return n * factorial(n-1)\n",
    "\n",
    "\n",
    "\n",
    "for i in range(1,10):\n",
    "\tprint(i, factorial(i))\n",
    "\n",
    "print(factorial(-1))\n",
    "\n",
    "print(factorial(\"sadf\"))"
   ]
  },
  {
   "cell_type": "code",
   "execution_count": null,
   "id": "99173f1a-e442-44f6-8ac0-84d41012821b",
   "metadata": {},
   "outputs": [],
   "source": []
  }
 ],
 "metadata": {
  "kernelspec": {
   "display_name": "Python 3 (ipykernel)",
   "language": "python",
   "name": "python3"
  },
  "language_info": {
   "codemirror_mode": {
    "name": "ipython",
    "version": 3
   },
   "file_extension": ".py",
   "mimetype": "text/x-python",
   "name": "python",
   "nbconvert_exporter": "python",
   "pygments_lexer": "ipython3",
   "version": "3.12.4"
  }
 },
 "nbformat": 4,
 "nbformat_minor": 5
}
