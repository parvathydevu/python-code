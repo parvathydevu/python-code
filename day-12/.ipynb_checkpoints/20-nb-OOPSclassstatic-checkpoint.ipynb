{
 "cells": [
  {
   "cell_type": "code",
   "execution_count": 24,
   "id": "92d09622-9919-41d9-988b-a9d378855c63",
   "metadata": {},
   "outputs": [],
   "source": [
    "class Bankaccount(object):\n",
    "    interest_rate=3  #class variable- will execute in class method\n",
    "    def __init__(self,acc_holder,balance=0):\n",
    "        self.acc_holder=acc_holder\n",
    "        self.balance=balance\n",
    "    def deposit(self,amount):  #object specific method \n",
    "        self.balance+=amount\n",
    "        print(f\"Deposited INR {amount} \\ncurrent BALANCE: {self.balance}\")\n",
    "    def withdraw(self,amount):  #object specific method\n",
    "        if amount>self.balance:\n",
    "            print(\"Insuffiecient balance\")\n",
    "        else:\n",
    "            self.balance-=amount\n",
    "            print(f\"Debited  INR {amount} \\ncurrent BALANCE:{self.balance}\")\n",
    "    def set_interest_rate(cls,newrate): # classmethod- run class variable using cls. \n",
    "        cls.interest_rate= newrate  #cls access the class variable\n",
    "        print(f\"updated new interest rate:{cls.interest_rate}\")\n",
    "    set_interest_rate=classmethod(set_interest_rate)\n",
    "    def validate_account(acc_number):\n",
    "        if len(str(acc_number==12)) and str(acc_number).isdigit():\n",
    "            validate_account=staticmethod(validate_account)  #static method\n",
    "            \n",
    "    "
   ]
  },
  {
   "cell_type": "code",
   "execution_count": 6,
   "id": "28abbd0b-5a1a-414a-80b6-f182d67874a9",
   "metadata": {},
   "outputs": [
    {
     "name": "stdout",
     "output_type": "stream",
     "text": [
      "Deposited INR 1000 \n",
      "current BALANCE: 6000\n"
     ]
    }
   ],
   "source": [
    "ac1=Bankaccount(\"Anil\",5000)\n",
    "ac1.deposit(1000)"
   ]
  },
  {
   "cell_type": "code",
   "execution_count": 28,
   "id": "81c02ff1-ca9b-4ddd-873a-ce7812f6eac7",
   "metadata": {},
   "outputs": [
    {
     "name": "stdout",
     "output_type": "stream",
     "text": [
      "Debited  INR 500 \n",
      "current BALANCE:5000\n"
     ]
    }
   ],
   "source": [
    "ac1.withdraw(500)"
   ]
  },
  {
   "cell_type": "code",
   "execution_count": 45,
   "id": "df5d30ac-5354-4192-b670-74f658fba7b7",
   "metadata": {},
   "outputs": [
    {
     "name": "stdout",
     "output_type": "stream",
     "text": [
      "Deposited INR 500 \n",
      "current BALANCE: 1500\n",
      "Debited  INR 200 \n",
      "current BALANCE:1300\n",
      "updated new interest rate:6 pct\n"
     ]
    }
   ],
   "source": [
    "class BankAccount(object):\n",
    "    interest_rate=3  #class variable- will execute in instance method\n",
    "    def __init__(self,acc_holder,balance=0):\n",
    "        self.acc_holder=acc_holder\n",
    "        self.balance=balance\n",
    "    def deposit(self,amount):  #object specific method \n",
    "        self.balance+=amount\n",
    "        print(f\"Deposited INR {amount} \\ncurrent BALANCE: {self.balance}\")\n",
    "    def withdraw(self,amount):  #object specific method\n",
    "        if amount>self.balance:\n",
    "            print(\"Insuffiecient balance\")\n",
    "        else:\n",
    "            self.balance-=amount\n",
    "            print(f\"Debited  INR {amount} \\ncurrent BALANCE:{self.balance}\")\n",
    "    def set_interest_rate(cls,newrate): # classmethod- run class variable using cls. \n",
    "        cls.interest_rate= newrate  #cls access the class variable\n",
    "        print(f\"updated new interest rate:{cls.interest_rate} pct\")\n",
    "    set_interest_rate=classmethod(set_interest_rate)\n",
    "    \n",
    "    def validate_account_number(account_number):\n",
    "       valid = False\n",
    "       if len(str(account_number)) ==  12:\n",
    "            if str(account_number).isdigit():\n",
    "                valid = True\n",
    "       return valid\n",
    "    \n",
    "    validate_account_number = staticmethod(validate_account_number)  #static method\n",
    "if __name__ == \"__main__\":\n",
    "    if(BankAccount.validate_account_number('234501010098')):\n",
    "        acc1.deposit(500)\n",
    "        acc1.withdraw(200)\n",
    "        \n",
    "        BankAccount.set_interest_rate(6)"
   ]
  },
  {
   "cell_type": "code",
   "execution_count": 46,
   "id": "99a5971c-82ad-4a18-8f47-7dfcd3e7f400",
   "metadata": {},
   "outputs": [
    {
     "data": {
      "text/plain": [
       "['23', '45', '']"
      ]
     },
     "execution_count": 46,
     "metadata": {},
     "output_type": "execute_result"
    }
   ],
   "source": [
    "L=[23,45,'\\n']\n",
    "[str(x).strip() for x in L]"
   ]
  },
  {
   "cell_type": "code",
   "execution_count": null,
   "id": "a1fe7c13-9976-45f2-a81b-0b30d303e222",
   "metadata": {},
   "outputs": [],
   "source": [
    " A lambda function in Python is a small anonymous function defined using the lambda keyword. It can have any number of arguments \n",
    "but only one expression. \n",
    "Lambda functions are often used for short, simple operations that are passed as arguments to higher-order functions like map(), filter(), and reduce()."
   ]
  },
  {
   "cell_type": "code",
   "execution_count": null,
   "id": "879ec2f9-759f-41dd-82da-608942e207bd",
   "metadata": {},
   "outputs": [],
   "source": [
    "The strip() function in Python is used to remove leading and trailing whitespace (spaces, tabs, newline characters, etc.)"
   ]
  },
  {
   "cell_type": "code",
   "execution_count": null,
   "id": "32a6a3ef-1594-45f2-b21d-c91d95b92bcf",
   "metadata": {},
   "outputs": [],
   "source": [
    "#csv.DictReader()\n",
    "Purpose: Reads CSV files and maps the information into a dictionary.\n",
    "Usage: It reads each row of the CSV file as a dictionary where the keys are the column headers and the values are the data in each row\n",
    "csv.DictWriter()\n",
    "Purpose: Writes data to a CSV file from a dictionary.\n",
    "Usage: It writes rows to a CSV file using dictionaries where the keys are the column headers."
   ]
  }
 ],
 "metadata": {
  "kernelspec": {
   "display_name": "Python 3 (ipykernel)",
   "language": "python",
   "name": "python3"
  },
  "language_info": {
   "codemirror_mode": {
    "name": "ipython",
    "version": 3
   },
   "file_extension": ".py",
   "mimetype": "text/x-python",
   "name": "python",
   "nbconvert_exporter": "python",
   "pygments_lexer": "ipython3",
   "version": "3.12.4"
  }
 },
 "nbformat": 4,
 "nbformat_minor": 5
}
