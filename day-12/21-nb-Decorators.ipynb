{
 "cells": [
  {
   "cell_type": "markdown",
   "id": "dffaac62-e887-4f6f-b44d-d1c29b8f466e",
   "metadata": {},
   "source": [
    "# Decorators"
   ]
  },
  {
   "cell_type": "code",
   "execution_count": 1,
   "id": "58d62786-e0d5-441f-b598-48dd8d781c23",
   "metadata": {},
   "outputs": [
    {
     "name": "stdout",
     "output_type": "stream",
     "text": [
      "True False\n"
     ]
    }
   ],
   "source": [
    "def getfunc(choice):\n",
    "\n",
    "    def checkodd(n):\n",
    "        return n % 2 == 0\n",
    "\n",
    "    def checkeven(n):\n",
    "        return n % 2 != 0\n",
    "\n",
    "    if(choice):\n",
    "        return checkodd\n",
    "    else:\n",
    "        return checkeven\n",
    "\n",
    "# ------------------------------------------------\n",
    "\n",
    "f = getfunc(1)  #check even for both the arguments\n",
    "print(f(100), f(101))"
   ]
  },
  {
   "cell_type": "code",
   "execution_count": 3,
   "id": "d36d6c47-c414-49fe-a604-03e35a052e89",
   "metadata": {},
   "outputs": [
    {
     "name": "stdout",
     "output_type": "stream",
     "text": [
      "False True\n"
     ]
    }
   ],
   "source": [
    "f=getfunc(0) #Check odd for both inputs\n",
    "print(f(100), f(101))"
   ]
  },
  {
   "cell_type": "code",
   "execution_count": 5,
   "id": "6c5359e8-6724-4f16-8c2a-1924a70517af",
   "metadata": {},
   "outputs": [],
   "source": [
    "class Person:\n",
    "    #Constructor\n",
    "    def __init__(self,name,age,gender):\n",
    "        self.name=name\n",
    "        self.age=age\n",
    "        self.gender=gender\n",
    "    def get_details(self):\n",
    "        return str(self.name),str(self.age),str(self.gender)"
   ]
  },
  {
   "cell_type": "code",
   "execution_count": 8,
   "id": "07109439-c20d-4426-b766-3027175a6b28",
   "metadata": {},
   "outputs": [
    {
     "data": {
      "text/plain": [
       "('anil', '34', 'male')"
      ]
     },
     "execution_count": 8,
     "metadata": {},
     "output_type": "execute_result"
    }
   ],
   "source": [
    "pa=Person(\"anil\",34,\"male\")\n",
    "pa.get_details()"
   ]
  },
  {
   "cell_type": "code",
   "execution_count": null,
   "id": "1b854270-5f74-47a3-b3c9-67dae262ecaa",
   "metadata": {},
   "outputs": [],
   "source": [
    "class Person:\n",
    "    #Constructor\n",
    "    def __init__(self,name,age,gender):\n",
    "        self.name=name\n",
    "        self.age=age\n",
    "        self.gender=gender\n",
    "    def get_details(self):\n",
    "        return str(self.name),str(self.age),str(self.gender)"
   ]
  },
  {
   "cell_type": "code",
   "execution_count": 9,
   "id": "c60fe5d9-50f6-4d1d-842f-3095ec95e7d0",
   "metadata": {},
   "outputs": [
    {
     "data": {
      "text/plain": [
       "True"
      ]
     },
     "execution_count": 9,
     "metadata": {},
     "output_type": "execute_result"
    }
   ],
   "source": [
    "isinstance([],list)"
   ]
  },
  {
   "cell_type": "code",
   "execution_count": 10,
   "id": "3bd4025a-f493-40bb-b87a-ba79f3deaeeb",
   "metadata": {},
   "outputs": [
    {
     "name": "stdout",
     "output_type": "stream",
     "text": [
      "False\n"
     ]
    }
   ],
   "source": [
    "print(5==5.50)"
   ]
  },
  {
   "cell_type": "code",
   "execution_count": 12,
   "id": "400eba9b-afd5-48fd-a2bf-b1506b1592cb",
   "metadata": {},
   "outputs": [
    {
     "name": "stdout",
     "output_type": "stream",
     "text": [
      "{1, 2, 3}\n"
     ]
    }
   ],
   "source": [
    "print({1,2,2,3})"
   ]
  },
  {
   "cell_type": "code",
   "execution_count": 16,
   "id": "f1b63dc2-1480-4ccf-b6b6-30d2fec60e63",
   "metadata": {},
   "outputs": [
    {
     "data": {
      "text/plain": [
       "{0: 0, 1: 1, 2: 4}"
      ]
     },
     "execution_count": 16,
     "metadata": {},
     "output_type": "execute_result"
    }
   ],
   "source": [
    "{x:x**2 for x in range(3)}"
   ]
  },
  {
   "cell_type": "code",
   "execution_count": 17,
   "id": "dd5c29b1-2395-4628-a9af-0539e0a54c44",
   "metadata": {},
   "outputs": [
    {
     "data": {
      "text/plain": [
       "[1, 3]"
      ]
     },
     "execution_count": 17,
     "metadata": {},
     "output_type": "execute_result"
    }
   ],
   "source": [
    "[i for i in range(5) if i%2]"
   ]
  },
  {
   "cell_type": "code",
   "execution_count": 18,
   "id": "c7ffdcad-1a41-4284-a6a1-e4a6c63b5204",
   "metadata": {},
   "outputs": [
    {
     "name": "stdout",
     "output_type": "stream",
     "text": [
      "0\n"
     ]
    }
   ],
   "source": [
    "print(len({}))"
   ]
  },
  {
   "cell_type": "code",
   "execution_count": 19,
   "id": "b894c822-9e3d-4a18-b761-9fbf57893da9",
   "metadata": {},
   "outputs": [
    {
     "name": "stdout",
     "output_type": "stream",
     "text": [
      "True\n"
     ]
    }
   ],
   "source": [
    "print(type([])is list)"
   ]
  },
  {
   "cell_type": "code",
   "execution_count": 20,
   "id": "b5474ab1-64d0-4a54-ae03-216848924b41",
   "metadata": {},
   "outputs": [
    {
     "data": {
      "text/plain": [
       "{2, 3}"
      ]
     },
     "execution_count": 20,
     "metadata": {},
     "output_type": "execute_result"
    }
   ],
   "source": [
    "set([1,2,2,3,4]) & set([2,3,5])"
   ]
  },
  {
   "cell_type": "code",
   "execution_count": 22,
   "id": "e9a57220-2716-488a-881a-08d8276da5ac",
   "metadata": {},
   "outputs": [
    {
     "data": {
      "text/plain": [
       "range(2, 10, 2)"
      ]
     },
     "execution_count": 22,
     "metadata": {},
     "output_type": "execute_result"
    }
   ],
   "source": [
    "t=range(2,10,2)\n",
    "t"
   ]
  },
  {
   "cell_type": "code",
   "execution_count": null,
   "id": "7fa5385c-9d81-4026-a060-c299a51ac6cf",
   "metadata": {},
   "outputs": [],
   "source": []
  }
 ],
 "metadata": {
  "kernelspec": {
   "display_name": "Python 3 (ipykernel)",
   "language": "python",
   "name": "python3"
  },
  "language_info": {
   "codemirror_mode": {
    "name": "ipython",
    "version": 3
   },
   "file_extension": ".py",
   "mimetype": "text/x-python",
   "name": "python",
   "nbconvert_exporter": "python",
   "pygments_lexer": "ipython3",
   "version": "3.12.4"
  }
 },
 "nbformat": 4,
 "nbformat_minor": 5
}
