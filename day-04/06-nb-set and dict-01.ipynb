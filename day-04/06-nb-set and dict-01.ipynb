{
 "cells": [
  {
   "cell_type": "markdown",
   "id": "8c418c94-4577-470c-bf2b-99ac053d8a5a",
   "metadata": {},
   "source": [
    "# SETS"
   ]
  },
  {
   "cell_type": "code",
   "execution_count": 1,
   "id": "e62f41d9-8e3c-42a2-914d-b4101231d805",
   "metadata": {},
   "outputs": [],
   "source": [
    "s=\"mississippi\""
   ]
  },
  {
   "cell_type": "code",
   "execution_count": 2,
   "id": "c83f9daa-fcf3-4d2b-bde8-4d51c72f5ea4",
   "metadata": {},
   "outputs": [
    {
     "data": {
      "text/plain": [
       "['m', 'i', 's', 's', 'i', 's', 's', 'i', 'p', 'p', 'i']"
      ]
     },
     "execution_count": 2,
     "metadata": {},
     "output_type": "execute_result"
    }
   ],
   "source": [
    "list(s)  #convert string to list"
   ]
  },
  {
   "cell_type": "code",
   "execution_count": 3,
   "id": "e7d39be1-d9da-4874-9c81-a14e9c4d4fbb",
   "metadata": {},
   "outputs": [
    {
     "data": {
      "text/plain": [
       "('m', 'i', 's', 's', 'i', 's', 's', 'i', 'p', 'p', 'i')"
      ]
     },
     "execution_count": 3,
     "metadata": {},
     "output_type": "execute_result"
    }
   ],
   "source": [
    "tuple(s)  #convert string to list"
   ]
  },
  {
   "cell_type": "code",
   "execution_count": 4,
   "id": "c0985460-4e00-4ab4-8dba-098d2e2b42d9",
   "metadata": {},
   "outputs": [
    {
     "data": {
      "text/plain": [
       "{'i', 'm', 'p', 's'}"
      ]
     },
     "execution_count": 4,
     "metadata": {},
     "output_type": "execute_result"
    }
   ],
   "source": [
    "set(s)  #set remove the duplicates data , unordered, why?- the data structure background is different compared to list."
   ]
  },
  {
   "cell_type": "markdown",
   "id": "41a9530b-4c47-449f-8872-e48e290f318c",
   "metadata": {},
   "source": [
    "#if we execute the string or data , it will rotate in background- so its outcome becomes unordered , this is used in design of sets."
   ]
  },
  {
   "cell_type": "markdown",
   "id": "20305e7a-a554-4e50-9af8-c297a06df4b7",
   "metadata": {},
   "source": [
    "### operations on sets"
   ]
  },
  {
   "cell_type": "code",
   "execution_count": 2,
   "id": "db6fd10c-bc66-4f32-bb47-106c21df018b",
   "metadata": {},
   "outputs": [],
   "source": [
    "s1=set(\"abcdefg\")\n",
    "s2={'e','f','g','h','i'}"
   ]
  },
  {
   "cell_type": "code",
   "execution_count": 3,
   "id": "c50f8e6f-9821-4438-bc3c-6d55e75f0538",
   "metadata": {},
   "outputs": [
    {
     "data": {
      "text/plain": [
       "{'a', 'b', 'c', 'd', 'e', 'f', 'g'}"
      ]
     },
     "execution_count": 3,
     "metadata": {},
     "output_type": "execute_result"
    }
   ],
   "source": [
    "s1"
   ]
  },
  {
   "cell_type": "markdown",
   "id": "53179817-cafe-47bf-8994-6cb9543a3a3e",
   "metadata": {},
   "source": [
    "s2"
   ]
  },
  {
   "cell_type": "code",
   "execution_count": 4,
   "id": "aa992517-991f-4a9f-8850-e2c38d189ca2",
   "metadata": {},
   "outputs": [
    {
     "data": {
      "text/plain": [
       "{'a', 'b', 'c', 'd', 'h', 'i'}"
      ]
     },
     "execution_count": 4,
     "metadata": {},
     "output_type": "execute_result"
    }
   ],
   "source": [
    "s1^s2  #union values s1-s2- never give duplicates "
   ]
  },
  {
   "cell_type": "code",
   "execution_count": 5,
   "id": "fd123f63-f516-4e9a-b0ba-fdce3df9ada9",
   "metadata": {},
   "outputs": [
    {
     "data": {
      "text/plain": [
       "{'e', 'f', 'g'}"
      ]
     },
     "execution_count": 5,
     "metadata": {},
     "output_type": "execute_result"
    }
   ],
   "source": [
    "s1 & s2  #intersection common strings"
   ]
  },
  {
   "cell_type": "code",
   "execution_count": 11,
   "id": "e0d341f5-1183-4733-bfa9-ee3f680b36dd",
   "metadata": {},
   "outputs": [
    {
     "data": {
      "text/plain": [
       "{'a', 'b', 'c', 'd', 'e', 'f', 'g', 'h', 'i'}"
      ]
     },
     "execution_count": 11,
     "metadata": {},
     "output_type": "execute_result"
    }
   ],
   "source": [
    "s1| s2  #add multiple set, avoid duplicates"
   ]
  },
  {
   "cell_type": "code",
   "execution_count": 13,
   "id": "b06640b6-71f2-48a4-a76d-928118f73279",
   "metadata": {},
   "outputs": [],
   "source": [
    "s1.add('x')"
   ]
  },
  {
   "cell_type": "code",
   "execution_count": 14,
   "id": "e54281b5-dcf6-43f5-9a85-d3a60e572afe",
   "metadata": {},
   "outputs": [
    {
     "data": {
      "text/plain": [
       "{'a', 'b', 'c', 'd', 'e', 'f', 'g', 'x'}"
      ]
     },
     "execution_count": 14,
     "metadata": {},
     "output_type": "execute_result"
    }
   ],
   "source": [
    "s1"
   ]
  },
  {
   "cell_type": "code",
   "execution_count": 15,
   "id": "7346d78c-654a-4f15-ad9a-c8b53e75dc2b",
   "metadata": {},
   "outputs": [],
   "source": [
    "s1.remove('x')"
   ]
  },
  {
   "cell_type": "code",
   "execution_count": 16,
   "id": "193fe790-9e2b-4ba2-bea9-a2509baca8b4",
   "metadata": {},
   "outputs": [
    {
     "data": {
      "text/plain": [
       "{'a', 'b', 'c', 'd', 'e', 'f', 'g'}"
      ]
     },
     "execution_count": 16,
     "metadata": {},
     "output_type": "execute_result"
    }
   ],
   "source": [
    "s1"
   ]
  },
  {
   "cell_type": "code",
   "execution_count": 17,
   "id": "ffe399fe-4406-4d13-bc7d-fd81a09987fb",
   "metadata": {},
   "outputs": [],
   "source": [
    "s1.update('y','z')"
   ]
  },
  {
   "cell_type": "code",
   "execution_count": 18,
   "id": "76d41de3-3126-4919-9e9b-a048713ac14b",
   "metadata": {},
   "outputs": [
    {
     "data": {
      "text/plain": [
       "{'a', 'b', 'c', 'd', 'e', 'f', 'g', 'y', 'z'}"
      ]
     },
     "execution_count": 18,
     "metadata": {},
     "output_type": "execute_result"
    }
   ],
   "source": [
    "s1"
   ]
  },
  {
   "cell_type": "code",
   "execution_count": 19,
   "id": "89dce0ae-d5a4-4221-8979-1950f910c59f",
   "metadata": {},
   "outputs": [
    {
     "data": {
      "text/plain": [
       "'d'"
      ]
     },
     "execution_count": 19,
     "metadata": {},
     "output_type": "execute_result"
    }
   ],
   "source": [
    "s1.pop()"
   ]
  },
  {
   "cell_type": "code",
   "execution_count": 20,
   "id": "c5a91168-fa3c-45e2-993a-e830b7ff815f",
   "metadata": {},
   "outputs": [
    {
     "data": {
      "text/plain": [
       "{'e', 'f', 'g'}"
      ]
     },
     "execution_count": 20,
     "metadata": {},
     "output_type": "execute_result"
    }
   ],
   "source": [
    "s1.intersection(s2)"
   ]
  },
  {
   "cell_type": "code",
   "execution_count": 21,
   "id": "374cc38d-09d2-4bf5-bfc6-538081fa56fe",
   "metadata": {},
   "outputs": [
    {
     "data": {
      "text/plain": [
       "{'a', 'b', 'c', 'e', 'f', 'g', 'h', 'i', 'y', 'z'}"
      ]
     },
     "execution_count": 21,
     "metadata": {},
     "output_type": "execute_result"
    }
   ],
   "source": [
    "s1.union(s2)"
   ]
  },
  {
   "cell_type": "code",
   "execution_count": 25,
   "id": "8474dab0-21e2-423f-ace4-f94ddf5e6987",
   "metadata": {},
   "outputs": [
    {
     "data": {
      "text/plain": [
       "False"
      ]
     },
     "execution_count": 25,
     "metadata": {},
     "output_type": "execute_result"
    }
   ],
   "source": [
    "s1.issuperset(s2)"
   ]
  },
  {
   "cell_type": "code",
   "execution_count": 23,
   "id": "12b3dc0d-09a9-427d-8555-2f871a367c9c",
   "metadata": {},
   "outputs": [
    {
     "data": {
      "text/plain": [
       "{'a', 'b', 'c', 'e', 'f', 'g', 'y', 'z'}"
      ]
     },
     "execution_count": 23,
     "metadata": {},
     "output_type": "execute_result"
    }
   ],
   "source": [
    "s1"
   ]
  },
  {
   "cell_type": "code",
   "execution_count": 26,
   "id": "f3cd4af9-324a-4c7d-9c1c-7afde06ec799",
   "metadata": {},
   "outputs": [],
   "source": [
    "s3={'a','b'}"
   ]
  },
  {
   "cell_type": "code",
   "execution_count": 28,
   "id": "1bdc12a5-bc31-44d0-89a6-5187d728e5b7",
   "metadata": {},
   "outputs": [
    {
     "data": {
      "text/plain": [
       "True"
      ]
     },
     "execution_count": 28,
     "metadata": {},
     "output_type": "execute_result"
    }
   ],
   "source": [
    "s1.issuperset(s3)  #. It checks whether one set contains all elements of another set."
   ]
  },
  {
   "cell_type": "code",
   "execution_count": 29,
   "id": "a2f57519-df3f-4810-88cc-8a02208f550f",
   "metadata": {},
   "outputs": [
    {
     "data": {
      "text/plain": [
       "False"
      ]
     },
     "execution_count": 29,
     "metadata": {},
     "output_type": "execute_result"
    }
   ],
   "source": [
    "s1.issubset(s2)"
   ]
  },
  {
   "cell_type": "markdown",
   "id": "e7e8853a-e066-47f4-b8cf-b5ac98fafaee",
   "metadata": {},
   "source": [
    "### Dictionaries"
   ]
  },
  {
   "cell_type": "code",
   "execution_count": 33,
   "id": "3b6aed25-883d-4f69-9eaf-e395e1812e8c",
   "metadata": {},
   "outputs": [],
   "source": [
    "rec=['anil',35,'UST','Banglore','100000']  #(name is anil)- key-name, value-'anil', (age is 35)-key is age, value is 35"
   ]
  },
  {
   "cell_type": "code",
   "execution_count": 42,
   "id": "a478779b-b505-456e-88f0-60369811b1b1",
   "metadata": {},
   "outputs": [],
   "source": [
    "d= {'name':'anil','age':35,'company':'UST','location':'Banglore','salary':'100000'} #specific key "
   ]
  },
  {
   "cell_type": "code",
   "execution_count": 40,
   "id": "af61fba8-65dc-43de-bc3f-8b21480a5540",
   "metadata": {},
   "outputs": [
    {
     "data": {
      "text/plain": [
       "'anil'"
      ]
     },
     "execution_count": 40,
     "metadata": {},
     "output_type": "execute_result"
    }
   ],
   "source": [
    "d['name']"
   ]
  },
  {
   "cell_type": "code",
   "execution_count": 43,
   "id": "5226f1b2-1a87-40ce-ae0d-dd1964dd0265",
   "metadata": {},
   "outputs": [
    {
     "data": {
      "text/plain": [
       "{'name': 'anil',\n",
       " 'age': 35,\n",
       " 'company': 'UST',\n",
       " 'location': 'Banglore',\n",
       " 'salary': '100000'}"
      ]
     },
     "execution_count": 43,
     "metadata": {},
     "output_type": "execute_result"
    }
   ],
   "source": [
    "d"
   ]
  },
  {
   "cell_type": "code",
   "execution_count": 46,
   "id": "5bd2093c-73ca-48bb-91a1-e33c25b225ab",
   "metadata": {},
   "outputs": [],
   "source": [
    "d['age']=78  #access the element, change value from key'age'"
   ]
  },
  {
   "cell_type": "code",
   "execution_count": 53,
   "id": "6d38fc86-67ed-4fda-bd62-b9c9837084d4",
   "metadata": {},
   "outputs": [
    {
     "data": {
      "text/plain": [
       "{'name': 'anil', 'company': 'UST', 'location': 'Banglore', 'salary': '100000'}"
      ]
     },
     "execution_count": 53,
     "metadata": {},
     "output_type": "execute_result"
    }
   ],
   "source": [
    "d"
   ]
  },
  {
   "cell_type": "code",
   "execution_count": 54,
   "id": "4eb741c0-b278-4997-9691-657467bf4b08",
   "metadata": {},
   "outputs": [
    {
     "ename": "TypeError",
     "evalue": "pop expected at least 1 argument, got 0",
     "output_type": "error",
     "traceback": [
      "\u001b[1;31m---------------------------------------------------------------------------\u001b[0m",
      "\u001b[1;31mTypeError\u001b[0m                                 Traceback (most recent call last)",
      "Cell \u001b[1;32mIn[54], line 1\u001b[0m\n\u001b[1;32m----> 1\u001b[0m d\u001b[38;5;241m.\u001b[39mpop()\n",
      "\u001b[1;31mTypeError\u001b[0m: pop expected at least 1 argument, got 0"
     ]
    }
   ],
   "source": [
    "d.pop()"
   ]
  },
  {
   "cell_type": "code",
   "execution_count": 59,
   "id": "ff938bc9-ae8f-47fe-980f-0d42160d8a61",
   "metadata": {},
   "outputs": [],
   "source": [
    "d1={'name':'anil','age':35}"
   ]
  },
  {
   "cell_type": "code",
   "execution_count": 61,
   "id": "8b73595a-90fb-49b3-8430-b9bfccb699e2",
   "metadata": {},
   "outputs": [],
   "source": [
    "d.update(d1)  #add new dictionary"
   ]
  },
  {
   "cell_type": "code",
   "execution_count": 72,
   "id": "a2951b82-7b79-438e-9c2b-9135f3999fa7",
   "metadata": {},
   "outputs": [
    {
     "data": {
      "text/plain": [
       "{'name': 'anil',\n",
       " 'company': 'UST',\n",
       " 'location': 'Banglore',\n",
       " 'salary': '100000',\n",
       " 'add': 37,\n",
       " 'age': 35}"
      ]
     },
     "execution_count": 72,
     "metadata": {},
     "output_type": "execute_result"
    }
   ],
   "source": [
    "d"
   ]
  },
  {
   "cell_type": "markdown",
   "id": "b6ef6d7c-9875-4700-b671-29abc8f123da",
   "metadata": {},
   "source": [
    "# Important functions for dictionaries"
   ]
  },
  {
   "cell_type": "code",
   "execution_count": 58,
   "id": "4c31a8f1-41c9-43bf-820a-486cdeda1c9c",
   "metadata": {},
   "outputs": [
    {
     "data": {
      "text/plain": [
       "dict_values([37])"
      ]
     },
     "execution_count": 58,
     "metadata": {},
     "output_type": "execute_result"
    }
   ],
   "source": [
    "d1.values()"
   ]
  },
  {
   "cell_type": "code",
   "execution_count": 63,
   "id": "7d0b7ab8-29a2-4b02-856c-e8a24012cda9",
   "metadata": {},
   "outputs": [
    {
     "data": {
      "text/plain": [
       "dict_keys(['name', 'company', 'location', 'salary', 'add', 'age'])"
      ]
     },
     "execution_count": 63,
     "metadata": {},
     "output_type": "execute_result"
    }
   ],
   "source": [
    "d.keys()"
   ]
  },
  {
   "cell_type": "code",
   "execution_count": 64,
   "id": "09346aa8-c18b-4e25-ae8d-9013186e2f36",
   "metadata": {},
   "outputs": [
    {
     "data": {
      "text/plain": [
       "dict_items([('name', 'anil'), ('company', 'UST'), ('location', 'Banglore'), ('salary', '100000'), ('add', 37), ('age', 35)])"
      ]
     },
     "execution_count": 64,
     "metadata": {},
     "output_type": "execute_result"
    }
   ],
   "source": [
    "d.items()"
   ]
  },
  {
   "cell_type": "code",
   "execution_count": 65,
   "id": "8fdae787-5236-46b3-ad9a-258e94a42c6d",
   "metadata": {},
   "outputs": [
    {
     "ename": "ValueError",
     "evalue": "dictionary update sequence element #0 has length 1; 2 is required",
     "output_type": "error",
     "traceback": [
      "\u001b[1;31m---------------------------------------------------------------------------\u001b[0m",
      "\u001b[1;31mValueError\u001b[0m                                Traceback (most recent call last)",
      "Cell \u001b[1;32mIn[65], line 2\u001b[0m\n\u001b[0;32m      1\u001b[0m s\u001b[38;5;241m=\u001b[39m{\u001b[38;5;124m'\u001b[39m\u001b[38;5;124ma\u001b[39m\u001b[38;5;124m'\u001b[39m,\u001b[38;5;124m'\u001b[39m\u001b[38;5;124mb\u001b[39m\u001b[38;5;124m'\u001b[39m,\u001b[38;5;124m'\u001b[39m\u001b[38;5;124mc\u001b[39m\u001b[38;5;124m'\u001b[39m}\n\u001b[1;32m----> 2\u001b[0m \u001b[38;5;28mdict\u001b[39m(s)\n",
      "\u001b[1;31mValueError\u001b[0m: dictionary update sequence element #0 has length 1; 2 is required"
     ]
    }
   ],
   "source": [
    "s={'a','b','c'}\n",
    "dict(s)  #single set "
   ]
  },
  {
   "cell_type": "markdown",
   "id": "2b23e469-4ef3-4f31-afe7-1dd6cfe56f3e",
   "metadata": {},
   "source": [
    "#dict cannot convert into set.list or tuple"
   ]
  },
  {
   "cell_type": "code",
   "execution_count": 70,
   "id": "1013c05d-2e34-4a87-93bb-d1ba9f228c01",
   "metadata": {},
   "outputs": [
    {
     "data": {
      "text/plain": [
       "{0: 'red', 1: 'yellow', 2: 'blue'}"
      ]
     },
     "execution_count": 70,
     "metadata": {},
     "output_type": "execute_result"
    }
   ],
   "source": [
    "l=[\"red\",\"yellow\",\"blue\"]\n",
    "dict(enumerate(l))"
   ]
  },
  {
   "cell_type": "code",
   "execution_count": 71,
   "id": "d5501c17-e2c5-4cfa-b5cd-70157549328c",
   "metadata": {},
   "outputs": [
    {
     "data": {
      "text/plain": [
       "{'1': 'red', 'b': 'yellow', 'z': 'blue'}"
      ]
     },
     "execution_count": 71,
     "metadata": {},
     "output_type": "execute_result"
    }
   ],
   "source": [
    "n=['1','b','z']  #update key value wrt 2 lists and convert list to dictionary\n",
    "dict(zip(n,l))"
   ]
  },
  {
   "cell_type": "markdown",
   "id": "b6e9db1e-e026-4bac-a478-945a086e8b92",
   "metadata": {},
   "source": [
    "### Examples"
   ]
  },
  {
   "cell_type": "code",
   "execution_count": 73,
   "id": "58c03896-00a2-4a1d-8d74-2b0f088f2435",
   "metadata": {},
   "outputs": [],
   "source": [
    "#calculate the character histogram of  astring   #A character histogram is a graphical representation that shows the frequency of each character in a given text. \n",
    "#Essentially, it counts how many times each character appears and displays this information, often in the form of a bar chart or a simple list."
   ]
  },
  {
   "cell_type": "code",
   "execution_count": 75,
   "id": "7ea9cafb-a162-483f-a580-2f7506debb02",
   "metadata": {},
   "outputs": [
    {
     "data": {
      "text/plain": [
       "{'m': 1, 'i': 4, 's': 4, 'p': 2}"
      ]
     },
     "execution_count": 75,
     "metadata": {},
     "output_type": "execute_result"
    }
   ],
   "source": [
    "s=\"mississippi\"   \n",
    "#(m:1,i:4,p:2,s:4)  this is outcome\n",
    "\n",
    "ch={}\n",
    "for c in s.lower():\n",
    "    if c in ch.keys():    #keys exctact all keys in c\n",
    "        ch[c]=ch[c]+1\n",
    "    else:\n",
    "        ch[c]=1\n",
    "ch\n",
    "\n",
    "#1->ch={'m':1}\n",
    "#2->ch={'m':1,'i':1}\n",
    "#3->ch={'m':1,'i':1,s:1}\n",
    "#4->ch={m':1,'i':1,s:1+1}\n",
    "#5->ch={m':1,'i':1+1,s:2}\n",
    "#6->ch={m':1,'i':2,s:3}\n",
    "#7->ch={m':1,'i':2,s:4}\n",
    "#8->ch={m':1,'i':3,s:4}\n",
    "#9->ch={m':1,'i':3,s:4,p:1}.....\n",
    "#10->ch={m':1,'i':2,s:4,p:2}.....\n",
    "#11->ch={m':1,'i':4,s:4,p:2}.....\n",
    "\n",
    "    "
   ]
  },
  {
   "cell_type": "code",
   "execution_count": 85,
   "id": "6b8c5890-0100-4174-a87f-34b1527c4b73",
   "metadata": {},
   "outputs": [
    {
     "data": {
      "text/plain": [
       "{'Anu': 10, 'lakith': 20}"
      ]
     },
     "execution_count": 85,
     "metadata": {},
     "output_type": "execute_result"
    }
   ],
   "source": [
    "a=['Anu','lakith',10,20]  #convert list into dictionary \n",
    "x=a[:2]\n",
    "y=a[2:]\n",
    "dict(zip(x,y))  #convert key to values, values to key"
   ]
  },
  {
   "cell_type": "code",
   "execution_count": 80,
   "id": "281e6179-ab2d-40ce-b960-f8617d6076fb",
   "metadata": {},
   "outputs": [
    {
     "data": {
      "text/plain": [
       "{'Anu': 34, 'lakith': 56}"
      ]
     },
     "execution_count": 80,
     "metadata": {},
     "output_type": "execute_result"
    }
   ],
   "source": [
    "d={}  #convert list into dictionary -another way\n",
    "for i in range(len(x)):\n",
    "    d[x[i]]=y[i]\n",
    "d"
   ]
  },
  {
   "cell_type": "markdown",
   "id": "68eb8e1c-2650-4b1a-ac35-d960ce6796a1",
   "metadata": {},
   "source": [
    "#reverse key an dvalues -key should be values , values should be keys"
   ]
  },
  {
   "cell_type": "code",
   "execution_count": 83,
   "id": "bea16f44-f828-470e-b374-b8d38683d6ca",
   "metadata": {},
   "outputs": [
    {
     "data": {
      "text/plain": [
       "{'anil': 'name',\n",
       " 35: 'age',\n",
       " 'UST': 'company',\n",
       " 'Banglore': 'location',\n",
       " '100000': 'salary'}"
      ]
     },
     "execution_count": 83,
     "metadata": {},
     "output_type": "execute_result"
    }
   ],
   "source": [
    "d= {'name':'anil','age':35,'company':'UST','location':'Banglore','salary':'100000'}  #d.items- key printed\n",
    "d1={}\n",
    "for key,values in d.items():\n",
    "    d1[values]=key\n",
    "d1"
   ]
  },
  {
   "cell_type": "code",
   "execution_count": 84,
   "id": "662c1780-95b3-400f-859b-022df3d7ab26",
   "metadata": {},
   "outputs": [
    {
     "data": {
      "text/plain": [
       "{'Mahesh': 25, 'Lakith': 26}"
      ]
     },
     "execution_count": 84,
     "metadata": {},
     "output_type": "execute_result"
    }
   ],
   "source": [
    "a = ['Mahesh', 'Lakith', 25, 26]\n",
    "j=0\n",
    "for i in a:\n",
    "    if isinstance(i, str):\n",
    "        j=j+1\n",
    "\n",
    "x=a[:j:]\n",
    "y=a[j::]\n",
    "dict(zip(x,y))"
   ]
  },
  {
   "cell_type": "code",
   "execution_count": 11,
   "id": "4f0e2fcd-e5f6-4a6a-b15b-798566ca11f2",
   "metadata": {},
   "outputs": [
    {
     "name": "stdout",
     "output_type": "stream",
     "text": [
      "name\n",
      "age\n"
     ]
    }
   ],
   "source": [
    "D1 = {'name':'paru','age':24}\n",
    "for key,value in D1.items():\n",
    "    print(key)"
   ]
  },
  {
   "cell_type": "code",
   "execution_count": 12,
   "id": "be64ba4e-7af1-403e-9289-ed22c28ea216",
   "metadata": {},
   "outputs": [
    {
     "name": "stdout",
     "output_type": "stream",
     "text": [
      "paru\n",
      "24\n"
     ]
    }
   ],
   "source": [
    "D1 = {'name':'paru','age':24}\n",
    "for key,value in D1.items():\n",
    "    print(value)"
   ]
  },
  {
   "cell_type": "code",
   "execution_count": null,
   "id": "31dd908f-246e-4be2-869b-d416ae4f9d97",
   "metadata": {},
   "outputs": [],
   "source": []
  }
 ],
 "metadata": {
  "kernelspec": {
   "display_name": "Python 3 (ipykernel)",
   "language": "python",
   "name": "python3"
  },
  "language_info": {
   "codemirror_mode": {
    "name": "ipython",
    "version": 3
   },
   "file_extension": ".py",
   "mimetype": "text/x-python",
   "name": "python",
   "nbconvert_exporter": "python",
   "pygments_lexer": "ipython3",
   "version": "3.12.4"
  }
 },
 "nbformat": 4,
 "nbformat_minor": 5
}
