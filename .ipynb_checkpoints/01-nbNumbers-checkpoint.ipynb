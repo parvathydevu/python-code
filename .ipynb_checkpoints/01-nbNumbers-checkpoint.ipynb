{
 "cells": [
  {
   "cell_type": "code",
   "execution_count": 1,
   "id": "cae213e1-a5a1-442c-9d9a-76e04b622135",
   "metadata": {},
   "outputs": [
    {
     "name": "stdout",
     "output_type": "stream",
     "text": [
      "hello\n"
     ]
    }
   ],
   "source": [
    "print(\"hello\")"
   ]
  },
  {
   "cell_type": "code",
   "execution_count": 2,
   "id": "ff258863-b493-4085-9707-a525b1e65921",
   "metadata": {},
   "outputs": [
    {
     "name": "stdout",
     "output_type": "stream",
     "text": [
      "13\n"
     ]
    }
   ],
   "source": [
    "a=6\n",
    "b=7\n",
    "print(a+b)"
   ]
  },
  {
   "cell_type": "code",
   "execution_count": 1,
   "id": "a2ff4739-76ed-4c7a-913d-9a5b1a59feb5",
   "metadata": {},
   "outputs": [
    {
     "name": "stdout",
     "output_type": "stream",
     "text": [
      "Hello jupyter notebook\n"
     ]
    }
   ],
   "source": [
    "print(\"Hello jupyter notebook\")"
   ]
  },
  {
   "cell_type": "markdown",
   "id": "f0c51477-edb5-4578-acc7-279f0d2cbf97",
   "metadata": {},
   "source": [
    "### Python Work"
   ]
  },
  {
   "cell_type": "markdown",
   "id": "118f1b36-545e-4122-affd-1f7d23dbaac4",
   "metadata": {},
   "source": [
    "### 1.1Support for NUMERIC VALUES"
   ]
  },
  {
   "cell_type": "code",
   "execution_count": 7,
   "id": "f578a26d-d918-48e0-9429-eff82dabb25b",
   "metadata": {},
   "outputs": [
    {
     "name": "stdout",
     "output_type": "stream",
     "text": [
      "10 12\n"
     ]
    }
   ],
   "source": [
    "a=10\n",
    "b=12\n",
    "print(a,b)"
   ]
  },
  {
   "cell_type": "markdown",
   "id": "669e8ad1-ba0e-4b87-9fc4-83bc7c847415",
   "metadata": {},
   "source": [
    "### 1.2 Operators"
   ]
  },
  {
   "cell_type": "markdown",
   "id": "2b32a755-70fa-4002-9a94-89c982f012e6",
   "metadata": {},
   "source": [
    "#Arithmatic operator--,+,*,/,//,%"
   ]
  },
  {
   "cell_type": "code",
   "execution_count": 14,
   "id": "466ae30c-1063-49a6-a5a3-9d4dfc4cd34d",
   "metadata": {},
   "outputs": [
    {
     "name": "stdout",
     "output_type": "stream",
     "text": [
      "0.8\n",
      "81\n"
     ]
    }
   ],
   "source": [
    "a=4\n",
    "b=5\n",
    "print(a/b)\n",
    "exp=(a+b)**2\n",
    "print(exp)"
   ]
  },
  {
   "cell_type": "markdown",
   "id": "aea0115d-f9c1-4298-aca0-a74d8ab5140d",
   "metadata": {},
   "source": [
    "#Relational operator ->,<,<=,>=,==,!="
   ]
  },
  {
   "cell_type": "code",
   "execution_count": 15,
   "id": "98969b9c-2b6b-4d43-b13d-0a0b40df9f57",
   "metadata": {},
   "outputs": [
    {
     "name": "stdout",
     "output_type": "stream",
     "text": [
      "False\n"
     ]
    }
   ],
   "source": [
    "a=4\n",
    "b=5\n",
    "print(a==b)"
   ]
  },
  {
   "cell_type": "code",
   "execution_count": null,
   "id": "2372a8f5-0d4d-42a7-924f-f78f9595dd95",
   "metadata": {},
   "outputs": [],
   "source": [
    "a=5"
   ]
  },
  {
   "cell_type": "code",
   "execution_count": 16,
   "id": "5522257a-ade5-4382-ab10-2ac744a04742",
   "metadata": {},
   "outputs": [],
   "source": [
    "b=6"
   ]
  },
  {
   "cell_type": "code",
   "execution_count": 17,
   "id": "b3bec960-73fd-4eea-939c-a73145f8e1c9",
   "metadata": {},
   "outputs": [
    {
     "data": {
      "text/plain": [
       "False"
      ]
     },
     "execution_count": 17,
     "metadata": {},
     "output_type": "execute_result"
    }
   ],
   "source": [
    "a==b"
   ]
  },
  {
   "cell_type": "markdown",
   "id": "d5553176-775f-43e6-9277-6099a82ad259",
   "metadata": {},
   "source": [
    "#logical operator-and or not"
   ]
  },
  {
   "cell_type": "code",
   "execution_count": 19,
   "id": "041e9ff8-f2cf-4b52-97d1-37fb40f95618",
   "metadata": {},
   "outputs": [
    {
     "data": {
      "text/plain": [
       "True"
      ]
     },
     "execution_count": 19,
     "metadata": {},
     "output_type": "execute_result"
    }
   ],
   "source": [
    "a=5\n",
    "b=6\n",
    "(a*b)!=0"
   ]
  },
  {
   "cell_type": "markdown",
   "id": "a40d788a-e087-45e7-bd0b-d505f2e43c18",
   "metadata": {},
   "source": [
    "### Built in functions for Numbers"
   ]
  },
  {
   "cell_type": "code",
   "execution_count": 24,
   "id": "a07ff2ca-331e-43c7-99a1-00bfcc033d88",
   "metadata": {},
   "outputs": [
    {
     "data": {
      "text/plain": [
       "'0b11'"
      ]
     },
     "execution_count": 24,
     "metadata": {},
     "output_type": "execute_result"
    }
   ],
   "source": [
    "bin(3)"
   ]
  },
  {
   "cell_type": "code",
   "execution_count": 25,
   "id": "669e7735-8b96-46ad-a0f8-ab64c4480c95",
   "metadata": {},
   "outputs": [
    {
     "data": {
      "text/plain": [
       "'-0b1010'"
      ]
     },
     "execution_count": 25,
     "metadata": {},
     "output_type": "execute_result"
    }
   ],
   "source": [
    "bin(-10)"
   ]
  },
  {
   "cell_type": "code",
   "execution_count": 26,
   "id": "f4776332-b627-4113-9086-8417214e32f8",
   "metadata": {},
   "outputs": [],
   "source": [
    "i=\"234\""
   ]
  },
  {
   "cell_type": "code",
   "execution_count": 29,
   "id": "ec4d75f6-bae7-4692-8230-1dd30b071879",
   "metadata": {},
   "outputs": [
    {
     "data": {
      "text/plain": [
       "240"
      ]
     },
     "execution_count": 29,
     "metadata": {},
     "output_type": "execute_result"
    }
   ],
   "source": [
    "int(i)+6"
   ]
  },
  {
   "cell_type": "code",
   "execution_count": 28,
   "id": "2cfd9db4-61f6-4c1f-9bb8-f388da4ecf11",
   "metadata": {},
   "outputs": [
    {
     "data": {
      "text/plain": [
       "str"
      ]
     },
     "execution_count": 28,
     "metadata": {},
     "output_type": "execute_result"
    }
   ],
   "source": [
    "type(i)"
   ]
  },
  {
   "cell_type": "code",
   "execution_count": 30,
   "id": "4aa81a6f-2771-4fe8-99de-86501caafe01",
   "metadata": {},
   "outputs": [
    {
     "data": {
      "text/plain": [
       "238.0"
      ]
     },
     "execution_count": 30,
     "metadata": {},
     "output_type": "execute_result"
    }
   ],
   "source": [
    "float(i)+4"
   ]
  },
  {
   "cell_type": "code",
   "execution_count": 31,
   "id": "b6285c98-4df0-4e85-b536-7ca42aa14e07",
   "metadata": {},
   "outputs": [
    {
     "data": {
      "text/plain": [
       "'0b11101010'"
      ]
     },
     "execution_count": 31,
     "metadata": {},
     "output_type": "execute_result"
    }
   ],
   "source": [
    "bin(int(i))"
   ]
  },
  {
   "cell_type": "code",
   "execution_count": 33,
   "id": "334f9ae1-02a6-48c5-8541-69e9b2604e42",
   "metadata": {},
   "outputs": [
    {
     "data": {
      "text/plain": [
       "'0o352'"
      ]
     },
     "execution_count": 33,
     "metadata": {},
     "output_type": "execute_result"
    }
   ],
   "source": [
    "oct(int(i))"
   ]
  },
  {
   "cell_type": "code",
   "execution_count": null,
   "id": "2d2c7146-ab37-4747-b9de-2d36b1283f76",
   "metadata": {},
   "outputs": [],
   "source": [
    "s='11011001'"
   ]
  },
  {
   "cell_type": "code",
   "execution_count": 37,
   "id": "74507ac0-6c70-48bf-96a2-e1d05e09f9b3",
   "metadata": {},
   "outputs": [
    {
     "ename": "NameError",
     "evalue": "name 's' is not defined",
     "output_type": "error",
     "traceback": [
      "\u001b[1;31m---------------------------------------------------------------------------\u001b[0m",
      "\u001b[1;31mNameError\u001b[0m                                 Traceback (most recent call last)",
      "Cell \u001b[1;32mIn[37], line 1\u001b[0m\n\u001b[1;32m----> 1\u001b[0m \u001b[38;5;28mint\u001b[39m(s, base\u001b[38;5;241m=\u001b[39m\u001b[38;5;241m2\u001b[39m)\n",
      "\u001b[1;31mNameError\u001b[0m: name 's' is not defined"
     ]
    }
   ],
   "source": [
    "int(s, base=2)"
   ]
  },
  {
   "cell_type": "code",
   "execution_count": null,
   "id": "76459708-5958-45db-b641-4d457f1d6e6b",
   "metadata": {},
   "outputs": [],
   "source": []
  }
 ],
 "metadata": {
  "kernelspec": {
   "display_name": "Python 3 (ipykernel)",
   "language": "python",
   "name": "python3"
  },
  "language_info": {
   "codemirror_mode": {
    "name": "ipython",
    "version": 3
   },
   "file_extension": ".py",
   "mimetype": "text/x-python",
   "name": "python",
   "nbconvert_exporter": "python",
   "pygments_lexer": "ipython3",
   "version": "3.12.4"
  }
 },
 "nbformat": 4,
 "nbformat_minor": 5
}
