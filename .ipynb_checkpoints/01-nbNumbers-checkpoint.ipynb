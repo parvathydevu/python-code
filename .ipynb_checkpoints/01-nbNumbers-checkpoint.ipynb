{
 "cells": [
  {
   "cell_type": "code",
   "execution_count": 1,
   "id": "cae213e1-a5a1-442c-9d9a-76e04b622135",
   "metadata": {},
   "outputs": [
    {
     "name": "stdout",
     "output_type": "stream",
     "text": [
      "hello\n"
     ]
    }
   ],
   "source": [
    "print(\"hello\")"
   ]
  },
  {
   "cell_type": "code",
   "execution_count": 2,
   "id": "ff258863-b493-4085-9707-a525b1e65921",
   "metadata": {},
   "outputs": [
    {
     "name": "stdout",
     "output_type": "stream",
     "text": [
      "13\n"
     ]
    }
   ],
   "source": [
    "a=6\n",
    "b=7\n",
    "print(a+b)"
   ]
  },
  {
   "cell_type": "code",
   "execution_count": 1,
   "id": "a2ff4739-76ed-4c7a-913d-9a5b1a59feb5",
   "metadata": {},
   "outputs": [
    {
     "name": "stdout",
     "output_type": "stream",
     "text": [
      "Hello jupyter notebook\n"
     ]
    }
   ],
   "source": [
    "print(\"Hello jupyter notebook\")"
   ]
  },
  {
   "cell_type": "markdown",
   "id": "f0c51477-edb5-4578-acc7-279f0d2cbf97",
   "metadata": {
    "jp-MarkdownHeadingCollapsed": true
   },
   "source": [
    "### Python Work"
   ]
  },
  {
   "cell_type": "markdown",
   "id": "118f1b36-545e-4122-affd-1f7d23dbaac4",
   "metadata": {},
   "source": [
    "### 1.1Support for NUMERIC VALUES"
   ]
  },
  {
   "cell_type": "code",
   "execution_count": 7,
   "id": "f578a26d-d918-48e0-9429-eff82dabb25b",
   "metadata": {},
   "outputs": [
    {
     "name": "stdout",
     "output_type": "stream",
     "text": [
      "10 12\n"
     ]
    }
   ],
   "source": [
    "a=10\n",
    "b=12\n",
    "print(a,b)"
   ]
  },
  {
   "cell_type": "markdown",
   "id": "669e8ad1-ba0e-4b87-9fc4-83bc7c847415",
   "metadata": {},
   "source": [
    "### 1.2 Operators"
   ]
  },
  {
   "cell_type": "markdown",
   "id": "2b32a755-70fa-4002-9a94-89c982f012e6",
   "metadata": {},
   "source": [
    "#Arithmatic operator--,+,*,/,//,%"
   ]
  },
  {
   "cell_type": "code",
   "execution_count": 14,
   "id": "466ae30c-1063-49a6-a5a3-9d4dfc4cd34d",
   "metadata": {},
   "outputs": [
    {
     "name": "stdout",
     "output_type": "stream",
     "text": [
      "0.8\n",
      "81\n"
     ]
    }
   ],
   "source": [
    "a=4\n",
    "b=5\n",
    "print(a/b)\n",
    "exp=(a+b)**2\n",
    "print(exp)"
   ]
  },
  {
   "cell_type": "markdown",
   "id": "aea0115d-f9c1-4298-aca0-a74d8ab5140d",
   "metadata": {},
   "source": [
    "#Relational operator ->,<,<=,>=,==,!="
   ]
  },
  {
   "cell_type": "code",
   "execution_count": 15,
   "id": "98969b9c-2b6b-4d43-b13d-0a0b40df9f57",
   "metadata": {},
   "outputs": [
    {
     "name": "stdout",
     "output_type": "stream",
     "text": [
      "False\n"
     ]
    }
   ],
   "source": [
    "a=4\n",
    "b=5\n",
    "print(a==b)"
   ]
  },
  {
   "cell_type": "code",
   "execution_count": 1,
   "id": "73c9e34f-202e-48c8-a192-97a03cd844b0",
   "metadata": {},
   "outputs": [
    {
     "data": {
      "text/plain": [
       "3"
      ]
     },
     "execution_count": 1,
     "metadata": {},
     "output_type": "execute_result"
    }
   ],
   "source": [
    "r=1\n",
    "t=3\n",
    "(r*t)+(r//t)**2"
   ]
  },
  {
   "cell_type": "code",
   "execution_count": null,
   "id": "2372a8f5-0d4d-42a7-924f-f78f9595dd95",
   "metadata": {},
   "outputs": [],
   "source": [
    "a=5"
   ]
  },
  {
   "cell_type": "code",
   "execution_count": 16,
   "id": "5522257a-ade5-4382-ab10-2ac744a04742",
   "metadata": {},
   "outputs": [],
   "source": [
    "b=6"
   ]
  },
  {
   "cell_type": "code",
   "execution_count": 17,
   "id": "b3bec960-73fd-4eea-939c-a73145f8e1c9",
   "metadata": {},
   "outputs": [
    {
     "data": {
      "text/plain": [
       "False"
      ]
     },
     "execution_count": 17,
     "metadata": {},
     "output_type": "execute_result"
    }
   ],
   "source": [
    "a==b"
   ]
  },
  {
   "cell_type": "markdown",
   "id": "d5553176-775f-43e6-9277-6099a82ad259",
   "metadata": {},
   "source": [
    "#logical operator-and or not"
   ]
  },
  {
   "cell_type": "code",
   "execution_count": 19,
   "id": "041e9ff8-f2cf-4b52-97d1-37fb40f95618",
   "metadata": {},
   "outputs": [
    {
     "data": {
      "text/plain": [
       "True"
      ]
     },
     "execution_count": 19,
     "metadata": {},
     "output_type": "execute_result"
    }
   ],
   "source": [
    "a=5\n",
    "b=6\n",
    "(a*b)!=0"
   ]
  },
  {
   "cell_type": "markdown",
   "id": "a40d788a-e087-45e7-bd0b-d505f2e43c18",
   "metadata": {},
   "source": [
    "### Built in functions for Numbers"
   ]
  },
  {
   "cell_type": "code",
   "execution_count": 24,
   "id": "a07ff2ca-331e-43c7-99a1-00bfcc033d88",
   "metadata": {},
   "outputs": [
    {
     "data": {
      "text/plain": [
       "'0b11'"
      ]
     },
     "execution_count": 24,
     "metadata": {},
     "output_type": "execute_result"
    }
   ],
   "source": [
    "bin(3)"
   ]
  },
  {
   "cell_type": "code",
   "execution_count": 25,
   "id": "669e7735-8b96-46ad-a0f8-ab64c4480c95",
   "metadata": {},
   "outputs": [
    {
     "data": {
      "text/plain": [
       "'-0b1010'"
      ]
     },
     "execution_count": 25,
     "metadata": {},
     "output_type": "execute_result"
    }
   ],
   "source": [
    "bin(-10)"
   ]
  },
  {
   "cell_type": "code",
   "execution_count": 26,
   "id": "f4776332-b627-4113-9086-8417214e32f8",
   "metadata": {},
   "outputs": [],
   "source": [
    "i=\"234\""
   ]
  },
  {
   "cell_type": "code",
   "execution_count": 29,
   "id": "ec4d75f6-bae7-4692-8230-1dd30b071879",
   "metadata": {},
   "outputs": [
    {
     "data": {
      "text/plain": [
       "240"
      ]
     },
     "execution_count": 29,
     "metadata": {},
     "output_type": "execute_result"
    }
   ],
   "source": [
    "int(i)+6"
   ]
  },
  {
   "cell_type": "code",
   "execution_count": 28,
   "id": "2cfd9db4-61f6-4c1f-9bb8-f388da4ecf11",
   "metadata": {},
   "outputs": [
    {
     "data": {
      "text/plain": [
       "str"
      ]
     },
     "execution_count": 28,
     "metadata": {},
     "output_type": "execute_result"
    }
   ],
   "source": [
    "type(i)"
   ]
  },
  {
   "cell_type": "code",
   "execution_count": 30,
   "id": "4aa81a6f-2771-4fe8-99de-86501caafe01",
   "metadata": {},
   "outputs": [
    {
     "data": {
      "text/plain": [
       "238.0"
      ]
     },
     "execution_count": 30,
     "metadata": {},
     "output_type": "execute_result"
    }
   ],
   "source": [
    "float(i)+4"
   ]
  },
  {
   "cell_type": "code",
   "execution_count": 31,
   "id": "b6285c98-4df0-4e85-b536-7ca42aa14e07",
   "metadata": {},
   "outputs": [
    {
     "data": {
      "text/plain": [
       "'0b11101010'"
      ]
     },
     "execution_count": 31,
     "metadata": {},
     "output_type": "execute_result"
    }
   ],
   "source": [
    "bin(int(i))"
   ]
  },
  {
   "cell_type": "code",
   "execution_count": 33,
   "id": "334f9ae1-02a6-48c5-8541-69e9b2604e42",
   "metadata": {},
   "outputs": [
    {
     "data": {
      "text/plain": [
       "'0o352'"
      ]
     },
     "execution_count": 33,
     "metadata": {},
     "output_type": "execute_result"
    }
   ],
   "source": [
    "oct(int(i))"
   ]
  },
  {
   "cell_type": "code",
   "execution_count": null,
   "id": "2d2c7146-ab37-4747-b9de-2d36b1283f76",
   "metadata": {},
   "outputs": [],
   "source": [
    "s='11011001'"
   ]
  },
  {
   "cell_type": "code",
   "execution_count": 39,
   "id": "74507ac0-6c70-48bf-96a2-e1d05e09f9b3",
   "metadata": {},
   "outputs": [
    {
     "data": {
      "text/plain": [
       "217"
      ]
     },
     "execution_count": 39,
     "metadata": {},
     "output_type": "execute_result"
    }
   ],
   "source": [
    "s='11011001'\n",
    "int(s, base=2)"
   ]
  },
  {
   "cell_type": "code",
   "execution_count": 41,
   "id": "76459708-5958-45db-b641-4d457f1d6e6b",
   "metadata": {},
   "outputs": [
    {
     "data": {
      "text/plain": [
       "3.5"
      ]
     },
     "execution_count": 41,
     "metadata": {},
     "output_type": "execute_result"
    }
   ],
   "source": [
    "a=7\n",
    "b=2\n",
    "a/b"
   ]
  },
  {
   "cell_type": "code",
   "execution_count": 42,
   "id": "2ec9b68b-f24c-49fb-b478-568883273438",
   "metadata": {},
   "outputs": [
    {
     "data": {
      "text/plain": [
       "4"
      ]
     },
     "execution_count": 42,
     "metadata": {},
     "output_type": "execute_result"
    }
   ],
   "source": [
    "round(a/b)"
   ]
  },
  {
   "cell_type": "code",
   "execution_count": 43,
   "id": "4022e410-37ec-4b43-986d-7dc8d6d42d6a",
   "metadata": {},
   "outputs": [
    {
     "data": {
      "text/plain": [
       "8"
      ]
     },
     "execution_count": 43,
     "metadata": {},
     "output_type": "execute_result"
    }
   ],
   "source": [
    "abs(5-13)"
   ]
  },
  {
   "cell_type": "code",
   "execution_count": 44,
   "id": "58b6c4bf-48ef-4af0-b25c-41cc3bbe9833",
   "metadata": {},
   "outputs": [
    {
     "data": {
      "text/plain": [
       "8"
      ]
     },
     "execution_count": 44,
     "metadata": {},
     "output_type": "execute_result"
    }
   ],
   "source": [
    "abs(13-5)"
   ]
  },
  {
   "cell_type": "markdown",
   "id": "28f39b00-ddb9-42f8-8166-ac9bfcd94e2b",
   "metadata": {},
   "source": [
    "### Built in modules for numbers"
   ]
  },
  {
   "cell_type": "code",
   "execution_count": 52,
   "id": "3ab36ce5-ca46-40ae-922b-7354c370bc81",
   "metadata": {},
   "outputs": [],
   "source": [
    "a=90"
   ]
  },
  {
   "cell_type": "code",
   "execution_count": 53,
   "id": "8d6dff02-8981-4abe-b206-8796db12f54b",
   "metadata": {},
   "outputs": [
    {
     "ename": "NameError",
     "evalue": "name 'sin' is not defined",
     "output_type": "error",
     "traceback": [
      "\u001b[1;31m---------------------------------------------------------------------------\u001b[0m",
      "\u001b[1;31mNameError\u001b[0m                                 Traceback (most recent call last)",
      "Cell \u001b[1;32mIn[53], line 1\u001b[0m\n\u001b[1;32m----> 1\u001b[0m sin(x)\n",
      "\u001b[1;31mNameError\u001b[0m: name 'sin' is not defined"
     ]
    }
   ],
   "source": [
    "sin(a)"
   ]
  },
  {
   "cell_type": "code",
   "execution_count": 62,
   "id": "92ea9bb8-9714-4c94-9a0f-a0bec97ea1d1",
   "metadata": {},
   "outputs": [
    {
     "data": {
      "text/plain": [
       "1.0"
      ]
     },
     "execution_count": 62,
     "metadata": {},
     "output_type": "execute_result"
    }
   ],
   "source": [
    "import math\n",
    "x=90\n",
    "math.sin(x)\n",
    "math.sin(x*(3.14159/180))\n",
    "math.sin(x*(math.pi/180))"
   ]
  },
  {
   "cell_type": "code",
   "execution_count": 63,
   "id": "967a579d-586c-4bc1-a1dc-b3643759876a",
   "metadata": {},
   "outputs": [],
   "source": [
    "import random"
   ]
  },
  {
   "cell_type": "code",
   "execution_count": 64,
   "id": "f62a4dbf-22bb-43e9-bbda-b4d6729c9d0b",
   "metadata": {},
   "outputs": [
    {
     "data": {
      "text/plain": [
       "45"
      ]
     },
     "execution_count": 64,
     "metadata": {},
     "output_type": "execute_result"
    }
   ],
   "source": [
    "random.randint(1,100)"
   ]
  },
  {
   "cell_type": "code",
   "execution_count": 65,
   "id": "f7ddb774-26b4-4e25-aec4-7f9c8e90f3db",
   "metadata": {},
   "outputs": [
    {
     "data": {
      "text/plain": [
       "88"
      ]
     },
     "execution_count": 65,
     "metadata": {},
     "output_type": "execute_result"
    }
   ],
   "source": [
    "random.randint(1,100)"
   ]
  },
  {
   "cell_type": "code",
   "execution_count": 66,
   "id": "5e303729-0c51-4ccf-9670-f303633d6b05",
   "metadata": {},
   "outputs": [
    {
     "data": {
      "text/plain": [
       "1.113387858899951"
      ]
     },
     "execution_count": 66,
     "metadata": {},
     "output_type": "execute_result"
    }
   ],
   "source": [
    "random.uniform(1,10)"
   ]
  },
  {
   "cell_type": "code",
   "execution_count": 67,
   "id": "42a29adc-d0f2-4c67-bace-e8e1b74db772",
   "metadata": {},
   "outputs": [
    {
     "data": {
      "text/plain": [
       "0.988376872229476"
      ]
     },
     "execution_count": 67,
     "metadata": {},
     "output_type": "execute_result"
    }
   ],
   "source": [
    "random.random()"
   ]
  },
  {
   "cell_type": "code",
   "execution_count": 68,
   "id": "9c13c892-fd18-4aa3-9876-aac36689df29",
   "metadata": {},
   "outputs": [
    {
     "data": {
      "text/plain": [
       "17.651887284388177"
      ]
     },
     "execution_count": 68,
     "metadata": {},
     "output_type": "execute_result"
    }
   ],
   "source": [
    "random.uniform(1,20)"
   ]
  },
  {
   "cell_type": "markdown",
   "id": "e7b40783-ff13-4867-9095-0df08be82dce",
   "metadata": {},
   "source": [
    "### Exercises"
   ]
  },
  {
   "cell_type": "markdown",
   "id": "8a16e050-fcf5-4220-9299-8e8223948d06",
   "metadata": {},
   "source": [
    "1.Given temperature t in celcius , write a python expression to convert into  farenheit"
   ]
  },
  {
   "cell_type": "code",
   "execution_count": 88,
   "id": "7f1317cb-ce4d-438e-aa10-837251d4a204",
   "metadata": {},
   "outputs": [
    {
     "name": "stdout",
     "output_type": "stream",
     "text": [
      "Celcius into farenheit: 77.0 °F\n"
     ]
    }
   ],
   "source": [
    "t=25\n",
    "faren =(t*9/5)+32\n",
    "print(\"Celcius into farenheit:\", faren,\"°F\")"
   ]
  },
  {
   "cell_type": "markdown",
   "id": "de791e54-f91b-49c3-82b4-42b311df61c2",
   "metadata": {},
   "source": [
    "2.Given two points A(x1,y1) ,B(x2,y2). calculate the straight line distance between them"
   ]
  },
  {
   "cell_type": "code",
   "execution_count": 96,
   "id": "8924c4b3-36b0-4c50-b56d-0ac84f36cb26",
   "metadata": {},
   "outputs": [
    {
     "name": "stdout",
     "output_type": "stream",
     "text": [
      "Distance between two points: 3.605551275463989\n",
      "Rounded: 4\n"
     ]
    }
   ],
   "source": [
    "import math\n",
    "x1,x2=2,0\n",
    "y1,y2=0,3\n",
    "distance=math.sqrt((x2 - x1)**2 + (y2 - y1)**2)\n",
    "print(\"Distance between two points:\", distance)\n",
    "print(\"Rounded:\", round(distance))"
   ]
  },
  {
   "cell_type": "markdown",
   "id": "32a04437-6c6c-4b81-978b-3cfd1696daea",
   "metadata": {},
   "source": [
    "3. calculate the area of triangle of given three points A(x1,y1), B(x2,y2), C(x3,y3)"
   ]
  },
  {
   "cell_type": "code",
   "execution_count": 92,
   "id": "75f21768-9d68-4643-bebb-2c0a0ec889f2",
   "metadata": {},
   "outputs": [
    {
     "name": "stdout",
     "output_type": "stream",
     "text": [
      "The area of traingle: 1.5\n"
     ]
    }
   ],
   "source": [
    "x1,x2,x3=4,5,3\n",
    "y1,y2,y3=2,3,4\n",
    "result= abs((x1*(y2 - y3) + x2*(y3 - y1) + x3*(y1 - y2)) / 2)\n",
    "print(\"The area of traingle:\", result)"
   ]
  },
  {
   "cell_type": "code",
   "execution_count": 3,
   "id": "c0960a53-84de-401e-bdc9-952d729166b3",
   "metadata": {},
   "outputs": [
    {
     "name": "stdin",
     "output_type": "stream",
     "text": [
      "Enter the first number:  5\n",
      "Enter the second number:  13\n"
     ]
    },
    {
     "name": "stdout",
     "output_type": "stream",
     "text": [
      "Differnce is :  8\n",
      "The reuslt is negative\n"
     ]
    }
   ],
   "source": [
    "a = int(input(\"Enter the first number: \"))\n",
    "b = int(input(\"Enter the second number: \"))\n",
    "\n",
    "# process\n",
    "res = a- b\n",
    "\n",
    "# output\n",
    "print(\"Differnce is : \", abs(res))\n",
    "if( res > 0):\n",
    "    print(\"The result is positive\")\n",
    "elif (res < 0):\n",
    "    print(\"The reuslt is negative\")\n",
    "else:\n",
    "    print(\"The result is zero\")"
   ]
  },
  {
   "cell_type": "code",
   "execution_count": 7,
   "id": "e71107e0-ab17-46a7-9e4e-561f52b28ddb",
   "metadata": {},
   "outputs": [
    {
     "data": {
      "text/plain": [
       "4"
      ]
     },
     "execution_count": 7,
     "metadata": {},
     "output_type": "execute_result"
    }
   ],
   "source": [
    "x=\"access\"\n",
    "x.find('s')  #provide index of first s in string"
   ]
  },
  {
   "cell_type": "code",
   "execution_count": 8,
   "id": "541a97d3-263e-4971-81a0-4ad25ba13a0f",
   "metadata": {},
   "outputs": [
    {
     "data": {
      "text/plain": [
       "'access'"
      ]
     },
     "execution_count": 8,
     "metadata": {},
     "output_type": "execute_result"
    }
   ],
   "source": [
    "x"
   ]
  },
  {
   "cell_type": "code",
   "execution_count": 10,
   "id": "79f21351-d273-4a7b-bff1-12e05eec1da8",
   "metadata": {},
   "outputs": [
    {
     "data": {
      "text/plain": [
       "4"
      ]
     },
     "execution_count": 10,
     "metadata": {},
     "output_type": "execute_result"
    }
   ],
   "source": [
    "x.index('ss') #same as find method "
   ]
  },
  {
   "cell_type": "code",
   "execution_count": null,
   "id": "7b9cad08-3808-4721-b948-817c3e92cbc1",
   "metadata": {},
   "outputs": [],
   "source": []
  }
 ],
 "metadata": {
  "kernelspec": {
   "display_name": "Python 3 (ipykernel)",
   "language": "python",
   "name": "python3"
  },
  "language_info": {
   "codemirror_mode": {
    "name": "ipython",
    "version": 3
   },
   "file_extension": ".py",
   "mimetype": "text/x-python",
   "name": "python",
   "nbconvert_exporter": "python",
   "pygments_lexer": "ipython3",
   "version": "3.12.4"
  }
 },
 "nbformat": 4,
 "nbformat_minor": 5
}
