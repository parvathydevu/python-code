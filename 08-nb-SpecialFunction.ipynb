{
 "cells": [
  {
   "cell_type": "markdown",
   "id": "65b22451-143c-4a5d-bff1-95e38a5efa31",
   "metadata": {},
   "source": [
    "### 8Function"
   ]
  },
  {
   "cell_type": "markdown",
   "id": "0d96221e-bdcc-4b27-8ee7-8349b00e7fe4",
   "metadata": {},
   "source": [
    "#8.1 Function definition"
   ]
  },
  {
   "cell_type": "markdown",
   "id": "1c52c1d0-7a4e-4108-8938-8ec07ea72c54",
   "metadata": {},
   "source": [
    "#def statement "
   ]
  },
  {
   "cell_type": "markdown",
   "id": "211174dc-1ca5-42ff-8272-aee2d43fd404",
   "metadata": {},
   "source": [
    "def <functionname>(input_value):\n",
    "    return (output_value)\n",
    "    "
   ]
  },
  {
   "cell_type": "code",
   "execution_count": 11,
   "id": "b8925c29-2eaa-41ea-bbea-905a01f2e740",
   "metadata": {},
   "outputs": [],
   "source": [
    "def checkprime(n):\n",
    "    prime=True\n",
    "    for i in range(2,n):\n",
    "        if (n%i==0):\n",
    "            prime=False\n",
    "            break\n",
    "        return prime"
   ]
  },
  {
   "cell_type": "code",
   "execution_count": 12,
   "id": "e5ef8103-0322-48c7-92e8-263ada98790c",
   "metadata": {},
   "outputs": [
    {
     "data": {
      "text/plain": [
       "True"
      ]
     },
     "execution_count": 12,
     "metadata": {},
     "output_type": "execute_result"
    }
   ],
   "source": [
    "checkprime(19)"
   ]
  },
  {
   "cell_type": "code",
   "execution_count": 13,
   "id": "40afa529-2442-4cf7-968a-d9de90adbfc5",
   "metadata": {},
   "outputs": [
    {
     "data": {
      "text/plain": [
       "True"
      ]
     },
     "execution_count": 13,
     "metadata": {},
     "output_type": "execute_result"
    }
   ],
   "source": [
    "checkprime(3)"
   ]
  },
  {
   "cell_type": "code",
   "execution_count": 19,
   "id": "0152e94e-9aca-4955-b844-5ddf700c5d44",
   "metadata": {},
   "outputs": [
    {
     "data": {
      "text/plain": [
       "True"
      ]
     },
     "execution_count": 19,
     "metadata": {},
     "output_type": "execute_result"
    }
   ],
   "source": [
    "checkprime(9)"
   ]
  },
  {
   "cell_type": "code",
   "execution_count": 16,
   "id": "17171074-72f3-4741-8e4f-198727ed3cf5",
   "metadata": {},
   "outputs": [],
   "source": [
    "#extract all the prime numbers between 2 and 100"
   ]
  },
  {
   "cell_type": "code",
   "execution_count": 21,
   "id": "125f40b6-5316-4e24-9b07-514a6771621a",
   "metadata": {},
   "outputs": [
    {
     "data": {
      "text/plain": [
       "[3, 5, 7, 9, 11, 13, 15, 17, 19, 21, 23, 25, 27, 29]"
      ]
     },
     "execution_count": 21,
     "metadata": {},
     "output_type": "execute_result"
    }
   ],
   "source": [
    "N=list(range(2,30))\n",
    "primes=[]\n",
    "for num in N:\n",
    "    if checkprime(num):  #function call \n",
    "        primes.append(num)\n",
    "primes"
   ]
  },
  {
   "cell_type": "markdown",
   "id": "18879502-f342-4c0b-a925-4236e3da7984",
   "metadata": {},
   "source": [
    "# 8.2 Lambda function"
   ]
  },
  {
   "cell_type": "markdown",
   "id": "49b3f1ea-7c00-482e-9e70-57828aab0829",
   "metadata": {},
   "source": [
    "### they are anonymous functions with short definitions, the lambda expression returns a function object"
   ]
  },
  {
   "cell_type": "code",
   "execution_count": null,
   "id": "8e5926d1-c09c-4a88-93e4-c0c893b4a583",
   "metadata": {},
   "outputs": [],
   "source": [
    "F= lambda <input> : <output>"
   ]
  },
  {
   "cell_type": "code",
   "execution_count": 22,
   "id": "a4c3032a-5402-4276-8625-394b31d7cf15",
   "metadata": {},
   "outputs": [],
   "source": [
    "f=lambda a,b,c:a+b+c  #function definition"
   ]
  },
  {
   "cell_type": "code",
   "execution_count": 24,
   "id": "532e91f2-0b33-43e7-a061-39a506c13a67",
   "metadata": {},
   "outputs": [
    {
     "data": {
      "text/plain": [
       "60"
      ]
     },
     "execution_count": 24,
     "metadata": {},
     "output_type": "execute_result"
    }
   ],
   "source": [
    "f(10,20,30)  #function call "
   ]
  },
  {
   "cell_type": "code",
   "execution_count": 25,
   "id": "04409bdc-3f40-4258-b194-3b591cd32054",
   "metadata": {},
   "outputs": [
    {
     "data": {
      "text/plain": [
       "function"
      ]
     },
     "execution_count": 25,
     "metadata": {},
     "output_type": "execute_result"
    }
   ],
   "source": [
    "type(f) "
   ]
  },
  {
   "cell_type": "code",
   "execution_count": 27,
   "id": "c6b76181-39d4-48f0-ab0b-da723159066b",
   "metadata": {},
   "outputs": [
    {
     "data": {
      "text/plain": [
       "'abcdeffrg'"
      ]
     },
     "execution_count": 27,
     "metadata": {},
     "output_type": "execute_result"
    }
   ],
   "source": [
    "f('abc','def','frg')  #if we taking strings and call it "
   ]
  },
  {
   "cell_type": "code",
   "execution_count": 28,
   "id": "286ee83e-f74e-432f-998b-2c77b9ebe43e",
   "metadata": {},
   "outputs": [
    {
     "data": {
      "text/plain": [
       "[1, 2, 3, 3, 4, 5, 6, 7, 8]"
      ]
     },
     "execution_count": 28,
     "metadata": {},
     "output_type": "execute_result"
    }
   ],
   "source": [
    "f([1,2,3],[3,4],[5,6,7,8])#if we taking list and call it "
   ]
  },
  {
   "cell_type": "code",
   "execution_count": 29,
   "id": "0d727fe9-2185-4221-a3b2-d515b371d37a",
   "metadata": {},
   "outputs": [
    {
     "data": {
      "text/plain": [
       "106.7"
      ]
     },
     "execution_count": 29,
     "metadata": {},
     "output_type": "execute_result"
    }
   ],
   "source": [
    "f(10.0,80.0,16.7)"
   ]
  },
  {
   "cell_type": "markdown",
   "id": "7941e1b4-02d4-4d58-b084-d43320b41b2a",
   "metadata": {},
   "source": [
    "# 8.3 Special functions"
   ]
  },
  {
   "cell_type": "code",
   "execution_count": 30,
   "id": "3f42ace1-9877-4df2-b3b5-28327d60b1c1",
   "metadata": {},
   "outputs": [],
   "source": [
    "T= [12,34,45,67,89]  #temperature in celcius"
   ]
  },
  {
   "cell_type": "code",
   "execution_count": 32,
   "id": "66eebbc9-0e2e-4946-8b22-757755882214",
   "metadata": {},
   "outputs": [
    {
     "data": {
      "text/plain": [
       "[53.6, 93.2, 113.0, 152.60000000000002, 192.20000000000002]"
      ]
     },
     "execution_count": 32,
     "metadata": {},
     "output_type": "execute_result"
    }
   ],
   "source": [
    "F=[]\n",
    "for temp in T:\n",
    "    F.append(temp*1.8+32)\n",
    "F"
   ]
  },
  {
   "cell_type": "markdown",
   "id": "a3a66db7-6a03-40df-b44a-2778c1d69be2",
   "metadata": {},
   "source": [
    "#map function-map it takes two arguments. map(<function>,<iterator>)  ->colllections is provide "
   ]
  },
  {
   "cell_type": "code",
   "execution_count": 34,
   "id": "5e0771b9-5eb1-405b-892d-bb695cfa7880",
   "metadata": {},
   "outputs": [],
   "source": [
    "F1=map(lambda t:t*1.8+32,T)# T is iterator"
   ]
  },
  {
   "cell_type": "code",
   "execution_count": 35,
   "id": "ee5dd79e-8319-42b9-a312-f7b32a5d7029",
   "metadata": {},
   "outputs": [
    {
     "data": {
      "text/plain": [
       "[53.6, 93.2, 113.0, 152.60000000000002, 192.20000000000002]"
      ]
     },
     "execution_count": 35,
     "metadata": {},
     "output_type": "execute_result"
    }
   ],
   "source": [
    "list(F1)"
   ]
  },
  {
   "cell_type": "markdown",
   "id": "3ac38bb7-f34e-474d-b6fd-41f806ebd6d0",
   "metadata": {},
   "source": [
    "#map()\n",
    "#function: The function to apply to each item.\n",
    "#iterable: One or more iterables (e.g., list, tuple"
   ]
  },
  {
   "cell_type": "markdown",
   "id": "cb23195b-1488-4744-a053-ae20dcfffb77",
   "metadata": {},
   "source": [
    "# map() #function: The function to apply to each item. #iterable: One or more iterables (e.g., list, tuple)"
   ]
  },
  {
   "cell_type": "markdown",
   "id": "45603c54-200e-4adb-89e1-5277c59aff5b",
   "metadata": {},
   "source": [
    "### filter is a built in function - filter(function,iterator)--filtered collection"
   ]
  },
  {
   "cell_type": "markdown",
   "id": "4cce88e7-2e9f-43dc-be1f-b193e1d3f2d0",
   "metadata": {},
   "source": [
    "### map() #function: The function to apply to each item. #iterable: One or more iterables (e.g., list, tuple)"
   ]
  },
  {
   "cell_type": "code",
   "execution_count": 37,
   "id": "1421c8ea-d47c-43a1-a20b-1c5d173477be",
   "metadata": {},
   "outputs": [
    {
     "data": {
      "text/plain": [
       "[3, 5, 7, 9, 11, 13, 15, 17, 19, 21, 23, 25, 27, 29]"
      ]
     },
     "execution_count": 37,
     "metadata": {},
     "output_type": "execute_result"
    }
   ],
   "source": [
    "p2=filter(checkprime,range(2,30))\n",
    "list(p2)"
   ]
  },
  {
   "cell_type": "code",
   "execution_count": null,
   "id": "6f1e0816-7521-4ff4-bb71-df587d9d6618",
   "metadata": {},
   "outputs": [],
   "source": [
    "#zip is  a special function- generator-zip(<c1>,<c2>)"
   ]
  },
  {
   "cell_type": "code",
   "execution_count": 38,
   "id": "602bacda-332c-44aa-86ae-1371da7e9b9b",
   "metadata": {},
   "outputs": [
    {
     "data": {
      "text/plain": [
       "<zip at 0x1ee82f34280>"
      ]
     },
     "execution_count": 38,
     "metadata": {},
     "output_type": "execute_result"
    }
   ],
   "source": [
    "A=[\"RED\",\"BLUE\",\"WHITE\"]\n",
    "B=[1,2,3]\n",
    "zip(A,B)"
   ]
  },
  {
   "cell_type": "code",
   "execution_count": 40,
   "id": "f6c71199-3158-4b2a-93d4-ecc496d39d8e",
   "metadata": {},
   "outputs": [
    {
     "data": {
      "text/plain": [
       "[('RED', 1), ('BLUE', 2), ('WHITE', 3)]"
      ]
     },
     "execution_count": 40,
     "metadata": {},
     "output_type": "execute_result"
    }
   ],
   "source": [
    "list(zip(A,B))  #merge or combine both lists in  single unit list with (),putput is list"
   ]
  },
  {
   "cell_type": "code",
   "execution_count": 42,
   "id": "c14283c2-d7bb-4e05-aac0-9b89596fb243",
   "metadata": {},
   "outputs": [
    {
     "data": {
      "text/plain": [
       "zip"
      ]
     },
     "execution_count": 42,
     "metadata": {},
     "output_type": "execute_result"
    }
   ],
   "source": [
    "type(zip(A,B))"
   ]
  },
  {
   "cell_type": "code",
   "execution_count": 43,
   "id": "69ffec08-de8d-46ff-8575-d7c313f54209",
   "metadata": {},
   "outputs": [],
   "source": [
    "z=zip(A,B)"
   ]
  },
  {
   "cell_type": "code",
   "execution_count": 44,
   "id": "020598aa-048d-4e36-af1d-27da556b3985",
   "metadata": {},
   "outputs": [
    {
     "data": {
      "text/plain": [
       "{'RED': 1, 'BLUE': 2, 'WHITE': 3}"
      ]
     },
     "execution_count": 44,
     "metadata": {},
     "output_type": "execute_result"
    }
   ],
   "source": [
    "dict(z)  #convert list into dictionary"
   ]
  },
  {
   "cell_type": "markdown",
   "id": "310a653a-7a35-494c-8789-68afd2287425",
   "metadata": {},
   "source": [
    "# sort function with keys"
   ]
  },
  {
   "cell_type": "code",
   "execution_count": 45,
   "id": "85cda38f-4368-4b5f-891f-9ca40d9271de",
   "metadata": {},
   "outputs": [],
   "source": [
    "L=[(\"apples\",25),(\"cherries\",5),(\"banana\",30)]  #inside tuples in a list"
   ]
  },
  {
   "cell_type": "code",
   "execution_count": 47,
   "id": "4ba120bb-ec62-456f-a396-bc58b14f60e4",
   "metadata": {},
   "outputs": [],
   "source": [
    "L.sort()  #sort it acc to alphabet,by defualt it will sort based on first element in that list."
   ]
  },
  {
   "cell_type": "code",
   "execution_count": 48,
   "id": "1ab534b1-69b5-4730-a7d1-7667bf7de0cd",
   "metadata": {},
   "outputs": [
    {
     "data": {
      "text/plain": [
       "[('apples', 25), ('banana', 30), ('cherries', 5)]"
      ]
     },
     "execution_count": 48,
     "metadata": {},
     "output_type": "execute_result"
    }
   ],
   "source": [
    "L"
   ]
  },
  {
   "cell_type": "code",
   "execution_count": null,
   "id": "2dd21f3e-18e6-482c-8503-0d2bc4ffab30",
   "metadata": {},
   "outputs": [],
   "source": [
    "#key ->with respect to what should you sort, by defualt it is the first available element"
   ]
  },
  {
   "cell_type": "code",
   "execution_count": 49,
   "id": "b90e12f0-ed16-4ca9-a94d-1b3305300977",
   "metadata": {},
   "outputs": [],
   "source": [
    "L.sort(key=lambda e:e[1]) # SORT acc to values ascending order ,take first index[e 1] - 25, 30,5, accesss each elements by var e."
   ]
  },
  {
   "cell_type": "code",
   "execution_count": 50,
   "id": "f6a00d7f-1efe-4d56-bdf7-58c84dc84041",
   "metadata": {},
   "outputs": [
    {
     "data": {
      "text/plain": [
       "[('cherries', 5), ('apples', 25), ('banana', 30)]"
      ]
     },
     "execution_count": 50,
     "metadata": {},
     "output_type": "execute_result"
    }
   ],
   "source": [
    "L"
   ]
  },
  {
   "cell_type": "code",
   "execution_count": 2,
   "id": "64872cd3-ee51-4200-8b92-e928903f4bc6",
   "metadata": {},
   "outputs": [],
   "source": [
    "L=[(\"apples\",25),(\"cherries\",5),(\"banana\",30)] \n",
    "L.sort(key=lambda a:a[0][1])  # two alphabets checked,it sorted based on first two indexes-> two values 0 th 1 st abcd.what u should sort."
   ]
  },
  {
   "cell_type": "code",
   "execution_count": 3,
   "id": "e602dc52-7ddc-4f05-a812-d30d769e057e",
   "metadata": {},
   "outputs": [
    {
     "data": {
      "text/plain": [
       "[('banana', 30), ('cherries', 5), ('apples', 25)]"
      ]
     },
     "execution_count": 3,
     "metadata": {},
     "output_type": "execute_result"
    }
   ],
   "source": [
    "L"
   ]
  },
  {
   "cell_type": "markdown",
   "id": "57c47c03-7fd5-4a27-8173-1c6865e29589",
   "metadata": {},
   "source": [
    "#sorting key-what u should sort"
   ]
  },
  {
   "cell_type": "code",
   "execution_count": 13,
   "id": "cbb433ff-b6b9-4625-aebc-305baadc08f4",
   "metadata": {},
   "outputs": [
    {
     "data": {
      "text/plain": [
       "[[7, 4, 5], [0, 6, 7], [1, 7, 3]]"
      ]
     },
     "execution_count": 13,
     "metadata": {},
     "output_type": "execute_result"
    }
   ],
   "source": [
    "L=[[1,7,3],[7,4,5,],[0,6,7]]\n",
    "L.sort(key=lambda i:i[1])  #HERE WE CANNOT USE i[0][1] ---USED SORT.sort BASED ON 2ND ELEMENT IN EACH List[7][4][6]--based on this\n",
    "L"
   ]
  },
  {
   "cell_type": "code",
   "execution_count": 14,
   "id": "c3df2b73-1bb5-457f-a0a6-ef8a57a69d71",
   "metadata": {},
   "outputs": [
    {
     "data": {
      "text/plain": [
       "6"
      ]
     },
     "execution_count": 14,
     "metadata": {},
     "output_type": "execute_result"
    }
   ],
   "source": [
    "L[1][1]"
   ]
  },
  {
   "cell_type": "code",
   "execution_count": 15,
   "id": "63864908-60b4-44a9-9a60-e486bdf62166",
   "metadata": {},
   "outputs": [
    {
     "data": {
      "text/plain": [
       "7"
      ]
     },
     "execution_count": 15,
     "metadata": {},
     "output_type": "execute_result"
    }
   ],
   "source": [
    "L[0][0]  "
   ]
  },
  {
   "cell_type": "code",
   "execution_count": 28,
   "id": "8c5782d4-be45-40a3-a441-a3367ee79062",
   "metadata": {},
   "outputs": [
    {
     "name": "stdout",
     "output_type": "stream",
     "text": [
      "[1, 2, 3, 4]\n"
     ]
    }
   ],
   "source": [
    "def flattened(l):\n",
    "    temp = []\n",
    "    for x in l:\n",
    "        if isinstance(x, list):\n",
    "            for y in x:\n",
    "                temp.append(y)\n",
    "        else:\n",
    "            temp.append(x)\n",
    "    return temp\n",
    "\n",
    "# Example usage\n",
    "l = [1, 2, [3, 4]]\n",
    "print(flattened(l))  # Output: [1, 2, 3, 4]"
   ]
  },
  {
   "cell_type": "code",
   "execution_count": null,
   "id": "d9760d17-81f0-4a57-9157-8392a294632b",
   "metadata": {},
   "outputs": [],
   "source": []
  }
 ],
 "metadata": {
  "kernelspec": {
   "display_name": "Python 3 (ipykernel)",
   "language": "python",
   "name": "python3"
  },
  "language_info": {
   "codemirror_mode": {
    "name": "ipython",
    "version": 3
   },
   "file_extension": ".py",
   "mimetype": "text/x-python",
   "name": "python",
   "nbconvert_exporter": "python",
   "pygments_lexer": "ipython3",
   "version": "3.12.4"
  }
 },
 "nbformat": 4,
 "nbformat_minor": 5
}
